{
 "cells": [
  {
   "cell_type": "markdown",
   "metadata": {},
   "source": [
    "# DataSource\n",
    "\n",
    "Node definition for defining access and structure of data sources. The base class for data sources is `podpac.data.DataSource`.\n",
    "\n",
    "The child class must implement the method `get_data`.\n",
    "This method defines how to select data from the source given input PODPAC Coordinates.\n",
    "\n",
    "The child class often implements the method `get_native_coordinates`.\n",
    "This method defines defines how to select the native coordinates from the source and returns PODPAC Coordinates."
   ]
  },
  {
   "cell_type": "markdown",
   "metadata": {},
   "source": [
    "## Array Example"
   ]
  },
  {
   "cell_type": "code",
   "execution_count": 1,
   "metadata": {},
   "outputs": [
    {
     "name": "stderr",
     "output_type": "stream",
     "text": [
      "D:\\podpac-1.2.0\\miniconda\\envs\\podpac\\lib\\site-packages\\xarray\\core\\merge.py:17: FutureWarning: The Panel class is removed from pandas. Accessing it from the top-level namespace will also be removed in the next version\n",
      "  PANDAS_TYPES = (pd.Series, pd.DataFrame, pd.Panel)\n"
     ]
    }
   ],
   "source": [
    "from podpac.data import DataSource\n",
    "from podpac import Coordinates\n",
    "import traitlets as tl     # traitlets is used to enforce types\n",
    "import numpy as np\n",
    "\n",
    "class MyDataType(DataSource):\n",
    "    \n",
    "    source = tl.Instance(np.ndarray)   # input \"source\" to this data type must be a numpy ndarray\n",
    "                                       # DataSource includes input \"native_coordinates\" and enforces Coordinates type\n",
    "\n",
    "    def get_data(self, coordinates, coordinates_index):\n",
    "        # this will run when the node is evaluated\n",
    "        \n",
    "        # use the index of the coordinates to select data from the \"source\"\n",
    "        idx = coordinates_index\n",
    "        data = self.source[idx]\n",
    "        \n",
    "        # Create a UnitsDataArray from coordinates and data from \"source\"\n",
    "        uda = self.create_output_array(coordinates, data=data)\n",
    "        \n",
    "        return uda"
   ]
  },
  {
   "cell_type": "code",
   "execution_count": 2,
   "metadata": {},
   "outputs": [
    {
     "data": {
      "text/plain": [
       "MyDataType DataSource\n",
       "\tsource: \n",
       "[[0.96332487 0.16335393 0.75250187 0.17566896 0.09776644]\n",
       " [0.35994765 0.12438498 0.877723   0.03818145 0.68545016]\n",
       " [0.56152435 0.74597428 0.04444505 0.11934192 0.12476705]\n",
       " [0.72139765 0.68078925 0.75720664 0.81454412 0.22870139]\n",
       " [0.15947734 0.89246003 0.99208916 0.34498032 0.39404208]]\n",
       "\tnative_coordinates: \n",
       "\t\tlat: ArrayCoordinates1d(lat): Bounds[0.0, 5.0], N[5], ctype['midpoint']\n",
       "\t\tlon: ArrayCoordinates1d(lon): Bounds[0.0, 5.0], N[5], ctype['midpoint']\n",
       "\tinterpolation: nearest"
      ]
     },
     "execution_count": 2,
     "metadata": {},
     "output_type": "execute_result"
    }
   ],
   "source": [
    "# make a node from your DataSource\n",
    "data = np.random.rand(5, 5)   # random 5x5 grid of data\n",
    "native_coordinates = Coordinates([np.linspace(0, 5, 5), np.linspace(0, 5, 5)], dims=['lat', 'lon'])\n",
    "\n",
    "node = MyDataType(source=data, native_coordinates=native_coordinates)\n",
    "node"
   ]
  },
  {
   "cell_type": "code",
   "execution_count": 3,
   "metadata": {},
   "outputs": [
    {
     "data": {
      "text/plain": [
       "<xarray.UnitsDataArray (lat: 3, lon: 3)>\n",
       "array([[0.963325, 0.163354, 0.752502],\n",
       "       [0.359948, 0.124385, 0.877723],\n",
       "       [0.561524, 0.745974, 0.044445]])\n",
       "Coordinates:\n",
       "  * lat      (lat) float64 0.0 1.0 2.0\n",
       "  * lon      (lon) float64 0.0 1.0 2.0\n",
       "Attributes:\n",
       "    layer_style:  <podpac.core.style.Style object at 0x00000158777111D0>\n",
       "    crs:          EPSG:4326"
      ]
     },
     "execution_count": 3,
     "metadata": {},
     "output_type": "execute_result"
    }
   ],
   "source": [
    "# evaluate the node at coordinates in the top left of the grid\n",
    "coords = Coordinates([[0, 1, 2], [0, 1, 2]], dims=['lat', 'lon'])\n",
    "output = node.eval(coords)\n",
    "output"
   ]
  },
  {
   "cell_type": "markdown",
   "metadata": {},
   "source": [
    "## DataFrame Example"
   ]
  },
  {
   "cell_type": "code",
   "execution_count": 4,
   "metadata": {},
   "outputs": [],
   "source": [
    "from podpac.data import DataSource\n",
    "from podpac import Coordinates\n",
    "\n",
    "import traitlets as tl     # traitlets is used to enforce types\n",
    "import numpy as np\n",
    "import pandas as pd\n",
    "\n",
    "class OtherType(DataSource):\n",
    "    \n",
    "    source = tl.Instance(pd.DataFrame)   # input \"source\" to this data type must be a pandas DataFrame\n",
    "    lat_key = tl.Unicode()               # where to find \"lat\" data in this dataframe\n",
    "    lon_key = tl.Unicode()               # where to find \"lon\" in this dataframe\n",
    "    data_key = tl.Unicode()              # where to find specific data of interest in this dataframe\n",
    "    \n",
    "    def get_native_coordinates(self):\n",
    "        # this will return native coordinates as a podpac.Coordinates class\n",
    "        \n",
    "        lat = self.source[self.lat_key]\n",
    "        lon = self.source[self.lon_key]\n",
    "        \n",
    "        # since this is tabular dat, our coordinates are point data, or \"stacked\"\n",
    "        # in podpac we use the \"_\" to refer to stacked coordinates\n",
    "        return Coordinates([(lat, lon)], dims=['lat_lon'])\n",
    "    \n",
    "    \n",
    "    def get_data(self, coordinates, coordinates_index):\n",
    "        # this will run when the node is evaluated\n",
    "        \n",
    "        # use the index of the coordinates to select data from the \"source\"\n",
    "        idx = coordinates_index\n",
    "        data = self.source[self.data_key].iloc[idx]\n",
    "        \n",
    "        # Create a UnitsDataArray from coordinates and data from \"source\"\n",
    "        uda = self.create_output_array(coordinates, data=data)\n",
    "        \n",
    "        return uda"
   ]
  },
  {
   "cell_type": "code",
   "execution_count": 5,
   "metadata": {},
   "outputs": [
    {
     "data": {
      "text/plain": [
       "OtherType DataSource\n",
       "\tsource: \n",
       "     values  lon_val  lat_val\n",
       "0  0.610938     0.00     0.00\n",
       "1  0.819080     1.25     1.25\n",
       "2  0.894688     2.50     2.50\n",
       "3  0.968428     3.75     3.75\n",
       "4  0.536356     5.00     5.00\n",
       "\tinterpolation: nearest"
      ]
     },
     "execution_count": 5,
     "metadata": {},
     "output_type": "execute_result"
    }
   ],
   "source": [
    "# make a node from your DataSource\n",
    "data = pd.DataFrame(data={\n",
    "    'values': np.random.rand(5),\n",
    "    'lon_val': np.linspace(0, 5, 5),\n",
    "    'lat_val': np.linspace(0, 5, 5)\n",
    "})\n",
    "\n",
    "node = OtherType(source=data,\n",
    "                 lat_key='lat_val',\n",
    "                 lon_key='lon_val',\n",
    "                 data_key='values'\n",
    "                )\n",
    "node"
   ]
  },
  {
   "cell_type": "code",
   "execution_count": 6,
   "metadata": {},
   "outputs": [
    {
     "data": {
      "text/plain": [
       "<xarray.UnitsDataArray (lat_lon: 3)>\n",
       "array([0.610938, 0.81908 , 0.894688])\n",
       "Coordinates:\n",
       "  * lat_lon  (lat_lon) MultiIndex\n",
       "  - lat      (lat_lon) float64 0.0 1.0 2.0\n",
       "  - lon      (lat_lon) float64 0.0 1.0 2.0\n",
       "Attributes:\n",
       "    layer_style:  <podpac.core.style.Style object at 0x0000015877798F60>\n",
       "    crs:          EPSG:4326"
      ]
     },
     "execution_count": 6,
     "metadata": {},
     "output_type": "execute_result"
    }
   ],
   "source": [
    "# evaluate the node at coordinates in the top left of the grid\n",
    "coords = Coordinates([([0, 1, 2], [0, 1, 2])], dims=['lat_lon'])\n",
    "output = node.eval(coords)\n",
    "output"
   ]
  }
 ],
 "metadata": {
  "kernelspec": {
   "display_name": "Python 3",
   "language": "python",
   "name": "python3"
  },
  "language_info": {
   "codemirror_mode": {
    "name": "ipython",
    "version": 3
   },
   "file_extension": ".py",
   "mimetype": "text/x-python",
   "name": "python",
   "nbconvert_exporter": "python",
   "pygments_lexer": "ipython3",
   "version": "3.7.3"
  }
 },
 "nbformat": 4,
 "nbformat_minor": 4
}
