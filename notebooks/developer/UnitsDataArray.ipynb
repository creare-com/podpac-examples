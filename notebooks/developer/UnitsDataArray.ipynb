{
 "cells": [
  {
   "cell_type": "markdown",
   "metadata": {},
   "source": [
    "# UnitsDataArray"
   ]
  },
  {
   "cell_type": "markdown",
   "metadata": {},
   "source": [
    "UnitsDataArray is the main ouput container for evaluated nodes in PODPAC.\n",
    "UnitsDataArray is a wrapper around [xarray DataArray](http://xarray.pydata.org/en/stable/generated/xarray.DataArray.html)"
   ]
  },
  {
   "cell_type": "code",
   "execution_count": 1,
   "metadata": {},
   "outputs": [],
   "source": [
    "import numpy as np\n",
    "from podpac import Node, Coordinates"
   ]
  },
  {
   "cell_type": "code",
   "execution_count": 2,
   "metadata": {},
   "outputs": [
    {
     "data": {
      "text/plain": [
       "<xarray.UnitsDataArray (lat: 5, lon: 5)>\n",
       "array([[0.094212, 0.214512, 0.313036, 0.299174, 0.665958],\n",
       "       [0.109673, 0.465173, 0.653248, 0.755384, 0.718834],\n",
       "       [0.961505, 0.885992, 0.366108, 0.713193, 0.883381],\n",
       "       [0.343923, 0.635124, 0.951633, 0.555101, 0.71875 ],\n",
       "       [0.030709, 0.682862, 0.444499, 0.688995, 0.372793]])\n",
       "Coordinates:\n",
       "  * lat      (lat) float64 -10.0 -5.0 0.0 5.0 10.0\n",
       "  * lon      (lon) float64 -10.0 -5.0 0.0 5.0 10.0\n",
       "Attributes:\n",
       "    layer_style:  <podpac.core.style.Style object at 0x000001EC4B68DCC0>\n",
       "    units:        None"
      ]
     },
     "execution_count": 2,
     "metadata": {},
     "output_type": "execute_result"
    }
   ],
   "source": [
    "# create an empty note, then use the convience method `create_output_array` to create\n",
    "# an output array with data at specific Coordinates\n",
    "node = Node()\n",
    "data = np.random.rand(5, 5)\n",
    "coords = Coordinates([np.linspace(-10, 10, 5), np.linspace(-10, 10, 5)], ['lat', 'lon'])\n",
    "units_data_array = node.create_output_array(coords, data=data)\n",
    "\n",
    "units_data_array"
   ]
  },
  {
   "cell_type": "code",
   "execution_count": 3,
   "metadata": {},
   "outputs": [
    {
     "data": {
      "text/plain": [
       "array([[0.09421208, 0.21451178, 0.31303609, 0.29917409, 0.66595812],\n",
       "       [0.10967306, 0.46517254, 0.65324831, 0.75538382, 0.71883384],\n",
       "       [0.96150549, 0.88599172, 0.36610752, 0.7131931 , 0.88338075],\n",
       "       [0.34392339, 0.63512361, 0.95163349, 0.55510127, 0.71874992],\n",
       "       [0.03070929, 0.68286245, 0.4444994 , 0.68899471, 0.37279334]])"
      ]
     },
     "execution_count": 3,
     "metadata": {},
     "output_type": "execute_result"
    }
   ],
   "source": [
    "# get data values\n",
    "units_data_array.values\n",
    "\n",
    "# or equivalently\n",
    "# units_data_array.data"
   ]
  },
  {
   "cell_type": "code",
   "execution_count": 4,
   "metadata": {},
   "outputs": [
    {
     "data": {
      "text/plain": [
       "<xarray.UnitsDataArray (lon: 5)>\n",
       "array([0.094212, 0.214512, 0.313036, 0.299174, 0.665958])\n",
       "Coordinates:\n",
       "    lat      float64 -10.0\n",
       "  * lon      (lon) float64 -10.0 -5.0 0.0 5.0 10.0\n",
       "Attributes:\n",
       "    layer_style:  <podpac.core.style.Style object at 0x000001EC4B68DCC0>\n",
       "    units:        None"
      ]
     },
     "execution_count": 4,
     "metadata": {},
     "output_type": "execute_result"
    }
   ],
   "source": [
    "# get data values by coordinate value\n",
    "units_data_array.loc[-10]"
   ]
  },
  {
   "cell_type": "code",
   "execution_count": 5,
   "metadata": {},
   "outputs": [
    {
     "name": "stdout",
     "output_type": "stream",
     "text": [
      "<class 'xarray.core.coordinates.DataArrayCoordinates'>\n"
     ]
    },
    {
     "data": {
      "text/plain": [
       "Coordinates:\n",
       "  * lat      (lat) float64 -10.0 -5.0 0.0 5.0 10.0\n",
       "  * lon      (lon) float64 -10.0 -5.0 0.0 5.0 10.0"
      ]
     },
     "execution_count": 5,
     "metadata": {},
     "output_type": "execute_result"
    }
   ],
   "source": [
    "# get xarray coordinates\n",
    "print(type(units_data_array.coords))\n",
    "units_data_array.coords"
   ]
  },
  {
   "cell_type": "code",
   "execution_count": 6,
   "metadata": {},
   "outputs": [
    {
     "data": {
      "text/plain": [
       "<xarray.UnitsDataArray 'lat' (lat: 5)>\n",
       "array([-10.,  -5.,   0.,   5.,  10.])\n",
       "Coordinates:\n",
       "  * lat      (lat) float64 -10.0 -5.0 0.0 5.0 10.0"
      ]
     },
     "execution_count": 6,
     "metadata": {},
     "output_type": "execute_result"
    }
   ],
   "source": [
    "# get individual xarray coordinates\n",
    "units_data_array.coords['lat']\n",
    "\n",
    "# or equivalently:\n",
    "# units_data_array['lat']"
   ]
  },
  {
   "cell_type": "code",
   "execution_count": 7,
   "metadata": {},
   "outputs": [
    {
     "data": {
      "text/plain": [
       "array([-10.,  -5.,   0.,   5.,  10.])"
      ]
     },
     "execution_count": 7,
     "metadata": {},
     "output_type": "execute_result"
    }
   ],
   "source": [
    "# get individual xarray coordinate values\n",
    "units_data_array.coords['lat'].values\n",
    "\n",
    "# or equivalently:\n",
    "# units_data_array.coords['lat'].data\n",
    "# units_data_array['lat'].values\n",
    "# units_data_array['lat'].data"
   ]
  },
  {
   "cell_type": "code",
   "execution_count": 8,
   "metadata": {},
   "outputs": [
    {
     "data": {
      "text/plain": [
       "('lat', 'lon')"
      ]
     },
     "execution_count": 8,
     "metadata": {},
     "output_type": "execute_result"
    }
   ],
   "source": [
    "# get the dimensions of the DataArray\n",
    "units_data_array.dims"
   ]
  },
  {
   "cell_type": "markdown",
   "metadata": {},
   "source": [
    "### Stacked Coordinates"
   ]
  },
  {
   "cell_type": "code",
   "execution_count": 9,
   "metadata": {},
   "outputs": [
    {
     "data": {
      "text/plain": [
       "<xarray.UnitsDataArray (lat_lon: 5)>\n",
       "array([0.241324, 0.042525, 0.896666, 0.947253, 0.402767])\n",
       "Coordinates:\n",
       "  * lat_lon  (lat_lon) MultiIndex\n",
       "  - lat      (lat_lon) float64 -10.0 -5.0 0.0 5.0 10.0\n",
       "  - lon      (lat_lon) float64 -10.0 -5.0 0.0 5.0 10.0\n",
       "Attributes:\n",
       "    layer_style:  <podpac.core.style.Style object at 0x000001EC4B68DDD8>\n",
       "    units:        None"
      ]
     },
     "execution_count": 9,
     "metadata": {},
     "output_type": "execute_result"
    }
   ],
   "source": [
    "# create an empty note, then use the convience method `create_output_array` to create\n",
    "# an output array with data at specific Coordinates\n",
    "node = Node()\n",
    "data = np.random.rand(5)\n",
    "coords = Coordinates([(np.linspace(-10, 10, 5), np.linspace(-10, 10, 5))], ['lat_lon'])\n",
    "\n",
    "units_data_array = node.create_output_array(coords, data=data)\n",
    "\n",
    "units_data_array"
   ]
  },
  {
   "cell_type": "code",
   "execution_count": 10,
   "metadata": {},
   "outputs": [
    {
     "name": "stdout",
     "output_type": "stream",
     "text": [
      "<class 'xarray.core.coordinates.DataArrayCoordinates'>\n"
     ]
    },
    {
     "data": {
      "text/plain": [
       "Coordinates:\n",
       "  * lat_lon  (lat_lon) MultiIndex\n",
       "  - lat      (lat_lon) float64 -10.0 -5.0 0.0 5.0 10.0\n",
       "  - lon      (lat_lon) float64 -10.0 -5.0 0.0 5.0 10.0"
      ]
     },
     "execution_count": 10,
     "metadata": {},
     "output_type": "execute_result"
    }
   ],
   "source": [
    "# get xarray coordinates\n",
    "print(type(units_data_array.coords))\n",
    "units_data_array.coords"
   ]
  },
  {
   "cell_type": "code",
   "execution_count": 11,
   "metadata": {},
   "outputs": [
    {
     "data": {
      "text/plain": [
       "('lat_lon',)"
      ]
     },
     "execution_count": 11,
     "metadata": {},
     "output_type": "execute_result"
    }
   ],
   "source": [
    "# get the dimensions of the DataArray\n",
    "units_data_array.dims"
   ]
  }
 ],
 "metadata": {
  "kernelspec": {
   "display_name": "Python 3",
   "language": "python",
   "name": "python3"
  },
  "language_info": {
   "codemirror_mode": {
    "name": "ipython",
    "version": 3
   },
   "file_extension": ".py",
   "mimetype": "text/x-python",
   "name": "python",
   "nbconvert_exporter": "python",
   "pygments_lexer": "ipython3",
   "version": "3.6.3"
  }
 },
 "nbformat": 4,
 "nbformat_minor": 2
}
