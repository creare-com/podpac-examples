{
 "cells": [
  {
   "cell_type": "markdown",
   "metadata": {},
   "source": [
    "# UnitsDataArray"
   ]
  },
  {
   "cell_type": "markdown",
   "metadata": {},
   "source": [
    "UnitsDataArray is the main ouput container for evaluated nodes in PODPAC.\n",
    "UnitsDataArray is a wrapper around [xarray DataArray](http://xarray.pydata.org/en/stable/generated/xarray.DataArray.html)"
   ]
  },
  {
   "cell_type": "code",
   "execution_count": 1,
   "metadata": {},
   "outputs": [],
   "source": [
    "import numpy as np\n",
    "from podpac import Node, Coordinates"
   ]
  },
  {
   "cell_type": "code",
   "execution_count": 2,
   "metadata": {},
   "outputs": [
    {
     "data": {
      "text/plain": [
       "<xarray.UnitsDataArray (lat: 5, lon: 5)>\n",
       "array([[0.53787 , 0.81529 , 0.390143, 0.603575, 0.584164],\n",
       "       [0.586335, 0.260835, 0.519169, 0.434898, 0.784125],\n",
       "       [0.758956, 0.961084, 0.402557, 0.38513 , 0.318223],\n",
       "       [0.957541, 0.407683, 0.802978, 0.469193, 0.096684],\n",
       "       [0.114779, 0.964258, 0.493893, 0.762606, 0.256869]])\n",
       "Coordinates:\n",
       "  * lat      (lat) float64 -10.0 -5.0 0.0 5.0 10.0\n",
       "  * lon      (lon) float64 -10.0 -5.0 0.0 5.0 10.0\n",
       "Attributes:\n",
       "    layer_style:  <podpac.core.style.Style object at 0x00000199AAF19C88>\n",
       "    units:        None"
      ]
     },
     "execution_count": 2,
     "metadata": {},
     "output_type": "execute_result"
    }
   ],
   "source": [
    "# create an empty note, then use the convience method `create_output_array` to create\n",
    "# an output array with data at specific Coordinates\n",
    "node = Node()\n",
    "data = np.random.rand(5, 5)\n",
    "coords = Coordinates([np.linspace(-10, 10, 5), np.linspace(-10, 10, 5)], ['lat', 'lon'])\n",
    "units_data_array = node.create_output_array(coords, data=data)\n",
    "\n",
    "units_data_array"
   ]
  },
  {
   "cell_type": "code",
   "execution_count": 3,
   "metadata": {},
   "outputs": [
    {
     "data": {
      "text/plain": [
       "array([[0.53786977, 0.81528998, 0.39014277, 0.60357549, 0.58416434],\n",
       "       [0.58633472, 0.26083465, 0.51916889, 0.43489765, 0.78412549],\n",
       "       [0.75895623, 0.96108399, 0.40255681, 0.38513008, 0.31822291],\n",
       "       [0.95754052, 0.40768338, 0.80297768, 0.46919321, 0.09668368],\n",
       "       [0.11477894, 0.96425813, 0.4938934 , 0.76260572, 0.25686891]])"
      ]
     },
     "execution_count": 3,
     "metadata": {},
     "output_type": "execute_result"
    }
   ],
   "source": [
    "# get data values\n",
    "units_data_array.values\n",
    "\n",
    "# or equivalently\n",
    "# units_data_array.data"
   ]
  },
  {
   "cell_type": "code",
   "execution_count": 4,
   "metadata": {},
   "outputs": [
    {
     "data": {
      "text/plain": [
       "<xarray.UnitsDataArray (lon: 5)>\n",
       "array([0.53787 , 0.81529 , 0.390143, 0.603575, 0.584164])\n",
       "Coordinates:\n",
       "    lat      float64 -10.0\n",
       "  * lon      (lon) float64 -10.0 -5.0 0.0 5.0 10.0\n",
       "Attributes:\n",
       "    layer_style:  <podpac.core.style.Style object at 0x00000199AAF19C88>\n",
       "    units:        None"
      ]
     },
     "execution_count": 4,
     "metadata": {},
     "output_type": "execute_result"
    }
   ],
   "source": [
    "# get data values by coordinate value\n",
    "units_data_array.loc[-10]"
   ]
  },
  {
   "cell_type": "code",
   "execution_count": 5,
   "metadata": {},
   "outputs": [
    {
     "name": "stdout",
     "output_type": "stream",
     "text": [
      "<class 'xarray.core.coordinates.DataArrayCoordinates'>\n"
     ]
    },
    {
     "data": {
      "text/plain": [
       "Coordinates:\n",
       "  * lat      (lat) float64 -10.0 -5.0 0.0 5.0 10.0\n",
       "  * lon      (lon) float64 -10.0 -5.0 0.0 5.0 10.0"
      ]
     },
     "execution_count": 5,
     "metadata": {},
     "output_type": "execute_result"
    }
   ],
   "source": [
    "# get xarray coordinates\n",
    "print(type(units_data_array.coords))\n",
    "units_data_array.coords"
   ]
  },
  {
   "cell_type": "code",
   "execution_count": 6,
   "metadata": {},
   "outputs": [
    {
     "data": {
      "text/plain": [
       "<xarray.UnitsDataArray 'lat' (lat: 5)>\n",
       "array([-10.,  -5.,   0.,   5.,  10.])\n",
       "Coordinates:\n",
       "  * lat      (lat) float64 -10.0 -5.0 0.0 5.0 10.0"
      ]
     },
     "execution_count": 6,
     "metadata": {},
     "output_type": "execute_result"
    }
   ],
   "source": [
    "# get individual xarray coordinates\n",
    "units_data_array.coords['lat']\n",
    "\n",
    "# or equivalently:\n",
    "# units_data_array['lat']"
   ]
  },
  {
   "cell_type": "code",
   "execution_count": 7,
   "metadata": {},
   "outputs": [
    {
     "data": {
      "text/plain": [
       "array([-10.,  -5.,   0.,   5.,  10.])"
      ]
     },
     "execution_count": 7,
     "metadata": {},
     "output_type": "execute_result"
    }
   ],
   "source": [
    "# get individual xarray coordinate values\n",
    "units_data_array.coords['lat'].values\n",
    "\n",
    "# or equivalently:\n",
    "# units_data_array.coords['lat'].data\n",
    "# units_data_array['lat'].values\n",
    "# units_data_array['lat'].data"
   ]
  },
  {
   "cell_type": "code",
   "execution_count": 8,
   "metadata": {},
   "outputs": [
    {
     "data": {
      "text/plain": [
       "('lat', 'lon')"
      ]
     },
     "execution_count": 8,
     "metadata": {},
     "output_type": "execute_result"
    }
   ],
   "source": [
    "# get the dimensions of the DataArray\n",
    "units_data_array.dims"
   ]
  },
  {
   "cell_type": "markdown",
   "metadata": {},
   "source": [
    "### Stacked Coordinates"
   ]
  },
  {
   "cell_type": "code",
   "execution_count": 9,
   "metadata": {},
   "outputs": [
    {
     "data": {
      "text/plain": [
       "<xarray.UnitsDataArray (lat_lon: 5)>\n",
       "array([0.239107, 0.345053, 0.132429, 0.639659, 0.315308])\n",
       "Coordinates:\n",
       "  * lat_lon  (lat_lon) MultiIndex\n",
       "  - lat      (lat_lon) float64 -10.0 -5.0 0.0 5.0 10.0\n",
       "  - lon      (lat_lon) float64 -10.0 -5.0 0.0 5.0 10.0\n",
       "Attributes:\n",
       "    layer_style:  <podpac.core.style.Style object at 0x00000199AAF19EF0>\n",
       "    units:        None"
      ]
     },
     "execution_count": 9,
     "metadata": {},
     "output_type": "execute_result"
    }
   ],
   "source": [
    "# create an empty note, then use the convience method `create_output_array` to create\n",
    "# an output array with data at specific Coordinates\n",
    "node = Node()\n",
    "data = np.random.rand(5)\n",
    "coords = Coordinates([(np.linspace(-10, 10, 5), np.linspace(-10, 10, 5))], ['lat_lon'])\n",
    "\n",
    "units_data_array = node.create_output_array(coords, data=data)\n",
    "\n",
    "units_data_array"
   ]
  },
  {
   "cell_type": "code",
   "execution_count": 10,
   "metadata": {},
   "outputs": [
    {
     "name": "stdout",
     "output_type": "stream",
     "text": [
      "<class 'xarray.core.coordinates.DataArrayCoordinates'>\n"
     ]
    },
    {
     "data": {
      "text/plain": [
       "Coordinates:\n",
       "  * lat_lon  (lat_lon) MultiIndex\n",
       "  - lat      (lat_lon) float64 -10.0 -5.0 0.0 5.0 10.0\n",
       "  - lon      (lat_lon) float64 -10.0 -5.0 0.0 5.0 10.0"
      ]
     },
     "execution_count": 10,
     "metadata": {},
     "output_type": "execute_result"
    }
   ],
   "source": [
    "# get xarray coordinates\n",
    "print(type(units_data_array.coords))\n",
    "units_data_array.coords"
   ]
  },
  {
   "cell_type": "code",
   "execution_count": 11,
   "metadata": {},
   "outputs": [
    {
     "data": {
      "text/plain": [
       "('lat_lon',)"
      ]
     },
     "execution_count": 11,
     "metadata": {},
     "output_type": "execute_result"
    }
   ],
   "source": [
    "# get the dimensions of the DataArray\n",
    "units_data_array.dims"
   ]
  }
 ],
 "metadata": {
  "kernelspec": {
   "display_name": "Python 3",
   "language": "python",
   "name": "python3"
  },
  "language_info": {
   "codemirror_mode": {
    "name": "ipython",
    "version": 3
   },
   "file_extension": ".py",
   "mimetype": "text/x-python",
   "name": "python",
   "nbconvert_exporter": "python",
   "pygments_lexer": "ipython3",
   "version": "3.6.3"
  }
 },
 "nbformat": 4,
 "nbformat_minor": 2
}
