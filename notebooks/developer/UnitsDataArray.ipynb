{
 "cells": [
  {
   "cell_type": "markdown",
   "metadata": {},
   "source": [
    "# UnitsDataArray"
   ]
  },
  {
   "cell_type": "markdown",
   "metadata": {},
   "source": [
    "This example shows how to use the UnitsDataArray object:\n",
    "\n",
    "* UnitsDataArray is the main ouput container for evaluated nodes in PODPAC.\n",
    "* UnitsDataArray is a wrapper around [xarray DataArray](http://xarray.pydata.org/en/stable/generated/xarray.DataArray.html)\n",
    "\n",
    "\n",
    "1. The first section shows the basic usage, which is similar to xarray.DataArray\n",
    "2. The second section shows the added functionality which includes units"
   ]
  },
  {
   "cell_type": "code",
   "execution_count": 1,
   "metadata": {},
   "outputs": [],
   "source": [
    "import numpy as np\n",
    "from podpac import Node, Coordinates"
   ]
  },
  {
   "cell_type": "markdown",
   "metadata": {},
   "source": [
    "## Basic Functionality"
   ]
  },
  {
   "cell_type": "code",
   "execution_count": 2,
   "metadata": {},
   "outputs": [
    {
     "data": {
      "text/plain": [
       "<xarray.UnitsDataArray (lat: 5, lon: 5)>\n",
       "array([[0.06593 , 0.727046, 0.58315 , 0.348207, 0.218971],\n",
       "       [0.699058, 0.415367, 0.041533, 0.183593, 0.658694],\n",
       "       [0.895681, 0.373953, 0.664759, 0.410672, 0.522258],\n",
       "       [0.417362, 0.687666, 0.05125 , 0.409815, 0.998319],\n",
       "       [0.175771, 0.597347, 0.570972, 0.883967, 0.109599]])\n",
       "Coordinates:\n",
       "  * lat      (lat) float64 -10.0 -5.0 0.0 5.0 10.0\n",
       "  * lon      (lon) float64 -10.0 -5.0 0.0 5.0 10.0\n",
       "Attributes:\n",
       "    layer_style:  <podpac.core.style.Style object at 0x00000217313C76A0>\n",
       "    crs:          EPSG:4326"
      ]
     },
     "execution_count": 2,
     "metadata": {},
     "output_type": "execute_result"
    }
   ],
   "source": [
    "# create an empty node, then use the convience method `create_output_array` to create\n",
    "# an output array with data at specific Coordinates\n",
    "node = Node()\n",
    "data = np.random.rand(5, 5)\n",
    "coords = Coordinates([np.linspace(-10, 10, 5), np.linspace(-10, 10, 5)], ['lat', 'lon'])\n",
    "units_data_array = node.create_output_array(coords, data=data)\n",
    "\n",
    "units_data_array"
   ]
  },
  {
   "cell_type": "code",
   "execution_count": 3,
   "metadata": {},
   "outputs": [
    {
     "data": {
      "text/plain": [
       "array([[0.06592974, 0.72704623, 0.58315047, 0.34820719, 0.21897057],\n",
       "       [0.69905807, 0.41536675, 0.04153298, 0.18359331, 0.65869357],\n",
       "       [0.8956807 , 0.37395328, 0.66475943, 0.41067156, 0.52225774],\n",
       "       [0.41736176, 0.6876664 , 0.05125015, 0.40981476, 0.99831898],\n",
       "       [0.1757709 , 0.5973468 , 0.57097168, 0.88396713, 0.10959941]])"
      ]
     },
     "execution_count": 3,
     "metadata": {},
     "output_type": "execute_result"
    }
   ],
   "source": [
    "# get data values\n",
    "units_data_array.values\n",
    "\n",
    "# or equivalently\n",
    "# units_data_array.data"
   ]
  },
  {
   "cell_type": "code",
   "execution_count": 4,
   "metadata": {},
   "outputs": [
    {
     "data": {
      "text/plain": [
       "<xarray.UnitsDataArray (lon: 5)>\n",
       "array([0.06593 , 0.727046, 0.58315 , 0.348207, 0.218971])\n",
       "Coordinates:\n",
       "    lat      float64 -10.0\n",
       "  * lon      (lon) float64 -10.0 -5.0 0.0 5.0 10.0\n",
       "Attributes:\n",
       "    layer_style:  <podpac.core.style.Style object at 0x00000217313C76A0>\n",
       "    crs:          EPSG:4326"
      ]
     },
     "execution_count": 4,
     "metadata": {},
     "output_type": "execute_result"
    }
   ],
   "source": [
    "# get data values by coordinate value\n",
    "units_data_array.loc[-10]"
   ]
  },
  {
   "cell_type": "code",
   "execution_count": 5,
   "metadata": {},
   "outputs": [
    {
     "name": "stdout",
     "output_type": "stream",
     "text": [
      "<class 'xarray.core.coordinates.DataArrayCoordinates'>\n"
     ]
    },
    {
     "data": {
      "text/plain": [
       "Coordinates:\n",
       "  * lat      (lat) float64 -10.0 -5.0 0.0 5.0 10.0\n",
       "  * lon      (lon) float64 -10.0 -5.0 0.0 5.0 10.0"
      ]
     },
     "execution_count": 5,
     "metadata": {},
     "output_type": "execute_result"
    }
   ],
   "source": [
    "# get xarray coordinates\n",
    "print(type(units_data_array.coords))\n",
    "units_data_array.coords"
   ]
  },
  {
   "cell_type": "code",
   "execution_count": 6,
   "metadata": {},
   "outputs": [
    {
     "data": {
      "text/plain": [
       "<xarray.UnitsDataArray 'lat' (lat: 5)>\n",
       "array([-10.,  -5.,   0.,   5.,  10.])\n",
       "Coordinates:\n",
       "  * lat      (lat) float64 -10.0 -5.0 0.0 5.0 10.0"
      ]
     },
     "execution_count": 6,
     "metadata": {},
     "output_type": "execute_result"
    }
   ],
   "source": [
    "# get individual xarray coordinates\n",
    "units_data_array.coords['lat']\n",
    "\n",
    "# or equivalently:\n",
    "# units_data_array['lat']"
   ]
  },
  {
   "cell_type": "code",
   "execution_count": 7,
   "metadata": {},
   "outputs": [
    {
     "data": {
      "text/plain": [
       "array([-10.,  -5.,   0.,   5.,  10.])"
      ]
     },
     "execution_count": 7,
     "metadata": {},
     "output_type": "execute_result"
    }
   ],
   "source": [
    "# get individual xarray coordinate values\n",
    "units_data_array.coords['lat'].values\n",
    "\n",
    "# or equivalently:\n",
    "# units_data_array.coords['lat'].data\n",
    "# units_data_array['lat'].values\n",
    "# units_data_array['lat'].data"
   ]
  },
  {
   "cell_type": "code",
   "execution_count": 8,
   "metadata": {},
   "outputs": [
    {
     "data": {
      "text/plain": [
       "('lat', 'lon')"
      ]
     },
     "execution_count": 8,
     "metadata": {},
     "output_type": "execute_result"
    }
   ],
   "source": [
    "# get the dimensions of the DataArray\n",
    "units_data_array.dims"
   ]
  },
  {
   "cell_type": "markdown",
   "metadata": {},
   "source": [
    "### Stacked Coordinates"
   ]
  },
  {
   "cell_type": "code",
   "execution_count": 9,
   "metadata": {},
   "outputs": [
    {
     "data": {
      "text/plain": [
       "<xarray.UnitsDataArray (lat_lon: 5)>\n",
       "array([0.737009, 0.639034, 0.407546, 0.548552, 0.720742])\n",
       "Coordinates:\n",
       "  * lat_lon  (lat_lon) MultiIndex\n",
       "  - lat      (lat_lon) float64 -10.0 -5.0 0.0 5.0 10.0\n",
       "  - lon      (lat_lon) float64 -10.0 -5.0 0.0 5.0 10.0\n",
       "Attributes:\n",
       "    layer_style:  <podpac.core.style.Style object at 0x00000217313C77B8>\n",
       "    crs:          EPSG:4326"
      ]
     },
     "execution_count": 9,
     "metadata": {},
     "output_type": "execute_result"
    }
   ],
   "source": [
    "# create an empty note, then use the convience method `create_output_array` to create\n",
    "# an output array with data at specific Coordinates\n",
    "node = Node()\n",
    "data = np.random.rand(5)\n",
    "coords = Coordinates([(np.linspace(-10, 10, 5), np.linspace(-10, 10, 5))], ['lat_lon'])\n",
    "\n",
    "units_data_array = node.create_output_array(coords, data=data)\n",
    "\n",
    "units_data_array"
   ]
  },
  {
   "cell_type": "code",
   "execution_count": 10,
   "metadata": {},
   "outputs": [
    {
     "name": "stdout",
     "output_type": "stream",
     "text": [
      "<class 'xarray.core.coordinates.DataArrayCoordinates'>\n"
     ]
    },
    {
     "data": {
      "text/plain": [
       "Coordinates:\n",
       "  * lat_lon  (lat_lon) MultiIndex\n",
       "  - lat      (lat_lon) float64 -10.0 -5.0 0.0 5.0 10.0\n",
       "  - lon      (lat_lon) float64 -10.0 -5.0 0.0 5.0 10.0"
      ]
     },
     "execution_count": 10,
     "metadata": {},
     "output_type": "execute_result"
    }
   ],
   "source": [
    "# get xarray coordinates\n",
    "print(type(units_data_array.coords))\n",
    "units_data_array.coords"
   ]
  },
  {
   "cell_type": "code",
   "execution_count": 11,
   "metadata": {},
   "outputs": [
    {
     "data": {
      "text/plain": [
       "('lat_lon',)"
      ]
     },
     "execution_count": 11,
     "metadata": {},
     "output_type": "execute_result"
    }
   ],
   "source": [
    "# get the dimensions of the DataArray\n",
    "units_data_array.dims"
   ]
  },
  {
   "cell_type": "markdown",
   "metadata": {},
   "source": [
    "## Added Functionality (Units)"
   ]
  },
  {
   "cell_type": "code",
   "execution_count": 39,
   "metadata": {},
   "outputs": [
    {
     "name": "stdout",
     "output_type": "stream",
     "text": [
      "<xarray.UnitsDataArray (alt: 1)>\n",
      "array([1.])\n",
      "Coordinates:\n",
      "  * alt      (alt) float64 0.0\n",
      "Attributes:\n",
      "    layer_style:  <podpac.core.style.Style object at 0x00000217316386A0>\n",
      "    crs:          EPSG:4326\n",
      "    units:        kilogram \n",
      "------------\n",
      " <xarray.UnitsDataArray (alt: 1)>\n",
      "array([1.])\n",
      "Coordinates:\n",
      "  * alt      (alt) float64 0.0\n",
      "Attributes:\n",
      "    layer_style:  <podpac.core.style.Style object at 0x0000021731638E80>\n",
      "    crs:          EPSG:4326\n",
      "    units:        pound\n"
     ]
    }
   ],
   "source": [
    "# Create Nodes to use the convience methods for making units data arrays\n",
    "kgs_node = Node(units='kg')\n",
    "lbs_node = Node(units='lbs')\n",
    "data = np.ones(1)\n",
    "coords = Coordinates([0], ['alt'])\n",
    "\n",
    "# Create units data arrays, each for meters and feet\n",
    "kgs = kgs_node.create_output_array(coords, data=data)\n",
    "lbs = lbs_node.create_output_array(coords, data=data)\n",
    "print (kgs, '\\n------------\\n', lbs)"
   ]
  },
  {
   "cell_type": "code",
   "execution_count": 15,
   "metadata": {},
   "outputs": [
    {
     "data": {
      "text/plain": [
       "<xarray.UnitsDataArray (alt: 1)>\n",
       "array([1.453592])\n",
       "Coordinates:\n",
       "  * alt      (alt) float64 0.0\n",
       "Attributes:\n",
       "    units:    kilogram"
      ]
     },
     "execution_count": 15,
     "metadata": {},
     "output_type": "execute_result"
    }
   ],
   "source": [
    "kgs + lbs"
   ]
  },
  {
   "cell_type": "code",
   "execution_count": 16,
   "metadata": {},
   "outputs": [
    {
     "data": {
      "text/plain": [
       "<xarray.UnitsDataArray (alt: 1)>\n",
       "array([3.204623])\n",
       "Coordinates:\n",
       "  * alt      (alt) float64 0.0\n",
       "Attributes:\n",
       "    units:    pound"
      ]
     },
     "execution_count": 16,
     "metadata": {},
     "output_type": "execute_result"
    }
   ],
   "source": [
    "# Note, order is important: the result here is in pounds instead of kilograms as above\n",
    "lbs + kgs"
   ]
  },
  {
   "cell_type": "code",
   "execution_count": 17,
   "metadata": {},
   "outputs": [
    {
     "data": {
      "text/plain": [
       "<xarray.UnitsDataArray (alt: 1)>\n",
       "array([0.453592])\n",
       "Coordinates:\n",
       "  * alt      (alt) float64 0.0\n",
       "Attributes:\n",
       "    units:    kg"
      ]
     },
     "execution_count": 17,
     "metadata": {},
     "output_type": "execute_result"
    }
   ],
   "source": [
    "# We can convert between the units\n",
    "lbs.to('kg')"
   ]
  },
  {
   "cell_type": "code",
   "execution_count": 22,
   "metadata": {},
   "outputs": [
    {
     "name": "stdout",
     "output_type": "stream",
     "text": [
      "Cannot convert from 'kilogram' ([mass]) to 'pound ** 2' ([mass] ** 2)\n"
     ]
    }
   ],
   "source": [
    "# Incorrect units results in an error\n",
    "try: \n",
    "    lbs ** 2 + kgs\n",
    "except Exception as e: \n",
    "    print(e)"
   ]
  },
  {
   "cell_type": "code",
   "execution_count": 25,
   "metadata": {},
   "outputs": [
    {
     "name": "stdout",
     "output_type": "stream",
     "text": [
      "<xarray.UnitsDataArray (alt: 1)>\n",
      "array([2.])\n",
      "Coordinates:\n",
      "  * alt      (alt) float64 0.0\n"
     ]
    }
   ],
   "source": [
    "# Unless your settings are such that unit checking is not enabled\n",
    "import podpac\n",
    "podpac.settings[\"ENABLE_UNITS\"] = False\n",
    "print (lbs **2 + kgs)\n",
    "podpac.settings[\"ENABLE_UNITS\"] = True"
   ]
  },
  {
   "cell_type": "code",
   "execution_count": 35,
   "metadata": {},
   "outputs": [
    {
     "data": {
      "text/plain": [
       "<xarray.UnitsDataArray ()>\n",
       "array(1.)\n",
       "Attributes:\n",
       "    units:    kilogram"
      ]
     },
     "execution_count": 35,
     "metadata": {},
     "output_type": "execute_result"
    }
   ],
   "source": [
    "# Units are also preserved over statistical operations\n",
    "kgs.min()"
   ]
  },
  {
   "cell_type": "code",
   "execution_count": null,
   "metadata": {},
   "outputs": [],
   "source": []
  }
 ],
 "metadata": {
  "kernelspec": {
   "display_name": "Python 3",
   "language": "python",
   "name": "python3"
  },
  "language_info": {
   "codemirror_mode": {
    "name": "ipython",
    "version": 3
   },
   "file_extension": ".py",
   "mimetype": "text/x-python",
   "name": "python",
   "nbconvert_exporter": "python",
   "pygments_lexer": "ipython3",
   "version": "3.6.6"
  }
 },
 "nbformat": 4,
 "nbformat_minor": 2
}
