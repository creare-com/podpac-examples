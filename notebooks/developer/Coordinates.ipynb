{
 "cells": [
  {
   "cell_type": "code",
   "execution_count": 1,
   "metadata": {},
   "outputs": [
    {
     "name": "stdout",
     "output_type": "stream",
     "text": [
      "Populating the interactive namespace from numpy and matplotlib\n"
     ]
    }
   ],
   "source": [
    "%pylab inline"
   ]
  },
  {
   "cell_type": "markdown",
   "metadata": {},
   "source": [
    "# Coordinates\n",
    "\n",
    "Container for describing the coordinates of a PODPAC datasource.\n",
    "Coordinates are created from a list or dict containing BaseCoordinates1d objects (Coordinates1d or StackedCoordinates).\n",
    "\n",
    "Constructors:\n",
    "\n",
    "- `Coordinates()`\n",
    "- `Coordinates([coords1d, coords1d])`\n",
    "- `Coordinates([StackedCoordinates([coords1d, coords1d]), coords1d])`\n",
    "- `Coordinates([(coords1d, coords1d), coords1d])`\n",
    "- `Coordinates([array1d, array1d], dims=['lat', 'lon'])`\n",
    "- `Coordinates([(array1d, array1d), array], dims=['lat_lon', 'time'])`\n",
    "- `Coordinates([array2d, array1d], dims=['lat_lon', 'time'])`\n",
    "\n",
    "Advanced Contructors:\n",
    "\n",
    "- `Coordinates.from_xarray(xcoords)`: maps multi-dimensional xarray `DataArrayCoordinates` to podpac `Coordinates`\n",
    "- `Coordinates.grid(...)`\n",
    "- `Coordinates.points(...)`"
   ]
  },
  {
   "cell_type": "code",
   "execution_count": 2,
   "metadata": {},
   "outputs": [],
   "source": [
    "import numpy as np\n",
    "from podpac import Coordinates"
   ]
  },
  {
   "cell_type": "markdown",
   "metadata": {},
   "source": [
    "### Grid Coordinates"
   ]
  },
  {
   "cell_type": "code",
   "execution_count": 3,
   "metadata": {},
   "outputs": [],
   "source": [
    "# coordinates specifying a n x n grid\n",
    "grid_coords = Coordinates([np.linspace(-10, 10, 21), np.linspace(-10, 10, 21)], dims=['lat', 'lon'])"
   ]
  },
  {
   "cell_type": "code",
   "execution_count": 4,
   "metadata": {},
   "outputs": [
    {
     "data": {
      "text/plain": [
       "('lat', 'lon')"
      ]
     },
     "execution_count": 4,
     "metadata": {},
     "output_type": "execute_result"
    }
   ],
   "source": [
    "# get tuple of dimensions \n",
    "grid_coords.dims"
   ]
  },
  {
   "cell_type": "code",
   "execution_count": 5,
   "metadata": {},
   "outputs": [
    {
     "data": {
      "text/plain": [
       "('lat', 'lon')"
      ]
     },
     "execution_count": 5,
     "metadata": {},
     "output_type": "execute_result"
    }
   ],
   "source": [
    "# get tuple of unstacked dimensions (all individual dimensions)\n",
    "grid_coords.udims"
   ]
  },
  {
   "cell_type": "code",
   "execution_count": 6,
   "metadata": {},
   "outputs": [
    {
     "data": {
      "text/plain": [
       "ArrayCoordinates1d(lat): Bounds[-10.0, 10.0], N[21], ctype['midpoint']"
      ]
     },
     "execution_count": 6,
     "metadata": {},
     "output_type": "execute_result"
    }
   ],
   "source": [
    "# ArrayCoordinates1d within the main Coordinates container\n",
    "grid_coords['lat']"
   ]
  },
  {
   "cell_type": "code",
   "execution_count": 7,
   "metadata": {},
   "outputs": [
    {
     "data": {
      "text/plain": [
       "array([-10.,  -9.,  -8.,  -7.,  -6.,  -5.,  -4.,  -3.,  -2.,  -1.,   0.,\n",
       "         1.,   2.,   3.,   4.,   5.,   6.,   7.,   8.,   9.,  10.])"
      ]
     },
     "execution_count": 7,
     "metadata": {},
     "output_type": "execute_result"
    }
   ],
   "source": [
    "# get array of coordinate values\n",
    "grid_coords['lat'].coordinates"
   ]
  },
  {
   "cell_type": "code",
   "execution_count": 8,
   "metadata": {},
   "outputs": [
    {
     "name": "stdout",
     "output_type": "stream",
     "text": [
      "2\n",
      "441\n"
     ]
    }
   ],
   "source": [
    "# get ndims and size of coordinates\n",
    "print(grid_coords.ndim)\n",
    "print(grid_coords.size)"
   ]
  },
  {
   "cell_type": "markdown",
   "metadata": {},
   "source": [
    "### Stacked Coordinates"
   ]
  },
  {
   "cell_type": "code",
   "execution_count": 9,
   "metadata": {},
   "outputs": [],
   "source": [
    "# stacked coordinates specifying n data points\n",
    "stacked_coords = Coordinates([(np.linspace(-10, 10, 21), np.linspace(-10, 10, 21))], dims=['lat_lon'])"
   ]
  },
  {
   "cell_type": "code",
   "execution_count": 10,
   "metadata": {},
   "outputs": [
    {
     "data": {
      "text/plain": [
       "('lat_lon',)"
      ]
     },
     "execution_count": 10,
     "metadata": {},
     "output_type": "execute_result"
    }
   ],
   "source": [
    "# get tuple of dimensions \n",
    "stacked_coords.dims"
   ]
  },
  {
   "cell_type": "code",
   "execution_count": 11,
   "metadata": {},
   "outputs": [
    {
     "data": {
      "text/plain": [
       "('lat', 'lon')"
      ]
     },
     "execution_count": 11,
     "metadata": {},
     "output_type": "execute_result"
    }
   ],
   "source": [
    "# get tuple of unstacked dimensions (all individual dimensions)\n",
    "stacked_coords.udims"
   ]
  },
  {
   "cell_type": "code",
   "execution_count": 12,
   "metadata": {},
   "outputs": [
    {
     "data": {
      "text/plain": [
       "StackedCoordinates\n",
       "\tlat_lon[lat]: ArrayCoordinates1d(lat): Bounds[-10.0, 10.0], N[21], ctype['midpoint']\n",
       "\tlat_lon[lon]: ArrayCoordinates1d(lon): Bounds[-10.0, 10.0], N[21], ctype['midpoint']"
      ]
     },
     "execution_count": 12,
     "metadata": {},
     "output_type": "execute_result"
    }
   ],
   "source": [
    "# StackedCoordinates within main Coordinates container\n",
    "stacked_coords['lat_lon']"
   ]
  },
  {
   "cell_type": "code",
   "execution_count": 13,
   "metadata": {},
   "outputs": [
    {
     "data": {
      "text/plain": [
       "MultiIndex(levels=[[-10.0, -9.0, -8.0, -7.0, -6.0, -5.0, -4.0, -3.0, -2.0, -1.0, 0.0, 1.0, 2.0, 3.0, 4.0, 5.0, 6.0, 7.0, 8.0, 9.0, 10.0], [-10.0, -9.0, -8.0, -7.0, -6.0, -5.0, -4.0, -3.0, -2.0, -1.0, 0.0, 1.0, 2.0, 3.0, 4.0, 5.0, 6.0, 7.0, 8.0, 9.0, 10.0]],\n",
       "           codes=[[0, 1, 2, 3, 4, 5, 6, 7, 8, 9, 10, 11, 12, 13, 14, 15, 16, 17, 18, 19, 20], [0, 1, 2, 3, 4, 5, 6, 7, 8, 9, 10, 11, 12, 13, 14, 15, 16, 17, 18, 19, 20]],\n",
       "           names=['lat', 'lon'])"
      ]
     },
     "execution_count": 13,
     "metadata": {},
     "output_type": "execute_result"
    }
   ],
   "source": [
    "# multi-index array of values\n",
    "stacked_coords['lat_lon'].coordinates"
   ]
  },
  {
   "cell_type": "code",
   "execution_count": 14,
   "metadata": {},
   "outputs": [
    {
     "data": {
      "text/plain": [
       "ArrayCoordinates1d(lat): Bounds[-10.0, 10.0], N[21], ctype['midpoint']"
      ]
     },
     "execution_count": 14,
     "metadata": {},
     "output_type": "execute_result"
    }
   ],
   "source": [
    "# ArrayCoordinates1D within StackedCoordinates\n",
    "stacked_coords['lat']"
   ]
  },
  {
   "cell_type": "code",
   "execution_count": 15,
   "metadata": {},
   "outputs": [
    {
     "data": {
      "text/plain": [
       "array([-10.,  -9.,  -8.,  -7.,  -6.,  -5.,  -4.,  -3.,  -2.,  -1.,   0.,\n",
       "         1.,   2.,   3.,   4.,   5.,   6.,   7.,   8.,   9.,  10.])"
      ]
     },
     "execution_count": 15,
     "metadata": {},
     "output_type": "execute_result"
    }
   ],
   "source": [
    "# Individual coordinate values within StackedCoordinates\n",
    "stacked_coords['lat'].coordinates"
   ]
  },
  {
   "cell_type": "markdown",
   "metadata": {},
   "source": [
    "### Stacked and Grid Coordinates"
   ]
  },
  {
   "cell_type": "code",
   "execution_count": 16,
   "metadata": {},
   "outputs": [],
   "source": [
    "# stacked coordinates specifying n data points\n",
    "hybrid_coords = Coordinates([(np.linspace(-10, 10, 21), np.linspace(-10, 10, 21)), np.linspace(0, 10, 11)], dims=['lat_lon', 'time'])"
   ]
  },
  {
   "cell_type": "code",
   "execution_count": 17,
   "metadata": {},
   "outputs": [
    {
     "data": {
      "text/plain": [
       "('lat_lon', 'time')"
      ]
     },
     "execution_count": 17,
     "metadata": {},
     "output_type": "execute_result"
    }
   ],
   "source": [
    "# get tuple of dimensions \n",
    "hybrid_coords.dims"
   ]
  },
  {
   "cell_type": "code",
   "execution_count": 18,
   "metadata": {},
   "outputs": [
    {
     "data": {
      "text/plain": [
       "('lat', 'lon', 'time')"
      ]
     },
     "execution_count": 18,
     "metadata": {},
     "output_type": "execute_result"
    }
   ],
   "source": [
    "# get tuple of unstacked dimensions (all individual dimensions)\n",
    "hybrid_coords.udims"
   ]
  },
  {
   "cell_type": "markdown",
   "metadata": {},
   "source": [
    "## Advanced Coordinate Types"
   ]
  },
  {
   "cell_type": "markdown",
   "metadata": {},
   "source": [
    "### Dependent Coordinates\n",
    "\n",
    "Dependent coordinates are coordinates defined at a set of N-d input indexes."
   ]
  },
  {
   "cell_type": "code",
   "execution_count": 19,
   "metadata": {},
   "outputs": [
    {
     "data": {
      "text/plain": [
       "Coordinates\n",
       "\tlat,lon[lat]: DependentCoordinates(i,j->lat): Bounds[0.000000, 1.000000], shape(3, 4), ctype[point]\n",
       "\tlat,lon[lon]: DependentCoordinates(i,j->lon): Bounds[10.000000, 20.000000], shape(3, 4), ctype[point]"
      ]
     },
     "execution_count": 19,
     "metadata": {},
     "output_type": "execute_result"
    }
   ],
   "source": [
    "from podpac.core.coordinates import RotatedCoordinates\n",
    "\n",
    "lat = np.linspace(0, 1, 12).reshape(3, 4)\n",
    "lon = np.linspace(10, 20, 12).reshape(3, 4)\n",
    "\n",
    "# coerce into DependentCoordinates\n",
    "c = Coordinates([[lat, lon]], dims=['lat,lon'])\n",
    "c"
   ]
  },
  {
   "cell_type": "code",
   "execution_count": 20,
   "metadata": {},
   "outputs": [
    {
     "data": {
      "text/plain": [
       "array([[0.        , 0.09090909, 0.18181818, 0.27272727],\n",
       "       [0.36363636, 0.45454545, 0.54545455, 0.63636364],\n",
       "       [0.72727273, 0.81818182, 0.90909091, 1.        ]])"
      ]
     },
     "execution_count": 20,
     "metadata": {},
     "output_type": "execute_result"
    }
   ],
   "source": [
    "c['lat'].coordinates"
   ]
  },
  {
   "cell_type": "code",
   "execution_count": 21,
   "metadata": {},
   "outputs": [
    {
     "data": {
      "text/plain": [
       "array([[10.        , 10.90909091, 11.81818182, 12.72727273],\n",
       "       [13.63636364, 14.54545455, 15.45454545, 16.36363636],\n",
       "       [17.27272727, 18.18181818, 19.09090909, 20.        ]])"
      ]
     },
     "execution_count": 21,
     "metadata": {},
     "output_type": "execute_result"
    }
   ],
   "source": [
    "c['lon'].coordinates"
   ]
  },
  {
   "cell_type": "code",
   "execution_count": 22,
   "metadata": {},
   "outputs": [
    {
     "data": {
      "text/plain": [
       "('i', 'j')"
      ]
     },
     "execution_count": 22,
     "metadata": {},
     "output_type": "execute_result"
    }
   ],
   "source": [
    "# indexing dimensions\n",
    "c.idims"
   ]
  },
  {
   "cell_type": "markdown",
   "metadata": {},
   "source": [
    "### Rotated Coordinates\n",
    "\n",
    "Rotated Coordinates define a gridded coordinate system rotated around an axis."
   ]
  },
  {
   "cell_type": "code",
   "execution_count": 23,
   "metadata": {},
   "outputs": [
    {
     "data": {
      "text/plain": [
       "Coordinates\n",
       "\tlon,lat[lon]: RotatedCoordinates(i,j->lon): Bounds[10.000000, 16.308644], shape(4, 3), ctype[point]\n",
       "\tlon,lat[lat]: RotatedCoordinates(i,j->lat): Bounds[18.152241, 22.296101], shape(4, 3), ctype[point]"
      ]
     },
     "execution_count": 23,
     "metadata": {},
     "output_type": "execute_result"
    }
   ],
   "source": [
    "# using upper left corner and a step/scale\n",
    "rc = RotatedCoordinates(shape=(4, 3), theta=np.pi/8, origin=[10, 20], step=[2.0, 1.0], dims=['lon', 'lat'])\n",
    "c = Coordinates([rc], dims=['lon,lat'])\n",
    "c"
   ]
  },
  {
   "cell_type": "code",
   "execution_count": 24,
   "metadata": {},
   "outputs": [
    {
     "data": {
      "image/png": "[encoded data removed]",
      "text/plain": [
       "<Figure size 432x288 with 1 Axes>"
      ]
     },
     "metadata": {
      "needs_background": "light"
     },
     "output_type": "display_data"
    }
   ],
   "source": [
    "x, y = rc.coordinates\n",
    "ox, oy = rc.origin\n",
    "cx, cy = rc.corner\n",
    "figure()\n",
    "plot(x, y, 'r.')\n",
    "plot(ox, oy, 'bo')\n",
    "plot(cx, cy, 'bx')\n",
    "xlabel(rc.dims[0])\n",
    "ylabel(rc.dims[1])\n",
    "axis('scaled')\n",
    "show()"
   ]
  },
  {
   "cell_type": "code",
   "execution_count": 25,
   "metadata": {},
   "outputs": [
    {
     "data": {
      "text/plain": [
       "('i', 'j')"
      ]
     },
     "execution_count": 25,
     "metadata": {},
     "output_type": "execute_result"
    }
   ],
   "source": [
    "# indexing dimensions\n",
    "c.idims"
   ]
  },
  {
   "cell_type": "code",
   "execution_count": 26,
   "metadata": {},
   "outputs": [
    {
     "data": {
      "text/plain": [
       "Coordinates\n",
       "\tlat,lon[lat]: RotatedCoordinates(i,j->lat): Bounds[10.000000, 15.000000], shape(3, 4), ctype[point]\n",
       "\tlat,lon[lon]: RotatedCoordinates(i,j->lon): Bounds[16.000000, 21.000000], shape(3, 4), ctype[point]"
      ]
     },
     "execution_count": 26,
     "metadata": {},
     "output_type": "execute_result"
    }
   ],
   "source": [
    "# using upper left corner and lower right corner\n",
    "rc = RotatedCoordinates(shape=(3, 4), theta=np.pi/4, origin=[10, 20], corner=[15, 17], dims=['lat', 'lon'])\n",
    "c = Coordinates([rc], dims=['lat,lon'])\n",
    "c"
   ]
  },
  {
   "cell_type": "code",
   "execution_count": 27,
   "metadata": {},
   "outputs": [],
   "source": [
    "# using upper left corner and lower right corner\n",
    "rc = RotatedCoordinates(shape=(3, 4), theta=np.pi/4, origin=[10, 20], corner=[15, 17], dims=['lat', 'lon'])\n",
    "c = Coordinates([rc], dims=['lat,lon'])"
   ]
  },
  {
   "cell_type": "code",
   "execution_count": 28,
   "metadata": {},
   "outputs": [
    {
     "data": {
      "text/plain": [
       "RotatedCoordinates(('lat', 'lon')): origin[10. 20.], corner[15.65685425 17.17157288], rad[0.7854], shape(3, 4), ctype['point']"
      ]
     },
     "execution_count": 28,
     "metadata": {},
     "output_type": "execute_result"
    }
   ],
   "source": [
    "# to / from gdal geotransform\n",
    "rc = RotatedCoordinates(shape=(3, 4), theta=np.pi/4, origin=[10, 20], step=[1.0, 2.0], dims=['lat', 'lon'])\n",
    "c = RotatedCoordinates.from_geotransform(rc.geotransform, rc.shape, dims=rc.dims)\n",
    "c"
   ]
  },
  {
   "cell_type": "markdown",
   "metadata": {},
   "source": [
    "### Polar Coordinates"
   ]
  },
  {
   "cell_type": "code",
   "execution_count": 29,
   "metadata": {},
   "outputs": [],
   "source": [
    "from podpac.core.coordinates.polar_coordinates import PolarCoordinates"
   ]
  },
  {
   "cell_type": "code",
   "execution_count": 30,
   "metadata": {},
   "outputs": [
    {
     "data": {
      "text/plain": [
       "PolarCoordinates(('lat', 'lon')): center[10. 10.], shape(4, 8), ctype['point']"
      ]
     },
     "execution_count": 30,
     "metadata": {},
     "output_type": "execute_result"
    }
   ],
   "source": [
    "pc = PolarCoordinates(center=[10, 10], radius=[1, 2, 3, 5], theta_size=8, ctypes='point', dims=['lat', 'lon'])\n",
    "pc"
   ]
  },
  {
   "cell_type": "code",
   "execution_count": 31,
   "metadata": {},
   "outputs": [
    {
     "data": {
      "text/plain": [
       "('r', 't')"
      ]
     },
     "execution_count": 31,
     "metadata": {},
     "output_type": "execute_result"
    }
   ],
   "source": [
    "# indexing dimensions\n",
    "pc.idims"
   ]
  },
  {
   "cell_type": "code",
   "execution_count": 32,
   "metadata": {},
   "outputs": [
    {
     "data": {
      "image/png": "[encoded data removed]",
      "text/plain": [
       "<Figure size 432x288 with 1 Axes>"
      ]
     },
     "metadata": {
      "needs_background": "light"
     },
     "output_type": "display_data"
    }
   ],
   "source": [
    "y, x = pc.coordinates\n",
    "cy, cx = pc.center\n",
    "figure()\n",
    "plot(x, y, 'r.')\n",
    "plot(cx, cy, 'bo')\n",
    "xlabel(pc.dims[1])\n",
    "ylabel(pc.dims[0])\n",
    "axis('scaled')\n",
    "show()"
   ]
  },
  {
   "cell_type": "markdown",
   "metadata": {},
   "source": [
    "## Coordinate Operations"
   ]
  },
  {
   "cell_type": "markdown",
   "metadata": {},
   "source": [
    "### Coordinate Indexing"
   ]
  },
  {
   "cell_type": "code",
   "execution_count": 33,
   "metadata": {},
   "outputs": [
    {
     "data": {
      "text/plain": [
       "Coordinates\n",
       "\tlat: ArrayCoordinates1d(lat): Bounds[0.0, 5.0], N[5], ctype['midpoint']\n",
       "\tlon: ArrayCoordinates1d(lon): Bounds[10.0, 40.0], N[4], ctype['midpoint']\n",
       "\ttime: ArrayCoordinates1d(time): Bounds[2018-01-01, 2018-01-03], N[3], ctype['point']"
      ]
     },
     "execution_count": 33,
     "metadata": {},
     "output_type": "execute_result"
    }
   ],
   "source": [
    "lat = [0, 1, 2, 3, 5]\n",
    "lon = [10, 20, 30, 40]\n",
    "time = ['2018-01-01', '2018-01-02', '2018-01-03']\n",
    "\n",
    "c = Coordinates([lat, lon, time], dims=['lat', 'lon', 'time'])\n",
    "c"
   ]
  },
  {
   "cell_type": "code",
   "execution_count": 34,
   "metadata": {},
   "outputs": [
    {
     "data": {
      "text/plain": [
       "Coordinates\n",
       "\tlat: ArrayCoordinates1d(lat): Bounds[1.0, 3.0], N[2], ctype['midpoint']\n",
       "\tlon: ArrayCoordinates1d(lon): Bounds[10.0, 20.0], N[2], ctype['midpoint']\n",
       "\ttime: ArrayCoordinates1d(time): Bounds[2018-01-03, 2018-01-03], N[1], ctype['point']"
      ]
     },
     "execution_count": 34,
     "metadata": {},
     "output_type": "execute_result"
    }
   ],
   "source": [
    "# select subset of coordinates by index within dimension\n",
    "# elements 1 and 3 of lat\n",
    "# slice 0 to 2 of lon\n",
    "# element 2 of time\n",
    "c[[1, 3], slice(0,2), 2]"
   ]
  },
  {
   "cell_type": "code",
   "execution_count": 35,
   "metadata": {},
   "outputs": [
    {
     "data": {
      "text/plain": [
       "Coordinates\n",
       "\tlat_lon[lat]: ArrayCoordinates1d(lat): Bounds[0.0, 10.0], N[11], ctype['midpoint']\n",
       "\tlat_lon[lon]: ArrayCoordinates1d(lon): Bounds[10.0, 20.0], N[11], ctype['midpoint']\n",
       "\ttime: ArrayCoordinates1d(time): Bounds[2018-01-01, 2018-01-03], N[3], ctype['point']"
      ]
     },
     "execution_count": 35,
     "metadata": {},
     "output_type": "execute_result"
    }
   ],
   "source": [
    "# works for stacked coordinates\n",
    "lat_lon = (np.linspace(0, 10, 11), np.linspace(10, 20, 11))\n",
    "time = ['2018-01-01', '2018-01-02', '2018-01-03']\n",
    "\n",
    "c = Coordinates([lat_lon, time], dims=['lat_lon', 'time'])\n",
    "c"
   ]
  },
  {
   "cell_type": "code",
   "execution_count": 36,
   "metadata": {},
   "outputs": [
    {
     "data": {
      "text/plain": [
       "Coordinates\n",
       "\tlat_lon[lat]: ArrayCoordinates1d(lat): Bounds[1.0, 3.0], N[2], ctype['midpoint']\n",
       "\tlat_lon[lon]: ArrayCoordinates1d(lon): Bounds[11.0, 13.0], N[2], ctype['midpoint']\n",
       "\ttime: ArrayCoordinates1d(time): Bounds[2018-01-03, 2018-01-03], N[1], ctype['point']"
      ]
     },
     "execution_count": 36,
     "metadata": {},
     "output_type": "execute_result"
    }
   ],
   "source": [
    "# select the 1st and 3rd element from the stacked coordinates\n",
    "# select the 2nd element of time\n",
    "c[[1, 3], 2]"
   ]
  },
  {
   "cell_type": "markdown",
   "metadata": {},
   "source": [
    "### Coordinate Selection"
   ]
  },
  {
   "cell_type": "code",
   "execution_count": 37,
   "metadata": {},
   "outputs": [
    {
     "data": {
      "text/plain": [
       "Coordinates\n",
       "\tlat: ArrayCoordinates1d(lat): Bounds[0.0, 5.0], N[5], ctype['midpoint']\n",
       "\tlon: ArrayCoordinates1d(lon): Bounds[10.0, 40.0], N[4], ctype['midpoint']\n",
       "\ttime: ArrayCoordinates1d(time): Bounds[2018-01-01, 2018-01-03], N[3], ctype['point']"
      ]
     },
     "execution_count": 37,
     "metadata": {},
     "output_type": "execute_result"
    }
   ],
   "source": [
    "lat = [0, 1, 2, 3, 5]\n",
    "lon = [10, 20, 30, 40]\n",
    "time = ['2018-01-01', '2018-01-02', '2018-01-03']\n",
    "\n",
    "c = Coordinates([lat, lon, time], dims=['lat', 'lon', 'time'])\n",
    "c"
   ]
  },
  {
   "cell_type": "code",
   "execution_count": 38,
   "metadata": {},
   "outputs": [
    {
     "data": {
      "text/plain": [
       "Coordinates\n",
       "\tlat: ArrayCoordinates1d(lat): Bounds[1.0, 3.0], N[3], ctype['midpoint']\n",
       "\tlon: ArrayCoordinates1d(lon): Bounds[10.0, 40.0], N[4], ctype['midpoint']\n",
       "\ttime: ArrayCoordinates1d(time): Bounds[2018-01-01, 2018-01-03], N[3], ctype['point']"
      ]
     },
     "execution_count": 38,
     "metadata": {},
     "output_type": "execute_result"
    }
   ],
   "source": [
    "c.select({'lat': [1, 3]})"
   ]
  },
  {
   "cell_type": "code",
   "execution_count": 39,
   "metadata": {},
   "outputs": [
    {
     "data": {
      "text/plain": [
       "Coordinates\n",
       "\tlat: ArrayCoordinates1d(lat): Bounds[0.0, 5.0], N[5], ctype['midpoint']\n",
       "\tlon: ArrayCoordinates1d(lon): Bounds[10.0, 40.0], N[4], ctype['midpoint']\n",
       "\ttime: ArrayCoordinates1d(time): Bounds[2018-01-01, 2018-01-03], N[3], ctype['point']"
      ]
     },
     "execution_count": 39,
     "metadata": {},
     "output_type": "execute_result"
    }
   ],
   "source": [
    "c.select({'lat': [1, 3]})\n",
    "c.select({'lat': [1, 3], 'lon': [15, 25]})\n",
    "c.select({'alt': [1, 3]}) # no affect"
   ]
  }
 ],
 "metadata": {
  "kernelspec": {
   "display_name": "Python 3",
   "language": "python",
   "name": "python3"
  },
  "language_info": {
   "codemirror_mode": {
    "name": "ipython",
    "version": 3
   },
   "file_extension": ".py",
   "mimetype": "text/x-python",
   "name": "python",
   "nbconvert_exporter": "python",
   "pygments_lexer": "ipython3",
   "version": "3.6.6"
  }
 },
 "nbformat": 4,
 "nbformat_minor": 2
}
