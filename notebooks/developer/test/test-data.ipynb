{
 "cells": [
  {
   "cell_type": "code",
   "execution_count": null,
   "metadata": {},
   "outputs": [],
   "source": [
    "from podpac.core.data.datasource import DataSource\n",
    "from podpac.core.units import UnitsDataArray\n",
    "\n",
    "import numpy as np\n",
    "from podpac.core.data.test.test_datasource import MockDataSource, MockNonuniformDataSource\n",
    "from podpac.core.coordinates import Coordinates, clinspace"
   ]
  },
  {
   "cell_type": "code",
   "execution_count": null,
   "metadata": {},
   "outputs": [],
   "source": [
    "node = MockDataSource()\n",
    "output = node.eval(node.native_coordinates)"
   ]
  },
  {
   "cell_type": "code",
   "execution_count": null,
   "metadata": {},
   "outputs": [],
   "source": [
    "node._output\n",
    "node._requested_source_coordinates\n",
    "node._requested_source_data"
   ]
  },
  {
   "cell_type": "code",
   "execution_count": null,
   "metadata": {},
   "outputs": [],
   "source": [
    "node._evaluated_coordinates['lat'].size"
   ]
  },
  {
   "cell_type": "code",
   "execution_count": null,
   "metadata": {},
   "outputs": [],
   "source": [
    "node = DataSource(source= np.random.rand(101, 101), native_coordinates=None)"
   ]
  },
  {
   "cell_type": "code",
   "execution_count": null,
   "metadata": {},
   "outputs": [],
   "source": [
    "node.native_coordinates"
   ]
  },
  {
   "cell_type": "code",
   "execution_count": null,
   "metadata": {},
   "outputs": [],
   "source": [
    "node._interpolation"
   ]
  },
  {
   "cell_type": "code",
   "execution_count": null,
   "metadata": {},
   "outputs": [],
   "source": [
    "node.base_definition"
   ]
  },
  {
   "cell_type": "code",
   "execution_count": null,
   "metadata": {},
   "outputs": [],
   "source": [
    "node= MockDataSource()\n",
    "coords_subset = node.native_coordinates.intersect(node.native_coordinates)\n",
    "coords_subset_slc = node.native_coordinates.intersect(node.native_coordinates, return_indices=True)\n",
    "coords_subset_slc"
   ]
  },
  {
   "cell_type": "code",
   "execution_count": null,
   "metadata": {},
   "outputs": [],
   "source": [
    "a = tuple()"
   ]
  },
  {
   "cell_type": "code",
   "execution_count": null,
   "metadata": {},
   "outputs": [],
   "source": [
    "{a:'test'}.keys()"
   ]
  },
  {
   "cell_type": "code",
   "execution_count": null,
   "metadata": {},
   "outputs": [],
   "source": [
    "node.eval(node.native_coordinates)"
   ]
  },
  {
   "cell_type": "code",
   "execution_count": null,
   "metadata": {},
   "outputs": [],
   "source": [
    "output"
   ]
  },
  {
   "cell_type": "code",
   "execution_count": null,
   "metadata": {},
   "outputs": [],
   "source": [
    "node = MockDataSource()\n",
    "coords = Coordinates(lat=(-25, 0, 13), lon=(-25, 0, 13), order=['lat', 'lon'])\n",
    "data, coords_subset = node.get_data_subset(coords)\n",
    "print(data.shape)\n",
    "print(data.lat)\n",
    "print(np.min(data.lat.values))"
   ]
  },
  {
   "cell_type": "code",
   "execution_count": null,
   "metadata": {},
   "outputs": [],
   "source": [
    "node = MockDataSource(interpolation='nearest_preview')\n",
    "coords = Coordinate(lat=(-25, 0, 20), lon=(-25, 0, 20), order=['lat', 'lon'])\n",
    "data, coords_subset = node.get_data_subset(coords)\n",
    "coords_subset.shape\n",
    "data.shape"
   ]
  },
  {
   "cell_type": "code",
   "execution_count": null,
   "metadata": {},
   "outputs": [],
   "source": [
    "node = MockDataSource(interpolation='nearest_preview')\n",
    "coords = Coordinate(lat=(-25, 0, 20), lon=(-25, 0, 20), time=(1, 10, 10), order=['lat', 'lon', 'time'])\n",
    "data, coords_subset = node.get_data_subset(coords)\n",
    "coords_subset.shape\n",
    "coords_subset"
   ]
  },
  {
   "cell_type": "code",
   "execution_count": null,
   "metadata": {},
   "outputs": [],
   "source": [
    "node = MockDataSource(interpolation='nearest_preview')\n",
    "coords = Coordinate(lat=(-25, 0, 20), order=['lat'])\n",
    "data, coords_subset = node.get_data_subset(coords)\n",
    "coords_subset.shape\n",
    "data.shape"
   ]
  },
  {
   "cell_type": "code",
   "execution_count": null,
   "metadata": {},
   "outputs": [],
   "source": [
    "node = MockDataSource(interpolation='nearest_preview')\n",
    "coords = Coordinate(lat=[-25, -10, -5], order=['lat'])\n",
    "data, coords_subset = node.get_data_subset(coords)\n",
    "coords_subset.shape\n",
    "data.shape"
   ]
  },
  {
   "cell_type": "code",
   "execution_count": null,
   "metadata": {},
   "outputs": [],
   "source": [
    "node = MockDataSource()\n",
    "node.eval()"
   ]
  },
  {
   "cell_type": "code",
   "execution_count": null,
   "metadata": {},
   "outputs": [],
   "source": [
    "node = MockDataSource()\n",
    "output = node.eval(node.native_coordinates)\n",
    "output"
   ]
  },
  {
   "cell_type": "code",
   "execution_count": null,
   "metadata": {},
   "outputs": [],
   "source": [
    "node = MockDataSource()\n",
    "coords = Coordinate(lat=(-25, 0, 20), lon=(-25, 0, 20), time=(1, 10, 10), order=['lat', 'lon', 'time'])\n",
    "output = node.eval(coords)\n",
    "output"
   ]
  },
  {
   "cell_type": "code",
   "execution_count": null,
   "metadata": {},
   "outputs": [],
   "source": [
    "node = MockDataSource()\n",
    "coords = Coordinate(lat=(-55, -45, 20), lon=(-55, -45, 20), order=['lat', 'lon'])\n",
    "output = node.eval(coords)\n",
    "output"
   ]
  },
  {
   "cell_type": "code",
   "execution_count": null,
   "metadata": {},
   "outputs": [],
   "source": [
    "node = MockDataSource(no_data_vals=[10, None])\n",
    "output = node.eval(node.native_coordinates)\n",
    "output.values[np.isnan(output)].shape"
   ]
  },
  {
   "cell_type": "code",
   "execution_count": null,
   "metadata": {},
   "outputs": [],
   "source": [
    "node = MockDataSource()\n",
    "coords = Coordinate(lat=(-55, -45, 20), lon=(-55, -45, 20), order=['lat', 'lon'])\n",
    "output = node.eval(coords)\n",
    "np.all(np.isnan(output))"
   ]
  },
  {
   "cell_type": "code",
   "execution_count": null,
   "metadata": {},
   "outputs": [],
   "source": [
    "node = MockDataSource()\n",
    "UnitsDataArray(np.zeros(node.source.shape), coords=node.native_coordinates.coords, dims=node.native_coordinates.dims)"
   ]
  },
  {
   "cell_type": "code",
   "execution_count": null,
   "metadata": {},
   "outputs": [],
   "source": [
    "node = MockDataSource()\n",
    "coords = Coordinate(lat=(-55, -45, 101), lon=(-55, -45, 101), order=['lat', 'lon'])\n",
    "output = UnitsDataArray(np.zeros(node.source.shape),\n",
    "                        coords=coords.coords,\n",
    "                        dims=coords.dims)\n",
    "output = node.eval(coords, output=output)\n",
    "np.isnan(output[0, 0])"
   ]
  },
  {
   "cell_type": "code",
   "execution_count": null,
   "metadata": {},
   "outputs": [],
   "source": [
    "node = MockDataSource()\n",
    "output = UnitsDataArray(np.zeros(node.source.shape),\n",
    "                        coords=node.native_coordinates.coords,\n",
    "                        dims=node.native_coordinates.dims)\n",
    "node.eval(node.native_coordinates, output=output)\n",
    "\n",
    "output[0, 0] == 10"
   ]
  },
  {
   "cell_type": "code",
   "execution_count": null,
   "metadata": {},
   "outputs": [],
   "source": [
    "source = np.random.rand(1,1)\n",
    "coords_src = Coordinate(lat=[20], lon=[20], order=['lat', 'lon'])\n",
    "coords_dst = Coordinate(lat=[20], lon=[20], order=['lat', 'lon'])\n",
    "\n",
    "node = DataSource(source=source, native_coordinates=coords_src)\n",
    "data_subset, coords_subset = node.get_data_subset(coords_dst)\n",
    "node._interpolate_data(data_subset, coords_subset, coords_dst)"
   ]
  },
  {
   "cell_type": "code",
   "execution_count": null,
   "metadata": {},
   "outputs": [],
   "source": [
    "source = np.random.rand(1,1)\n",
    "coords_src = Coordinate(lat=[20], lon=[20], order=['lat', 'lon'])\n",
    "coords_dst = Coordinate(lat=[20], lon=[20], order=['lat', 'lon'])\n",
    "\n",
    "# TODO: this doesn't work, but I feel like it shold\n",
    "# coords_dst = Coordinate(lat=[21], lon=[21], order=['lat', 'lon'])\n",
    "\n",
    "node = MockEmptyDataSource(source=source, native_coordinates=coords_src)\n",
    "data, coords_subset = node.get_data_subset(coords_dst)\n",
    "output = node._interpolate_data(data, coords_subset, coords_dst)"
   ]
  },
  {
   "cell_type": "code",
   "execution_count": null,
   "metadata": {},
   "outputs": [],
   "source": [
    "np.prod(coords_dst.shape)"
   ]
  },
  {
   "cell_type": "code",
   "execution_count": null,
   "metadata": {},
   "outputs": [],
   "source": [
    "source = np.random.rand(5)\n",
    "coords_src = Coordinate(lat=(0, 10, 5), order=['lat'])\n",
    "coords_dst = Coordinate(lat=[1, 1.2, 1.5, 5, 9], order=['lat'])\n",
    "\n",
    "node = MockEmptyDataSource(source=source, native_coordinates=coords_src)\n",
    "node.interpolation = 'nearest_preview'\n",
    "\n",
    "output = node.eval(coords_dst)\n",
    "\n",
    "output"
   ]
  },
  {
   "cell_type": "code",
   "execution_count": null,
   "metadata": {},
   "outputs": [],
   "source": [
    "source = np.random.rand(5)\n",
    "coords_src = Coordinate(time=(0, 10, 5), order=['time'])\n",
    "coords_dst = Coordinate(time=(1, 11, 5), order=['time'])\n",
    "\n",
    "node = MockEmptyDataSource(source=source, native_coordinates=coords_src)\n",
    "\n",
    "output = node.eval(coords_dst)\n",
    "np.all(output.time.values == coords_dst.coords['time'])"
   ]
  },
  {
   "cell_type": "code",
   "execution_count": null,
   "metadata": {},
   "outputs": [],
   "source": [
    "source = np.random.rand(5)\n",
    "coords_src = Coordinate(alt=(0, 10, 5), order=['alt'])\n",
    "coords_dst = Coordinate(alt=(1, 11, 5), order=['alt'])\n",
    "\n",
    "node = MockEmptyDataSource(source=source, native_coordinates=coords_src)\n",
    "output = node.eval(coords_dst)"
   ]
  },
  {
   "cell_type": "code",
   "execution_count": null,
   "metadata": {},
   "outputs": [],
   "source": [
    "source = np.random.rand(5,5)\n",
    "coords_src = Coordinate(lat=(0, 10, 5), lon=(0, 10, 5), order=['lat', 'lon'])\n",
    "coords_dst = Coordinate(lat=(2, 12, 5), lon=(2, 12, 5), order=['lat', 'lon'])\n",
    "\n",
    "node = MockEmptyDataSource(source=source, native_coordinates=coords_src)\n",
    "node.interpolation = 'bilinear'\n",
    "output = node.eval(coords_dst)\n",
    "output"
   ]
  },
  {
   "cell_type": "code",
   "execution_count": null,
   "metadata": {},
   "outputs": [],
   "source": [
    "coords_dst['lat'].scipy_regularity"
   ]
  },
  {
   "cell_type": "code",
   "execution_count": null,
   "metadata": {},
   "outputs": [],
   "source": [
    "source = np.random.rand(5)\n",
    "coords_src = Coordinate(lat_lon=([0, 2, 4, 6, 8, 10], [0, 2, 4, 5, 6, 10]))\n",
    "coords_dst = Coordinate(lat_lon=([1, 2, 3, 4, 5], [1, 2, 3, 4, 5]))\n",
    "\n",
    "node = MockEmptyDataSource(source=source, native_coordinates=coords_src)\n",
    "output = node.eval(coords_dst)\n",
    "\n",
    "# coords_dst = Coordinate(lat=[1, 2, 3, 4, 5], lon=[1, 2, 3, 4, 5], order=['lat', 'lon'])\n",
    "# output = node.eval(coords_dst)"
   ]
  },
  {
   "cell_type": "code",
   "execution_count": null,
   "metadata": {},
   "outputs": [],
   "source": [
    "source = np.random.rand(5, 5)\n",
    "coords_src = Coordinate(lat=(0, 10, 5), lon=(0, 10, 5), order=['lat', 'lon'])\n",
    "coords_dst = Coordinate(lat_lon=([0, 2, 4, 6, 8, 10], [0, 2, 4, 5, 6, 10]))\n",
    "\n",
    "node = MockEmptyDataSource(source=source, native_coordinates=coords_src)\n",
    "node.interpolation = 'nearest'\n",
    "output = node.eval(coords_dst)"
   ]
  },
  {
   "cell_type": "code",
   "execution_count": null,
   "metadata": {},
   "outputs": [],
   "source": [
    "source"
   ]
  },
  {
   "cell_type": "code",
   "execution_count": null,
   "metadata": {},
   "outputs": [],
   "source": [
    "output.lat_lon.values"
   ]
  },
  {
   "cell_type": "code",
   "execution_count": null,
   "metadata": {},
   "outputs": [],
   "source": [
    "import rasterio"
   ]
  },
  {
   "cell_type": "code",
   "execution_count": null,
   "metadata": {},
   "outputs": [],
   "source": [
    "source = np.random.rand(5)\n",
    "coords_src = Coordinate(lat=(0, 10, 5), order=['lat'])\n",
    "coords_dst = Coordinate(lat=[1, 1.2, 1.5, 5, 9], order=['lat'])\n",
    "\n",
    "node = MockEmptyDataSource(source=source, native_coordinates=coords_src)\n",
    "node.interpolation = 'nearest_preview'\n",
    "output = node.eval(coords_dst)"
   ]
  },
  {
   "cell_type": "code",
   "execution_count": null,
   "metadata": {},
   "outputs": [],
   "source": [
    "output"
   ]
  },
  {
   "cell_type": "code",
   "execution_count": null,
   "metadata": {},
   "outputs": [],
   "source": []
  }
 ],
 "metadata": {
  "kernelspec": {
   "display_name": "Python 3",
   "language": "python",
   "name": "python3"
  },
  "language_info": {
   "codemirror_mode": {
    "name": "ipython",
    "version": 3
   },
   "file_extension": ".py",
   "mimetype": "text/x-python",
   "name": "python",
   "nbconvert_exporter": "python",
   "pygments_lexer": "ipython3",
   "version": "3.6.5"
  }
 },
 "nbformat": 4,
 "nbformat_minor": 2
}
