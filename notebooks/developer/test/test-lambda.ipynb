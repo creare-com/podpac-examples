{
 "cells": [
  {
   "cell_type": "markdown",
   "metadata": {},
   "source": [
    "# PODPAC AWS Support"
   ]
  },
  {
   "cell_type": "code",
   "execution_count": null,
   "metadata": {},
   "outputs": [],
   "source": [
    "from podpac.managers import aws\n",
    "from podpac import settings"
   ]
  },
  {
   "cell_type": "markdown",
   "metadata": {},
   "source": [
    "## AWS Session\n",
    "\n",
    "The session is used for authentication and setting the region of services"
   ]
  },
  {
   "cell_type": "code",
   "execution_count": null,
   "metadata": {},
   "outputs": [],
   "source": [
    "# If no credentials are input, then PODPAC will look in the Settings \n",
    "settings['AWS_ACCESS_KEY_ID'] = 'id'\n",
    "settings['AWS_SECRET_ACCESS_KEY'] = 'key'\n",
    "session = aws.Session()\n",
    "session.get_account_id()"
   ]
  },
  {
   "cell_type": "code",
   "execution_count": null,
   "metadata": {},
   "outputs": [],
   "source": [
    "# If no credentials are input, and PODPAC settings are not set, then PODPAC looks for shared credentials stored by AWS cli\n",
    "settings['AWS_ACCESS_KEY_ID'] = None\n",
    "settings['AWS_SECRET_ACCESS_KEY'] = None\n",
    "session = aws.Session()\n",
    "session.get_account_id()"
   ]
  },
  {
   "cell_type": "markdown",
   "metadata": {},
   "source": [
    "# Node Manager"
   ]
  },
  {
   "cell_type": "code",
   "execution_count": null,
   "metadata": {},
   "outputs": [],
   "source": [
    "from podpac.managers import aws\n",
    "from podpac import settings\n",
    "\n",
    "# set logging to DEBUG to see build process\n",
    "import logging\n",
    "logger = logging.getLogger(\"podpac\")\n",
    "logger.setLevel(logging.DEBUG)"
   ]
  },
  {
   "cell_type": "code",
   "execution_count": null,
   "metadata": {},
   "outputs": [],
   "source": [
    "node = aws.Lambda()\n",
    "node"
   ]
  },
  {
   "cell_type": "code",
   "execution_count": null,
   "metadata": {},
   "outputs": [],
   "source": [
    "# build function and all resources\n",
    "# This can take up to 15-20 seconds if all resources need to be created\n",
    "node.build()"
   ]
  },
  {
   "cell_type": "code",
   "execution_count": null,
   "metadata": {},
   "outputs": [],
   "source": [
    "# Eval with simple example\n",
    "from podpac.data import Array\n",
    "from podpac import Coordinates\n",
    "import numpy as np\n",
    "\n",
    "# mock data\n",
    "data = np.random.rand(5, 5)\n",
    "\n",
    "# create native coordinates for data\n",
    "lat = np.linspace(-10, 10, 5)\n",
    "lon = np.linspace(-10, 10, 5)\n",
    "native_coords = Coordinates([lat, lon], ['lat', 'lon'])\n",
    "\n",
    "# create Array DataSource node\n",
    "node_array = Array(source=data, native_coordinates=native_coords)\n",
    "\n",
    "# Set up wrapper to run your node on AWS Lambda\n",
    "node = aws.Lambda(source=node_array)\n",
    "\n",
    "# Set the node eval trigger\n",
    "node.function_eval_trigger = \"S3\"  # APIGateway not yet implemented\n",
    "\n",
    "# Run the node (on AWS Lambda) and get the results back\n",
    "# (the first time this runs will be slower than subsequent calls)\n",
    "output = node.eval(native_coords)\n",
    "output.plot()\n",
    "pass"
   ]
  },
  {
   "cell_type": "code",
   "execution_count": null,
   "metadata": {},
   "outputs": [],
   "source": [
    "# print logs\n",
    "logs = node.get_logs()\n",
    "[log[\"message\"] for log in logs]"
   ]
  },
  {
   "cell_type": "code",
   "execution_count": null,
   "metadata": {},
   "outputs": [],
   "source": [
    "# remove all resources\n",
    "# node.delete(confirm=True)"
   ]
  },
  {
   "cell_type": "markdown",
   "metadata": {},
   "source": [
    "## Build with customizations"
   ]
  },
  {
   "cell_type": "code",
   "execution_count": null,
   "metadata": {},
   "outputs": [],
   "source": [
    "node = aws.Lambda(\n",
    "    function_name=\"podpac-lambda-autogen-test\",\n",
    "    function_role_name=\"podpac-lambda-autogen-test\",\n",
    "    function_s3_bucket=\"podpac-test-autogen-10002\")\n",
    "node"
   ]
  },
  {
   "cell_type": "code",
   "execution_count": null,
   "metadata": {},
   "outputs": [],
   "source": [
    "# print all resources before and after building\n",
    "node.describe()"
   ]
  },
  {
   "cell_type": "code",
   "execution_count": null,
   "metadata": {},
   "outputs": [],
   "source": [
    "node.build()"
   ]
  },
  {
   "cell_type": "code",
   "execution_count": null,
   "metadata": {},
   "outputs": [],
   "source": [
    "node.describe()"
   ]
  },
  {
   "cell_type": "markdown",
   "metadata": {},
   "source": [
    "## Build Lambda from local zip archives"
   ]
  },
  {
   "cell_type": "code",
   "execution_count": null,
   "metadata": {},
   "outputs": [],
   "source": [
    "node = aws.Lambda(\n",
    "    function_name=\"podpac-lambda-autogen-local\",\n",
    "    function_role_name=\"podpac-lambda-autogen-local\",\n",
    "    function_s3_bucket=\"podpac-test-autogen-10001\",\n",
    "    function_source_dist_zip=\"podpac_dist.zip\",\n",
    "    function_source_dependencies_zip=\"podpac_deps.zip\",\n",
    ")\n",
    "node.describe()"
   ]
  },
  {
   "cell_type": "code",
   "execution_count": null,
   "metadata": {},
   "outputs": [],
   "source": [
    "node.build()"
   ]
  },
  {
   "cell_type": "markdown",
   "metadata": {},
   "source": [
    "# AWS Utilities"
   ]
  },
  {
   "cell_type": "markdown",
   "metadata": {},
   "source": [
    "## S3"
   ]
  },
  {
   "cell_type": "code",
   "execution_count": null,
   "metadata": {},
   "outputs": [],
   "source": [
    "from podpac.managers import aws"
   ]
  },
  {
   "cell_type": "code",
   "execution_count": null,
   "metadata": {},
   "outputs": [],
   "source": [
    "session = aws.Session()\n",
    "bucket = \"podpac-test-bucket\"\n",
    "tags = {\"owner\": \"creare\"}"
   ]
  },
  {
   "cell_type": "code",
   "execution_count": null,
   "metadata": {},
   "outputs": [],
   "source": [
    "aws.create_bucket(session, bucket, bucket_tags=tags)"
   ]
  },
  {
   "cell_type": "code",
   "execution_count": null,
   "metadata": {},
   "outputs": [],
   "source": [
    "aws.get_bucket(session, bucket)"
   ]
  },
  {
   "cell_type": "code",
   "execution_count": null,
   "metadata": {},
   "outputs": [],
   "source": [
    "# aws.delete_bucket(session, bucket)  # this works if no objects are in bucket"
   ]
  },
  {
   "cell_type": "code",
   "execution_count": null,
   "metadata": {},
   "outputs": [],
   "source": [
    "aws.put_object(session, bucket, \"test/object.ipynb\", \"nexrad.ipynb\")"
   ]
  },
  {
   "cell_type": "code",
   "execution_count": null,
   "metadata": {},
   "outputs": [],
   "source": [
    "aws.delete_bucket(session, bucket)  # this will fail with object in bucket"
   ]
  },
  {
   "cell_type": "code",
   "execution_count": null,
   "metadata": {},
   "outputs": [],
   "source": [
    "aws.delete_bucket(session, bucket, delete_objects=\"True\")  # this will fail with object in bucket"
   ]
  },
  {
   "cell_type": "markdown",
   "metadata": {},
   "source": [
    "## IAM Roles"
   ]
  },
  {
   "cell_type": "code",
   "execution_count": null,
   "metadata": {},
   "outputs": [],
   "source": [
    "from podpac.managers import aws"
   ]
  },
  {
   "cell_type": "code",
   "execution_count": null,
   "metadata": {},
   "outputs": [],
   "source": [
    "session = aws.Session()\n",
    "role_name = \"podpac-test-role\"\n",
    "tags = {\"owner\": \"creare\"}"
   ]
  },
  {
   "cell_type": "code",
   "execution_count": null,
   "metadata": {},
   "outputs": [],
   "source": [
    "role = aws.create_role(session, role_name, role_tags=tags)"
   ]
  },
  {
   "cell_type": "code",
   "execution_count": null,
   "metadata": {},
   "outputs": [],
   "source": [
    "aws.get_role(session, role_name)"
   ]
  },
  {
   "cell_type": "code",
   "execution_count": null,
   "metadata": {},
   "outputs": [],
   "source": [
    "# aws.delete_role(session, role_name)  # don't delete here since we will need this create a function"
   ]
  },
  {
   "cell_type": "markdown",
   "metadata": {},
   "source": [
    "## Lambda Functions"
   ]
  },
  {
   "cell_type": "code",
   "execution_count": null,
   "metadata": {},
   "outputs": [],
   "source": [
    "from podpac.managers import aws"
   ]
  },
  {
   "cell_type": "code",
   "execution_count": null,
   "metadata": {},
   "outputs": [],
   "source": [
    "session = aws.Session()\n",
    "function = \"podpac-test-function\"\n",
    "function_role_arn = role['Arn']  # see IAM Roles above\n",
    "function_handler = \"handler.handler\"\n",
    "function_source_bucket = \"podpac-dist\"\n",
    "function_source_key = \"1.1.0/podpac_dist.zip\"\n",
    "tags = {\"owner\": \"creare\"}"
   ]
  },
  {
   "cell_type": "code",
   "execution_count": null,
   "metadata": {},
   "outputs": [],
   "source": [
    "aws.create_function(session, \n",
    "                    function, \n",
    "                    function_role_arn=function_role_arn, \n",
    "                    function_handler=function_handler, \n",
    "                    function_source_bucket=function_source_bucket, \n",
    "                    function_source_key=function_source_key, \n",
    "                    function_tags=tags)"
   ]
  },
  {
   "cell_type": "code",
   "execution_count": null,
   "metadata": {},
   "outputs": [],
   "source": [
    "aws.get_function(session, function)"
   ]
  },
  {
   "cell_type": "code",
   "execution_count": null,
   "metadata": {},
   "outputs": [],
   "source": [
    "aws.delete_function(session, \"podpac-test-function\")"
   ]
  },
  {
   "cell_type": "code",
   "execution_count": null,
   "metadata": {},
   "outputs": [],
   "source": [
    "# create from local zip file\n",
    "function = \"podpac-test-function-local\"\n",
    "aws.create_function(session,\n",
    "                    function,\n",
    "                    function_role_arn=function_role_arn, \n",
    "                    function_handler=function_handler,\n",
    "                    function_zip_file=\"podpac_dist.zip\",\n",
    "                    function_tags=tags)"
   ]
  },
  {
   "cell_type": "code",
   "execution_count": null,
   "metadata": {},
   "outputs": [],
   "source": [
    "aws.delete_function(session, function)"
   ]
  },
  {
   "cell_type": "markdown",
   "metadata": {},
   "source": [
    "## API Gateway"
   ]
  },
  {
   "cell_type": "code",
   "execution_count": null,
   "metadata": {},
   "outputs": [],
   "source": [
    "from podpac.managers import aws"
   ]
  },
  {
   "cell_type": "code",
   "execution_count": null,
   "metadata": {},
   "outputs": [],
   "source": [
    "session = aws.Session()\n",
    "api_name = \"podpac-lambda-autogen-api\"\n",
    "api_endpoint = \"eval\""
   ]
  },
  {
   "cell_type": "code",
   "execution_count": null,
   "metadata": {},
   "outputs": [],
   "source": [
    "aws.get_api(session, api_name, api_endpoint)"
   ]
  },
  {
   "cell_type": "code",
   "execution_count": null,
   "metadata": {},
   "outputs": [],
   "source": [
    "apigateway = session.client(\"apigateway\")\n",
    "response = apigateway.get_stages(restApiId=\"fs3mqqombi\")"
   ]
  },
  {
   "cell_type": "code",
   "execution_count": null,
   "metadata": {},
   "outputs": [],
   "source": [
    "apigateway.get_resources(restApiId=\"fs3mqqmbi\")"
   ]
  },
  {
   "cell_type": "markdown",
   "metadata": {},
   "source": [
    "## Get Logs"
   ]
  },
  {
   "cell_type": "code",
   "execution_count": null,
   "metadata": {},
   "outputs": [],
   "source": [
    "from podpac.managers import aws"
   ]
  },
  {
   "cell_type": "code",
   "execution_count": null,
   "metadata": {},
   "outputs": [],
   "source": [
    "session = aws.Session()\n",
    "log_group_name = \"/aws/lambda/podpac-test-function\""
   ]
  },
  {
   "cell_type": "code",
   "execution_count": null,
   "metadata": {},
   "outputs": [],
   "source": [
    "aws.get_logs(session, log_group_name)"
   ]
  }
 ],
 "metadata": {
  "kernelspec": {
   "display_name": "Python 3",
   "language": "python",
   "name": "python3"
  },
  "language_info": {
   "codemirror_mode": {
    "name": "ipython",
    "version": 3
   },
   "file_extension": ".py",
   "mimetype": "text/x-python",
   "name": "python",
   "nbconvert_exporter": "python",
   "pygments_lexer": "ipython3",
   "version": "3.7.5"
  }
 },
 "nbformat": 4,
 "nbformat_minor": 4
}
