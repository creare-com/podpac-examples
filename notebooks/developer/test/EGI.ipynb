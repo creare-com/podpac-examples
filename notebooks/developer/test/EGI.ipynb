{
 "cells": [
  {
   "cell_type": "markdown",
   "metadata": {},
   "source": [
    "# NSIDC EGI Interface\n",
    "\n",
    "- https://github.com/creare-com/podpac/issues/237\n",
    "- https://developer.earthdata.nasa.gov/sdps/programmatic-access-docs#curl\n",
    "- https://nsidc.org/support/how/how-do-i-programmatically-request-data-services"
   ]
  },
  {
   "cell_type": "code",
   "execution_count": 5,
   "metadata": {},
   "outputs": [],
   "source": [
    "import requests\n",
    "import xml.etree.ElementTree"
   ]
  },
  {
   "cell_type": "markdown",
   "metadata": {},
   "source": [
    "## Obtain Token\n",
    "\n",
    "https://wiki.earthdata.nasa.gov/display/CMR/Creating+a+Token+Common"
   ]
  },
  {
   "cell_type": "code",
   "execution_count": 6,
   "metadata": {},
   "outputs": [],
   "source": [
    "username = \"username\"\n",
    "password = \"password\"\n",
    "ip = 'ip'\n",
    "url = 'https://cmr.earthdata.nasa.gov/legacy-services/rest/tokens'"
   ]
  },
  {
   "cell_type": "code",
   "execution_count": 7,
   "metadata": {},
   "outputs": [],
   "source": [
    "request = \"\"\"\n",
    "<token>\n",
    "    <username>{username}</username>\n",
    "    <password>{password}</password>\n",
    "    <client_id>podpac</client_id>\n",
    "    <user_ip_address>{ip}</user_ip_address>\n",
    "</token>\n",
    "\"\"\".format(username=username, password=password,ip=ip)\n",
    "headers = {\"Content-Type\": \"application/xml\"}\n",
    "r = requests.post(url, data=request, headers=headers)"
   ]
  },
  {
   "cell_type": "code",
   "execution_count": 8,
   "metadata": {},
   "outputs": [],
   "source": [
    "tree = xml.etree.ElementTree.fromstring(r.text)\n",
    "token = [element.text for element in tree.findall('id')][0]"
   ]
  },
  {
   "cell_type": "markdown",
   "metadata": {},
   "source": [
    "## Get Data"
   ]
  },
  {
   "cell_type": "code",
   "execution_count": 42,
   "metadata": {},
   "outputs": [],
   "source": [
    "base_url = \"https://n5eil01u.ecs.nsidc.org/egi/request\"\n",
    "product = \"SPL3SMA\"\n",
    "version = \"003\"\n",
    "start_time = \"2015-03-30\"\n",
    "end_time = \"2015-06-12\"\n",
    "data_layers = \"/Soil_Moisture_Retrieval_Data/soil_moisture\"\n",
    "bbox = \"-70,42,-69,43\"\n",
    "response_format = \"HDF-EOS5\"\n",
    "token = token  # from above"
   ]
  },
  {
   "cell_type": "code",
   "execution_count": 43,
   "metadata": {},
   "outputs": [],
   "source": [
    "url = \"{base_url}?short_name={product}&version={version}\".format(base_url=base_url, product=product, version=version,) + \\\n",
    "      \"&time={start_time},{end_time}&Subset_Data_Layers={data_layers}\".format(start_time=start_time, end_time=end_time, data_layers=data_layers, ) + \\\n",
    "      \"&Bbox={bbox}&format={response_format}&token={token}\".format(bbox=bbox, response_format=response_format, token=token)\n",
    "\n",
    "r = requests.get(url)"
   ]
  },
  {
   "cell_type": "code",
   "execution_count": 44,
   "metadata": {},
   "outputs": [],
   "source": [
    "with open('output.h5', 'wb') as f:\n",
    "    f.write(r.content)"
   ]
  },
  {
   "cell_type": "markdown",
   "metadata": {},
   "source": [
    "## Look at the Data"
   ]
  }
 ],
 "metadata": {
  "kernelspec": {
   "display_name": "Python 3",
   "language": "python",
   "name": "python3"
  },
  "language_info": {
   "codemirror_mode": {
    "name": "ipython",
    "version": 3
   },
   "file_extension": ".py",
   "mimetype": "text/x-python",
   "name": "python",
   "nbconvert_exporter": "python",
   "pygments_lexer": "ipython3",
   "version": "3.7.0"
  }
 },
 "nbformat": 4,
 "nbformat_minor": 2
}
