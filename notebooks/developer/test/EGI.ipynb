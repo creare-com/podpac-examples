{
 "cells": [
  {
   "cell_type": "markdown",
   "metadata": {},
   "source": [
    "# NSIDC EGI Interface\n",
    "\n",
    "- https://github.com/creare-com/podpac/issues/237\n",
    "- https://developer.earthdata.nasa.gov/sdps/programmatic-access-docs#curl\n",
    "- https://nsidc.org/support/how/how-do-i-programmatically-request-data-services"
   ]
  },
  {
   "cell_type": "code",
   "execution_count": null,
   "metadata": {},
   "outputs": [],
   "source": [
    "import requests\n",
    "import xml.etree.ElementTree\n",
    "import socket\n",
    "import os"
   ]
  },
  {
   "cell_type": "markdown",
   "metadata": {},
   "source": [
    "## Obtain Token\n",
    "\n",
    "https://wiki.earthdata.nasa.gov/display/CMR/Creating+a+Token+Common"
   ]
  },
  {
   "cell_type": "code",
   "execution_count": null,
   "metadata": {},
   "outputs": [],
   "source": [
    "username = \"\"\n",
    "password = \"\"\n",
    "url = 'https://cmr.earthdata.nasa.gov/legacy-services/rest/tokens'"
   ]
  },
  {
   "cell_type": "code",
   "execution_count": null,
   "metadata": {},
   "outputs": [],
   "source": [
    "def get_ip():\n",
    "    s = socket.socket(socket.AF_INET, socket.SOCK_DGRAM)\n",
    "    try:\n",
    "        s.connect(('8.8.8.8', 80))\n",
    "        ip = s.getsockname()[0]\n",
    "    except:\n",
    "        ip = '127.0.0.1'\n",
    "    finally:\n",
    "        s.close()\n",
    "    return ip"
   ]
  },
  {
   "cell_type": "code",
   "execution_count": null,
   "metadata": {},
   "outputs": [],
   "source": [
    "ip = get_ip()\n",
    "request = \"\"\"\n",
    "<token>\n",
    "    <username>{username}</username>\n",
    "    <password>{password}</password>\n",
    "    <client_id>podpac</client_id>\n",
    "    <user_ip_address>{ip}</user_ip_address>\n",
    "</token>\n",
    "\"\"\".format(username=username, password=password,ip=ip)\n",
    "headers = {\"Content-Type\": \"application/xml\"}\n",
    "r = requests.post(url, data=request, headers=headers)"
   ]
  },
  {
   "cell_type": "code",
   "execution_count": null,
   "metadata": {},
   "outputs": [],
   "source": [
    "tree = xml.etree.ElementTree.fromstring(r.text)\n",
    "token = [element.text for element in tree.findall('id')][0]"
   ]
  },
  {
   "cell_type": "code",
   "execution_count": null,
   "metadata": {},
   "outputs": [],
   "source": [
    "token"
   ]
  },
  {
   "cell_type": "markdown",
   "metadata": {},
   "source": [
    "## Get Data"
   ]
  },
  {
   "cell_type": "code",
   "execution_count": null,
   "metadata": {},
   "outputs": [],
   "source": [
    "base_url = \"https://n5eil01u.ecs.nsidc.org/egi/request\"\n",
    "# base_url = \"https://n5eil02u.ecs.nsidc.org/egi/request\"\n",
    "product = \"SPL3SMA\"\n",
    "version = \"003\"\n",
    "start_time = \"2015-03-30\"\n",
    "end_time = \"2015-06-12\"\n",
    "data_layers = \"/Soil_Moisture_Retrieval_Data/soil_moisture\"\n",
    "bbox = \"-70,42,-69,43\"\n",
    "response_format = \"HDF-EOS5\"\n",
    "# response_format = \"GeoTIFF\"\n",
    "token = token  # from above"
   ]
  },
  {
   "cell_type": "code",
   "execution_count": null,
   "metadata": {},
   "outputs": [],
   "source": [
    "url = \"{base_url}?short_name={product}&version={version}\".format(base_url=base_url, product=product, version=version,) + \\\n",
    "      \"&time={start_time},{end_time}&Coverage={data_layers}\".format(start_time=start_time, end_time=end_time, data_layers=data_layers, ) + \\\n",
    "      \"&Bbox={bbox}&format={response_format}&token={token}\".format(bbox=bbox, response_format=response_format, token=token)\n",
    "\n",
    "r = requests.get(url)"
   ]
  },
  {
   "cell_type": "markdown",
   "metadata": {},
   "source": [
    "## Look at the Data"
   ]
  },
  {
   "cell_type": "code",
   "execution_count": null,
   "metadata": {},
   "outputs": [],
   "source": [
    "from podpac.data import Rasterio\n",
    "import zipfile\n",
    "from io import BytesIO\n",
    "%matplotlib inline"
   ]
  },
  {
   "cell_type": "code",
   "execution_count": null,
   "metadata": {},
   "outputs": [],
   "source": [
    "with open('output.zip', 'wb') as f:\n",
    "    f.write(r.content)"
   ]
  },
  {
   "cell_type": "code",
   "execution_count": null,
   "metadata": {},
   "outputs": [],
   "source": [
    "f = BytesIO(r.content)\n",
    "zip_file = zipfile.ZipFile(f)\n",
    "\n",
    "for name in zip_file.namelist():\n",
    "    h5data = zip_file.read(name)\n"
   ]
  },
  {
   "cell_type": "code",
   "execution_count": null,
   "metadata": {},
   "outputs": [],
   "source": [
    "with zipfile.ZipFile(\"output.zip\",\"r\") as zip_ref:\n",
    "    zip_ref.extractall()"
   ]
  },
  {
   "cell_type": "code",
   "execution_count": null,
   "metadata": {},
   "outputs": [],
   "source": [
    "node = Rasterio(source='78753123/SMAP_L3_SM_A_20150413_R13080_002_Soil_Moisture_Retrieval_Data_soil_moisture_1aec95e7.tif')"
   ]
  },
  {
   "cell_type": "code",
   "execution_count": null,
   "metadata": {},
   "outputs": [],
   "source": [
    "node.native_coordinates"
   ]
  },
  {
   "cell_type": "code",
   "execution_count": null,
   "metadata": {},
   "outputs": [],
   "source": [
    "node.native_coordinates.crs"
   ]
  },
  {
   "cell_type": "code",
   "execution_count": null,
   "metadata": {},
   "outputs": [],
   "source": [
    "o = node.eval(node.native_coordinates)\n",
    "o.plot()"
   ]
  },
  {
   "cell_type": "markdown",
   "metadata": {},
   "source": [
    "## PODPAC Interface"
   ]
  },
  {
   "cell_type": "code",
   "execution_count": null,
   "metadata": {},
   "outputs": [],
   "source": [
    "from podpac.datalib import EGI\n",
    "from podpac import settings"
   ]
  },
  {
   "cell_type": "code",
   "execution_count": null,
   "metadata": {},
   "outputs": [],
   "source": [
    "username = \"\"\n",
    "password = \"\"\n",
    "token = \"DCF3DD10-C56C-1F7F-12FE-6408839955B8\""
   ]
  },
  {
   "cell_type": "code",
   "execution_count": null,
   "metadata": {},
   "outputs": [],
   "source": [
    "node = EGI(token=token, short_name=\"SPL3SMA\", version=\"003\", data_key=\"/Soil_Moisture_Retrieval_Data/soil_moisture\")"
   ]
  },
  {
   "cell_type": "code",
   "execution_count": null,
   "metadata": {},
   "outputs": [],
   "source": [
    "node"
   ]
  },
  {
   "cell_type": "code",
   "execution_count": null,
   "metadata": {},
   "outputs": [],
   "source": [
    "node.token_valid()"
   ]
  },
  {
   "cell_type": "code",
   "execution_count": null,
   "metadata": {},
   "outputs": [],
   "source": [
    "node.get_token()"
   ]
  },
  {
   "cell_type": "code",
   "execution_count": null,
   "metadata": {},
   "outputs": [],
   "source": [
    "node.token_valid()"
   ]
  },
  {
   "cell_type": "code",
   "execution_count": null,
   "metadata": {},
   "outputs": [],
   "source": [
    "node.token"
   ]
  },
  {
   "cell_type": "code",
   "execution_count": null,
   "metadata": {},
   "outputs": [],
   "source": []
  }
 ],
 "metadata": {
  "kernelspec": {
   "display_name": "Python 3",
   "language": "python",
   "name": "python3"
  },
  "language_info": {
   "codemirror_mode": {
    "name": "ipython",
    "version": 3
   },
   "file_extension": ".py",
   "mimetype": "text/x-python",
   "name": "python",
   "nbconvert_exporter": "python",
   "pygments_lexer": "ipython3",
   "version": "3.7.0"
  }
 },
 "nbformat": 4,
 "nbformat_minor": 2
}
