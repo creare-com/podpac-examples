{
 "cells": [
  {
   "cell_type": "code",
   "execution_count": 2,
   "metadata": {},
   "outputs": [],
   "source": [
    "import requests\n",
    "import xml.etree.ElementTree\n",
    "import socket\n",
    "import os"
   ]
  },
  {
   "cell_type": "markdown",
   "metadata": {},
   "source": [
    "## Obtain Token\n",
    "\n",
    "https://wiki.earthdata.nasa.gov/display/CMR/Creating+a+Token+Common"
   ]
  },
  {
   "cell_type": "code",
   "execution_count": 2,
   "metadata": {},
   "outputs": [],
   "source": [
    "username = \"\"\n",
    "password = \"\"\n",
    "url = 'https://cmr.earthdata.nasa.gov/legacy-services/rest/tokens'"
   ]
  },
  {
   "cell_type": "code",
   "execution_count": 3,
   "metadata": {},
   "outputs": [],
   "source": [
    "def get_ip():\n",
    "    s = socket.socket(socket.AF_INET, socket.SOCK_DGRAM)\n",
    "    try:\n",
    "        s.connect(('8.8.8.8', 80))\n",
    "        ip = s.getsockname()[0]\n",
    "    except:\n",
    "        ip = '127.0.0.1'\n",
    "    finally:\n",
    "        s.close()\n",
    "    return ip"
   ]
  },
  {
   "cell_type": "code",
   "execution_count": 4,
   "metadata": {},
   "outputs": [],
   "source": [
    "ip = get_ip()\n",
    "request = \"\"\"\n",
    "<token>\n",
    "    <username>{username}</username>\n",
    "    <password>{password}</password>\n",
    "    <client_id>podpac</client_id>\n",
    "    <user_ip_address>{ip}</user_ip_address>\n",
    "</token>\n",
    "\"\"\".format(username=username, password=password,ip=ip)\n",
    "headers = {\"Content-Type\": \"application/xml\"}\n",
    "r = requests.post(url, data=request, headers=headers)"
   ]
  },
  {
   "cell_type": "code",
   "execution_count": 5,
   "metadata": {},
   "outputs": [],
   "source": [
    "tree = xml.etree.ElementTree.fromstring(r.text)\n",
    "token = [element.text for element in tree.findall('id')][0]"
   ]
  },
  {
   "cell_type": "code",
   "execution_count": 6,
   "metadata": {},
   "outputs": [
    {
     "data": {
      "text/plain": [
       "'D76A634F-9083-5D1D-2DFF-FEB67AA851AA'"
      ]
     },
     "execution_count": 6,
     "metadata": {},
     "output_type": "execute_result"
    }
   ],
   "source": [
    "token"
   ]
  },
  {
   "cell_type": "markdown",
   "metadata": {},
   "source": [
    "## Get Data"
   ]
  },
  {
   "cell_type": "code",
   "execution_count": 62,
   "metadata": {},
   "outputs": [],
   "source": [
    "base_url = \"https://n5eil01u.ecs.nsidc.org/egi/request\"\n",
    "# base_url = \"https://n5eil02u.ecs.nsidc.org/egi/request\"\n",
    "version = \"004\"\n",
    "start_time = \"2015-03-30\"\n",
    "end_time = \"2015-06-12\"\n",
    "bbox = \"-70,42,-69,43\"\n",
    "response_format = \"HDF-EOS\"\n",
    "# response_format = \"GeoTIFF\"\n",
    "token = token  # from above\n",
    "\n",
    "# product = \"SPL4SMAU\"\n",
    "# data_layers = \"/Analysis_Data/sm_surface_analysis\"\n",
    "\n",
    "# product = \"SPL4SMGP\"\n",
    "# data_layers = \"/Geophysical_Data/sm_surface\"\n",
    "\n",
    "# product = \"SPL3SMP\"\n",
    "# data_layers = \"/Soil_Moisture_Retrieval_Data/soil_moisture\"\n",
    "\n",
    "# product = \"SPL3SMAP\"  # No granule with this name\n",
    "# data_layers = \"/Soil_Moisture_Retrieval_Data/soil_moisture\"\n",
    "\n",
    "# product = \"SPL3SMP\"\n",
    "# data_layers = \"/Soil_Moisture_Retrieval_Data/soil_moisture\"\n",
    "\n",
    "# product = \"SPL3SMP_E\"  # No granule with this name\n",
    "# data_layers = \"\"\n",
    "\n",
    "\n",
    "# product = \"SPL2SMAP_S\"  # No granule with this name\n",
    "# data_layers = \"\"\n"
   ]
  },
  {
   "cell_type": "code",
   "execution_count": 63,
   "metadata": {},
   "outputs": [],
   "source": [
    "url = \"{base_url}?short_name={product}&version={version}\".format(base_url=base_url, product=product, version=version,) + \\\n",
    "      \"&time={start_time},{end_time}&Coverage={data_layers}\".format(start_time=start_time, end_time=end_time, data_layers=data_layers, ) + \\\n",
    "      \"&Bbox={bbox}&format={response_format}&token={token}\".format(bbox=bbox, response_format=response_format, token=token)\n",
    "\n",
    "r = requests.get(url)"
   ]
  },
  {
   "cell_type": "code",
   "execution_count": 64,
   "metadata": {},
   "outputs": [
    {
     "data": {
      "text/plain": [
       "'<?xml version=\"1.0\" encoding=\"UTF-8\" standalone=\"yes\"?>\\n<eesi:Exception xsi:schemaLocation=\"http://eosdis.nasa.gov/esi/rsp/e https://newsroom.gsfc.nasa.gov/esi/8.1/schemas/ESIAgentResponseExternal.xsd\" xmlns=\"\" xmlns:iesi=\"http://eosdis.nasa.gov/esi/rsp/i\" xmlns:ssw=\"http://newsroom.gsfc.nasa.gov/esi/rsp/ssw\" xmlns:eesi=\"http://eosdis.nasa.gov/esi/rsp/e\" xmlns:esi=\"http://eosdis.nasa.gov/esi/rsp\" xmlns:xsi=\"http://www.w3.org/2001/XMLSchema-instance\">\\n    <Code>InternalError</Code>\\n    <Message>No granules returned by CMR: https://cmr.earthdata.nasa.gov/search/granules?provider=NSIDC_ECS&amp;short_name=SPL3SMP_E&amp;version=004&amp;temporal=2015-03-30,2015-06-12&amp;token=D76A634F-9083-5D1D-2DFF-FEB67AA851AA</Message>\\n</eesi:Exception>\\n'"
      ]
     },
     "execution_count": 64,
     "metadata": {},
     "output_type": "execute_result"
    }
   ],
   "source": [
    "r.text"
   ]
  },
  {
   "cell_type": "code",
   "execution_count": 73,
   "metadata": {},
   "outputs": [
    {
     "name": "stdout",
     "output_type": "stream",
     "text": [
      "0:00:14.644087\n"
     ]
    }
   ],
   "source": [
    "from datetime import datetime\n",
    "s = datetime.now()\n",
    "url = 'https://n5eil01u.ecs.nsidc.org/egi/request?short_name=SPL4SMGP&Coverage=/Geophysical_Data/sm_surface,/cell_lat,/cell_lon&format=HDF-EOS&version=004&time=2015-07-06T00:00:00,2015-07-08T00:00:00&Bbox=-82.0,38.0,-81.0,39.0&token=5DEEC6C2-8092-628B-1CE4-2A97C8FE2CF7'\n",
    "r = requests.get(url)\n",
    "e = datetime.now()\n",
    "print(e-s)"
   ]
  },
  {
   "cell_type": "code",
   "execution_count": 74,
   "metadata": {},
   "outputs": [],
   "source": [
    "with open('output.zip', 'wb') as f:\n",
    "    f.write(r.content)"
   ]
  },
  {
   "cell_type": "code",
   "execution_count": 10,
   "metadata": {},
   "outputs": [],
   "source": [
    "f = h5py.File('output/139973806/SMAP_L4_SM_gph_20150705T223000_Vv4030_001_HEGOUT.h5')"
   ]
  },
  {
   "cell_type": "code",
   "execution_count": 11,
   "metadata": {},
   "outputs": [
    {
     "data": {
      "text/plain": [
       "['Geophysical_Data', 'Metadata', 'projection_information', 'time', 'x', 'y']"
      ]
     },
     "execution_count": 11,
     "metadata": {},
     "output_type": "execute_result"
    }
   ],
   "source": [
    "[k for k in f]"
   ]
  },
  {
   "cell_type": "code",
   "execution_count": 12,
   "metadata": {},
   "outputs": [],
   "source": [
    "f = h5py.File('output 8/139973815/SMAP_L4_SM_aup_20150706T000000_Vv4030_001_HEGOUT.h5')"
   ]
  },
  {
   "cell_type": "code",
   "execution_count": 13,
   "metadata": {},
   "outputs": [
    {
     "data": {
      "text/plain": [
       "array([-7913576.47251037, -7904568.41753112, -7895560.36255187,\n",
       "       -7886552.30757261, -7877544.25259336, -7868536.19761411,\n",
       "       -7859528.14263485, -7850520.0876556 , -7841512.03267635,\n",
       "       -7832503.97769709, -7823495.92271784])"
      ]
     },
     "execution_count": 13,
     "metadata": {},
     "output_type": "execute_result"
    }
   ],
   "source": [
    "f['x'][()]"
   ]
  },
  {
   "cell_type": "code",
   "execution_count": 14,
   "metadata": {},
   "outputs": [
    {
     "data": {
      "text/plain": [
       "array([4607620.47251037, 4598612.41753112, 4589604.36255187,\n",
       "       4580596.30757261, 4571588.25259336, 4562580.19761411,\n",
       "       4553572.14263485, 4544564.0876556 , 4535556.03267635,\n",
       "       4526547.97769709, 4517539.92271784])"
      ]
     },
     "execution_count": 14,
     "metadata": {},
     "output_type": "execute_result"
    }
   ],
   "source": [
    "f['y'][()]"
   ]
  },
  {
   "cell_type": "markdown",
   "metadata": {},
   "source": [
    "## Look at the Data"
   ]
  },
  {
   "cell_type": "code",
   "execution_count": 11,
   "metadata": {},
   "outputs": [],
   "source": [
    "from podpac.data import Rasterio\n",
    "import zipfile\n",
    "from io import BytesIO\n",
    "%matplotlib inline"
   ]
  },
  {
   "cell_type": "code",
   "execution_count": 17,
   "metadata": {},
   "outputs": [],
   "source": [
    "# helper function to display all keys in hdf5 file\n",
    "def explore(f, key):\n",
    "    print(key)\n",
    "    print([k for k in f[key]])\n",
    "    if len(f[key]) and not isinstance(f[key], h5py.Dataset):\n",
    "        for newkey in f[key]:\n",
    "            explore(f, '{}/{}'.format(key, newkey))\n",
    "\n",
    "    if isinstance(f[key], h5py.Dataset):\n",
    "        print(key + ' attrs:')\n",
    "        print([k for k in f[key].attrs])"
   ]
  },
  {
   "cell_type": "code",
   "execution_count": 56,
   "metadata": {},
   "outputs": [],
   "source": [
    "with open('output.zip', 'wb') as f:\n",
    "    f.write(r.content)"
   ]
  },
  {
   "cell_type": "code",
   "execution_count": null,
   "metadata": {},
   "outputs": [],
   "source": [
    "f = BytesIO(r.content)\n",
    "zip_file = zipfile.ZipFile(f)\n",
    "\n",
    "for name in zip_file.namelist():\n",
    "    h5data = zip_file.read(name)"
   ]
  },
  {
   "cell_type": "code",
   "execution_count": 19,
   "metadata": {},
   "outputs": [],
   "source": [
    "with zipfile.ZipFile(\"output.zip\",\"r\") as zip_ref:\n",
    "    zip_ref.extractall()"
   ]
  },
  {
   "cell_type": "code",
   "execution_count": 5,
   "metadata": {},
   "outputs": [],
   "source": [
    "node = Rasterio(source='test.tiff')"
   ]
  },
  {
   "cell_type": "code",
   "execution_count": 6,
   "metadata": {},
   "outputs": [
    {
     "data": {
      "text/plain": [
       "Coordinates\n",
       "\tlat: UniformCoordinates1d(lat): Bounds[4999469.950207469, 5089550.5], N[10], ctype['midpoint']\n",
       "\tlon: UniformCoordinates1d(lon): Bounds[-7143387.5, -7044298.8952282155], N[11], ctype['midpoint']"
      ]
     },
     "execution_count": 6,
     "metadata": {},
     "output_type": "execute_result"
    }
   ],
   "source": [
    "node.native_coordinates"
   ]
  },
  {
   "cell_type": "code",
   "execution_count": null,
   "metadata": {},
   "outputs": [],
   "source": [
    "o = node.eval(node.native_coordinates)\n",
    "o.plot()"
   ]
  },
  {
   "cell_type": "code",
   "execution_count": 49,
   "metadata": {},
   "outputs": [],
   "source": [
    "f = h5py.File('output 6/139973815/SMAP_L4_SM_aup_20150706T000000_Vv4030_001_HEGOUT.h5')"
   ]
  },
  {
   "cell_type": "code",
   "execution_count": 50,
   "metadata": {},
   "outputs": [
    {
     "data": {
      "text/plain": [
       "['Analysis_Data',\n",
       " 'Forecast_Data',\n",
       " 'Metadata',\n",
       " 'Observations_Data',\n",
       " 'cell_column',\n",
       " 'cell_lat',\n",
       " 'cell_lon',\n",
       " 'cell_row',\n",
       " 'time',\n",
       " 'x',\n",
       " 'y']"
      ]
     },
     "execution_count": 50,
     "metadata": {},
     "output_type": "execute_result"
    }
   ],
   "source": [
    "[k for k in f]"
   ]
  },
  {
   "cell_type": "code",
   "execution_count": 53,
   "metadata": {},
   "outputs": [],
   "source": [
    "f = h5py.File('output 4/139973815/SMAP_L4_SM_aup_20150706T000000_Vv4030_001_HEGOUT.h5')"
   ]
  },
  {
   "cell_type": "code",
   "execution_count": 54,
   "metadata": {},
   "outputs": [
    {
     "data": {
      "text/plain": [
       "['Forecast_Data', 'Metadata', 'projection_information', 'time', 'x', 'y']"
      ]
     },
     "execution_count": 54,
     "metadata": {},
     "output_type": "execute_result"
    }
   ],
   "source": [
    "[k for k in f]"
   ]
  },
  {
   "cell_type": "code",
   "execution_count": 29,
   "metadata": {},
   "outputs": [],
   "source": [
    "f = h5py.File('output 3/81805640/SMAP_L3_SM_AP_20150707_R13080_001_HEGOUT.h5')"
   ]
  },
  {
   "cell_type": "markdown",
   "metadata": {},
   "source": [
    "## PODPAC Interface"
   ]
  },
  {
   "cell_type": "code",
   "execution_count": 2,
   "metadata": {},
   "outputs": [],
   "source": [
    "from podpac.datalib import EGI\n",
    "from podpac import settings"
   ]
  },
  {
   "cell_type": "markdown",
   "metadata": {},
   "source": [
    "## EGI"
   ]
  },
  {
   "cell_type": "code",
   "execution_count": null,
   "metadata": {},
   "outputs": [],
   "source": [
    "username = \"\"\n",
    "password = \"\"\n",
    "token = \"DCF3DD10-C56C-1F7F-12FE-6408839955B8\""
   ]
  },
  {
   "cell_type": "code",
   "execution_count": null,
   "metadata": {},
   "outputs": [],
   "source": [
    "node = EGI(token=token, short_name=\"SPL3SMA\", version=\"003\", data_key=\"/Soil_Moisture_Retrieval_Data/soil_moisture\")"
   ]
  },
  {
   "cell_type": "code",
   "execution_count": null,
   "metadata": {},
   "outputs": [],
   "source": [
    "node"
   ]
  },
  {
   "cell_type": "code",
   "execution_count": null,
   "metadata": {},
   "outputs": [],
   "source": [
    "node.token_valid()"
   ]
  },
  {
   "cell_type": "code",
   "execution_count": null,
   "metadata": {},
   "outputs": [],
   "source": [
    "node.get_token()"
   ]
  },
  {
   "cell_type": "code",
   "execution_count": null,
   "metadata": {},
   "outputs": [],
   "source": [
    "node.token_valid()"
   ]
  },
  {
   "cell_type": "code",
   "execution_count": null,
   "metadata": {},
   "outputs": [],
   "source": [
    "node.token"
   ]
  },
  {
   "cell_type": "markdown",
   "metadata": {},
   "source": [
    "## SMAP"
   ]
  },
  {
   "cell_type": "code",
   "execution_count": 1,
   "metadata": {},
   "outputs": [
    {
     "name": "stderr",
     "output_type": "stream",
     "text": [
      "INFO:botocore.credentials:Found credentials in shared credentials file: ~/.aws/credentials\n"
     ]
    }
   ],
   "source": [
    "import podpac\n",
    "from podpac.datalib.smap_egi import SMAP\n",
    "import zipfile\n",
    "import h5py\n",
    "\n",
    "from podpac import Coordinates, clinspace\n",
    "import numpy as np\n",
    "\n",
    "import logging\n",
    "logger = logging.getLogger('podpac')\n",
    "logger.setLevel(logging.DEBUG)"
   ]
  },
  {
   "cell_type": "code",
   "execution_count": 2,
   "metadata": {},
   "outputs": [],
   "source": [
    "c = Coordinates([clinspace(-82, -81, 10), clinspace(38, 39, 10), clinspace('2015-07-06', '2015-07-08', 10)], dims=['lon', 'lat', 'time'])\n",
    "node = SMAP(product=\"SPL4SMAU\")"
   ]
  },
  {
   "cell_type": "code",
   "execution_count": 3,
   "metadata": {},
   "outputs": [
    {
     "name": "stdout",
     "output_type": "stream",
     "text": [
      "Automatic pdb calling has been turned ON\n"
     ]
    },
    {
     "name": "stderr",
     "output_type": "stream",
     "text": [
      "DEBUG:podpac.datalib.egi:EGI Token valid\n",
      "DEBUG:podpac.datalib.egi:Querying EGI url: https://n5eil01u.ecs.nsidc.org/egi/request?short_name=SPL4SMAU&Coverage=/Analysis_Data/sm_surface_analysis,/x,/y&format=HDF-EOS&version=004&time=2015-07-06T00:00:00,2015-07-08T00:00:00&Bbox=-82.0,38.0,-81.0,39.0&token=056C40A1-E226-31F5-4746-F9B75A30679F\n",
      "DEBUG:podpac.datalib.egi:Processing 10 EGI files from zip archive\n",
      "DEBUG:podpac.datalib.egi:Reading file: 139973815/SMAP_L4_SM_aup_20150706T000000_Vv4030_001_HEGOUT.h5\n",
      "DEBUG:podpac.datalib.egi:Reading file: 139973872/SMAP_L4_SM_aup_20150706T030000_Vv4030_001_HEGOUT.h5\n",
      "DEBUG:podpac.datalib.egi:Reading file: 139973877/SMAP_L4_SM_aup_20150706T060000_Vv4030_001_HEGOUT.h5\n",
      "DEBUG:podpac.datalib.egi:Reading file: 139973882/SMAP_L4_SM_aup_20150706T090000_Vv4030_001_HEGOUT.h5\n",
      "DEBUG:podpac.datalib.egi:Reading file: 139973868/SMAP_L4_SM_aup_20150706T120000_Vv4030_001_HEGOUT.h5\n",
      "DEBUG:podpac.datalib.egi:Reading file: 139973874/SMAP_L4_SM_aup_20150706T150000_Vv4030_001_HEGOUT.h5\n",
      "DEBUG:podpac.datalib.egi:Reading file: 139973866/SMAP_L4_SM_aup_20150706T180000_Vv4030_001_HEGOUT.h5\n",
      "DEBUG:podpac.datalib.egi:Reading file: 139973880/SMAP_L4_SM_aup_20150706T210000_Vv4030_001_HEGOUT.h5\n",
      "DEBUG:podpac.datalib.egi:Reading file: 139973876/SMAP_L4_SM_aup_20150707T000000_Vv4030_001_HEGOUT.h5\n",
      "DEBUG:podpac.datalib.egi:Reading file: 139973925/SMAP_L4_SM_aup_20150707T030000_Vv4030_001_HEGOUT.h5\n",
      "DEBUG:podpac.core.data.datasource:Evaluating SMAP data source\n",
      "/Users/marcus/computing/creare/podpac/podpac/podpac/core/coordinates/dependent_coordinates.py:491: UserWarning: transformation of coordinate segment lengths not yet implemented\n",
      "  warnings.warn(\"transformation of coordinate segment lengths not yet implemented\")\n",
      "/Users/marcus/computing/creare/podpac/podpac/podpac/core/coordinates/dependent_coordinates.py:493: UserWarning: transformation of coordinate segment lengths not yet implemented\n",
      "  warnings.warn(\"transformation of coordinate segment lengths not yet implemented\")\n"
     ]
    }
   ],
   "source": [
    "%pdb\n",
    "o = node.eval(c)"
   ]
  },
  {
   "cell_type": "code",
   "execution_count": 4,
   "metadata": {},
   "outputs": [
    {
     "data": {
      "text/plain": [
       "<xarray.UnitsDataArray (lon: 10, lat: 10, time: 10)>\n",
       "array([[[nan, nan, ..., nan, nan],\n",
       "        [nan, nan, ..., nan, nan],\n",
       "        ...,\n",
       "        [nan, nan, ..., nan, nan],\n",
       "        [nan, nan, ..., nan, nan]],\n",
       "\n",
       "       [[nan, nan, ..., nan, nan],\n",
       "        [nan, nan, ..., nan, nan],\n",
       "        ...,\n",
       "        [nan, nan, ..., nan, nan],\n",
       "        [nan, nan, ..., nan, nan]],\n",
       "\n",
       "       ...,\n",
       "\n",
       "       [[nan, nan, ..., nan, nan],\n",
       "        [nan, nan, ..., nan, nan],\n",
       "        ...,\n",
       "        [nan, nan, ..., nan, nan],\n",
       "        [nan, nan, ..., nan, nan]],\n",
       "\n",
       "       [[nan, nan, ..., nan, nan],\n",
       "        [nan, nan, ..., nan, nan],\n",
       "        ...,\n",
       "        [nan, nan, ..., nan, nan],\n",
       "        [nan, nan, ..., nan, nan]]])\n",
       "Coordinates:\n",
       "  * lon      (lon) float64 -82.0 -81.89 -81.78 -81.67 ... -81.22 -81.11 -81.0\n",
       "  * lat      (lat) float64 38.0 38.11 38.22 38.33 ... 38.67 38.78 38.89 39.0\n",
       "  * time     (time) datetime64[ns] 2015-07-06 2015-07-06T05:20:00 ... 2015-07-08\n",
       "Attributes:\n",
       "    layer_style:  <podpac.core.style.Style object at 0x1c29f75ac8>\n",
       "    crs:          EPSG:4326"
      ]
     },
     "execution_count": 4,
     "metadata": {},
     "output_type": "execute_result"
    }
   ],
   "source": [
    "o"
   ]
  },
  {
   "cell_type": "code",
   "execution_count": 5,
   "metadata": {},
   "outputs": [
    {
     "name": "stderr",
     "output_type": "stream",
     "text": [
      "/Users/marcus/computing/creare/podpac/podpac/podpac/core/coordinates/dependent_coordinates.py:491: UserWarning: transformation of coordinate segment lengths not yet implemented\n",
      "  warnings.warn(\"transformation of coordinate segment lengths not yet implemented\")\n",
      "/Users/marcus/computing/creare/podpac/podpac/podpac/core/coordinates/dependent_coordinates.py:493: UserWarning: transformation of coordinate segment lengths not yet implemented\n",
      "  warnings.warn(\"transformation of coordinate segment lengths not yet implemented\")\n"
     ]
    }
   ],
   "source": [
    "a = node.native_coordinates.transform('epsg:4326')"
   ]
  },
  {
   "cell_type": "code",
   "execution_count": 8,
   "metadata": {},
   "outputs": [
    {
     "data": {
      "text/plain": [
       "array([[nan, nan, nan, nan, nan, nan, nan, nan, nan, nan, nan],\n",
       "       [nan, nan, nan, nan, nan, nan, nan, nan, nan, nan, nan],\n",
       "       [nan, nan, nan, nan, nan, nan, nan, nan, nan, nan, nan],\n",
       "       [nan, nan, nan, nan, nan, nan, nan, nan, nan, nan, nan],\n",
       "       [nan, nan, nan, nan, nan, nan, nan, nan, nan, nan, nan],\n",
       "       [nan, nan, nan, nan, nan, nan, nan, nan, nan, nan, nan],\n",
       "       [nan, nan, nan, nan, nan, nan, nan, nan, nan, nan, nan],\n",
       "       [nan, nan, nan, nan, nan, nan, nan, nan, nan, nan, nan],\n",
       "       [nan, nan, nan, nan, nan, nan, nan, nan, nan, nan, nan],\n",
       "       [nan, nan, nan, nan, nan, nan, nan, nan, nan, nan, nan],\n",
       "       [nan, nan, nan, nan, nan, nan, nan, nan, nan, nan, nan]])"
      ]
     },
     "execution_count": 8,
     "metadata": {},
     "output_type": "execute_result"
    }
   ],
   "source": [
    "a['lat'].coordinates"
   ]
  },
  {
   "cell_type": "code",
   "execution_count": 8,
   "metadata": {},
   "outputs": [
    {
     "name": "stderr",
     "output_type": "stream",
     "text": [
      "/Users/marcus/computing/creare/podpac/podpac/podpac/core/coordinates/dependent_coordinates.py:491: UserWarning: transformation of coordinate segment lengths not yet implemented\n",
      "  warnings.warn(\"transformation of coordinate segment lengths not yet implemented\")\n",
      "/Users/marcus/computing/creare/podpac/podpac/podpac/core/coordinates/dependent_coordinates.py:493: UserWarning: transformation of coordinate segment lengths not yet implemented\n",
      "  warnings.warn(\"transformation of coordinate segment lengths not yet implemented\")\n",
      "/anaconda3/envs/podpac/lib/python3.7/site-packages/numpy/core/fromnumeric.py:83: RuntimeWarning: invalid value encountered in reduce\n",
      "  return ufunc.reduce(obj, axis, dtype, out, **passkwargs)\n"
     ]
    },
    {
     "data": {
      "text/plain": [
       "Coordinates(epsg:4326)\n",
       "\ttime: ArrayCoordinates1d(time): Bounds[2015-07-05T13:00:00.000000000, 2015-07-06T16:00:00.000000000], N[10], ctype['point']\n",
       "\tlat,lon[lat]: DependentCoordinates(i,j->lat): Bounds[nan, nan], shape(11, 11), ctype[midpoint]\n",
       "\tlat,lon[lon]: DependentCoordinates(i,j->lon): Bounds[46.820542, 47.754152], shape(11, 11), ctype[midpoint]"
      ]
     },
     "execution_count": 8,
     "metadata": {},
     "output_type": "execute_result"
    }
   ],
   "source": [
    "node.native_coordinates.transform(crs=\"epsg:4326\")"
   ]
  }
 ],
 "metadata": {
  "kernelspec": {
   "display_name": "Python 3",
   "language": "python",
   "name": "python3"
  },
  "language_info": {
   "codemirror_mode": {
    "name": "ipython",
    "version": 3
   },
   "file_extension": ".py",
   "mimetype": "text/x-python",
   "name": "python",
   "nbconvert_exporter": "python",
   "pygments_lexer": "ipython3",
   "version": "3.7.0"
  }
 },
 "nbformat": 4,
 "nbformat_minor": 2
}
