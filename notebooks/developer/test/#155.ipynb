{
 "cells": [
  {
   "cell_type": "code",
   "execution_count": 1,
   "metadata": {},
   "outputs": [
    {
     "name": "stderr",
     "output_type": "stream",
     "text": [
      "/Users/marcus/computing/python/anaconda3/envs/podpac2/lib/python3.6/site-packages/h5py/__init__.py:36: FutureWarning: Conversion of the second argument of issubdtype from `float` to `np.floating` is deprecated. In future, it will be treated as `np.float64 == np.dtype(float).type`.\n",
      "  from ._conv import register_converters as _register_converters\n"
     ]
    }
   ],
   "source": [
    "# %load_ext autoreload\n",
    "# %autoreload 2\n",
    "import podpac\n",
    "import numpy as np"
   ]
  },
  {
   "cell_type": "code",
   "execution_count": 2,
   "metadata": {},
   "outputs": [],
   "source": [
    "username=''\n",
    "password=''\n",
    "smap = podpac.datalib.smap.SMAP(product='SPL3SMP', username=username, password=password)"
   ]
  },
  {
   "cell_type": "markdown",
   "metadata": {},
   "source": [
    "## SMAP source example"
   ]
  },
  {
   "cell_type": "code",
   "execution_count": 3,
   "metadata": {},
   "outputs": [
    {
     "data": {
      "text/plain": [
       "Coordinates\n",
       "\ttime: ArrayCoordinates1d(time): Bounds[2015-03-31, 2018-06-03], N[1157], ctype['midpoint']"
      ]
     },
     "execution_count": 3,
     "metadata": {},
     "output_type": "execute_result"
    }
   ],
   "source": [
    "smap.source_coordinates"
   ]
  },
  {
   "cell_type": "code",
   "execution_count": 4,
   "metadata": {},
   "outputs": [
    {
     "data": {
      "text/plain": [
       "Coordinates\n",
       "\ttime: ArrayCoordinates1d(time): Bounds[2015-03-31, 2018-06-03], N[1157], ctype['midpoint']\n",
       "\tlat: ArrayCoordinates1d(lat): Bounds[-83.63197326660156, 83.63196563720703], N[406], ctype['midpoint']\n",
       "\tlon: ArrayCoordinates1d(lon): Bounds[-179.8129119873047, 179.8129119873047], N[964], ctype['midpoint']"
      ]
     },
     "execution_count": 4,
     "metadata": {},
     "output_type": "execute_result"
    }
   ],
   "source": [
    "nc = smap.find_coordinates()[0]\n",
    "nc"
   ]
  },
  {
   "cell_type": "code",
   "execution_count": 5,
   "metadata": {},
   "outputs": [
    {
     "data": {
      "text/plain": [
       "Coordinates\n",
       "\tlat: ArrayCoordinates1d(lat): Bounds[-83.63197326660156, 83.63196563720703], N[406], ctype['midpoint']\n",
       "\tlon: ArrayCoordinates1d(lon): Bounds[-179.8129119873047, 179.8129119873047], N[964], ctype['midpoint']\n",
       "\ttime: ArrayCoordinates1d(time): Bounds[2018-05-19T12, 2018-05-19T12], N[1], ctype['midpoint']"
      ]
     },
     "execution_count": 5,
     "metadata": {},
     "output_type": "execute_result"
    }
   ],
   "source": [
    "c = podpac.coordinates.merge_dims([nc.drop('time'), podpac.Coordinates(['2018-05-19T12'], ['time'])])\n",
    "c"
   ]
  },
  {
   "cell_type": "code",
   "execution_count": 6,
   "metadata": {},
   "outputs": [
    {
     "data": {
      "text/plain": [
       "Coordinates\n",
       "\ttime: ArrayCoordinates1d(time): Bounds[2018-05-19, 2018-05-20], N[2], ctype['midpoint']"
      ]
     },
     "execution_count": 6,
     "metadata": {},
     "output_type": "execute_result"
    }
   ],
   "source": [
    "smap.source_coordinates.intersect(c, outer=True)"
   ]
  },
  {
   "cell_type": "code",
   "execution_count": 7,
   "metadata": {},
   "outputs": [
    {
     "data": {
      "text/plain": [
       "'nearest'"
      ]
     },
     "execution_count": 7,
     "metadata": {},
     "output_type": "execute_result"
    }
   ],
   "source": [
    "smap.interpolation"
   ]
  },
  {
   "cell_type": "code",
   "execution_count": 9,
   "metadata": {},
   "outputs": [
    {
     "data": {
      "text/plain": [
       "array([[[nan],\n",
       "        [nan],\n",
       "        [nan],\n",
       "        ...,\n",
       "        [nan],\n",
       "        [nan],\n",
       "        [nan]],\n",
       "\n",
       "       [[nan],\n",
       "        [nan],\n",
       "        [nan],\n",
       "        ...,\n",
       "        [nan],\n",
       "        [nan],\n",
       "        [nan]],\n",
       "\n",
       "       [[nan],\n",
       "        [nan],\n",
       "        [nan],\n",
       "        ...,\n",
       "        [nan],\n",
       "        [nan],\n",
       "        [nan]],\n",
       "\n",
       "       ...,\n",
       "\n",
       "       [[nan],\n",
       "        [nan],\n",
       "        [nan],\n",
       "        ...,\n",
       "        [nan],\n",
       "        [nan],\n",
       "        [nan]],\n",
       "\n",
       "       [[nan],\n",
       "        [nan],\n",
       "        [nan],\n",
       "        ...,\n",
       "        [nan],\n",
       "        [nan],\n",
       "        [nan]],\n",
       "\n",
       "       [[nan],\n",
       "        [nan],\n",
       "        [nan],\n",
       "        ...,\n",
       "        [nan],\n",
       "        [nan],\n",
       "        [nan]]])"
      ]
     },
     "execution_count": 9,
     "metadata": {},
     "output_type": "execute_result"
    }
   ],
   "source": [
    "out = smap.eval(c)  # <-- returns all nans\n",
    "out.data"
   ]
  },
  {
   "cell_type": "code",
   "execution_count": 15,
   "metadata": {},
   "outputs": [
    {
     "data": {
      "text/plain": [
       "(array([  0,   0,   0, ..., 405, 405, 405]),\n",
       " array([  0,   1,   2, ..., 961, 962, 963]),\n",
       " array([0, 0, 0, ..., 0, 0, 0]))"
      ]
     },
     "execution_count": 15,
     "metadata": {},
     "output_type": "execute_result"
    }
   ],
   "source": [
    "np.where(np.isnan(out.data))"
   ]
  },
  {
   "cell_type": "markdown",
   "metadata": {},
   "source": [
    "## Recreate Simple Example"
   ]
  },
  {
   "cell_type": "code",
   "execution_count": 53,
   "metadata": {},
   "outputs": [
    {
     "data": {
      "text/plain": [
       "Coordinates\n",
       "\ttime: UniformCoordinates1d(time): Bounds[2018-05-19, 2018-05-20], N[2], ctype['midpoint']"
      ]
     },
     "execution_count": 53,
     "metadata": {},
     "output_type": "execute_result"
    }
   ],
   "source": [
    "from podpac.coordinates import Coordinates, clinspace, UniformCoordinates1d\n",
    "import numpy as np\n",
    "\n",
    "a = Coordinates([clinspace('2015-03-31', '2018-06-03', 1157)], ['time'])\n",
    "b = Coordinates([clinspace(-83.63197326660156, 83.63196563720703, 406), \n",
    "                 clinspace(-179.8129119873047, 179.8129119873047, 964), \n",
    "                 '2018-05-19T12'], ['lat', 'lon','time'])\n",
    "\n",
    "c = Coordinates([clinspace(-83.63197326660156, 83.63196563720703, 406), \n",
    "                 clinspace(-179.8129119873047, 179.8129119873047, 964), \n",
    "                 clinspace('2015-05-19T12', '2018-05-20T20', 1157)], ['lat', 'lon','time'])\n",
    "\n",
    "d = Coordinates([clinspace(0, 10, 11)], ['lat'])\n",
    "e = Coordinates([[5.2]], ['lat'])\n",
    "\n",
    "a.intersect(b, outer=True)\n",
    "# d.intersect(e)"
   ]
  },
  {
   "cell_type": "code",
   "execution_count": 47,
   "metadata": {},
   "outputs": [],
   "source": [
    "self = a['time']\n",
    "bounds = b['time'].bounds\n",
    "outer = True\n",
    "\n",
    "lo = max(bounds[0], self.bounds[0])\n",
    "hi = min(bounds[1], self.bounds[1])\n",
    "\n",
    "imin = int(np.ceil((lo - self.bounds[0]) / np.abs(self.step)))\n",
    "imax = int(np.floor((hi - self.bounds[0]) / np.abs(self.step)))\n",
    "\n",
    "if outer:\n",
    "    imin -= 1\n",
    "    imax += 1\n",
    "\n",
    "imax = np.clip(imax+1, 0, self.size)\n",
    "imin = np.clip(imin, 0, self.size)\n",
    "\n",
    "# empty case\n",
    "if imin >= imax:\n",
    "    ret = self._select_empty(return_indices)\n",
    "\n",
    "if self.is_descending:\n",
    "    imax, imin = self.size - imin, self.size - imax\n",
    "\n",
    "start = self.start + imin*self.step\n",
    "stop = self.start + (imax-1)*self.step\n",
    "c = UniformCoordinates1d(start, stop, self.step, **self.properties)"
   ]
  },
  {
   "cell_type": "code",
   "execution_count": 51,
   "metadata": {},
   "outputs": [
    {
     "data": {
      "text/plain": [
       "array(['2018-05-19T12', '2018-05-19T12'], dtype='datetime64[h]')"
      ]
     },
     "execution_count": 51,
     "metadata": {},
     "output_type": "execute_result"
    }
   ],
   "source": [
    "bounds"
   ]
  },
  {
   "cell_type": "code",
   "execution_count": 25,
   "metadata": {},
   "outputs": [
    {
     "data": {
      "text/plain": [
       "Coordinates\n",
       "\ttime: ArrayCoordinates1d(time): Bounds[2015-05-19, 2018-05-20], N[2], ctype['midpoint']"
      ]
     },
     "execution_count": 25,
     "metadata": {},
     "output_type": "execute_result"
    }
   ],
   "source": [
    "a = Coordinates([['2015-05-19', '2018-05-20']], ['time'])\n",
    "b = Coordinates([clinspace(0, 10, 11), \n",
    "                 clinspace(0, 10, 11), \n",
    "                 '2018-05-19T12'], ['lat', 'lon','time'])\n",
    "\n",
    "a.intersect(b, outer=True)\n",
    "# d.intersect(e)"
   ]
  },
  {
   "cell_type": "code",
   "execution_count": 15,
   "metadata": {},
   "outputs": [],
   "source": [
    "self = a['time']\n",
    "bounds = b['time'].bounds"
   ]
  },
  {
   "cell_type": "code",
   "execution_count": 21,
   "metadata": {},
   "outputs": [],
   "source": [
    "gt = np.where(self.coords >= bounds[0])[0]\n",
    "lt = np.where(self.coords <= bounds[1])[0]"
   ]
  },
  {
   "cell_type": "code",
   "execution_count": 23,
   "metadata": {},
   "outputs": [
    {
     "data": {
      "text/plain": [
       "1"
      ]
     },
     "execution_count": 23,
     "metadata": {},
     "output_type": "execute_result"
    }
   ],
   "source": [
    "gt[0]"
   ]
  },
  {
   "cell_type": "code",
   "execution_count": 24,
   "metadata": {},
   "outputs": [
    {
     "data": {
      "text/plain": [
       "0"
      ]
     },
     "execution_count": 24,
     "metadata": {},
     "output_type": "execute_result"
    }
   ],
   "source": [
    "lt[0]"
   ]
  },
  {
   "cell_type": "code",
   "execution_count": null,
   "metadata": {},
   "outputs": [],
   "source": []
  }
 ],
 "metadata": {
  "kernelspec": {
   "display_name": "Python 3",
   "language": "python",
   "name": "python3"
  },
  "language_info": {
   "codemirror_mode": {
    "name": "ipython",
    "version": 3
   },
   "file_extension": ".py",
   "mimetype": "text/x-python",
   "name": "python",
   "nbconvert_exporter": "python",
   "pygments_lexer": "ipython3",
   "version": "3.6.5"
  }
 },
 "nbformat": 4,
 "nbformat_minor": 2
}
