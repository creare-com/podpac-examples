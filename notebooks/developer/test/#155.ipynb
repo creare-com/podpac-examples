{
 "cells": [
  {
   "cell_type": "code",
   "execution_count": 3,
   "metadata": {},
   "outputs": [],
   "source": [
    "import getpass\n",
    "username = password = None\n",
    "username = input(\"Username:\");   password = getpass.getpass('Password:')"
   ]
  },
  {
   "cell_type": "code",
   "execution_count": 21,
   "metadata": {},
   "outputs": [],
   "source": [
    "import podpac\n",
    "\n",
    "smap = podpac.datalib.smap.SMAP(product='SPL3SMP', username=username, password=password)"
   ]
  },
  {
   "cell_type": "code",
   "execution_count": 23,
   "metadata": {},
   "outputs": [
    {
     "data": {
      "text/plain": [
       "Coordinates\n",
       "\ttime: ArrayCoordinates1d(time): Bounds[2015-03-31, 2018-06-03], N[1157], ctype['midpoint']"
      ]
     },
     "execution_count": 23,
     "metadata": {},
     "output_type": "execute_result"
    }
   ],
   "source": [
    "smap.source_coordinates"
   ]
  },
  {
   "cell_type": "code",
   "execution_count": 22,
   "metadata": {},
   "outputs": [
    {
     "data": {
      "text/plain": [
       "Coordinates\n",
       "\ttime: ArrayCoordinates1d(time): Bounds[2015-03-31, 2018-06-03], N[1157], ctype['midpoint']\n",
       "\tlat: ArrayCoordinates1d(lat): Bounds[-83.63197326660156, 83.63196563720703], N[406], ctype['midpoint']\n",
       "\tlon: ArrayCoordinates1d(lon): Bounds[-179.8129119873047, 179.8129119873047], N[964], ctype['midpoint']"
      ]
     },
     "execution_count": 22,
     "metadata": {},
     "output_type": "execute_result"
    }
   ],
   "source": [
    "nc = smap.find_coordinates()[0]\n",
    "nc"
   ]
  },
  {
   "cell_type": "code",
   "execution_count": 25,
   "metadata": {},
   "outputs": [
    {
     "data": {
      "text/plain": [
       "Coordinates\n",
       "\tlat: ArrayCoordinates1d(lat): Bounds[-83.63197326660156, 83.63196563720703], N[406], ctype['midpoint']\n",
       "\tlon: ArrayCoordinates1d(lon): Bounds[-179.8129119873047, 179.8129119873047], N[964], ctype['midpoint']\n",
       "\ttime: ArrayCoordinates1d(time): Bounds[2018-05-19T12, 2018-05-19T12], N[1], ctype['midpoint']"
      ]
     },
     "execution_count": 25,
     "metadata": {},
     "output_type": "execute_result"
    }
   ],
   "source": [
    "c = podpac.coordinates.merge_dims([nc.drop('time'), podpac.Coordinates(['2018-05-19T12'], ['time'])])\n",
    "c"
   ]
  },
  {
   "cell_type": "code",
   "execution_count": 13,
   "metadata": {},
   "outputs": [
    {
     "data": {
      "text/plain": [
       "<xarray.UnitsDataArray (lat: 406, lon: 964, time: 1)>\n",
       "array([[[nan],\n",
       "        [nan],\n",
       "        ...,\n",
       "        [nan],\n",
       "        [nan]],\n",
       "\n",
       "       [[nan],\n",
       "        [nan],\n",
       "        ...,\n",
       "        [nan],\n",
       "        [nan]],\n",
       "\n",
       "       ...,\n",
       "\n",
       "       [[nan],\n",
       "        [nan],\n",
       "        ...,\n",
       "        [nan],\n",
       "        [nan]],\n",
       "\n",
       "       [[nan],\n",
       "        [nan],\n",
       "        ...,\n",
       "        [nan],\n",
       "        [nan]]])\n",
       "Coordinates:\n",
       "  * lat      (lat) float64 83.63 81.48 79.77 78.3 77.0 75.81 74.72 73.69 ...\n",
       "  * lon      (lon) float64 -179.8 -179.4 -179.1 -178.7 -178.3 -177.9 -177.6 ...\n",
       "  * time     (time) datetime64[h] 2018-05-19T12:00:00\n",
       "Attributes:\n",
       "    layer_style:  <podpac.core.style.Style object at 0x000000000F5126A0>\n",
       "    units:        None"
      ]
     },
     "execution_count": 13,
     "metadata": {},
     "output_type": "execute_result"
    }
   ],
   "source": [
    "out = smap.eval(c)  # <-- returns all nans\n",
    "out"
   ]
  }
 ],
 "metadata": {
  "kernelspec": {
   "display_name": "Python 3",
   "language": "python",
   "name": "python3"
  },
  "language_info": {
   "codemirror_mode": {
    "name": "ipython",
    "version": 3
   },
   "file_extension": ".py",
   "mimetype": "text/x-python",
   "name": "python",
   "nbconvert_exporter": "python",
   "pygments_lexer": "ipython3",
   "version": "3.6.4"
  }
 },
 "nbformat": 4,
 "nbformat_minor": 2
}
