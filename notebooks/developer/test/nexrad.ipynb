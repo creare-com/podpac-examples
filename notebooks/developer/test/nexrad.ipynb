{
 "cells": [
  {
   "cell_type": "code",
   "execution_count": 23,
   "metadata": {},
   "outputs": [],
   "source": [
    "from podpac.datalib import nexrad\n",
    "from podpac import Coordinates, crange, clinspace\n",
    "import nexradaws\n",
    "import numpy as np\n",
    "from datetime import datetime\n",
    "\n",
    "import matplotlib.pyplot as plt\n",
    "\n",
    "import warnings\n",
    "warnings.filterwarnings('ignore')"
   ]
  },
  {
   "cell_type": "markdown",
   "metadata": {},
   "source": [
    "## Get Available Radars\n"
   ]
  },
  {
   "cell_type": "code",
   "execution_count": 25,
   "metadata": {},
   "outputs": [],
   "source": [
    "coords = Coordinates([crange('2018-01-02 01:33:11', '2018-01-04 06:43:21', '1,D')], dims=['time'])\n",
    "radars = nexrad.get_radars(coords)\n",
    "# radars"
   ]
  },
  {
   "cell_type": "markdown",
   "metadata": {},
   "source": [
    "## Nexrad DataSource"
   ]
  },
  {
   "cell_type": "code",
   "execution_count": 3,
   "metadata": {},
   "outputs": [],
   "source": [
    "node = nexrad.NexradSource(source='KABR20100101_001550_V03.gz')"
   ]
  },
  {
   "cell_type": "code",
   "execution_count": 4,
   "metadata": {},
   "outputs": [
    {
     "name": "stdout",
     "output_type": "stream",
     "text": [
      "2010/01/01/KABR/KABR20100101_001550_V03.gz\n"
     ]
    },
    {
     "data": {
      "text/plain": [
       "Coordinates\n",
       "\tlat_lon[lat]: ArrayCoordinates1d(lat): Bounds[41.326177935269186, 49.58548834082003], N[7254720], ctype['point']\n",
       "\tlat_lon[lon]: ArrayCoordinates1d(lon): Bounds[-104.30536019212853, -92.52020199539581], N[7254720], ctype['point']\n",
       "\ttime: ArrayCoordinates1d(time): Bounds[2010-01-01T00:15:50.000000, 2010-01-01T00:15:50.000000], N[1], ctype['point']"
      ]
     },
     "execution_count": 4,
     "metadata": {},
     "output_type": "execute_result"
    }
   ],
   "source": [
    "node.native_coordinates"
   ]
  },
  {
   "cell_type": "code",
   "execution_count": 22,
   "metadata": {},
   "outputs": [
    {
     "data": {
      "text/plain": [
       "[<matplotlib.lines.Line2D at 0x21c90d53278>]"
      ]
     },
     "execution_count": 22,
     "metadata": {},
     "output_type": "execute_result"
    },
    {
     "data": {
      "image/png": "[encoded data removed]",
      "text/plain": [
       "<Figure size 432x288 with 1 Axes>"
      ]
     },
     "metadata": {
      "needs_background": "light"
     },
     "output_type": "display_data"
    }
   ],
   "source": [
    "lat = node.radar.gate_latitude['data']\n",
    "lon = node.radar.gate_longitude['data']\n",
    "\n",
    "plt.figure()\n",
    "plt.plot(lon.ravel()[0:10000], lat.ravel()[0:10000], marker='.')"
   ]
  },
  {
   "cell_type": "code",
   "execution_count": 39,
   "metadata": {},
   "outputs": [
    {
     "data": {
      "text/plain": [
       "1832"
      ]
     },
     "execution_count": 39,
     "metadata": {},
     "output_type": "execute_result"
    }
   ],
   "source": [
    "node.radar.ngates"
   ]
  },
  {
   "cell_type": "code",
   "execution_count": 8,
   "metadata": {},
   "outputs": [],
   "source": [
    "node = nexrad.Nexrad()"
   ]
  },
  {
   "cell_type": "code",
   "execution_count": null,
   "metadata": {},
   "outputs": [],
   "source": [
    "c = nexrad._s3.meta.client.list_objects(Bucket='noaa-nexrad-level2', Prefix='2010/01')"
   ]
  },
  {
   "cell_type": "markdown",
   "metadata": {},
   "source": [
    "# Using Nexradaws python module\n",
    "\n",
    "> Deprecated - decided to write our own for use with pyart"
   ]
  },
  {
   "cell_type": "code",
   "execution_count": null,
   "metadata": {},
   "outputs": [],
   "source": [
    "import matplotlib.pyplot as plt\n",
    "import pytz\n",
    "from datetime import datetime\n",
    "import pyart\n",
    "\n",
    "templocation = './nexrad'\n",
    "\n",
    "import nexradaws\n",
    "conn = nexradaws.NexradAwsInterface()\n",
    "\n",
    "conn.get_available_radars\n"
   ]
  },
  {
   "cell_type": "code",
   "execution_count": null,
   "metadata": {},
   "outputs": [],
   "source": [
    "availscans = conn.get_avail_scans('2017', '07', '31', 'KDVN')\n",
    "results = conn.download(availscans[0:4], templocation)"
   ]
  },
  {
   "cell_type": "code",
   "execution_count": null,
   "metadata": {},
   "outputs": [],
   "source": [
    "for i,scan in enumerate(results.iter_success(),start=1):\n",
    "    radar = scan.open_pyart()\n",
    "    print(radar.latitude)\n",
    "    print(radar.longitude)"
   ]
  },
  {
   "cell_type": "code",
   "execution_count": null,
   "metadata": {},
   "outputs": [],
   "source": [
    "for i,scan in enumerate(results.iter_success(),start=1):\n",
    "    radar = scan.open_pyart()\n",
    "    print(radar.latitude)\n",
    "    print(radar.longitude)"
   ]
  },
  {
   "cell_type": "code",
   "execution_count": null,
   "metadata": {},
   "outputs": [],
   "source": [
    "radar.gate_latitude['data']"
   ]
  },
  {
   "cell_type": "code",
   "execution_count": null,
   "metadata": {},
   "outputs": [],
   "source": [
    "radar.fields['reflectivity']['data']"
   ]
  },
  {
   "cell_type": "code",
   "execution_count": null,
   "metadata": {},
   "outputs": [],
   "source": [
    "radar.fields"
   ]
  },
  {
   "cell_type": "code",
   "execution_count": null,
   "metadata": {},
   "outputs": [],
   "source": [
    "fig = plt.figure(figsize=(16,12))\n",
    "for i,scan in enumerate(results.iter_success(),start=1):\n",
    "    ax = fig.add_subplot(2,2,i)\n",
    "    radar = scan.open_pyart()\n",
    "    display = pyart.graph.RadarDisplay(radar)\n",
    "    display.plot('reflectivity',0,ax=ax,title=\"{} {}\".format(scan.radar_id,scan.scan_time))\n",
    "    display.set_limits((-150, 150), (-150, 150), ax=ax)"
   ]
  },
  {
   "cell_type": "markdown",
   "metadata": {},
   "source": [
    "# Pyart"
   ]
  },
  {
   "cell_type": "code",
   "execution_count": null,
   "metadata": {},
   "outputs": [],
   "source": [
    "from pyart.io.nexrad_common import NEXRAD_LOCATIONS"
   ]
  }
 ],
 "metadata": {
  "kernelspec": {
   "display_name": "Python 3",
   "language": "python",
   "name": "python3"
  },
  "language_info": {
   "codemirror_mode": {
    "name": "ipython",
    "version": 3
   },
   "file_extension": ".py",
   "mimetype": "text/x-python",
   "name": "python",
   "nbconvert_exporter": "python",
   "pygments_lexer": "ipython3",
   "version": "3.7.0"
  }
 },
 "nbformat": 4,
 "nbformat_minor": 2
}
