{
 "cells": [
  {
   "cell_type": "markdown",
   "metadata": {},
   "source": [
    "# Traitlets Tutorial\n",
    "This tutorial shows how the Python package `traitlets` is used by PODPAC developers to make nodes. The same style should be used by new node developers.\n",
    "\n",
    "This tutorial assume knowledge of Python (syntax, basic types, classes, try-except blocks, and decorators)"
   ]
  },
  {
   "cell_type": "code",
   "execution_count": 1,
   "metadata": {},
   "outputs": [
    {
     "name": "stderr",
     "output_type": "stream",
     "text": [
      "D:\\podpac-1.2.0\\miniconda\\envs\\podpac\\lib\\site-packages\\xarray\\core\\merge.py:17: FutureWarning: The Panel class is removed from pandas. Accessing it from the top-level namespace will also be removed in the next version\n",
      "  PANDAS_TYPES = (pd.Series, pd.DataFrame, pd.Panel)\n"
     ]
    }
   ],
   "source": [
    "import podpac\n",
    "import traitlets as tl  # We use the shortform 'tl'"
   ]
  },
  {
   "cell_type": "markdown",
   "metadata": {},
   "source": [
    "\n",
    "# A short, full-featured example\n",
    "## Defining a PODPAC Node using Traitlets"
   ]
  },
  {
   "cell_type": "code",
   "execution_count": 2,
   "metadata": {},
   "outputs": [
    {
     "name": "stdout",
     "output_type": "stream",
     "text": [
      "Note that tagged attributes are automatically included in the JSON representation of the Node.\n"
     ]
    },
    {
     "data": {
      "text/plain": [
       "{\n",
       "    \"MyNode\": {\n",
       "        \"plugin\": \"__main__\",\n",
       "        \"node\": \"MyNode\",\n",
       "        \"attrs\": {\n",
       "            \"dimension\": null,\n",
       "            \"scale\": -1.0\n",
       "        }\n",
       "    }\n",
       "}"
      ]
     },
     "execution_count": 2,
     "metadata": {},
     "output_type": "execute_result"
    }
   ],
   "source": [
    "# Create a new custom PODPAC Node\n",
    "class MyNode(podpac.Node):\n",
    "    # Define an input that's another specific type of Node\n",
    "    input = tl.Instance(podpac.algorithm.CoordData)\n",
    "    \n",
    "    # Define attributes that affect the output (note these are 'tagged' with attr=True)\n",
    "    dimension = tl.Unicode(allow_none=True, default_value=None).tag(attr=True)  # The default for this trait is specified\n",
    "    scale = tl.Float().tag(attr=True)\n",
    "    \n",
    "    # Define internal class attributes (note, these are not 'tagged')\n",
    "    _other_attr = tl.Float(default_value=-1)  # The default is -1 for this trait\n",
    "        \n",
    "    # Define a default for this trait based on a function\n",
    "    # Note: This function is only called when the 'scale' attribute is first requested, and only if it hasn't been specified\n",
    "    @tl.default('scale')  # This is a Python 'decorator', it wraps the next function (_default_scale) and adds functionality to it\n",
    "    def _default_scale(self):\n",
    "        return self._other_attr \n",
    "    \n",
    "    @tl.default('input')\n",
    "    def _default_input(self):\n",
    "        return podpac.algorithm.CoordData()\n",
    "    \n",
    "    # Set up an observer for the 'dimension' attribute using traits\n",
    "    # Note: This function is called whenever the 'dimension' attribute is changed\n",
    "    @tl.observe('dimension')\n",
    "    def _modify_coord_data_dim(self, change):\n",
    "        print (\"Changing extracted dimension from %s to %s\" % (change['old'], change['new']))\n",
    "        self.input.set_trait('coord_name', change['new'])  # Change coord_name attribute of input node\n",
    "        \n",
    "    # Define the eval method, which is not implemented as part of the base PODPAC node\n",
    "    def eval(self, coordinates, output=None, method=None):\n",
    "        o = self.input.eval(coordinates)\n",
    "        return o*scale\n",
    "    \n",
    "    # Define a function to print all of the class traits -- this is for nice display for this tutorial and not necessary for the node to function\n",
    "    def __repr__(self):\n",
    "        return self.json_pretty\n",
    "# input = podpac.algorithm.CoordData()\n",
    "my_node = MyNode()\n",
    "print (\"Note that tagged attributes are automatically included in the JSON representation of the Node.\")\n",
    "my_node"
   ]
  },
  {
   "cell_type": "markdown",
   "metadata": {},
   "source": [
    "## Setting Defaults\n",
    "Notes, this method for handling defaults can be used instead of custom contructors or initializers for nodes"
   ]
  },
  {
   "cell_type": "code",
   "execution_count": 3,
   "metadata": {},
   "outputs": [
    {
     "name": "stdout",
     "output_type": "stream",
     "text": [
      "This line causes the default for scale to be computed based on the value of _other_attr\n",
      "m1._other_attr: -1.0 \tm1.scale: -1.0\n",
      "Changing _other_attr will not change m1.scale\n",
      "m1._other_attr (changed): -2.0 \tm1.scale: -1.0\n",
      "If we change _other_attr before asking for scale, the default for scale will change\n",
      "m2._other_attr: -2.0 \tm2.scale: -2.0\n",
      "If we set scale at instantiation of the class, the value of _other_attr will not affect scale\n",
      "m3._other_attr: -3.0 \tm3.scale: 7.0\n",
      "Same goes for instantiation of both when the class is created\n",
      "m4._other_attr: -4.0 \tm4.scale: 7.0\n"
     ]
    }
   ],
   "source": [
    "# Demonstrate when defaults are called\n",
    "m1 = MyNode()\n",
    "\n",
    "print(\"This line causes the default for scale to be computed based on the value of _other_attr\")\n",
    "print (\"m1._other_attr:\", m1._other_attr, '\\tm1.scale:', m1.scale)  \n",
    "print(\"Changing _other_attr will not change m1.scale\")\n",
    "m1._other_attr = -2  \n",
    "print (\"m1._other_attr (changed):\", m1._other_attr, '\\tm1.scale:', m1.scale)\n",
    "\n",
    "print(\"If we change _other_attr before asking for scale, the default for scale will change\")\n",
    "m2 = MyNode()\n",
    "m2._other_attr = -2\n",
    "print (\"m2._other_attr:\", m2._other_attr, '\\tm2.scale:', m2.scale)\n",
    "\n",
    "print(\"If we set scale at instantiation of the class, the value of _other_attr will not affect scale\")\n",
    "m3 = MyNode(scale=7)\n",
    "m3._other_attr = -3\n",
    "print (\"m3._other_attr:\", m3._other_attr, '\\tm3.scale:', m3.scale)\n",
    "\n",
    "print(\"Same goes for instantiation of both when the class is created\")\n",
    "m4 = MyNode(_other_attr=-4, scale=7)\n",
    "print (\"m4._other_attr:\", m4._other_attr, '\\tm4.scale:', m4.scale)"
   ]
  },
  {
   "cell_type": "markdown",
   "metadata": {},
   "source": [
    "## Demonstration of Traitlets Observations\n",
    "This shows how a function is called whenever an 'observed' attribute is modified."
   ]
  },
  {
   "cell_type": "code",
   "execution_count": 4,
   "metadata": {},
   "outputs": [
    {
     "name": "stdout",
     "output_type": "stream",
     "text": [
      "input.coord_name: \n"
     ]
    },
    {
     "data": {
      "text/plain": [
       "{\n",
       "    \"MyNode\": {\n",
       "        \"plugin\": \"__main__\",\n",
       "        \"node\": \"MyNode\",\n",
       "        \"attrs\": {\n",
       "            \"dimension\": null,\n",
       "            \"scale\": -1.0\n",
       "        }\n",
       "    }\n",
       "}"
      ]
     },
     "execution_count": 4,
     "metadata": {},
     "output_type": "execute_result"
    }
   ],
   "source": [
    "my_node = MyNode()\n",
    "print (\"input.coord_name:\", my_node.input.coord_name)\n",
    "my_node"
   ]
  },
  {
   "cell_type": "code",
   "execution_count": 5,
   "metadata": {},
   "outputs": [
    {
     "name": "stdout",
     "output_type": "stream",
     "text": [
      "Changing extracted dimension from None to lon\n",
      "input.coord_name: lon\n"
     ]
    },
    {
     "data": {
      "text/plain": [
       "{\n",
       "    \"MyNode\": {\n",
       "        \"plugin\": \"__main__\",\n",
       "        \"node\": \"MyNode\",\n",
       "        \"attrs\": {\n",
       "            \"dimension\": \"lon\",\n",
       "            \"scale\": -1.0\n",
       "        }\n",
       "    }\n",
       "}"
      ]
     },
     "execution_count": 5,
     "metadata": {},
     "output_type": "execute_result"
    }
   ],
   "source": [
    "my_node.set_trait('dimension', 'lon')\n",
    "print (\"input.coord_name:\", my_node.input.coord_name)\n",
    "my_node"
   ]
  },
  {
   "cell_type": "code",
   "execution_count": 6,
   "metadata": {},
   "outputs": [
    {
     "name": "stdout",
     "output_type": "stream",
     "text": [
      "Changing extracted dimension from None to lat\n",
      "input.coord_name: lat\n"
     ]
    },
    {
     "data": {
      "text/plain": [
       "{\n",
       "    \"MyNode\": {\n",
       "        \"plugin\": \"__main__\",\n",
       "        \"node\": \"MyNode\",\n",
       "        \"attrs\": {\n",
       "            \"dimension\": \"lat\",\n",
       "            \"scale\": -1.0\n",
       "        }\n",
       "    }\n",
       "}"
      ]
     },
     "execution_count": 6,
     "metadata": {},
     "output_type": "execute_result"
    }
   ],
   "source": [
    "# Note, the observe function is also called on initialization\n",
    "my_node = MyNode(dimension='lat')\n",
    "print (\"input.coord_name:\", my_node.input.coord_name)\n",
    "my_node"
   ]
  },
  {
   "cell_type": "markdown",
   "metadata": {},
   "source": [
    "# Trailets Basics\n",
    "Traitlets is a pure Python library used to add `traits` or `typing` back into Python. Python is inherently a `type-less` language, and relies or so-called `duck-typing` to determine the type of a variable. For example, Python does not discriminate between a string and an integer or a float. Traitlets allows Python programmers to ensure that their class attributes have the correct type. \n",
    "\n",
    "Among `traitlets` features, PODPAC uses the:\n",
    "* Typing of class attributes\n",
    "    * This includes simple typing (Int, Float, Unicode, Dict, etc.)\n",
    "    * But also more complex typing (correct instance of a class, with the correct dimensions, etc.).\n",
    "* Ability to set defaults for attributes\n",
    "* Tagging of class attributes\n",
    "* Observing a class attribute for changes \n",
    "\n",
    "## Creating a Traited Class"
   ]
  },
  {
   "cell_type": "code",
   "execution_count": 7,
   "metadata": {},
   "outputs": [],
   "source": [
    "# Define the class\n",
    "class MyClass(tl.HasTraits):\n",
    "    floating_point = tl.Float()\n",
    "    integer = tl.Int()\n",
    "    string = tl.Unicode()\n",
    "\n",
    "    # Shortcut function used to print values of the class\n",
    "    def __repr__(self):\n",
    "        print_str = []\n",
    "        for name in self.trait_names():\n",
    "            print_str.append(name + ': ' + str(getattr(self, name)))\n",
    "        return '\\n'.join(print_str)\n",
    "    \n",
    "# Create an instance of the class\n",
    "my_class = MyClass()"
   ]
  },
  {
   "cell_type": "code",
   "execution_count": 8,
   "metadata": {},
   "outputs": [
    {
     "data": {
      "text/plain": [
       "floating_point: 0.0\n",
       "integer: 0\n",
       "string: "
      ]
     },
     "execution_count": 8,
     "metadata": {},
     "output_type": "execute_result"
    }
   ],
   "source": [
    "# Traits have defaults\n",
    "my_class"
   ]
  },
  {
   "cell_type": "code",
   "execution_count": 9,
   "metadata": {},
   "outputs": [
    {
     "data": {
      "text/plain": [
       "floating_point: 2.1\n",
       "integer: 1\n",
       "string: abc"
      ]
     },
     "execution_count": 9,
     "metadata": {},
     "output_type": "execute_result"
    }
   ],
   "source": [
    "# We can assign values to the traits that match their type\n",
    "my_class.integer = 1\n",
    "my_class.floating_point = 2.1\n",
    "my_class.string = 'abc'\n",
    "my_class"
   ]
  },
  {
   "cell_type": "code",
   "execution_count": 10,
   "metadata": {},
   "outputs": [
    {
     "name": "stdout",
     "output_type": "stream",
     "text": [
      "The 'floating_point' trait of a MyClass instance must be a float, but a value of '1' <class 'str'> was specified.\n",
      "The 'integer' trait of a MyClass instance must be an int, but a value of 1.1 <class 'float'> was specified.\n",
      "The 'string' trait of a MyClass instance must be a unicode string, but a value of 8.67 <class 'float'> was specified.\n"
     ]
    }
   ],
   "source": [
    "# but if the type doesn't match, an exception is thrown\n",
    "try: \n",
    "    my_class.floating_point = '1'\n",
    "except tl.TraitError as e:\n",
    "    print(e)\n",
    "try: \n",
    "    my_class.integer = 1.1\n",
    "except tl.TraitError as e:\n",
    "    print(e)\n",
    "try: \n",
    "    my_class.string = 8.67\n",
    "except tl.TraitError as e:\n",
    "    print(e)"
   ]
  },
  {
   "cell_type": "markdown",
   "metadata": {},
   "source": [
    "**Note**: The integer trait threw an exception when we provided a floating point number. \n",
    "\n",
    "If you just want to round the integer, you can use the Cast-`<Trait>` or `C<Trait>` version of a trait."
   ]
  },
  {
   "cell_type": "code",
   "execution_count": 11,
   "metadata": {},
   "outputs": [
    {
     "data": {
      "text/plain": [
       "cast_integer: 0\n",
       "floating_point: 0.0\n",
       "integer: 0\n",
       "string: "
      ]
     },
     "execution_count": 11,
     "metadata": {},
     "output_type": "execute_result"
    }
   ],
   "source": [
    "# Define a new class that inherits from the previous class\n",
    "class MyClass2(MyClass):\n",
    "    cast_integer = tl.CInt()  # Create a trait with a cast integer version\n",
    "    string = tl.CUnicode()    # Over-write the unicode trait in the base class with the cast version\n",
    "my_class2 = MyClass2()\n",
    "my_class2"
   ]
  },
  {
   "cell_type": "code",
   "execution_count": 12,
   "metadata": {},
   "outputs": [
    {
     "data": {
      "text/plain": [
       "cast_integer: 1\n",
       "floating_point: 0.0\n",
       "integer: 0\n",
       "string: 8.76"
      ]
     },
     "execution_count": 12,
     "metadata": {},
     "output_type": "execute_result"
    }
   ],
   "source": [
    "my_class2.cast_integer = 1.6  # this is cast to 1\n",
    "my_class2.string = 8.76  # This is cast to a string\n",
    "my_class2"
   ]
  },
  {
   "cell_type": "markdown",
   "metadata": {},
   "source": [
    "### Traits of type \"Class Instance\""
   ]
  },
  {
   "cell_type": "code",
   "execution_count": 13,
   "metadata": {},
   "outputs": [],
   "source": [
    "class MyClass3(MyClass):\n",
    "    my_class2 = tl.Instance(MyClass2)\n",
    "    my_class = tl.Instance(MyClass)\n",
    "my_class3 = MyClass3()\n",
    "my_class3.my_class2 = MyClass2()\n",
    "my_class3.my_class = MyClass2()"
   ]
  },
  {
   "cell_type": "code",
   "execution_count": 14,
   "metadata": {},
   "outputs": [
    {
     "name": "stdout",
     "output_type": "stream",
     "text": [
      "The 'my_class2' trait of a MyClass3 instance must be a MyClass2, but a value of class '__main__.MyClass' (i.e. floating_point: 0.0\n",
      "integer: 0\n",
      "string: ) was specified.\n"
     ]
    }
   ],
   "source": [
    "my_class3.my_class = MyClass2()  # Can assign child classes (still an instance of MyClass)\n",
    "try: \n",
    "    my_class3.my_class2 = MyClass()  # Cannot assign parent classes (MyClass is not an instance of MyClass2)\n",
    "except tl.TraitError as e:\n",
    "    print(e)"
   ]
  },
  {
   "cell_type": "markdown",
   "metadata": {},
   "source": [
    "## Initializing Traits\n",
    "\n",
    "Traits provides three mechanisms for initializing the values of traited attributes that differ from the normal Python approach:\n",
    "* Setting a value when instantiating the class\n",
    "    * Normally this would require some logic in the `__init__` function of the class (i.e. the class constructor)\n",
    "* Setting a default value when defining the trait\n",
    "* Setting a default value through a function the first time an attribute is requested\n",
    "\n",
    "**NOTE: GOTCHA**\n",
    "The default values are not ALWAYS used, and they are lazy -- that is they are only set upon request. So, if the default depends on another attribute, and the other attribute changes, the value of the default depends on when it was first requested. An example will be shown below. \n"
   ]
  },
  {
   "cell_type": "code",
   "execution_count": 15,
   "metadata": {},
   "outputs": [],
   "source": [
    "class SetValues(tl.HasTraits):\n",
    "    no_default = tl.Unicode()  # Automatic default value of ''\n",
    "    simple_default = tl.Unicode(default_value='simple')  # Default value set while defining the trait\n",
    "    computed_default = tl.Unicode()  # function for this attribute's default is defined next\n",
    "    \n",
    "    @tl.default('computed_default')  # Using the traitlets default decorator\n",
    "    def _computed_default(self):\n",
    "        return ('\"' + self.no_default + '\" -- \"' + self.simple_default + '\"').upper()\n",
    "    \n",
    "    # Shortcut function used to print values of the class\n",
    "    def __repr__(self):\n",
    "        print_str = []\n",
    "        for name in self.trait_names():\n",
    "            print_str.append(name + ': ' + str(getattr(self, name)))\n",
    "        return '\\n'.join(print_str)"
   ]
  },
  {
   "cell_type": "code",
   "execution_count": 16,
   "metadata": {},
   "outputs": [
    {
     "data": {
      "text/plain": [
       "computed_default: \"\" -- \"SIMPLE\"\n",
       "no_default: \n",
       "simple_default: simple"
      ]
     },
     "execution_count": 16,
     "metadata": {},
     "output_type": "execute_result"
    }
   ],
   "source": [
    "# Only default values\n",
    "SetValues()"
   ]
  },
  {
   "cell_type": "code",
   "execution_count": 17,
   "metadata": {},
   "outputs": [
    {
     "data": {
      "text/plain": [
       "computed_default: computed_default_set\n",
       "no_default: no_default_set\n",
       "simple_default: simple"
      ]
     },
     "execution_count": 17,
     "metadata": {},
     "output_type": "execute_result"
    }
   ],
   "source": [
    "# Set values when creating class\n",
    "SetValues(computed_default='computed_default_set', no_default='no_default_set')"
   ]
  },
  {
   "cell_type": "code",
   "execution_count": 18,
   "metadata": {},
   "outputs": [
    {
     "name": "stdout",
     "output_type": "stream",
     "text": [
      "sv1 computed_default: \"COMPUTED_DEFAULT CALCULATED AFTER CHANGING ATTRIBUTE\" -- \"SIMPLE\"\n",
      "no_default: computed_default calculated after changing attribute\n",
      "simple_default: simple\n",
      "sv2 computed_default: \"\" -- \"SIMPLE\"\n",
      "no_default: computed_default already calculated\n",
      "simple_default: simple\n"
     ]
    }
   ],
   "source": [
    "# Gotcha for computed value. It is only computed after being asked for, not when object is instantiated\n",
    "sv1 = SetValues()\n",
    "sv2 = SetValues()\n",
    "sv1.no_default = \"computed_default calculated after changing attribute\"\n",
    "sv2.computed_default  # Ask for the computed_default so that it is computed and set\n",
    "sv2.no_default = \"computed_default already calculated\"  # change no_default's value\n",
    "\n",
    "print('sv1', sv1)\n",
    "print('sv2', sv2)"
   ]
  },
  {
   "cell_type": "markdown",
   "metadata": {},
   "source": [
    "## Tagging Attributes\n",
    "Traits allows users to put arbitrary metadata on traited attributes. PODPAC uses the 'attr' metadata to determine if an attribute should be part of a pipeline definition. \n"
   ]
  },
  {
   "cell_type": "code",
   "execution_count": 19,
   "metadata": {},
   "outputs": [
    {
     "name": "stdout",
     "output_type": "stream",
     "text": [
      "tagged.attr True\n",
      "tagged.arbitrary_tag True\n",
      "untagged.attr None\n",
      "untagged.arbitrary_tag None\n",
      "Available metadata for tagged {'attr': True, 'arbitrary_tag': 'arbitrary'}\n",
      "Available metadata for untagged {'attr': True, 'arbitrary_tag': 'arbitrary'}\n"
     ]
    }
   ],
   "source": [
    "class Tags(tl.HasTraits):\n",
    "    tagged = tl.Unicode().tag(attr=True, arbitrary_tag=\"arbitrary\")\n",
    "    untagged = tl.Unicode()\n",
    "tags = Tags()\n",
    "print (\"tagged.attr\", tags.trait_metadata('tagged', 'attr'))\n",
    "print (\"tagged.arbitrary_tag\", tags.trait_metadata('tagged', 'attr'))\n",
    "print (\"untagged.attr\", tags.trait_metadata('untagged', 'attr'))\n",
    "print (\"untagged.arbitrary_tag\", tags.trait_metadata('untagged', 'attr'))\n",
    "print (\"Available metadata for tagged\", tags.traits()['tagged'].metadata)\n",
    "print (\"Available metadata for untagged\", tags.traits()['tagged'].metadata)"
   ]
  },
  {
   "cell_type": "markdown",
   "metadata": {},
   "source": [
    "## Observing Traits\n",
    "Traits implements the observer pattern. Any traited attribute can be observed for a change, triggering a function call. "
   ]
  },
  {
   "cell_type": "code",
   "execution_count": 20,
   "metadata": {},
   "outputs": [
    {
     "name": "stdout",
     "output_type": "stream",
     "text": [
      "Observed functions are called when the function is initialized:\n",
      "{'name': 'watch_me', 'old': None, 'new': 'old', 'owner': <__main__.Observe object at 0x000002630446B550>, 'type': 'change'}\n",
      "Observed function are called whenever the value of the attribute changes\n",
      "{'name': 'watch_me', 'old': 'old', 'new': 'new', 'owner': <__main__.Observe object at 0x000002630446B550>, 'type': 'change'}\n",
      "{'name': 'watch_me', 'old': 'new', 'new': 'new again', 'owner': <__main__.Observe object at 0x000002630446B550>, 'type': 'change'}\n",
      "{'name': 'watch_me', 'old': 'new again', 'new': 42, 'owner': <__main__.Observe object at 0x000002630446B550>, 'type': 'change'}\n",
      "Observed function are not called whenever the value of the attribute stays the same\n"
     ]
    }
   ],
   "source": [
    "class Observe(tl.HasTraits):\n",
    "    watch_me = tl.Any()\n",
    "    \n",
    "    @tl.observe('watch_me')\n",
    "    def __watch_me_changed(self, change):\n",
    "        print (change)\n",
    "\n",
    "print ('Observed functions are called when the function is initialized:')\n",
    "obs = Observe(watch_me='old')\n",
    "print ('Observed function are called whenever the value of the attribute changes')\n",
    "obs.watch_me = 'new'\n",
    "obs.watch_me = 'new again'\n",
    "obs.watch_me = 42\n",
    "print ('Observed function are not called whenever the value of the attribute stays the same')\n",
    "obs.watch_me = 42"
   ]
  },
  {
   "cell_type": "markdown",
   "metadata": {},
   "source": [
    "# Where to go from here\n",
    "For more detailed help related to traitlets, look at the [Traitlets Documentation](https://traitlets.readthedocs.io/en/stable/).\n",
    "\n",
    "For more detailed help on PODPAC, look at the notebook examples in the repository (where this notebook lives) or look at the [PODPAC Documentation](https://creare-com.github.io/podpac-docs/)."
   ]
  }
 ],
 "metadata": {
  "kernelspec": {
   "display_name": "Python 3",
   "language": "python",
   "name": "python3"
  },
  "language_info": {
   "codemirror_mode": {
    "name": "ipython",
    "version": 3
   },
   "file_extension": ".py",
   "mimetype": "text/x-python",
   "name": "python",
   "nbconvert_exporter": "python",
   "pygments_lexer": "ipython3",
   "version": "3.7.3"
  }
 },
 "nbformat": 4,
 "nbformat_minor": 4
}
