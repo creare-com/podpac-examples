{
 "cells": [
  {
   "cell_type": "code",
   "execution_count": 1,
   "metadata": {
    "slideshow": {
     "slide_type": "skip"
    }
   },
   "outputs": [
    {
     "name": "stdout",
     "output_type": "stream",
     "text": [
      "Populating the interactive namespace from numpy and matplotlib\n"
     ]
    }
   ],
   "source": [
    "# For interactive plots, comment the next line\n",
    "%pylab inline\n",
    "# For interactive plots, uncomment the next line\n",
    "# %pylab ipympl\n",
    "import warnings, os\n",
    "warnings.filterwarnings('ignore')"
   ]
  },
  {
   "cell_type": "markdown",
   "metadata": {
    "slideshow": {
     "slide_type": "slide"
    }
   },
   "source": [
    "# Cloud Processing\n",
    "* Obtaining AWS Credentials\n",
    "* Setting up AWS Credentials\n",
    "* Creating PODPAC Lambda function\n",
    "* Evaluating PODPAC Nodes"
   ]
  },
  {
   "cell_type": "markdown",
   "metadata": {
    "slideshow": {
     "slide_type": "subslide"
    }
   },
   "source": [
    "# Obtaining AWS Credentials\n",
    "* Create AWS Account\n",
    "* Log into [console.aws.amazon.com](https://console.aws.amazon.com)\n",
    "* Services --> IAM --> users \n",
    "* This will bring up a table of users\n",
    "* Click on your username\n",
    "* Click on the 'Security credentials' tab\n",
    "* Click on \"Create access key\"\n",
    "* Save your AWS_ACCESS_KEY_ID (this can be recovered)\n",
    "* Save your AWS_SECRET_ACCESS_KEY (this can ONLY be saved at this stage)"
   ]
  },
  {
   "cell_type": "markdown",
   "metadata": {
    "slideshow": {
     "slide_type": "subslide"
    }
   },
   "source": [
    "<img src=\"../../images/aws-credentials-create.png\" style='margin-left:auto;margin-right:auto;width:80%;'/>"
   ]
  },
  {
   "cell_type": "markdown",
   "metadata": {
    "slideshow": {
     "slide_type": "subslide"
    }
   },
   "source": [
    "<img src=\"../../images/aws-credentials-create-id-key.png\" style=\"margin-left:auto;margin-right:auto;width:80%;\">"
   ]
  },
  {
   "cell_type": "markdown",
   "metadata": {
    "slideshow": {
     "slide_type": "slide"
    }
   },
   "source": [
    "# Setting Up AWS Credentials\n",
    "We need to provide AWS credentials to PODPAC. This includes:\n",
    "* AWS_ACCESS_KEY_ID\n",
    "* AWS_SECRET_ACCESS_KEY\n",
    "\n",
    "PODPAC can get credentials by:\n",
    "* Providing credentials when instantiating an AWS Node\n",
    "* From `podpac.settings`\n",
    "* From a configured AWS CLI installed for the user"
   ]
  },
  {
   "cell_type": "markdown",
   "metadata": {
    "slideshow": {
     "slide_type": "subslide"
    }
   },
   "source": [
    "```python\n",
    "from podpac.managers import aws\n",
    "\n",
    "# Specify AWS credentials when creating a session\n",
    "session = aws.Session(aws_access_key_id=AWS_ACCESS_KEY_ID, \n",
    "                      aws_secret_access_key=AWS_SECRET_ACCESS_KEY)\n",
    "```"
   ]
  },
  {
   "cell_type": "markdown",
   "metadata": {
    "slideshow": {
     "slide_type": "fragment"
    }
   },
   "source": [
    "```python\n",
    "# Specify AWS credentials in settngs and save\n",
    "podpac.settings['AWS_ACCESS_KEY_ID'] = AWS_ACCESS_KEY_ID\n",
    "podpac.settings['AWS_SECRET_ACCESS_KEY'] = AWS_SECRET_ACCESS_KEY\n",
    "podpac.settings.save()\n",
    "\n",
    "# Create session\n",
    "session = aws.Session()  # Keys come from podpac.settings\n",
    "```"
   ]
  },
  {
   "cell_type": "markdown",
   "metadata": {
    "slideshow": {
     "slide_type": "slide"
    }
   },
   "source": [
    "# Creating PODPAC Lambda Function\n",
    "Now that we have AWS credentials, PODPAC can automatically create the needed resources\n",
    "* Create an S3 bucket for storing inputs and outputs to AWS Lambda function\n",
    "* Create the necessary IAM roles so that different resources will have the correct permissions\n",
    "* Create the AWS Lambda function\n",
    "* Create an API Gateway endpoint (for WMS requests, for example)\n",
    "* Configure logging"
   ]
  },
  {
   "cell_type": "code",
   "execution_count": 2,
   "metadata": {
    "slideshow": {
     "slide_type": "skip"
    }
   },
   "outputs": [],
   "source": [
    "import podpac\n",
    "from podpac import settings\n",
    "from podpac.managers import aws"
   ]
  },
  {
   "cell_type": "code",
   "execution_count": null,
   "metadata": {
    "slideshow": {
     "slide_type": "fragment"
    }
   },
   "outputs": [],
   "source": [
    "\n",
    "# Specify the name for the S3 Bucket\n",
    "settings[\"S3_BUCKET_NAME\"] = \"podpac-test-autogen-10000\"  # Must be globally unique (AWS-wide!)\n",
    "\n",
    "# Create a PODPAC AWS Lambda node\n",
    "node = aws.Lambda()"
   ]
  },
  {
   "cell_type": "code",
   "execution_count": null,
   "metadata": {
    "slideshow": {
     "slide_type": "fragment"
    }
   },
   "outputs": [],
   "source": [
    "# Create all the AWS resources\n",
    "# This can take up to 15-20 seconds if all resources need to be created\n",
    "node.build()\n",
    "node"
   ]
  },
  {
   "cell_type": "markdown",
   "metadata": {
    "slideshow": {
     "slide_type": "slide"
    }
   },
   "source": [
    "# Evaluating PODPAC Nodes\n",
    "PODPAC Nodes can now be evaluated using AWS Lambda functions:\n",
    "* Through Python\n",
    "* By using the API gateway endpoint and OGC-compliant requests\n",
    "* By uploading files to S3 Buckets (for debugging)"
   ]
  },
  {
   "cell_type": "code",
   "execution_count": 14,
   "metadata": {
    "slideshow": {
     "slide_type": "fragment"
    }
   },
   "outputs": [
    {
     "name": "stdout",
     "output_type": "stream",
     "text": [
      "{\n",
      "    \"DroughtMonitorCategory\": {\n",
      "        \"node\": \"datalib.drought_monitor.DroughtMonitorCategory\",\n",
      "        \"attrs\": {\n",
      "            \"altkey\": \"alt\",\n",
      "            \"crs\": null,\n",
      "            \"datakey\": \"d0\",\n",
      "            \"latkey\": \"lat\",\n",
      "            \"lonkey\": \"lon\",\n",
      "            \"timekey\": \"time\"\n",
      "        },\n",
      "        \"style\": {\n",
      "            \"clim\": [\n",
      "                0,\n",
      "                0.6\n",
      "            ]\n",
      "        },\n",
      "        \"source\": \"s3://podpac-internal-test/drought_parameters.zarr\",\n",
      "        \"interpolation\": \"nearest\"\n",
      "    },\n",
      "    \"YearSubstituteCoordinates\": {\n",
      "        \"node\": \"core.algorithm.coord_select.YearSubstituteCoordinates\",\n",
      "        \"attrs\": {\n",
      "            \"substitute_eval_coords\": true,\n",
      "            \"year\": \"2018\"\n",
      "        },\n",
      "        \"inputs\": {\n",
      "            \"source\": \"DroughtMonitorCategory\"\n",
      "        }\n",
      "    },\n",
      "    \"DroughtMonitorCategory_1\": {\n",
      "        \"node\": \"datalib.drought_monitor.DroughtMonitorCategory\",\n",
      "        \"attrs\": {\n",
      "            \"altkey\": \"alt\",\n",
      "            \"crs\": null,\n",
      "            \"datakey\": \"d1\",\n",
      "            \"latkey\": \"lat\",\n",
      "            \"lonkey\": \"lon\",\n",
      "            \"timekey\": \"time\"\n",
      "        },\n",
      "        \"style\": {\n",
      "            \"clim\": [\n",
      "                0,\n",
      "                0.6\n",
      "            ]\n",
      "        },\n",
      "        \"source\": \"s3://podpac-internal-test/drought_parameters.zarr\",\n",
      "        \"interpolation\": \"nearest\"\n",
      "    },\n",
      "    \"YearSubstituteCoordinates_1\": {\n",
      "        \"node\": \"core.algorithm.coord_select.YearSubstituteCoordinates\",\n",
      "        \"attrs\": {\n",
      "            \"substitute_eval_coords\": true,\n",
      "            \"year\": \"2018\"\n",
      "        },\n",
      "        \"inputs\": {\n",
      "            \"source\": \"DroughtMonitorCategory_1\"\n",
      "        }\n",
      "    },\n",
      "    \"DroughtMonitorCategory_2\": {\n",
      "        \"node\": \"datalib.drought_monitor.DroughtMonitorCategory\",\n",
      "        \"attrs\": {\n",
      "            \"altkey\": \"alt\",\n",
      "            \"crs\": null,\n",
      "            \"datakey\": \"d2\",\n",
      "            \"latkey\": \"lat\",\n",
      "            \"lonkey\": \"lon\",\n",
      "            \"timekey\": \"time\"\n",
      "        },\n",
      "        \"style\": {\n",
      "            \"clim\": [\n",
      "                0,\n",
      "                0.6\n",
      "            ]\n",
      "        },\n",
      "        \"source\": \"s3://podpac-internal-test/drought_parameters.zarr\",\n",
      "        \"interpolation\": \"nearest\"\n",
      "    },\n",
      "    \"YearSubstituteCoordinates_2\": {\n",
      "        \"node\": \"core.algorithm.coord_select.YearSubstituteCoordinates\",\n",
      "        \"attrs\": {\n",
      "            \"substitute_eval_coords\": true,\n",
      "            \"year\": \"2018\"\n",
      "        },\n",
      "        \"inputs\": {\n",
      "            \"source\": \"DroughtMonitorCategory_2\"\n",
      "        }\n",
      "    },\n",
      "    \"DroughtMonitorCategory_3\": {\n",
      "        \"node\": \"datalib.drought_monitor.DroughtMonitorCategory\",\n",
      "        \"attrs\": {\n",
      "            \"altkey\": \"alt\",\n",
      "            \"crs\": null,\n",
      "            \"datakey\": \"d3\",\n",
      "            \"latkey\": \"lat\",\n",
      "            \"lonkey\": \"lon\",\n",
      "            \"timekey\": \"time\"\n",
      "        },\n",
      "        \"style\": {\n",
      "            \"clim\": [\n",
      "                0,\n",
      "                0.6\n",
      "            ]\n",
      "        },\n",
      "        \"source\": \"s3://podpac-internal-test/drought_parameters.zarr\",\n",
      "        \"interpolation\": \"nearest\"\n",
      "    },\n",
      "    \"YearSubstituteCoordinates_3\": {\n",
      "        \"node\": \"core.algorithm.coord_select.YearSubstituteCoordinates\",\n",
      "        \"attrs\": {\n",
      "            \"substitute_eval_coords\": true,\n",
      "            \"year\": \"2018\"\n",
      "        },\n",
      "        \"inputs\": {\n",
      "            \"source\": \"DroughtMonitorCategory_3\"\n",
      "        }\n",
      "    },\n",
      "    \"DroughtMonitorCategory_4\": {\n",
      "        \"node\": \"datalib.drought_monitor.DroughtMonitorCategory\",\n",
      "        \"attrs\": {\n",
      "            \"altkey\": \"alt\",\n",
      "            \"crs\": null,\n",
      "            \"datakey\": \"d4\",\n",
      "            \"latkey\": \"lat\",\n",
      "            \"lonkey\": \"lon\",\n",
      "            \"timekey\": \"time\"\n",
      "        },\n",
      "        \"style\": {\n",
      "            \"clim\": [\n",
      "                0,\n",
      "                0.6\n",
      "            ]\n",
      "        },\n",
      "        \"source\": \"s3://podpac-internal-test/drought_parameters.zarr\",\n",
      "        \"interpolation\": \"nearest\"\n",
      "    },\n",
      "    \"YearSubstituteCoordinates_4\": {\n",
      "        \"node\": \"core.algorithm.coord_select.YearSubstituteCoordinates\",\n",
      "        \"attrs\": {\n",
      "            \"substitute_eval_coords\": true,\n",
      "            \"year\": \"2018\"\n",
      "        },\n",
      "        \"inputs\": {\n",
      "            \"source\": \"DroughtMonitorCategory_4\"\n",
      "        }\n",
      "    },\n",
      "    \"Zarr\": {\n",
      "        \"node\": \"core.data.types.Zarr\",\n",
      "        \"attrs\": {\n",
      "            \"altkey\": \"alt\",\n",
      "            \"cf_calendar\": \"proleptic_gregorian\",\n",
      "            \"cf_time\": true,\n",
      "            \"cf_units\": \"days since 2000-01-01\",\n",
      "            \"crs\": \"epsg:6933\",\n",
      "            \"datakey\": \"Soil_Moisture_Retrieval_Data_AM_retrieval_qual_flag\",\n",
      "            \"dims\": [\n",
      "                \"time\",\n",
      "                \"lat\",\n",
      "                \"lon\"\n",
      "            ],\n",
      "            \"latkey\": \"fakedim0\",\n",
      "            \"lonkey\": \"fakedim1\",\n",
      "            \"timekey\": \"time\"\n",
      "        },\n",
      "        \"source\": \"s3://podpac-internal-test/SPL3SMP_E.002_9km_aid0001.zarr\",\n",
      "        \"interpolation\": \"nearest\"\n",
      "    },\n",
      "    \"Zarr_1\": {\n",
      "        \"node\": \"core.data.types.Zarr\",\n",
      "        \"attrs\": {\n",
      "            \"altkey\": \"alt\",\n",
      "            \"cf_calendar\": \"proleptic_gregorian\",\n",
      "            \"cf_time\": true,\n",
      "            \"cf_units\": \"days since 2000-01-01\",\n",
      "            \"crs\": \"epsg:6933\",\n",
      "            \"datakey\": \"Soil_Moisture_Retrieval_Data_AM_soil_moisture\",\n",
      "            \"dims\": [\n",
      "                \"time\",\n",
      "                \"lat\",\n",
      "                \"lon\"\n",
      "            ],\n",
      "            \"latkey\": \"fakedim0\",\n",
      "            \"lonkey\": \"fakedim1\",\n",
      "            \"timekey\": \"time\"\n",
      "        },\n",
      "        \"source\": \"s3://podpac-internal-test/SPL3SMP_E.002_9km_aid0001.zarr\",\n",
      "        \"interpolation\": \"nearest\"\n",
      "    },\n",
      "    \"Mask\": {\n",
      "        \"node\": \"core.algorithm.algorithm.Mask\",\n",
      "        \"attrs\": {\n",
      "            \"bool_op\": \">\",\n",
      "            \"bool_val\": 1.0,\n",
      "            \"in_place\": false,\n",
      "            \"masked_val\": NaN\n",
      "        },\n",
      "        \"inputs\": {\n",
      "            \"mask\": \"Zarr\",\n",
      "            \"source\": \"Zarr_1\"\n",
      "        }\n",
      "    },\n",
      "    \"Zarr_2\": {\n",
      "        \"node\": \"core.data.types.Zarr\",\n",
      "        \"attrs\": {\n",
      "            \"altkey\": \"alt\",\n",
      "            \"cf_calendar\": \"proleptic_gregorian\",\n",
      "            \"cf_time\": true,\n",
      "            \"cf_units\": \"days since 2000-01-01\",\n",
      "            \"crs\": \"epsg:6933\",\n",
      "            \"datakey\": \"Soil_Moisture_Retrieval_Data_PM_retrieval_qual_flag_pm\",\n",
      "            \"dims\": [\n",
      "                \"time\",\n",
      "                \"lat\",\n",
      "                \"lon\"\n",
      "            ],\n",
      "            \"latkey\": \"fakedim0\",\n",
      "            \"lonkey\": \"fakedim1\",\n",
      "            \"timekey\": \"time\"\n",
      "        },\n",
      "        \"source\": \"s3://podpac-internal-test/SPL3SMP_E.002_9km_aid0001.zarr\",\n",
      "        \"interpolation\": \"nearest\"\n",
      "    },\n",
      "    \"Zarr_3\": {\n",
      "        \"node\": \"core.data.types.Zarr\",\n",
      "        \"attrs\": {\n",
      "            \"altkey\": \"alt\",\n",
      "            \"cf_calendar\": \"proleptic_gregorian\",\n",
      "            \"cf_time\": true,\n",
      "            \"cf_units\": \"days since 2000-01-01\",\n",
      "            \"crs\": \"epsg:6933\",\n",
      "            \"datakey\": \"Soil_Moisture_Retrieval_Data_PM_soil_moisture_pm\",\n",
      "            \"dims\": [\n",
      "                \"time\",\n",
      "                \"lat\",\n",
      "                \"lon\"\n",
      "            ],\n",
      "            \"latkey\": \"fakedim0\",\n",
      "            \"lonkey\": \"fakedim1\",\n",
      "            \"timekey\": \"time\"\n",
      "        },\n",
      "        \"source\": \"s3://podpac-internal-test/SPL3SMP_E.002_9km_aid0001.zarr\",\n",
      "        \"interpolation\": \"nearest\"\n",
      "    },\n",
      "    \"Mask_1\": {\n",
      "        \"node\": \"core.algorithm.algorithm.Mask\",\n",
      "        \"attrs\": {\n",
      "            \"bool_op\": \">\",\n",
      "            \"bool_val\": 1.0,\n",
      "            \"in_place\": false,\n",
      "            \"masked_val\": NaN\n",
      "        },\n",
      "        \"inputs\": {\n",
      "            \"mask\": \"Zarr_2\",\n",
      "            \"source\": \"Zarr_3\"\n",
      "        }\n",
      "    },\n",
      "    \"Zarr_4\": {\n",
      "        \"node\": \"core.data.types.Zarr\",\n",
      "        \"attrs\": {\n",
      "            \"altkey\": \"alt\",\n",
      "            \"cf_calendar\": \"proleptic_gregorian\",\n",
      "            \"cf_time\": true,\n",
      "            \"cf_units\": \"days since 2000-01-01\",\n",
      "            \"crs\": \"epsg:6933\",\n",
      "            \"datakey\": \"Geophysical_Data_sm_surface\",\n",
      "            \"dims\": [\n",
      "                \"time\",\n",
      "                \"lat\",\n",
      "                \"lon\"\n",
      "            ],\n",
      "            \"latkey\": \"fakedim0\",\n",
      "            \"lonkey\": \"fakedim1\",\n",
      "            \"timekey\": \"time\"\n",
      "        },\n",
      "        \"source\": \"s3://podpac-internal-test/SPL4SMGP.004_9km_aid0001.zarr\",\n",
      "        \"interpolation\": \"nearest\"\n",
      "    },\n",
      "    \"OrderedCompositor\": {\n",
      "        \"node\": \"core.compositor.OrderedCompositor\",\n",
      "        \"attrs\": {\n",
      "            \"source\": \"SMAP L3 AM/PM Combined\"\n",
      "        },\n",
      "        \"sources\": [\n",
      "            \"Mask\",\n",
      "            \"Mask_1\",\n",
      "            \"Zarr_4\"\n",
      "        ],\n",
      "        \"interpolation\": null\n",
      "    },\n",
      "    \"DroughtCategory\": {\n",
      "        \"node\": \"datalib.drought_monitor.DroughtCategory\",\n",
      "        \"style\": {\n",
      "            \"enumeration_colors\": [\n",
      "                [\n",
      "                    0.45098039,\n",
      "                    0.0,\n",
      "                    0.0,\n",
      "                    1.0\n",
      "                ],\n",
      "                [\n",
      "                    0.90196078,\n",
      "                    0.0,\n",
      "                    0.0,\n",
      "                    1.0\n",
      "                ],\n",
      "                [\n",
      "                    1.0,\n",
      "                    0.66666667,\n",
      "                    0.0,\n",
      "                    1.0\n",
      "                ],\n",
      "                [\n",
      "                    0.98823529,\n",
      "                    0.82745098,\n",
      "                    0.49803922,\n",
      "                    1.0\n",
      "                ],\n",
      "                [\n",
      "                    1.0,\n",
      "                    1.0,\n",
      "                    0.0,\n",
      "                    1.0\n",
      "                ],\n",
      "                [\n",
      "                    1.0,\n",
      "                    1.0,\n",
      "                    1.0,\n",
      "                    0.0\n",
      "                ]\n",
      "            ],\n",
      "            \"clim\": [\n",
      "                0,\n",
      "                6\n",
      "            ]\n",
      "        },\n",
      "        \"inputs\": {\n",
      "            \"d0\": \"YearSubstituteCoordinates\",\n",
      "            \"d1\": \"YearSubstituteCoordinates_1\",\n",
      "            \"d2\": \"YearSubstituteCoordinates_2\",\n",
      "            \"d3\": \"YearSubstituteCoordinates_3\",\n",
      "            \"d4\": \"YearSubstituteCoordinates_4\",\n",
      "            \"soil_moisture\": \"OrderedCompositor\"\n",
      "        }\n",
      "    }\n",
      "}\n"
     ]
    }
   ],
   "source": [
    "# Get the Pipeline definition for the drought-monitor application (from previous notebook)\n",
    "pipeline_json = open('pipeline_category.json', 'r').read()\n",
    "print(pipeline_json)"
   ]
  },
  {
   "cell_type": "markdown",
   "metadata": {
    "slideshow": {
     "slide_type": "slide"
    }
   },
   "source": [
    "# Evaluate PODPAC Node on AWS Through Python"
   ]
  },
  {
   "cell_type": "code",
   "execution_count": 15,
   "metadata": {
    "slideshow": {
     "slide_type": "fragment"
    }
   },
   "outputs": [],
   "source": [
    "# Create the PODPAC Node from the JSON definition\n",
    "source = podpac.Node.from_json(pipeline_json)"
   ]
  },
  {
   "cell_type": "code",
   "execution_count": 16,
   "metadata": {
    "slideshow": {
     "slide_type": "fragment"
    }
   },
   "outputs": [
    {
     "ename": "NameError",
     "evalue": "name 'aws' is not defined",
     "output_type": "error",
     "traceback": [
      "\u001b[1;31m---------------------------------------------------------------------------\u001b[0m",
      "\u001b[1;31mNameError\u001b[0m                                 Traceback (most recent call last)",
      "\u001b[1;32m<ipython-input-16-e1ea6a1d030d>\u001b[0m in \u001b[0;36m<module>\u001b[1;34m\u001b[0m\n\u001b[1;32m----> 1\u001b[1;33m node = aws.Lambda(\n\u001b[0m\u001b[0;32m      2\u001b[0m     \u001b[0msource\u001b[0m\u001b[1;33m=\u001b[0m\u001b[0msource\u001b[0m\u001b[1;33m,\u001b[0m        \u001b[1;31m# Any PODPAC Node\u001b[0m\u001b[1;33m\u001b[0m\u001b[1;33m\u001b[0m\u001b[0m\n\u001b[0;32m      3\u001b[0m     \u001b[0mdownload_result\u001b[0m\u001b[1;33m=\u001b[0m\u001b[1;32mTrue\u001b[0m  \u001b[1;31m# If False, results will reside on S3\u001b[0m\u001b[1;33m\u001b[0m\u001b[1;33m\u001b[0m\u001b[0m\n\u001b[0;32m      4\u001b[0m )\n",
      "\u001b[1;31mNameError\u001b[0m: name 'aws' is not defined"
     ]
    }
   ],
   "source": [
    "node = aws.Lambda(\n",
    "    source=source,        # Any PODPAC Node\n",
    "    download_result=True  # If False, results will reside on S3\n",
    ")"
   ]
  },
  {
   "cell_type": "code",
   "execution_count": null,
   "metadata": {
    "slideshow": {
     "slide_type": "fragment"
    }
   },
   "outputs": [],
   "source": [
    "# Create Coordinates for testing node\n",
    "lat = np.linspace(-10, 10, 5)\n",
    "lon = np.linspace(-10, 10, 5)\n",
    "coords = Coordinates([lat, lon], ['lat', 'lon'])"
   ]
  },
  {
   "cell_type": "code",
   "execution_count": null,
   "metadata": {
    "slideshow": {
     "slide_type": "fragment"
    }
   },
   "outputs": [],
   "source": [
    "# Evaluate Node\n",
    "o = node.eval(coords)\n",
    "\n",
    "# Plot\n",
    "o.plot(vmin=0, vmax=1); axis('scaled')\n",
    "pass"
   ]
  },
  {
   "cell_type": "markdown",
   "metadata": {
    "slideshow": {
     "slide_type": "slide"
    }
   },
   "source": [
    "# Evaluate PODPAC Node on AWS Through API Gateway\n",
    "We will:\n",
    "* Construct a URL that we can use as a WMS endpoint\n",
    "* Demonstrate using it through a Leaflet Plugin"
   ]
  },
  {
   "cell_type": "code",
   "execution_count": 17,
   "metadata": {
    "slideshow": {
     "slide_type": "subslide"
    }
   },
   "outputs": [],
   "source": [
    "# To obtain the API Gateway URL\n"
   ]
  },
  {
   "cell_type": "markdown",
   "metadata": {
    "slideshow": {
     "slide_type": "slide"
    }
   },
   "source": [
    "# Displaying WMS Map"
   ]
  },
  {
   "cell_type": "code",
   "execution_count": null,
   "metadata": {
    "slideshow": {
     "slide_type": "fragment"
    }
   },
   "outputs": [],
   "source": [
    "# Import ipyleaflet library\n",
    "from ipyleaflet import Map,WMSLayer"
   ]
  },
  {
   "cell_type": "code",
   "execution_count": null,
   "metadata": {
    "slideshow": {
     "slide_type": "fragment"
    }
   },
   "outputs": [],
   "source": [
    "# Create WMS Layer\n",
    "wms = WMSLayer(\n",
    "    url=API_URL + '?params={\"nodes\":' + pipeline_json + '}&',\n",
    "    layers='%PARAMS%', \n",
    "    transparent=True,\n",
    "    crs='EPSG:3857'\n",
    ")"
   ]
  },
  {
   "cell_type": "code",
   "execution_count": null,
   "metadata": {
    "slideshow": {
     "slide_type": "subslide"
    }
   },
   "outputs": [],
   "source": [
    "# Create and display map\n",
    "m = Map(layers=(wms, ), center=(42, -72), zoom=3)\n",
    "m"
   ]
  },
  {
   "cell_type": "markdown",
   "metadata": {
    "slideshow": {
     "slide_type": "slide"
    }
   },
   "source": [
    "\n",
    "# Exercises\n",
    "\n",
    "* Construct a custom Node\n",
    "* Evaluate it using AWS Lambda through Python\n",
    "* Evaluate it using AWS API Gateway"
   ]
  }
 ],
 "metadata": {
  "celltoolbar": "Slideshow",
  "kernelspec": {
   "display_name": "Python 3",
   "language": "python",
   "name": "python3"
  },
  "language_info": {
   "codemirror_mode": {
    "name": "ipython",
    "version": 3
   },
   "file_extension": ".py",
   "mimetype": "text/x-python",
   "name": "python",
   "nbconvert_exporter": "python",
   "pygments_lexer": "ipython3",
   "version": "3.7.6"
  }
 },
 "nbformat": 4,
 "nbformat_minor": 4
}
