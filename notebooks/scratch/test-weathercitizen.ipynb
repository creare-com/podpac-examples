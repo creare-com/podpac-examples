{
 "cells": [
  {
   "cell_type": "markdown",
   "metadata": {},
   "source": [
    "## WeatherCitizen demo"
   ]
  },
  {
   "cell_type": "code",
   "execution_count": 1,
   "metadata": {},
   "outputs": [],
   "source": [
    "import podpac\n",
    "from podpac.datalib import weathercitizen\n",
    "from podpac.datalib.weathercitizen import WeatherCitizen"
   ]
  },
  {
   "cell_type": "code",
   "execution_count": 2,
   "metadata": {},
   "outputs": [
    {
     "data": {
      "text/plain": [
       "78"
      ]
     },
     "execution_count": 2,
     "metadata": {},
     "output_type": "execute_result"
    }
   ],
   "source": [
    "weathercitizen.get(start_time=\"2020-03-01\", return_length=True)"
   ]
  },
  {
   "cell_type": "code",
   "execution_count": 3,
   "metadata": {},
   "outputs": [],
   "source": [
    "node = WeatherCitizen(uuid=\"re5wm615\")"
   ]
  },
  {
   "cell_type": "code",
   "execution_count": 4,
   "metadata": {},
   "outputs": [
    {
     "name": "stdout",
     "output_type": "stream",
     "text": [
      "Querying WeatherCitizen API\n",
      " Progress: |#########################| [5 / 4]\n",
      "Downloaded 892 records\n"
     ]
    },
    {
     "data": {
      "text/plain": [
       "Coordinates (EPSG:4326)\n",
       "\tlat,lon,time[lat]: DependentCoordinates(i,j,k->lat): Bounds[42.3458032, 51.52586914], shape(892,), ctype[point]\n",
       "\tlat,lon,time[lon]: DependentCoordinates(i,j,k->lon): Bounds[-117.67553228, -70.71286483], shape(892,), ctype[point]\n",
       "\tlat,lon,time[time]: DependentCoordinates(i,j,k->time): Bounds[2019-12-13T18:42:19.685000, 2020-03-05T21:29:54.418000], shape(892,), ctype[point]"
      ]
     },
     "execution_count": 4,
     "metadata": {},
     "output_type": "execute_result"
    }
   ],
   "source": [
    "node.get_native_coordinates()"
   ]
  }
 ],
 "metadata": {
  "kernelspec": {
   "display_name": "Python 3",
   "language": "python",
   "name": "python3"
  },
  "language_info": {
   "codemirror_mode": {
    "name": "ipython",
    "version": 3
   },
   "file_extension": ".py",
   "mimetype": "text/x-python",
   "name": "python",
   "nbconvert_exporter": "python",
   "pygments_lexer": "ipython3",
   "version": "3.7.0"
  }
 },
 "nbformat": 4,
 "nbformat_minor": 4
}
