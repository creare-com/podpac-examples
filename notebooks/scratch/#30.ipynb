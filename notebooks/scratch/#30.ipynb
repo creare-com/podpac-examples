{
 "cells": [
  {
   "cell_type": "code",
   "execution_count": 1,
   "metadata": {},
   "outputs": [
    {
     "name": "stderr",
     "output_type": "stream",
     "text": [
      "INFO:numexpr.utils:NumExpr defaulting to 8 threads.\n"
     ]
    }
   ],
   "source": [
    "from podpac import Coordinates, clinspace\n",
    "from podpac.data import Array\n",
    "import numpy as np\n",
    "\n",
    "class A(Array):\n",
    "    source = np.arange(10000).reshape(100, 100)\n",
    "    coordinates = Coordinates([clinspace(-25, 25, 100), clinspace(-25, 25, 100)], ['lat', 'lon'])\n",
    "\n",
    "a = A()\n",
    "coords = Coordinates([clinspace(0, 10, 80), clinspace(0, 10, 80)], ['lat', 'lon'])\n",
    "out = a.eval(coords)"
   ]
  },
  {
   "cell_type": "code",
   "execution_count": 2,
   "metadata": {},
   "outputs": [
    {
     "data": {
      "text/html": [
       "<pre>&lt;xarray.UnitsDataArray (lat: 80, lon: 80)&gt;\n",
       "array([[5050., 5050., 5050., ..., 5069., 5069., 5069.],\n",
       "       [5050., 5050., 5050., ..., 5069., 5069., 5069.],\n",
       "       [5050., 5050., 5050., ..., 5069., 5069., 5069.],\n",
       "       ...,\n",
       "       [6950., 6950., 6950., ..., 6969., 6969., 6969.],\n",
       "       [6950., 6950., 6950., ..., 6969., 6969., 6969.],\n",
       "       [6950., 6950., 6950., ..., 6969., 6969., 6969.]])\n",
       "Coordinates:\n",
       "  * lat      (lat) float64 0.0 0.1266 0.2532 0.3797 ... 9.62 9.747 9.873 10.0\n",
       "  * lon      (lon) float64 0.0 0.1266 0.2532 0.3797 ... 9.62 9.747 9.873 10.0\n",
       "Attributes:\n",
       "    layer_style:   &lt;podpac.core.style.Style object at 0x000001B6D91E58C8&gt;\n",
       "    crs:           EPSG:4326\n",
       "    geotransform:  (-0.06329113924050633, 0.12658227848101267, 0.0, -0.063291...</pre>"
      ],
      "text/plain": [
       "<xarray.UnitsDataArray (lat: 80, lon: 80)>\n",
       "array([[5050., 5050., 5050., ..., 5069., 5069., 5069.],\n",
       "       [5050., 5050., 5050., ..., 5069., 5069., 5069.],\n",
       "       [5050., 5050., 5050., ..., 5069., 5069., 5069.],\n",
       "       ...,\n",
       "       [6950., 6950., 6950., ..., 6969., 6969., 6969.],\n",
       "       [6950., 6950., 6950., ..., 6969., 6969., 6969.],\n",
       "       [6950., 6950., 6950., ..., 6969., 6969., 6969.]])\n",
       "Coordinates:\n",
       "  * lat      (lat) float64 0.0 0.1266 0.2532 0.3797 ... 9.62 9.747 9.873 10.0\n",
       "  * lon      (lon) float64 0.0 0.1266 0.2532 0.3797 ... 9.62 9.747 9.873 10.0\n",
       "Attributes:\n",
       "    layer_style:   <podpac.core.style.Style object at 0x000001B6D91E58C8>\n",
       "    crs:           EPSG:4326\n",
       "    geotransform:  (-0.06329113924050633, 0.12658227848101267, 0.0, -0.063291..."
      ]
     },
     "execution_count": 2,
     "metadata": {},
     "output_type": "execute_result"
    }
   ],
   "source": [
    "out"
   ]
  }
 ],
 "metadata": {
  "kernelspec": {
   "display_name": "Python 3",
   "language": "python",
   "name": "python3"
  },
  "language_info": {
   "codemirror_mode": {
    "name": "ipython",
    "version": 3
   },
   "file_extension": ".py",
   "mimetype": "text/x-python",
   "name": "python",
   "nbconvert_exporter": "python",
   "pygments_lexer": "ipython3",
   "version": "3.7.6"
  }
 },
 "nbformat": 4,
 "nbformat_minor": 4
}
