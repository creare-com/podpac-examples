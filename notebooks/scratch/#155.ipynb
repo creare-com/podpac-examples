{
 "cells": [
  {
   "cell_type": "code",
   "execution_count": 3,
   "metadata": {},
   "outputs": [],
   "source": [
    "# %load_ext autoreload\n",
    "# %autoreload 2\n",
    "import podpac\n",
    "import podpac.datalib\n",
    "import numpy as np"
   ]
  },
  {
   "cell_type": "code",
   "execution_count": 4,
   "metadata": {},
   "outputs": [],
   "source": [
    "username=None\n",
    "password=None\n",
    "smap = podpac.datalib.smap.SMAP(product='SPL3SMP', username=username, password=password)"
   ]
  },
  {
   "cell_type": "markdown",
   "metadata": {},
   "source": [
    "## SMAP source example"
   ]
  },
  {
   "cell_type": "code",
   "execution_count": 5,
   "metadata": {},
   "outputs": [
    {
     "data": {
      "text/plain": [
       "Coordinates (EPSG:4326)\n",
       "\ttime: ArrayCoordinates1d(time): Bounds[2015-03-31, 2020-04-20], N[1810]"
      ]
     },
     "execution_count": 5,
     "metadata": {},
     "output_type": "execute_result"
    }
   ],
   "source": [
    "smap.source_coordinates"
   ]
  },
  {
   "cell_type": "code",
   "execution_count": 6,
   "metadata": {},
   "outputs": [
    {
     "name": "stderr",
     "output_type": "stream",
     "text": [
      "INFO:pydap:Fetching URL: https://n5eil02u.ecs.nsidc.org/opendap/SMAP/SPL3SMP.006/2015.03.31/SMAP_L3_SM_P_20150331_R16510_001.h5.dods?Soil_Moisture_Retrieval_Data_AM_longitude[0:1:405][0:1:963]\n",
      "INFO:pydap:Fetching URL: https://n5eil02u.ecs.nsidc.org/opendap/SMAP/SPL3SMP.006/2015.03.31/SMAP_L3_SM_P_20150331_R16510_001.h5.dods?Soil_Moisture_Retrieval_Data_AM_latitude[0:1:405][0:1:963]\n"
     ]
    },
    {
     "data": {
      "text/plain": [
       "Coordinates (EPSG:4326)\n",
       "\ttime: ArrayCoordinates1d(time): Bounds[2015-03-31, 2020-04-20], N[1810]\n",
       "\tlat: ArrayCoordinates1d(lat): Bounds[-83.63196563720703, 83.63196563720703], N[406]\n",
       "\tlon: ArrayCoordinates1d(lon): Bounds[-179.81292724609375, 179.81292724609375], N[964]"
      ]
     },
     "execution_count": 6,
     "metadata": {},
     "output_type": "execute_result"
    }
   ],
   "source": [
    "nc = smap.find_coordinates()[0]\n",
    "nc"
   ]
  },
  {
   "cell_type": "code",
   "execution_count": 7,
   "metadata": {},
   "outputs": [
    {
     "data": {
      "text/plain": [
       "Coordinates (EPSG:4326)\n",
       "\tlat: ArrayCoordinates1d(lat): Bounds[-83.63196563720703, 83.63196563720703], N[406]\n",
       "\tlon: ArrayCoordinates1d(lon): Bounds[-179.81292724609375, 179.81292724609375], N[964]\n",
       "\ttime: ArrayCoordinates1d(time): Bounds[2018-05-19T12, 2018-05-19T12], N[1]"
      ]
     },
     "execution_count": 7,
     "metadata": {},
     "output_type": "execute_result"
    }
   ],
   "source": [
    "c = podpac.coordinates.merge_dims([nc.drop('time'), podpac.Coordinates(['2018-05-19T12'], ['time'])])\n",
    "c"
   ]
  },
  {
   "cell_type": "code",
   "execution_count": 8,
   "metadata": {},
   "outputs": [
    {
     "data": {
      "text/plain": [
       "Coordinates (EPSG:4326)\n",
       "\ttime: ArrayCoordinates1d(time): Bounds[2018-05-19, 2018-05-19], N[1]"
      ]
     },
     "execution_count": 8,
     "metadata": {},
     "output_type": "execute_result"
    }
   ],
   "source": [
    "smap.source_coordinates.intersect(c, outer=True)"
   ]
  },
  {
   "cell_type": "code",
   "execution_count": 9,
   "metadata": {},
   "outputs": [],
   "source": [
    "smap.interpolation"
   ]
  },
  {
   "cell_type": "code",
   "execution_count": 10,
   "metadata": {},
   "outputs": [
    {
     "name": "stderr",
     "output_type": "stream",
     "text": [
      "INFO:pydap:Fetching URL: https://n5eil02u.ecs.nsidc.org/opendap/SMAP/SPL3SMP.006/2018.05.19/SMAP_L3_SM_P_20180519_R16510_001.h5.dods?Soil_Moisture_Retrieval_Data_AM_soil_moisture[0:1:405][0:1:963]\n",
      "INFO:numexpr.utils:NumExpr defaulting to 8 threads.\n"
     ]
    },
    {
     "data": {
      "text/plain": [
       "array([[[nan],\n",
       "        [nan],\n",
       "        [nan],\n",
       "        ...,\n",
       "        [nan],\n",
       "        [nan],\n",
       "        [nan]],\n",
       "\n",
       "       [[nan],\n",
       "        [nan],\n",
       "        [nan],\n",
       "        ...,\n",
       "        [nan],\n",
       "        [nan],\n",
       "        [nan]],\n",
       "\n",
       "       [[nan],\n",
       "        [nan],\n",
       "        [nan],\n",
       "        ...,\n",
       "        [nan],\n",
       "        [nan],\n",
       "        [nan]],\n",
       "\n",
       "       ...,\n",
       "\n",
       "       [[nan],\n",
       "        [nan],\n",
       "        [nan],\n",
       "        ...,\n",
       "        [nan],\n",
       "        [nan],\n",
       "        [nan]],\n",
       "\n",
       "       [[nan],\n",
       "        [nan],\n",
       "        [nan],\n",
       "        ...,\n",
       "        [nan],\n",
       "        [nan],\n",
       "        [nan]],\n",
       "\n",
       "       [[nan],\n",
       "        [nan],\n",
       "        [nan],\n",
       "        ...,\n",
       "        [nan],\n",
       "        [nan],\n",
       "        [nan]]])"
      ]
     },
     "execution_count": 10,
     "metadata": {},
     "output_type": "execute_result"
    }
   ],
   "source": [
    "out = smap.eval(c)  # <-- returns all nans\n",
    "out.data"
   ]
  },
  {
   "cell_type": "code",
   "execution_count": 11,
   "metadata": {},
   "outputs": [
    {
     "data": {
      "text/plain": [
       "(array([  0,   0,   0, ..., 405, 405, 405], dtype=int64),\n",
       " array([  0,   1,   2, ..., 961, 962, 963], dtype=int64),\n",
       " array([0, 0, 0, ..., 0, 0, 0], dtype=int64))"
      ]
     },
     "execution_count": 11,
     "metadata": {},
     "output_type": "execute_result"
    }
   ],
   "source": [
    "np.where(np.isnan(out.data))"
   ]
  },
  {
   "cell_type": "markdown",
   "metadata": {},
   "source": [
    "## Recreate Simple Example"
   ]
  },
  {
   "cell_type": "code",
   "execution_count": 16,
   "metadata": {},
   "outputs": [
    {
     "data": {
      "text/plain": [
       "Coordinates (EPSG:4326)\n",
       "\ttime: UniformCoordinates1d(time): Bounds[2018-05-19, 2018-05-19], N[1]"
      ]
     },
     "execution_count": 16,
     "metadata": {},
     "output_type": "execute_result"
    }
   ],
   "source": [
    "from podpac.coordinates import Coordinates, clinspace, UniformCoordinates1d\n",
    "import numpy as np\n",
    "\n",
    "a = Coordinates([clinspace('2015-03-31', '2018-06-03', 1161)], ['time'])\n",
    "b = Coordinates([clinspace(-83.63197326660156, 83.63196563720703, 406), \n",
    "                 clinspace(-179.8129119873047, 179.8129119873047, 964), \n",
    "                 '2018-05-19T12'], ['lat', 'lon','time'])\n",
    "\n",
    "c = Coordinates([clinspace(-83.63197326660156, 83.63196563720703, 406), \n",
    "                 clinspace(-179.8129119873047, 179.8129119873047, 964), \n",
    "                 clinspace('2015-05-19T12', '2018-05-20T20', 1647)], ['lat', 'lon','time'])\n",
    "\n",
    "d = Coordinates([clinspace(0, 10, 11)], ['lat'])\n",
    "e = Coordinates([[5.2]], ['lat'])\n",
    "\n",
    "a.intersect(b, outer=True)\n",
    "# d.intersect(e)"
   ]
  },
  {
   "cell_type": "code",
   "execution_count": 19,
   "metadata": {},
   "outputs": [],
   "source": [
    "self = a['time']\n",
    "bounds = b['time'].bounds\n",
    "outer = True\n",
    "\n",
    "lo = max(bounds[0], self.bounds[0])\n",
    "hi = min(bounds[1], self.bounds[1])\n",
    "\n",
    "imin = int(np.ceil((lo - self.bounds[0]) / np.abs(self.step)))\n",
    "imax = int(np.floor((hi - self.bounds[0]) / np.abs(self.step)))\n",
    "\n",
    "if outer:\n",
    "    imin -= 1\n",
    "    imax += 1\n",
    "\n",
    "imax = np.clip(imax+1, 0, self.size)\n",
    "imin = np.clip(imin, 0, self.size)\n",
    "\n",
    "# empty case\n",
    "if imin >= imax:\n",
    "    ret = self._select_empty(return_indices)\n",
    "\n",
    "if self.is_descending:\n",
    "    imax, imin = self.size - imin, self.size - imax\n",
    "\n",
    "start = self.start + imin*self.step\n",
    "stop = self.start + (imax-1)*self.step\n",
    "c = UniformCoordinates1d(start, stop, self.step, **self.properties)"
   ]
  },
  {
   "cell_type": "code",
   "execution_count": 20,
   "metadata": {},
   "outputs": [
    {
     "data": {
      "text/plain": [
       "(numpy.datetime64('2018-05-19T12','h'), numpy.datetime64('2018-05-19T12','h'))"
      ]
     },
     "execution_count": 20,
     "metadata": {},
     "output_type": "execute_result"
    }
   ],
   "source": [
    "bounds"
   ]
  },
  {
   "cell_type": "code",
   "execution_count": 21,
   "metadata": {},
   "outputs": [
    {
     "data": {
      "text/plain": [
       "Coordinates (EPSG:4326)\n",
       "\ttime: ArrayCoordinates1d(time): Bounds[2015-05-19, 2018-05-20], N[2]"
      ]
     },
     "execution_count": 21,
     "metadata": {},
     "output_type": "execute_result"
    }
   ],
   "source": [
    "a = Coordinates([['2015-05-19', '2018-05-20']], ['time'])\n",
    "b = Coordinates([clinspace(0, 10, 11), \n",
    "                 clinspace(0, 10, 11), \n",
    "                 '2018-05-19T12'], ['lat', 'lon','time'])\n",
    "\n",
    "a.intersect(b, outer=True)\n",
    "# d.intersect(e)"
   ]
  },
  {
   "cell_type": "code",
   "execution_count": 22,
   "metadata": {},
   "outputs": [],
   "source": [
    "self = a['time']\n",
    "bounds = b['time'].bounds"
   ]
  },
  {
   "cell_type": "code",
   "execution_count": 25,
   "metadata": {},
   "outputs": [],
   "source": [
    "gt = np.where(self.coords['time'] >= bounds[0])[0]\n",
    "lt = np.where(self.coords['time'] <= bounds[1])[0]"
   ]
  },
  {
   "cell_type": "code",
   "execution_count": 26,
   "metadata": {},
   "outputs": [
    {
     "data": {
      "text/plain": [
       "1"
      ]
     },
     "execution_count": 26,
     "metadata": {},
     "output_type": "execute_result"
    }
   ],
   "source": [
    "gt[0]"
   ]
  },
  {
   "cell_type": "code",
   "execution_count": 27,
   "metadata": {},
   "outputs": [
    {
     "data": {
      "text/plain": [
       "0"
      ]
     },
     "execution_count": 27,
     "metadata": {},
     "output_type": "execute_result"
    }
   ],
   "source": [
    "lt[0]"
   ]
  }
 ],
 "metadata": {
  "kernelspec": {
   "display_name": "Python 3",
   "language": "python",
   "name": "python3"
  },
  "language_info": {
   "codemirror_mode": {
    "name": "ipython",
    "version": 3
   },
   "file_extension": ".py",
   "mimetype": "text/x-python",
   "name": "python",
   "nbconvert_exporter": "python",
   "pygments_lexer": "ipython3",
   "version": "3.7.6"
  }
 },
 "nbformat": 4,
 "nbformat_minor": 4
}
