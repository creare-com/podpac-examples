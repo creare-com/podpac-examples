{
 "cells": [
  {
   "cell_type": "markdown",
   "metadata": {},
   "source": [
    "## Landsat Development"
   ]
  },
  {
   "cell_type": "markdown",
   "metadata": {},
   "source": [
    "## Sat Utils\n",
    "\n",
    "- https://github.com/sat-utils/sat-stac\n",
    "- https://github.com/sat-utils/sat-search\n",
    "- https://github.com/sat-utils/sat-search/blob/master/tutorial-1.ipynb\n",
    "- https://github.com/sat-utils/sat-stac/blob/master/tutorial-1.ipynb\n",
    "- https://github.com/sat-utils/sat-stac/blob/master/tutorial-2.ipynb"
   ]
  },
  {
   "cell_type": "code",
   "execution_count": 33,
   "metadata": {},
   "outputs": [
    {
     "name": "stdout",
     "output_type": "stream",
     "text": [
      "241 items\n"
     ]
    }
   ],
   "source": [
    "from satsearch import Search\n",
    "\n",
    "# if you want to specify collection\n",
    "query = {\n",
    "#     \"collection\": {\n",
    "#         \"eq\": \"landsat-8-l1\"\n",
    "#     }\n",
    "}\n",
    "search = Search(bbox=[-110, 39.5, -105, 40.5],\n",
    "                time='2020-02-12T00:00:00Z/2020-03-18T12:31:12Z',\n",
    "                query=query)\n",
    "\n",
    "print('%s items' % search.found())"
   ]
  },
  {
   "cell_type": "code",
   "execution_count": 34,
   "metadata": {},
   "outputs": [
    {
     "name": "stdout",
     "output_type": "stream",
     "text": [
      "241 items\n",
      "2 collections\n",
      "[sentinel-2-l1c, landsat-8-l1]\n"
     ]
    }
   ],
   "source": [
    "items = search.items()\n",
    "print('%s items' % len(items))\n",
    "print('%s collections' % len(items._collections))\n",
    "print(items._collections)"
   ]
  },
  {
   "cell_type": "markdown",
   "metadata": {},
   "source": [
    "## PODPAC"
   ]
  },
  {
   "cell_type": "code",
   "execution_count": 1,
   "metadata": {},
   "outputs": [],
   "source": [
    "from podpac.datalib.satutils import SatUtils\n",
    "import podpac"
   ]
  },
  {
   "cell_type": "code",
   "execution_count": 2,
   "metadata": {},
   "outputs": [],
   "source": [
    "lat = [38, 38.5, 40]         # lat dimension\n",
    "lon = [-110, -110.5, -111]  # lon dimension\n",
    "time = ['2020-02-05', '2020-02-06']\n",
    "\n",
    "# Create PODPAC coordinates\n",
    "c = podpac.Coordinates([lat, lon, time], dims=['lat', 'lon', 'time'])"
   ]
  },
  {
   "cell_type": "code",
   "execution_count": 3,
   "metadata": {},
   "outputs": [],
   "source": [
    "# search\n",
    "node = SatUtils(collection=\"landsat-8-l1\", asset=\"B3\")\n",
    "s = node.search(c)"
   ]
  },
  {
   "cell_type": "code",
   "execution_count": 4,
   "metadata": {},
   "outputs": [
    {
     "data": {
      "text/plain": [
       "[<SatUtilsSource(source='https://landsat-pds.s3.amazonaws.com/c1/L8/038/032/LC08_L1TP_038032_20200205_20200211_01_T1/LC08_L1TP_038032_20200205_20200211_01_T1_B3.TIF', interpolation='nearest')>]"
      ]
     },
     "execution_count": 4,
     "metadata": {},
     "output_type": "execute_result"
    }
   ],
   "source": [
    "src = node.sources\n",
    "src"
   ]
  },
  {
   "cell_type": "code",
   "execution_count": 5,
   "metadata": {},
   "outputs": [],
   "source": [
    "# INTERNAL SEARCH CONVIENCE METHODS\n",
    "\n",
    "# items\n",
    "# items = node._search.items()\n",
    "\n",
    "# summary\n",
    "# print(items.summary())\n",
    "\n",
    "# save to json\n",
    "# node.items.save(\"test.json\")\n",
    "\n",
    "# item\n",
    "# item = items[0]\n",
    "\n",
    "# datetime\n",
    "# item.datetime\n",
    "\n",
    "# properties\n",
    "# item.properties \n",
    "\n",
    "# assets to download\n",
    "# item.assets\n",
    "\n",
    "# date of item\n",
    "# item.properties[\"datetime\"]"
   ]
  },
  {
   "cell_type": "code",
   "execution_count": 6,
   "metadata": {},
   "outputs": [
    {
     "name": "stderr",
     "output_type": "stream",
     "text": [
      "INFO:podpac.core.data.file_source:Downloading: https://landsat-pds.s3.amazonaws.com/c1/L8/038/032/LC08_L1TP_038032_20200205_20200211_01_T1/LC08_L1TP_038032_20200205_20200211_01_T1_B3.TIF\n"
     ]
    },
    {
     "data": {
      "text/plain": [
       "<xarray.UnitsDataArray (lat: 3, lon: 3, time: 2)>\n",
       "array([[[   nan,    nan],\n",
       "        [   nan,    nan],\n",
       "        [   nan,    nan]],\n",
       "\n",
       "       [[   nan,    nan],\n",
       "        [   nan,    nan],\n",
       "        [   nan,    nan]],\n",
       "\n",
       "       [[   nan,    nan],\n",
       "        [   nan,    nan],\n",
       "        [20323., 20323.]]])\n",
       "Coordinates:\n",
       "  * lat      (lat) float64 38.0 38.5 40.0\n",
       "  * lon      (lon) float64 -110.0 -110.5 -111.0\n",
       "  * time     (time) datetime64[ns] 2020-02-05 2020-02-06\n",
       "Attributes:\n",
       "    layer_style:  <podpac.core.style.Style object at 0x7fd300435ad0>\n",
       "    crs:          EPSG:4326"
      ]
     },
     "execution_count": 6,
     "metadata": {},
     "output_type": "execute_result"
    }
   ],
   "source": [
    "output = node.eval(c)\n",
    "output"
   ]
  },
  {
   "cell_type": "code",
   "execution_count": 31,
   "metadata": {},
   "outputs": [
    {
     "data": {
      "text/plain": [
       "<matplotlib.collections.QuadMesh at 0x7fd43abbc690>"
      ]
     },
     "execution_count": 31,
     "metadata": {},
     "output_type": "execute_result"
    },
    {
     "data": {
      "image/png": "[encoded data removed]",
      "text/plain": [
       "<Figure size 432x288 with 2 Axes>"
      ]
     },
     "metadata": {
      "needs_background": "light"
     },
     "output_type": "display_data"
    }
   ],
   "source": [
    "output[:,:,1].plot()"
   ]
  },
  {
   "cell_type": "markdown",
   "metadata": {},
   "source": [
    "## Landsat"
   ]
  },
  {
   "cell_type": "code",
   "execution_count": 1,
   "metadata": {},
   "outputs": [],
   "source": [
    "import podpac\n",
    "from podpac.datalib.satutils import Landsat8"
   ]
  },
  {
   "cell_type": "code",
   "execution_count": 2,
   "metadata": {},
   "outputs": [],
   "source": [
    "lat = [38, 38.5, 40]         # lat dimension\n",
    "lon = [-110, -110.5, -111]  # lon dimension\n",
    "time = ['2020-02-05', '2020-02-06']\n",
    "\n",
    "# Create PODPAC coordinates\n",
    "c = podpac.Coordinates([lat, lon, time], dims=['lat', 'lon', 'time'])"
   ]
  },
  {
   "cell_type": "code",
   "execution_count": 3,
   "metadata": {},
   "outputs": [],
   "source": [
    "node = Landsat8(asset=\"B1\")"
   ]
  },
  {
   "cell_type": "code",
   "execution_count": 4,
   "metadata": {},
   "outputs": [
    {
     "name": "stderr",
     "output_type": "stream",
     "text": [
      "INFO:podpac.core.data.file_source:Loading AWS resource: s3://landsat-pds/c1/L8/038/032/LC08_L1TP_038032_20200205_20200211_01_T1/LC08_L1TP_038032_20200205_20200211_01_T1_B1.TIF\n"
     ]
    },
    {
     "data": {
      "text/plain": [
       "<xarray.UnitsDataArray (lat: 3, lon: 3, time: 2)>\n",
       "array([[[   nan,    nan],\n",
       "        [   nan,    nan],\n",
       "        [   nan,    nan]],\n",
       "\n",
       "       [[   nan,    nan],\n",
       "        [   nan,    nan],\n",
       "        [   nan,    nan]],\n",
       "\n",
       "       [[   nan,    nan],\n",
       "        [   nan,    nan],\n",
       "        [22060., 22060.]]])\n",
       "Coordinates:\n",
       "  * lat      (lat) float64 38.0 38.5 40.0\n",
       "  * lon      (lon) float64 -110.0 -110.5 -111.0\n",
       "  * time     (time) datetime64[ns] 2020-02-05 2020-02-06\n",
       "Attributes:\n",
       "    layer_style:  <podpac.core.style.Style object at 0x7f8e40c181d0>\n",
       "    crs:          EPSG:4326"
      ]
     },
     "execution_count": 4,
     "metadata": {},
     "output_type": "execute_result"
    }
   ],
   "source": [
    "output = node.eval(c)\n",
    "output"
   ]
  },
  {
   "cell_type": "markdown",
   "metadata": {},
   "source": [
    "## Sentinel 2"
   ]
  },
  {
   "cell_type": "code",
   "execution_count": 1,
   "metadata": {},
   "outputs": [],
   "source": [
    "import podpac\n",
    "from podpac.datalib.satutils import Sentinel2"
   ]
  },
  {
   "cell_type": "code",
   "execution_count": 2,
   "metadata": {},
   "outputs": [],
   "source": [
    "lat = [38, 38.5, 40]         # lat dimension\n",
    "lon = [-110, -110.5, -111]  # lon dimension\n",
    "time = ['2020-02-24', '2020-02-27']\n",
    "\n",
    "# Create PODPAC coordinates\n",
    "c = podpac.Coordinates([lat, lon, time], dims=['lat', 'lon', 'time'])"
   ]
  },
  {
   "cell_type": "code",
   "execution_count": 3,
   "metadata": {},
   "outputs": [],
   "source": [
    "node = Sentinel2()"
   ]
  },
  {
   "cell_type": "code",
   "execution_count": 4,
   "metadata": {},
   "outputs": [
    {
     "data": {
      "text/plain": [
       "['thumbnail',\n",
       " 'info',\n",
       " 'metadata',\n",
       " 'tki',\n",
       " 'B01',\n",
       " 'B02',\n",
       " 'B03',\n",
       " 'B04',\n",
       " 'B05',\n",
       " 'B06',\n",
       " 'B07',\n",
       " 'B08',\n",
       " 'B8A',\n",
       " 'B09',\n",
       " 'B10',\n",
       " 'B11',\n",
       " 'B12']"
      ]
     },
     "execution_count": 4,
     "metadata": {},
     "output_type": "execute_result"
    }
   ],
   "source": [
    "# find assets\n",
    "_ = node.search(c)\n",
    "node.list_assets()"
   ]
  },
  {
   "cell_type": "code",
   "execution_count": 3,
   "metadata": {},
   "outputs": [
    {
     "name": "stderr",
     "output_type": "stream",
     "text": [
      "INFO:podpac.core.data.file_source:Loading AWS resource: s3://sentinel-s2-l1c/tiles/12/S/WH/2020/2/24/0/B02.jp2\n",
      "INFO:podpac.core.data.file_source:Loading AWS resource: s3://sentinel-s2-l1c/tiles/12/S/WJ/2020/2/24/0/B02.jp2\n",
      "/Users/marcus/computing/creare/podpac/podpac/podpac/core/cache/ram_cache_store.py:89: UserWarning: Warning: Process is using more RAM than the specified limit in settings.RAM_CACHE_MAX_BYTES. No longer caching. Consider increasing this limit or try clearing the cache (e.g. podpac.utils.clear_cache(mode='RAM') to clear ALL cached results in RAM)\n",
      "  UserWarning,\n",
      "INFO:podpac.core.data.file_source:Loading AWS resource: s3://sentinel-s2-l1c/tiles/12/T/WK/2020/2/24/0/B02.jp2\n",
      "/Users/marcus/computing/creare/podpac/podpac/podpac/core/cache/ram_cache_store.py:89: UserWarning: Warning: Process is using more RAM than the specified limit in settings.RAM_CACHE_MAX_BYTES. No longer caching. Consider increasing this limit or try clearing the cache (e.g. podpac.utils.clear_cache(mode='RAM') to clear ALL cached results in RAM)\n",
      "  UserWarning,\n"
     ]
    },
    {
     "data": {
      "text/plain": [
       "<xarray.UnitsDataArray (lat: 3, lon: 3, time: 2)>\n",
       "array([[[    0.,     0.],\n",
       "        [    0.,     0.],\n",
       "        [    0.,     0.]],\n",
       "\n",
       "       [[    0.,     0.],\n",
       "        [    0.,     0.],\n",
       "        [    0.,     0.]],\n",
       "\n",
       "       [[55860., 55860.],\n",
       "        [42333., 42333.],\n",
       "        [56664., 56664.]]])\n",
       "Coordinates:\n",
       "  * lat      (lat) float64 38.0 38.5 40.0\n",
       "  * lon      (lon) float64 -110.0 -110.5 -111.0\n",
       "  * time     (time) datetime64[ns] 2020-02-24 2020-02-27\n",
       "Attributes:\n",
       "    layer_style:  <podpac.core.style.Style object at 0x7fe71241ed10>\n",
       "    crs:          EPSG:4326"
      ]
     },
     "execution_count": 3,
     "metadata": {},
     "output_type": "execute_result"
    }
   ],
   "source": [
    "# get true color image\n",
    "node = Sentinel2(asset=\"B02\")\n",
    "output = node.eval(c)\n",
    "output"
   ]
  }
 ],
 "metadata": {
  "kernelspec": {
   "display_name": "Python 3",
   "language": "python",
   "name": "python3"
  },
  "language_info": {
   "codemirror_mode": {
    "name": "ipython",
    "version": 3
   },
   "file_extension": ".py",
   "mimetype": "text/x-python",
   "name": "python",
   "nbconvert_exporter": "python",
   "pygments_lexer": "ipython3",
   "version": "3.7.5"
  }
 },
 "nbformat": 4,
 "nbformat_minor": 4
}
