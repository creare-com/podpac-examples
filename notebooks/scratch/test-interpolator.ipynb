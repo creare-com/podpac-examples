{
 "cells": [
  {
   "cell_type": "code",
   "execution_count": 3,
   "metadata": {},
   "outputs": [],
   "source": [
    "from podpac.core.coordinates import Coordinates, clinspace, UniformCoordinates1d, StackedCoordinates\n",
    "from podpac.core.data import interpolate\n",
    "from podpac.core.data.interpolate import (Interpolation, InterpolationException,\n",
    "                                          Interpolator, INTERPOLATION_METHODS, Rasterio,\n",
    "                                          INTERPOLATION_SHORTCUTS, NearestNeighbor)\n",
    "from podpac.core.data.datasource import DataSource\n",
    "from podpac.core.units import UnitsDataArray\n",
    "from podpac.core.data.test.test_datasource import MockDataSource, MockArrayDataSource, MockNonuniformDataSource\n",
    "\n",
    "import numpy as np"
   ]
  },
  {
   "cell_type": "markdown",
   "metadata": {},
   "source": [
    "## Test Rasterio Example"
   ]
  },
  {
   "cell_type": "code",
   "execution_count": 8,
   "metadata": {},
   "outputs": [],
   "source": [
    "source = np.array([\n",
    "    [0, 1, 2, 4, 5],\n",
    "    [0, 1, 2, 4, 5],\n",
    "    [0, 1, 2, 4, 5]\n",
    "])\n",
    "coords_src = Coordinates([clinspace(0, 10, 3), clinspace(0, 10, 5)], dims=['lat', 'lon'])\n",
    "coords_dst = Coordinates([clinspace(1, 11, 3), clinspace(1, 11, 5)], dims=['lat', 'lon'])\n",
    "\n",
    "# try one specific rasterio case to measure output\n",
    "node = MockArrayDataSource(source=source, native_coordinates=coords_src)\n",
    "node.interpolation = {\n",
    "    'method': 'min',\n",
    "    'interpolators': [Rasterio]\n",
    "}"
   ]
  },
  {
   "cell_type": "code",
   "execution_count": 9,
   "metadata": {},
   "outputs": [
    {
     "data": {
      "text/plain": [
       "<xarray.UnitsDataArray (lat: 3, lon: 5)>\n",
       "array([[0., 1., 2., 4., 5.],\n",
       "       [0., 1., 2., 4., 5.],\n",
       "       [0., 1., 2., 4., 5.]])\n",
       "Coordinates:\n",
       "  * lat      (lat) float64 1.0 6.0 11.0\n",
       "  * lon      (lon) float64 1.0 3.5 6.0 8.5 11.0\n",
       "Attributes:\n",
       "    layer_style:  <podpac.core.style.Style object at 0x1c19acce48>\n",
       "    units:        None"
      ]
     },
     "execution_count": 9,
     "metadata": {},
     "output_type": "execute_result"
    }
   ],
   "source": [
    "output = node.eval(coords_dst)\n",
    "output"
   ]
  },
  {
   "cell_type": "code",
   "execution_count": 56,
   "metadata": {},
   "outputs": [
    {
     "data": {
      "text/plain": [
       "numpy.timedelta64(2,'D')"
      ]
     },
     "execution_count": 56,
     "metadata": {},
     "output_type": "execute_result"
    }
   ],
   "source": [
    "np.datetime64('2018-01-09')- np.datetime64('2018-01-07')"
   ]
  },
  {
   "cell_type": "code",
   "execution_count": null,
   "metadata": {},
   "outputs": [],
   "source": [
    "reqcoords = Coordinates([[-.5, 1.5, 3.5], [.5, 2.5, 4.5]], dims=['lat', 'lon'])\n",
    "srccoords = Coordinates([[0, 1, 2, 3, 4, 5], [0, 1, 2, 3, 4, 5]], dims=['lat', 'lon'])\n",
    "\n",
    "interp = Interpolation('nearest_preview')\n",
    "\n",
    "srccoords, srccoords_index = srccoords.intersect(reqcoords, outer=True, return_indices=True)\n",
    "coords, cidx = interp.select_coordinates(srccoords, srccoords_index, reqcoords)"
   ]
  },
  {
   "cell_type": "code",
   "execution_count": null,
   "metadata": {},
   "outputs": [],
   "source": [
    "# test when selection is applied serially\n",
    "reqcoords = Coordinates([[-.5, 1.5, 3.5], [.5, 2.5, 4.5]], dims=['lat', 'lon'])\n",
    "srccoords = Coordinates([[0, 1, 2, 3, 4, 5], [0, 1, 2, 3, 4, 5]], dims=['lat', 'lon'])\n",
    "\n",
    "interp = Interpolation({\n",
    "    'lat': 'nearest_preview',\n",
    "    'lon': 'nearest_preview'\n",
    "})\n",
    "\n",
    "srccoords, srccoords_index = srccoords.intersect(reqcoords, outer=True, return_indices=True)\n",
    "coords, cidx = interp.select_coordinates(srccoords, srccoords_index, reqcoords)"
   ]
  },
  {
   "cell_type": "code",
   "execution_count": null,
   "metadata": {},
   "outputs": [],
   "source": [
    "reqcoords = Coordinates([[-.5, 1.5, 3.5], [.5, 2.5, 4.5]], dims=['lat', 'lon'])\n",
    "srccoords = Coordinates([([0, 1, 2, 3, 4, 5], [0, 1, 2, 3, 4, 5])], dims=['lat_lon'])\n",
    "srccoords, srccoords_index = srccoords.intersect(reqcoords, outer=True, return_indices=True)\n",
    "\n",
    "for src_dim, idx in zip(srccoords, srccoords_index):\n",
    "    print(src_dim)\n",
    "    print(idx)"
   ]
  },
  {
   "cell_type": "code",
   "execution_count": null,
   "metadata": {},
   "outputs": [],
   "source": [
    "len(reqcoords['lat'])\n",
    "np.all(coords['lat'].coordinates == np.array([0, 2, 4]))"
   ]
  },
  {
   "cell_type": "markdown",
   "metadata": {},
   "source": [
    "### Unstacked Coordinates"
   ]
  },
  {
   "cell_type": "code",
   "execution_count": null,
   "metadata": {},
   "outputs": [],
   "source": [
    "class TestInterp(Interpolator):\n",
    "    dims_supported = ['lat', 'lon']\n",
    "    def interpolate(self, udims, source_coordinates, source_data, requested_coordinates, output_data):\n",
    "        output_data = source_data\n",
    "        return source_coordinates, source_data, output_data\n",
    "\n",
    "# test if source and data are both length one\n",
    "reqcoords = Coordinates([[-.5, 1.5, 3.5], [.5, 2.5, 4.5]], dims=['lat', 'lon'])\n",
    "srccoords = Coordinates([[0, 2, 4], [0, 3, 4]], dims=['lat', 'lon'])\n",
    "srcdata = UnitsDataArray(np.random.rand(3, 3),\n",
    "                         coords=[srccoords[c].coordinates for c in srccoords],\n",
    "                         dims=srccoords.dims)\n",
    "outdata = UnitsDataArray(np.zeros(srcdata.shape),\n",
    "                         coords=[reqcoords[c].coordinates for c in reqcoords],\n",
    "                         dims=reqcoords.dims)\n",
    "\n",
    "interp = Interpolation({('lat', 'lon'): {'method': 'test', 'interpolators': [TestInterp]}})\n",
    "\n",
    "srccoords, srcdata, outdata = interp.interpolate(srccoords, srcdata, reqcoords, outdata)"
   ]
  },
  {
   "cell_type": "markdown",
   "metadata": {},
   "source": [
    "### Stacked Coordinates"
   ]
  },
  {
   "cell_type": "code",
   "execution_count": null,
   "metadata": {},
   "outputs": [],
   "source": [
    "class TestInterp(Interpolator):\n",
    "    dims_supported = ['lat', 'lon']\n",
    "    def interpolate(self, udims, source_coordinates, source_data, requested_coordinates, output_data):\n",
    "        output_data = source_data\n",
    "        return source_coordinates, source_data, output_data\n",
    "\n",
    "# test if source and data are both length one\n",
    "reqcoords = Coordinates([(np.linspace(-25, 25, 51), np.linspace(-25, 25, 51))], dims=['lat_lon'])\n",
    "srccoords = Coordinates([(np.linspace(-20, 30, 51), np.linspace(-20, 30, 51))], dims=['lat_lon'])\n",
    "\n",
    "data = np.random.rand(21)\n",
    "lat = np.linspace(-25, 25, 21)\n",
    "lon = np.linspace(-25, 25, 21)\n",
    "\n",
    "# create podpac coordinates for data\n",
    "stacked = Coordinates([(lat, lon)], ['lat_lon'])\n",
    "\n",
    "# create node for data source\n",
    "interp = Interpolation({('lat', 'lon'): {'method': 'test', 'interpolators': [TestInterp]}})\n",
    "node = DataSource(source=data, native_coordinates=stacked, interpolation=interp)\n",
    "node.native_coordinates\n",
    "\n",
    "\n",
    "# srccoords, srcdata, outdata = interp.interpolate(srccoords, srcdata, reqcoords, outdata)"
   ]
  },
  {
   "cell_type": "code",
   "execution_count": null,
   "metadata": {},
   "outputs": [],
   "source": [
    "arr = node.create_output_array(node.native_coordinates)\n",
    "arr.reindex(method='nearest', lat=np.linspace(-10, 10, 10))"
   ]
  },
  {
   "cell_type": "code",
   "execution_count": null,
   "metadata": {},
   "outputs": [],
   "source": [
    "node.native_coordinates['lat']"
   ]
  },
  {
   "cell_type": "code",
   "execution_count": null,
   "metadata": {},
   "outputs": [],
   "source": []
  },
  {
   "cell_type": "code",
   "execution_count": null,
   "metadata": {},
   "outputs": [],
   "source": [
    "# source_coordinates = Coordinates([clinspace(-25, 25, 51), clinspace(-25, 25, 51)], dims=['lat', 'lon'])\n",
    "source_coordinates = Coordinates([(np.linspace(-25, 25, 51), np.linspace(-25, 25, 51))], dims=['lat_lon'])\n",
    "requested_coordinates = Coordinates([clinspace(-15, 15, 51), clinspace(-15, 15, 51)], dims=['lat', 'lon'])\n",
    "\n",
    "source_coordinates, source_coordinates_index = source_coordinates.intersect(requested_coordinates, outer=True, return_indices=True)\n",
    "\n",
    "new_coords =[]\n",
    "new_coords_idx = []\n",
    "for dim, idx in zip(source_coordinates, source_coordinates_index):\n",
    "    if isinstance(source_coordinates[dim], StackedCoordinates):\n",
    "        \n",
    "    \n",
    "    src_coords = source_coordinates[dim]\n",
    "    dst_coords = requested_coordinates[dim]\n",
    "\n",
    "    if isinstance(dst_coords, UniformCoordinates1d):\n",
    "        dst_start = dst_coords.start\n",
    "        dst_stop = dst_coords.stop\n",
    "        dst_delta = dst_coords.step\n",
    "    else:\n",
    "        dst_start = dst_coords.coordinates[0]\n",
    "        dst_stop = dst_coords.coordinates[-1]\n",
    "        dst_delta = (dst_stop-dst_start) / (dst_coords.size - 1)\n",
    "\n",
    "    if isinstance(src_coords, UniformCoordinates1d):\n",
    "        src_start = src_coords.start\n",
    "        src_stop = src_coords.stop\n",
    "        src_delta = src_coords.step\n",
    "    else:\n",
    "        src_start = src_coords.coordinates[0]\n",
    "        src_stop = src_coords.coordinates[-1]\n",
    "        src_delta = (src_stop-src_start) / (src_coords.size - 1)\n",
    "\n",
    "    ndelta = max(1, np.round(dst_delta / src_delta))\n",
    "\n",
    "    c = UniformCoordinates1d(src_start, src_stop, ndelta*src_delta, **src_coords.properties)\n",
    "\n",
    "    if isinstance(idx, slice):\n",
    "        idx = slice(idx.start, idx.stop, int(ndelta))\n",
    "    else:\n",
    "        idx = slice(idx[0], idx[-1], int(ndelta))\n",
    "\n",
    "    new_coords.append(c)\n",
    "    new_coords_idx.append(idx)"
   ]
  },
  {
   "cell_type": "code",
   "execution_count": null,
   "metadata": {},
   "outputs": [],
   "source": [
    "isinstance(source_coordinates['lat_lon'], StackedCoordinates)"
   ]
  },
  {
   "cell_type": "code",
   "execution_count": null,
   "metadata": {},
   "outputs": [],
   "source": [
    "[c.intersect(requested_coordinates, outer=True, return_indices=True)[1] for c in stacked._coords]"
   ]
  },
  {
   "cell_type": "code",
   "execution_count": null,
   "metadata": {},
   "outputs": [],
   "source": [
    "interp = Interpolation({('lat',): 'nearest', 'lon': 'bilinear'}, COORDINATES)"
   ]
  },
  {
   "cell_type": "code",
   "execution_count": null,
   "metadata": {},
   "outputs": [],
   "source": [
    "# create a few dummy interpolators that handle certain dimensions\n",
    "# (can_select is defined by default to look at dims_supported)\n",
    "class TimeLat(Interpolator):\n",
    "    dims_supported=['time', 'lat']\n",
    "\n",
    "class LatLon(Interpolator):\n",
    "    dims_supported=['lat', 'lon']\n",
    "    \n",
    "class Lon(Interpolator):\n",
    "    dims_supported=['lon']\n",
    "\n",
    "\n",
    "# set up a strange interpolation definition\n",
    "# we want to interpolate (lat, lon) first, then after (time, alt)\n",
    "interp = Interpolation({\n",
    "    ('lat', 'lon'): {\n",
    "        'method': 'myinterp',\n",
    "        'interpolators': [LatLon, TimeLat]\n",
    "    },\n",
    "    ('time', 'alt'): {\n",
    "        'method': 'myinterp',\n",
    "        'interpolators': [TimeLat, Lon]\n",
    "    }\n",
    "})\n",
    "\n",
    "reqcoords = Coordinates([[0, 1, 2], [0, 1, 2], [0, 1, 2], [0, 1, 2]], dims=['lat', 'lon', 'time', 'alt'])\n",
    "srccoords = Coordinates([[0, 1, 2], [0, 1, 2], [0, 1, 2], [0, 1, 2]], dims=['lat', 'lon', 'time', 'alt'])\n",
    "interpolator_queue = interp._select_interpolator_queue(reqcoords, srccoords, 'can_select', strict=True)"
   ]
  },
  {
   "cell_type": "code",
   "execution_count": 3,
   "metadata": {},
   "outputs": [],
   "source": [
    "source = np.random.rand(5,6)\n",
    "coords_src = Coordinates([np.linspace(0, 10, 5), clinspace('2018-01-01', '2018-01-09', 6)], dims=['lat', 'time'])\n",
    "node = MockArrayDataSource(source=source, native_coordinates=coords_src, interpolation={\n",
    "    'method': 'nearest',\n",
    "    'params': {\n",
    "        'space_tolerance': 1.1,\n",
    "        'time_tolerance': np.timedelta64(1, 'D')\n",
    "    }\n",
    "})\n",
    "\n",
    "coords_dst = Coordinates([[1, 1.2, 1.5, 5, 9], clinspace('2018-01-01', '2018-01-09', 3)], dims=['lat', 'time'])\n",
    "# output = node.eval(coords_dst)"
   ]
  },
  {
   "cell_type": "code",
   "execution_count": 3,
   "metadata": {},
   "outputs": [],
   "source": [
    "interpolator = Interpolator()\n",
    "\n",
    "coords = Coordinates([clinspace(0, 10, 5), clinspace(0, 10, 5)], dims=['lat', 'lon'])\n",
    "coords_two = Coordinates([clinspace(0, 10, 5)], dims=['lat'])"
   ]
  },
  {
   "cell_type": "code",
   "execution_count": 6,
   "metadata": {},
   "outputs": [
    {
     "data": {
      "text/plain": [
       "(1, 2, 3)"
      ]
     },
     "execution_count": 6,
     "metadata": {},
     "output_type": "execute_result"
    }
   ],
   "source": [
    "a = [1,2,3]\n",
    "tuple(a)"
   ]
  },
  {
   "cell_type": "code",
   "execution_count": 5,
   "metadata": {},
   "outputs": [
    {
     "data": {
      "text/plain": [
       "Coordinates\n",
       "\tlat: ArrayCoordinates1d(lat): Bounds[0.0, 10.0], N[5], ctype['midpoint']\n",
       "\ttime: UniformCoordinates1d(time): Bounds[2018-01-01, 2018-01-09], N[9], ctype['midpoint']"
      ]
     },
     "execution_count": 5,
     "metadata": {},
     "output_type": "execute_result"
    }
   ],
   "source": [
    "node.native_coordinates"
   ]
  },
  {
   "cell_type": "code",
   "execution_count": 15,
   "metadata": {},
   "outputs": [
    {
     "data": {
      "text/plain": [
       "UniformCoordinates1d(?): Bounds[2018-01-01, 2018-01-09], N[5], ctype['midpoint']"
      ]
     },
     "execution_count": 15,
     "metadata": {},
     "output_type": "execute_result"
    }
   ],
   "source": [
    "clinspace('2018-01-01', '2018-01-09', 4)"
   ]
  },
  {
   "cell_type": "code",
   "execution_count": null,
   "metadata": {},
   "outputs": [],
   "source": []
  }
 ],
 "metadata": {
  "kernelspec": {
   "display_name": "Python 3",
   "language": "python",
   "name": "python3"
  },
  "language_info": {
   "codemirror_mode": {
    "name": "ipython",
    "version": 3
   },
   "file_extension": ".py",
   "mimetype": "text/x-python",
   "name": "python",
   "nbconvert_exporter": "python",
   "pygments_lexer": "ipython3",
   "version": "3.6.5"
  }
 },
 "nbformat": 4,
 "nbformat_minor": 2
}
