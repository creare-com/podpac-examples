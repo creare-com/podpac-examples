{
 "cells": [
  {
   "cell_type": "markdown",
   "metadata": {},
   "source": [
    "# Intake Catalogs\n",
    "\n",
    "> You must be using **Python 3.6** or newer for this feature\n",
    "\n",
    "Intake is a lightweight package for finding, investigating, loading and disseminating data. It will appeal to different groups for some of the reasons below, but is useful for all and acts as a common platform that everyone can use to smooth the progression of data from developers and providers to users.\n",
    "\n",
    "- Source: https://github.com/intake/intake\n",
    "- Docs: https://intake.readthedocs.io/en/latest/catalog.html"
   ]
  },
  {
   "cell_type": "code",
   "execution_count": null,
   "metadata": {},
   "outputs": [],
   "source": [
    "from podpac.datalib import IntakeCatalog"
   ]
  },
  {
   "cell_type": "markdown",
   "metadata": {},
   "source": [
    "## Precip Example"
   ]
  },
  {
   "cell_type": "code",
   "execution_count": null,
   "metadata": {},
   "outputs": [],
   "source": [
    "node = IntakeCatalog(uri='../../data/intake/precip/catalog.yml',   # path to catalog\n",
    "                     source='southern_rockies',  # name of the source within catalog\n",
    "                     field='precip',         # this can be defined in catalog source metadata\n",
    "                     dims={'time': 'time'}   # this can be defined in catalog source metadata\n",
    "                    )"
   ]
  },
  {
   "cell_type": "code",
   "execution_count": null,
   "metadata": {},
   "outputs": [],
   "source": [
    "# the node.catalog attribute contains the loaded intake catalog\n",
    "node.catalog"
   ]
  },
  {
   "cell_type": "code",
   "execution_count": null,
   "metadata": {},
   "outputs": [],
   "source": [
    "# the node.datasource attribute contains the loaded intake catalog source\n",
    "node.datasource"
   ]
  },
  {
   "cell_type": "code",
   "execution_count": null,
   "metadata": {},
   "outputs": [],
   "source": [
    "# the `dims` input defines where to find the data and dimension labels for native coordinates\n",
    "node.native_coordinates"
   ]
  },
  {
   "cell_type": "code",
   "execution_count": null,
   "metadata": {},
   "outputs": [],
   "source": [
    "# one the node is defined, it works like any other podpac node\n",
    "# podpac uses intake to read the data internally\n",
    "output = node.eval(node.native_coordinates)\n",
    "output"
   ]
  }
 ],
 "metadata": {
  "kernelspec": {
   "display_name": "Python 3",
   "language": "python",
   "name": "python3"
  },
  "language_info": {
   "codemirror_mode": {
    "name": "ipython",
    "version": 3
   },
   "file_extension": ".py",
   "mimetype": "text/x-python",
   "name": "python",
   "nbconvert_exporter": "python",
   "pygments_lexer": "ipython3",
   "version": "3.7.0"
  }
 },
 "nbformat": 4,
 "nbformat_minor": 4
}
