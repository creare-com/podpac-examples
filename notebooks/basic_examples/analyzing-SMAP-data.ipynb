{
 "cells": [
  {
   "cell_type": "code",
   "execution_count": 1,
   "metadata": {
    "slideshow": {
     "slide_type": "skip"
    }
   },
   "outputs": [
    {
     "name": "stdout",
     "output_type": "stream",
     "text": [
      "Populating the interactive namespace from numpy and matplotlib\n"
     ]
    }
   ],
   "source": [
    "# For interactive plots, comment the next line\n",
    "%pylab inline\n",
    "# For interactive plots, uncomment the next line\n",
    "# %pylab ipympl\n",
    "import warnings\n",
    "warnings.filterwarnings('ignore')"
   ]
  },
  {
   "cell_type": "markdown",
   "metadata": {
    "slideshow": {
     "slide_type": "slide"
    }
   },
   "source": [
    "# Introduction\n",
    "For instructions on using Jupyter notebooks, see the [README.md](../../README.md) file. "
   ]
  },
  {
   "cell_type": "markdown",
   "metadata": {
    "slideshow": {
     "slide_type": "-"
    }
   },
   "source": [
    "This notebook demonstrates how to do a basic analysis using SMAP data. Specifically, we will:\n",
    "* Compare the previous year's soil moisture for a region of interest\n",
    "\n",
    "# How to analyze SMAP data using PODPAC\n",
    "* Make sure you have PODPAC properly installed WITH the **datatype** optional dependencies: `pip install podpac[datatype]`"
   ]
  },
  {
   "cell_type": "code",
   "execution_count": 2,
   "metadata": {
    "slideshow": {
     "slide_type": "skip"
    }
   },
   "outputs": [],
   "source": [
    "import podpac  # This line imports the podpac library into Python"
   ]
  },
  {
   "cell_type": "markdown",
   "metadata": {
    "slideshow": {
     "slide_type": "slide"
    }
   },
   "source": [
    "## Provide Earth Data Login Credentials\n",
    "If you do not have an earth data login, or have not activated OpenDAP access, follow the [instructions here](https://creare-com.github.io/podpac-docs/user/earthdata.html)."
   ]
  },
  {
   "cell_type": "code",
   "execution_count": 3,
   "metadata": {
    "slideshow": {
     "slide_type": "-"
    }
   },
   "outputs": [
    {
     "name": "stdin",
     "output_type": "stream",
     "text": [
      "Username: mpuecker\n",
      "Password: ··················\n"
     ]
    }
   ],
   "source": [
    "import getpass\n",
    "username = password = None\n",
    "username = input(\"Username:\");   password = getpass.getpass('Password:')"
   ]
  },
  {
   "cell_type": "markdown",
   "metadata": {
    "slideshow": {
     "slide_type": "slide"
    }
   },
   "source": [
    "## Create the PODPAC Processing Pipeline\n",
    "* Look at the difference in soil moisture for the same date compared to the previous year:\n",
    "\n",
    "\n",
    "1. Need to create the SMAP node to access SMAP data from NSIDC\n",
    "2. Need to offset the user's requested coordinates\n",
    "3. Need to specify an algorithm"
   ]
  },
  {
   "cell_type": "code",
   "execution_count": 4,
   "metadata": {
    "slideshow": {
     "slide_type": "fragment"
    }
   },
   "outputs": [],
   "source": [
    "# Create the SMAP node\n",
    "product = 'SPL4SMAU'   # Level 4 soil moisture analysis update\n",
    "sm = podpac.datalib.SMAP(product=product, username=username, password=password, cache_type='disk')"
   ]
  },
  {
   "cell_type": "code",
   "execution_count": 5,
   "metadata": {
    "slideshow": {
     "slide_type": "subslide"
    }
   },
   "outputs": [],
   "source": [
    "# Offset the time from the requested time for the second node\n",
    "# Note, ExpandCoordinates can be used to specify a range, we're using it to offset the time\n",
    "sm_time1_offset = podpac.algorithm.ExpandCoordinates(source=sm,\n",
    "                                                     time=['-1,Y', '-1,Y']  # [start_offset, end_offset]\n",
    "                                                    )\n",
    "\n",
    "# ExpandCoordinates is designed to work with a Reduction Node to work properly in a pipeline. \n",
    "# Use the \"Mean\" node to remove time from this Node so that xarray won't try to align the time dimensions\n",
    "sm_offset = podpac.algorithm.Mean(source=sm_time1_offset, dims=['time'])\n",
    "\n",
    "# Create the difference algorithm using an existing PODPAC Node\n",
    "diff = podpac.algorithm.Arithmetic(\n",
    "          eqn='B-A',   # Specify point-wise operation between datasets (+, -, *, /, sin, cos, exp, ...) \n",
    "          A=sm,        # Specify the input for the \"A\" variable\n",
    "          B=sm_offset, # Specify the input for the \"B\" variable\n",
    "          cache_type='disk'\n",
    ")"
   ]
  },
  {
   "cell_type": "markdown",
   "metadata": {
    "slideshow": {
     "slide_type": "slide"
    }
   },
   "source": [
    "# Create PODPAC Coordinates\n",
    "* This specifies the region and date where the pipeline will be evaluated"
   ]
  },
  {
   "cell_type": "code",
   "execution_count": 6,
   "metadata": {},
   "outputs": [],
   "source": [
    "# Specify region of interest on a uniform grid\n",
    "lat = podpac.crange(  60,  10, -2.0)  # (start, stop, step)\n",
    "lon = podpac.crange(-130, -60,  2.0)  # (start, stop, step)\n",
    "\n",
    "# Specify date and time\n",
    "time = '2018-05-19T12:00:00'\n",
    "\n",
    "# Create the PODPAC Coordinates\n",
    "coords = podpac.Coordinates([lat, lon, time], dims=['lat', 'lon', 'time'])"
   ]
  },
  {
   "cell_type": "markdown",
   "metadata": {
    "slideshow": {
     "slide_type": "slide"
    }
   },
   "source": [
    "# Evaluate the PODPAC Pipeline and plot \n",
    "* Retrieve subset of data needed from NSIDC\n",
    "* Interpolate the data onto the requested grid\n",
    "* Perform the user-requested operation (B-A)"
   ]
  },
  {
   "cell_type": "code",
   "execution_count": 7,
   "metadata": {
    "slideshow": {
     "slide_type": "fragment"
    }
   },
   "outputs": [
    {
     "data": {
      "text/plain": [
       "<matplotlib.collections.QuadMesh at 0xf4149b0>"
      ]
     },
     "execution_count": 7,
     "metadata": {},
     "output_type": "execute_result"
    },
    {
     "data": {
      "image/png": "[encoded data removed]",
      "text/plain": [
       "<Figure size 432x288 with 2 Axes>"
      ]
     },
     "metadata": {
      "needs_background": "light"
     },
     "output_type": "display_data"
    }
   ],
   "source": [
    "# Evaluate nodes\n",
    "diff_output = diff.eval(coords)\n",
    "# Plot the resulting differences\n",
    "diff_output.plot(cmap='RdBu')"
   ]
  },
  {
   "cell_type": "markdown",
   "metadata": {
    "slideshow": {
     "slide_type": "slide"
    }
   },
   "source": [
    "# Examine the PODPAC Pipeline\n",
    "* This text-based definition is automatically created\n",
    "* It can be used to share or recreate the pipeline"
   ]
  },
  {
   "cell_type": "code",
   "execution_count": 8,
   "metadata": {
    "scrolled": true
   },
   "outputs": [
    {
     "name": "stdout",
     "output_type": "stream",
     "text": [
      "{\n",
      "    \"nodes\": {\n",
      "        \"SMAP_SPL4SMAU\": {\n",
      "            \"node\": \"datalib.smap.SMAP\",\n",
      "            \"attrs\": {\n",
      "                \"base_url\": \"https://n5eil02u.ecs.nsidc.org/opendap/SMAP\",\n",
      "                \"product\": \"SPL4SMAU\",\n",
      "                \"version\": 4\n",
      "            },\n",
      "            \"interpolation\": \"nearest\"\n",
      "        },\n",
      "        \"ExpandCoordinates\": {\n",
      "            \"node\": \"core.algorithm.coord_select.ExpandCoordinates\",\n",
      "            \"attrs\": {\n",
      "                \"alt\": [],\n",
      "                \"lat\": [],\n",
      "                \"lon\": [],\n",
      "                \"time\": [\n",
      "                    \"-1,Y\",\n",
      "                    \"-1,Y\"\n",
      "                ]\n",
      "            },\n",
      "            \"inputs\": {\n",
      "                \"coordinates_source\": \"SMAP_SPL4SMAU\",\n",
      "                \"source\": \"SMAP_SPL4SMAU\"\n",
      "            }\n",
      "        },\n",
      "        \"Mean\": {\n",
      "            \"node\": \"core.algorithm.stats.Mean\",\n",
      "            \"attrs\": {\n",
      "                \"dims\": [\n",
      "                    \"time\"\n",
      "                ]\n",
      "            },\n",
      "            \"inputs\": {\n",
      "                \"source\": \"ExpandCoordinates\"\n",
      "            }\n",
      "        },\n",
      "        \"Arithmetic\": {\n",
      "            \"node\": \"core.algorithm.algorithm.Arithmetic\",\n",
      "            \"attrs\": {\n",
      "                \"eqn\": \"B-A\",\n",
      "                \"params\": {}\n",
      "            },\n",
      "            \"inputs\": {\n",
      "                \"A\": \"SMAP_SPL4SMAU\",\n",
      "                \"B\": \"Mean\"\n",
      "            }\n",
      "        }\n",
      "    }\n",
      "}\n"
     ]
    }
   ],
   "source": [
    "print(diff.json_pretty)"
   ]
  }
 ],
 "metadata": {
  "celltoolbar": "Slideshow",
  "kernelspec": {
   "display_name": "Python 3",
   "language": "python",
   "name": "python3"
  },
  "language_info": {
   "codemirror_mode": {
    "name": "ipython",
    "version": 3
   },
   "file_extension": ".py",
   "mimetype": "text/x-python",
   "name": "python",
   "nbconvert_exporter": "python",
   "pygments_lexer": "ipython3",
   "version": "3.6.6"
  }
 },
 "nbformat": 4,
 "nbformat_minor": 2
}
