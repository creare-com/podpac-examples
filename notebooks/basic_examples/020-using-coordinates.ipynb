{
 "cells": [
  {
   "cell_type": "code",
   "execution_count": 1,
   "metadata": {
    "slideshow": {
     "slide_type": "skip"
    }
   },
   "outputs": [
    {
     "name": "stdout",
     "output_type": "stream",
     "text": [
      "Populating the interactive namespace from numpy and matplotlib\n"
     ]
    }
   ],
   "source": [
    "# For interactive plots, comment the next line\n",
    "%pylab inline\n",
    "# For interactive plots, uncomment the next line\n",
    "# %pylab ipympl\n",
    "import warnings\n",
    "warnings.filterwarnings('ignore')"
   ]
  },
  {
   "cell_type": "markdown",
   "metadata": {
    "slideshow": {
     "slide_type": "slide"
    }
   },
   "source": [
    "# Introduction\n",
    "For instructions on using Jupyter notebooks, see the [README.md](../../README.md) file. "
   ]
  },
  {
   "cell_type": "markdown",
   "metadata": {
    "slideshow": {
     "slide_type": "slide"
    }
   },
   "source": [
    "This notebook demonstrates how to create and use PODPAC `Coordinates`. More details can be found in the [documentation](https://creare-com.github.io/podpac-docs/user/coordinates.html). This notebook covers common use-cases. More detailed examples can be found in the [developer coordinates notebook](../developer/Coordinates.ipynb)"
   ]
  },
  {
   "cell_type": "markdown",
   "metadata": {
    "slideshow": {
     "slide_type": "slide"
    }
   },
   "source": [
    "# PODPAC Coordinates\n",
    "Coordinates are used to:\n",
    "\n",
    "1. Evaluate nodes which retrieve and process data\n",
    "2. Define the coordinates of data sources\n",
    "\n",
    "PODPAC `Coordinates` are modeled after the `coords` in [xarray](http://xarray.pydata.org/en/stable/data-structures.html),\n",
    "with some additional restrictions and enhancements. `Coordinates` are created from a list of coordinate `values` and a corresponding list of `dims`:\n",
    "\n",
    "```\n",
    "podpac.Coordinates(values, dims=dims, ...)\n",
    "```\n",
    "\n",
    "Unlike xarray, PODPAC coordinate values are always either `float` or `np.datetime64`. For convenience, PODPAC automatically converts datetime strings such as `'2018-01-01'` to `np.datetime64`. "
   ]
  },
  {
   "cell_type": "markdown",
   "metadata": {
    "slideshow": {
     "slide_type": "subslide"
    }
   },
   "source": [
    "In PODPAC, **coordinates** refer to actual location along an axis for a given **dimension**. **Dimension** refers to the name of the axis. In PODPAC, the allowed **dimensions** are:\n",
    "* `'alt'`\n",
    "* `'lat'`\n",
    "* `'lon'`\n",
    "* `'time'`"
   ]
  },
  {
   "cell_type": "markdown",
   "metadata": {
    "slideshow": {
     "slide_type": "subslide"
    }
   },
   "source": [
    "PODPAC uses the terminology of `stacked` versus `unstacked` coordinates. \n",
    "* When coordinates are unstacked, each dimension has its own axis\n",
    "* When coordinates are stacked, every stacked dimension share an axis\n",
    "    * This means the number of coordinates for each dimension has to be the same\n",
    "<img src=\"../Images/unstack-stack.png\" style='width:80%;margin-left:auto;margin-right:auto;' />"
   ]
  },
  {
   "cell_type": "code",
   "execution_count": 2,
   "metadata": {
    "slideshow": {
     "slide_type": "skip"
    }
   },
   "outputs": [],
   "source": [
    "import podpac"
   ]
  },
  {
   "cell_type": "markdown",
   "metadata": {
    "slideshow": {
     "slide_type": "slide"
    }
   },
   "source": [
    "# Coordinate creation\n",
    "## Unstacked `Coordinates` forming a grid"
   ]
  },
  {
   "cell_type": "markdown",
   "metadata": {
    "slideshow": {
     "slide_type": "subslide"
    }
   },
   "source": [
    "### Create 2D lat, lon grid from a list of coordinates"
   ]
  },
  {
   "cell_type": "code",
   "execution_count": 3,
   "metadata": {
    "slideshow": {
     "slide_type": "-"
    }
   },
   "outputs": [
    {
     "name": "stdout",
     "output_type": "stream",
     "text": [
      "Grid Shape: (3, 4)\n",
      "Grid Size: 12\n",
      "Grid: Coordinates\n",
      "\tlat: ArrayCoordinates1d(lat): Bounds[0.0, 2.0], N[3], ctype['midpoint']\n",
      "\tlon: ArrayCoordinates1d(lon): Bounds[10.0, 40.0], N[4], ctype['midpoint']\n"
     ]
    }
   ],
   "source": [
    "# Create coordinates for dimensions\n",
    "lat = [0, 1, 2]         # lat dimension\n",
    "lon = [10, 20, 30, 40]  # lon dimension\n",
    "\n",
    "# Create PODPAC coordinates\n",
    "c = podpac.Coordinates([lat, lon], dims=['lat', 'lon'])\n",
    "\n",
    "# c is a 3x4 grid of points\n",
    "print (\"Grid Shape:\", c.shape)\n",
    "print (\"Grid Size:\", c.size)\n",
    "print ('Grid:', c)"
   ]
  },
  {
   "cell_type": "markdown",
   "metadata": {
    "slideshow": {
     "slide_type": "subslide"
    }
   },
   "source": [
    "### Create 3D lat, lon, time grid from a list of coordinates"
   ]
  },
  {
   "cell_type": "code",
   "execution_count": 4,
   "metadata": {},
   "outputs": [
    {
     "name": "stdout",
     "output_type": "stream",
     "text": [
      "Grid Shape: (3, 4, 2)\n",
      "Grid Size: 24\n",
      "Grid: Coordinates\n",
      "\tlat: ArrayCoordinates1d(lat): Bounds[0.0, 2.0], N[3], ctype['midpoint']\n",
      "\tlon: ArrayCoordinates1d(lon): Bounds[10.0, 40.0], N[4], ctype['midpoint']\n",
      "\ttime: ArrayCoordinates1d(time): Bounds[2018-01-01, 2018-01-02], N[2], ctype['point']\n"
     ]
    }
   ],
   "source": [
    "# Create coordinates for dimensions\n",
    "lat = [0, 1, 2]                      # lat dimension\n",
    "lon = [10, 20, 30, 40]               # lon dimension\n",
    "time = ['2018-01-01', '2018-01-02']  # time dimension\n",
    "\n",
    "# Create PODPAC coordinates\n",
    "c = podpac.Coordinates([lat, lon, time], dims=['lat', 'lon', 'time'])\n",
    "\n",
    "# c is a 3x4x2 grid of points\n",
    "print (\"Grid Shape:\", c.shape)\n",
    "print (\"Grid Size:\", c.size)\n",
    "print ('Grid:', c)"
   ]
  },
  {
   "cell_type": "markdown",
   "metadata": {
    "slideshow": {
     "slide_type": "subslide"
    }
   },
   "source": [
    "## Stacked `Coordinates` forming an axis"
   ]
  },
  {
   "cell_type": "markdown",
   "metadata": {
    "slideshow": {
     "slide_type": "subslide"
    }
   },
   "source": [
    "### Create 1D lat_lon axis from a list of coordinates\n",
    "`Coordinates` from multiple dimensions can be stacked together in a list (rather than representing a grid).\n",
    "\n",
    "For example, `Coordinates` with stacked latitude and longitude contain one point for each (lat, lon) pair. Note\n",
    "that the name for this stacked dimension is `'lat_lon'`, using an underscore to combine the underlying dimensions."
   ]
  },
  {
   "cell_type": "code",
   "execution_count": 5,
   "metadata": {},
   "outputs": [
    {
     "name": "stdout",
     "output_type": "stream",
     "text": [
      "Grid Shape: (3,)\n",
      "Grid Size: 3\n",
      "Grid: Coordinates\n",
      "\tlat_lon[lat]: ArrayCoordinates1d(lat): Bounds[0.0, 2.0], N[3], ctype['midpoint']\n",
      "\tlat_lon[lon]: ArrayCoordinates1d(lon): Bounds[10.0, 30.0], N[3], ctype['midpoint']\n"
     ]
    }
   ],
   "source": [
    "# Create coordinates for dimensions\n",
    "lat = [0, 1, 2]     # lat dimension\n",
    "lon = [10, 20, 30]  # lon dimension\n",
    "\n",
    "# Create the coordinates, note the nested list\n",
    "c = podpac.Coordinates([[lat, lon]], dims=['lat_lon'])\n",
    "\n",
    "# c is a length 3 axis of points\n",
    "print (\"Grid Shape:\", c.shape)\n",
    "print (\"Grid Size:\", c.size)\n",
    "print ('Grid:', c)"
   ]
  },
  {
   "cell_type": "markdown",
   "metadata": {
    "slideshow": {
     "slide_type": "subslide"
    }
   },
   "source": [
    "## Hybrid unstacked / stacked coordinates forming a 2D grid\n",
    "Stacked and unstacked coordinates can be combined in a `Coordinates` object."
   ]
  },
  {
   "cell_type": "code",
   "execution_count": 6,
   "metadata": {},
   "outputs": [
    {
     "data": {
      "text/plain": [
       "Coordinates\n",
       "\tlon_lat[lon]: ArrayCoordinates1d(lon): Bounds[10.0, 30.0], N[3], ctype['midpoint']\n",
       "\tlon_lat[lat]: ArrayCoordinates1d(lat): Bounds[0.0, 2.0], N[3], ctype['midpoint']\n",
       "\ttime: ArrayCoordinates1d(time): Bounds[2018-01-01, 2018-01-02], N[2], ctype['point']"
      ]
     },
     "execution_count": 6,
     "metadata": {},
     "output_type": "execute_result"
    }
   ],
   "source": [
    "# Create coordinates for dimensions\n",
    "lat = [0, 1, 2]\n",
    "lon = [10, 20, 30]\n",
    "time = ['2018-01-01', '2018-01-02']\n",
    "\n",
    "# Create the coordinates, note the nested list for lon_lat\n",
    "podpac.Coordinates([[lon, lat], time], dims=['lon_lat', 'time'])"
   ]
  },
  {
   "cell_type": "markdown",
   "metadata": {
    "slideshow": {
     "slide_type": "slide"
    }
   },
   "source": [
    "## Uniformly spaced coordinates\n",
    "Specifying a uniformly-spaced grid allows some optimization in PODPAC, and have a lower memory footprint for part of the calculation. \n",
    "\n",
    "PODPAC provides two convenience functions `crange` and `clinspace` for creating uniformly-spaced coordinates, similar to the `arange` and `linspace` functions provided by Numpy.\n",
    "\n",
    "These functions wrap `UniformCoordinates1d` (see Advanced Usage in the [developer coordinates notebook](../developer/Coordinates.ipynb)), which is particularly useful for coordinates with an\n",
    "extremely large number of points.\n"
   ]
  },
  {
   "cell_type": "markdown",
   "metadata": {
    "slideshow": {
     "slide_type": "subslide"
    }
   },
   "source": [
    "## PODPAC crange\n",
    "`podpac.crange` creates uniformly-spaced coordinates from a start, stop, and step.\n",
    "\n",
    "Unlike `np.arange`:\n",
    " * string inputs are supported for datetimes and timedeltas\n",
    " * the stop value will be included in the coordinates if it falls an exact number of steps from the start"
   ]
  },
  {
   "cell_type": "code",
   "execution_count": 7,
   "metadata": {
    "slideshow": {
     "slide_type": "fragment"
    }
   },
   "outputs": [
    {
     "data": {
      "text/plain": [
       "UniformCoordinates1d(?): Bounds[2018-01-01, 2018-03-01], N[3], ctype['midpoint']"
      ]
     },
     "execution_count": 7,
     "metadata": {},
     "output_type": "execute_result"
    }
   ],
   "source": [
    "# Time coordinates can also be created from strings\n",
    "podpac.crange('2018-01-01', '2018-03-01', '1,M')  "
   ]
  },
  {
   "cell_type": "code",
   "execution_count": 8,
   "metadata": {
    "slideshow": {
     "slide_type": "fragment"
    }
   },
   "outputs": [
    {
     "data": {
      "text/plain": [
       "UniformCoordinates1d(time): Bounds[2018-01-01, 2018-03-01], N[3], ctype['midpoint']"
      ]
     },
     "execution_count": 8,
     "metadata": {},
     "output_type": "execute_result"
    }
   ],
   "source": [
    "# Note, the (?) above means we didn't give this coordinate a dimension name\n",
    "c = podpac.crange('2018-01-01', '2018-03-01', '1,M', name='time')\n",
    "c"
   ]
  },
  {
   "cell_type": "markdown",
   "metadata": {
    "slideshow": {
     "slide_type": "subslide"
    }
   },
   "source": [
    "## Inclusion of the 'stop' value"
   ]
  },
  {
   "cell_type": "code",
   "execution_count": 9,
   "metadata": {
    "slideshow": {
     "slide_type": "-"
    }
   },
   "outputs": [
    {
     "data": {
      "text/plain": [
       "UniformCoordinates1d(?): Bounds[0.0, 6.0], N[4], ctype['midpoint']"
      ]
     },
     "execution_count": 9,
     "metadata": {},
     "output_type": "execute_result"
    }
   ],
   "source": [
    "# Notice 'stop' value IS NOT included!\n",
    "podpac.crange(0, 7, 2)  "
   ]
  },
  {
   "cell_type": "code",
   "execution_count": 10,
   "metadata": {
    "slideshow": {
     "slide_type": "fragment"
    }
   },
   "outputs": [
    {
     "data": {
      "text/plain": [
       "UniformCoordinates1d(?): Bounds[0.0, 8.0], N[5], ctype['midpoint']"
      ]
     },
     "execution_count": 10,
     "metadata": {},
     "output_type": "execute_result"
    }
   ],
   "source": [
    "# Notice 'stop' value IS included!\n",
    "podpac.crange(0, 8, 2)  "
   ]
  },
  {
   "cell_type": "markdown",
   "metadata": {
    "slideshow": {
     "slide_type": "subslide"
    }
   },
   "source": [
    "Regular PODPAC `Coordinates` can be created using `crange`"
   ]
  },
  {
   "cell_type": "code",
   "execution_count": 11,
   "metadata": {},
   "outputs": [
    {
     "data": {
      "text/plain": [
       "Coordinates\n",
       "\tlat: UniformCoordinates1d(lat): Bounds[-90.0, 90.0], N[181], ctype['midpoint']\n",
       "\tlon: UniformCoordinates1d(lon): Bounds[-180.0, 180.0], N[181], ctype['midpoint']"
      ]
     },
     "execution_count": 11,
     "metadata": {},
     "output_type": "execute_result"
    }
   ],
   "source": [
    "c = podpac.Coordinates([podpac.crange(90, -90, -1), podpac.crange(-180, 180, 2)], \n",
    "                       ['lat', 'lon'])\n",
    "c"
   ]
  },
  {
   "cell_type": "markdown",
   "metadata": {
    "slideshow": {
     "slide_type": "slide"
    }
   },
   "source": [
    "## PODPAC clinspace\n",
    "\n",
    "`podpac.clinspace` creates uniformly-spaced coordinates from a start, stop, and size.\n",
    "\n",
    "Unlike `np.linspace`:\n",
    " * string inputs are supported for datetimes\n",
    " * tuple inputs are supported for stacked coordinates"
   ]
  },
  {
   "cell_type": "code",
   "execution_count": 12,
   "metadata": {
    "slideshow": {
     "slide_type": "fragment"
    }
   },
   "outputs": [
    {
     "data": {
      "text/plain": [
       "UniformCoordinates1d(?): Bounds[2018-01-01T00, 2018-03-01T00], N[3], ctype['midpoint']"
      ]
     },
     "execution_count": 12,
     "metadata": {},
     "output_type": "execute_result"
    }
   ],
   "source": [
    "# Time coordinates can be created from strings\n",
    "podpac.clinspace('2018-01-01', '2018-03-01', 3)"
   ]
  },
  {
   "cell_type": "code",
   "execution_count": 13,
   "metadata": {
    "slideshow": {
     "slide_type": "fragment"
    }
   },
   "outputs": [
    {
     "data": {
      "text/plain": [
       "StackedCoordinates\n",
       "\t?_?[?]: UniformCoordinates1d(?): Bounds[0.0, 1.0], N[3], ctype['midpoint']\n",
       "\t?_?[?]: UniformCoordinates1d(?): Bounds[10.0, 20.0], N[3], ctype['midpoint']"
      ]
     },
     "execution_count": 13,
     "metadata": {},
     "output_type": "execute_result"
    }
   ],
   "source": [
    "# Tuple inputs for stacked coordinates: Creates a line between the specified points\n",
    "podpac.clinspace((0, 10), (1, 20), 3)"
   ]
  },
  {
   "cell_type": "markdown",
   "metadata": {
    "slideshow": {
     "slide_type": "subslide"
    }
   },
   "source": [
    "Regular PODPAC `Coordinates` can be created using `clinspace`"
   ]
  },
  {
   "cell_type": "code",
   "execution_count": 14,
   "metadata": {},
   "outputs": [
    {
     "data": {
      "text/plain": [
       "Coordinates\n",
       "\tlat_lon[lat]: UniformCoordinates1d(lat): Bounds[0.0, 1.0], N[3], ctype['midpoint']\n",
       "\tlat_lon[lon]: UniformCoordinates1d(lon): Bounds[10.0, 20.0], N[3], ctype['midpoint']\n",
       "\ttime: UniformCoordinates1d(time): Bounds[2018-01-01T00, 2018-03-01T00], N[3], ctype['midpoint']"
      ]
     },
     "execution_count": 14,
     "metadata": {},
     "output_type": "execute_result"
    }
   ],
   "source": [
    "c = podpac.Coordinates([podpac.clinspace((0, 10), (1, 20), 3), podpac.clinspace('2018-01-01', '2018-03-01', 3)], \n",
    "                       ['lat_lon', 'time'])\n",
    "c"
   ]
  },
  {
   "cell_type": "markdown",
   "metadata": {
    "slideshow": {
     "slide_type": "slide"
    }
   },
   "source": [
    "# Coordinate usage\n",
    "In the course of creating coordinates, its sometimes useful to combine or modify coordinates in a few ways. This section describes how to:\n",
    "* Drop dimensions from a `Coordinates` instance\n",
    "* Create new coordinates by merging dimensions from multiple `Coordinates`\n",
    "* Create new coordinates by concatenating or taking the union of multiple `Coordinates`"
   ]
  },
  {
   "cell_type": "markdown",
   "metadata": {
    "slideshow": {
     "slide_type": "subslide"
    }
   },
   "source": [
    "## Dropping dimensions\n",
    "Sometimes it's useful to drop a dimension from a `Coordinates` instance. For example, when trying to create coordinates from the `native_coordinates` of a datasource."
   ]
  },
  {
   "cell_type": "code",
   "execution_count": 15,
   "metadata": {
    "slideshow": {
     "slide_type": "fragment"
    }
   },
   "outputs": [
    {
     "data": {
      "text/plain": [
       "Coordinates\n",
       "\tlat: ArrayCoordinates1d(lat): Bounds[1.0, 3.0], N[3], ctype['midpoint']\n",
       "\tlon: ArrayCoordinates1d(lon): Bounds[4.0, 6.0], N[3], ctype['midpoint']"
      ]
     },
     "execution_count": 15,
     "metadata": {},
     "output_type": "execute_result"
    }
   ],
   "source": [
    "# Create coordinates for the example\n",
    "c = podpac.Coordinates([[1, 2, 3], [4, 5, 6]], ['lat', 'lon'])\n",
    "c"
   ]
  },
  {
   "cell_type": "code",
   "execution_count": 16,
   "metadata": {
    "slideshow": {
     "slide_type": "fragment"
    }
   },
   "outputs": [
    {
     "data": {
      "text/plain": [
       "Coordinates\n",
       "\tlon: ArrayCoordinates1d(lon): Bounds[4.0, 6.0], N[3], ctype['midpoint']"
      ]
     },
     "execution_count": 16,
     "metadata": {},
     "output_type": "execute_result"
    }
   ],
   "source": [
    "# Drop the latitude dimension\n",
    "c.drop(['lat'])"
   ]
  },
  {
   "cell_type": "markdown",
   "metadata": {
    "slideshow": {
     "slide_type": "slide"
    }
   },
   "source": [
    "## Merging dimensions\n",
    "Coordinates can be created by merging dimension for multiple coordinates."
   ]
  },
  {
   "cell_type": "code",
   "execution_count": 17,
   "metadata": {
    "slideshow": {
     "slide_type": "-"
    }
   },
   "outputs": [
    {
     "name": "stdout",
     "output_type": "stream",
     "text": [
      "Coordinates\n",
      "\tlat: ArrayCoordinates1d(lat): Bounds[1.0, 3.0], N[3], ctype['midpoint']\n",
      "\tlon: ArrayCoordinates1d(lon): Bounds[4.0, 7.0], N[4], ctype['midpoint']\n",
      "Coordinates\n",
      "\ttime: ArrayCoordinates1d(time): Bounds[2018-01-01, 2018-12-12], N[2], ctype['point']\n"
     ]
    }
   ],
   "source": [
    "# Create Coordinates describing space\n",
    "c_space = podpac.Coordinates([[1, 2, 3], [4, 5, 6, 7]], ['lat', 'lon'])\n",
    "\n",
    "# Create Coordinates describing time\n",
    "c_time = podpac.Coordinates([['2018-01-01', '2018-12-12']], ['time'])\n",
    "print (c_space)\n",
    "print (c_time)"
   ]
  },
  {
   "cell_type": "code",
   "execution_count": 18,
   "metadata": {
    "slideshow": {
     "slide_type": "subslide"
    }
   },
   "outputs": [
    {
     "name": "stdout",
     "output_type": "stream",
     "text": [
      "Coordinates\n",
      "\tlat: ArrayCoordinates1d(lat): Bounds[1.0, 3.0], N[3], ctype['midpoint']\n",
      "\tlon: ArrayCoordinates1d(lon): Bounds[4.0, 7.0], N[4], ctype['midpoint']\n",
      "\ttime: ArrayCoordinates1d(time): Bounds[2018-01-01, 2018-12-12], N[2], ctype['point']\n",
      "Coordinates\n",
      "\ttime: ArrayCoordinates1d(time): Bounds[2018-01-01, 2018-12-12], N[2], ctype['point']\n",
      "\tlat: ArrayCoordinates1d(lat): Bounds[1.0, 3.0], N[3], ctype['midpoint']\n",
      "\tlon: ArrayCoordinates1d(lon): Bounds[4.0, 7.0], N[4], ctype['midpoint']\n"
     ]
    }
   ],
   "source": [
    "# Combine the two coordinates\n",
    "c_combined0 = podpac.coordinates.merge_dims([c_space, c_time])\n",
    "# Note, order is important\n",
    "c_combined1 = podpac.coordinates.merge_dims([c_time, c_space])\n",
    "print (c_combined0)\n",
    "print (c_combined1)"
   ]
  },
  {
   "cell_type": "markdown",
   "metadata": {
    "slideshow": {
     "slide_type": "subslide"
    }
   },
   "source": [
    "Coordinates that have overlapping dimensions cannot be merged, for that we need the `concat` or `union` function."
   ]
  },
  {
   "cell_type": "code",
   "execution_count": 19,
   "metadata": {},
   "outputs": [
    {
     "name": "stdout",
     "output_type": "stream",
     "text": [
      "Duplicate dimension name 'lat' at position 1\n"
     ]
    }
   ],
   "source": [
    "c1 = podpac.Coordinates([[1, 2, 3]], ['lat'])\n",
    "c2 = podpac.Coordinates([[4, 5, 6]], ['lat'])\n",
    "try: \n",
    "    podpac.coordinates.merge_dims([c1, c2])\n",
    "except ValueError as e:\n",
    "    print(e)"
   ]
  },
  {
   "cell_type": "markdown",
   "metadata": {
    "slideshow": {
     "slide_type": "slide"
    }
   },
   "source": [
    "## Concatenating or taking the union of Coordinates\n",
    "When combinding dimensions:\n",
    "* `concat` will allow duplicate dimensions\n",
    "* `union` will only allow unique dimensions, and will also try to sort them"
   ]
  },
  {
   "cell_type": "code",
   "execution_count": 20,
   "metadata": {},
   "outputs": [],
   "source": [
    "# Create coordinates for example\n",
    "c1 = podpac.Coordinates([[1, 2, 3, 4]], ['lat'])\n",
    "c2 = podpac.Coordinates([[4, 5, 6]], ['lat'])"
   ]
  },
  {
   "cell_type": "code",
   "execution_count": 21,
   "metadata": {
    "slideshow": {
     "slide_type": "subslide"
    }
   },
   "outputs": [
    {
     "name": "stdout",
     "output_type": "stream",
     "text": [
      "Concatenated Coordintes (c1, c2): Coordinates:\n",
      "  * lat      (lat) float64 1.0 2.0 3.0 4.0 4.0 5.0 6.0\n",
      "Concatenated Coordintes (c2, c1): Coordinates:\n",
      "  * lat      (lat) float64 4.0 5.0 6.0 1.0 2.0 3.0 4.0\n"
     ]
    }
   ],
   "source": [
    "# Concatenate coordinates\n",
    "concat = podpac.coordinates.concat([c1, c2])\n",
    "# Order is important\n",
    "concat_r = podpac.coordinates.concat([c2, c1])\n",
    "\n",
    "print(\"Concatenated Coordintes (c1, c2):\", concat.coords)\n",
    "print(\"Concatenated Coordintes (c2, c1):\", concat_r.coords)"
   ]
  },
  {
   "cell_type": "code",
   "execution_count": 22,
   "metadata": {
    "slideshow": {
     "slide_type": "subslide"
    }
   },
   "outputs": [
    {
     "name": "stdout",
     "output_type": "stream",
     "text": [
      "Union Coordintes (c1, c2): Coordinates:\n",
      "  * lat      (lat) float64 1.0 2.0 3.0 4.0 5.0 6.0\n",
      "Union Coordintes (c2, c1): Coordinates:\n",
      "  * lat      (lat) float64 1.0 2.0 3.0 4.0 5.0 6.0\n"
     ]
    }
   ],
   "source": [
    "# Union of coordinates\n",
    "union = podpac.coordinates.union([c1, c2])\n",
    "# Order is not important, due to implicit sorting\n",
    "union_r = podpac.coordinates.union([c2, c1])\n",
    "\n",
    "print(\"Union Coordintes (c1, c2):\", union.coords)\n",
    "print(\"Union Coordintes (c2, c1):\", union_r.coords)"
   ]
  }
 ],
 "metadata": {
  "celltoolbar": "Slideshow",
  "kernelspec": {
   "display_name": "Python 3",
   "language": "python",
   "name": "python3"
  },
  "language_info": {
   "codemirror_mode": {
    "name": "ipython",
    "version": 3
   },
   "file_extension": ".py",
   "mimetype": "text/x-python",
   "name": "python",
   "nbconvert_exporter": "python",
   "pygments_lexer": "ipython3",
   "version": "3.6.3"
  }
 },
 "nbformat": 4,
 "nbformat_minor": 2
}
