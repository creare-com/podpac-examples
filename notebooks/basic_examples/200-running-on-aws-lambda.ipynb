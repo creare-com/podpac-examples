{
 "cells": [
  {
   "cell_type": "code",
   "execution_count": 1,
   "metadata": {
    "slideshow": {
     "slide_type": "skip"
    }
   },
   "outputs": [
    {
     "name": "stdout",
     "output_type": "stream",
     "text": [
      "Populating the interactive namespace from numpy and matplotlib\n"
     ]
    }
   ],
   "source": [
    "# For interactive plots, comment the next line\n",
    "%pylab inline\n",
    "# For interactive plots, uncomment the next line\n",
    "# %pylab ipympl\n",
    "import warnings\n",
    "warnings.filterwarnings('ignore')"
   ]
  },
  {
   "cell_type": "markdown",
   "metadata": {
    "slideshow": {
     "slide_type": "slide"
    }
   },
   "source": [
    "# Introduction\n",
    "For instructions on using Jupyter notebooks, see the [README.md](../../README.md) file. "
   ]
  },
  {
   "cell_type": "markdown",
   "metadata": {
    "slideshow": {
     "slide_type": "-"
    }
   },
   "source": [
    "This notebook demonstrates how to run PODPAC Pipeline on AWS Lambda. Specifically, we will:\n",
    "* Create a node\n",
    "* Execute the node on AWS Lambda\n",
    "\n",
    "**This example requires a pre-configured AWS Lambda node.** We will not cover how the AWS Lambda node was created. For more details see the [AWS Lambda Tutorial](../developer/aws-lambda-tutorial.ipynb). "
   ]
  },
  {
   "cell_type": "markdown",
   "metadata": {
    "slideshow": {
     "slide_type": "subslide"
    }
   },
   "source": [
    "# How to run analysis on AWS Lambda\n",
    "* Make sure you have PODPAC properly installed WITH the **aws** optional dependencies: `pip install podpac[aws]`\n",
    "\n",
    "<i style='font-size:18pt'>PODPAC uses the Python package `boto3` to interact with an S3 bucket which triggers the Lambda function execution. It also uses `boto3` to monitor an S3 bucket for the computed output. </i>\n",
    "\n",
    "\n",
    "<img src='../Images/PODPAC-AWS-Lambda.png' style='width:80%; margin-left:auto;margin-right:auto' />"
   ]
  },
  {
   "cell_type": "code",
   "execution_count": 2,
   "metadata": {
    "slideshow": {
     "slide_type": "skip"
    }
   },
   "outputs": [],
   "source": [
    "import podpac"
   ]
  },
  {
   "cell_type": "markdown",
   "metadata": {
    "slideshow": {
     "slide_type": "slide"
    }
   },
   "source": [
    "# Setup (1/2)\n",
    "* Configure AWS credentials\n",
    "* I have these already in my local `setting.py` file"
   ]
  },
  {
   "cell_type": "code",
   "execution_count": 3,
   "metadata": {},
   "outputs": [],
   "source": [
    "# Configure AWS Settings\n",
    "\n",
    "# podpac.settings.S3_BUCKET_NAME = $YOUR_BUCKET_NAME\n",
    "# podpac.settings.S3_JSON_FOLDER = 'json/' # Or the S3 folder you'd like JSON to be uploaded to.\n",
    "# podpac.settings.S3_OUTPUT_FOLDER = 'output/' # Or the S3 folder you'd like outputs to be uploaded to.\n",
    "# podpac.settings.AWS_ACCESS_KEY_ID = $YOUR_ACCESS_KEY_ID\n",
    "# podpac.settings.AWS_SECRET_ACCESS_KEY = $YOUR_SECRET_ACCESS_KEY\n",
    "# podpac.settings.AWS_REGION_NAME = $YOUR_REGION_NAME"
   ]
  },
  {
   "cell_type": "markdown",
   "metadata": {
    "slideshow": {
     "slide_type": "slide"
    }
   },
   "source": [
    "## Provide Earth Data Login Credentials\n",
    "If you do not have an earth data login, or have not activated OpenDAP access, follow the [instructions here](https://creare-com.github.io/podpac-docs/user/earthdata.html)."
   ]
  },
  {
   "cell_type": "code",
   "execution_count": 4,
   "metadata": {
    "slideshow": {
     "slide_type": "-"
    }
   },
   "outputs": [
    {
     "name": "stdin",
     "output_type": "stream",
     "text": [
      "Username: mpuecker\n",
      "Password: ··················\n"
     ]
    }
   ],
   "source": [
    "import getpass\n",
    "username = password = None\n",
    "username = input(\"Username:\");   password = getpass.getpass('Password:')"
   ]
  },
  {
   "cell_type": "markdown",
   "metadata": {
    "slideshow": {
     "slide_type": "slide"
    }
   },
   "source": [
    "# Setup (2/2)\n",
    "* Create the PODPAC Pipeline\n",
    "* We're using the same pipeline from the [Analyzing SMAP Data](../basic_examples/analyzing-SMAP-data.ipynb) notebook\n",
    "* This example computes the difference between the current soil moisture for a region, and that of the previous year"
   ]
  },
  {
   "cell_type": "code",
   "execution_count": 5,
   "metadata": {},
   "outputs": [],
   "source": [
    "# Create the Pipeline\n",
    "product = 'SPL4SMAU'   \n",
    "sm = podpac.datalib.SMAP(product=product, username=username, password=password)\n",
    "sm_time1_offset = podpac.algorithm.ExpandCoordinates(source=sm, time=['-1,Y', '-1,Y'])\n",
    "sm_offset = podpac.algorithm.Mean(source=sm_time1_offset, dims=['time'])\n",
    "\n",
    "# This is the output Node of the Pipeline\n",
    "diff = podpac.algorithm.Arithmetic(eqn='B-A', A=sm, B=sm_offset)"
   ]
  },
  {
   "cell_type": "markdown",
   "metadata": {
    "slideshow": {
     "slide_type": "slide"
    }
   },
   "source": [
    "# Create PODPAC Coordinates \n",
    "* This specifies the region and date where the pipeline will be evaluated"
   ]
  },
  {
   "cell_type": "code",
   "execution_count": 6,
   "metadata": {},
   "outputs": [],
   "source": [
    "# Specify region of interest on a uniform grid\n",
    "lat = podpac.crange(  60,  10, -2.0)  # (start, stop, step)\n",
    "lon = podpac.crange(-130, -60,  2.0)  # (start, stop, step)\n",
    "\n",
    "# Specify date and time\n",
    "time = '2018-05-19T12:00:00'\n",
    "\n",
    "# Create the PODPAC Coordinates\n",
    "coords = podpac.Coordinates([lat, lon, time], dims=['lat', 'lon', 'time'])"
   ]
  },
  {
   "cell_type": "markdown",
   "metadata": {
    "slideshow": {
     "slide_type": "subslide"
    }
   },
   "source": [
    "# Evaluating node on AWS cloud "
   ]
  },
  {
   "cell_type": "code",
   "execution_count": 7,
   "metadata": {
    "scrolled": true
   },
   "outputs": [
    {
     "data": {
      "text/plain": [
       "<matplotlib.collections.QuadMesh at 0xdf34a20>"
      ]
     },
     "execution_count": 7,
     "metadata": {},
     "output_type": "execute_result"
    },
    {
     "data": {
      "image/png": "[encoded data removed]",
      "text/plain": [
       "<Figure size 432x288 with 2 Axes>"
      ]
     },
     "metadata": {
      "needs_background": "light"
     },
     "output_type": "display_data"
    }
   ],
   "source": [
    "aws_lambda_manager = podpac.core.managers.aws_lambda.Lambda(source=diff)\n",
    "o_aws = aws_lambda_manager.eval(coords)\n",
    "o_aws.plot()"
   ]
  }
 ],
 "metadata": {
  "celltoolbar": "Slideshow",
  "kernelspec": {
   "display_name": "Python 3",
   "language": "python",
   "name": "python3"
  },
  "language_info": {
   "codemirror_mode": {
    "name": "ipython",
    "version": 3
   },
   "file_extension": ".py",
   "mimetype": "text/x-python",
   "name": "python",
   "nbconvert_exporter": "python",
   "pygments_lexer": "ipython3",
   "version": "3.6.6"
  }
 },
 "nbformat": 4,
 "nbformat_minor": 2
}
