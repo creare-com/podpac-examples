{
 "cells": [
  {
   "cell_type": "code",
   "execution_count": 8,
   "metadata": {
    "slideshow": {
     "slide_type": "skip"
    }
   },
   "outputs": [
    {
     "name": "stdout",
     "output_type": "stream",
     "text": [
      "Populating the interactive namespace from numpy and matplotlib\n"
     ]
    }
   ],
   "source": [
    "# For interactive plots, comment the next line\n",
    "%pylab inline\n",
    "# For interactive plots, uncomment the next line\n",
    "# %pylab ipympl\n",
    "import warnings\n",
    "warnings.filterwarnings('ignore')"
   ]
  },
  {
   "cell_type": "markdown",
   "metadata": {
    "slideshow": {
     "slide_type": "slide"
    }
   },
   "source": [
    "# Introduction\n",
    "\n",
    "This notebook demonstrates how to run PODPAC Pipeline on AWS Lambda. Specifically, we will:\n",
    "* Create a node\n",
    "* Execute the node on AWS Lambda\n",
    "\n",
    "**This example requires a pre-configured AWS Lambda node.** We will not cover how the AWS Lambda node was created. For more details see the [AWS Lambda Tutorial](../developer/aws-lambda-tutorial.ipynb). \n",
    "\n",
    "<small>*For instructions on using Jupyter notebooks, see the [README.md](../../README.md) file.*</small>"
   ]
  },
  {
   "cell_type": "markdown",
   "metadata": {
    "slideshow": {
     "slide_type": "subslide"
    }
   },
   "source": [
    "# Setup\n",
    "\n",
    "Make sure you have PODPAC installed with the **datatype** and **aws** optional dependencies:\n",
    "\n",
    "```\n",
    "$ pip install podpac[datatype]\n",
    "$ pip install podpac[aws]\n",
    "```"
   ]
  },
  {
   "cell_type": "markdown",
   "metadata": {
    "slideshow": {
     "slide_type": "subslide"
    }
   },
   "source": [
    "# How to run analysis on AWS Lambda\n",
    "\n",
    "<i style='font-size:18pt'>PODPAC uses the Python package `boto3` to interact with an S3 bucket which triggers the Lambda function execution. It also uses `boto3` to monitor an S3 bucket for the computed output. </i>\n",
    "\n",
    "\n",
    "<img src='../Images/PODPAC-AWS-Lambda.png' style='width:80%; margin-left:auto;margin-right:auto' />"
   ]
  },
  {
   "cell_type": "markdown",
   "metadata": {
    "slideshow": {
     "slide_type": "slide"
    }
   },
   "source": [
    "# Setup PODPAC for AWS (1/2)\n",
    "\n",
    "* Configure AWS credentials\n",
    "* Can be specified at runtime, or in the podpac settings file"
   ]
  },
  {
   "cell_type": "code",
   "execution_count": 9,
   "metadata": {
    "slideshow": {
     "slide_type": "subslide"
    }
   },
   "outputs": [],
   "source": [
    "import podpac\n",
    "\n",
    "# Configure AWS Settings\n",
    "# podpac.settings['S3_BUCKET_NAME'] = '[your-bucket-name]'\n",
    "# podpac.settings['S3_JSON_FOLDER'] = 'json/'     # Or the S3 folder you'd like JSON to be uploaded to.\n",
    "# podpac.settings['S3_OUTPUT_FOLDER'] = 'output/' # Or the S3 folder you'd like outputs to be uploaded to.\n",
    "# podpac.settings['AWS_ACCESS_KEY_ID'] = '[your-access-key]'\n",
    "# podpac.settings['AWS_SECRET_ACCESS_KEY'] = '[your-access-key-secret]'\n",
    "# podpac.settings['AWS_REGION_NAME'] = '[your-region]'"
   ]
  },
  {
   "cell_type": "markdown",
   "metadata": {
    "slideshow": {
     "slide_type": "slide"
    }
   },
   "source": [
    "## Provide Earth Data Login Credentials\n",
    "If you do not have an earth data login, or have not activated OpenDAP access, follow the [instructions here](https://creare-com.github.io/podpac-docs/user/earthdata.html)."
   ]
  },
  {
   "cell_type": "code",
   "execution_count": 10,
   "metadata": {
    "slideshow": {
     "slide_type": "-"
    }
   },
   "outputs": [
    {
     "name": "stdout",
     "output_type": "stream",
     "text": [
      "Username:podpac_demo\n",
      "Password:········\n"
     ]
    }
   ],
   "source": [
    "import getpass\n",
    "username = password = None\n",
    "username = input(\"Username:\");   password = getpass.getpass('Password:')"
   ]
  },
  {
   "cell_type": "markdown",
   "metadata": {
    "slideshow": {
     "slide_type": "slide"
    }
   },
   "source": [
    "# Setup (2/2)\n",
    "\n",
    "* Create the PODPAC Pipeline\n",
    "* We'll use the same pipeline from the [100-analyzing-SMAP-data.ipynb](100-analyzing-SMAP-data.ipynb) notebook\n",
    "* This example computes the difference between the current soil moisture for a region, and that of the previous year"
   ]
  },
  {
   "cell_type": "code",
   "execution_count": 11,
   "metadata": {
    "slideshow": {
     "slide_type": "subslide"
    }
   },
   "outputs": [],
   "source": [
    "import podpac.datalib\n",
    "\n",
    "# Create the Pipeline\n",
    "# See 100-analyzing-SMAP-data.ipynb for more details\n",
    "product = 'SPL4SMAU'   \n",
    "smap = podpac.datalib.SMAP(product=product, username=username, password=password)\n",
    "smap_time1_offset = podpac.algorithm.ExpandCoordinates(source=smap, time=['-1,Y', '-1,Y'])\n",
    "smap_offset = podpac.algorithm.Mean(source=smap_time1_offset, dims=['time'])\n",
    "\n",
    "# This is the output Node of the Pipeline\n",
    "diff = podpac.algorithm.Arithmetic(eqn='B-A', A=smap, B=smap_offset)"
   ]
  },
  {
   "cell_type": "markdown",
   "metadata": {
    "slideshow": {
     "slide_type": "subslide"
    }
   },
   "source": [
    "# Create PODPAC Coordinates \n",
    "* This specifies the region and date where the pipeline will be evaluated"
   ]
  },
  {
   "cell_type": "code",
   "execution_count": 12,
   "metadata": {
    "slideshow": {
     "slide_type": "subslide"
    }
   },
   "outputs": [],
   "source": [
    "# Specify region of interest on a uniform grid\n",
    "lat = podpac.crange(  60,  10, -2.0)  # (start, stop, step)\n",
    "lon = podpac.crange(-130, -60,  2.0)  # (start, stop, step)\n",
    "\n",
    "# Specify date and time\n",
    "time = '2018-05-19T12:00:00'\n",
    "\n",
    "# Create the PODPAC Coordinates\n",
    "coords = podpac.Coordinates([lat, lon, time], dims=['lat', 'lon', 'time'])"
   ]
  },
  {
   "cell_type": "markdown",
   "metadata": {
    "slideshow": {
     "slide_type": "slide"
    }
   },
   "source": [
    "# Evaluating node on AWS cloud "
   ]
  },
  {
   "cell_type": "code",
   "execution_count": null,
   "metadata": {
    "scrolled": true,
    "slideshow": {
     "slide_type": "subslide"
    }
   },
   "outputs": [],
   "source": [
    "# Set up wrapper to run your node on AWS Lambda\n",
    "aws = podpac.core.managers.aws_lambda.Lambda(source=diff)   \n",
    "\n",
    "# Run the node (on AWS Lambda) and get the results back\n",
    "# (the first time this runs will be slower than subsequent calls)\n",
    "output = aws.eval(coords)\n",
    "output.plot()\n",
    "pass"
   ]
  }
 ],
 "metadata": {
  "celltoolbar": "Slideshow",
  "kernelspec": {
   "display_name": "Python 3",
   "language": "python",
   "name": "python3"
  },
  "language_info": {
   "codemirror_mode": {
    "name": "ipython",
    "version": 3
   },
   "file_extension": ".py",
   "mimetype": "text/x-python",
   "name": "python",
   "nbconvert_exporter": "python",
   "pygments_lexer": "ipython3",
   "version": "3.7.0"
  }
 },
 "nbformat": 4,
 "nbformat_minor": 2
}
