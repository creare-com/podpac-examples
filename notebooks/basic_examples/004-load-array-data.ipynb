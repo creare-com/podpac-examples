{
 "cells": [
  {
   "cell_type": "code",
   "execution_count": 1,
   "metadata": {},
   "outputs": [
    {
     "name": "stdout",
     "output_type": "stream",
     "text": [
      "Populating the interactive namespace from numpy and matplotlib\n"
     ]
    }
   ],
   "source": [
    "# For interactive plots, comment the next line\n",
    "%pylab inline\n",
    "\n",
    "# For interactive plots, uncomment the next line\n",
    "# %pylab ipympl"
   ]
  },
  {
   "cell_type": "markdown",
   "metadata": {},
   "source": [
    "# Introduction\n",
    "\n",
    "This notebook demonstrates how to load array data (numerical list, numpy array) data collected into a PODPAC node.\n",
    "\n",
    "<small>*For instructions on using Jupyter notebooks, see the [README.md](../../README.md) file.*</small>"
   ]
  },
  {
   "cell_type": "markdown",
   "metadata": {},
   "source": [
    "## Setup\n",
    "\n",
    "Make sure you have PODPAC installed:\n",
    "\n",
    "```\n",
    "$ pip install podpac\n",
    "```\n"
   ]
  },
  {
   "cell_type": "markdown",
   "metadata": {},
   "source": [
    "## Array Data"
   ]
  },
  {
   "cell_type": "code",
   "execution_count": 2,
   "metadata": {},
   "outputs": [
    {
     "data": {
      "text/plain": [
       "array([[0.44350636, 0.69119129, 0.7242576 , 0.3148419 , 0.73932978],\n",
       "       [0.80816447, 0.3964196 , 0.18230299, 0.23390778, 0.73337435],\n",
       "       [0.43419515, 0.60961382, 0.34147399, 0.58374822, 0.11680655],\n",
       "       [0.22437357, 0.45099669, 0.31923717, 0.01580003, 0.53492713],\n",
       "       [0.44629212, 0.94377183, 0.24811276, 0.06972643, 0.40936774]])"
      ]
     },
     "execution_count": 2,
     "metadata": {},
     "output_type": "execute_result"
    }
   ],
   "source": [
    "from podpac.data import Array\n",
    "from podpac import Coordinates\n",
    "import numpy as np\n",
    "\n",
    "# mock data\n",
    "data = np.random.rand(5, 5)\n",
    "data"
   ]
  },
  {
   "cell_type": "code",
   "execution_count": 3,
   "metadata": {},
   "outputs": [
    {
     "data": {
      "text/plain": [
       "Coordinates\n",
       "\tlat: ArrayCoordinates1d(lat): Bounds[-10.0, 10.0], N[5], ctype['midpoint']\n",
       "\tlon: ArrayCoordinates1d(lon): Bounds[-10.0, 10.0], N[5], ctype['midpoint']"
      ]
     },
     "execution_count": 3,
     "metadata": {},
     "output_type": "execute_result"
    }
   ],
   "source": [
    "# create native coordinates for data\n",
    "lat = np.linspace(-10, 10, 5)\n",
    "lon = np.linspace(-10, 10, 5)\n",
    "native_coords = Coordinates([lat, lon], ['lat', 'lon'])\n",
    "native_coords"
   ]
  },
  {
   "cell_type": "code",
   "execution_count": 4,
   "metadata": {},
   "outputs": [
    {
     "data": {
      "text/plain": [
       "Array DataSource\n",
       "\tsource: \n",
       "[[0.44350636 0.69119129 0.7242576  0.3148419  0.73932978]\n",
       " [0.80816447 0.3964196  0.18230299 0.23390778 0.73337435]\n",
       " [0.43419515 0.60961382 0.34147399 0.58374822 0.11680655]\n",
       " [0.22437357 0.45099669 0.31923717 0.01580003 0.53492713]\n",
       " [0.44629212 0.94377183 0.24811276 0.06972643 0.40936774]]\n",
       "\tnative_coordinates: \n",
       "\t\tlat: ArrayCoordinates1d(lat): Bounds[-10.0, 10.0], N[5], ctype['midpoint']\n",
       "\t\tlon: ArrayCoordinates1d(lon): Bounds[-10.0, 10.0], N[5], ctype['midpoint']\n",
       "\tinterpolation: nearest"
      ]
     },
     "execution_count": 4,
     "metadata": {},
     "output_type": "execute_result"
    }
   ],
   "source": [
    "# create Array DataSource node\n",
    "node = Array(source=data, native_coordinates=native_coords)\n",
    "node"
   ]
  },
  {
   "cell_type": "code",
   "execution_count": 5,
   "metadata": {},
   "outputs": [
    {
     "data": {
      "text/plain": [
       "<xarray.UnitsDataArray (lat: 5, lon: 5)>\n",
       "array([[0.443506, 0.691191, 0.724258, 0.314842, 0.73933 ],\n",
       "       [0.808164, 0.39642 , 0.182303, 0.233908, 0.733374],\n",
       "       [0.434195, 0.609614, 0.341474, 0.583748, 0.116807],\n",
       "       [0.224374, 0.450997, 0.319237, 0.0158  , 0.534927],\n",
       "       [0.446292, 0.943772, 0.248113, 0.069726, 0.409368]])\n",
       "Coordinates:\n",
       "  * lat      (lat) float64 -10.0 -5.0 0.0 5.0 10.0\n",
       "  * lon      (lon) float64 -10.0 -5.0 0.0 5.0 10.0\n",
       "Attributes:\n",
       "    layer_style:  <podpac.core.style.Style object at 0x10731ec50>\n",
       "    crs:          EPSG:4326"
      ]
     },
     "execution_count": 5,
     "metadata": {},
     "output_type": "execute_result"
    }
   ],
   "source": [
    "# evaluate this note at its native coordinates\n",
    "output = node.eval(node.native_coordinates)\n",
    "output"
   ]
  },
  {
   "cell_type": "code",
   "execution_count": 6,
   "metadata": {},
   "outputs": [
    {
     "data": {
      "image/png": "[encoded data removed]",
      "text/plain": [
       "<Figure size 432x288 with 2 Axes>"
      ]
     },
     "metadata": {
      "needs_background": "light"
     },
     "output_type": "display_data"
    }
   ],
   "source": [
    "output.plot()\n",
    "pass"
   ]
  },
  {
   "cell_type": "code",
   "execution_count": 7,
   "metadata": {},
   "outputs": [
    {
     "data": {
      "image/png": "[encoded data removed]",
      "text/plain": [
       "<Figure size 432x288 with 2 Axes>"
      ]
     },
     "metadata": {
      "needs_background": "light"
     },
     "output_type": "display_data"
    }
   ],
   "source": [
    "# scale down data\n",
    "# default interpolation is nearest neighbor\n",
    "coords = Coordinates([np.linspace(-10, 10, 50), np.linspace(-10, 10, 50)], ['lat', 'lon'])\n",
    "output = node.eval(coords)\n",
    "output.plot()\n",
    "pass"
   ]
  },
  {
   "cell_type": "code",
   "execution_count": 8,
   "metadata": {},
   "outputs": [
    {
     "data": {
      "image/png": "[encoded data removed]",
      "text/plain": [
       "<Figure size 432x288 with 2 Axes>"
      ]
     },
     "metadata": {
      "needs_background": "light"
     },
     "output_type": "display_data"
    }
   ],
   "source": [
    "# scale down and use bilinear interpolation\n",
    "node.interpolation = 'bilinear'\n",
    "output = node.eval(coords)\n",
    "output.plot()\n",
    "pass"
   ]
  }
 ],
 "metadata": {
  "kernelspec": {
   "display_name": "Python 3",
   "language": "python",
   "name": "python3"
  },
  "language_info": {
   "codemirror_mode": {
    "name": "ipython",
    "version": 3
   },
   "file_extension": ".py",
   "mimetype": "text/x-python",
   "name": "python",
   "nbconvert_exporter": "python",
   "pygments_lexer": "ipython3",
   "version": "3.7.0"
  }
 },
 "nbformat": 4,
 "nbformat_minor": 2
}
