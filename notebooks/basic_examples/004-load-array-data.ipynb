{
 "cells": [
  {
   "cell_type": "code",
   "execution_count": 1,
   "metadata": {},
   "outputs": [
    {
     "name": "stdout",
     "output_type": "stream",
     "text": [
      "Populating the interactive namespace from numpy and matplotlib\n"
     ]
    }
   ],
   "source": [
    "# For interactive plots, comment the next line\n",
    "%pylab inline\n",
    "\n",
    "# For interactive plots, uncomment the next line\n",
    "# %pylab ipympl"
   ]
  },
  {
   "cell_type": "markdown",
   "metadata": {},
   "source": [
    "# Introduction\n",
    "\n",
    "This notebook demonstrates how to load array data (numerical list, numpy array) data collected into a PODPAC node.\n",
    "\n",
    "<small>*For instructions on using Jupyter notebooks, see the [README.md](../../README.md) file.*</small>"
   ]
  },
  {
   "cell_type": "markdown",
   "metadata": {},
   "source": [
    "## Setup\n",
    "\n",
    "Make sure you have PODPAC installed:\n",
    "\n",
    "```\n",
    "$ pip install podpac\n",
    "```\n"
   ]
  },
  {
   "cell_type": "markdown",
   "metadata": {},
   "source": [
    "## Array Data"
   ]
  },
  {
   "cell_type": "code",
   "execution_count": 2,
   "metadata": {},
   "outputs": [
    {
     "name": "stderr",
     "output_type": "stream",
     "text": [
      "D:\\podpac-1.2.0\\miniconda\\envs\\podpac\\lib\\site-packages\\xarray\\core\\merge.py:17: FutureWarning: The Panel class is removed from pandas. Accessing it from the top-level namespace will also be removed in the next version\n",
      "  PANDAS_TYPES = (pd.Series, pd.DataFrame, pd.Panel)\n"
     ]
    },
    {
     "data": {
      "text/plain": [
       "array([[0.14567907, 0.40172636, 0.85504888, 0.87316779, 0.99321509],\n",
       "       [0.04171965, 0.27913047, 0.88984643, 0.78670175, 0.64545122],\n",
       "       [0.33916725, 0.87852559, 0.39898781, 0.86715479, 0.94767488],\n",
       "       [0.36687085, 0.43361617, 0.11747361, 0.91600244, 0.25714857],\n",
       "       [0.63463572, 0.34049427, 0.13672328, 0.57824223, 0.18938057]])"
      ]
     },
     "execution_count": 2,
     "metadata": {},
     "output_type": "execute_result"
    }
   ],
   "source": [
    "from podpac.data import Array\n",
    "from podpac import Coordinates\n",
    "import numpy as np\n",
    "\n",
    "# mock data\n",
    "data = np.random.rand(5, 5)\n",
    "data"
   ]
  },
  {
   "cell_type": "code",
   "execution_count": 3,
   "metadata": {},
   "outputs": [
    {
     "data": {
      "text/plain": [
       "Coordinates (EPSG:4326)\n",
       "\tlat: ArrayCoordinates1d(lat): Bounds[-10.0, 10.0], N[5], ctype['midpoint']\n",
       "\tlon: ArrayCoordinates1d(lon): Bounds[-10.0, 10.0], N[5], ctype['midpoint']"
      ]
     },
     "execution_count": 3,
     "metadata": {},
     "output_type": "execute_result"
    }
   ],
   "source": [
    "# create native coordinates for data\n",
    "lat = np.linspace(-10, 10, 5)\n",
    "lon = np.linspace(-10, 10, 5)\n",
    "native_coords = Coordinates([lat, lon], ['lat', 'lon'])\n",
    "native_coords"
   ]
  },
  {
   "cell_type": "code",
   "execution_count": 4,
   "metadata": {},
   "outputs": [
    {
     "data": {
      "text/plain": [
       "Array DataSource\n",
       "\tsource: \n",
       "[[0.14567907 0.40172636 0.85504888 0.87316779 0.99321509]\n",
       " [0.04171965 0.27913047 0.88984643 0.78670175 0.64545122]\n",
       " [0.33916725 0.87852559 0.39898781 0.86715479 0.94767488]\n",
       " [0.36687085 0.43361617 0.11747361 0.91600244 0.25714857]\n",
       " [0.63463572 0.34049427 0.13672328 0.57824223 0.18938057]]\n",
       "\tnative_coordinates: \n",
       "\t\tlat: ArrayCoordinates1d(lat): Bounds[-10.0, 10.0], N[5], ctype['midpoint']\n",
       "\t\tlon: ArrayCoordinates1d(lon): Bounds[-10.0, 10.0], N[5], ctype['midpoint']\n",
       "\tinterpolation: nearest"
      ]
     },
     "execution_count": 4,
     "metadata": {},
     "output_type": "execute_result"
    }
   ],
   "source": [
    "# create Array DataSource node\n",
    "node = Array(source=data, native_coordinates=native_coords)\n",
    "node"
   ]
  },
  {
   "cell_type": "code",
   "execution_count": 5,
   "metadata": {},
   "outputs": [
    {
     "data": {
      "text/plain": [
       "<xarray.UnitsDataArray (lat: 5, lon: 5)>\n",
       "array([[0.145679, 0.401726, 0.855049, 0.873168, 0.993215],\n",
       "       [0.04172 , 0.27913 , 0.889846, 0.786702, 0.645451],\n",
       "       [0.339167, 0.878526, 0.398988, 0.867155, 0.947675],\n",
       "       [0.366871, 0.433616, 0.117474, 0.916002, 0.257149],\n",
       "       [0.634636, 0.340494, 0.136723, 0.578242, 0.189381]])\n",
       "Coordinates:\n",
       "  * lat      (lat) float64 -10.0 -5.0 0.0 5.0 10.0\n",
       "  * lon      (lon) float64 -10.0 -5.0 0.0 5.0 10.0\n",
       "Attributes:\n",
       "    layer_style:  <podpac.core.style.Style object at 0x000002DDF140C6A0>\n",
       "    crs:          EPSG:4326"
      ]
     },
     "execution_count": 5,
     "metadata": {},
     "output_type": "execute_result"
    }
   ],
   "source": [
    "# evaluate this note at its native coordinates\n",
    "output = node.eval(node.native_coordinates)\n",
    "output"
   ]
  },
  {
   "cell_type": "code",
   "execution_count": 6,
   "metadata": {},
   "outputs": [
    {
     "data": {
      "image/png": "[encoded data removed]",
      "text/plain": [
       "<Figure size 432x288 with 2 Axes>"
      ]
     },
     "metadata": {
      "needs_background": "light"
     },
     "output_type": "display_data"
    }
   ],
   "source": [
    "output.plot()\n",
    "pass"
   ]
  },
  {
   "cell_type": "code",
   "execution_count": 7,
   "metadata": {},
   "outputs": [
    {
     "data": {
      "image/png": "[encoded data removed]",
      "text/plain": [
       "<Figure size 432x288 with 2 Axes>"
      ]
     },
     "metadata": {
      "needs_background": "light"
     },
     "output_type": "display_data"
    }
   ],
   "source": [
    "# scale down data\n",
    "# default interpolation is nearest neighbor\n",
    "coords = Coordinates([np.linspace(-10, 10, 50), np.linspace(-10, 10, 50)], ['lat', 'lon'])\n",
    "output = node.eval(coords)\n",
    "output.plot()\n",
    "pass"
   ]
  },
  {
   "cell_type": "code",
   "execution_count": 8,
   "metadata": {},
   "outputs": [
    {
     "data": {
      "image/png": "[encoded data removed]",
      "text/plain": [
       "<Figure size 432x288 with 2 Axes>"
      ]
     },
     "metadata": {
      "needs_background": "light"
     },
     "output_type": "display_data"
    }
   ],
   "source": [
    "# scale down and use bilinear interpolation\n",
    "node.interpolation = 'bilinear'\n",
    "output = node.eval(coords)\n",
    "output.plot()\n",
    "pass"
   ]
  }
 ],
 "metadata": {
  "kernelspec": {
   "display_name": "Python 3",
   "language": "python",
   "name": "python3"
  },
  "language_info": {
   "codemirror_mode": {
    "name": "ipython",
    "version": 3
   },
   "file_extension": ".py",
   "mimetype": "text/x-python",
   "name": "python",
   "nbconvert_exporter": "python",
   "pygments_lexer": "ipython3",
   "version": "3.7.3"
  }
 },
 "nbformat": 4,
 "nbformat_minor": 4
}
