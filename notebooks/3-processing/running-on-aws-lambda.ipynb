{
 "cells": [
  {
   "cell_type": "markdown",
   "metadata": {},
   "source": [
    "# Running on AWS\n",
    "\n",
    "*Author: Creare* <br>\n",
    "*Date: April 01 2020* <br>\n",
    "\n",
    "**Keywords**: processing, cloud, AWS"
   ]
  },
  {
   "cell_type": "markdown",
   "metadata": {},
   "source": [
    "## Overview\n",
    "\n",
    "Runing PODPAC Pipeline on AWS Lambda."
   ]
  },
  {
   "cell_type": "markdown",
   "metadata": {},
   "source": [
    "### Prerequisites\n",
    "\n",
    "- Python 2.7 or above\n",
    "- [`podpac[datatype]`](https://podpac.org/install.html#install)\n",
    "- [`podpac[aws]`](https://podpac.org/install.html#install)\n",
    "- *Review the [README.md](../../README.md) and [jupyter-tutorial.ipynb](../jupyter-tutorial.ipynb) for additional info on using jupyter notebooks*\n"
   ]
  },
  {
   "cell_type": "markdown",
   "metadata": {},
   "source": [
    "### See Also\n",
    "\n",
    "- [AWS Lambda Tutorial](../4-advanced/aws-lambda.ipynb): Tutorial for **setting up the PODPAC Lambda function on AWS**\n",
    "- [AWS Budgeting Tutorial](../4-advanced/aws-budget.ipynb): Tutorial for budgeting with PODPAC and AWS\n",
    "- [SMAP Datalib](../5-datalib/smap/010-retrieving-SMAP-data.ipynb): SMAP Datalib tutorial\n",
    "- [100-analyzing-SMAP-data.ipynb](../5-datalib/smap/100-analyzing-SMAP-data.ipynb)"
   ]
  },
  {
   "cell_type": "markdown",
   "metadata": {
    "slideshow": {
     "slide_type": "subslide"
    }
   },
   "source": [
    "# How to run analysis on AWS Lambda\n",
    "\n",
    "<i style='font-size:18pt'>PODPAC uses the AWS commandline tools to trigger the Lambda function execution. </i>\n",
    "\n",
    "<img src='../../images/PODPAC-AWS-Lambda.png' style='width:80%; margin-left:auto;margin-right:auto' />"
   ]
  },
  {
   "cell_type": "markdown",
   "metadata": {
    "slideshow": {
     "slide_type": "slide"
    }
   },
   "source": [
    "We will:\n",
    "* Create a node\n",
    "* Execute the node on AWS Lambda\n",
    "\n",
    "**This example requires a pre-configured AWS Lambda node.** We will not cover how the AWS Lambda node was created. "
   ]
  },
  {
   "cell_type": "code",
   "execution_count": 1,
   "metadata": {
    "slideshow": {
     "slide_type": "skip"
    }
   },
   "outputs": [],
   "source": [
    "%matplotlib inline\n",
    "# Get the PODPAC logger\n",
    "import logging\n",
    "logger = logging.getLogger(\"podpac\")"
   ]
  },
  {
   "cell_type": "markdown",
   "metadata": {
    "slideshow": {
     "slide_type": "slide"
    }
   },
   "source": [
    "# Setup PODPAC for AWS (1/2)\n",
    "\n",
    "* Configure AWS credentials\n",
    "* Can be specified at runtime, or in the podpac settings file"
   ]
  },
  {
   "cell_type": "code",
   "execution_count": 2,
   "metadata": {
    "slideshow": {
     "slide_type": "subslide"
    }
   },
   "outputs": [],
   "source": [
    "import podpac\n",
    "from podpac import settings\n",
    "\n",
    "# need to allow unsafe evaluation to use `podpac.algorithm.Arithmetic` Node (below) \n",
    "settings.set_unsafe_eval(True)\n",
    "\n",
    "# # Credentials\n",
    "# settings[\"AWS_ACCESS_KEY_ID\"] = \"access key id\"\n",
    "# settings[\"AWS_SECRET_ACCESS_KEY\"] = \"secrect access key\"\n",
    "# settings[\"AWS_REGION_NAME\"] = \"region name\"\n",
    "\n",
    "# # General Settings\n",
    "# settings[\"AWS_TAGS\"] = {} # tags to assign to AWS resources created through PODPAC\n",
    "\n",
    "# # S3\n",
    "# settings[\"S3_BUCKET_NAME\"] = \"S3 bucket for Lambda functions or PODPAC cache\"\n",
    "\n",
    "# # Lambda\n",
    "# settings[\"FUNCTION_NAME\"] = \"name of lambda function to eval\"\n",
    "# settings[\"FUNCTION_ROLE_NAME\"] = \"role name for lambda function\"\n",
    "# settings[\"FUNCTION_DEPENDENCIES_KEY\"] = \"path on S3 bucket where function depedencies live\"\n",
    "# settings[\"FUNCTION_S3_INPUT\"] = \"path on S3 bucket for input pipelines. Objects put in this directory will trigger lambda function\",\n",
    "# settings[\"FUNCTION_S3_OUTPUT\"] = \"path on S3 bucket for pipeline outputs. Objects put in this directory will be returned to lambda function\",\n",
    "\n",
    "# # Paths - overwrite paths for Lambda caching\n",
    "# this will be fixed in future releases of PODPAC\n",
    "settings[\"ROOT_PATH\"] = \"/tmp/\"\n",
    "settings[\"LOG_FILE_PATH\"] = \"/tmp/\""
   ]
  },
  {
   "cell_type": "markdown",
   "metadata": {
    "slideshow": {
     "slide_type": "slide"
    }
   },
   "source": [
    "## Provide Earth Data Login Credentials\n",
    "If you do not have an earth data login, or have not activated OpenDAP access, follow the [instructions here](https://creare-com.github.io/podpac-docs/user/earthdata.html)."
   ]
  },
  {
   "cell_type": "code",
   "execution_count": 3,
   "metadata": {
    "slideshow": {
     "slide_type": "-"
    }
   },
   "outputs": [
    {
     "name": "stdin",
     "output_type": "stream",
     "text": [
      "Username: mpuecker\n",
      "Password: ··················\n"
     ]
    }
   ],
   "source": [
    "import getpass\n",
    "username = password = None\n",
    "username = input(\"Username:\");   password = getpass.getpass('Password:')\n",
    "\n",
    "# EarthData Credentials need to get saved in `settings` in order to get passed\n",
    "# into the Lambda function on AWS. This will be automated in the future.\n",
    "settings[\"username@urs.earthdata.nasa.gov\"] = username\n",
    "settings[\"password@urs.earthdata.nasa.gov\"] = password"
   ]
  },
  {
   "cell_type": "markdown",
   "metadata": {
    "slideshow": {
     "slide_type": "slide"
    }
   },
   "source": [
    "# Setup (2/2)\n",
    "\n",
    "* Create the PODPAC Pipeline\n",
    "* We'll use the same pipeline from the [100-analyzing-SMAP-data.ipynb](../5-datalib/smap/100-analyzing-SMAP-data.ipynb) notebook\n",
    "* This example computes the difference between the current soil moisture for a region, and that of the previous year"
   ]
  },
  {
   "cell_type": "code",
   "execution_count": 4,
   "metadata": {
    "slideshow": {
     "slide_type": "subslide"
    }
   },
   "outputs": [],
   "source": [
    "import podpac.datalib\n",
    "\n",
    "# Create the Pipsmap_offset\n",
    "product = 'SPL4SMAU'\n",
    "smap = podpac.datalib.smap_egi.SMAP(product=product)\n",
    "smap_time1_offset = podpac.algorithm.ExpandCoordinates(source=smap, time=['-1,Y', '-1,Y', '1,Y'])\n",
    "smap_offset = podpac.algorithm.Mean(source=smap_time1_offset, dims=['time'])\n",
    "\n",
    "# This is the output Node of the Pipeline\n",
    "diff = podpac.algorithm.Arithmetic(eqn='B-A', A=smap, B=smap_offset)"
   ]
  },
  {
   "cell_type": "markdown",
   "metadata": {
    "slideshow": {
     "slide_type": "subslide"
    }
   },
   "source": [
    "# Create PODPAC Coordinates \n",
    "* This specifies the region and date where the pipeline will be evaluated"
   ]
  },
  {
   "cell_type": "code",
   "execution_count": 5,
   "metadata": {
    "slideshow": {
     "slide_type": "subslide"
    }
   },
   "outputs": [],
   "source": [
    "# Specify region of interest on a uniform grid\n",
    "lat = podpac.crange(  60,  10, -2.0)  # (start, stop, step)\n",
    "lon = podpac.crange(-130, -60,  2.0)  # (start, stop, step)\n",
    "\n",
    "# Specify date and time\n",
    "time = '2018-05-19T12:00:00'\n",
    "\n",
    "# Create the PODPAC Coordinates\n",
    "coords = podpac.Coordinates([lat, lon, time], dims=['lat', 'lon', 'time'])"
   ]
  },
  {
   "cell_type": "markdown",
   "metadata": {
    "slideshow": {
     "slide_type": "slide"
    }
   },
   "source": [
    "# Evaluating node on AWS cloud"
   ]
  },
  {
   "cell_type": "code",
   "execution_count": 6,
   "metadata": {},
   "outputs": [],
   "source": [
    "# Set up wrapper to run your node on AWS Lambda\n",
    "node = podpac.managers.aws.Lambda(source=diff, function_allow_unsafe_eval=True)"
   ]
  },
  {
   "cell_type": "code",
   "execution_count": 7,
   "metadata": {},
   "outputs": [],
   "source": [
    "# if this is the first time your are using this node, build the AWS resources\n",
    "# if you have used this function before, skip this step\n",
    "node.build()"
   ]
  },
  {
   "cell_type": "code",
   "execution_count": 8,
   "metadata": {},
   "outputs": [
    {
     "name": "stdout",
     "output_type": "stream",
     "text": [
      "\n",
      "Lambda Node (built)\n",
      "    Function\n",
      "        Name: podpac-test-lambda-notebook\n",
      "        Description: PODPAC Lambda Function (https://podpac.org)\n",
      "        ARN: arn:aws:lambda:us-east-1:120507435541:function:podpac-test-lambda-notebook\n",
      "        Triggers: ['eval']\n",
      "        Handler: handler.handler\n",
      "        Environment Variables: {'PODPAC_UNSAFE_EVAL': 'b754a7523c574ec0b88c9c831a4e5ffb'}\n",
      "        Timeout: 600 seconds\n",
      "        Memory: 2048 MB\n",
      "        Tags: {'_podpac_resource': 'true', '_podpac_resource_hash': 'c9608f37a7fb154b895274f4e050c8e6', 'acct': '1010115.01.003', 'owner': 'mpu'}\n",
      "        Source Dist: eb2vQrp3ocuODfenDbzRJwJyAHoG/Eem+rt3cgN4+Dg=\n",
      "        Source Dependencies: s3://podpac-test-lambda-notebook/podpac_deps.zip\n",
      "        Last Modified: 2020-04-22T19:17:19.223+0000\n",
      "        Version: $LATEST\n",
      "        Restrict Evaluation: []\n",
      "\n",
      "    S3\n",
      "        Bucket: podpac-test-lambda-notebook\n",
      "        Tags: {'owner': 'mpu', '_podpac_resource': 'true', '_podpac_resource_hash': 'c9608f37a7fb154b895274f4e050c8e6', 'acct': '1010115.01.003'}\n",
      "        Input Folder: input/\n",
      "        Output Folder: output/\n",
      "\n",
      "    Role\n",
      "        Name: podpac-test-lambda-notebook\n",
      "        Description: PODPAC Lambda Role\n",
      "        ARN: arn:aws:iam::120507435541:role/podpac-test-lambda-notebook\n",
      "        Policy Document: {'Version': '2012-10-17', 'Statement': [{'Effect': 'Allow', 'Action': ['s3:PutObject', 's3:GetObject', 's3:DeleteObject', 's3:ReplicateObject', 's3:ListBucket', 's3:ListMultipartUploadParts', 's3:ListBucketByTags', 's3:GetBucketTagging', 's3:ListBucketVersions', 's3:AbortMultipartUpload', 's3:GetObjectTagging', 's3:ListBucketMultipartUploads', 's3:GetBucketLocation', 's3:GetObjectVersion'], 'Resource': ['arn:aws:s3:::podpac-test-lambda-notebook/*']}]}\n",
      "        Policy ARNs: ['arn:aws:iam::aws:policy/service-role/AWSLambdaBasicExecutionRole']\n",
      "        Assume Policy Document: {'Version': '2012-10-17', 'Statement': [{'Effect': 'Allow', 'Principal': {'Service': 'lambda.amazonaws.com'}, 'Action': 'sts:AssumeRole'}]}\n",
      "        Tags: {'owner': 'mpu', 'acct': '1010115.01.003', '_podpac_resource_hash': 'c9608f37a7fb154b895274f4e050c8e6', '_podpac_resource': 'true'}\n",
      "\n",
      "        \n",
      "\n",
      "        \n",
      "    Budget\n",
      "        Name: podpac-test-lambda-notebook-budget\n",
      "        Amount: 10.0\n",
      "        Currency: USD\n",
      "        E-mail: test@podpac.org\n",
      "        Spent: 0.0 USD\n",
      "            \n",
      "        \n"
     ]
    }
   ],
   "source": [
    "# validate that the AWS resources are built\n",
    "node.validate()\n",
    "\n",
    "# review aws resources\n",
    "node.describe()"
   ]
  },
  {
   "cell_type": "code",
   "execution_count": null,
   "metadata": {
    "slideshow": {
     "slide_type": "subslide"
    }
   },
   "outputs": [],
   "source": [
    "# Run the node (on AWS Lambda) and get the results back\n",
    "# (the first time this runs will be slower than subsequent calls)\n",
    "output = node.eval(coords)\n",
    "output.plot()\n",
    "pass"
   ]
  },
  {
   "cell_type": "code",
   "execution_count": null,
   "metadata": {},
   "outputs": [],
   "source": [
    "o = podpac.Node.from_json(diff.json).eval(podpac.Coordinates.from_json(coords.json))\n",
    "o.plot()"
   ]
  }
 ],
 "metadata": {
  "celltoolbar": "Slideshow",
  "kernelspec": {
   "display_name": "Python 3",
   "language": "python",
   "name": "python3"
  },
  "language_info": {
   "codemirror_mode": {
    "name": "ipython",
    "version": 3
   },
   "file_extension": ".py",
   "mimetype": "text/x-python",
   "name": "python",
   "nbconvert_exporter": "python",
   "pygments_lexer": "ipython3",
   "version": "3.7.6"
  }
 },
 "nbformat": 4,
 "nbformat_minor": 4
}
