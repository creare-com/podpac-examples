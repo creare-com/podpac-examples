{
 "cells": [
  {
   "cell_type": "code",
   "execution_count": 1,
   "metadata": {},
   "outputs": [
    {
     "name": "stdout",
     "output_type": "stream",
     "text": [
      "Populating the interactive namespace from numpy and matplotlib\n"
     ]
    }
   ],
   "source": [
    "%pylab inline"
   ]
  },
  {
   "cell_type": "code",
   "execution_count": 2,
   "metadata": {},
   "outputs": [],
   "source": [
    "import logging\n",
    "logger = logging.getLogger(\"podpac\")"
   ]
  },
  {
   "cell_type": "code",
   "execution_count": 3,
   "metadata": {},
   "outputs": [],
   "source": [
    "logger.setLevel(logging.DEBUG)"
   ]
  },
  {
   "cell_type": "code",
   "execution_count": 4,
   "metadata": {},
   "outputs": [],
   "source": [
    "import podpac\n",
    "from podpac.core.node import Node\n",
    "from podpac.core.coordinates import Coordinates\n",
    "import numpy as np"
   ]
  },
  {
   "cell_type": "code",
   "execution_count": 5,
   "metadata": {},
   "outputs": [
    {
     "data": {
      "text/plain": [
       "Coordinates (EPSG:4326)\n",
       "\tlat: UniformCoordinates1d(lat): Bounds[-90.0, 90.0], N[64], ctype['midpoint']\n",
       "\tlon: UniformCoordinates1d(lon): Bounds[-180.0, 180.0], N[128], ctype['midpoint']\n",
       "\ttime: UniformCoordinates1d(time): Bounds[2016-01-01, 2018-01-01], N[732], ctype['midpoint']"
      ]
     },
     "execution_count": 5,
     "metadata": {},
     "output_type": "execute_result"
    }
   ],
   "source": [
    "coordinates = podpac.Coordinates(\n",
    "    [podpac.clinspace(90, -90, 64, 'lat'), podpac.clinspace(-180, 180, 128, 'lon'), \n",
    "    podpac.crange('2016-01-01', '2018-01-01', '1,D', 'time')]\n",
    ")\n",
    "coordinates"
   ]
  },
  {
   "cell_type": "code",
   "execution_count": 6,
   "metadata": {},
   "outputs": [],
   "source": [
    "n = podpac.algorithm.SinCoords()\n",
    "np = podpac.managers.Process(source=n)\n",
    "chunks={'lat':32, 'lon': 64, 'time': 512}\n",
    "\n",
    "pp = podpac.managers.Parallel(source=np, number_of_workers=4, chunks=chunks)\n",
    "ppzar = podpac.managers.ParallelOutputZarr(source=np, number_of_workers=4, chunks=chunks, zarr_file=r'C:/podpac-1.2.0/test.zarr', init_file_mode='a')"
   ]
  },
  {
   "cell_type": "code",
   "execution_count": 7,
   "metadata": {},
   "outputs": [],
   "source": [
    "o = n.eval(coordinates)"
   ]
  },
  {
   "cell_type": "code",
   "execution_count": 8,
   "metadata": {},
   "outputs": [],
   "source": [
    "output_format = {'format': 'zarr_part',\n",
    "                 'format_kwargs': dict(part=[[0, None, None]] * 3,\n",
    "                                       store=ppzar.zarr_file,\n",
    "                                       mode='a')}"
   ]
  },
  {
   "cell_type": "code",
   "execution_count": 9,
   "metadata": {
    "collapsed": true,
    "jupyter": {
     "outputs_hidden": true
    }
   },
   "outputs": [
    {
     "name": "stderr",
     "output_type": "stream",
     "text": [
      "DEBUG:podpac.core.managers.parallel:Node eval with coords: (slice(0, 32, None), slice(0, 64, None), slice(0, 512, None)), Coordinates (EPSG:4326)\n",
      "\tlat: UniformCoordinates1d(lat): Bounds[1.4285714285714306, 90.0], N[32], ctype['midpoint']\n",
      "\tlon: UniformCoordinates1d(lon): Bounds[-180.0, -1.417322834645688], N[64], ctype['midpoint']\n",
      "\ttime: UniformCoordinates1d(time): Bounds[2016-01-01, 2017-05-26], N[512], ctype['midpoint']\n",
      "DEBUG:podpac.core.managers.parallel:Node eval with coords: (slice(0, 32, None), slice(0, 64, None), slice(512, 1024, None)), Coordinates (EPSG:4326)\n",
      "\tlat: UniformCoordinates1d(lat): Bounds[1.4285714285714306, 90.0], N[32], ctype['midpoint']\n",
      "\tlon: UniformCoordinates1d(lon): Bounds[-180.0, -1.417322834645688], N[64], ctype['midpoint']\n",
      "\ttime: UniformCoordinates1d(time): Bounds[2017-05-27, 2018-01-01], N[220], ctype['midpoint']\n",
      "DEBUG:podpac.core.managers.multi_process:Starting process.\n",
      "DEBUG:podpac.core.managers.parallel:Node eval with coords: (slice(0, 32, None), slice(64, 128, None), slice(0, 512, None)), Coordinates (EPSG:4326)\n",
      "\tlat: UniformCoordinates1d(lat): Bounds[1.4285714285714306, 90.0], N[32], ctype['midpoint']\n",
      "\tlon: UniformCoordinates1d(lon): Bounds[1.4173228346456597, 179.99999999999997], N[64], ctype['midpoint']\n",
      "\ttime: UniformCoordinates1d(time): Bounds[2016-01-01, 2017-05-26], N[512], ctype['midpoint']\n",
      "DEBUG:podpac.core.managers.multi_process:Starting process.\n",
      "DEBUG:podpac.core.managers.parallel:Node eval with coords: (slice(0, 32, None), slice(64, 128, None), slice(512, 1024, None)), Coordinates (EPSG:4326)\n",
      "\tlat: UniformCoordinates1d(lat): Bounds[1.4285714285714306, 90.0], N[32], ctype['midpoint']\n",
      "\tlon: UniformCoordinates1d(lon): Bounds[1.4173228346456597, 179.99999999999997], N[64], ctype['midpoint']\n",
      "\ttime: UniformCoordinates1d(time): Bounds[2017-05-27, 2018-01-01], N[220], ctype['midpoint']\n",
      "DEBUG:podpac.core.managers.multi_process:Starting process.\n",
      "DEBUG:podpac.core.managers.multi_process:Starting process.\n",
      "DEBUG:podpac.core.managers.multi_process:Retrieving data from queue.\n",
      "DEBUG:podpac.core.managers.parallel:Node eval with coords: (slice(32, 64, None), slice(0, 64, None), slice(0, 512, None)), Coordinates (EPSG:4326)\n",
      "\tlat: UniformCoordinates1d(lat): Bounds[-90.0, -1.4285714285714306], N[32], ctype['midpoint']\n",
      "\tlon: UniformCoordinates1d(lon): Bounds[-180.0, -1.417322834645688], N[64], ctype['midpoint']\n",
      "\ttime: UniformCoordinates1d(time): Bounds[2016-01-01, 2017-05-26], N[512], ctype['midpoint']\n",
      "DEBUG:podpac.core.managers.multi_process:Retrieving data from queue.\n",
      "DEBUG:podpac.core.managers.multi_process:Retrieving data from queue.\n",
      "DEBUG:podpac.core.managers.parallel:Node eval with coords: (slice(32, 64, None), slice(0, 64, None), slice(512, 1024, None)), Coordinates (EPSG:4326)\n",
      "\tlat: UniformCoordinates1d(lat): Bounds[-90.0, -1.4285714285714306], N[32], ctype['midpoint']\n",
      "\tlon: UniformCoordinates1d(lon): Bounds[-180.0, -1.417322834645688], N[64], ctype['midpoint']\n",
      "\ttime: UniformCoordinates1d(time): Bounds[2017-05-27, 2018-01-01], N[220], ctype['midpoint']\n",
      "DEBUG:podpac.core.managers.multi_process:Retrieving data from queue.\n",
      "DEBUG:podpac.core.managers.parallel:Node eval with coords: (slice(32, 64, None), slice(64, 128, None), slice(0, 512, None)), Coordinates (EPSG:4326)\n",
      "\tlat: UniformCoordinates1d(lat): Bounds[-90.0, -1.4285714285714306], N[32], ctype['midpoint']\n",
      "\tlon: UniformCoordinates1d(lon): Bounds[1.4173228346456597, 179.99999999999997], N[64], ctype['midpoint']\n",
      "\ttime: UniformCoordinates1d(time): Bounds[2016-01-01, 2017-05-26], N[512], ctype['midpoint']\n",
      "DEBUG:podpac.core.managers.parallel:Node eval with coords: (slice(32, 64, None), slice(64, 128, None), slice(512, 1024, None)), Coordinates (EPSG:4326)\n",
      "\tlat: UniformCoordinates1d(lat): Bounds[-90.0, -1.4285714285714306], N[32], ctype['midpoint']\n",
      "\tlon: UniformCoordinates1d(lon): Bounds[1.4173228346456597, 179.99999999999997], N[64], ctype['midpoint']\n",
      "\ttime: UniformCoordinates1d(time): Bounds[2017-05-27, 2018-01-01], N[220], ctype['midpoint']\n",
      "DEBUG:podpac.core.managers.parallel:Waiting for results: 0 Coordinates (EPSG:4326)\n",
      "\tlat: UniformCoordinates1d(lat): Bounds[1.4285714285714306, 90.0], N[32], ctype['midpoint']\n",
      "\tlon: UniformCoordinates1d(lon): Bounds[-180.0, -1.417322834645688], N[64], ctype['midpoint']\n",
      "\ttime: UniformCoordinates1d(time): Bounds[2016-01-01, 2017-05-26], N[512], ctype['midpoint']\n",
      "DEBUG:podpac.core.managers.multi_process:Joining.\n",
      "DEBUG:podpac.core.managers.multi_process:Joining.\n",
      "DEBUG:podpac.core.managers.multi_process:Joining.\n",
      "DEBUG:podpac.core.managers.multi_process:Joining.\n",
      "DEBUG:podpac.core.managers.multi_process:Closing.\n",
      "DEBUG:podpac.core.managers.multi_process:Starting process.\n",
      "DEBUG:podpac.core.managers.multi_process:Retrieving data from queue.\n",
      "DEBUG:podpac.core.managers.multi_process:Closing.\n",
      "DEBUG:podpac.core.managers.multi_process:Starting process.\n",
      "DEBUG:podpac.core.managers.multi_process:Retrieving data from queue.\n",
      "DEBUG:podpac.core.managers.multi_process:Closing.\n",
      "DEBUG:podpac.core.managers.multi_process:Starting process.\n",
      "DEBUG:podpac.core.managers.multi_process:Retrieving data from queue.\n",
      "DEBUG:podpac.core.managers.multi_process:Closing.\n",
      "DEBUG:podpac.core.managers.parallel:Waiting for results: 1 Coordinates (EPSG:4326)\n",
      "\tlat: UniformCoordinates1d(lat): Bounds[1.4285714285714306, 90.0], N[32], ctype['midpoint']\n",
      "\tlon: UniformCoordinates1d(lon): Bounds[-180.0, -1.417322834645688], N[64], ctype['midpoint']\n",
      "\ttime: UniformCoordinates1d(time): Bounds[2017-05-27, 2018-01-01], N[220], ctype['midpoint']\n",
      "DEBUG:podpac.core.managers.multi_process:Starting process.\n",
      "DEBUG:podpac.core.managers.parallel:Waiting for results: 2 Coordinates (EPSG:4326)\n",
      "\tlat: UniformCoordinates1d(lat): Bounds[1.4285714285714306, 90.0], N[32], ctype['midpoint']\n",
      "\tlon: UniformCoordinates1d(lon): Bounds[1.4173228346456597, 179.99999999999997], N[64], ctype['midpoint']\n",
      "\ttime: UniformCoordinates1d(time): Bounds[2016-01-01, 2017-05-26], N[512], ctype['midpoint']\n",
      "DEBUG:podpac.core.managers.parallel:Waiting for results: 3 Coordinates (EPSG:4326)\n",
      "\tlat: UniformCoordinates1d(lat): Bounds[1.4285714285714306, 90.0], N[32], ctype['midpoint']\n",
      "\tlon: UniformCoordinates1d(lon): Bounds[1.4173228346456597, 179.99999999999997], N[64], ctype['midpoint']\n",
      "\ttime: UniformCoordinates1d(time): Bounds[2017-05-27, 2018-01-01], N[220], ctype['midpoint']\n",
      "DEBUG:podpac.core.managers.parallel:Waiting for results: 4 Coordinates (EPSG:4326)\n",
      "\tlat: UniformCoordinates1d(lat): Bounds[-90.0, -1.4285714285714306], N[32], ctype['midpoint']\n",
      "\tlon: UniformCoordinates1d(lon): Bounds[-180.0, -1.417322834645688], N[64], ctype['midpoint']\n",
      "\ttime: UniformCoordinates1d(time): Bounds[2016-01-01, 2017-05-26], N[512], ctype['midpoint']\n",
      "DEBUG:podpac.core.managers.multi_process:Retrieving data from queue.\n",
      "DEBUG:podpac.core.managers.multi_process:Joining.\n",
      "DEBUG:podpac.core.managers.multi_process:Joining.\n",
      "DEBUG:podpac.core.managers.multi_process:Joining.\n",
      "DEBUG:podpac.core.managers.multi_process:Closing.\n",
      "DEBUG:podpac.core.managers.multi_process:Joining.\n",
      "DEBUG:podpac.core.managers.multi_process:Closing.\n",
      "DEBUG:podpac.core.managers.parallel:Waiting for results: 5 Coordinates (EPSG:4326)\n",
      "\tlat: UniformCoordinates1d(lat): Bounds[-90.0, -1.4285714285714306], N[32], ctype['midpoint']\n",
      "\tlon: UniformCoordinates1d(lon): Bounds[-180.0, -1.417322834645688], N[64], ctype['midpoint']\n",
      "\ttime: UniformCoordinates1d(time): Bounds[2017-05-27, 2018-01-01], N[220], ctype['midpoint']\n",
      "DEBUG:podpac.core.managers.parallel:Waiting for results: 6 Coordinates (EPSG:4326)\n",
      "\tlat: UniformCoordinates1d(lat): Bounds[-90.0, -1.4285714285714306], N[32], ctype['midpoint']\n",
      "\tlon: UniformCoordinates1d(lon): Bounds[1.4173228346456597, 179.99999999999997], N[64], ctype['midpoint']\n",
      "\ttime: UniformCoordinates1d(time): Bounds[2016-01-01, 2017-05-26], N[512], ctype['midpoint']\n",
      "DEBUG:podpac.core.managers.multi_process:Closing.\n",
      "DEBUG:podpac.core.managers.multi_process:Closing.\n",
      "DEBUG:podpac.core.managers.parallel:Waiting for results: 7 Coordinates (EPSG:4326)\n",
      "\tlat: UniformCoordinates1d(lat): Bounds[-90.0, -1.4285714285714306], N[32], ctype['midpoint']\n",
      "\tlon: UniformCoordinates1d(lon): Bounds[1.4173228346456597, 179.99999999999997], N[64], ctype['midpoint']\n",
      "\ttime: UniformCoordinates1d(time): Bounds[2017-05-27, 2018-01-01], N[220], ctype['midpoint']\n",
      "DEBUG:podpac.core.managers.parallel:Completed parallel execution.\n"
     ]
    }
   ],
   "source": [
    "o2 = pp.eval(coordinates)"
   ]
  },
  {
   "cell_type": "code",
   "execution_count": 10,
   "metadata": {},
   "outputs": [
    {
     "name": "stderr",
     "output_type": "stream",
     "text": [
      "DEBUG:podpac.core.managers.parallel:Creating Zarr file.\n",
      "DEBUG:podpac.core.managers.parallel:Starting parallel eval.\n",
      "DEBUG:podpac.core.managers.parallel:Node eval with coords: (slice(0, 32, None), slice(0, 64, None), slice(0, 512, None)), Coordinates (EPSG:4326)\n",
      "\tlat: UniformCoordinates1d(lat): Bounds[1.4285714285714306, 90.0], N[32], ctype['midpoint']\n",
      "\tlon: UniformCoordinates1d(lon): Bounds[-180.0, -1.417322834645688], N[64], ctype['midpoint']\n",
      "\ttime: UniformCoordinates1d(time): Bounds[2016-01-01, 2017-05-26], N[512], ctype['midpoint']\n",
      "DEBUG:podpac.core.managers.parallel:Node eval with coords: (slice(0, 32, None), slice(0, 64, None), slice(512, 1024, None)), Coordinates (EPSG:4326)\n",
      "\tlat: UniformCoordinates1d(lat): Bounds[1.4285714285714306, 90.0], N[32], ctype['midpoint']\n",
      "\tlon: UniformCoordinates1d(lon): Bounds[-180.0, -1.417322834645688], N[64], ctype['midpoint']\n",
      "\ttime: UniformCoordinates1d(time): Bounds[2017-05-27, 2018-01-01], N[220], ctype['midpoint']\n",
      "DEBUG:podpac.core.managers.parallel:Creating output format.\n",
      "DEBUG:podpac.core.managers.parallel:Node eval with coords: (slice(0, 32, None), slice(64, 128, None), slice(0, 512, None)), Coordinates (EPSG:4326)\n",
      "\tlat: UniformCoordinates1d(lat): Bounds[1.4285714285714306, 90.0], N[32], ctype['midpoint']\n",
      "\tlon: UniformCoordinates1d(lon): Bounds[1.4173228346456597, 179.99999999999997], N[64], ctype['midpoint']\n",
      "\ttime: UniformCoordinates1d(time): Bounds[2016-01-01, 2017-05-26], N[512], ctype['midpoint']\n",
      "DEBUG:podpac.core.managers.parallel:Creating output format.\n",
      "DEBUG:podpac.core.managers.parallel:Finished creating output format.\n",
      "DEBUG:podpac.core.managers.parallel:Creating output format.\n",
      "DEBUG:podpac.core.managers.parallel:Node eval with coords: (slice(0, 32, None), slice(64, 128, None), slice(512, 1024, None)), Coordinates (EPSG:4326)\n",
      "\tlat: UniformCoordinates1d(lat): Bounds[1.4285714285714306, 90.0], N[32], ctype['midpoint']\n",
      "\tlon: UniformCoordinates1d(lon): Bounds[1.4173228346456597, 179.99999999999997], N[64], ctype['midpoint']\n",
      "\ttime: UniformCoordinates1d(time): Bounds[2017-05-27, 2018-01-01], N[220], ctype['midpoint']\n",
      "DEBUG:podpac.core.managers.parallel:Finished creating output format.\n",
      "DEBUG:podpac.core.managers.parallel:Evaluating node.\n",
      "DEBUG:podpac.core.managers.parallel:Finished creating output format.\n",
      "DEBUG:podpac.core.managers.parallel:Creating output format.\n",
      "DEBUG:podpac.core.managers.parallel:Node eval with coords: (slice(32, 64, None), slice(0, 64, None), slice(0, 512, None)), Coordinates (EPSG:4326)\n",
      "\tlat: UniformCoordinates1d(lat): Bounds[-90.0, -1.4285714285714306], N[32], ctype['midpoint']\n",
      "\tlon: UniformCoordinates1d(lon): Bounds[-180.0, -1.417322834645688], N[64], ctype['midpoint']\n",
      "\ttime: UniformCoordinates1d(time): Bounds[2016-01-01, 2017-05-26], N[512], ctype['midpoint']\n",
      "DEBUG:podpac.core.managers.parallel:Evaluating node.\n",
      "DEBUG:podpac.core.managers.parallel:output: {'format': 'zarr_part', 'format_kwargs': {'part': [[0, 32, None], [0, 64, None], [0, 512, None]], 'store': 'C:/podpac-1.2.0/test.zarr', 'mode': 'a'}}, coordinates.shape: (32, 64, 512)\n",
      "DEBUG:podpac.core.managers.parallel:Evaluating node.\n",
      "DEBUG:podpac.core.managers.parallel:Finished creating output format.\n",
      "DEBUG:podpac.core.managers.parallel:Node eval with coords: (slice(32, 64, None), slice(0, 64, None), slice(512, 1024, None)), Coordinates (EPSG:4326)\n",
      "\tlat: UniformCoordinates1d(lat): Bounds[-90.0, -1.4285714285714306], N[32], ctype['midpoint']\n",
      "\tlon: UniformCoordinates1d(lon): Bounds[-180.0, -1.417322834645688], N[64], ctype['midpoint']\n",
      "\ttime: UniformCoordinates1d(time): Bounds[2017-05-27, 2018-01-01], N[220], ctype['midpoint']\n",
      "DEBUG:podpac.core.managers.parallel:output: {'format': 'zarr_part', 'format_kwargs': {'part': [[0, 32, None], [0, 64, None], [512, 732, None]], 'store': 'C:/podpac-1.2.0/test.zarr', 'mode': 'a'}}, coordinates.shape: (32, 64, 220)\n",
      "DEBUG:podpac.core.managers.multi_process:Starting process.\n",
      "DEBUG:podpac.core.managers.parallel:output: {'format': 'zarr_part', 'format_kwargs': {'part': [[0, 32, None], [64, 128, None], [0, 512, None]], 'store': 'C:/podpac-1.2.0/test.zarr', 'mode': 'a'}}, coordinates.shape: (32, 64, 512)\n",
      "DEBUG:podpac.core.managers.parallel:Evaluating node.\n",
      "DEBUG:podpac.core.managers.parallel:Node eval with coords: (slice(32, 64, None), slice(64, 128, None), slice(0, 512, None)), Coordinates (EPSG:4326)\n",
      "\tlat: UniformCoordinates1d(lat): Bounds[-90.0, -1.4285714285714306], N[32], ctype['midpoint']\n",
      "\tlon: UniformCoordinates1d(lon): Bounds[1.4173228346456597, 179.99999999999997], N[64], ctype['midpoint']\n",
      "\ttime: UniformCoordinates1d(time): Bounds[2016-01-01, 2017-05-26], N[512], ctype['midpoint']\n",
      "DEBUG:podpac.core.managers.multi_process:Starting process.\n",
      "DEBUG:podpac.core.managers.multi_process:Starting process.\n",
      "DEBUG:podpac.core.managers.multi_process:Retrieving data from queue.\n",
      "DEBUG:podpac.core.managers.multi_process:Retrieving data from queue.\n",
      "DEBUG:podpac.core.managers.parallel:Node eval with coords: (slice(32, 64, None), slice(64, 128, None), slice(512, 1024, None)), Coordinates (EPSG:4326)\n",
      "\tlat: UniformCoordinates1d(lat): Bounds[-90.0, -1.4285714285714306], N[32], ctype['midpoint']\n",
      "\tlon: UniformCoordinates1d(lon): Bounds[1.4173228346456597, 179.99999999999997], N[64], ctype['midpoint']\n",
      "\ttime: UniformCoordinates1d(time): Bounds[2017-05-27, 2018-01-01], N[220], ctype['midpoint']\n",
      "DEBUG:podpac.core.managers.multi_process:Retrieving data from queue.\n",
      "DEBUG:podpac.core.managers.parallel:output: {'format': 'zarr_part', 'format_kwargs': {'part': [[0, 32, None], [64, 128, None], [512, 732, None]], 'store': 'C:/podpac-1.2.0/test.zarr', 'mode': 'a'}}, coordinates.shape: (32, 64, 220)\n",
      "DEBUG:podpac.core.managers.parallel:Waiting for results: 0 Coordinates (EPSG:4326)\n",
      "\tlat: UniformCoordinates1d(lat): Bounds[1.4285714285714306, 90.0], N[32], ctype['midpoint']\n",
      "\tlon: UniformCoordinates1d(lon): Bounds[-180.0, -1.417322834645688], N[64], ctype['midpoint']\n",
      "\ttime: UniformCoordinates1d(time): Bounds[2016-01-01, 2017-05-26], N[512], ctype['midpoint']\n",
      "DEBUG:podpac.core.managers.multi_process:Starting process.\n",
      "DEBUG:podpac.core.managers.multi_process:Retrieving data from queue.\n",
      "DEBUG:podpac.core.managers.multi_process:Joining.\n",
      "DEBUG:podpac.core.managers.multi_process:Joining.\n",
      "DEBUG:podpac.core.managers.multi_process:Joining.\n",
      "DEBUG:podpac.core.managers.multi_process:Joining.\n",
      "DEBUG:podpac.core.managers.multi_process:Closing.\n",
      "DEBUG:podpac.core.managers.parallel:Creating output format.\n",
      "DEBUG:podpac.core.managers.multi_process:Closing.\n",
      "DEBUG:podpac.core.managers.parallel:Finished creating output format.\n",
      "DEBUG:podpac.core.managers.parallel:Creating output format.\n",
      "DEBUG:podpac.core.managers.parallel:Evaluating node.\n",
      "DEBUG:podpac.core.managers.parallel:Finished creating output format.\n",
      "DEBUG:podpac.core.managers.parallel:output: {'format': 'zarr_part', 'format_kwargs': {'part': [[32, 64, None], [0, 64, None], [0, 512, None]], 'store': 'C:/podpac-1.2.0/test.zarr', 'mode': 'a'}}, coordinates.shape: (32, 64, 512)\n",
      "DEBUG:podpac.core.managers.parallel:Evaluating node.\n",
      "DEBUG:podpac.core.managers.multi_process:Starting process.\n",
      "DEBUG:podpac.core.managers.parallel:output: {'format': 'zarr_part', 'format_kwargs': {'part': [[32, 64, None], [0, 64, None], [512, 732, None]], 'store': 'C:/podpac-1.2.0/test.zarr', 'mode': 'a'}}, coordinates.shape: (32, 64, 220)\n",
      "DEBUG:podpac.core.managers.multi_process:Starting process.\n",
      "DEBUG:podpac.core.managers.multi_process:Retrieving data from queue.\n",
      "DEBUG:podpac.core.managers.multi_process:Retrieving data from queue.\n",
      "DEBUG:podpac.core.managers.multi_process:Closing.\n",
      "DEBUG:podpac.core.managers.parallel:Creating output format.\n",
      "DEBUG:podpac.core.managers.parallel:Waiting for results: 1 Coordinates (EPSG:4326)\n",
      "\tlat: UniformCoordinates1d(lat): Bounds[1.4285714285714306, 90.0], N[32], ctype['midpoint']\n",
      "\tlon: UniformCoordinates1d(lon): Bounds[-180.0, -1.417322834645688], N[64], ctype['midpoint']\n",
      "\ttime: UniformCoordinates1d(time): Bounds[2017-05-27, 2018-01-01], N[220], ctype['midpoint']\n",
      "DEBUG:podpac.core.managers.parallel:Finished creating output format.\n",
      "DEBUG:podpac.core.managers.parallel:Waiting for results: 2 Coordinates (EPSG:4326)\n",
      "\tlat: UniformCoordinates1d(lat): Bounds[1.4285714285714306, 90.0], N[32], ctype['midpoint']\n",
      "\tlon: UniformCoordinates1d(lon): Bounds[1.4173228346456597, 179.99999999999997], N[64], ctype['midpoint']\n",
      "\ttime: UniformCoordinates1d(time): Bounds[2016-01-01, 2017-05-26], N[512], ctype['midpoint']\n",
      "DEBUG:podpac.core.managers.parallel:Evaluating node.\n",
      "DEBUG:podpac.core.managers.parallel:output: {'format': 'zarr_part', 'format_kwargs': {'part': [[32, 64, None], [64, 128, None], [0, 512, None]], 'store': 'C:/podpac-1.2.0/test.zarr', 'mode': 'a'}}, coordinates.shape: (32, 64, 512)\n",
      "DEBUG:podpac.core.managers.multi_process:Starting process.\n",
      "DEBUG:podpac.core.managers.multi_process:Retrieving data from queue.\n",
      "DEBUG:podpac.core.managers.multi_process:Closing.\n",
      "DEBUG:podpac.core.managers.parallel:Creating output format.\n",
      "DEBUG:podpac.core.managers.parallel:Finished creating output format.\n",
      "DEBUG:podpac.core.managers.parallel:Waiting for results: 3 Coordinates (EPSG:4326)\n",
      "\tlat: UniformCoordinates1d(lat): Bounds[1.4285714285714306, 90.0], N[32], ctype['midpoint']\n",
      "\tlon: UniformCoordinates1d(lon): Bounds[1.4173228346456597, 179.99999999999997], N[64], ctype['midpoint']\n",
      "\ttime: UniformCoordinates1d(time): Bounds[2017-05-27, 2018-01-01], N[220], ctype['midpoint']\n",
      "DEBUG:podpac.core.managers.parallel:Evaluating node.\n",
      "DEBUG:podpac.core.managers.parallel:Waiting for results: 4 Coordinates (EPSG:4326)\n",
      "\tlat: UniformCoordinates1d(lat): Bounds[-90.0, -1.4285714285714306], N[32], ctype['midpoint']\n",
      "\tlon: UniformCoordinates1d(lon): Bounds[-180.0, -1.417322834645688], N[64], ctype['midpoint']\n",
      "\ttime: UniformCoordinates1d(time): Bounds[2016-01-01, 2017-05-26], N[512], ctype['midpoint']\n",
      "DEBUG:podpac.core.managers.parallel:output: {'format': 'zarr_part', 'format_kwargs': {'part': [[32, 64, None], [64, 128, None], [512, 732, None]], 'store': 'C:/podpac-1.2.0/test.zarr', 'mode': 'a'}}, coordinates.shape: (32, 64, 220)\n",
      "DEBUG:podpac.core.managers.multi_process:Starting process.\n",
      "DEBUG:podpac.core.managers.multi_process:Retrieving data from queue.\n",
      "DEBUG:podpac.core.managers.multi_process:Joining.\n",
      "DEBUG:podpac.core.managers.multi_process:Joining.\n",
      "DEBUG:podpac.core.managers.multi_process:Joining.\n",
      "DEBUG:podpac.core.managers.multi_process:Joining.\n",
      "DEBUG:podpac.core.managers.multi_process:Closing.\n",
      "DEBUG:podpac.core.managers.multi_process:Closing.\n",
      "DEBUG:podpac.core.managers.parallel:Waiting for results: 5 Coordinates (EPSG:4326)\n",
      "\tlat: UniformCoordinates1d(lat): Bounds[-90.0, -1.4285714285714306], N[32], ctype['midpoint']\n",
      "\tlon: UniformCoordinates1d(lon): Bounds[-180.0, -1.417322834645688], N[64], ctype['midpoint']\n",
      "\ttime: UniformCoordinates1d(time): Bounds[2017-05-27, 2018-01-01], N[220], ctype['midpoint']\n",
      "DEBUG:podpac.core.managers.parallel:Waiting for results: 6 Coordinates (EPSG:4326)\n",
      "\tlat: UniformCoordinates1d(lat): Bounds[-90.0, -1.4285714285714306], N[32], ctype['midpoint']\n",
      "\tlon: UniformCoordinates1d(lon): Bounds[1.4173228346456597, 179.99999999999997], N[64], ctype['midpoint']\n",
      "\ttime: UniformCoordinates1d(time): Bounds[2016-01-01, 2017-05-26], N[512], ctype['midpoint']\n",
      "DEBUG:podpac.core.managers.multi_process:Closing.\n",
      "DEBUG:podpac.core.managers.multi_process:Closing.\n",
      "DEBUG:podpac.core.managers.parallel:Waiting for results: 7 Coordinates (EPSG:4326)\n",
      "\tlat: UniformCoordinates1d(lat): Bounds[-90.0, -1.4285714285714306], N[32], ctype['midpoint']\n",
      "\tlon: UniformCoordinates1d(lon): Bounds[1.4173228346456597, 179.99999999999997], N[64], ctype['midpoint']\n",
      "\ttime: UniformCoordinates1d(time): Bounds[2017-05-27, 2018-01-01], N[220], ctype['midpoint']\n",
      "DEBUG:podpac.core.managers.parallel:Completed parallel execution.\n"
     ]
    }
   ],
   "source": [
    "ppzar.eval(coordinates)\n",
    "o3 = ppzar.dataset['data'][:]"
   ]
  },
  {
   "cell_type": "code",
   "execution_count": 11,
   "metadata": {
    "jupyter": {
     "source_hidden": true
    }
   },
   "outputs": [],
   "source": [
    "# ppzar2 = podpac.data.Zarr(source=ppzar.zarr_file)\n",
    "# ppzar2.native_coordinates['time'].coordinates.astype('datetime64[D]')"
   ]
  },
  {
   "cell_type": "code",
   "execution_count": 12,
   "metadata": {},
   "outputs": [
    {
     "data": {
      "text/plain": [
       "<matplotlib.collections.QuadMesh at 0x13b9ded5080>"
      ]
     },
     "execution_count": 12,
     "metadata": {},
     "output_type": "execute_result"
    },
    {
     "data": {
      "image/png": "[encoded data removed]",
      "text/plain": [
       "<Figure size 432x288 with 2 Axes>"
      ]
     },
     "metadata": {
      "needs_background": "light"
     },
     "output_type": "display_data"
    }
   ],
   "source": [
    "(o-o2)[..., -1].plot()"
   ]
  },
  {
   "cell_type": "code",
   "execution_count": 13,
   "metadata": {},
   "outputs": [
    {
     "data": {
      "text/plain": [
       "<matplotlib.collections.QuadMesh at 0x13b9dfd0cf8>"
      ]
     },
     "execution_count": 13,
     "metadata": {},
     "output_type": "execute_result"
    },
    {
     "data": {
      "image/png": "[encoded data removed]",
      "text/plain": [
       "<Figure size 432x288 with 2 Axes>"
      ]
     },
     "metadata": {
      "needs_background": "light"
     },
     "output_type": "display_data"
    }
   ],
   "source": [
    "(o-o3)[..., -1].plot()"
   ]
  },
  {
   "cell_type": "code",
   "execution_count": 14,
   "metadata": {},
   "outputs": [
    {
     "data": {
      "text/plain": [
       "<matplotlib.collections.QuadMesh at 0x13b9e089588>"
      ]
     },
     "execution_count": 14,
     "metadata": {},
     "output_type": "execute_result"
    },
    {
     "data": {
      "image/png": "[encoded data removed]",
      "text/plain": [
       "<Figure size 432x288 with 2 Axes>"
      ]
     },
     "metadata": {
      "needs_background": "light"
     },
     "output_type": "display_data"
    }
   ],
   "source": [
    "(o2-o3)[..., -1].plot()"
   ]
  }
 ],
 "metadata": {
  "kernelspec": {
   "display_name": "Python 3",
   "language": "python",
   "name": "python3"
  },
  "language_info": {
   "codemirror_mode": {
    "name": "ipython",
    "version": 3
   },
   "file_extension": ".py",
   "mimetype": "text/x-python",
   "name": "python",
   "nbconvert_exporter": "python",
   "pygments_lexer": "ipython3",
   "version": "3.7.3"
  }
 },
 "nbformat": 4,
 "nbformat_minor": 4
}
