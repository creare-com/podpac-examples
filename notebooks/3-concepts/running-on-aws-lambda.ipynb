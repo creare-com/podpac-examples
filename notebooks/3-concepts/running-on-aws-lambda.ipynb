{
 "cells": [
  {
   "cell_type": "code",
   "execution_count": null,
   "metadata": {
    "slideshow": {
     "slide_type": "skip"
    }
   },
   "outputs": [],
   "source": [
    "%matplotlib inline\n",
    "\n",
    "# Get the PODPAC logger\n",
    "import logging\n",
    "logger = logging.getLogger(\"podpac\")"
   ]
  },
  {
   "cell_type": "markdown",
   "metadata": {
    "slideshow": {
     "slide_type": "slide"
    }
   },
   "source": [
    "# Introduction\n",
    "\n",
    "This notebook demonstrates how to run PODPAC Pipeline on AWS Lambda. Specifically, we will:\n",
    "* Create a node\n",
    "* Execute the node on AWS Lambda\n",
    "\n",
    "**This example requires a pre-configured AWS Lambda node.** We will not cover how the AWS Lambda node was created. For more details see the [AWS Lambda Tutorial](../developer/aws-lambda-tutorial.ipynb). \n",
    "\n",
    "<small>*For instructions on using Jupyter notebooks, see the [README.md](../../README.md) file.*</small>"
   ]
  },
  {
   "cell_type": "markdown",
   "metadata": {
    "slideshow": {
     "slide_type": "subslide"
    }
   },
   "source": [
    "# Setup\n",
    "\n",
    "Make sure you have PODPAC installed with the **datatype** and **aws** optional dependencies:\n",
    "\n",
    "```\n",
    "$ pip install podpac[datatype]\n",
    "$ pip install podpac[aws]\n",
    "```"
   ]
  },
  {
   "cell_type": "markdown",
   "metadata": {
    "slideshow": {
     "slide_type": "subslide"
    }
   },
   "source": [
    "# How to run analysis on AWS Lambda\n",
    "\n",
    "<i style='font-size:18pt'>PODPAC uses the Python package `boto3` to interact with an S3 bucket which triggers the Lambda function execution. It also uses `boto3` to monitor an S3 bucket for the computed output. </i>\n",
    "\n",
    "\n",
    "<img src='../Images/PODPAC-AWS-Lambda.png' style='width:80%; margin-left:auto;margin-right:auto' />"
   ]
  },
  {
   "cell_type": "markdown",
   "metadata": {
    "slideshow": {
     "slide_type": "slide"
    }
   },
   "source": [
    "# Setup PODPAC for AWS (1/2)\n",
    "\n",
    "* Configure AWS credentials\n",
    "* Can be specified at runtime, or in the podpac settings file"
   ]
  },
  {
   "cell_type": "code",
   "execution_count": null,
   "metadata": {
    "slideshow": {
     "slide_type": "subslide"
    }
   },
   "outputs": [],
   "source": [
    "import podpac\n",
    "from podpac import settings\n",
    "\n",
    "# need to allow unsafe evaluation to use `podpac.algorithm.Arithmetic` Node (below) \n",
    "settings.set_unsafe_eval(True)\n",
    "\n",
    "# # Credentials\n",
    "# settings[\"AWS_ACCESS_KEY_ID\"] = \"access key id\"\n",
    "# settings[\"AWS_SECRET_ACCESS_KEY\"] = \"secrect access key\"\n",
    "# settings[\"AWS_REGION_NAME\"] = \"region name\"\n",
    "\n",
    "# # General Settings\n",
    "# settings[\"AWS_TAGS\"] = {} # tags to assign to AWS resources created through PODPAC\n",
    "\n",
    "# # S3\n",
    "# settings[\"S3_BUCKET_NAME\"] = \"S3 bucket for Lambda functions or PODPAC cache\"\n",
    "\n",
    "# # Lambda\n",
    "# settings[\"FUNCTION_NAME\"] = \"name of lambda function to eval\"\n",
    "# settings[\"FUNCTION_ROLE_NAME\"] = \"role name for lambda function\"\n",
    "# settings[\"FUNCTION_DEPENDENCIES_KEY\"] = \"path on S3 bucket where function depedencies live\"\n",
    "# settings[\"FUNCTION_S3_INPUT\"] = \"path on S3 bucket for input pipelines. Objects put in this directory will trigger lambda function\",\n",
    "# settings[\"FUNCTION_S3_OUTPUT\"] = \"path on S3 bucket for pipeline outputs. Objects put in this directory will be returned to lambda function\",\n",
    "\n",
    "# # Paths - overwrite paths for Lambda caching\n",
    "# this will be fixed in future releases of PODPAC\n",
    "settings[\"ROOT_PATH\"] = \"/tmp/\"\n",
    "settings[\"LOG_FILE_PATH\"] = \"/tmp/\""
   ]
  },
  {
   "cell_type": "markdown",
   "metadata": {
    "slideshow": {
     "slide_type": "slide"
    }
   },
   "source": [
    "## Provide Earth Data Login Credentials\n",
    "If you do not have an earth data login, or have not activated OpenDAP access, follow the [instructions here](https://creare-com.github.io/podpac-docs/user/earthdata.html)."
   ]
  },
  {
   "cell_type": "code",
   "execution_count": null,
   "metadata": {
    "slideshow": {
     "slide_type": "-"
    }
   },
   "outputs": [],
   "source": [
    "import getpass\n",
    "username = password = None\n",
    "username = input(\"Username:\");   password = getpass.getpass('Password:')\n",
    "\n",
    "# EarthData Credentials need to get saved in `settings` in order to get passed\n",
    "# into the Lambda function on AWS. This will be automated in the future.\n",
    "settings[\"username@urs.earthdata.nasa.gov\"] = username\n",
    "settings[\"password@urs.earthdata.nasa.gov\"] = password"
   ]
  },
  {
   "cell_type": "markdown",
   "metadata": {
    "slideshow": {
     "slide_type": "slide"
    }
   },
   "source": [
    "# Setup (2/2)\n",
    "\n",
    "* Create the PODPAC Pipeline\n",
    "* We'll use the same pipeline from the [100-analyzing-SMAP-data.ipynb](100-analyzing-SMAP-data.ipynb) notebook\n",
    "* This example computes the difference between the current soil moisture for a region, and that of the previous year"
   ]
  },
  {
   "cell_type": "code",
   "execution_count": null,
   "metadata": {
    "slideshow": {
     "slide_type": "subslide"
    }
   },
   "outputs": [],
   "source": [
    "import podpac.datalib\n",
    "\n",
    "# Create the Pipeline\n",
    "# See 100-analyzing-SMAP-data.ipynb for more details\n",
    "product = 'SPL4SMAU'\n",
    "smap = podpac.datalib.SMAP(product=product, username=username, password=password)\n",
    "smap_time1_offset = podpac.algorithm.ExpandCoordinates(source=smap, time=['-1,Y', '-1,Y'])\n",
    "smap_offset = podpac.algorithm.Mean(source=smap_time1_offset, dims=['time'])\n",
    "\n",
    "# This is the output Node of the Pipeline\n",
    "diff = podpac.algorithm.Arithmetic(eqn='B-A', A=smap, B=smap_offset)"
   ]
  },
  {
   "cell_type": "markdown",
   "metadata": {
    "slideshow": {
     "slide_type": "subslide"
    }
   },
   "source": [
    "# Create PODPAC Coordinates \n",
    "* This specifies the region and date where the pipeline will be evaluated"
   ]
  },
  {
   "cell_type": "code",
   "execution_count": null,
   "metadata": {
    "slideshow": {
     "slide_type": "subslide"
    }
   },
   "outputs": [],
   "source": [
    "# Specify region of interest on a uniform grid\n",
    "lat = podpac.crange(  60,  10, -2.0)  # (start, stop, step)\n",
    "lon = podpac.crange(-130, -60,  2.0)  # (start, stop, step)\n",
    "\n",
    "# Specify date and time\n",
    "time = '2018-05-19T12:00:00'\n",
    "\n",
    "# Create the PODPAC Coordinates\n",
    "coords = podpac.Coordinates([lat, lon, time], dims=['lat', 'lon', 'time'])"
   ]
  },
  {
   "cell_type": "markdown",
   "metadata": {
    "slideshow": {
     "slide_type": "slide"
    }
   },
   "source": [
    "# Evaluating node on AWS cloud"
   ]
  },
  {
   "cell_type": "code",
   "execution_count": null,
   "metadata": {},
   "outputs": [],
   "source": [
    "# Set up wrapper to run your node on AWS Lambda\n",
    "node = podpac.managers.aws.Lambda(source=diff, function_allow_unsafe_eval=True)"
   ]
  },
  {
   "cell_type": "code",
   "execution_count": null,
   "metadata": {},
   "outputs": [],
   "source": [
    "# if this is the first time your are using this node, build the AWS resources\n",
    "# if you have used this function before, skip this step\n",
    "node.build()"
   ]
  },
  {
   "cell_type": "code",
   "execution_count": null,
   "metadata": {},
   "outputs": [],
   "source": [
    "# validate that the AWS resources are built\n",
    "node.validate()\n",
    "\n",
    "# review aws resources\n",
    "node.describe()"
   ]
  },
  {
   "cell_type": "code",
   "execution_count": null,
   "metadata": {
    "scrolled": true,
    "slideshow": {
     "slide_type": "subslide"
    }
   },
   "outputs": [],
   "source": [
    "# Run the node (on AWS Lambda) and get the results back\n",
    "# (the first time this runs will be slower than subsequent calls)\n",
    "output = node.eval(coords)\n",
    "output.plot()\n",
    "pass"
   ]
  },
  {
   "cell_type": "code",
   "execution_count": null,
   "metadata": {},
   "outputs": [],
   "source": []
  }
 ],
 "metadata": {
  "celltoolbar": "Slideshow",
  "kernelspec": {
   "display_name": "Python 3",
   "language": "python",
   "name": "python3"
  },
  "language_info": {
   "codemirror_mode": {
    "name": "ipython",
    "version": 3
   },
   "file_extension": ".py",
   "mimetype": "text/x-python",
   "name": "python",
   "nbconvert_exporter": "python",
   "pygments_lexer": "ipython3",
   "version": "3.7.0"
  }
 },
 "nbformat": 4,
 "nbformat_minor": 4
}
