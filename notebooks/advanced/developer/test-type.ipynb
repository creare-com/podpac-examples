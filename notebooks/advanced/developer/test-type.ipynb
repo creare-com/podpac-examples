{
 "cells": [
  {
   "cell_type": "code",
   "execution_count": 1,
   "metadata": {},
   "outputs": [],
   "source": [
    "import numpy as np\n",
    "from traitlets import TraitError\n",
    "from xarray.core.coordinates import DataArrayCoordinates\n",
    "import boto3\n",
    "import requests\n",
    "import pydap\n",
    "\n",
    "import podpac.settings\n",
    "from podpac.core import data\n",
    "from podpac.core.units import UnitsDataArray\n",
    "from podpac.core.data.datasource import COMMON_DATA_DOC, DataSource\n",
    "from podpac.core.node import COMMON_NODE_DOC, Node\n",
    "from podpac.core.data.types import Array, PyDAP, Rasterio, WCS, ReprojectedSource, S3\n",
    "from podpac.core.coordinates import Coordinates, clinspace\n",
    "\n",
    "from podpac.core.data.test.test_types import MockPyDAP"
   ]
  },
  {
   "cell_type": "markdown",
   "metadata": {},
   "source": [
    "## Array Source"
   ]
  },
  {
   "cell_type": "code",
   "execution_count": 5,
   "metadata": {},
   "outputs": [],
   "source": [
    "source = np.random.rand(11, 11)   # mocked from pydap endpoint\n",
    "coordinates = Coordinates([clinspace(-25, 25, 11), clinspace(-25, 25, 11)], ['lat', 'lon'])\n",
    "\n",
    "node = Array(source=source)\n",
    "node = Array(source=source, native_coordinates=coordinates)"
   ]
  },
  {
   "cell_type": "code",
   "execution_count": 5,
   "metadata": {},
   "outputs": [
    {
     "ename": "NotImplementedError",
     "evalue": "DAP has no mechanism for creating coordinates, so this is left up to child class implementations.",
     "output_type": "error",
     "traceback": [
      "\u001b[0;31m---------------------------------------------------------------------------\u001b[0m",
      "\u001b[0;31mNotImplementedError\u001b[0m                       Traceback (most recent call last)",
      "\u001b[0;32m<ipython-input-5-2bfaf8e54444>\u001b[0m in \u001b[0;36m<module>\u001b[0;34m()\u001b[0m\n\u001b[1;32m      8\u001b[0m \u001b[0mcoordinates\u001b[0m \u001b[0;34m=\u001b[0m \u001b[0mCoordinates\u001b[0m\u001b[0;34m(\u001b[0m\u001b[0;34m[\u001b[0m\u001b[0mclinspace\u001b[0m\u001b[0;34m(\u001b[0m\u001b[0;34m-\u001b[0m\u001b[0;36m25\u001b[0m\u001b[0;34m,\u001b[0m \u001b[0;36m25\u001b[0m\u001b[0;34m,\u001b[0m \u001b[0;36m11\u001b[0m\u001b[0;34m)\u001b[0m\u001b[0;34m,\u001b[0m \u001b[0mclinspace\u001b[0m\u001b[0;34m(\u001b[0m\u001b[0;34m-\u001b[0m\u001b[0;36m25\u001b[0m\u001b[0;34m,\u001b[0m \u001b[0;36m25\u001b[0m\u001b[0;34m,\u001b[0m \u001b[0;36m11\u001b[0m\u001b[0;34m)\u001b[0m\u001b[0;34m]\u001b[0m\u001b[0;34m,\u001b[0m \u001b[0;34m[\u001b[0m\u001b[0;34m'lat'\u001b[0m\u001b[0;34m,\u001b[0m \u001b[0;34m'lon'\u001b[0m\u001b[0;34m]\u001b[0m\u001b[0;34m)\u001b[0m\u001b[0;34m\u001b[0m\u001b[0m\n\u001b[1;32m      9\u001b[0m \u001b[0;34m\u001b[0m\u001b[0m\n\u001b[0;32m---> 10\u001b[0;31m \u001b[0mnode\u001b[0m \u001b[0;34m=\u001b[0m \u001b[0mPyDAP\u001b[0m\u001b[0;34m(\u001b[0m\u001b[0msource\u001b[0m\u001b[0;34m=\u001b[0m\u001b[0msource\u001b[0m\u001b[0;34m,\u001b[0m \u001b[0mdatakey\u001b[0m\u001b[0;34m=\u001b[0m\u001b[0mdatakey\u001b[0m\u001b[0;34m)\u001b[0m\u001b[0;34m\u001b[0m\u001b[0m\n\u001b[0m\u001b[1;32m     11\u001b[0m \u001b[0;34m\u001b[0m\u001b[0m\n\u001b[1;32m     12\u001b[0m \u001b[0;31m# TraitError\u001b[0m\u001b[0;34m\u001b[0m\u001b[0;34m\u001b[0m\u001b[0m\n",
      "\u001b[0;32m~/computing/repositories/geospatial/podpac/podpac/core/data/datasource.py\u001b[0m in \u001b[0;36m__init__\u001b[0;34m(self, **kwargs)\u001b[0m\n\u001b[1;32m    191\u001b[0m     \u001b[0;31m# this just adds a more helpful error message if user happens to try an inspect _interpolation before evaluate\u001b[0m\u001b[0;34m\u001b[0m\u001b[0;34m\u001b[0m\u001b[0m\n\u001b[1;32m    192\u001b[0m     \u001b[0;34m@\u001b[0m\u001b[0mtl\u001b[0m\u001b[0;34m.\u001b[0m\u001b[0mdefault\u001b[0m\u001b[0;34m(\u001b[0m\u001b[0;34m'_interpolation'\u001b[0m\u001b[0;34m)\u001b[0m\u001b[0;34m\u001b[0m\u001b[0m\n\u001b[0;32m--> 193\u001b[0;31m     \u001b[0;32mdef\u001b[0m \u001b[0m_interpolation_default\u001b[0m\u001b[0;34m(\u001b[0m\u001b[0mself\u001b[0m\u001b[0;34m)\u001b[0m\u001b[0;34m:\u001b[0m\u001b[0;34m\u001b[0m\u001b[0m\n\u001b[0m\u001b[1;32m    194\u001b[0m         \u001b[0;32mraise\u001b[0m \u001b[0mtl\u001b[0m\u001b[0;34m.\u001b[0m\u001b[0mTraitError\u001b[0m\u001b[0;34m(\u001b[0m\u001b[0;34m'DataSource _interpolation property set during evaluate'\u001b[0m\u001b[0;34m)\u001b[0m\u001b[0;34m\u001b[0m\u001b[0m\n\u001b[1;32m    195\u001b[0m \u001b[0;34m\u001b[0m\u001b[0m\n",
      "\u001b[0;32m~/computing/repositories/geospatial/podpac/podpac/core/data/datasource.py\u001b[0m in \u001b[0;36m_set_native_coordinates\u001b[0;34m(self)\u001b[0m\n\u001b[1;32m    203\u001b[0m         \u001b[0mto\u001b[0m\u001b[0;31m \u001b[0m\u001b[0;31m`\u001b[0m\u001b[0mrequested_source_coordinates\u001b[0m\u001b[0;31m`\u001b[0m \u001b[0;32mwith\u001b[0m \u001b[0massociated\u001b[0m \u001b[0mindex\u001b[0m\u001b[0;31m \u001b[0m\u001b[0;31m`\u001b[0m\u001b[0mrequested_source_coordinates_index\u001b[0m\u001b[0;31m`\u001b[0m\u001b[0;34m.\u001b[0m\u001b[0;34m\u001b[0m\u001b[0m\n\u001b[1;32m    204\u001b[0m         \u001b[0mThe\u001b[0m \u001b[0mrequested\u001b[0m \u001b[0msouce\u001b[0m \u001b[0mcoordinates\u001b[0m \u001b[0;32mand\u001b[0m \u001b[0mindex\u001b[0m \u001b[0mare\u001b[0m \u001b[0mpassed\u001b[0m \u001b[0mto\u001b[0m\u001b[0;31m \u001b[0m\u001b[0;31m`\u001b[0m\u001b[0mget_data\u001b[0m\u001b[0;34m(\u001b[0m\u001b[0;34m)\u001b[0m\u001b[0;31m`\u001b[0m \u001b[0mreturning\u001b[0m \u001b[0mthe\u001b[0m \u001b[0msource\u001b[0m \u001b[0mdata\u001b[0m \u001b[0mat\u001b[0m\u001b[0;34m\u001b[0m\u001b[0m\n\u001b[0;32m--> 205\u001b[0;31m         \u001b[0mthe\u001b[0m \u001b[0mnative\u001b[0m \u001b[0mcoordinatesset\u001b[0m \u001b[0mto\u001b[0m\u001b[0;31m \u001b[0m\u001b[0;31m`\u001b[0m\u001b[0mrequested_source_data\u001b[0m\u001b[0;31m`\u001b[0m\u001b[0;34m.\u001b[0m\u001b[0;34m\u001b[0m\u001b[0m\n\u001b[0m\u001b[1;32m    206\u001b[0m         \u001b[0mFinally\u001b[0m\u001b[0;31m \u001b[0m\u001b[0;31m`\u001b[0m\u001b[0mrequested_source_data\u001b[0m\u001b[0;31m`\u001b[0m \u001b[0;32mis\u001b[0m \u001b[0minterpolated\u001b[0m \u001b[0musing\u001b[0m \u001b[0mthe\u001b[0m\u001b[0;31m \u001b[0m\u001b[0;31m`\u001b[0m\u001b[0minterpolate\u001b[0m\u001b[0;31m`\u001b[0m \u001b[0mmethod\u001b[0m \u001b[0;32mand\u001b[0m \u001b[0mset\u001b[0m \u001b[0mto\u001b[0m\u001b[0;34m\u001b[0m\u001b[0m\n\u001b[1;32m    207\u001b[0m         \u001b[0mthe\u001b[0m\u001b[0;31m \u001b[0m\u001b[0;31m`\u001b[0m\u001b[0moutput\u001b[0m\u001b[0;31m`\u001b[0m \u001b[0mattribute\u001b[0m \u001b[0mof\u001b[0m \u001b[0mthe\u001b[0m \u001b[0mnode\u001b[0m\u001b[0;34m.\u001b[0m\u001b[0;34m\u001b[0m\u001b[0m\n",
      "\u001b[0;32m~/computing/repositories/geospatial/podpac/podpac/core/data/types.py\u001b[0m in \u001b[0;36mget_native_coordinates\u001b[0;34m(self)\u001b[0m\n\u001b[1;32m    243\u001b[0m         raise NotImplementedError(\"DAP has no mechanism for creating coordinates\" +\n\u001b[1;32m    244\u001b[0m                                   \u001b[0;34m\", so this is left up to child class \"\u001b[0m \u001b[0;34m+\u001b[0m\u001b[0;34m\u001b[0m\u001b[0m\n\u001b[0;32m--> 245\u001b[0;31m                                   \"implementations.\")\n\u001b[0m\u001b[1;32m    246\u001b[0m \u001b[0;34m\u001b[0m\u001b[0m\n\u001b[1;32m    247\u001b[0m     \u001b[0;34m@\u001b[0m\u001b[0mcommon_doc\u001b[0m\u001b[0;34m(\u001b[0m\u001b[0mCOMMON_DATA_DOC\u001b[0m\u001b[0;34m)\u001b[0m\u001b[0;34m\u001b[0m\u001b[0m\n",
      "\u001b[0;31mNotImplementedError\u001b[0m: DAP has no mechanism for creating coordinates, so this is left up to child class implementations."
     ]
    }
   ],
   "source": [
    "# pydap\n",
    "source = 'http://demo.opendap.org'\n",
    "username = 'username'\n",
    "password = 'password'\n",
    "datakey = 'key'\n",
    "        \n",
    "data = np.random.rand(11, 11)   # mocked from pydap endpoint\n",
    "coordinates = Coordinates([clinspace(-25, 25, 11), clinspace(-25, 25, 11)], ['lat', 'lon'])\n",
    "\n",
    "node = PyDAP(source=source, datakey=datakey)\n",
    "\n",
    "# TraitError\n",
    "# node.username = 5"
   ]
  },
  {
   "cell_type": "code",
   "execution_count": 11,
   "metadata": {},
   "outputs": [],
   "source": [
    "node = MockPyDAP()\n",
    "\n",
    "# No Trait error\n",
    "# node.username = 5\n",
    "\n",
    "# TraitError\n",
    "# node.dataset = 5"
   ]
  },
  {
   "cell_type": "code",
   "execution_count": 66,
   "metadata": {},
   "outputs": [
    {
     "data": {
      "text/plain": [
       "<xarray.UnitsDataArray (lat: 11, lon: 11)>\n",
       "array([[0.550959, 0.088087, 0.854651, 0.126684, 0.08414 , 0.679684, 0.751179,\n",
       "        0.931853, 0.754455, 0.418046, 0.557923],\n",
       "       [0.854425, 0.541288, 0.692975, 0.112464, 0.391737, 0.342459, 0.334715,\n",
       "        0.72977 , 0.314461, 0.71231 , 0.749628],\n",
       "       [0.535087, 0.53262 , 0.804463, 0.710268, 0.733032, 0.244634, 0.858245,\n",
       "        0.139174, 0.697403, 0.875198, 0.624951],\n",
       "       [0.697544, 0.051948, 0.782099, 0.863937, 0.370379, 0.997704, 0.561767,\n",
       "        0.724772, 0.480287, 0.689945, 0.271853],\n",
       "       [0.54252 , 0.394893, 0.728847, 0.078384, 0.817929, 0.590441, 0.746119,\n",
       "        0.878268, 0.272427, 0.213115, 0.428306],\n",
       "       [0.288506, 0.821741, 0.166852, 0.464389, 0.900975, 0.400739, 0.376262,\n",
       "        0.215968, 0.551373, 0.420207, 0.041245],\n",
       "       [0.338914, 0.093915, 0.787068, 0.519536, 0.266674, 0.284727, 0.728833,\n",
       "        0.317389, 0.722245, 0.143699, 0.851014],\n",
       "       [0.621015, 0.220074, 0.088205, 0.55843 , 0.011767, 0.907444, 0.802339,\n",
       "        0.740988, 0.837781, 0.464814, 0.055389],\n",
       "       [0.863787, 0.028599, 0.057546, 0.158999, 0.444471, 0.1088  , 0.3554  ,\n",
       "        0.283987, 0.372875, 0.18138 , 0.408235],\n",
       "       [0.105258, 0.460333, 0.313964, 0.463711, 0.622047, 0.060309, 0.664296,\n",
       "        0.213977, 0.817885, 0.408559, 0.763537],\n",
       "       [0.067104, 0.258594, 0.879046, 0.72656 , 0.994817, 0.140011, 0.694208,\n",
       "        0.442025, 0.70027 , 0.950324, 0.988799]])\n",
       "Coordinates:\n",
       "  * lat      (lat) float64 -25.0 -20.0 -15.0 -10.0 -5.0 0.0 5.0 10.0 15.0 ...\n",
       "  * lon      (lon) float64 -25.0 -20.0 -15.0 -10.0 -5.0 0.0 5.0 10.0 15.0 ...\n",
       "Attributes:\n",
       "    layer_style:  <podpac.core.node.Style object at 0x1c1557f2b0>\n",
       "    params:       {'interpolation': 'nearest'}"
      ]
     },
     "execution_count": 66,
     "metadata": {},
     "output_type": "execute_result"
    }
   ],
   "source": [
    "def open_url(url, session=None):\n",
    "    base = pydap.model.BaseType(name='key', data=np.random.rand(11, 11))\n",
    "    dataset = pydap.model.DatasetType(name='dataset')\n",
    "    dataset['key'] = base\n",
    "    return dataset\n",
    "\n",
    "    return output\n",
    "\n",
    "pydap.client.open_url = open_url\n",
    "\n",
    "node = PyDAP(source=source,\n",
    "                 datakey=datakey,\n",
    "                 native_coordinates=coordinates)\n",
    "output = node.execute(coordinates)\n",
    "output"
   ]
  },
  {
   "cell_type": "code",
   "execution_count": 63,
   "metadata": {},
   "outputs": [
    {
     "data": {
      "text/plain": [
       "['key']"
      ]
     },
     "execution_count": 63,
     "metadata": {},
     "output_type": "execute_result"
    }
   ],
   "source": [
    "def open_url(url, session=None):\n",
    "    base = pydap.model.BaseType(name='key', data=np.array([1, 2, 3]))\n",
    "    dataset = pydap.model.DatasetType(name='dataset')\n",
    "    dataset['key'] = base\n",
    "    return dataset\n",
    "\n",
    "pydap.client.open_url = open_url\n",
    "dataset = pydap.client.open_url(source)"
   ]
  },
  {
   "cell_type": "markdown",
   "metadata": {},
   "source": [
    "## Rasterio"
   ]
  },
  {
   "cell_type": "code",
   "execution_count": 74,
   "metadata": {},
   "outputs": [],
   "source": [
    "# rasterio\n",
    "\n",
    "source = 'RGB.byte.tif'\n",
    "band = 1\n",
    "\n",
    "node = RasterioSource(source=source, band=band)\n",
    "# TraitError\n",
    "# node.username = 5"
   ]
  },
  {
   "cell_type": "code",
   "execution_count": 107,
   "metadata": {},
   "outputs": [
    {
     "ename": "ValueError",
     "evalue": "operands could not be broadcast together with shapes (3,) (0,) ",
     "output_type": "error",
     "traceback": [
      "\u001b[0;31m---------------------------------------------------------------------------\u001b[0m",
      "\u001b[0;31mValueError\u001b[0m                                Traceback (most recent call last)",
      "\u001b[0;32m<ipython-input-107-0eca3a570eaf>\u001b[0m in \u001b[0;36m<module>\u001b[0;34m()\u001b[0m\n\u001b[1;32m      8\u001b[0m \u001b[0mnode\u001b[0m\u001b[0;34m.\u001b[0m\u001b[0mband_descriptions\u001b[0m\u001b[0;34m\u001b[0m\u001b[0m\n\u001b[1;32m      9\u001b[0m \u001b[0mnode\u001b[0m\u001b[0;34m.\u001b[0m\u001b[0mband_keys\u001b[0m\u001b[0;34m\u001b[0m\u001b[0m\n\u001b[0;32m---> 10\u001b[0;31m \u001b[0mnode\u001b[0m\u001b[0;34m.\u001b[0m\u001b[0mget_band_numbers\u001b[0m\u001b[0;34m(\u001b[0m\u001b[0;34m'STATISTICS_MAXIMUM'\u001b[0m\u001b[0;34m,\u001b[0m \u001b[0;34m[\u001b[0m\u001b[0;36m255\u001b[0m\u001b[0;34m]\u001b[0m\u001b[0;34m)\u001b[0m\u001b[0;34m\u001b[0m\u001b[0m\n\u001b[0m",
      "\u001b[0;32m~/computing/repositories/geospatial/podpac/podpac/core/data/type.py\u001b[0m in \u001b[0;36mget_band_numbers\u001b[0;34m(self, key, value)\u001b[0m\n\u001b[1;32m    406\u001b[0m             \u001b[0mKey\u001b[0m \u001b[0mpresent\u001b[0m \u001b[0;32min\u001b[0m \u001b[0mthe\u001b[0m \u001b[0mmetadata\u001b[0m \u001b[0mof\u001b[0m \u001b[0mthe\u001b[0m \u001b[0mband\u001b[0m\u001b[0;34m.\u001b[0m\u001b[0;34m\u001b[0m\u001b[0m\n\u001b[1;32m    407\u001b[0m         \u001b[0mvalue\u001b[0m \u001b[0;34m:\u001b[0m \u001b[0mstr\u001b[0m\u001b[0;34m\u001b[0m\u001b[0m\n\u001b[0;32m--> 408\u001b[0;31m             \u001b[0mValue\u001b[0m \u001b[0mof\u001b[0m \u001b[0mthe\u001b[0m \u001b[0mkey\u001b[0m \u001b[0mthat\u001b[0m \u001b[0mshould\u001b[0m \u001b[0mbe\u001b[0m \u001b[0mreturned\u001b[0m\u001b[0;34m\u001b[0m\u001b[0m\n\u001b[0m\u001b[1;32m    409\u001b[0m \u001b[0;34m\u001b[0m\u001b[0m\n\u001b[1;32m    410\u001b[0m         \u001b[0mReturns\u001b[0m\u001b[0;34m\u001b[0m\u001b[0m\n",
      "\u001b[0;31mValueError\u001b[0m: operands could not be broadcast together with shapes (3,) (0,) "
     ]
    }
   ],
   "source": [
    "node = RasterioSource(source=source)\n",
    "native_coordinates = node.get_native_coordinates()\n",
    "len(native_coordinates['lat'])\n",
    "\n",
    "output = node.execute(native_coordinates)\n",
    "output\n",
    "\n",
    "node.band_descriptions\n",
    "node.band_keys\n",
    "node.get_band_numbers('STATISTICS_MAXIMUM', [255])"
   ]
  },
  {
   "cell_type": "code",
   "execution_count": 45,
   "metadata": {},
   "outputs": [],
   "source": [
    "# s3 source\n",
    "s = S3Source(source='s3://bucket.aws.com/file', return_type='file_handle', s3_bucket='bucket')\n",
    "# s.s3_data"
   ]
  },
  {
   "cell_type": "markdown",
   "metadata": {},
   "source": [
    "## WCS"
   ]
  },
  {
   "cell_type": "code",
   "execution_count": 19,
   "metadata": {},
   "outputs": [],
   "source": [
    "import urllib3"
   ]
  },
  {
   "cell_type": "code",
   "execution_count": 43,
   "metadata": {},
   "outputs": [],
   "source": [
    "# wcs\n",
    "r = requests.Response()\n",
    "r.status_code = 200\n",
    "r._content = bytes('test', 'utf-8')"
   ]
  },
  {
   "cell_type": "code",
   "execution_count": 44,
   "metadata": {},
   "outputs": [
    {
     "data": {
      "text/plain": [
       "'test'"
      ]
     },
     "execution_count": 44,
     "metadata": {},
     "output_type": "execute_result"
    }
   ],
   "source": [
    "r.text.lower()"
   ]
  },
  {
   "cell_type": "code",
   "execution_count": 64,
   "metadata": {},
   "outputs": [],
   "source": [
    "coordinate = Coordinate(lat=(0,10,10), time=(0,10,10))"
   ]
  },
  {
   "cell_type": "code",
   "execution_count": 66,
   "metadata": {},
   "outputs": [
    {
     "data": {
      "text/plain": [
       "array([ 0.        ,  1.11111111,  2.22222222,  3.33333333,  4.44444444,\n",
       "        5.55555556,  6.66666667,  7.77777778,  8.88888889, 10.        ])"
      ]
     },
     "execution_count": 66,
     "metadata": {},
     "output_type": "execute_result"
    }
   ],
   "source": [
    "coordinate['time'].coordinates"
   ]
  },
  {
   "cell_type": "code",
   "execution_count": 54,
   "metadata": {},
   "outputs": [],
   "source": [
    "a = np.array(['2006-06-14T16:00:00'], np.datetime64)"
   ]
  },
  {
   "cell_type": "code",
   "execution_count": 57,
   "metadata": {},
   "outputs": [],
   "source": [
    "d = a[0]"
   ]
  },
  {
   "cell_type": "code",
   "execution_count": 59,
   "metadata": {},
   "outputs": [],
   "source": [
    "import datetime"
   ]
  },
  {
   "cell_type": "code",
   "execution_count": null,
   "metadata": {},
   "outputs": [],
   "source": []
  }
 ],
 "metadata": {
  "kernelspec": {
   "display_name": "Python 3",
   "language": "python",
   "name": "python3"
  },
  "language_info": {
   "codemirror_mode": {
    "name": "ipython",
    "version": 3
   },
   "file_extension": ".py",
   "mimetype": "text/x-python",
   "name": "python",
   "nbconvert_exporter": "python",
   "pygments_lexer": "ipython3",
   "version": "3.6.5"
  }
 },
 "nbformat": 4,
 "nbformat_minor": 2
}
