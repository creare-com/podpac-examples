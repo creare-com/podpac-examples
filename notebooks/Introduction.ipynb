{
 "cells": [
  {
   "cell_type": "code",
   "execution_count": 1,
   "metadata": {
    "slideshow": {
     "slide_type": "skip"
    }
   },
   "outputs": [
    {
     "name": "stdout",
     "output_type": "stream",
     "text": [
      "Populating the interactive namespace from numpy and matplotlib\n"
     ]
    }
   ],
   "source": [
    "# For interactive plots, comment the next line\n",
    "%pylab inline\n",
    "# For interactive plots, uncomment the next line\n",
    "# %pylab ipympl\n",
    "import warnings\n",
    "warnings.filterwarnings('ignore')"
   ]
  },
  {
   "cell_type": "markdown",
   "metadata": {
    "slideshow": {
     "slide_type": "slide"
    }
   },
   "source": [
    "# Introduction\n",
    "For instructions on using Jupyter notebooks, see the [README.md](../../README.md) file. "
   ]
  },
  {
   "cell_type": "markdown",
   "metadata": {
    "slideshow": {
     "slide_type": "slide"
    }
   },
   "source": [
    "This notebook describes some Python basics, along with specifics about the PODPAC library. Specifically we will go over:\n",
    "\n",
    "* How to import libraries in Python\n",
    "* The structure of the PODPAC library\n",
    "* Basic Python language features such as indexing and class inheritence\n",
    "* Creating a MATLAB-like environment in Python using the `Numpy` and `Matplotlib` libraries"
   ]
  },
  {
   "cell_type": "markdown",
   "metadata": {
    "slideshow": {
     "slide_type": "slide"
    }
   },
   "source": [
    "# Importing modules\n",
    "* Unlike MATLAB, Python libraries need to be `imported` before they can be used\n",
    "* Imported libraries usually have a namespace\n",
    "* Portions of libraries, can be imported\n",
    "\n",
    "## Examples"
   ]
  },
  {
   "cell_type": "code",
   "execution_count": 2,
   "metadata": {},
   "outputs": [],
   "source": [
    "import podpac                     # Import PODPAC with the namespace 'podpac'\n",
    "import podpac as pc               # Import PODPAC with the namespace 'pc'\n",
    "from podpac import Coordinates    # Import Coordinates from PODPAC into the main namespace\n",
    "\n",
    "# The following is not generally recommended because it is difficult to know where functions/classes/etc\n",
    "# come from without the namespace (makes code harder to read). Also, if importing multiple packages using\n",
    "# this approach, any functions/classes/etc that have the same name will be over-written by the last \n",
    "# imported package. \n",
    "from podpac import *              # Import everything made available in the public API"
   ]
  },
  {
   "cell_type": "markdown",
   "metadata": {
    "slideshow": {
     "slide_type": "slide"
    }
   },
   "source": [
    "# PODPAC Library Structure\n",
    "PODPAC is composed out of multiple sub-modules/sub-libraries. The major ones, from a user's perspective are shown below. \n",
    "<img src='Images/podpac-user-api.png' style='width:80%; margin-left:auto;margin-right:auto;' />\n",
    "\n",
    "\n",
    "We can examine what's in the PODPAC library by using the `dir` function"
   ]
  },
  {
   "cell_type": "code",
   "execution_count": 3,
   "metadata": {
    "slideshow": {
     "slide_type": "subslide"
    }
   },
   "outputs": [
    {
     "data": {
      "text/plain": [
       "['Coordinates',\n",
       " 'Node',\n",
       " 'NodeException',\n",
       " '__builtins__',\n",
       " '__cached__',\n",
       " '__doc__',\n",
       " '__file__',\n",
       " '__loader__',\n",
       " '__name__',\n",
       " '__package__',\n",
       " '__path__',\n",
       " '__spec__',\n",
       " '__version__',\n",
       " 'algorithm',\n",
       " 'authentication',\n",
       " 'clinspace',\n",
       " 'compositor',\n",
       " 'coordinates',\n",
       " 'core',\n",
       " 'crange',\n",
       " 'data',\n",
       " 'datalib',\n",
       " 'interpolators',\n",
       " 'pipeline',\n",
       " 'settings',\n",
       " 'version',\n",
       " 'version_info']"
      ]
     },
     "execution_count": 3,
     "metadata": {},
     "output_type": "execute_result"
    }
   ],
   "source": [
    "dir(podpac)"
   ]
  },
  {
   "cell_type": "markdown",
   "metadata": {
    "slideshow": {
     "slide_type": "subslide"
    }
   },
   "source": [
    "Anything that starts with the \"dunderscore\" `__<attr>__` is an internal Python method and can be ignored. \n",
    "\n",
    "In PODPAC, the top-level classes and functions are frequently used and include:\n",
    "* `Coordinates`: class for defining coordinates\n",
    "* `Node`: Base class for defining PODPAC compute Pipeline\n",
    "* `NodeException`: The error type thrown by Nodes\n",
    "* `clinspace`: A helper function used to create uniformly spaced coordinates based on the number of points\n",
    "* `crange`: Another helper function used to create uniformly spaced coordinates based on step size\n",
    "* `settings`: A module with various settings that define caching behavior, login credentials, etc.\n",
    "* `version_info`: Pyton dictionary giving the version of the PODPAC library"
   ]
  },
  {
   "cell_type": "markdown",
   "metadata": {
    "slideshow": {
     "slide_type": "subslide"
    }
   },
   "source": [
    "The top-level modules or sub-packages (or sub libraries) include: \n",
    "* `algorithm`: here you can find generic `Algorithm` nodes to do different types of computations\n",
    "* `authentication`: this contains utilities to help authenticate users to download data\n",
    "* `compositor`: here you can find nodes that help to combine multiple data sources into a single node\n",
    "* `coordinates`: this module contains additional utilities related to creating coordinates\n",
    "* `core`: this is where the core library is implemented, and follows the directory structure of the code\n",
    "* `data`: here you can find generic `DataSource` nodes for reading and interpreting  data sources\n",
    "* `datalib`: here you can find domain-specific `DataSource` nodes for reading data from specific instruments, studies, and programs\n",
    "* `interpolators`: this contains classes for dealing with automatic interpolation\n",
    "* `pipeline`: this contains generic `Pipeline` nodes which can be used to share and re-create PODPAC processing routines\n",
    "\n",
    "Diving into specifically what's available in some of these submodules"
   ]
  },
  {
   "cell_type": "code",
   "execution_count": 4,
   "metadata": {
    "slideshow": {
     "slide_type": "subslide"
    }
   },
   "outputs": [
    {
     "data": {
      "text/plain": [
       "['Algorithm',\n",
       " 'Arange',\n",
       " 'Arithmetic',\n",
       " 'Convolution',\n",
       " 'CoordData',\n",
       " 'Count',\n",
       " 'DayOfYear',\n",
       " 'ExpandCoordinates',\n",
       " 'GroupReduce',\n",
       " 'Kurtosis',\n",
       " 'Max',\n",
       " 'Mean',\n",
       " 'Median',\n",
       " 'Min',\n",
       " 'Reduce',\n",
       " 'Reduce2',\n",
       " 'SelectCoordinates',\n",
       " 'SinCoords',\n",
       " 'Skew',\n",
       " 'SpatialConvolution',\n",
       " 'StandardDeviation',\n",
       " 'Sum',\n",
       " 'TimeConvolution',\n",
       " 'Variance',\n",
       " '__builtins__',\n",
       " '__cached__',\n",
       " '__doc__',\n",
       " '__file__',\n",
       " '__loader__',\n",
       " '__name__',\n",
       " '__package__',\n",
       " '__spec__']"
      ]
     },
     "execution_count": 4,
     "metadata": {},
     "output_type": "execute_result"
    }
   ],
   "source": [
    "# Generic Algorithm nodes\n",
    "dir(podpac.algorithm)"
   ]
  },
  {
   "cell_type": "code",
   "execution_count": 5,
   "metadata": {
    "slideshow": {
     "slide_type": "subslide"
    }
   },
   "outputs": [
    {
     "data": {
      "text/plain": [
       "['Array',\n",
       " 'CSV',\n",
       " 'DataSource',\n",
       " 'H5PY',\n",
       " 'INTERPOLATION_DEFAULT',\n",
       " 'INTERPOLATION_METHODS',\n",
       " 'INTERPOLATION_SHORTCUTS',\n",
       " 'Interpolation',\n",
       " 'InterpolationException',\n",
       " 'PyDAP',\n",
       " 'Rasterio',\n",
       " 'ReprojectedSource',\n",
       " 'S3',\n",
       " 'WCS',\n",
       " '__builtins__',\n",
       " '__cached__',\n",
       " '__doc__',\n",
       " '__file__',\n",
       " '__loader__',\n",
       " '__name__',\n",
       " '__package__',\n",
       " '__spec__',\n",
       " 'interpolation_trait']"
      ]
     },
     "execution_count": 5,
     "metadata": {},
     "output_type": "execute_result"
    }
   ],
   "source": [
    "# Generic DataSource nodes\n",
    "dir(podpac.data)"
   ]
  },
  {
   "cell_type": "code",
   "execution_count": 6,
   "metadata": {
    "slideshow": {
     "slide_type": "subslide"
    }
   },
   "outputs": [
    {
     "data": {
      "text/plain": [
       "['SMAP',\n",
       " 'SMAPBestAvailable',\n",
       " 'SMAPPorosity',\n",
       " 'SMAPProperties',\n",
       " 'SMAPSource',\n",
       " 'SMAPWilt',\n",
       " 'SMAP_PRODUCT_MAP',\n",
       " '__builtins__',\n",
       " '__cached__',\n",
       " '__doc__',\n",
       " '__file__',\n",
       " '__loader__',\n",
       " '__name__',\n",
       " '__package__',\n",
       " '__path__',\n",
       " '__spec__',\n",
       " 'smap']"
      ]
     },
     "execution_count": 6,
     "metadata": {},
     "output_type": "execute_result"
    }
   ],
   "source": [
    "# Specific datasources\n",
    "dir(podpac.datalib)"
   ]
  },
  {
   "cell_type": "code",
   "execution_count": 7,
   "metadata": {
    "slideshow": {
     "slide_type": "skip"
    }
   },
   "outputs": [],
   "source": [
    "# Nothing here yet\n",
    "# dir(podpac.alglib)"
   ]
  },
  {
   "cell_type": "markdown",
   "metadata": {
    "slideshow": {
     "slide_type": "slide"
    }
   },
   "source": [
    "# Basic Python languages features\n",
    "* Python uses zero indexing"
   ]
  },
  {
   "cell_type": "code",
   "execution_count": 8,
   "metadata": {},
   "outputs": [
    {
     "data": {
      "text/plain": [
       "1"
      ]
     },
     "execution_count": 8,
     "metadata": {},
     "output_type": "execute_result"
    }
   ],
   "source": [
    "alist = [1, 2, 3, 4]\n",
    "alist[0] "
   ]
  },
  {
   "cell_type": "markdown",
   "metadata": {
    "slideshow": {
     "slide_type": "slide"
    }
   },
   "source": [
    "* Python is typeless"
   ]
  },
  {
   "cell_type": "code",
   "execution_count": 9,
   "metadata": {},
   "outputs": [],
   "source": [
    "mytype = 'is now a string'  # variable mytype is a string\n",
    "mytype = 154147             # variable mytype is now an integer"
   ]
  },
  {
   "cell_type": "markdown",
   "metadata": {
    "slideshow": {
     "slide_type": "slide"
    }
   },
   "source": [
    "* Python is object oriented, supporting class inheritence"
   ]
  },
  {
   "cell_type": "code",
   "execution_count": 10,
   "metadata": {},
   "outputs": [
    {
     "name": "stdout",
     "output_type": "stream",
     "text": [
      "The child has the parent's attributes (and methods):\n",
      "\t my_child_class.my_class_integer= 1\n",
      "\t my_child_class.my_class_list= [1]\n",
      "\t my_child_class.my_class_instance_list= None\n",
      "\t my_child_class.my_child_class_str= A string\n"
     ]
    }
   ],
   "source": [
    "# define a class\n",
    "class MyClass(object):  # Inherits from standard Python object (new-style classes)\n",
    "    my_class_integer = 0  # This is a class attributes, it will be copied for new instances\n",
    "    my_class_list = [1]   # This is a class attributes, it will be shared amongst instances\n",
    "    \n",
    "    # This is the class constructor\n",
    "    def __init__(self, my_class_instance_list=None):\n",
    "        self.my_class_instance_list = my_class_instance_list # This is an instance variable\n",
    "\n",
    "# Define a child class that inherits from MyClass\n",
    "class MyChildClass(MyClass): \n",
    "    my_child_class_str = 'A string'  # Add a new attribute\n",
    "    my_class_integer = 1  # Overwrite the value from the base class\n",
    "    \n",
    "# Create an instance of each class\n",
    "my_class = MyClass()\n",
    "my_child_class = MyChildClass()\n",
    "\n",
    "# Demonstrate the inheritence\n",
    "print(\"The child has the parent's attributes (and methods):\")\n",
    "print(\"\\t my_child_class.my_class_integer=\", my_child_class.my_class_integer)\n",
    "print(\"\\t my_child_class.my_class_list=\", my_child_class.my_class_list)\n",
    "print(\"\\t my_child_class.my_class_instance_list=\", my_child_class.my_class_instance_list)\n",
    "print(\"\\t my_child_class.my_child_class_str=\", my_child_class.my_child_class_str)"
   ]
  },
  {
   "cell_type": "markdown",
   "metadata": {
    "slideshow": {
     "slide_type": "slide"
    }
   },
   "source": [
    "* Python passes by reference, sometimes...\n",
    "    * Basic types are copied (int, float, str)\n",
    "    * Container types are passed my reference (list, tuple, dict, object)\n",
    "    \n",
    "To demonstrate this, we create two instances of our class defined above and only change values in one instances. The same behaviour can be observed for functions."
   ]
  },
  {
   "cell_type": "code",
   "execution_count": 11,
   "metadata": {
    "slideshow": {
     "slide_type": "skip"
    }
   },
   "outputs": [],
   "source": [
    "def print_attrs(MyClass, MyChildClass, my_class1, my_class2):\n",
    "    print('\\tMyClass.my_class_list: \\t\\t ', MyClass.my_class_list)\n",
    "    print('\\tMyChildClass.my_class_list: \\t ', MyChildClass.my_class_list)\n",
    "    print('\\tmy_class1.my_class_list: \\t ', my_class1.my_class_list)\n",
    "    print('\\tmy_class2.my_class_list: \\t ', my_class2.my_class_list)\n",
    "    print('\\tMyChildClass.my_class_integer:\\t', MyChildClass.my_class_integer)\n",
    "    print('\\tmy_class1.my_class_integer:\\t', my_class1.my_class_integer)\n",
    "    print('\\tmy_class2.my_class_integer:\\t', my_class2.my_class_integer)\n",
    "    print('\\tMyChildClass.my_child_class_str:', MyChildClass.my_child_class_str)\n",
    "    print('\\tmy_class1.my_child_class_str:\\t', my_class1.my_child_class_str)\n",
    "    print('\\tmy_class2.my_child_class_str:\\t', my_class2.my_child_class_str)\n",
    "    print('\\tmy_class1.my_class_instance_list:', my_class1.my_class_instance_list)\n",
    "    print('\\tmy_class2.my_class_instance_list:', my_class2.my_class_instance_list)"
   ]
  },
  {
   "cell_type": "code",
   "execution_count": 12,
   "metadata": {
    "slideshow": {
     "slide_type": "slide"
    }
   },
   "outputs": [
    {
     "name": "stdout",
     "output_type": "stream",
     "text": [
      "Before modifying values in my_class1\n",
      "\tMyClass.my_class_list: \t\t  [1]\n",
      "\tMyChildClass.my_class_list: \t  [1]\n",
      "\tmy_class1.my_class_list: \t  [1]\n",
      "\tmy_class2.my_class_list: \t  [1]\n",
      "\tMyChildClass.my_class_integer:\t 1\n",
      "\tmy_class1.my_class_integer:\t 1\n",
      "\tmy_class2.my_class_integer:\t 1\n",
      "\tMyChildClass.my_child_class_str: A string\n",
      "\tmy_class1.my_child_class_str:\t A string\n",
      "\tmy_class2.my_child_class_str:\t A string\n",
      "\tmy_class1.my_class_instance_list: [4444]\n",
      "\tmy_class2.my_class_instance_list: [4444]\n",
      "After modifying values in my_class1\n",
      "\tMyClass.my_class_list: \t\t  [1001]\n",
      "\tMyChildClass.my_class_list: \t  [1001]\n",
      "\tmy_class1.my_class_list: \t  [1001]\n",
      "\tmy_class2.my_class_list: \t  [1001]\n",
      "\tMyChildClass.my_class_integer:\t 1\n",
      "\tmy_class1.my_class_integer:\t 1001\n",
      "\tmy_class2.my_class_integer:\t 1\n",
      "\tMyChildClass.my_child_class_str: A string\n",
      "\tmy_class1.my_child_class_str:\t A stringmodified \n",
      "\tmy_class2.my_child_class_str:\t A string\n",
      "\tmy_class1.my_class_instance_list: [5444]\n",
      "\tmy_class2.my_class_instance_list: [4444]\n"
     ]
    }
   ],
   "source": [
    "# Create two instances of the same class. Class attributes should be shared. Instance variables are copied. \n",
    "my_class1 = MyChildClass(my_class_instance_list=[4444])\n",
    "my_class2 = MyChildClass(my_class_instance_list=[4444])\n",
    "print('Before modifying values in my_class1')\n",
    "print_attrs(MyClass, MyChildClass, my_class1, my_class2)\n",
    "\n",
    "my_class1.my_class_list[0] += 1000; my_class1.my_class_instance_list[0] += 1000\n",
    "my_class1.my_class_integer += 1000; my_class1.my_child_class_str += \"modified \"\n",
    "\n",
    "print('After modifying values in my_class1')\n",
    "print_attrs(MyClass, MyChildClass, my_class1, my_class2)"
   ]
  },
  {
   "cell_type": "markdown",
   "metadata": {
    "slideshow": {
     "slide_type": "slide"
    }
   },
   "source": [
    "# Creating a MATLAB-like environment in Python using the Numpy and Matplotlib libraries\n",
    "Unlike MATLAB, the standard Python library does not come with array-handling and plotting capabilities. \n",
    "\n",
    "* For array-handling, the `Numpy` Python package can be used, and is generally imported as follows:"
   ]
  },
  {
   "cell_type": "code",
   "execution_count": 13,
   "metadata": {},
   "outputs": [],
   "source": [
    "import numpy as np"
   ]
  },
  {
   "cell_type": "markdown",
   "metadata": {},
   "source": [
    "* For plotting, the `Matplotlib` Python package can be used, and is generally imported as follows:"
   ]
  },
  {
   "cell_type": "code",
   "execution_count": 14,
   "metadata": {},
   "outputs": [],
   "source": [
    "import matplotlib.pyplot as plt"
   ]
  },
  {
   "cell_type": "markdown",
   "metadata": {},
   "source": [
    "* [Numpy for Matlab users](https://docs.scipy.org/doc/numpy-1.15.0/user/numpy-for-matlab-users.html) is a useful reference for new users.\n",
    "* `Matplotlib` plotting routines use nearly the same interface as MATLAB plotting routines.\n",
    "* Both `Numpy` and `Matplotlib` can be imported as follows:"
   ]
  },
  {
   "cell_type": "code",
   "execution_count": 15,
   "metadata": {},
   "outputs": [],
   "source": [
    "from matplotlib.pylab import *"
   ]
  },
  {
   "cell_type": "markdown",
   "metadata": {
    "slideshow": {
     "slide_type": "subslide"
    }
   },
   "source": [
    "* When using JupyterLab or an IPython console, the \"IPython magic function\" `%pylab` can be used."
   ]
  },
  {
   "cell_type": "code",
   "execution_count": 16,
   "metadata": {},
   "outputs": [
    {
     "name": "stdout",
     "output_type": "stream",
     "text": [
      "Using matplotlib backend: Qt5Agg\n",
      "Populating the interactive namespace from numpy and matplotlib\n"
     ]
    }
   ],
   "source": [
    "%pylab"
   ]
  },
  {
   "cell_type": "markdown",
   "metadata": {},
   "source": [
    "* This magic function, when invoked, can be instructed to use different plotting \"Backends\", and that affects how plots are displayed\n",
    "```python \n",
    "%pylab  # nothing specified will default to creating a new window for plots\n",
    "%pylab inline  # this will create images (non-interactive) inside the console or JupyterLab notebook\n",
    "%pylab ipympl  # thiw will create interactive plots inside JupyterLab notebooks\n",
    "```"
   ]
  }
 ],
 "metadata": {
  "celltoolbar": "Slideshow",
  "kernelspec": {
   "display_name": "Python 3",
   "language": "python",
   "name": "python3"
  },
  "language_info": {
   "codemirror_mode": {
    "name": "ipython",
    "version": 3
   },
   "file_extension": ".py",
   "mimetype": "text/x-python",
   "name": "python",
   "nbconvert_exporter": "python",
   "pygments_lexer": "ipython3",
   "version": "3.6.3"
  }
 },
 "nbformat": 4,
 "nbformat_minor": 2
}
