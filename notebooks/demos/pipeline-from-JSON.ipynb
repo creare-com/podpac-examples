{
 "cells": [
  {
   "cell_type": "code",
   "execution_count": 1,
   "metadata": {
    "slideshow": {
     "slide_type": "skip"
    }
   },
   "outputs": [
    {
     "name": "stdout",
     "output_type": "stream",
     "text": [
      "Populating the interactive namespace from numpy and matplotlib\n"
     ]
    }
   ],
   "source": [
    "# Set up interactive plotting using matplotlib, and load numpy\n",
    "# %pylab ipympl\n",
    "%pylab inline\n",
    "import warnings\n",
    "warnings.filterwarnings('ignore')"
   ]
  },
  {
   "cell_type": "markdown",
   "metadata": {
    "slideshow": {
     "slide_type": "slide"
    }
   },
   "source": [
    "# Introduction\n",
    "\n",
    "This notebook demonstrates how to load a pipeline from a file."
   ]
  },
  {
   "cell_type": "markdown",
   "metadata": {
    "slideshow": {
     "slide_type": "subslide"
    }
   },
   "source": [
    "## Setup\n",
    "\n",
    "Make sure you have PODPAC installed with the **datatype** optional dependencies:\n",
    "\n",
    "```\n",
    "$ pip install podpac[datatype]\n",
    "```"
   ]
  },
  {
   "cell_type": "markdown",
   "metadata": {
    "slideshow": {
     "slide_type": "slide"
    }
   },
   "source": [
    "# 1: Set up and execute pipeline\n",
    "## 1.0: Define the pipeline json"
   ]
  },
  {
   "cell_type": "code",
   "execution_count": 2,
   "metadata": {
    "slideshow": {
     "slide_type": "subslide"
    }
   },
   "outputs": [],
   "source": [
    "import ipywidgets as widgets\n",
    "import podpac\n",
    "import podpac.datalib.gfs "
   ]
  },
  {
   "cell_type": "code",
   "execution_count": 3,
   "metadata": {
    "slideshow": {
     "slide_type": "subslide"
    }
   },
   "outputs": [
    {
     "data": {
      "application/vnd.jupyter.widget-view+json": {
       "model_id": "3e77a507f6764eaf81f295aa87b0804d",
       "version_major": 2,
       "version_minor": 0
      },
      "text/plain": [
       "Textarea(value='\\n{\\n    \"GFSSource\": {\\n        \"node\": \"datalib.gfs.GFSSource\",\\n        \"attrs\": {\\n       …"
      ]
     },
     "metadata": {},
     "output_type": "display_data"
    }
   ],
   "source": [
    "value='''\n",
    "{\n",
    "    \"GFSSource\": {\n",
    "        \"node\": \"datalib.gfs.GFSSource\",\n",
    "        \"attrs\": {\n",
    "            \"band\": 1,\n",
    "            \"date\": \"20191104\",\n",
    "            \"forecast\": \"384\",\n",
    "            \"hour\": \"1200\",\n",
    "            \"level\": \"10-40 m DPTH\",\n",
    "            \"parameter\": \"SOIM\"\n",
    "        },\n",
    "        \"source\": \"SOIM/10-40 m DPTH/20191104/1200/384\",\n",
    "        \"interpolation\": \"nearest\"\n",
    "    }\n",
    "}                                 \n",
    "'''\n",
    "pipeline_json = widgets.Textarea(description='Pipeline Definition', \n",
    "                                 disabled=False, \n",
    "                                 layout=widgets.Layout(width='50%', height='400px'),\n",
    "                                 placeholder='{}',\n",
    "                                 value=value\n",
    "                                )\n",
    "pipeline_json"
   ]
  },
  {
   "cell_type": "markdown",
   "metadata": {
    "slideshow": {
     "slide_type": "subslide"
    }
   },
   "source": [
    "## 1.1: Create the pipeline"
   ]
  },
  {
   "cell_type": "code",
   "execution_count": 4,
   "metadata": {
    "slideshow": {
     "slide_type": "fragment"
    }
   },
   "outputs": [],
   "source": [
    "sm = podpac.Node.from_json(pipeline_json.value)"
   ]
  },
  {
   "cell_type": "markdown",
   "metadata": {
    "slideshow": {
     "slide_type": "subslide"
    }
   },
   "source": [
    "## 1.3: Evaluate and plot the node for the world"
   ]
  },
  {
   "cell_type": "code",
   "execution_count": 5,
   "metadata": {
    "slideshow": {
     "slide_type": "subslide"
    }
   },
   "outputs": [
    {
     "name": "stderr",
     "output_type": "stream",
     "text": [
      "INFO:podpac.datalib.gfs:Downloading S3 fileobj (Bucket: noaa-gfs-pds, Key: SOIM/10-40 m DPTH/20191104/1200/384)\n"
     ]
    }
   ],
   "source": [
    "# dim =            (start, stop, step)\n",
    "lat = podpac.crange(   90,  -90,-2.0)\n",
    "lon = podpac.crange( -0,  360, 2.0)\n",
    "# dim = value\n",
    "time = '2018-05-19T12'\n",
    "\n",
    "c_world = podpac.Coordinates([lat, lon, time], dims=['lat', 'lon', 'time'])\n",
    "o = sm.eval(c_world)"
   ]
  },
  {
   "cell_type": "code",
   "execution_count": 6,
   "metadata": {
    "slideshow": {
     "slide_type": "subslide"
    }
   },
   "outputs": [
    {
     "data": {
      "text/plain": [
       "<matplotlib.collections.QuadMesh at 0x2baf168ec18>"
      ]
     },
     "execution_count": 6,
     "metadata": {},
     "output_type": "execute_result"
    },
    {
     "data": {
      "image/png": "[encoded data removed]",
      "text/plain": [
       "<Figure size 432x288 with 2 Axes>"
      ]
     },
     "metadata": {
      "needs_background": "light"
     },
     "output_type": "display_data"
    }
   ],
   "source": [
    "figure()\n",
    "o.plot(cmap='gist_earth_r')"
   ]
  }
 ],
 "metadata": {
  "celltoolbar": "Slideshow",
  "kernelspec": {
   "display_name": "Python 3",
   "language": "python",
   "name": "python3"
  },
  "language_info": {
   "codemirror_mode": {
    "name": "ipython",
    "version": 3
   },
   "file_extension": ".py",
   "mimetype": "text/x-python",
   "name": "python",
   "nbconvert_exporter": "python",
   "pygments_lexer": "ipython3",
   "version": "3.7.3"
  }
 },
 "nbformat": 4,
 "nbformat_minor": 4
}
