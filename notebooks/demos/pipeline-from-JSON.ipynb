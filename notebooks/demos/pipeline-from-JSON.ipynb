{
 "cells": [
  {
   "cell_type": "code",
   "execution_count": 20,
   "metadata": {
    "slideshow": {
     "slide_type": "skip"
    }
   },
   "outputs": [
    {
     "name": "stdout",
     "output_type": "stream",
     "text": [
      "Populating the interactive namespace from numpy and matplotlib\n"
     ]
    }
   ],
   "source": [
    "# Set up interactive plotting using matplotlib, and load numpy\n",
    "# %pylab ipympl\n",
    "%pylab inline\n",
    "import warnings\n",
    "warnings.filterwarnings('ignore')"
   ]
  },
  {
   "cell_type": "markdown",
   "metadata": {
    "slideshow": {
     "slide_type": "slide"
    }
   },
   "source": [
    "# Introduction\n",
    "\n",
    "This notebook demonstrates how to load a pipeline from a file."
   ]
  },
  {
   "cell_type": "markdown",
   "metadata": {
    "slideshow": {
     "slide_type": "subslide"
    }
   },
   "source": [
    "## Setup\n",
    "\n",
    "Make sure you have PODPAC installed with the **datatype** optional dependencies:\n",
    "\n",
    "```\n",
    "$ pip install podpac[datatype]\n",
    "```"
   ]
  },
  {
   "cell_type": "markdown",
   "metadata": {
    "slideshow": {
     "slide_type": "subslide"
    }
   },
   "source": [
    "## Provide Earth Data Login Credentials\n",
    "If you do not have an earth data login, or have not activated OpenDAP access, follow the [instructions here](https://creare-com.github.io/podpac-docs/user/earthdata.html)"
   ]
  },
  {
   "cell_type": "code",
   "execution_count": 2,
   "metadata": {
    "slideshow": {
     "slide_type": "subslide"
    }
   },
   "outputs": [
    {
     "name": "stdin",
     "output_type": "stream",
     "text": [
      "Username: mpuecker\n",
      "Password: ··················\n"
     ]
    }
   ],
   "source": [
    "import getpass\n",
    "username = input(\"Username:\");   password = getpass.getpass('Password:')"
   ]
  },
  {
   "cell_type": "markdown",
   "metadata": {
    "slideshow": {
     "slide_type": "slide"
    }
   },
   "source": [
    "# 1: Set up and execute pipeline\n",
    "## 1.0: Define the pipeline json"
   ]
  },
  {
   "cell_type": "code",
   "execution_count": 3,
   "metadata": {
    "slideshow": {
     "slide_type": "subslide"
    }
   },
   "outputs": [],
   "source": [
    "import ipywidgets as widgets\n",
    "import podpac\n",
    "from podpac.datalib import smap"
   ]
  },
  {
   "cell_type": "code",
   "execution_count": 7,
   "metadata": {
    "slideshow": {
     "slide_type": "subslide"
    }
   },
   "outputs": [
    {
     "data": {
      "application/vnd.jupyter.widget-view+json": {
       "model_id": "1414642ec2bb4848b89ed56b961a249b",
       "version_major": 2,
       "version_minor": 0
      },
      "text/plain": [
       "Textarea(value='\\n{\\n    \"nodes\": {\\n        \"SMAP_SPL4SMAU\": {\\n            \"node\": \"datalib.smap.SMAP\",\\n   …"
      ]
     },
     "metadata": {},
     "output_type": "display_data"
    }
   ],
   "source": [
    "value='''\n",
    "{\n",
    "    \"nodes\": {\n",
    "        \"SMAP_SPL4SMAU\": {\n",
    "            \"node\": \"datalib.smap.SMAP\",\n",
    "            \"attrs\": {\n",
    "                \"base_url\": \"https://n5eil01u.ecs.nsidc.org/opendap/SMAP\",\n",
    "                \"product\": \"SPL4SMAU\",\n",
    "                \"version\": 4\n",
    "            },\n",
    "            \"interpolation\": \"nearest\"\n",
    "        }\n",
    "    },\n",
    "    \"output\": {\n",
    "        \"mode\": \"image\",\n",
    "        \"format\": \"png\"\n",
    "    }\n",
    "}                                 \n",
    "'''\n",
    "pipeline_json = widgets.Textarea(description='Pipeline Definition', \n",
    "                                 disabled=False, \n",
    "                                 layout=widgets.Layout(width='50%', height='400px'),\n",
    "                                 placeholder='{}',\n",
    "                                 value=value\n",
    "                                )\n",
    "pipeline_json"
   ]
  },
  {
   "cell_type": "markdown",
   "metadata": {
    "slideshow": {
     "slide_type": "subslide"
    }
   },
   "source": [
    "## 1.1: Create the pipeline"
   ]
  },
  {
   "cell_type": "code",
   "execution_count": 8,
   "metadata": {
    "slideshow": {
     "slide_type": "fragment"
    }
   },
   "outputs": [],
   "source": [
    "sm = podpac.pipeline.Pipeline(json=pipeline_json.value)"
   ]
  },
  {
   "cell_type": "markdown",
   "metadata": {
    "slideshow": {
     "slide_type": "subslide"
    }
   },
   "source": [
    "## 1.2: Set username and password for example node"
   ]
  },
  {
   "cell_type": "code",
   "execution_count": 9,
   "metadata": {
    "slideshow": {
     "slide_type": "fragment"
    }
   },
   "outputs": [],
   "source": [
    "sm.node.username = username\n",
    "sm.node.password = password"
   ]
  },
  {
   "cell_type": "markdown",
   "metadata": {
    "slideshow": {
     "slide_type": "subslide"
    }
   },
   "source": [
    "## 1.3: Evaluate and plot the node for the world"
   ]
  },
  {
   "cell_type": "code",
   "execution_count": 13,
   "metadata": {
    "slideshow": {
     "slide_type": "subslide"
    }
   },
   "outputs": [
    {
     "name": "stderr",
     "output_type": "stream",
     "text": [
      "INFO:pydap:Fetching URL: https://n5eil02u.ecs.nsidc.org/opendap/SMAP/SPL4SMAU.004/2018.05.19/SMAP_L4_SM_aup_20180519T120000_Vv4030_001.h5.dods?Analysis_Data_sm_surface_analysis[0:1:1623][0:1:3855]\n"
     ]
    }
   ],
   "source": [
    "# dim =            (start, stop, step)\n",
    "lat = podpac.crange(   90,  -90,-2.0)\n",
    "lon = podpac.crange( -180,  180, 2.0)\n",
    "# dim = value\n",
    "time = '2018-05-19T12'\n",
    "\n",
    "c_world = podpac.Coordinates([lat, lon, time], dims=['lat', 'lon', 'time'])\n",
    "o = sm.eval(c_world)"
   ]
  },
  {
   "cell_type": "code",
   "execution_count": 21,
   "metadata": {
    "slideshow": {
     "slide_type": "subslide"
    }
   },
   "outputs": [
    {
     "data": {
      "text/plain": [
       "<matplotlib.collections.QuadMesh at 0x1db4a57c240>"
      ]
     },
     "execution_count": 21,
     "metadata": {},
     "output_type": "execute_result"
    },
    {
     "data": {
      "image/png": "[encoded data removed]",
      "text/plain": [
       "<Figure size 432x288 with 2 Axes>"
      ]
     },
     "metadata": {
      "needs_background": "light"
     },
     "output_type": "display_data"
    }
   ],
   "source": [
    "figure()\n",
    "o.plot(cmap='gist_earth_r')"
   ]
  }
 ],
 "metadata": {
  "celltoolbar": "Slideshow",
  "kernelspec": {
   "display_name": "Python 3",
   "language": "python",
   "name": "python3"
  },
  "language_info": {
   "codemirror_mode": {
    "name": "ipython",
    "version": 3
   },
   "file_extension": ".py",
   "mimetype": "text/x-python",
   "name": "python",
   "nbconvert_exporter": "python",
   "pygments_lexer": "ipython3",
   "version": "3.7.3"
  }
 },
 "nbformat": 4,
 "nbformat_minor": 4
}
