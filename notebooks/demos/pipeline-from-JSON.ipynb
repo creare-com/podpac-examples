{
 "cells": [
  {
   "cell_type": "code",
   "execution_count": 1,
   "metadata": {
    "collapsed": true
   },
   "outputs": [
    {
     "name": "stdout",
     "output_type": "stream",
     "text": [
      "Populating the interactive namespace from numpy and matplotlib\n"
     ]
    }
   ],
   "source": [
    "# Set up interactive plotting using matplotlib, and load numpy\n",
    "# %pylab ipympl\n",
    "%pylab inline\n",
    "import warnings\n",
    "warnings.filterwarnings('ignore')"
   ]
  },
  {
   "cell_type": "markdown",
   "metadata": {},
   "source": [
    "# Setup\n",
    "## Import PODPAC dependencies"
   ]
  },
  {
   "cell_type": "code",
   "execution_count": 2,
   "metadata": {
    "collapsed": true
   },
   "outputs": [],
   "source": [
    "import ipywidgets as widgets\n",
    "import podpac\n",
    "from podpac.datalib import smap"
   ]
  },
  {
   "cell_type": "markdown",
   "metadata": {},
   "source": [
    "## Provide Earth Data Login Credentials\n",
    "If you do not have an earth data login, or have not activated OpenDAP access, follow the [instructions here](https://creare-com.github.io/podpac-docs/user/earthdata.html)"
   ]
  },
  {
   "cell_type": "code",
   "execution_count": 3,
   "metadata": {
    "collapsed": false
   },
   "outputs": [
    {
     "name": "stdin",
     "output_type": "stream",
     "text": [
      "Username: mpuecker\n",
      "Password: ··················\n"
     ]
    }
   ],
   "source": [
    "import getpass\n",
    "username = input(\"Username:\");   password = getpass.getpass('Password:')"
   ]
  },
  {
   "cell_type": "markdown",
   "metadata": {},
   "source": [
    "# 1: Set up and execute pipeline\n",
    "## 1.0: Define the pipeline json"
   ]
  },
  {
   "cell_type": "code",
   "execution_count": 4,
   "metadata": {},
   "outputs": [
    {
     "data": {
      "application/vnd.jupyter.widget-view+json": {
       "model_id": "01a3eb168602430fb6597002e61d8e39",
       "version_major": 2,
       "version_minor": 0
      },
      "text/plain": [
       "Textarea(value='\\n{\\n    \"nodes\": {\\n        \"SMAP_SPL4SMAU\": {\\n            \"node\": \"datalib.smap.SMAP\",\\n   …"
      ]
     },
     "metadata": {},
     "output_type": "display_data"
    }
   ],
   "source": [
    "value='''\n",
    "{\n",
    "    \"nodes\": {\n",
    "        \"SMAP_SPL4SMAU\": {\n",
    "            \"node\": \"datalib.smap.SMAP\",\n",
    "            \"attrs\": {\n",
    "                \"base_url\": \"https://n5eil01u.ecs.nsidc.org/opendap/SMAP\",\n",
    "                \"product\": \"SPL4SMAU\",\n",
    "                \"version\": 4\n",
    "            },\n",
    "            \"interpolation\": \"nearest\"\n",
    "        }\n",
    "    },\n",
    "    \"output\": {\n",
    "        \"mode\": \"image\",\n",
    "        \"format\": \"png\",\n",
    "        \"vmin\": -1.2,\n",
    "        \"vmax\": 1.2,\n",
    "        \"node\": \"SMAP_SPL4SMAU\"\n",
    "    }\n",
    "}                                 \n",
    "'''\n",
    "pipeline_json = widgets.Textarea(description='Pipeline Definition', \n",
    "                                 disabled=False, \n",
    "                                 layout=widgets.Layout(width='50%', height='400px'),\n",
    "                                 placeholder='{}',\n",
    "                                 value=value\n",
    "                                )\n",
    "pipeline_json"
   ]
  },
  {
   "cell_type": "markdown",
   "metadata": {},
   "source": [
    "## 1.1: Create the pipeline"
   ]
  },
  {
   "cell_type": "code",
   "execution_count": 5,
   "metadata": {},
   "outputs": [],
   "source": [
    "sm = podpac.pipeline.Pipeline(json=pipeline_json.value)"
   ]
  },
  {
   "cell_type": "markdown",
   "metadata": {},
   "source": [
    "## 1.2: Set username and password for example node"
   ]
  },
  {
   "cell_type": "code",
   "execution_count": 6,
   "metadata": {},
   "outputs": [],
   "source": [
    "sm.nodes['SMAP_SPL4SMAU'].username = username\n",
    "sm.nodes['SMAP_SPL4SMAU'].password = password"
   ]
  },
  {
   "cell_type": "markdown",
   "metadata": {},
   "source": [
    "## 1.3: Evaluate and plot the node for the world"
   ]
  },
  {
   "cell_type": "code",
   "execution_count": 7,
   "metadata": {},
   "outputs": [
    {
     "data": {
      "text/plain": [
       "(-181.0, 181.0, -91.0, 91.0)"
      ]
     },
     "execution_count": 7,
     "metadata": {},
     "output_type": "execute_result"
    },
    {
     "data": {
      "image/png": "[encoded data removed]",
      "text/plain": [
       "<matplotlib.figure.Figure at 0x26ea1cafbe0>"
      ]
     },
     "metadata": {
      "needs_background": "light"
     },
     "output_type": "display_data"
    }
   ],
   "source": [
    "# dim =            (start, stop, step)\n",
    "lat = podpac.crange(   90,  -90,-2.0)\n",
    "lon = podpac.crange( -180,  180, 2.0)\n",
    "# dim = value\n",
    "time = '2018-05-19T12:00:00'\n",
    "\n",
    "c_world = podpac.Coordinates([lat, lon, time], dims=['lat', 'lon', 'time'])\n",
    "o = sm.eval(c_world)\n",
    "figure()\n",
    "o.plot(cmap='gist_earth_r')\n",
    "axis('scaled')"
   ]
  }
 ],
 "metadata": {
  "kernelspec": {
   "display_name": "Python 3",
   "language": "python",
   "name": "python3"
  },
  "language_info": {
   "codemirror_mode": {
    "name": "ipython",
    "version": 3
   },
   "file_extension": ".py",
   "mimetype": "text/x-python",
   "name": "python",
   "nbconvert_exporter": "python",
   "pygments_lexer": "ipython3",
   "version": "3.6.3"
  }
 },
 "nbformat": 4,
 "nbformat_minor": 2
}
