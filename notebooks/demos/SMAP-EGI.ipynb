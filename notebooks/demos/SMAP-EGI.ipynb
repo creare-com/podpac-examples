{
 "cells": [
  {
   "cell_type": "code",
   "execution_count": null,
   "metadata": {},
   "outputs": [],
   "source": [
    "import warnings\n",
    "warnings.filterwarnings('ignore')"
   ]
  },
  {
   "cell_type": "markdown",
   "metadata": {},
   "source": [
    "## SMAP Data Acess via EGI Interface\n",
    "\n",
    "SMAP Data is Available via the [EGI Interface](https://developer.earthdata.nasa.gov/sdps/programmatic-access-docs). The `podpac.datalib.egi.EGI` DataSource node provides access to the EGI Interface. The `podpac.datalib.smap_egi.SMAP` DataSource node wraps the EGI interface with SMAP specific handling."
   ]
  },
  {
   "cell_type": "markdown",
   "metadata": {},
   "source": [
    "## Provide Earth Data Login Credentials\n",
    "\n",
    "If you do not have an earth data login, or have not activated OpenDAP access, follow the [instructions here](https://creare-com.github.io/podpac-docs/user/earthdata.html)"
   ]
  },
  {
   "cell_type": "code",
   "execution_count": 2,
   "metadata": {},
   "outputs": [
    {
     "name": "stdin",
     "output_type": "stream",
     "text": [
      "Username: mls_creare\n",
      "Password: ························\n"
     ]
    }
   ],
   "source": [
    "import getpass\n",
    "username = password = None\n",
    "username = input(\"Username:\");   password = getpass.getpass('Password:')"
   ]
  },
  {
   "cell_type": "markdown",
   "metadata": {},
   "source": [
    "## SMAP Access"
   ]
  },
  {
   "cell_type": "code",
   "execution_count": 3,
   "metadata": {},
   "outputs": [
    {
     "name": "stderr",
     "output_type": "stream",
     "text": [
      "INFO:botocore.credentials:Found credentials in shared credentials file: ~/.aws/credentials\n"
     ]
    }
   ],
   "source": [
    "from podpac.datalib.smap_egi import SMAP, SMAP_PRODUCTS\n",
    "from podpac import Coordinates, clinspace"
   ]
  },
  {
   "cell_type": "markdown",
   "metadata": {},
   "source": [
    "### List Products"
   ]
  },
  {
   "cell_type": "code",
   "execution_count": 4,
   "metadata": {},
   "outputs": [
    {
     "data": {
      "text/plain": [
       "['SPL4SMAU',\n",
       " 'SPL4SMGP',\n",
       " 'SPL4SMLM',\n",
       " 'SPL3SMAP',\n",
       " 'SPL3SMA',\n",
       " 'SPL3SMP_AM',\n",
       " 'SPL3SMP_PM',\n",
       " 'SPL3SMP_E_AM',\n",
       " 'SPL3SMP_E_PM']"
      ]
     },
     "execution_count": 4,
     "metadata": {},
     "output_type": "execute_result"
    }
   ],
   "source": [
    "# list all available SMAP products\n",
    "SMAP_PRODUCTS"
   ]
  },
  {
   "cell_type": "markdown",
   "metadata": {},
   "source": [
    "### Level 3 Access"
   ]
  },
  {
   "cell_type": "code",
   "execution_count": 5,
   "metadata": {},
   "outputs": [],
   "source": [
    "# coordinates to investigate\n",
    "c = Coordinates([clinspace(-82, -81, 10), clinspace(38, 39, 10), clinspace('2015-07-06', '2015-07-08', 10)], dims=['lon', 'lat', 'time'])"
   ]
  },
  {
   "cell_type": "code",
   "execution_count": 6,
   "metadata": {},
   "outputs": [
    {
     "name": "stderr",
     "output_type": "stream",
     "text": [
      "WARNING:podpac.datalib.egi:No data returned from file: 142676942/SMAP_L3_SM_P_20150708_R16020_001_HEGOUT.h5\n"
     ]
    },
    {
     "data": {
      "text/plain": [
       "<xarray.UnitsDataArray (lon: 10, lat: 10, time: 10)>\n",
       "array([[[0.329151, 0.329151, ..., 0.363082, 0.363082],\n",
       "        [0.329151, 0.329151, ..., 0.363082, 0.363082],\n",
       "        ...,\n",
       "        [0.361225, 0.361225, ..., 0.323132, 0.323132],\n",
       "        [0.361225, 0.361225, ..., 0.323132, 0.323132]],\n",
       "\n",
       "       [[0.329151, 0.329151, ..., 0.363082, 0.363082],\n",
       "        [0.329151, 0.329151, ..., 0.363082, 0.363082],\n",
       "        ...,\n",
       "        [0.361225, 0.361225, ..., 0.323132, 0.323132],\n",
       "        [0.361225, 0.361225, ..., 0.323132, 0.323132]],\n",
       "\n",
       "       ...,\n",
       "\n",
       "       [[0.409944, 0.409944, ..., 0.408964, 0.408964],\n",
       "        [0.409944, 0.409944, ..., 0.408964, 0.408964],\n",
       "        ...,\n",
       "        [0.36381 , 0.36381 , ..., 0.352789, 0.352789],\n",
       "        [0.36381 , 0.36381 , ..., 0.352789, 0.352789]],\n",
       "\n",
       "       [[0.409944, 0.409944, ..., 0.408964, 0.408964],\n",
       "        [0.409944, 0.409944, ..., 0.408964, 0.408964],\n",
       "        ...,\n",
       "        [0.36381 , 0.36381 , ..., 0.352789, 0.352789],\n",
       "        [0.36381 , 0.36381 , ..., 0.352789, 0.352789]]])\n",
       "Coordinates:\n",
       "  * lon      (lon) float64 -82.0 -81.89 -81.78 -81.67 ... -81.22 -81.11 -81.0\n",
       "  * lat      (lat) float64 38.0 38.11 38.22 38.33 ... 38.67 38.78 38.89 39.0\n",
       "  * time     (time) datetime64[ns] 2015-07-06 2015-07-06T05:20:00 ... 2015-07-08\n",
       "Attributes:\n",
       "    layer_style:  <podpac.core.style.Style object at 0x1c221cf7b8>\n",
       "    crs:          EPSG:4326"
      ]
     },
     "execution_count": 6,
     "metadata": {},
     "output_type": "execute_result"
    }
   ],
   "source": [
    "# podpac node\n",
    "node = SMAP(product=\"SPL3SMP_AM\", username=username, password=password)\n",
    "output = node.eval(c)\n",
    "output"
   ]
  },
  {
   "cell_type": "code",
   "execution_count": 7,
   "metadata": {},
   "outputs": [
    {
     "data": {
      "text/plain": [
       "<xarray.UnitsDataArray (lon: 10, lat: 10, time: 10)>\n",
       "array([[[     nan,      nan, ...,      nan,      nan],\n",
       "        [0.322736, 0.322736, ...,      nan,      nan],\n",
       "        ...,\n",
       "        [0.222105, 0.222105, ...,      nan,      nan],\n",
       "        [     nan,      nan, ...,      nan,      nan]],\n",
       "\n",
       "       [[     nan,      nan, ...,      nan,      nan],\n",
       "        [0.532599, 0.532599, ...,      nan,      nan],\n",
       "        ...,\n",
       "        [0.227933, 0.227933, ...,      nan,      nan],\n",
       "        [     nan,      nan, ...,      nan,      nan]],\n",
       "\n",
       "       ...,\n",
       "\n",
       "       [[     nan,      nan, ...,      nan,      nan],\n",
       "        [     nan,      nan, ...,      nan,      nan],\n",
       "        ...,\n",
       "        [     nan,      nan, ...,      nan,      nan],\n",
       "        [     nan,      nan, ...,      nan,      nan]],\n",
       "\n",
       "       [[     nan,      nan, ..., 0.535665, 0.535665],\n",
       "        [0.337784, 0.337784, ...,      nan,      nan],\n",
       "        ...,\n",
       "        [0.554143, 0.554143, ...,      nan,      nan],\n",
       "        [0.381876, 0.381876, ...,      nan,      nan]]])\n",
       "Coordinates:\n",
       "  * lon      (lon) float64 -82.0 -81.89 -81.78 -81.67 ... -81.22 -81.11 -81.0\n",
       "  * lat      (lat) float64 38.0 38.11 38.22 38.33 ... 38.67 38.78 38.89 39.0\n",
       "  * time     (time) datetime64[ns] 2015-07-06 2015-07-06T05:20:00 ... 2015-07-08\n",
       "Attributes:\n",
       "    layer_style:  <podpac.core.style.Style object at 0x1c221d7b38>\n",
       "    crs:          EPSG:4326"
      ]
     },
     "execution_count": 7,
     "metadata": {},
     "output_type": "execute_result"
    }
   ],
   "source": [
    "node = SMAP(product=\"SPL3SMA\", username=username, password=password)\n",
    "output = node.eval(c)\n",
    "output"
   ]
  },
  {
   "cell_type": "markdown",
   "metadata": {},
   "source": [
    "### Level 4 Access"
   ]
  },
  {
   "cell_type": "code",
   "execution_count": 8,
   "metadata": {},
   "outputs": [],
   "source": [
    "# coordinates to investigate\n",
    "c = Coordinates([clinspace(-82, -81, 10), clinspace(38, 39, 10), clinspace('2015-07-06', '2015-07-08', 10)], dims=['lon', 'lat', 'time'])"
   ]
  },
  {
   "cell_type": "code",
   "execution_count": 9,
   "metadata": {},
   "outputs": [
    {
     "name": "stderr",
     "output_type": "stream",
     "text": [
      "/Users/marcus/computing/creare/podpac/podpac/podpac/core/coordinates/dependent_coordinates.py:491: UserWarning: transformation of coordinate segment lengths not yet implemented\n",
      "  warnings.warn(\"transformation of coordinate segment lengths not yet implemented\")\n",
      "/Users/marcus/computing/creare/podpac/podpac/podpac/core/coordinates/dependent_coordinates.py:493: UserWarning: transformation of coordinate segment lengths not yet implemented\n",
      "  warnings.warn(\"transformation of coordinate segment lengths not yet implemented\")\n"
     ]
    },
    {
     "data": {
      "text/plain": [
       "<xarray.UnitsDataArray (lon: 10, lat: 10, time: 10)>\n",
       "array([[[nan, nan, ..., nan, nan],\n",
       "        [nan, nan, ..., nan, nan],\n",
       "        ...,\n",
       "        [nan, nan, ..., nan, nan],\n",
       "        [nan, nan, ..., nan, nan]],\n",
       "\n",
       "       [[nan, nan, ..., nan, nan],\n",
       "        [nan, nan, ..., nan, nan],\n",
       "        ...,\n",
       "        [nan, nan, ..., nan, nan],\n",
       "        [nan, nan, ..., nan, nan]],\n",
       "\n",
       "       ...,\n",
       "\n",
       "       [[nan, nan, ..., nan, nan],\n",
       "        [nan, nan, ..., nan, nan],\n",
       "        ...,\n",
       "        [nan, nan, ..., nan, nan],\n",
       "        [nan, nan, ..., nan, nan]],\n",
       "\n",
       "       [[nan, nan, ..., nan, nan],\n",
       "        [nan, nan, ..., nan, nan],\n",
       "        ...,\n",
       "        [nan, nan, ..., nan, nan],\n",
       "        [nan, nan, ..., nan, nan]]])\n",
       "Coordinates:\n",
       "  * lon      (lon) float64 -82.0 -81.89 -81.78 -81.67 ... -81.22 -81.11 -81.0\n",
       "  * lat      (lat) float64 38.0 38.11 38.22 38.33 ... 38.67 38.78 38.89 39.0\n",
       "  * time     (time) datetime64[ns] 2015-07-06 2015-07-06T05:20:00 ... 2015-07-08\n",
       "Attributes:\n",
       "    layer_style:  <podpac.core.style.Style object at 0x1c222a3208>\n",
       "    crs:          EPSG:4326"
      ]
     },
     "execution_count": 9,
     "metadata": {},
     "output_type": "execute_result"
    }
   ],
   "source": [
    "# podpac node\n",
    "node = SMAP(product=\"SPL4SMAU\", username=username, password=password)\n",
    "output = node.eval(c)\n",
    "output"
   ]
  },
  {
   "cell_type": "code",
   "execution_count": 10,
   "metadata": {},
   "outputs": [
    {
     "data": {
      "text/plain": [
       "<xarray.UnitsDataArray (time: 10, lat: 11, lon: 11)>\n",
       "array([[[0.217252, 0.30324 , ..., 0.235802, 0.238751],\n",
       "        [0.218393, 0.302374, ..., 0.240443, 0.244053],\n",
       "        ...,\n",
       "        [0.257682, 0.259882, ..., 0.275255, 0.280957],\n",
       "        [0.26754 , 0.228202, ..., 0.275878, 0.282042]],\n",
       "\n",
       "       [[0.216478, 0.303017, ..., 0.234787, 0.238225],\n",
       "        [0.217708, 0.302064, ..., 0.239156, 0.242906],\n",
       "        ...,\n",
       "        [0.344133, 0.348837, ..., 0.278268, 0.283159],\n",
       "        [0.347869, 0.331462, ..., 0.278827, 0.283946]],\n",
       "\n",
       "       ...,\n",
       "\n",
       "       [[0.218441, 0.307128, ..., 0.251241, 0.250555],\n",
       "        [0.219922, 0.305321, ..., 0.253055, 0.252517],\n",
       "        ...,\n",
       "        [0.274226, 0.27552 , ..., 0.271702, 0.277276],\n",
       "        [0.281802, 0.240512, ..., 0.269979, 0.275501]],\n",
       "\n",
       "       [[0.217231, 0.305804, ..., 0.250755, 0.253467],\n",
       "        [0.218176, 0.303581, ..., 0.251867, 0.25469 ],\n",
       "        ...,\n",
       "        [0.272703, 0.273811, ..., 0.269426, 0.2754  ],\n",
       "        [0.279844, 0.238416, ..., 0.267905, 0.273976]]])\n",
       "Coordinates:\n",
       "  * lat      (lat) float64 4.608e+06 4.599e+06 4.59e+06 ... 4.527e+06 4.518e+06\n",
       "  * lon      (lon) float64 -7.914e+06 -7.905e+06 ... -7.833e+06 -7.823e+06\n",
       "  * time     (time) datetime64[ns] 2015-07-05T13:00:00 ... 2015-07-06T16:00:00\n",
       "Attributes:\n",
       "    crs:      epsg:6933"
      ]
     },
     "execution_count": 10,
     "metadata": {},
     "output_type": "execute_result"
    }
   ],
   "source": [
    "node.data"
   ]
  },
  {
   "cell_type": "code",
   "execution_count": 19,
   "metadata": {},
   "outputs": [
    {
     "name": "stderr",
     "output_type": "stream",
     "text": [
      "/Users/marcus/computing/creare/podpac/podpac/podpac/core/coordinates/dependent_coordinates.py:491: UserWarning: transformation of coordinate segment lengths not yet implemented\n",
      "  warnings.warn(\"transformation of coordinate segment lengths not yet implemented\")\n",
      "/Users/marcus/computing/creare/podpac/podpac/podpac/core/coordinates/dependent_coordinates.py:493: UserWarning: transformation of coordinate segment lengths not yet implemented\n",
      "  warnings.warn(\"transformation of coordinate segment lengths not yet implemented\")\n",
      "/anaconda3/envs/podpac/lib/python3.7/site-packages/numpy/core/fromnumeric.py:83: RuntimeWarning: invalid value encountered in reduce\n",
      "  return ufunc.reduce(obj, axis, dtype, out, **passkwargs)\n"
     ]
    },
    {
     "data": {
      "text/plain": [
       "Coordinates (epsg:4326)\n",
       "\ttime: ArrayCoordinates1d(time): Bounds[2015-07-05T13:00:00.000000000, 2015-07-06T16:00:00.000000000], N[10], ctype['point']\n",
       "\tlat,lon[lat]: DependentCoordinates(i,j->lat): Bounds[nan, nan], shape(11, 11), ctype[midpoint]\n",
       "\tlat,lon[lon]: DependentCoordinates(i,j->lon): Bounds[46.820542, 47.754152], shape(11, 11), ctype[midpoint]"
      ]
     },
     "execution_count": 19,
     "metadata": {},
     "output_type": "execute_result"
    }
   ],
   "source": [
    "## Debug lat/lon values\n",
    "c = node.native_coordinates\n",
    "c.transform('epsg:4326')"
   ]
  }
 ],
 "metadata": {
  "kernelspec": {
   "display_name": "Python 3",
   "language": "python",
   "name": "python3"
  },
  "language_info": {
   "codemirror_mode": {
    "name": "ipython",
    "version": 3
   },
   "file_extension": ".py",
   "mimetype": "text/x-python",
   "name": "python",
   "nbconvert_exporter": "python",
   "pygments_lexer": "ipython3",
   "version": "3.7.0"
  }
 },
 "nbformat": 4,
 "nbformat_minor": 2
}
