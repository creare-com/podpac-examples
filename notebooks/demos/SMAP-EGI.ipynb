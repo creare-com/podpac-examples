{
 "cells": [
  {
   "cell_type": "code",
   "execution_count": 1,
   "metadata": {},
   "outputs": [],
   "source": [
    "import warnings\n",
    "warnings.filterwarnings('ignore')"
   ]
  },
  {
   "cell_type": "markdown",
   "metadata": {},
   "source": [
    "## SMAP Data Acess via EGI Interface\n",
    "\n",
    "SMAP Data is Available via the [EGI Interface](https://developer.earthdata.nasa.gov/sdps/programmatic-access-docs). The `podpac.datalib.egi.EGI` DataSource node provides access to the EGI Interface. The `podpac.datalib.smap_egi.SMAP` DataSource node wraps the EGI interface with SMAP specific handling."
   ]
  },
  {
   "cell_type": "markdown",
   "metadata": {},
   "source": [
    "## Provide Earth Data Login Credentials\n",
    "\n",
    "If you do not have an earth data login, or have not activated OpenDAP access, follow the [instructions here](https://creare-com.github.io/podpac-docs/user/earthdata.html)"
   ]
  },
  {
   "cell_type": "code",
   "execution_count": 2,
   "metadata": {},
   "outputs": [
    {
     "name": "stdin",
     "output_type": "stream",
     "text": [
      "Username: mpuecker\n",
      "Password: ··················\n"
     ]
    }
   ],
   "source": [
    "import getpass\n",
    "username = password = None\n",
    "username = input(\"Username:\");   password = getpass.getpass('Password:')"
   ]
  },
  {
   "cell_type": "markdown",
   "metadata": {},
   "source": [
    "## SMAP Access"
   ]
  },
  {
   "cell_type": "code",
   "execution_count": 3,
   "metadata": {},
   "outputs": [],
   "source": [
    "from podpac.datalib.smap_egi import SMAP, SMAP_PRODUCTS\n",
    "from podpac import Coordinates, clinspace"
   ]
  },
  {
   "cell_type": "markdown",
   "metadata": {},
   "source": [
    "### List Products"
   ]
  },
  {
   "cell_type": "code",
   "execution_count": 4,
   "metadata": {},
   "outputs": [
    {
     "data": {
      "text/plain": [
       "['SPL4SMAU',\n",
       " 'SPL4SMGP',\n",
       " 'SPL4SMLM',\n",
       " 'SPL3SMAP',\n",
       " 'SPL3SMA',\n",
       " 'SPL3SMP_AM',\n",
       " 'SPL3SMP_PM',\n",
       " 'SPL3SMP_E_AM',\n",
       " 'SPL3SMP_E_PM']"
      ]
     },
     "execution_count": 4,
     "metadata": {},
     "output_type": "execute_result"
    }
   ],
   "source": [
    "# list all available SMAP products\n",
    "SMAP_PRODUCTS"
   ]
  },
  {
   "cell_type": "markdown",
   "metadata": {},
   "source": [
    "### Level 3 Access"
   ]
  },
  {
   "cell_type": "code",
   "execution_count": 5,
   "metadata": {},
   "outputs": [],
   "source": [
    "# coordinates to investigate\n",
    "c = Coordinates([clinspace(-82, -81, 10), clinspace(38, 39, 10), clinspace('2015-07-06', '2015-07-08', 10)], dims=['lon', 'lat', 'time'])"
   ]
  },
  {
   "cell_type": "code",
   "execution_count": 6,
   "metadata": {},
   "outputs": [
    {
     "data": {
      "text/plain": [
       "<xarray.UnitsDataArray (lon: 10, lat: 10, time: 10)>\n",
       "array([[[0.363082, 0.363082, ..., 0.363082, 0.363082],\n",
       "        [0.363082, 0.363082, ..., 0.363082, 0.363082],\n",
       "        ...,\n",
       "        [0.323132, 0.323132, ..., 0.323132, 0.323132],\n",
       "        [0.323132, 0.323132, ..., 0.323132, 0.323132]],\n",
       "\n",
       "       [[0.363082, 0.363082, ..., 0.363082, 0.363082],\n",
       "        [0.363082, 0.363082, ..., 0.363082, 0.363082],\n",
       "        ...,\n",
       "        [0.323132, 0.323132, ..., 0.323132, 0.323132],\n",
       "        [0.323132, 0.323132, ..., 0.323132, 0.323132]],\n",
       "\n",
       "       ...,\n",
       "\n",
       "       [[0.408964, 0.408964, ..., 0.408964, 0.408964],\n",
       "        [0.408964, 0.408964, ..., 0.408964, 0.408964],\n",
       "        ...,\n",
       "        [0.352789, 0.352789, ..., 0.352789, 0.352789],\n",
       "        [0.352789, 0.352789, ..., 0.352789, 0.352789]],\n",
       "\n",
       "       [[0.408964, 0.408964, ..., 0.408964, 0.408964],\n",
       "        [0.408964, 0.408964, ..., 0.408964, 0.408964],\n",
       "        ...,\n",
       "        [0.352789, 0.352789, ..., 0.352789, 0.352789],\n",
       "        [0.352789, 0.352789, ..., 0.352789, 0.352789]]])\n",
       "Coordinates:\n",
       "  * lon      (lon) float64 -82.0 -81.89 -81.78 -81.67 ... -81.22 -81.11 -81.0\n",
       "  * lat      (lat) float64 38.0 38.11 38.22 38.33 ... 38.67 38.78 38.89 39.0\n",
       "  * time     (time) datetime64[ns] 2015-07-06 2015-07-06T05:20:00 ... 2015-07-08\n",
       "Attributes:\n",
       "    layer_style:  <podpac.core.style.Style object at 0x000002C100EB7470>\n",
       "    crs:          EPSG:4326"
      ]
     },
     "execution_count": 6,
     "metadata": {},
     "output_type": "execute_result"
    }
   ],
   "source": [
    "# podpac node\n",
    "node = SMAP(product=\"SPL3SMP_AM\", username=username, password=password)\n",
    "output = node.eval(c)\n",
    "output"
   ]
  },
  {
   "cell_type": "code",
   "execution_count": 7,
   "metadata": {},
   "outputs": [
    {
     "data": {
      "text/plain": [
       "<xarray.UnitsDataArray (lon: 10, lat: 10, time: 10)>\n",
       "array([[[     nan,      nan, ...,      nan,      nan],\n",
       "        [0.322736, 0.322736, ...,      nan,      nan],\n",
       "        ...,\n",
       "        [0.222105, 0.222105, ...,      nan,      nan],\n",
       "        [     nan,      nan, ...,      nan,      nan]],\n",
       "\n",
       "       [[     nan,      nan, ...,      nan,      nan],\n",
       "        [0.532599, 0.532599, ...,      nan,      nan],\n",
       "        ...,\n",
       "        [0.227933, 0.227933, ...,      nan,      nan],\n",
       "        [     nan,      nan, ...,      nan,      nan]],\n",
       "\n",
       "       ...,\n",
       "\n",
       "       [[     nan,      nan, ...,      nan,      nan],\n",
       "        [     nan,      nan, ...,      nan,      nan],\n",
       "        ...,\n",
       "        [     nan,      nan, ...,      nan,      nan],\n",
       "        [     nan,      nan, ...,      nan,      nan]],\n",
       "\n",
       "       [[     nan,      nan, ..., 0.535665, 0.535665],\n",
       "        [0.337784, 0.337784, ...,      nan,      nan],\n",
       "        ...,\n",
       "        [0.554143, 0.554143, ...,      nan,      nan],\n",
       "        [0.381876, 0.381876, ...,      nan,      nan]]])\n",
       "Coordinates:\n",
       "  * lon      (lon) float64 -82.0 -81.89 -81.78 -81.67 ... -81.22 -81.11 -81.0\n",
       "  * lat      (lat) float64 38.0 38.11 38.22 38.33 ... 38.67 38.78 38.89 39.0\n",
       "  * time     (time) datetime64[ns] 2015-07-06 2015-07-06T05:20:00 ... 2015-07-08\n",
       "Attributes:\n",
       "    layer_style:  <podpac.core.style.Style object at 0x000002C1010F2BA8>\n",
       "    crs:          EPSG:4326"
      ]
     },
     "execution_count": 7,
     "metadata": {},
     "output_type": "execute_result"
    }
   ],
   "source": [
    "node = SMAP(product=\"SPL3SMA\", username=username, password=password)\n",
    "output = node.eval(c)\n",
    "output"
   ]
  },
  {
   "cell_type": "markdown",
   "metadata": {},
   "source": [
    "### Level 4 Access"
   ]
  },
  {
   "cell_type": "code",
   "execution_count": 10,
   "metadata": {},
   "outputs": [],
   "source": [
    "# coordinates to investigate\n",
    "c = Coordinates([clinspace(-82, -81, 10), clinspace(38, 39, 10), clinspace('2016-07-06', '2016-07-08', 10)], dims=['lon', 'lat', 'time'])"
   ]
  },
  {
   "cell_type": "code",
   "execution_count": 11,
   "metadata": {},
   "outputs": [
    {
     "data": {
      "text/plain": [
       "<xarray.UnitsDataArray (lon: 10, lat: 10, time: 10)>\n",
       "array([[[nan, nan, ..., nan, nan],\n",
       "        [nan, nan, ..., nan, nan],\n",
       "        ...,\n",
       "        [nan, nan, ..., nan, nan],\n",
       "        [nan, nan, ..., nan, nan]],\n",
       "\n",
       "       [[nan, nan, ..., nan, nan],\n",
       "        [nan, nan, ..., nan, nan],\n",
       "        ...,\n",
       "        [nan, nan, ..., nan, nan],\n",
       "        [nan, nan, ..., nan, nan]],\n",
       "\n",
       "       ...,\n",
       "\n",
       "       [[nan, nan, ..., nan, nan],\n",
       "        [nan, nan, ..., nan, nan],\n",
       "        ...,\n",
       "        [nan, nan, ..., nan, nan],\n",
       "        [nan, nan, ..., nan, nan]],\n",
       "\n",
       "       [[nan, nan, ..., nan, nan],\n",
       "        [nan, nan, ..., nan, nan],\n",
       "        ...,\n",
       "        [nan, nan, ..., nan, nan],\n",
       "        [nan, nan, ..., nan, nan]]])\n",
       "Coordinates:\n",
       "  * lon      (lon) float64 -82.0 -81.89 -81.78 -81.67 ... -81.22 -81.11 -81.0\n",
       "  * lat      (lat) float64 38.0 38.11 38.22 38.33 ... 38.67 38.78 38.89 39.0\n",
       "  * time     (time) datetime64[ns] 2016-07-06 2016-07-06T05:20:00 ... 2016-07-08\n",
       "Attributes:\n",
       "    layer_style:  <podpac.core.style.Style object at 0x000002C101139518>\n",
       "    crs:          EPSG:4326"
      ]
     },
     "execution_count": 11,
     "metadata": {},
     "output_type": "execute_result"
    }
   ],
   "source": [
    "# podpac node\n",
    "node = SMAP(product=\"SPL4SMAU\", username=username, password=password)\n",
    "output = node.eval(c)\n",
    "output"
   ]
  }
 ],
 "metadata": {
  "kernelspec": {
   "display_name": "Python 3",
   "language": "python",
   "name": "python3"
  },
  "language_info": {
   "codemirror_mode": {
    "name": "ipython",
    "version": 3
   },
   "file_extension": ".py",
   "mimetype": "text/x-python",
   "name": "python",
   "nbconvert_exporter": "python",
   "pygments_lexer": "ipython3",
   "version": "3.7.3"
  }
 },
 "nbformat": 4,
 "nbformat_minor": 4
}
