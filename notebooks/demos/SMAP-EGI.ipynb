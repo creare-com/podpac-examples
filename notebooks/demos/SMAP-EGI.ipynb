{
 "cells": [
  {
   "cell_type": "markdown",
   "metadata": {},
   "source": [
    "## SMAP Data Acess via EGI Interface\n",
    "\n",
    "SMAP Data is Available via the [EGI Interface](https://developer.earthdata.nasa.gov/sdps/programmatic-access-docs). The `podpac.datalib.egi.EGI` DataSource node provides access to the EGI Interface. The `podpac.datalib.smap_egi.SMAP` DataSource node wraps the EGI interface with SMAP specific handling."
   ]
  },
  {
   "cell_type": "code",
   "execution_count": 8,
   "metadata": {},
   "outputs": [],
   "source": [
    "from podpac.datalib.smap_egi import SMAP, SMAP_PRODUCTS\n",
    "from podpac import Coordinates, clinspace"
   ]
  },
  {
   "cell_type": "code",
   "execution_count": 4,
   "metadata": {},
   "outputs": [
    {
     "data": {
      "text/plain": [
       "['SPL4SMAU',\n",
       " 'SPL4SMGP',\n",
       " 'SPL4SMLM',\n",
       " 'SPL3SMAP',\n",
       " 'SPL3SMA',\n",
       " 'SPL3SMP',\n",
       " 'SPL3SMP_E']"
      ]
     },
     "execution_count": 4,
     "metadata": {},
     "output_type": "execute_result"
    }
   ],
   "source": [
    "# list all available SMAP products\n",
    "SMAP_PRODUCTS"
   ]
  },
  {
   "cell_type": "markdown",
   "metadata": {},
   "source": [
    "## Level 3 Data"
   ]
  },
  {
   "cell_type": "code",
   "execution_count": 11,
   "metadata": {},
   "outputs": [],
   "source": [
    "c = Coordinates([clinspace(-82, -81, 10), clinspace(38, 39, 10), clinspace('2015-07-06', '2015-07-08', 10)], dims=['lon', 'lat', 'time'])\n",
    "node = SMAP(product=\"SPL3SMP\")"
   ]
  },
  {
   "cell_type": "code",
   "execution_count": 12,
   "metadata": {},
   "outputs": [
    {
     "ename": "ValueError",
     "evalue": "Failed to download data from EGI Interface. EGI Reponse: b'<?xml version=\"1.0\" encoding=\"UTF-8\" standalone=\"yes\"?>\\n<eesi:agentResponse xsi:schemaLocation=\"http://eosdis.nasa.gov/esi/rsp/e https://newsroom.gsfc.nasa.gov/esi/8.1/schemas/ESIAgentResponseExternal.xsd\" xmlns=\"\" xmlns:iesi=\"http://eosdis.nasa.gov/esi/rsp/i\" xmlns:ssw=\"http://newsroom.gsfc.nasa.gov/esi/rsp/ssw\" xmlns:eesi=\"http://eosdis.nasa.gov/esi/rsp/e\" xmlns:esi=\"http://eosdis.nasa.gov/esi/rsp\" xmlns:xsi=\"http://www.w3.org/2001/XMLSchema-instance\">\\n    <order>\\n        <orderId>5000000323788</orderId>\\n        <Instructions>You may receive an email about your order if you specified an EMAIL address. &lt;br/&gt;&lt;br/&gt;The instructions used to process this order are:  Output file format=HDF-EOS. Bounding Box(es)=-82.0,38.0,-81.0,39.0. Band(s)=/Soil_Moisture_Retrieval_Data/soil_moisture,/Soil_Moisture_Retrieval_Data/AM_latitude,/Soil_Moisture_Retrieval_Data/AM_longitude. Granule id(s)=SC:SPL3SMP.005:142676965,SC:SPL3SMP.005:142676808,SC:SPL3SMP.005:142676942. Temporal search start=2015-07-06T00:00:00 end=2015-07-08T00:00:00. Processing tool=HEG.</Instructions>\\n    </order>\\n    <contactInformation>\\n        <contactName>NSIDC User Services</contactName>\\n        <contactEmail>nsidc@nsidc.org</contactEmail>\\n    </contactInformation>\\n    <processInfo>\\n        <message>142676965:ParametersInvalidForData - 202: [can\\'t find object (Soil_Moisture_Retrieval_Data) and field (soil_moisture)].</message>\\n        <message>142676808:ParametersInvalidForData - 202: [can\\'t find object (Soil_Moisture_Retrieval_Data) and field (soil_moisture)].</message>\\n        <message>142676942:ParametersInvalidForData - 202: [can\\'t find object (Soil_Moisture_Retrieval_Data) and field (soil_moisture)].</message>\\n        <processDuration>PT2.291S</processDuration>\\n        <subagentId>HEG</subagentId>\\n    </processInfo>\\n    <requestStatus>\\n        <status>failed</status>\\n        <numberProcessed>3</numberProcessed>\\n        <totalNumber>3</totalNumber>\\n    </requestStatus>\\n</eesi:agentResponse>\\n'",
     "output_type": "error",
     "traceback": [
      "\u001b[0;31m---------------------------------------------------------------------------\u001b[0m",
      "\u001b[0;31mValueError\u001b[0m                                Traceback (most recent call last)",
      "\u001b[0;32m<ipython-input-12-e833c28e4ea4>\u001b[0m in \u001b[0;36m<module>\u001b[0;34m()\u001b[0m\n\u001b[0;32m----> 1\u001b[0;31m \u001b[0moutput\u001b[0m \u001b[0;34m=\u001b[0m \u001b[0mnode\u001b[0m\u001b[0;34m.\u001b[0m\u001b[0meval\u001b[0m\u001b[0;34m(\u001b[0m\u001b[0mc\u001b[0m\u001b[0;34m)\u001b[0m\u001b[0;34m\u001b[0m\u001b[0m\n\u001b[0m",
      "\u001b[0;32m~/computing/creare/podpac/podpac/podpac/datalib/egi.py\u001b[0m in \u001b[0;36meval\u001b[0;34m(self, coordinates, output)\u001b[0m\n\u001b[1;32m    189\u001b[0m     \u001b[0;32mdef\u001b[0m \u001b[0meval\u001b[0m\u001b[0;34m(\u001b[0m\u001b[0mself\u001b[0m\u001b[0;34m,\u001b[0m \u001b[0mcoordinates\u001b[0m\u001b[0;34m,\u001b[0m \u001b[0moutput\u001b[0m\u001b[0;34m=\u001b[0m\u001b[0;32mNone\u001b[0m\u001b[0;34m)\u001b[0m\u001b[0;34m:\u001b[0m\u001b[0;34m\u001b[0m\u001b[0m\n\u001b[1;32m    190\u001b[0m         \u001b[0;31m# download data for coordinate bounds, then handle that data as an H5PY node\u001b[0m\u001b[0;34m\u001b[0m\u001b[0;34m\u001b[0m\u001b[0m\n\u001b[0;32m--> 191\u001b[0;31m         \u001b[0mzip_file\u001b[0m \u001b[0;34m=\u001b[0m \u001b[0mself\u001b[0m\u001b[0;34m.\u001b[0m\u001b[0m_download_zip\u001b[0m\u001b[0;34m(\u001b[0m\u001b[0mcoordinates\u001b[0m\u001b[0;34m)\u001b[0m\u001b[0;34m\u001b[0m\u001b[0m\n\u001b[0m\u001b[1;32m    192\u001b[0m         \u001b[0mself\u001b[0m\u001b[0;34m.\u001b[0m\u001b[0m_read_zip\u001b[0m\u001b[0;34m(\u001b[0m\u001b[0mzip_file\u001b[0m\u001b[0;34m)\u001b[0m  \u001b[0;31m# reads each file in zip archive and creates single dataarray\u001b[0m\u001b[0;34m\u001b[0m\u001b[0m\n\u001b[1;32m    193\u001b[0m \u001b[0;34m\u001b[0m\u001b[0m\n",
      "\u001b[0;32m~/computing/creare/podpac/podpac/podpac/datalib/egi.py\u001b[0m in \u001b[0;36m_download_zip\u001b[0;34m(self, coordinates)\u001b[0m\n\u001b[1;32m    308\u001b[0m \u001b[0;34m\u001b[0m\u001b[0m\n\u001b[1;32m    309\u001b[0m         \u001b[0;32mif\u001b[0m \u001b[0mr\u001b[0m\u001b[0;34m.\u001b[0m\u001b[0mstatus_code\u001b[0m \u001b[0;34m!=\u001b[0m \u001b[0;36m200\u001b[0m\u001b[0;34m:\u001b[0m\u001b[0;34m\u001b[0m\u001b[0m\n\u001b[0;32m--> 310\u001b[0;31m             \u001b[0;32mraise\u001b[0m \u001b[0mValueError\u001b[0m\u001b[0;34m(\u001b[0m\u001b[0;34m\"Failed to download data from EGI Interface. EGI Reponse: {}\"\u001b[0m\u001b[0;34m.\u001b[0m\u001b[0mformat\u001b[0m\u001b[0;34m(\u001b[0m\u001b[0mr\u001b[0m\u001b[0;34m.\u001b[0m\u001b[0mcontent\u001b[0m\u001b[0;34m)\u001b[0m\u001b[0;34m)\u001b[0m\u001b[0;34m\u001b[0m\u001b[0m\n\u001b[0m\u001b[1;32m    311\u001b[0m \u001b[0;34m\u001b[0m\u001b[0m\n\u001b[1;32m    312\u001b[0m         \u001b[0;31m# load content into file-like object and then read into zip file\u001b[0m\u001b[0;34m\u001b[0m\u001b[0;34m\u001b[0m\u001b[0m\n",
      "\u001b[0;31mValueError\u001b[0m: Failed to download data from EGI Interface. EGI Reponse: b'<?xml version=\"1.0\" encoding=\"UTF-8\" standalone=\"yes\"?>\\n<eesi:agentResponse xsi:schemaLocation=\"http://eosdis.nasa.gov/esi/rsp/e https://newsroom.gsfc.nasa.gov/esi/8.1/schemas/ESIAgentResponseExternal.xsd\" xmlns=\"\" xmlns:iesi=\"http://eosdis.nasa.gov/esi/rsp/i\" xmlns:ssw=\"http://newsroom.gsfc.nasa.gov/esi/rsp/ssw\" xmlns:eesi=\"http://eosdis.nasa.gov/esi/rsp/e\" xmlns:esi=\"http://eosdis.nasa.gov/esi/rsp\" xmlns:xsi=\"http://www.w3.org/2001/XMLSchema-instance\">\\n    <order>\\n        <orderId>5000000323788</orderId>\\n        <Instructions>You may receive an email about your order if you specified an EMAIL address. &lt;br/&gt;&lt;br/&gt;The instructions used to process this order are:  Output file format=HDF-EOS. Bounding Box(es)=-82.0,38.0,-81.0,39.0. Band(s)=/Soil_Moisture_Retrieval_Data/soil_moisture,/Soil_Moisture_Retrieval_Data/AM_latitude,/Soil_Moisture_Retrieval_Data/AM_longitude. Granule id(s)=SC:SPL3SMP.005:142676965,SC:SPL3SMP.005:142676808,SC:SPL3SMP.005:142676942. Temporal search start=2015-07-06T00:00:00 end=2015-07-08T00:00:00. Processing tool=HEG.</Instructions>\\n    </order>\\n    <contactInformation>\\n        <contactName>NSIDC User Services</contactName>\\n        <contactEmail>nsidc@nsidc.org</contactEmail>\\n    </contactInformation>\\n    <processInfo>\\n        <message>142676965:ParametersInvalidForData - 202: [can\\'t find object (Soil_Moisture_Retrieval_Data) and field (soil_moisture)].</message>\\n        <message>142676808:ParametersInvalidForData - 202: [can\\'t find object (Soil_Moisture_Retrieval_Data) and field (soil_moisture)].</message>\\n        <message>142676942:ParametersInvalidForData - 202: [can\\'t find object (Soil_Moisture_Retrieval_Data) and field (soil_moisture)].</message>\\n        <processDuration>PT2.291S</processDuration>\\n        <subagentId>HEG</subagentId>\\n    </processInfo>\\n    <requestStatus>\\n        <status>failed</status>\\n        <numberProcessed>3</numberProcessed>\\n        <totalNumber>3</totalNumber>\\n    </requestStatus>\\n</eesi:agentResponse>\\n'"
     ]
    }
   ],
   "source": [
    "output = node.eval(c)"
   ]
  },
  {
   "cell_type": "code",
   "execution_count": null,
   "metadata": {},
   "outputs": [],
   "source": []
  }
 ],
 "metadata": {
  "kernelspec": {
   "display_name": "Python 3",
   "language": "python",
   "name": "python3"
  },
  "language_info": {
   "codemirror_mode": {
    "name": "ipython",
    "version": 3
   },
   "file_extension": ".py",
   "mimetype": "text/x-python",
   "name": "python",
   "nbconvert_exporter": "python",
   "pygments_lexer": "ipython3",
   "version": "3.7.0"
  }
 },
 "nbformat": 4,
 "nbformat_minor": 2
}
