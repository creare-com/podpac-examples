{
 "cells": [
  {
   "cell_type": "markdown",
   "metadata": {},
   "source": [
    "# Intake Catalogs\n",
    "\n",
    "Intake is a lightweight package for finding, investigating, loading and disseminating data. It will appeal to different groups for some of the reasons below, but is useful for all and acts as a common platform that everyone can use to smooth the progression of data from developers and providers to users.\n",
    "\n",
    "- Source: https://github.com/intake/intake\n",
    "- Docs: https://intake.readthedocs.io/en/latest/catalog.html"
   ]
  },
  {
   "cell_type": "code",
   "execution_count": 1,
   "metadata": {},
   "outputs": [],
   "source": [
    "from podpac.datalib import IntakeCatalog"
   ]
  },
  {
   "cell_type": "markdown",
   "metadata": {},
   "source": [
    "## Precip Example"
   ]
  },
  {
   "cell_type": "code",
   "execution_count": 2,
   "metadata": {},
   "outputs": [],
   "source": [
    "node = IntakeCatalog(uri='intake/precip/catalog.yml',   # path to catalog\n",
    "                     source='southern_rockies',  # name of the source within catalog\n",
    "                     field='precip',         # this can be defined in catalog source metadata\n",
    "                     dims={'time': 'time'}   # this can be defined in catalog source metadata\n",
    "                    )"
   ]
  },
  {
   "cell_type": "code",
   "execution_count": 3,
   "metadata": {},
   "outputs": [
    {
     "data": {
      "text/plain": [
       "<Intake catalog: precip>"
      ]
     },
     "execution_count": 3,
     "metadata": {},
     "output_type": "execute_result"
    }
   ],
   "source": [
    "# the node.catalog attribute contains the loaded intake catalog\n",
    "node.catalog"
   ]
  },
  {
   "cell_type": "code",
   "execution_count": 4,
   "metadata": {},
   "outputs": [
    {
     "data": {
      "application/json": {
       "args": {
        "csv_kwargs": {
         "names": [
          "time",
          "precip"
         ],
         "parse_dates": [
          "time"
         ],
         "skiprows": 3
        },
        "urlpath": "{{ CATALOG_DIR }}/data/SRLCC_{emissions}_Precip_{model}.csv"
       },
       "container": "dataframe",
       "description": "These data sets are subsets of the Maurer, et al. (2007) bias corrected, spatially downscaled monthly climate predictions. The CSV files here cover three emissions scenarios b1 (low emissions and rate of change), a1b (middle) and a2 (high). Emission scenarios are possibilities for how the future will unfold in terms of greenhouse gas emissions, land use and other environmental factors.",
       "direct_access": "forbid",
       "metadata": {
        "fields": {
         "precip": {
          "label": "Precipitation",
          "unit": "mean mm/day"
         }
        },
        "origin": "https://www.sciencebase.gov/catalog/item/511e740de4b071e86a19a524",
        "plot": {
         "x": "time",
         "y": "precip"
        }
       },
       "name": "southern_rockies",
       "plugin": [
        "csv"
       ],
       "user_parameters": []
      },
      "text/plain": [
       "name: southern_rockies\n",
       "container: dataframe\n",
       "plugin: ['csv']\n",
       "description: These data sets are subsets of the Maurer, et al. (2007) bias corrected, spatially downscaled monthly climate predictions. The CSV files here cover three emissions scenarios b1 (low emissions and rate of change), a1b (middle) and a2 (high). Emission scenarios are possibilities for how the future will unfold in terms of greenhouse gas emissions, land use and other environmental factors.\n",
       "direct_access: forbid\n",
       "user_parameters: []\n",
       "metadata: \n",
       "  origin: https://www.sciencebase.gov/catalog/item/511e740de4b071e86a19a524\n",
       "  fields: \n",
       "    precip: \n",
       "      label: Precipitation\n",
       "      unit: mean mm/day\n",
       "  plot: \n",
       "    x: time\n",
       "    y: precip\n",
       "args: \n",
       "  urlpath: {{ CATALOG_DIR }}/data/SRLCC_{emissions}_Precip_{model}.csv\n",
       "  csv_kwargs: \n",
       "    skiprows: 3\n",
       "    names: ['time', 'precip']\n",
       "    parse_dates: ['time']"
      ]
     },
     "metadata": {
      "application/json": {
       "root": "southern_rockies"
      }
     },
     "output_type": "display_data"
    }
   ],
   "source": [
    "# the node.datasource attribute contains the loaded intake catalog source\n",
    "node.datasource"
   ]
  },
  {
   "cell_type": "code",
   "execution_count": 5,
   "metadata": {},
   "outputs": [
    {
     "data": {
      "text/plain": [
       "Coordinates\n",
       "\ttime: ArrayCoordinates1d(time): Bounds[1950-01-16T00:00:00.000000000, 2099-12-15T00:00:00.000000000], N[16200], ctype['point']"
      ]
     },
     "execution_count": 5,
     "metadata": {},
     "output_type": "execute_result"
    }
   ],
   "source": [
    "# the `dims` input defines where to find the data and dimension labels for native coordinates\n",
    "node.native_coordinates"
   ]
  },
  {
   "cell_type": "code",
   "execution_count": 6,
   "metadata": {},
   "outputs": [
    {
     "data": {
      "text/plain": [
       "<xarray.UnitsDataArray (time: 16200)>\n",
       "array([0.972319, 0.406381, 1.750826, ..., 1.285412, 3.346398, 0.406959])\n",
       "Coordinates:\n",
       "  * time     (time) datetime64[ns] 1950-01-16 1950-02-16 ... 2099-12-15\n",
       "Attributes:\n",
       "    layer_style:  <podpac.core.style.Style object at 0x000001FB114CF550>\n",
       "    crs:          EPSG:4326"
      ]
     },
     "execution_count": 6,
     "metadata": {},
     "output_type": "execute_result"
    }
   ],
   "source": [
    "# one the node is defined, it works like any other podpac node\n",
    "# podpac uses intake to read the data internally\n",
    "output = node.eval(node.native_coordinates)\n",
    "output"
   ]
  }
 ],
 "metadata": {
  "kernelspec": {
   "display_name": "Python 3",
   "language": "python",
   "name": "python3"
  },
  "language_info": {
   "codemirror_mode": {
    "name": "ipython",
    "version": 3
   },
   "file_extension": ".py",
   "mimetype": "text/x-python",
   "name": "python",
   "nbconvert_exporter": "python",
   "pygments_lexer": "ipython3",
   "version": "3.7.0"
  }
 },
 "nbformat": 4,
 "nbformat_minor": 2
}
