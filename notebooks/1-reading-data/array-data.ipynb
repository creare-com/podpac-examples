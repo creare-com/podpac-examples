{
 "cells": [
  {
   "cell_type": "markdown",
   "metadata": {},
   "source": [
    "# Array Data\n",
    "\n",
    "*Author: Creare* <br>\n",
    "*Date: April 01 2020* <br>\n",
    "\n",
    "**Keywords**: podpac, DataSource, Array"
   ]
  },
  {
   "cell_type": "markdown",
   "metadata": {},
   "source": [
    "## Overview\n",
    "\n",
    "Reference tutorial for loading Array data with the `podpac.data.Array` Node."
   ]
  },
  {
   "cell_type": "markdown",
   "metadata": {},
   "source": [
    "### Prerequisites\n",
    "\n",
    "- Python 2.7 or above\n",
    "- [`podpac`](https://podpac.org/install.html#install)\n",
    "- *Review the [README.md](../../README.md) and [jupyter-tutorial.ipynb](../jupyter-tutorial.ipynb) for additional info on using jupyter notebooks*"
   ]
  },
  {
   "cell_type": "markdown",
   "metadata": {},
   "source": [
    "### See Also\n",
    "\n",
    "- [0-concepts/introduction.ipynb](../0-concepts/introduction.ipynb): PODPAC introduction\n",
    "- [0-concepts/coordinates.ipynb](../0-concepts/coordinates.ipynb): PODPAC Coordinates reference\n",
    "- [`podpac.data.Array` API Reference](https://podpac.org/api/podpac.data.Array.html#podpac.data.Array)"
   ]
  },
  {
   "cell_type": "markdown",
   "metadata": {},
   "source": [
    "## Array Data"
   ]
  },
  {
   "cell_type": "code",
   "execution_count": 1,
   "metadata": {},
   "outputs": [],
   "source": [
    "# plot inline\n",
    "%matplotlib inline\n",
    "\n",
    "import podpac\n",
    "import numpy as np"
   ]
  },
  {
   "cell_type": "code",
   "execution_count": 2,
   "metadata": {},
   "outputs": [
    {
     "data": {
      "text/plain": [
       "array([[0.35094566, 0.10306326, 0.31674056, 0.15695824, 0.21146349],\n",
       "       [0.24873832, 0.3089763 , 0.46747078, 0.23612607, 0.64935767],\n",
       "       [0.53687121, 0.60324858, 0.30902533, 0.98007456, 0.67090794],\n",
       "       [0.05882164, 0.18307798, 0.79990617, 0.29424941, 0.81792261],\n",
       "       [0.92751062, 0.84419354, 0.30975629, 0.60506475, 0.06056753]])"
      ]
     },
     "execution_count": 2,
     "metadata": {},
     "output_type": "execute_result"
    }
   ],
   "source": [
    "# create mock numpy array data\n",
    "data = np.random.rand(5, 5)\n",
    "data"
   ]
  },
  {
   "cell_type": "code",
   "execution_count": 3,
   "metadata": {},
   "outputs": [
    {
     "data": {
      "text/plain": [
       "Coordinates (EPSG:4326)\n",
       "\tlat: ArrayCoordinates1d(lat): Bounds[-10.0, 10.0], N[5]\n",
       "\tlon: ArrayCoordinates1d(lon): Bounds[-10.0, 10.0], N[5]"
      ]
     },
     "execution_count": 3,
     "metadata": {},
     "output_type": "execute_result"
    }
   ],
   "source": [
    "# create coordinates for data\n",
    "lat = np.linspace(-10, 10, 5)\n",
    "lon = np.linspace(-10, 10, 5)\n",
    "native_coords = podpac.Coordinates([lat, lon], ['lat', 'lon'])\n",
    "native_coords"
   ]
  },
  {
   "cell_type": "code",
   "execution_count": 4,
   "metadata": {},
   "outputs": [
    {
     "data": {
      "text/plain": [
       "<Array(shape=(5, 5), interpolation='nearest')>"
      ]
     },
     "execution_count": 4,
     "metadata": {},
     "output_type": "execute_result"
    }
   ],
   "source": [
    "# create Array DataSource node\n",
    "node = podpac.data.Array(source=data, coordinates=native_coords)\n",
    "node"
   ]
  },
  {
   "cell_type": "code",
   "execution_count": 5,
   "metadata": {},
   "outputs": [
    {
     "data": {
      "text/html": [
       "<pre>&lt;xarray.UnitsDataArray (lat: 5, lon: 5)&gt;\n",
       "array([[0.35094566, 0.10306326, 0.31674056, 0.15695824, 0.21146349],\n",
       "       [0.24873832, 0.3089763 , 0.46747078, 0.23612607, 0.64935767],\n",
       "       [0.53687121, 0.60324858, 0.30902533, 0.98007456, 0.67090794],\n",
       "       [0.05882164, 0.18307798, 0.79990617, 0.29424941, 0.81792261],\n",
       "       [0.92751062, 0.84419354, 0.30975629, 0.60506475, 0.06056753]])\n",
       "Coordinates:\n",
       "  * lat      (lat) float64 -10.0 -5.0 0.0 5.0 10.0\n",
       "  * lon      (lon) float64 -10.0 -5.0 0.0 5.0 10.0\n",
       "Attributes:\n",
       "    layer_style:   &lt;podpac.core.style.Style object at 0x0000013A36AE4688&gt;\n",
       "    crs:           EPSG:4326\n",
       "    geotransform:  (-12.5, 5.0, 0.0, -12.5, 0.0, 5.0)</pre>"
      ],
      "text/plain": [
       "<xarray.UnitsDataArray (lat: 5, lon: 5)>\n",
       "array([[0.35094566, 0.10306326, 0.31674056, 0.15695824, 0.21146349],\n",
       "       [0.24873832, 0.3089763 , 0.46747078, 0.23612607, 0.64935767],\n",
       "       [0.53687121, 0.60324858, 0.30902533, 0.98007456, 0.67090794],\n",
       "       [0.05882164, 0.18307798, 0.79990617, 0.29424941, 0.81792261],\n",
       "       [0.92751062, 0.84419354, 0.30975629, 0.60506475, 0.06056753]])\n",
       "Coordinates:\n",
       "  * lat      (lat) float64 -10.0 -5.0 0.0 5.0 10.0\n",
       "  * lon      (lon) float64 -10.0 -5.0 0.0 5.0 10.0\n",
       "Attributes:\n",
       "    layer_style:   <podpac.core.style.Style object at 0x0000013A36AE4688>\n",
       "    crs:           EPSG:4326\n",
       "    geotransform:  (-12.5, 5.0, 0.0, -12.5, 0.0, 5.0)"
      ]
     },
     "execution_count": 5,
     "metadata": {},
     "output_type": "execute_result"
    }
   ],
   "source": [
    "# evaluate this note at its coordinates\n",
    "output = node.eval(node.coordinates)\n",
    "output"
   ]
  },
  {
   "cell_type": "code",
   "execution_count": 6,
   "metadata": {},
   "outputs": [
    {
     "data": {
      "image/png": "[encoded data removed]",
      "text/plain": [
       "<Figure size 432x288 with 2 Axes>"
      ]
     },
     "metadata": {
      "needs_background": "light"
     },
     "output_type": "display_data"
    }
   ],
   "source": [
    "output.plot()\n",
    "pass"
   ]
  },
  {
   "cell_type": "code",
   "execution_count": 7,
   "metadata": {},
   "outputs": [
    {
     "name": "stderr",
     "output_type": "stream",
     "text": [
      "INFO:numexpr.utils:NumExpr defaulting to 8 threads.\n"
     ]
    },
    {
     "data": {
      "image/png": "[encoded data removed]",
      "text/plain": [
       "<Figure size 432x288 with 2 Axes>"
      ]
     },
     "metadata": {
      "needs_background": "light"
     },
     "output_type": "display_data"
    }
   ],
   "source": [
    "# scale down data (higher resolution)\n",
    "# default interpolation is nearest neighbor\n",
    "coords = podpac.Coordinates([np.linspace(-10, 10, 50), np.linspace(-10, 10, 50)], ['lat', 'lon'])\n",
    "output = node.eval(coords)\n",
    "output.plot()\n",
    "pass"
   ]
  },
  {
   "cell_type": "code",
   "execution_count": 8,
   "metadata": {},
   "outputs": [
    {
     "data": {
      "text/plain": [
       "<Array(shape=(5, 5), interpolation='bilinear')>"
      ]
     },
     "execution_count": 8,
     "metadata": {},
     "output_type": "execute_result"
    }
   ],
   "source": [
    "# create Array DataSource node with  bilinear interpolation to scale down (higher resolution) \n",
    "node = podpac.data.Array(source=data, coordinates=native_coords, interpolation=\"bilinear\")\n",
    "node"
   ]
  },
  {
   "cell_type": "code",
   "execution_count": 9,
   "metadata": {},
   "outputs": [
    {
     "data": {
      "image/png": "[encoded data removed]",
      "text/plain": [
       "<Figure size 432x288 with 2 Axes>"
      ]
     },
     "metadata": {
      "needs_background": "light"
     },
     "output_type": "display_data"
    }
   ],
   "source": [
    "output = node.eval(coords)\n",
    "output.plot()\n",
    "pass"
   ]
  }
 ],
 "metadata": {
  "kernelspec": {
   "display_name": "Python 3",
   "language": "python",
   "name": "python3"
  },
  "language_info": {
   "codemirror_mode": {
    "name": "ipython",
    "version": 3
   },
   "file_extension": ".py",
   "mimetype": "text/x-python",
   "name": "python",
   "nbconvert_exporter": "python",
   "pygments_lexer": "ipython3",
   "version": "3.7.6"
  }
 },
 "nbformat": 4,
 "nbformat_minor": 4
}
