{
 "cells": [
  {
   "cell_type": "markdown",
   "metadata": {
    "slideshow": {
     "slide_type": "slide"
    }
   },
   "source": [
    "<center>\n",
    "\n",
    "## PODPAC: Pipeline for Observational Data Processing Analysis and Collaboration\n",
    "\n",
    "<img src='../Images/podpac-logo.png' style='margin-bottom:-60px;margin-top:0px;margin-left:auto;margin-right:auto'/>\n",
    "\n",
    "#### NASA / USFS (Salt Lake City, UT) <br><br> Marc Shapiro (Creare LLC) <br><br> <small>April 30, 2018</small>\n",
    "</center>\n",
    "\n",
    "<a style='font-size:14pt;' href=https://github.com/creare-com/podpac_examples/notebooks/presentations/NASA-USFS-2019-05-02.ipynb>https://github.com/creare-com/podpac_examples/notebooks/presentations/NASA-USFS-2019-05-02.ipynb</a>"
   ]
  },
  {
   "cell_type": "markdown",
   "metadata": {
    "slideshow": {
     "slide_type": "slide"
    }
   },
   "source": [
    "# What is PODPAC and why do you care? (1/2)\n",
    "As a data scientist **I want to**: \n",
    "\n",
    "<p class='fragment' style='margin-bottom:-20px;'>1. <b>Find</b>: <i>Identify and obtain NASA data relevant to a scientific problem</i></p>\n",
    "<p class='fragment' style='margin-bottom:-20px;'>2. <b>Explore</b>: <i>Discover new characteristics or features in a NASA dataset</i></p>\n",
    "<p class='fragment' style='margin-bottom:-20px;'>3. <b>Produce</b>: <i>Derive new datasets by processing and integrating NASA data</i></p>\n",
    "<p class='fragment' style='margin-bottom:-20px;'>4. <b>Validate</b>: <i>Assess the goodness of a simulation dataset</i></p>\n",
    "<p class='fragment' style='margin-bottom:-20px;'>5. <b>Answer</b>: <i>Perform analysis/analytics on NASA data to answer scientific questions</i></p>\n",
    "<p class='fragment' style='margin-bottom:-20px;'>6. <b>Share</b>: <i>Distribute the results of analysis/analytics to others</i></p>\n",
    "<br>\n",
    "<p class='fragment'>...but <b>I have to</b> deal with large scale data challenges.</p>\n",
    "<p></p>\n",
    "<p style='font-size:12pt;'>Mehrotra, Piyush, et al. \"Supporting 'Big Data' Analysis and Analytics at the NASA advanced Supercomputing (NAS) Facility.\" NASA Ames Research Center, NASA Advanced Supercomputing TR-NAS-2014-02, Moffett Field, CA (2014).</p>"
   ]
  },
  {
   "cell_type": "markdown",
   "metadata": {
    "slideshow": {
     "slide_type": "subslide"
    }
   },
   "source": [
    "<div><div style='float:left; width:50%;'><img src='../Images/DataVariety.png' style='width:95%;'/></div>\n",
    "    <div class='fragment' style='float:right; width:50%;'><img src='../Images/DataVolume.png' style='width:95%;'/></div></div>\n",
    "<div style='clear:both'></div>"
   ]
  },
  {
   "cell_type": "markdown",
   "metadata": {
    "slideshow": {
     "slide_type": "subslide"
    }
   },
   "source": [
    "# What is PODPAC and why do you care? (2/2)\n",
    "* PODPAC addresses large scale data **variety** and **volume** challenges\n",
    "\n",
    "<img src='../Images/PODPAC.png' style='width:85%;margin-left:auto;margin-right:auto' />"
   ]
  },
  {
   "cell_type": "markdown",
   "metadata": {
    "slideshow": {
     "slide_type": "slide"
    }
   },
   "source": [
    "# Examples\n",
    "* [Introduction](../Introduction.ipynb)\n",
    "* [Reading a raster file](../basic_examples/open-raster-file.ipynb)\n",
    "* [Reading a .csv file](../basic_examples/open-point-file.ipynb)\n",
    "* [Creating coordinates](../basic_examples/using-coordinates.ipynb) \n",
    "* **[Retrieving SMAP data](../basic_examples/retrieving-SMAP-data.ipynb)**\n",
    "* **[Analyzing SMAP data](../basic_examples/analyzing-SMAP-data.ipynb)**\n",
    "* [Combining data sources in a custom algorithm](../basic_examples/combining-data-in-algorithm.ipynb)\n",
    "* [Compositing data sources together](../basic_examples/composite-array-datasources.ipynb)\n",
    "* [Working with SMAP-Sentinel data](../basic_examples/working-with-SMAP-Sentinel-data.ipynb)\n",
    "* **[Running pipelines in the cloud (using AWS Lambda functions)](../basic_examples/running-on-aws-lambda.ipynb)**"
   ]
  },
  {
   "cell_type": "markdown",
   "metadata": {
    "slideshow": {
     "slide_type": "subslide"
    }
   },
   "source": [
    "# Summary of other examples\n",
    "\n",
    "* Combining data sources in a custom algorithm \n",
    "* Compositing data sources together \n",
    "* Working with SMAP-Sentinel data \n",
    "\n",
    "<div style='display:flex;margin-left:100px;margin-right:100px;'><div><img src='../Images/algorithm-example.png' style='width:100%;' class='fragment'/>\n",
    "<img src='../Images/compositing-example.png' style='width:100%;' class='fragment'/>\n",
    "    </div>\n",
    "    <div class='fragment' style='margin-top:auto;margin-bottom:auto;'>\n",
    "        <img src='../Images/SMAP-Sentinel-example.png' style='width:100%;'/></div>\n",
    "    </div>"
   ]
  },
  {
   "cell_type": "markdown",
   "metadata": {
    "slideshow": {
     "slide_type": "slide"
    }
   },
   "source": [
    "# How to get involved\n",
    "<ul>\n",
    "    <li class='fragment'> <b>Status</b>: 1 year into a 2-year NASA SBIR project</li>\n",
    "    <li class='fragment'> <b>Year 1</b>: Develop prototype and Identify core applications for technology demonstrations</li>\n",
    "    <li class='fragment'> <b>Year 2</b>: Implement technology and build applications demonstrations</li>\n",
    "    <ul class='fragment'><li> We are looking for:</li>\n",
    "        <ul><li> Users</li>\n",
    "            <li> Success stories</li>\n",
    "            <li> Community involvement</li>\n",
    "        </ul>\n",
    "    </ul>\n",
    "</ul>"
   ]
  },
  {
   "cell_type": "markdown",
   "metadata": {
    "slideshow": {
     "slide_type": "slide"
    }
   },
   "source": [
    "# How to get started with PODPAC\n",
    "* Git repository: [https://github.com/creare-com/podpac](https://github.com/creare-com/podpac)\n",
    "* Documentation: [https://podpac.org](https://podpac.org)\n",
    "* Installation instructions: [https://podpac.org/install.html](https://podpac.org/install.html)\n",
    "* Examples Git repository: [https://github.com/creare-com/podpac_examples](https://github.com/creare-com/podpac_examples)\n",
    "* Problems? Create an issue: [https://github.com/creare-com/podpac/issues](https://github.com/creare-com/podpac/issues)"
   ]
  },
  {
   "cell_type": "markdown",
   "metadata": {
    "slideshow": {
     "slide_type": "subslide"
    }
   },
   "source": [
    "# Acknowledgments\n",
    "This material is based upon work supported by NASA under Contract No 80NSSC18C0061."
   ]
  }
 ],
 "metadata": {
  "celltoolbar": "Slideshow",
  "kernelspec": {
   "display_name": "Python 3",
   "language": "python",
   "name": "python3"
  },
  "language_info": {
   "codemirror_mode": {
    "name": "ipython",
    "version": 3
   },
   "file_extension": ".py",
   "mimetype": "text/x-python",
   "name": "python",
   "nbconvert_exporter": "python",
   "pygments_lexer": "ipython3",
   "version": "3.7.0"
  }
 },
 "nbformat": 4,
 "nbformat_minor": 2
}
