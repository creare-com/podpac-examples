{
 "cells": [
  {
   "cell_type": "markdown",
   "metadata": {
    "slideshow": {
     "slide_type": "slide"
    }
   },
   "source": [
    "<center>\n",
    "\n",
    "## PODPAC: Pipeline for Observational Data Processing, Analysis and Collaboration\n",
    "\n",
    "<a href=\"https://podpac.org\"><img src='../Images/podpac-logo.png' style='margin-bottom:-60px;margin-top:0px;margin-left:auto;margin-right:auto'/></a>\n",
    "\n",
    "#### NASA / USFS (Salt Lake City, UT) <br><br> Marc Shapiro (Creare LLC) <br><br> <small>April 30, 2018</small>\n",
    "</center>"
   ]
  },
  {
   "cell_type": "markdown",
   "metadata": {
    "slideshow": {
     "slide_type": "slide"
    }
   },
   "source": [
    "# What is PODPAC and why do you care?\n",
    "\n",
    "As a geospatial scientist **I want to**: \n",
    "\n",
    "<p class='fragment' style='margin-bottom:-20px;'>1. <b>Find</b>: <i>Identify and obtain geospatial data relevant to a scientific problem</i></p>\n",
    "<p class='fragment' style='margin-bottom:-20px;'>2. <b>Explore</b>: <i>Discover new characteristics or features in a geospatial dataset</i></p>\n",
    "<p class='fragment' style='margin-bottom:-20px;'>3. <b>Produce</b>: <i>Derive new datasets by processing and integrating geospatial data</i></p>\n",
    "<p class='fragment' style='margin-bottom:-20px;'>4. <b>Validate</b>: <i>Assess the goodness of a simulation dataset</i></p>"
   ]
  },
  {
   "cell_type": "markdown",
   "metadata": {
    "slideshow": {
     "slide_type": "subslide"
    }
   },
   "source": [
    "<p class='fragment' style='margin-bottom:-20px;'>5. <b>Answer</b>: <i>Perform analysis/analytics on geospatial data to answer scientific questions</i></p>\n",
    "<p class='fragment' style='margin-bottom:-20px;'>6. <b>Deploy</b>: <i>Build real-time production applications from analysis for end users </i></p>\n",
    "<br>\n",
    "<p class='fragment'>...but <b>I have to</b> deal with large scale data challenges.\n",
    "</p>\n",
    "<p></p>\n",
    "<p class='fragment' style='font-size:12pt;'>Mehrotra, Piyush, et al. \"Supporting 'Big Data' Analysis and Analytics at the NASA advanced Supercomputing (NAS) Facility.\" NASA Ames Research Center, NASA Advanced Supercomputing TR-NAS-2014-02, Moffett Field, CA (2014).</p>"
   ]
  },
  {
   "cell_type": "markdown",
   "metadata": {
    "slideshow": {
     "slide_type": "subslide"
    }
   },
   "source": [
    "<div><div style='float:left; width:50%;'><img src='../Images/DataVariety.png' style='width:95%;'/></div>\n",
    "    <div class='fragment' style='float:right; width:50%;'><img src='../Images/DataVolume.png' style='width:95%;'/></div></div>\n",
    "<div style='clear:both'></div>"
   ]
  },
  {
   "cell_type": "markdown",
   "metadata": {
    "slideshow": {
     "slide_type": "subslide"
    }
   },
   "source": [
    "# What is PODPAC and why do you care? \n",
    "\n",
    "<img src='../Images/PODPAC.png' style='width:85%;margin-left:auto;margin-right:auto' />"
   ]
  },
  {
   "cell_type": "markdown",
   "metadata": {
    "slideshow": {
     "slide_type": "subslide"
    }
   },
   "source": [
    "## Philosophy\n",
    "\n",
    "- Leverage open-source tools with momentum by the geospatial community ([NumFocus](https://numfocus.org/sponsored-projects), [Pangeo](https://pangeo.io/))\n",
    "- Wrap datasets **once**\n",
    "- Make analysis repeatable and transparent\n",
    "- Bring the analysis to the data (less downloading)\n",
    "- Provide a bridge from analysis (python) to application (web)"
   ]
  },
  {
   "cell_type": "markdown",
   "metadata": {
    "slideshow": {
     "slide_type": "slide"
    }
   },
   "source": [
    "## Try it Out\n",
    "\n",
    "- Visit: https://github.com/creare-com/podpac-examples\n",
    "    - Click \"Launch Binder\"\n",
    "    - Navigate to: *notebooks* -> *basic_examples*\n",
    "- Earth Data Login:\n",
    "    - username:`podpac_demo`\n",
    "    - password: `PODPAC-demo-2019`"
   ]
  },
  {
   "cell_type": "markdown",
   "metadata": {
    "slideshow": {
     "slide_type": "subslide"
    }
   },
   "source": [
    "# Examples\n",
    "\n",
    "## Introduction\n",
    "\n",
    "* [Introduction](../Introduction.ipynb)\n",
    "* [Reading a raster file](../basic_examples/001-open-raster-file.ipynb)\n",
    "* [Reading a .csv file](../basic_examples/002-open-point-file.ipynb)\n",
    "* [Creating coordinates](../basic_examples/020-using-coordinates.ipynb)\n",
    "* [Combining data sources in a custom algorithm](../basic_examples/003-combining-data-in-algorithm.ipynb)"
   ]
  },
  {
   "cell_type": "markdown",
   "metadata": {
    "slideshow": {
     "slide_type": "subslide"
    }
   },
   "source": [
    "## Applications\n",
    "\n",
    "* **[Retrieving SMAP data](../basic_examples/010-retrieving-SMAP-data.ipynb)**\n",
    "* **[Analyzing SMAP data](../basic_examples/100-analyzing-SMAP-data.ipynb)**\n",
    "* [Compositing data sources together](../basic_examples/021-composite-array-datasources.ipynb)\n",
    "* [Working with SMAP-Sentinel data](../basic_examples/101-working-with-SMAP-Sentinel-data.ipynb)\n",
    "* **[Running pipelines in the cloud (using AWS Lambda functions)](../basic_examples/200-running-on-aws-lambda.ipynb)**"
   ]
  },
  {
   "cell_type": "markdown",
   "metadata": {
    "slideshow": {
     "slide_type": "subslide"
    }
   },
   "source": [
    "# Summary of other examples\n",
    "\n",
    "* Combining data sources in a custom algorithm \n",
    "* Compositing data sources together \n",
    "* Working with SMAP-Sentinel data \n",
    "\n",
    "<div style='display:flex;margin-left:100px;margin-right:100px;'><div><img src='../Images/algorithm-example.png' style='width:100%;' class='fragment'/>\n",
    "<img src='../Images/compositing-example.png' style='width:100%;' class='fragment'/>\n",
    "    </div>\n",
    "    <div class='fragment' style='margin-top:auto;margin-bottom:auto;'>\n",
    "        <img src='../Images/SMAP-Sentinel-example.png' style='width:100%;'/></div>\n",
    "    </div>"
   ]
  },
  {
   "cell_type": "markdown",
   "metadata": {
    "slideshow": {
     "slide_type": "slide"
    }
   },
   "source": [
    "# How to get involved\n",
    "\n",
    "**Status**: 1 year into a 2-year NASA SBIR project\n",
    "\n",
    "<ul>\n",
    "    <li class='fragment'><del><b>Year 1</b>: Develop prototype and Identify core applications for technology demonstrations</del></li>\n",
    "    <li class='fragment'> <b>Year 2</b>: Implement technology and build applications</li>\n",
    "</ul>"
   ]
  },
  {
   "cell_type": "markdown",
   "metadata": {
    "slideshow": {
     "slide_type": "subslide"
    }
   },
   "source": [
    "# How to get involved\n",
    "\n",
    "We will help implement your application!\n",
    "\n",
    "We are looking for:\n",
    "\n",
    "- Users\n",
    "- Applications\n",
    "- Success Stories\n",
    "- Community Involvement"
   ]
  },
  {
   "cell_type": "markdown",
   "metadata": {
    "slideshow": {
     "slide_type": "slide"
    }
   },
   "source": [
    "\n",
    "# How to get started with PODPAC\n",
    "\n",
    "* Git repository: [https://github.com/creare-com/podpac](https://github.com/creare-com/podpac)\n",
    "* Documentation: [https://podpac.org](https://podpac.org)\n",
    "* Installation instructions: [https://podpac.org/install.html](https://podpac.org/install.html)\n",
    "* Examples Git repository: [https://github.com/creare-com/podpac_examples](https://github.com/creare-com/podpac_examples)\n",
    "* Problems? Create an issue: [https://github.com/creare-com/podpac/issues](https://github.com/creare-com/podpac/issues)"
   ]
  },
  {
   "cell_type": "markdown",
   "metadata": {
    "slideshow": {
     "slide_type": "subslide"
    }
   },
   "source": [
    "# Acknowledgments\n",
    "This material is based upon work supported by NASA under Contract No 80NSSC18C0061."
   ]
  }
 ],
 "metadata": {
  "celltoolbar": "Slideshow",
  "kernelspec": {
   "display_name": "Python 3",
   "language": "python",
   "name": "python3"
  },
  "language_info": {
   "codemirror_mode": {
    "name": "ipython",
    "version": 3
   },
   "file_extension": ".py",
   "mimetype": "text/x-python",
   "name": "python",
   "nbconvert_exporter": "python",
   "pygments_lexer": "ipython3",
   "version": "3.7.0"
  }
 },
 "nbformat": 4,
 "nbformat_minor": 2
}
