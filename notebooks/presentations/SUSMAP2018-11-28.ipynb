{
 "cells": [
  {
   "cell_type": "markdown",
   "metadata": {
    "slideshow": {
     "slide_type": "slide"
    }
   },
   "source": [
    " # Plug-and-Play Access, Processing, and Analysis of SMAP Data Using the Open Source Python Library, PODPAC\n",
    "\n",
    "## SMAP Science Utilization Meeting #2\n",
    "\n",
    "## Matt Ueckermann, Jerry Bieszczad, Dara Entekhabi\n",
    "\n",
    "### November 28, 2018"
   ]
  },
  {
   "cell_type": "markdown",
   "metadata": {
    "slideshow": {
     "slide_type": "slide"
    }
   },
   "source": [
    "# What is PODPAC and why do you care? (1/2)\n",
    "As a scientist **I want to**: \n",
    "1. Find: *Identify and obtain NASA data relevant to a scientific problem*\n",
    "2. Explore: *Discover new characteristics or features in a NASA dataset*\n",
    "3. Produce: *Derive new datasets by processing and integrating NASA data*\n",
    "4. Validate: *Assess the goodness of a simulation dataset*\n",
    "5. Answer: *Perform analysis/analytics on NASA data to answer scientific questions*\n",
    "6. Share: *Distribute the results of analysis/analytics to others*\n",
    "\n",
    "...but **I have to** deal with large scale data challenges."
   ]
  },
  {
   "cell_type": "markdown",
   "metadata": {
    "slideshow": {
     "slide_type": "subslide"
    }
   },
   "source": [
    "# What is PODPAC and why do you care? (2/2)\n",
    "* PODPAC is a Python (2/3) library developed to address the large scale data **variety** and **volume** challenges\n",
    "<img src='../Images/PODPAC.png' width='80%'/>"
   ]
  },
  {
   "cell_type": "markdown",
   "metadata": {
    "slideshow": {
     "slide_type": "subslide"
    }
   },
   "source": [
    "* So scientists **don't have to** deal with ***data-wrangling***\n",
    "<img src='../Images/VarietyVolume.png' width='80%'/>"
   ]
  },
  {
   "cell_type": "markdown",
   "metadata": {
    "slideshow": {
     "slide_type": "subslide"
    }
   },
   "source": [
    "# PODPAC's Core Features\n",
    "\n",
    "<img src='../Images/podpac-feature-benefits.png' width='80%' />"
   ]
  },
  {
   "cell_type": "markdown",
   "metadata": {
    "slideshow": {
     "slide_type": "slide"
    }
   },
   "source": [
    "# Examples\n",
    "* [Introduction](../Introduction.ipynb)\n",
    "* [Reading a raster file](../basic_examples/open-raster-file.ipynb)\n",
    "* [Reading a .csv file](../basic_examples/open_point_file.ipynb)\n",
    "* [Creating coordinates](../basic_examples/using-coordinates.ipynb) \n",
    "* [Retrieving SMAP data](../basic_examples/retrieving-SMAP-data)\n",
    "* [Combining data sources in a custom algorithm](combining-data-in-algorithm)\n",
    "* [Compositing data sources together](../basic_examples/composite-array-datasources.ipynb)\n",
    "* [Looking at SMAP-Sentinal data](../demos/SMAP-Sentinel-data-access.ipynb)\n",
    "* [Running pipelines in the cloud (using AWS Lambda functions)](../basic_examples/running-on-aws-lambda.ipynb)"
   ]
  },
  {
   "cell_type": "markdown",
   "metadata": {
    "slideshow": {
     "slide_type": "slide"
    }
   },
   "source": [
    "# Next Steps\n",
    "* Year 1 Goal: implement core functionality\n",
    "* Year 2 Goal: develop features to support your applications\n",
    "* We are looking for:\n",
    "    * early adoptors\n",
    "    * feedback\n",
    "    * demonstrations and applications\n",
    "    * contributors"
   ]
  },
  {
   "cell_type": "markdown",
   "metadata": {
    "slideshow": {
     "slide_type": "slide"
    }
   },
   "source": [
    "# How to get PODPAC?\n",
    "* Git Repository: [https://github.com/creare-com/podpac](https://github.com/creare-com/podpac)\n",
    "* Documentation: [https://creare-com.github.io/podpac-docs/](https://creare-com.github.io/podpac-docs/)\n",
    "* Installation Instructions: [https://creare-com.github.io/podpac-docs/install.html](https://creare-com.github.io/podpac-docs/install.html)\n",
    "* Problems? Create an Issues: [https://github.com/creare-com/podpac/issues](https://github.com/creare-com/podpac/issues)a"
   ]
  }
 ],
 "metadata": {
  "kernelspec": {
   "display_name": "Python 3",
   "language": "python",
   "name": "python3"
  },
  "language_info": {
   "codemirror_mode": {
    "name": "ipython",
    "version": 3
   },
   "file_extension": ".py",
   "mimetype": "text/x-python",
   "name": "python",
   "nbconvert_exporter": "python",
   "pygments_lexer": "ipython3",
   "version": "3.6.3"
  }
 },
 "nbformat": 4,
 "nbformat_minor": 2
}
