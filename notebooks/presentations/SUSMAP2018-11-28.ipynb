{
 "cells": [
  {
   "cell_type": "markdown",
   "metadata": {
    "slideshow": {
     "slide_type": "slide"
    }
   },
   "source": [
    "## Plug-and-Play Access, Processing, and Analysis of SMAP Data Using the Open Source Python Library, PODPAC\n",
    "\n",
    "<img src='../Images/podpac-logo.png' style='margin-bottom:-80px;margin-top:0px;margin-left:auto;margin-right:auto'/>\n",
    "\n",
    "### Science Utilization of SMAP Meeting #2, (Arcadia, CA)\n",
    "\n",
    "### Matt Ueckermann, Jerry Bieszczad (Creare LLC) <br> Dara Entekhabi (MIT)\n",
    "\n",
    "#### November 28, 2018\n",
    "\n",
    "<a style='font-size:20pt;' href=https://github.com/creare-com/podpac_examples/notebooks/presentations/SUSMAP2018-11-28.ipynb>https://github.com/creare-com/podpac_examples/notebooks/presentations/SUSMAP2018-11-28.ipynb</a>"
   ]
  },
  {
   "cell_type": "markdown",
   "metadata": {
    "slideshow": {
     "slide_type": "slide"
    }
   },
   "source": [
    "# What is PODPAC and why do you care? (1/2)\n",
    "As a data scientist **I want to**: \n",
    "\n",
    "<p class='fragment' style='margin-bottom:-20px;'>1. <b>Find</b>: <i>Identify and obtain NASA data relevant to a scientific problem</i></p>\n",
    "<p class='fragment' style='margin-bottom:-20px;'>2. <b>Explore</b>: <i>Discover new characteristics or features in a NASA dataset</i></p>\n",
    "<p class='fragment' style='margin-bottom:-20px;'>3. <b>Produce</b>: <i>Derive new datasets by processing and integrating NASA data</i></p>\n",
    "<p class='fragment' style='margin-bottom:-20px;'>4. <b>Validate</b>: <i>Assess the goodness of a simulation dataset</i></p>\n",
    "<p class='fragment' style='margin-bottom:-20px;'>5. <b>Answer</b>: <i>Perform analysis/analytics on NASA data to answer scientific questions</i></p>\n",
    "<p class='fragment' style='margin-bottom:-20px;'>6. <b>Share</b>: <i>Distribute the results of analysis/analytics to others</i></p>\n",
    "<br>\n",
    "<p class='fragment'>...but <b>I have to</b> deal with large scale data challenges.</p>\n",
    "<p></p>\n",
    "<p style='font-size:12pt;'>Mehrotra, Piyush, et al. \"Supporting 'Big Data' Analysis and Analytics at the NASA advanced Supercomputing (NAS) Facility.\" NASA Ames Research Center, NASA Advanced Supercomputing TR-NAS-2014-02, Moffett Field, CA (2014).</p>"
   ]
  },
  {
   "cell_type": "markdown",
   "metadata": {
    "slideshow": {
     "slide_type": "subslide"
    }
   },
   "source": [
    "<div><div style='float:left; width:50%;'><img src='../Images/DataVariety.png' style='width:95%;'/></div>\n",
    "    <div class='fragment' style='float:right; width:50%;'><img src='../Images/DataVolume.png' style='width:95%;'/></div></div>\n",
    "<div style='clear:both'></div>"
   ]
  },
  {
   "cell_type": "markdown",
   "metadata": {
    "slideshow": {
     "slide_type": "subslide"
    }
   },
   "source": [
    "# What is PODPAC and why do you care? (2/2)\n",
    "* PODPAC addresses large scale data **variety** and **volume** challenges\n",
    "\n",
    "<img src='../Images/PODPAC.png' style='width:85%;margin-left:auto;margin-right:auto' />"
   ]
  },
  {
   "cell_type": "markdown",
   "metadata": {
    "slideshow": {
     "slide_type": "slide"
    }
   },
   "source": [
    "# Examples\n",
    "* [Introduction](../Introduction.ipynb)\n",
    "* [Reading a raster file](../basic_examples/open-raster-file.ipynb)\n",
    "* [Reading a .csv file](../basic_examples/open-point-file.ipynb)\n",
    "* [Creating coordinates](../basic_examples/using-coordinates.ipynb) \n",
    "* **[Retrieving SMAP data](../basic_examples/retrieving-SMAP-data.ipynb)**\n",
    "* **[Analyzing SMAP data](../basic_examples/analyzing-SMAP-data.ipynb)**\n",
    "* [Combining data sources in a custom algorithm](../basic_examples/combining-data-in-algorithm.ipynb)\n",
    "* [Compositing data sources together](../basic_examples/composite-array-datasources.ipynb)\n",
    "* [Working with SMAP-Sentinel data](../basic_examples/working-with-SMAP-Sentinel-data.ipynb)\n",
    "* **[Running pipelines in the cloud (using AWS Lambda functions)](../basic_examples/running-on-aws-lambda.ipynb)**"
   ]
  },
  {
   "cell_type": "markdown",
   "metadata": {
    "slideshow": {
     "slide_type": "subslide"
    }
   },
   "source": [
    "# Summary of other examples\n",
    "\n",
    "* Combining data sources in a custom algorithm \n",
    "* Compositing data sources together \n",
    "* Working with SMAP-Sentinel data \n",
    "\n",
    "<div style='display:flex;margin-left:100px;margin-right:100px;'><div><img src='../Images/algorithm-example.png' style='width:100%;' class='fragment'/>\n",
    "<img src='../Images/compositing-example.png' style='width:100%;' class='fragment'/>\n",
    "    </div>\n",
    "    <div class='fragment' style='margin-top:auto;margin-bottom:auto;'>\n",
    "        <img src='../Images/SMAP-Sentinel-example.png' style='width:100%;'/></div>\n",
    "    </div>"
   ]
  },
  {
   "cell_type": "markdown",
   "metadata": {
    "slideshow": {
     "slide_type": "slide"
    }
   },
   "source": [
    "# How to get involved (1/2)\n",
    "<ul>\n",
    "    <li class='fragment'> <b>Status</b>: Month 7 of 2-year NASA SBIR project</li>\n",
    "    <li class='fragment'> <b>Year 1</b>: Identify core applications for technology demonstrations</li>\n",
    "    <ul class='fragment'><li> We are looking for your help:</li>\n",
    "    <ul>\n",
    "        <li> Feedback</li>\n",
    "        <ul><li>Needs of the community</li>\n",
    "            <li>Example use cases</li>\n",
    "        </ul>\n",
    "        <li> Early adopters</li>\n",
    "        <li> Contributors</li>\n",
    "        </ul></ul>\n",
    "</ul>"
   ]
  },
  {
   "cell_type": "markdown",
   "metadata": {
    "slideshow": {
     "slide_type": "subslide"
    }
   },
   "source": [
    "# How to get involved (2/2)\n",
    "<ul class='fragment'>\n",
    "    <li> <b>Year 2</b>: Implement technology demonstrations</li>\n",
    "    <ul class='fragment'><li> We are looking for:</li>\n",
    "    <ul><li> Users</li>\n",
    "        <li> Success stories</li>\n",
    "        <li> A self-sufficient community</li>\n",
    "    </ul></ul>\n",
    "</ul>"
   ]
  },
  {
   "cell_type": "markdown",
   "metadata": {
    "slideshow": {
     "slide_type": "slide"
    }
   },
   "source": [
    "# How to get started with PODPAC\n",
    "* Git repository: [https://github.com/creare-com/podpac](https://github.com/creare-com/podpac)\n",
    "* Documentation: [https://creare-com.github.io/podpac-docs/](https://creare-com.github.io/podpac-docs/)\n",
    "* Installation instructions: [https://creare-com.github.io/podpac-docs/install.html](https://creare-com.github.io/podpac-docs/install.html)\n",
    "* Examples Git repository: [https://github.com/creare-com/podpac_examples](https://github.com/creare-com/podpac_examples)\n",
    "* Problems? Create an issue: [https://github.com/creare-com/podpac/issues](https://github.com/creare-com/podpac/issues)\n",
    "\n",
    "# Acknowledgments\n",
    "This material is based upon work supported by NASA under Contract No 80NSSC18C0061."
   ]
  }
 ],
 "metadata": {
  "celltoolbar": "Slideshow",
  "kernelspec": {
   "display_name": "Python 3",
   "language": "python",
   "name": "python3"
  },
  "language_info": {
   "codemirror_mode": {
    "name": "ipython",
    "version": 3
   },
   "file_extension": ".py",
   "mimetype": "text/x-python",
   "name": "python",
   "nbconvert_exporter": "python",
   "pygments_lexer": "ipython3",
   "version": "3.6.6"
  }
 },
 "nbformat": 4,
 "nbformat_minor": 2
}
