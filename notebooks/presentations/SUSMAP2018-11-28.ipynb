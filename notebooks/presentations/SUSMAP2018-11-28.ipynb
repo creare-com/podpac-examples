{
 "cells": [
  {
   "cell_type": "markdown",
   "metadata": {
    "slideshow": {
     "slide_type": "slide"
    }
   },
   "source": [
    "# Plug-and-Play Access, Processing, and Analysis of SMAP Data Using the Open Source Python Library, PODPAC\n",
    "\n",
    "## SMAP Science Utilization Meeting #2\n",
    "\n",
    "## Matt Ueckermann, Jerry Bieszczad, Dara Entekhabi\n",
    "\n",
    "### November 28, 2018"
   ]
  },
  {
   "cell_type": "markdown",
   "metadata": {
    "slideshow": {
     "slide_type": "slide"
    }
   },
   "source": [
    "# What is PODPAC and why do you care? (1/2)\n",
    "As a scientist **I want to**: \n",
    "1. Find: *Identify and obtain NASA data relevant to a scientific problem*\n",
    "2. Explore: *Discover new characteristics or features in a NASA dataset*\n",
    "3. Produce: *Derive new datasets by processing and integrating NASA data*\n",
    "4. Validate: *Assess the goodness of a simulation dataset*\n",
    "5. Answer: *Perform analysis/analytics on NASA data to answer scientific questions*\n",
    "6. Share: *Distribute the results of analysis/analytics to others*\n",
    "\n",
    "...but **I have to** deal with large scale data challenges."
   ]
  },
  {
   "cell_type": "markdown",
   "metadata": {
    "slideshow": {
     "slide_type": "subslide"
    }
   },
   "source": [
    "# What is PODPAC and why do you care? (2/2)\n",
    "* PODPAC is a Python (2/3) library developed to address the large scale data **variety** and **volume** challenges\n",
    "<img src='../Images/PODPAC.png' width='100%'/>"
   ]
  },
  {
   "cell_type": "markdown",
   "metadata": {
    "slideshow": {
     "slide_type": "subslide"
    }
   },
   "source": [
    "* So scientists **don't have to** deal with ***data-wrangling***\n",
    "<img src='../Images/VarietyVolume.png' width='100%'/>"
   ]
  },
  {
   "cell_type": "markdown",
   "metadata": {
    "slideshow": {
     "slide_type": "subslide"
    }
   },
   "source": [
    "# PODPAC's Core Features\n",
    "\n",
    "| Feature                                                                                                                                                                                          | Benefit                                                                                                                                                                                                                                                                                                                                                      |\n",
    "|--------------------------------------------------------------------------------------------------------------------------------------------------------------------------------------------------|--------------------------------------------------------------------------------------------------------------------------------------------------------------------------------------------------------------------------------------------------------------------------------------------------------------------------------------------------------------|\n",
    "| Integrated with NASA observational products and other data sources                                                                                                                               |  <ul><li> Access SMAP data through a single, unified interface </li>     <ul><li> No need to download individual files</li>      <li> No need for custom scripts to retrieve data </li>     </ul> <li> Framework for making additional data sources available </li>  <li> Community contributions welcomed to provide access to more data sources</li> </ul> |\n",
    "|  Automated Data Wrangling <ul><li> Coordinate reference systems</li> <li> Geospatial projections</li>  <li> Data structures</li>  <li> Interpolation (re-gridding) </li>  <li> Units </li> </ul> |  <ul><li> Combine data in a plug-and-play manner</li> <li> Save time not having to repeat code</li>  <li> Reduce conversion errors</li> </ul>                                                                                                                                                                                                                |\n",
    "| Pipeline Architecture with Recorded Provenance                                                                                                                                                   |  <ul><li> Share algorithms using light-weight JSON-formatted text</li> <li> Swap data sources into existing processing pipelines</li> <li> Reuse algorithms and data-sources</li>  <li> Save time by using existing pipeline Nodes (building blocks)</li> </ul>                                                                                              |\n",
    "| Caching                                                                                                                                                                                          |  <ul><li> Avoid downloading same data multiple times</li> <li> Store only the desired data locally</li>  <li> Only compute expensive quantities once</li> </ul>                                                                                                                                                                                              |"
   ]
  },
  {
   "cell_type": "markdown",
   "metadata": {
    "slideshow": {
     "slide_type": "slide"
    }
   },
   "source": [
    "# Examples\n",
    "* [Introduction](../Introduction.ipynb)\n",
    "* [Reading a raster file](../basic_examples/open-raster-file.ipynb)\n",
    "* [Reading a .csv file](../basic_examples/open_point_file.ipynb)\n",
    "* [Creating coordinates](../basic_examples/using-coordinates.ipynb) \n",
    "* [Retrieving SMAP data](../basic_examples/retrieving-SMAP-data)\n",
    "* [Combining data sources in a custom algorithm](combining-data-in-algorithm)\n",
    "* [Compositing data sources together](../basic_examples/composite-array-datasources.ipynb)\n",
    "* [Looking at SMAP-Sentinal data](../demos/SMAP-Sentinel-data-access.ipynb)\n",
    "* [Running pipelines in the cloud (using AWS Lambda functions)](../basic_examples/running-on-aws-lambda.ipynb)"
   ]
  },
  {
   "cell_type": "markdown",
   "metadata": {
    "slideshow": {
     "slide_type": "slide"
    }
   },
   "source": [
    "# How to get PODPAC?\n",
    "* Git Repository: [https://github.com/creare-com/podpac](https://github.com/creare-com/podpac)\n",
    "* Documentation: [https://creare-com.github.io/podpac-docs/](https://creare-com.github.io/podpac-docs/)\n",
    "* Installation Instructions: [https://creare-com.github.io/podpac-docs/install.html](https://creare-com.github.io/podpac-docs/install.html)\n",
    "* Problems? Create an Issues: [https://github.com/creare-com/podpac/issues](https://github.com/creare-com/podpac/issues)\n"
   ]
  }
 ],
 "metadata": {
  "kernelspec": {
   "display_name": "Python 3",
   "language": "python",
   "name": "python3"
  },
  "language_info": {
   "codemirror_mode": {
    "name": "ipython",
    "version": 3
   },
   "file_extension": ".py",
   "mimetype": "text/x-python",
   "name": "python",
   "nbconvert_exporter": "python",
   "pygments_lexer": "ipython3",
   "version": "3.6.3"
  }
 },
 "nbformat": 4,
 "nbformat_minor": 2
}
