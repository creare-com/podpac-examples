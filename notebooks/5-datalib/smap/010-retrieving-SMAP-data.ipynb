{
 "cells": [
  {
   "cell_type": "code",
   "execution_count": 1,
   "metadata": {
    "slideshow": {
     "slide_type": "skip"
    }
   },
   "outputs": [
    {
     "name": "stdout",
     "output_type": "stream",
     "text": [
      "Populating the interactive namespace from numpy and matplotlib\n"
     ]
    }
   ],
   "source": [
    "# For interactive plots, comment the next line\n",
    "%pylab inline\n",
    "# For interactive plots, uncomment the next line\n",
    "# %pylab ipympl\n",
    "import warnings\n",
    "warnings.filterwarnings('ignore')"
   ]
  },
  {
   "cell_type": "markdown",
   "metadata": {
    "slideshow": {
     "slide_type": "slide"
    }
   },
   "source": [
    "# Introduction\n",
    "\n",
    "This notebook demonstrates how to retrieve SMAP data via OpenDAP from NSIDC. Specifically, we will:\n",
    "* Retrieve data for a specified date and region\n",
    "* Retrieve data for specified points over a date range\n",
    "\n",
    "<div style='display:flex;'>\n",
    "    <div style='float:right; margin-left:100px;'><img src='../../../images/SMAP-example-region.png' style='width:100%;'/></div>\n",
    "    <div style='float:left; margin-right:100px;'><img src='../../../images/SMAP-example-time.png' style='width:100%;'/></div>\n",
    "</div>\n",
    "\n",
    "<small>*For instructions on using Jupyter notebooks, see the [README.md](../../../README.md) file.*</small>\n"
   ]
  },
  {
   "cell_type": "markdown",
   "metadata": {
    "slideshow": {
     "slide_type": "subslide"
    }
   },
   "source": [
    "# Setup\n",
    "\n",
    "Make sure you have PODPAC installed with the **datatype** optional dependencies:\n",
    "\n",
    "```\n",
    "$ pip install podpac[datatype]\n",
    "```"
   ]
  },
  {
   "cell_type": "markdown",
   "metadata": {
    "slideshow": {
     "slide_type": "slide"
    }
   },
   "source": [
    "# How to retrieve SMAP data using PODPAC"
   ]
  },
  {
   "cell_type": "markdown",
   "metadata": {
    "slideshow": {
     "slide_type": "subslide"
    }
   },
   "source": [
    "## Provide Earth Data Login Credentials\n",
    "If you do not have an earth data login, or have not activated OpenDAP access, follow the [instructions here](https://podpac.org/earthdata.html)."
   ]
  },
  {
   "cell_type": "code",
   "execution_count": 2,
   "metadata": {
    "slideshow": {
     "slide_type": "fragment"
    }
   },
   "outputs": [
    {
     "name": "stdin",
     "output_type": "stream",
     "text": [
      "Username: mpuecker\n",
      "Password: ··················\n"
     ]
    }
   ],
   "source": [
    "import getpass\n",
    "username = password = None\n",
    "username = input(\"Username:\");   password = getpass.getpass('Password:')"
   ]
  },
  {
   "cell_type": "markdown",
   "metadata": {
    "slideshow": {
     "slide_type": "slide"
    }
   },
   "source": [
    "## Create the PODPAC SMAP Node"
   ]
  },
  {
   "cell_type": "code",
   "execution_count": 3,
   "metadata": {
    "slideshow": {
     "slide_type": "fragment"
    }
   },
   "outputs": [
    {
     "data": {
      "text/plain": [
       "<SMAP()>"
      ]
     },
     "execution_count": 3,
     "metadata": {},
     "output_type": "execute_result"
    }
   ],
   "source": [
    "import podpac\n",
    "import podpac.datalib  # imports external data wrapper for PODPAC\n",
    "\n",
    "# Create the SMAP node\n",
    "product = 'SPL4SMAU'   # Level 4 soil moisture analysis update\n",
    "smap = podpac.datalib.SMAP(product=product,\n",
    "                           interpolation='nearest',\n",
    "                           username=username, password=password)\n",
    "smap"
   ]
  },
  {
   "cell_type": "markdown",
   "metadata": {
    "slideshow": {
     "slide_type": "slide"
    }
   },
   "source": [
    "##  Retrieve data for a specified date and region\n",
    "\n",
    "This example:\n",
    "\n",
    "* Retrieves data from NSIDC via OpenDAP\n",
    "* Only downloads data for the requested region and data product\n",
    "* Caches it locally\n",
    "* Automatically does nearest-neighbor interpolation to the user's specified grid"
   ]
  },
  {
   "cell_type": "code",
   "execution_count": 4,
   "metadata": {
    "slideshow": {
     "slide_type": "subslide"
    }
   },
   "outputs": [
    {
     "name": "stderr",
     "output_type": "stream",
     "text": [
      "INFO:numexpr.utils:NumExpr defaulting to 8 threads.\n"
     ]
    }
   ],
   "source": [
    "# Specify region of interest on a uniform grid\n",
    "lat = podpac.crange(  60,  10, -2.0)  # (start, stop, step)\n",
    "lon = podpac.crange(-130, -60,  2.0)  # (start, stop, step)\n",
    "\n",
    "# Specify date and time\n",
    "time = '2018-03-19T12:00:00'\n",
    "\n",
    "# Create the PODPAC Coordinates\n",
    "coords = podpac.Coordinates([lat, lon, time], dims=['lat', 'lon', 'time'])\n",
    "\n",
    "# Evaluate the node to retrieve and interpolate the data\n",
    "# (this will take a little while depending on network connection and NSIDC response)\n",
    "smap_data = smap.eval(coords)"
   ]
  },
  {
   "cell_type": "code",
   "execution_count": 5,
   "metadata": {
    "slideshow": {
     "slide_type": "fragment"
    }
   },
   "outputs": [
    {
     "data": {
      "image/png": "[encoded data removed]",
      "text/plain": [
       "<Figure size 432x288 with 2 Axes>"
      ]
     },
     "metadata": {
      "needs_background": "light"
     },
     "output_type": "display_data"
    }
   ],
   "source": [
    "# Plot the result\n",
    "smap_data.plot(cmap='gist_earth_r')    # cmap species the colormap of the colorbar\n",
    "pass"
   ]
  },
  {
   "cell_type": "markdown",
   "metadata": {
    "slideshow": {
     "slide_type": "slide"
    }
   },
   "source": [
    "## Retrieve data for specified points over a date range\n",
    "\n",
    "This example:\n",
    "\n",
    "* Retrieves subset of data from NSIDC via OpenDAP\n",
    "* Caches it locally\n",
    "* Accesses multiple (24) SMAP files in parallel"
   ]
  },
  {
   "cell_type": "code",
   "execution_count": 6,
   "metadata": {
    "slideshow": {
     "slide_type": "subslide"
    }
   },
   "outputs": [
    {
     "data": {
      "image/png": "[encoded data removed]",
      "text/plain": [
       "<Figure size 432x288 with 2 Axes>"
      ]
     },
     "metadata": {
      "needs_background": "light"
     },
     "output_type": "display_data"
    }
   ],
   "source": [
    "# Specify a few (lat, lon) points to get data for\n",
    "lat_pts = [45.0, 45.0,  45.0, 30.0]\n",
    "lon_pts = [-100.0, -70, -120.0, -100.0]\n",
    "\n",
    "# Plot the points on top of the SMAP data\n",
    "smap_data.plot(cmap='gist_earth_r')                 # plots smap data\n",
    "plot(lon_pts, lat_pts, 'r.', ms=25)   # plots point on map (defined above)\n",
    "pass"
   ]
  },
  {
   "cell_type": "code",
   "execution_count": 7,
   "metadata": {
    "slideshow": {
     "slide_type": "subslide"
    }
   },
   "outputs": [],
   "source": [
    "# Specify the time range\n",
    "time = podpac.crange('2018-05-15T00', '2018-05-19T00', '3,h')\n",
    "\n",
    "# Create the PODPAC coordinates\n",
    "coords = podpac.Coordinates([(lat_pts, lon_pts), time], dims=['lat_lon', 'time'])\n",
    "\n",
    "# To improve the speed of data retrieval, make 6 requests in parallel\n",
    "podpac.settings[\"MULTITHREADING\"] = False  # This might be needed depending on local settings\n",
    "podpac.settings[\"N_THREADS\"] = 6\n",
    "interpolation = {\n",
    "    'method': 'nearest',\n",
    "    'params': {\n",
    "        'time_tolerance': np.timedelta64(2, 'h')\n",
    "    }\n",
    "}\n",
    "smap = podpac.datalib.SMAP(product=product,\n",
    "                           interpolation=interpolation,\n",
    "                           username=username, password=password)\n",
    "\n",
    "# Evaluate the node to retrieve and interpolate the data\n",
    "# (this will take a little while depending on network connection and NSIDC response)\n",
    "smap_data = smap.eval(coords)"
   ]
  },
  {
   "cell_type": "code",
   "execution_count": 8,
   "metadata": {
    "slideshow": {
     "slide_type": "subslide"
    }
   },
   "outputs": [
    {
     "data": {
      "image/png": "[encoded data removed]",
      "text/plain": [
       "<Figure size 432x288 with 1 Axes>"
      ]
     },
     "metadata": {
      "needs_background": "light"
     },
     "output_type": "display_data"
    }
   ],
   "source": [
    "# Plot the results\n",
    "plot(smap_data.time, smap_data.transpose())\n",
    "title('Soil Moisture at specific points over time')\n",
    "\n",
    "# add a legend showing the (lat, lon) coordinates of each time series\n",
    "legend([str(points) for points in np.array([lat_pts, lon_pts]).transpose()])\n",
    "\n",
    "# fix the time ticks along the x-axis\n",
    "locs, labels = xticks()\n",
    "ax = xticks(locs[::2])\n",
    "pass"
   ]
  }
 ],
 "metadata": {
  "celltoolbar": "Slideshow",
  "kernelspec": {
   "display_name": "Python 3",
   "language": "python",
   "name": "python3"
  },
  "language_info": {
   "codemirror_mode": {
    "name": "ipython",
    "version": 3
   },
   "file_extension": ".py",
   "mimetype": "text/x-python",
   "name": "python",
   "nbconvert_exporter": "python",
   "pygments_lexer": "ipython3",
   "version": "3.7.7"
  },
  "widgets": {
   "application/vnd.jupyter.widget-state+json": {
    "state": {},
    "version_major": 2,
    "version_minor": 0
   }
  }
 },
 "nbformat": 4,
 "nbformat_minor": 4
}
