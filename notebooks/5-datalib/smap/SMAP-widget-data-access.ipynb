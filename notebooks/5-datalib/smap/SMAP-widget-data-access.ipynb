{
 "cells": [
  {
   "cell_type": "code",
   "execution_count": 1,
   "metadata": {},
   "outputs": [
    {
     "name": "stdout",
     "output_type": "stream",
     "text": [
      "Populating the interactive namespace from numpy and matplotlib\n"
     ]
    }
   ],
   "source": [
    "# Set up interactive plotting using matplotlib, and load numpy\n",
    "%pylab ipympl\n",
    "# %pylab inline\n",
    "import warnings\n",
    "warnings.filterwarnings('ignore')"
   ]
  },
  {
   "cell_type": "markdown",
   "metadata": {},
   "source": [
    "# Setup\n",
    "**Note** as of PODPAC 1.2.0, this is not working, potentially due to a change\n",
    "\n",
    "## Import PODPAC dependencies"
   ]
  },
  {
   "cell_type": "code",
   "execution_count": 2,
   "metadata": {},
   "outputs": [
    {
     "name": "stderr",
     "output_type": "stream",
     "text": [
      "INFO:botocore.credentials:Found credentials in shared credentials file: ~/.aws/credentials\n"
     ]
    }
   ],
   "source": [
    "import ipywidgets as widgets\n",
    "import ipyleaflet as leaf\n",
    "import traitlets as tl\n",
    "import numpy as np\n",
    "import podpac\n",
    "from podpac import clinspace, crange\n",
    "from podpac.datalib import smap"
   ]
  },
  {
   "cell_type": "markdown",
   "metadata": {},
   "source": [
    "## Provide Earth Data Login Credentials\n",
    "If you do not have an earth data login, or have not activated OpenDAP access, follow the [instructions here](https://creare-com.github.io/podpac-docs/user/earthdata.html)"
   ]
  },
  {
   "cell_type": "code",
   "execution_count": 3,
   "metadata": {},
   "outputs": [
    {
     "name": "stdin",
     "output_type": "stream",
     "text": [
      "Username: mpuecker\n",
      "Password: ··················\n"
     ]
    }
   ],
   "source": [
    "import getpass\n",
    "username = input(\"Username:\");   password = getpass.getpass('Password:')"
   ]
  },
  {
   "cell_type": "markdown",
   "metadata": {},
   "source": [
    "## Create the PODPAC SMAP Node"
   ]
  },
  {
   "cell_type": "code",
   "execution_count": 4,
   "metadata": {},
   "outputs": [],
   "source": [
    "# Create the SMAP node\n",
    "sm = smap.SMAP(username=username, password=password)"
   ]
  },
  {
   "cell_type": "markdown",
   "metadata": {},
   "source": [
    "# Create controller for execution of selected parameters"
   ]
  },
  {
   "cell_type": "code",
   "execution_count": 5,
   "metadata": {},
   "outputs": [],
   "source": [
    "class ExecuteControl(tl.HasTraits):\n",
    "    points = tl.List()\n",
    "    regions = tl.List()\n",
    "    lat_resolution = tl.Union([tl.Float(), tl.Int()], allow_none=True, default_value=None)\n",
    "    lon_resolution = tl.Union([tl.Float(), tl.Int()], allow_none=True, default_value=None)\n",
    "    node = tl.Instance(podpac.Node)\n",
    "    ui = tl.Instance(widgets.CoreWidget)\n",
    "    status = tl.Unicode()\n",
    "    results = tl.List()\n",
    "    \n",
    "    date_picker = tl.Instance(widgets.CoreWidget)\n",
    "    status_widget = tl.Instance(widgets.CoreWidget)\n",
    "    attrs = tl.Instance(widgets.CoreWidget)\n",
    "    resolution = tl.Instance(widgets.CoreWidget)\n",
    "    \n",
    "    @tl.observe('status')\n",
    "    def update_ui_status(self, change):\n",
    "        if not self.ui:\n",
    "            return\n",
    "        self.status_widget.value = self.status\n",
    "        \n",
    "    \n",
    "    def handle_draw(self, action, geo_json):\n",
    "        if action == 'created':\n",
    "            self.create_geom(geo_json['geometry']['type'], geo_json['geometry']['coordinates'])\n",
    "        else:\n",
    "            self.delete_geom(geo_json['geometry']['type'], geo_json['geometry']['coordinates'])\n",
    "            \n",
    "    def create_geom(self, type, coords):\n",
    "        if type == 'Point':\n",
    "            self.points.append(coords)\n",
    "        elif type == 'Polygon':\n",
    "            self.regions.append([coords[0][1], # upper-left corner\n",
    "                                coords[0][3]  # lower-right corner\n",
    "            ])\n",
    "            \n",
    "    def delete_geom(self, type, coords):\n",
    "        if type == 'Point':\n",
    "            self.points.pop(self.points.index(coords))\n",
    "        elif type == 'Polygon':\n",
    "            self.regions.pop(self.regions.index([coords[0][1], coords[0][3]]))\n",
    "\n",
    "    def make_coords(self):\n",
    "        # Make the time coordinates\n",
    "        time = self.make_time_coords()\n",
    "        if not time:\n",
    "            return []\n",
    "        \n",
    "        ignore_end_for_regions = execute_control.date_picker.children[1].children[1].value\n",
    "        time_r = time\n",
    "        if ignore_end_for_regions:\n",
    "            time_r = self.make_time_coords(True)\n",
    "        \n",
    "        if self.points:\n",
    "            points = [podpac.coordinates.merge_dims([podpac.Coordinates([np.array(self.points)[:,::-1].T], ['lat_lon']),  time])]\n",
    "        else: \n",
    "            points = []\n",
    "        rasters = []\n",
    "        if self.regions:\n",
    "            for r in self.regions:\n",
    "                if self.lat_resolution:\n",
    "                    lat = podpac.Coordinates([crange(r[0][1], r[1][1], self.lat_resolution)], ['lat'])\n",
    "                else: \n",
    "                    lat = self.node.find_coordinates()[0].intersect(podpac.Coordinates([clinspace(r[0][1], r[1][1], 2)] , ['lat']))\n",
    "                    lat = lat.drop(['lon', 'time'])\n",
    "                if self.lon_resolution:\n",
    "                    lon = podpac.Coordinate([crange(r[0][0], r[1][0], self.lon_resolution)], ['lon'])\n",
    "                else: \n",
    "                    lon = self.node.find_coordinates()[0].intersect(podpac.Coordinates([crange(r[0][0], r[1][0], 2)], ['lon']))\n",
    "                    lon = lon.drop(['lat', 'time'])\n",
    "                rasters.append(podpac.coordinates.merge_dims([lat, lon, time_r]))\n",
    "        return points + rasters\n",
    "    \n",
    "    def make_time_coords(self, ignore_end=False):\n",
    "        if not self.ui: \n",
    "            return []\n",
    "        date_picker = self.date_picker\n",
    "        date_start = date_picker.children[0].value\n",
    "        date_end = date_picker.children[1].children[0].value\n",
    "        date_step = date_picker.children[2].children[0].value\n",
    "        date_step_type = date_picker.children[2].children[1].value\n",
    "        \n",
    "        if not date_start:\n",
    "            return []\n",
    "        \n",
    "        date = str(np.datetime64(date_start)) +'T00'\n",
    "        if not date_end or ignore_end: \n",
    "            date = np.datetime64(date_start)\n",
    "            return podpac.Coordinates([date], ['time'])\n",
    "        date_end = str(np.datetime64(date_end)) +'T00'\n",
    "        if date_step_type == 'native':\n",
    "            window = podpac.Coordinates([clinspace(date, date_end, 2)], ['time'])\n",
    "            time = self.node.find_coordinates()[0].intersect(window)\n",
    "            time = time.drop(['lat', 'lon'])\n",
    "            return time\n",
    "        elif date_step_type == '#':\n",
    "            return podpac.Coordinates([crange(date, date_end, date_step)], ['time'])\n",
    "        \n",
    "        ds = '%d,%s' % (date_step, date_step_type)\n",
    "        return podpac.Coordinates([crange(date, date_end, ds)], ['time'])\n",
    "    \n",
    "    def set_node_attrs(self):\n",
    "        if not self.ui: \n",
    "            return False\n",
    "        attrs = self.attrs\n",
    "        self.node.set_trait('product', attrs.children[0].value)\n",
    "        self.node.set_trait('interpolation', attrs.children[1].value)\n",
    "        return True\n",
    "    \n",
    "    def execute(self, button):\n",
    "        self.status = 'Executing...'\n",
    "        if not self.set_node_attrs():\n",
    "            self.status = \"Node attributes (product, interpolation) not set correctly.\"\n",
    "        \n",
    "        # Set the resolution of the lat/lon\n",
    "        self.lat_resolution = execute_control.resolution.children[1].value\n",
    "        self.lon_resolution = execute_control.resolution.children[2].value\n",
    "        try: \n",
    "            coords = self.make_coords()\n",
    "        except Exception as e:\n",
    "            self.status = 'Unknown Error: ' + str(e)\n",
    "            return\n",
    "        if not coords:\n",
    "            self.status = 'Coords not fully specified'\n",
    "            return\n",
    "        \n",
    "        self.results = []\n",
    "        i = 0\n",
    "        for c in coords:\n",
    "#             if i == 0 and self.points:\n",
    "#                 self.node.threaded = True\n",
    "#                 self.node.n_threads = 4\n",
    "            try:\n",
    "                self.results.append(self.node.eval(c))\n",
    "            except Exception as e:\n",
    "                self.status = 'Unknown Error: ' + str(e)\n",
    "                return\n",
    "                \n",
    "#             self.node.threaded = False\n",
    "            i += 1\n",
    "        self.status = \"Execution complete\"\n",
    "        \n",
    "        # Update figures\n",
    "        figure(1)\n",
    "        subplot(121)\n",
    "        cla()\n",
    "        if self.points:\n",
    "            if not np.isnan(self.results[0].mean()):\n",
    "                plot(self.results[0].time, self.results[0].data.T)\n",
    "                legend([str([llp.data['lat'].item(), llp.data['lon'].item()]) for llp in self.results[0].lat_lon])\n",
    "                locs, labels = xticks()\n",
    "                xticks(locs[::2])\n",
    "                axis('auto')\n",
    "        else:\n",
    "            self.results[0][..., -1].plot(cmap='gist_earth_r')\n",
    "            axis('scaled')\n",
    "        figure(1)\n",
    "        subplot(122)\n",
    "        cla()\n",
    "        if len(self.results) > 1:\n",
    "            self.results[1][..., -1].plot(cmap='gist_earth_r')\n",
    "            axis('scaled')\n",
    "        \n",
    "    \n",
    "execute_control = ExecuteControl(node=sm)"
   ]
  },
  {
   "cell_type": "markdown",
   "metadata": {},
   "source": [
    "# Create UI View elements (widgets)\n",
    "## Create widget for picking dates"
   ]
  },
  {
   "cell_type": "code",
   "execution_count": 6,
   "metadata": {},
   "outputs": [
    {
     "data": {
      "application/vnd.jupyter.widget-view+json": {
       "model_id": "ab720d4cd01443e69a7506bba74117a1",
       "version_major": 2,
       "version_minor": 0
      },
      "text/plain": [
       "VBox(children=(DatePicker(value=None, description='Date start', layout=Layout(align_items='stretch', display='…"
      ]
     },
     "metadata": {},
     "output_type": "display_data"
    }
   ],
   "source": [
    "# Create a widget for the date picker\n",
    "layout = widgets.Layout(display='flex',\n",
    "                       align_items='stretch',\n",
    "#                        border='solid',\n",
    "#                        width='50%'\n",
    "                       )\n",
    "date_start = widgets.DatePicker(description='Date start', layout=layout)\n",
    "date_end = widgets.DatePicker(description='Date end', layout=layout)\n",
    "ignore_end = widgets.Checkbox(description='Ignore for regions', indent=False, layout=layout, value=True)\n",
    "date_end_group = widgets.HBox(children=[date_end, ignore_end], layout=layout)\n",
    "\n",
    "date_step_val  = widgets.IntText(description='Step value', layout=layout, min=0, step=1)\n",
    "date_step_type = widgets.Dropdown(description='Step type', options=['native', '#', 's', 'm', 'h', 'D', 'M', 'Y'], layout=layout)\n",
    "date_step = widgets.HBox(children=[date_step_val, date_step_type], layout=layout)\n",
    "\n",
    "date_picker = widgets.VBox(children=[date_start, date_end_group, date_step], layout=layout)\n",
    "execute_control.date_picker = date_picker\n",
    "date_picker"
   ]
  },
  {
   "cell_type": "markdown",
   "metadata": {},
   "source": [
    "## Create widget for selecting SMAP product and interpolation type"
   ]
  },
  {
   "cell_type": "code",
   "execution_count": 7,
   "metadata": {},
   "outputs": [
    {
     "data": {
      "application/vnd.jupyter.widget-view+json": {
       "model_id": "fd6358ae507c466ea4dc181c75a7a882",
       "version_major": 2,
       "version_minor": 0
      },
      "text/plain": [
       "VBox(children=(Dropdown(description='Product', index=5, options=('SPL2SMAP_S', 'SPL3SMA', 'SPL3SMAP', 'SPL3SMP…"
      ]
     },
     "metadata": {},
     "output_type": "display_data"
    }
   ],
   "source": [
    "# Create a widget for selecting the SMAP product and interpolation\n",
    "product_list = smap.SMAP_PRODUCT_MAP.product.data.tolist()\n",
    "product_list.sort()\n",
    "smap_product = widgets.Dropdown(description=\"Product\", options=product_list, value='SPL4SMAU')\n",
    "# smap_product\n",
    "interpolation = widgets.Dropdown(description=\"Interpolation\", options=['nearest', 'bilinear', 'cubic'])\n",
    "smap_attrs = widgets.VBox(children=[smap_product, interpolation])\n",
    "execute_control.attrs = smap_attrs\n",
    "smap_attrs"
   ]
  },
  {
   "cell_type": "markdown",
   "metadata": {},
   "source": [
    "## Create widget for specifying spatial resolution"
   ]
  },
  {
   "cell_type": "code",
   "execution_count": 8,
   "metadata": {},
   "outputs": [
    {
     "data": {
      "application/vnd.jupyter.widget-view+json": {
       "model_id": "aa49d112bcd54da2a2d1a07c83db15e3",
       "version_major": 2,
       "version_minor": 0
      },
      "text/plain": [
       "VBox(children=(HTML(value='<em>Resolution</em>'), FloatText(value=0.0, description='Latitude', step=0.1), Floa…"
      ]
     },
     "metadata": {},
     "output_type": "display_data"
    }
   ],
   "source": [
    "# Create widget for specifying lat, lon coordinate resolutions\n",
    "style = {'description_width': 'initial'}\n",
    "lat_res = widgets.FloatText(description='Latitude', value=0, min=0, step=0.1, max=180)\n",
    "lon_res = widgets.FloatText(description='Longitude', value=0, min=0, step=0.1, max=180)\n",
    "title_res = widgets.HTML('<em>Resolution</em>')\n",
    "resolution = widgets.VBox(children=[title_res, lat_res, lon_res], description='Resolution')\n",
    "execute_control.resolution = resolution\n",
    "resolution"
   ]
  },
  {
   "cell_type": "markdown",
   "metadata": {},
   "source": [
    "## Create ipyleaflet widgets for selecting regions of the map"
   ]
  },
  {
   "cell_type": "code",
   "execution_count": 9,
   "metadata": {},
   "outputs": [],
   "source": [
    "lmap = leaf.Map(zoom=2, scroll_wheel_zoom=True)\n",
    "dc = leaf.DrawControl(marker={'shapeOptions': {'color': '#00FF00', 'fillOpacity': 0.5}},\n",
    "                      rectangle={'shapeOptions': {'color': '#0000FF', 'fillOpacity': 0.25, 'fillColor':'#00FF00', 'weight': 1}},\n",
    "                      circle={},\n",
    "                      circlemarker={},\n",
    "                      polyline={},\n",
    "                      polygon={}, \n",
    "                      edit=False\n",
    "                 )\n",
    "def handle_draw(self, action, geo_json):\n",
    "    execute_control.handle_draw(action, geo_json)\n",
    "dc.on_draw(handle_draw)\n",
    "lmap.add_control(dc)\n",
    "lmap.layout.height = '500px'\n",
    "lmap.layout.flex = 'none'\n",
    "\n",
    "#lmap"
   ]
  },
  {
   "cell_type": "markdown",
   "metadata": {},
   "source": [
    "## Put the UI elements together"
   ]
  },
  {
   "cell_type": "code",
   "execution_count": 10,
   "metadata": {},
   "outputs": [],
   "source": [
    "# Put the UI elements together\n",
    "execute_button = widgets.Button(description='Execute')\n",
    "execute_button.on_click(execute_control.execute)\n",
    "status = widgets.Text(description='Status:', disabled=True)\n",
    "execute_control.status_widget = status\n",
    "section = widgets.VBox(children=[execute_button, status])\n",
    "ui_top = widgets.HBox(children=[section, smap_attrs, date_picker, resolution])\n",
    "ui = widgets.VBox(children=[ui_top, lmap])\n",
    "execute_control.ui = ui"
   ]
  },
  {
   "cell_type": "markdown",
   "metadata": {},
   "source": [
    "# Display the UI"
   ]
  },
  {
   "cell_type": "code",
   "execution_count": 11,
   "metadata": {},
   "outputs": [
    {
     "data": {
      "application/vnd.jupyter.widget-view+json": {
       "model_id": "5f39422b1f97491782511cdce1334cdf",
       "version_major": 2,
       "version_minor": 0
      },
      "text/plain": [
       "VBox(children=(HBox(children=(VBox(children=(Button(description='Execute', style=ButtonStyle()), Text(value=''…"
      ]
     },
     "metadata": {},
     "output_type": "display_data"
    }
   ],
   "source": [
    "# Display the ui\n",
    "ui"
   ]
  },
  {
   "cell_type": "markdown",
   "metadata": {},
   "source": [
    "# Display some of the results"
   ]
  },
  {
   "cell_type": "code",
   "execution_count": 13,
   "metadata": {},
   "outputs": [
    {
     "data": {
      "application/vnd.jupyter.widget-view+json": {
       "model_id": "19a4c16366ae427ca1018cfcd66640ef",
       "version_major": 2,
       "version_minor": 0
      },
      "text/plain": [
       "Canvas(toolbar=Toolbar(toolitems=[('Home', 'Reset original view', 'home', 'home'), ('Back', 'Back to previous …"
      ]
     },
     "metadata": {},
     "output_type": "display_data"
    },
    {
     "data": {
      "text/plain": [
       "(-0.05, 1.05, -0.05, 1.05)"
      ]
     },
     "execution_count": 13,
     "metadata": {},
     "output_type": "execute_result"
    }
   ],
   "source": [
    "close(1);figure(1, figsize=(18, 4)); subplot(121); axis('scaled'); subplot(122); axis('scaled')"
   ]
  },
  {
   "cell_type": "code",
   "execution_count": null,
   "metadata": {},
   "outputs": [],
   "source": []
  }
 ],
 "metadata": {
  "kernelspec": {
   "display_name": "Python 3",
   "language": "python",
   "name": "python3"
  },
  "language_info": {
   "codemirror_mode": {
    "name": "ipython",
    "version": 3
   },
   "file_extension": ".py",
   "mimetype": "text/x-python",
   "name": "python",
   "nbconvert_exporter": "python",
   "pygments_lexer": "ipython3",
   "version": "3.7.6"
  }
 },
 "nbformat": 4,
 "nbformat_minor": 4
}
