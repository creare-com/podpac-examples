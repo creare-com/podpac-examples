{
 "cells": [
  {
   "cell_type": "code",
   "execution_count": 1,
   "metadata": {
    "slideshow": {
     "slide_type": "skip"
    }
   },
   "outputs": [
    {
     "name": "stdout",
     "output_type": "stream",
     "text": [
      "Populating the interactive namespace from numpy and matplotlib\n"
     ]
    }
   ],
   "source": [
    "# For interactive plots, comment the next line\n",
    "%pylab inline\n",
    "# For interactive plots, uncomment the next line\n",
    "# %pylab ipympl\n",
    "import warnings\n",
    "warnings.filterwarnings('ignore')"
   ]
  },
  {
   "cell_type": "markdown",
   "metadata": {
    "slideshow": {
     "slide_type": "slide"
    }
   },
   "source": [
    "# Introduction\n",
    "\n",
    "This notebook demonstrates how to do a basic analysis using SMAP data.\n",
    "\n",
    "Specifically, we will:\n",
    "\n",
    "* Compare the previous year's soil moisture for a region of interest\n",
    "\n",
    "<small>*For instructions on using Jupyter notebooks, see the [README.md](../../../README.md) file.*</small>"
   ]
  },
  {
   "cell_type": "markdown",
   "metadata": {
    "slideshow": {
     "slide_type": "subslide"
    }
   },
   "source": [
    "## Setup\n",
    "\n",
    "Make sure you have PODPAC installed with the **datatype** optional dependencies:\n",
    "\n",
    "```\n",
    "$ pip install podpac[datatype]\n",
    "```"
   ]
  },
  {
   "cell_type": "markdown",
   "metadata": {
    "slideshow": {
     "slide_type": "slide"
    }
   },
   "source": [
    "# How to analyze SMAP data using PODPAC"
   ]
  },
  {
   "cell_type": "markdown",
   "metadata": {
    "slideshow": {
     "slide_type": "slide"
    }
   },
   "source": [
    "## Provide Earth Data Login Credentials\n",
    "If you do not have an earth data login, or have not activated OpenDAP access, follow the [instructions here](https://creare-com.github.io/podpac-docs/user/earthdata.html)."
   ]
  },
  {
   "cell_type": "code",
   "execution_count": 1,
   "metadata": {
    "slideshow": {
     "slide_type": "fragment"
    }
   },
   "outputs": [
    {
     "name": "stdin",
     "output_type": "stream",
     "text": [
      "Username: mpuecker\n",
      "Password: ·················\n"
     ]
    }
   ],
   "source": [
    "import getpass\n",
    "username = password = None\n",
    "username = input(\"Username:\");   password = getpass.getpass('Password:')"
   ]
  },
  {
   "cell_type": "markdown",
   "metadata": {
    "slideshow": {
     "slide_type": "slide"
    }
   },
   "source": [
    "## Create the PODPAC Processing Pipeline\n",
    "\n",
    "Look at the difference in soil moisture for the same date compared to the previous year:\n",
    "\n",
    "1. Create the SMAP node to access SMAP data from NSIDC\n",
    "2. Offset the user's requested coordinates\n",
    "3. Specify an algorithm"
   ]
  },
  {
   "cell_type": "code",
   "execution_count": 2,
   "metadata": {
    "slideshow": {
     "slide_type": "subslide"
    }
   },
   "outputs": [
    {
     "data": {
      "text/plain": [
       "<SMAP(product='SPL4SMAU')>"
      ]
     },
     "execution_count": 2,
     "metadata": {},
     "output_type": "execute_result"
    }
   ],
   "source": [
    "import podpac\n",
    "import podpac.datalib\n",
    "\n",
    "# Create the SMAP node\n",
    "product = 'SPL4SMAU'   # Level 4 soil moisture analysis update\n",
    "smap = podpac.datalib.SMAP(product=product,\n",
    "                           interpoloation='nearest', cache_type='disk',\n",
    "                           username=username, password=password, )\n",
    "smap"
   ]
  },
  {
   "cell_type": "code",
   "execution_count": 3,
   "metadata": {
    "slideshow": {
     "slide_type": "subslide"
    }
   },
   "outputs": [],
   "source": [
    "# Offset the time from the requested time for the second node\n",
    "# ExpandCoordinates can be used to specify a range.\n",
    "# Here we're using it to offset the time of the incoming node by -1 year\n",
    "smap_time1_offset = podpac.algorithm.ExpandCoordinates(source=smap,\n",
    "                                                       time=['-1,Y', '-1,Y']  # [start_offset, end_offset]\n",
    "                                                      )\n",
    "\n",
    "# ExpandCoordinates is designed to work with a Reduction Node to work properly in a pipeline. \n",
    "# Use the \"Mean\" node to remove time from this Node so that xarray won't try to align the time dimensions\n",
    "smap_offset = podpac.algorithm.Mean(source=smap_time1_offset, dims=['time'])\n",
    "\n",
    "# Create the difference algorithm using an existing PODPAC Node\n",
    "# this node calculates the difference between SMAP data (A) and SMAP data 1 year prior (B)\n",
    "smap_diff = podpac.algorithm.Arithmetic(\n",
    "              eqn='B-A',       # Specify point-wise operation between datasets (+, -, *, /, sin, cos, exp, ...) \n",
    "              A=smap,          # Specify the input for the \"A\" variable\n",
    "              B=smap_offset,   # Specify the input for the \"B\" variable\n",
    ")"
   ]
  },
  {
   "cell_type": "markdown",
   "metadata": {
    "slideshow": {
     "slide_type": "slide"
    }
   },
   "source": [
    "# Create PODPAC Coordinates\n",
    "\n",
    "This specifies the region and date where the pipeline will be evaluated"
   ]
  },
  {
   "cell_type": "code",
   "execution_count": 4,
   "metadata": {
    "slideshow": {
     "slide_type": "subslide"
    }
   },
   "outputs": [],
   "source": [
    "# Specify region of interest on a uniform grid\n",
    "lat = podpac.crange(  60,  10, -2.0)  # (start, stop, step)\n",
    "lon = podpac.crange(-130, -60,  2.0)  # (start, stop, step)\n",
    "\n",
    "# Specify date and time\n",
    "time = '2018-05-19T12:00:00'\n",
    "\n",
    "# Create the PODPAC Coordinates\n",
    "coords = podpac.Coordinates([lat, lon, time], dims=['lat', 'lon', 'time'])"
   ]
  },
  {
   "cell_type": "markdown",
   "metadata": {
    "slideshow": {
     "slide_type": "slide"
    }
   },
   "source": [
    "# Evaluate the PODPAC pipeline and plot\n",
    "\n",
    "* Retrieve subset of data needed from NSIDC\n",
    "* Interpolate the data onto the requested grid\n",
    "* Perform the user designed algorithm (Node \"B\" - Node \"A\")"
   ]
  },
  {
   "cell_type": "code",
   "execution_count": 5,
   "metadata": {
    "slideshow": {
     "slide_type": "subslide"
    }
   },
   "outputs": [
    {
     "name": "stderr",
     "output_type": "stream",
     "text": [
      "INFO:pydap:Fetching URL: https://n5eil02u.ecs.nsidc.org/opendap/SMAP/SPL4SMAU.004/2018.05.19/SMAP_L4_SM_aup_20180519T120000_Vv4030_001.h5.dods?Analysis_Data_sm_surface_analysis[106:1:671][535:1:1285]\n",
      "INFO:numexpr.utils:NumExpr defaulting to 8 threads.\n",
      "INFO:pydap:Fetching URL: https://n5eil02u.ecs.nsidc.org/opendap/SMAP/SPL4SMAU.004/2017.05.19/SMAP_L4_SM_aup_20170519T120000_Vv4030_001.h5.dods?Analysis_Data_sm_surface_analysis[106:1:671][535:1:1285]\n",
      "C:\\Anaconda3\\envs\\podpac\\lib\\site-packages\\xarray\\core\\nanops.py:140: RuntimeWarning: Mean of empty slice\n",
      "  return np.nanmean(a, axis=axis, dtype=dtype)\n",
      "c:\\repositories\\pipeline\\podpac\\podpac\\core\\coordinates\\array_coordinates1d.py:80: RuntimeWarning: invalid value encountered in true_divide\n",
      "  * self.coordinates.size\n",
      "c:\\repositories\\pipeline\\podpac\\podpac\\core\\coordinates\\array_coordinates1d.py:82: RuntimeWarning: invalid value encountered in less_equal\n",
      "  if np.any(deltas <= 0):\n"
     ]
    },
    {
     "data": {
      "image/png": "[encoded data removed]",
      "text/plain": [
       "<Figure size 432x288 with 2 Axes>"
      ]
     },
     "metadata": {
      "needs_background": "light"
     },
     "output_type": "display_data"
    }
   ],
   "source": [
    "# Allow evaluation of arbitrary expressions, such as that used by the Arithmetic node\n",
    "podpac.settings.set_unsafe_eval(True)\n",
    "\n",
    "# Evaluate nodes\n",
    "output = smap_diff.eval(coords)\n",
    "\n",
    "# Plot the resulting differences\n",
    "output.plot(cmap='RdBu')\n",
    "pass"
   ]
  },
  {
   "cell_type": "markdown",
   "metadata": {
    "slideshow": {
     "slide_type": "slide"
    }
   },
   "source": [
    "# Examine the PODPAC Pipeline\n",
    "\n",
    "* PODPAC creates a text-based definition describing the pipeline automatically\n",
    "* The pipeline definition can be used to share, recreate, and version control your analysis\n",
    "* The pipeline definition can also be used to deploy a production web application with your analysis run in the cloud"
   ]
  },
  {
   "cell_type": "code",
   "execution_count": 6,
   "metadata": {
    "scrolled": true,
    "slideshow": {
     "slide_type": "subslide"
    }
   },
   "outputs": [
    {
     "name": "stdout",
     "output_type": "stream",
     "text": [
      "{\n",
      "    \"SMAP_SPL4SMAU\": {\n",
      "        \"node\": \"datalib.smap.SMAP\",\n",
      "        \"attrs\": {\n",
      "            \"base_url\": \"https://n5eil02u.ecs.nsidc.org/opendap/SMAP\",\n",
      "            \"interpolation\": null,\n",
      "            \"layer_key\": \"{rdk}sm_surface_analysis\",\n",
      "            \"product\": \"SPL4SMAU\",\n",
      "            \"version\": 4\n",
      "        }\n",
      "    },\n",
      "    \"ExpandCoordinates\": {\n",
      "        \"node\": \"core.algorithm.coord_select.ExpandCoordinates\",\n",
      "        \"attrs\": {\n",
      "            \"bounds_only\": false,\n",
      "            \"time\": [\n",
      "                \"-1,Y\",\n",
      "                \"-1,Y\"\n",
      "            ]\n",
      "        },\n",
      "        \"inputs\": {\n",
      "            \"alt\": [],\n",
      "            \"coordinates_source\": \"SMAP_SPL4SMAU\",\n",
      "            \"lat\": [],\n",
      "            \"lon\": [],\n",
      "            \"source\": \"SMAP_SPL4SMAU\"\n",
      "        }\n",
      "    },\n",
      "    \"Mean\": {\n",
      "        \"node\": \"core.algorithm.stats.Mean\",\n",
      "        \"attrs\": {\n",
      "            \"dims\": [\n",
      "                \"time\"\n",
      "            ]\n",
      "        },\n",
      "        \"inputs\": {\n",
      "            \"source\": \"ExpandCoordinates\"\n",
      "        }\n",
      "    },\n",
      "    \"Arithmetic\": {\n",
      "        \"node\": \"core.algorithm.generic.Arithmetic\",\n",
      "        \"attrs\": {\n",
      "            \"eqn\": \"B-A\"\n",
      "        },\n",
      "        \"inputs\": {\n",
      "            \"A\": \"SMAP_SPL4SMAU\",\n",
      "            \"B\": \"Mean\"\n",
      "        }\n",
      "    },\n",
      "    \"podpac_version\": \"1.3.1+255.gccc6f876\"\n",
      "}\n"
     ]
    }
   ],
   "source": [
    "print(smap_diff.json_pretty)"
   ]
  }
 ],
 "metadata": {
  "celltoolbar": "Slideshow",
  "kernelspec": {
   "display_name": "Python 3",
   "language": "python",
   "name": "python3"
  },
  "language_info": {
   "codemirror_mode": {
    "name": "ipython",
    "version": 3
   },
   "file_extension": ".py",
   "mimetype": "text/x-python",
   "name": "python",
   "nbconvert_exporter": "python",
   "pygments_lexer": "ipython3",
   "version": "3.7.6"
  }
 },
 "nbformat": 4,
 "nbformat_minor": 4
}
