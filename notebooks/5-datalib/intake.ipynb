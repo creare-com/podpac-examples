{
 "cells": [
  {
   "cell_type": "markdown",
   "metadata": {},
   "source": [
    "# Intake Catalogs\n",
    "\n",
    "> You must be using **Python 3.6** or newer for this feature\n",
    "\n",
    "Intake is a lightweight package for finding, investigating, loading and disseminating data. It will appeal to different groups for some of the reasons below, but is useful for all and acts as a common platform that everyone can use to smooth the progression of data from developers and providers to users.\n",
    "\n",
    "- Source: https://github.com/intake/intake\n",
    "- Docs: https://intake.readthedocs.io/en/latest/catalog.html"
   ]
  },
  {
   "cell_type": "code",
   "execution_count": 1,
   "metadata": {},
   "outputs": [],
   "source": [
    "from podpac.datalib import IntakeCatalog"
   ]
  },
  {
   "cell_type": "markdown",
   "metadata": {},
   "source": [
    "## Precip Example"
   ]
  },
  {
   "cell_type": "code",
   "execution_count": 2,
   "metadata": {},
   "outputs": [],
   "source": [
    "node = IntakeCatalog(uri='../../data/intake/precip/catalog.yml',   # path to catalog\n",
    "                     source='southern_rockies',  # name of the source within catalog\n",
    "                    )"
   ]
  },
  {
   "cell_type": "code",
   "execution_count": 3,
   "metadata": {},
   "outputs": [
    {
     "data": {
      "application/json": "precip:\n  args:\n    path: ../../data/intake/precip/catalog.yml\n  description: ''\n  driver: intake.catalog.local.YAMLFileCatalog\n  metadata: {}\n",
      "text/plain": [
       "precip:\n",
       "  args:\n",
       "    path: ../../data/intake/precip/catalog.yml\n",
       "  description: ''\n",
       "  driver: intake.catalog.local.YAMLFileCatalog\n",
       "  metadata: {}\n"
      ]
     },
     "metadata": {
      "application/json": {
       "root": "precip"
      }
     },
     "output_type": "display_data"
    }
   ],
   "source": [
    "# the node.catalog attribute contains the loaded intake catalog\n",
    "node.catalog"
   ]
  },
  {
   "cell_type": "code",
   "execution_count": 4,
   "metadata": {},
   "outputs": [
    {
     "data": {
      "application/json": "southern_rockies:\n  args:\n    csv_kwargs:\n      names:\n      - time\n      - precip\n      parse_dates:\n      - time\n      skiprows: 3\n    urlpath: D:/podpac-2.2.0/podpac-examples/notebooks/5-datalib/../../data/intake/precip//data/SRLCC_{emissions}_Precip_{model}.csv\n  description: These data sets are subsets of the Maurer, et al. (2007) bias corrected,\n    spatially downscaled monthly climate predictions. The CSV files here cover three\n    emissions scenarios b1 (low emissions and rate of change), a1b (middle) and a2\n    (high). Emission scenarios are possibilities for how the future will unfold in\n    terms of greenhouse gas emissions, land use and other environmental factors.\n  driver: intake.source.csv.CSVSource\n  metadata:\n    catalog_dir: D:/podpac-2.2.0/podpac-examples/notebooks/5-datalib/../../data/intake/precip/\n    fields:\n      precip:\n        label: Precipitation\n        unit: mean mm/day\n    origin: https://www.sciencebase.gov/catalog/item/511e740de4b071e86a19a524\n    plot:\n      x: time\n      y: precip\n",
      "text/plain": [
       "southern_rockies:\n",
       "  args:\n",
       "    csv_kwargs:\n",
       "      names:\n",
       "      - time\n",
       "      - precip\n",
       "      parse_dates:\n",
       "      - time\n",
       "      skiprows: 3\n",
       "    urlpath: D:/podpac-2.2.0/podpac-examples/notebooks/5-datalib/../../data/intake/precip//data/SRLCC_{emissions}_Precip_{model}.csv\n",
       "  description: These data sets are subsets of the Maurer, et al. (2007) bias corrected,\n",
       "    spatially downscaled monthly climate predictions. The CSV files here cover three\n",
       "    emissions scenarios b1 (low emissions and rate of change), a1b (middle) and a2\n",
       "    (high). Emission scenarios are possibilities for how the future will unfold in\n",
       "    terms of greenhouse gas emissions, land use and other environmental factors.\n",
       "  driver: intake.source.csv.CSVSource\n",
       "  metadata:\n",
       "    catalog_dir: D:/podpac-2.2.0/podpac-examples/notebooks/5-datalib/../../data/intake/precip/\n",
       "    fields:\n",
       "      precip:\n",
       "        label: Precipitation\n",
       "        unit: mean mm/day\n",
       "    origin: https://www.sciencebase.gov/catalog/item/511e740de4b071e86a19a524\n",
       "    plot:\n",
       "      x: time\n",
       "      y: precip\n"
      ]
     },
     "metadata": {
      "application/json": {
       "root": "southern_rockies"
      }
     },
     "output_type": "display_data"
    }
   ],
   "source": [
    "# the node.dataset attribute contains the loaded intake catalog source\n",
    "node.dataset"
   ]
  },
  {
   "cell_type": "code",
   "execution_count": 5,
   "metadata": {},
   "outputs": [
    {
     "name": "stderr",
     "output_type": "stream",
     "text": [
      "INFO:numexpr.utils:NumExpr defaulting to 8 threads.\n"
     ]
    },
    {
     "data": {
      "text/html": [
       "<div>\n",
       "<style scoped>\n",
       "    .dataframe tbody tr th:only-of-type {\n",
       "        vertical-align: middle;\n",
       "    }\n",
       "\n",
       "    .dataframe tbody tr th {\n",
       "        vertical-align: top;\n",
       "    }\n",
       "\n",
       "    .dataframe thead th {\n",
       "        text-align: right;\n",
       "    }\n",
       "</style>\n",
       "<table border=\"1\" class=\"dataframe\">\n",
       "  <thead>\n",
       "    <tr style=\"text-align: right;\">\n",
       "      <th></th>\n",
       "      <th>time</th>\n",
       "      <th>precip</th>\n",
       "      <th>emissions</th>\n",
       "      <th>model</th>\n",
       "    </tr>\n",
       "  </thead>\n",
       "  <tbody>\n",
       "    <tr>\n",
       "      <th>0</th>\n",
       "      <td>1950-01-16 00:00:00+00:00</td>\n",
       "      <td>0.972319</td>\n",
       "      <td>a1b</td>\n",
       "      <td>ECHAM5-MPI</td>\n",
       "    </tr>\n",
       "    <tr>\n",
       "      <th>1</th>\n",
       "      <td>1950-02-16 00:00:00+00:00</td>\n",
       "      <td>0.406381</td>\n",
       "      <td>a1b</td>\n",
       "      <td>ECHAM5-MPI</td>\n",
       "    </tr>\n",
       "    <tr>\n",
       "      <th>2</th>\n",
       "      <td>1950-03-15 00:00:00+00:00</td>\n",
       "      <td>1.750826</td>\n",
       "      <td>a1b</td>\n",
       "      <td>ECHAM5-MPI</td>\n",
       "    </tr>\n",
       "    <tr>\n",
       "      <th>3</th>\n",
       "      <td>1950-04-15 00:00:00+00:00</td>\n",
       "      <td>1.014236</td>\n",
       "      <td>a1b</td>\n",
       "      <td>ECHAM5-MPI</td>\n",
       "    </tr>\n",
       "    <tr>\n",
       "      <th>4</th>\n",
       "      <td>1950-05-15 00:00:00+00:00</td>\n",
       "      <td>0.761423</td>\n",
       "      <td>a1b</td>\n",
       "      <td>ECHAM5-MPI</td>\n",
       "    </tr>\n",
       "    <tr>\n",
       "      <th>...</th>\n",
       "      <td>...</td>\n",
       "      <td>...</td>\n",
       "      <td>...</td>\n",
       "      <td>...</td>\n",
       "    </tr>\n",
       "    <tr>\n",
       "      <th>1795</th>\n",
       "      <td>2099-08-15 00:00:00+00:00</td>\n",
       "      <td>1.289281</td>\n",
       "      <td>b1</td>\n",
       "      <td>PCM-NCAR</td>\n",
       "    </tr>\n",
       "    <tr>\n",
       "      <th>1796</th>\n",
       "      <td>2099-09-15 00:00:00+00:00</td>\n",
       "      <td>1.126443</td>\n",
       "      <td>b1</td>\n",
       "      <td>PCM-NCAR</td>\n",
       "    </tr>\n",
       "    <tr>\n",
       "      <th>1797</th>\n",
       "      <td>2099-10-15 00:00:00+00:00</td>\n",
       "      <td>1.285412</td>\n",
       "      <td>b1</td>\n",
       "      <td>PCM-NCAR</td>\n",
       "    </tr>\n",
       "    <tr>\n",
       "      <th>1798</th>\n",
       "      <td>2099-11-15 00:00:00+00:00</td>\n",
       "      <td>3.346398</td>\n",
       "      <td>b1</td>\n",
       "      <td>PCM-NCAR</td>\n",
       "    </tr>\n",
       "    <tr>\n",
       "      <th>1799</th>\n",
       "      <td>2099-12-15 00:00:00+00:00</td>\n",
       "      <td>0.406959</td>\n",
       "      <td>b1</td>\n",
       "      <td>PCM-NCAR</td>\n",
       "    </tr>\n",
       "  </tbody>\n",
       "</table>\n",
       "<p>16200 rows × 4 columns</p>\n",
       "</div>"
      ],
      "text/plain": [
       "                          time    precip emissions       model\n",
       "0    1950-01-16 00:00:00+00:00  0.972319       a1b  ECHAM5-MPI\n",
       "1    1950-02-16 00:00:00+00:00  0.406381       a1b  ECHAM5-MPI\n",
       "2    1950-03-15 00:00:00+00:00  1.750826       a1b  ECHAM5-MPI\n",
       "3    1950-04-15 00:00:00+00:00  1.014236       a1b  ECHAM5-MPI\n",
       "4    1950-05-15 00:00:00+00:00  0.761423       a1b  ECHAM5-MPI\n",
       "...                        ...       ...       ...         ...\n",
       "1795 2099-08-15 00:00:00+00:00  1.289281        b1    PCM-NCAR\n",
       "1796 2099-09-15 00:00:00+00:00  1.126443        b1    PCM-NCAR\n",
       "1797 2099-10-15 00:00:00+00:00  1.285412        b1    PCM-NCAR\n",
       "1798 2099-11-15 00:00:00+00:00  3.346398        b1    PCM-NCAR\n",
       "1799 2099-12-15 00:00:00+00:00  0.406959        b1    PCM-NCAR\n",
       "\n",
       "[16200 rows x 4 columns]"
      ]
     },
     "execution_count": 5,
     "metadata": {},
     "output_type": "execute_result"
    }
   ],
   "source": [
    "# node.source_data contains the read dataset\n",
    "node.source_data"
   ]
  },
  {
   "cell_type": "code",
   "execution_count": 6,
   "metadata": {},
   "outputs": [],
   "source": [
    "node = IntakeCatalog(uri='../../data/intake/precip/catalog.yml',   # path to catalog\n",
    "                     source='southern_rockies',  # name of the source within catalog\n",
    "                     field='precip',         # this can be defined in catalog source metadata\n",
    "                     dims={'time': 'time'},   # this can be defined in catalog source metadata\n",
    "                     query=\"(emissions == 'b1') & (model == 'ECHAM5-MPI')\"\n",
    "                    )"
   ]
  },
  {
   "cell_type": "code",
   "execution_count": 7,
   "metadata": {},
   "outputs": [
    {
     "data": {
      "image/png": "[encoded data removed]",
      "text/plain": [
       "<Figure size 432x288 with 1 Axes>"
      ]
     },
     "metadata": {
      "needs_background": "light"
     },
     "output_type": "display_data"
    }
   ],
   "source": [
    "# one the node is defined, it works like any other podpac node\n",
    "# podpac uses intake to read the data internally\n",
    "output = node.eval(node.coordinates)\n",
    "output.plot()\n",
    "pass"
   ]
  }
 ],
 "metadata": {
  "kernelspec": {
   "display_name": "Python 3",
   "language": "python",
   "name": "python3"
  },
  "language_info": {
   "codemirror_mode": {
    "name": "ipython",
    "version": 3
   },
   "file_extension": ".py",
   "mimetype": "text/x-python",
   "name": "python",
   "nbconvert_exporter": "python",
   "pygments_lexer": "ipython3",
   "version": "3.7.7"
  },
  "widgets": {
   "application/vnd.jupyter.widget-state+json": {
    "state": {},
    "version_major": 2,
    "version_minor": 0
   }
  }
 },
 "nbformat": 4,
 "nbformat_minor": 4
}
