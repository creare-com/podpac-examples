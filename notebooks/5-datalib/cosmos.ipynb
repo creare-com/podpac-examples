{
 "cells": [
  {
   "cell_type": "markdown",
   "metadata": {},
   "source": [
    "# COSMOS Soil Moisture Network\n",
    "http://cosmos.hwr.arizona.edu/"
   ]
  },
  {
   "cell_type": "code",
   "execution_count": 1,
   "metadata": {},
   "outputs": [
    {
     "name": "stdout",
     "output_type": "stream",
     "text": [
      "Populating the interactive namespace from numpy and matplotlib\n"
     ]
    }
   ],
   "source": [
    "#%pylab widget\n",
    "%pylab inline"
   ]
  },
  {
   "cell_type": "code",
   "execution_count": 2,
   "metadata": {},
   "outputs": [],
   "source": [
    "import warnings\n",
    "warnings.filterwarnings('ignore')\n",
    "import ipywidgets"
   ]
  },
  {
   "cell_type": "code",
   "execution_count": 3,
   "metadata": {},
   "outputs": [],
   "source": [
    "import podpac\n",
    "from podpac.datalib import cosmos_stations"
   ]
  },
  {
   "cell_type": "markdown",
   "metadata": {},
   "source": [
    "# Accessing COSMOS data"
   ]
  },
  {
   "cell_type": "code",
   "execution_count": 4,
   "metadata": {},
   "outputs": [],
   "source": [
    "# Create encapsulated data source\n",
    "cosmos = cosmos_stations.COSMOSStations(\n",
    "    cache_ctrl=['ram', 'disk']  # I want to save my queries to disk for offline availability\n",
    ")"
   ]
  },
  {
   "cell_type": "code",
   "execution_count": 5,
   "metadata": {},
   "outputs": [],
   "source": [
    "# cosmos.rem_cache(\"*\")  # If needed, clear cache for this Node to get freshly downloaded data"
   ]
  },
  {
   "cell_type": "code",
   "execution_count": 6,
   "metadata": {},
   "outputs": [],
   "source": [
    "# Select lat/lon bounds for queries (TODO: Make UI)\n",
    "bounds = {\"lat\": [40, 46], \"lon\": [-78, -68]}\n",
    "# Source coordinates gives the lat/lon coordinates for each COSMOS station in the network\n",
    "lat_lon_coords = cosmos.source_coordinates.select(bounds)  # Filter stations by given bounds"
   ]
  },
  {
   "cell_type": "code",
   "execution_count": 7,
   "metadata": {},
   "outputs": [],
   "source": [
    "# Select the time range (TODO: Make a UI)\n",
    "time_coords = podpac.Coordinates([\n",
    "    podpac.crange(\"2018-05-01\",  # start time\n",
    "                  \"2018-06-01\",  # end time\n",
    "                  \"1,D\",         # step size (1 day) \n",
    "                  \"time\")        # Name of dimension\n",
    "])"
   ]
  },
  {
   "cell_type": "code",
   "execution_count": 8,
   "metadata": {},
   "outputs": [
    {
     "data": {
      "application/vnd.jupyter.widget-view+json": {
       "model_id": "58006f5fea8d4f87ae700e07fdf88216",
       "version_major": 2,
       "version_minor": 0
      },
      "text/plain": [
       "Canvas(toolbar=Toolbar(toolitems=[('Home', 'Reset original view', 'home', 'home'), ('Back', 'Back to previous …"
      ]
     },
     "metadata": {},
     "output_type": "display_data"
    },
    {
     "data": {
      "text/plain": [
       "<matplotlib.legend.Legend at 0x24fef46d688>"
      ]
     },
     "execution_count": 8,
     "metadata": {},
     "output_type": "execute_result"
    }
   ],
   "source": [
    "# Get and plot the data\n",
    "coords = podpac.coordinates.merge_dims([time_coords, lat_lon_coords])\n",
    "out = cosmos.eval(coords)\n",
    "close(1); figure(1)\n",
    "plot(out.time, out.data, 'o-')\n",
    "legend(cosmos.label_from_latlon(coords))"
   ]
  },
  {
   "cell_type": "markdown",
   "metadata": {},
   "source": [
    "# Examining a COSMOS site more closely\n",
    "Caribou Bog data is missing, let's examine some of the details of this station"
   ]
  },
  {
   "cell_type": "code",
   "execution_count": 9,
   "metadata": {},
   "outputs": [
    {
     "data": {
      "text/plain": [
       "[{'label': 'Caribou Bog',\n",
       "  'type': 'He3',\n",
       "  'sitenumber': '066',\n",
       "  'location': (44.9167, -68.7359),\n",
       "  'elevation': 39.0,\n",
       "  'pressure': 1005,\n",
       "  'rigidity': 1.59,\n",
       "  'N0cal': 2500.0,\n",
       "  'network': 'COSMOS-A',\n",
       "  'lastdat': numpy.datetime64('2013-06-17'),\n",
       "  'lastsm': 75.0,\n",
       "  'yestdat': 0.0,\n",
       "  'yestfla': 0.0,\n",
       "  'weekdat': 0.0,\n",
       "  'weekfla': 0.0,\n",
       "  'smreg': '> 35%',\n",
       "  'iridium': 300234010373870.0,\n",
       "  'hydroinnova': 'HI-1000-1048',\n",
       "  'atag': 'A323352',\n",
       "  'caltype': 'U',\n",
       "  'year': numpy.datetime64('2012-06-05')}]"
      ]
     },
     "execution_count": 9,
     "metadata": {},
     "output_type": "execute_result"
    }
   ],
   "source": [
    "caribou_data = cosmos.get_station_data('Caribou')  # queries can match partial string names\n",
    "caribou_data"
   ]
  },
  {
   "cell_type": "markdown",
   "metadata": {},
   "source": [
    "Looks like the Caribou Bog station was installed in 2012, it may not be operational in 2018. Let's try a different date."
   ]
  },
  {
   "cell_type": "code",
   "execution_count": 10,
   "metadata": {},
   "outputs": [],
   "source": [
    "# Select the time range (TODO: Make a UI)\n",
    "time_coords2 = podpac.Coordinates([\n",
    "    podpac.crange(\"2013-05-01\",  # Start closer to installation date for sensor\n",
    "                  \"2013-06-01\",  # End date\n",
    "                  \"3,h\",         # Do a 3-hour timestep instead\n",
    "                  \"time\")\n",
    "])"
   ]
  },
  {
   "cell_type": "code",
   "execution_count": 11,
   "metadata": {},
   "outputs": [
    {
     "data": {
      "application/vnd.jupyter.widget-view+json": {
       "model_id": "bf1c3c6e452a415399c662cfd7f09633",
       "version_major": 2,
       "version_minor": 0
      },
      "text/plain": [
       "Canvas(toolbar=Toolbar(toolitems=[('Home', 'Reset original view', 'home', 'home'), ('Back', 'Back to previous …"
      ]
     },
     "metadata": {},
     "output_type": "display_data"
    },
    {
     "data": {
      "text/plain": [
       "<matplotlib.legend.Legend at 0x24fef4a23c8>"
      ]
     },
     "execution_count": 11,
     "metadata": {},
     "output_type": "execute_result"
    }
   ],
   "source": [
    "# Get and plot the data\n",
    "coords = podpac.coordinates.merge_dims([time_coords2, lat_lon_coords])\n",
    "out = cosmos.eval(coords)\n",
    "close(2);figure(2)\n",
    "plot(out.time, out.data, 'o-')\n",
    "legend(cosmos.label_from_latlon(coords))"
   ]
  },
  {
   "cell_type": "markdown",
   "metadata": {},
   "source": [
    "# Site properties and calibration data\n",
    "We can also look at the calibration data and properties for a site"
   ]
  },
  {
   "cell_type": "code",
   "execution_count": 12,
   "metadata": {},
   "outputs": [
    {
     "data": {
      "text/plain": [
       "[{'Installation Date:': numpy.datetime64('2012-06-05'),\n",
       "  'Location (lat,lon):': (44.9167, -68.7359),\n",
       "  'Elevation (m asl):': 39.0,\n",
       "  'Timezone (UTC):': -5.0,\n",
       "  'Cutoff Rigidity (GV):': 1.59,\n",
       "  'Mean Pressure (mb):': 1005.0,\n",
       "  'Lattice Water (%):': 4.3,\n",
       "  'Soil Organic Carbon (%):': 0.02,\n",
       "  'Max Count Rate (/hr):': 2500.0}]"
      ]
     },
     "execution_count": 12,
     "metadata": {},
     "output_type": "execute_result"
    }
   ],
   "source": [
    "properties = cosmos.get_site_properties('Bog')  # Now matching the 'Bog' part of 'Caribou Bog'\n",
    "properties"
   ]
  },
  {
   "cell_type": "code",
   "execution_count": 13,
   "metadata": {},
   "outputs": [
    {
     "data": {
      "text/plain": [
       "[{'date': numpy.datetime64('2010-07-23'),\n",
       "  'label': 1,\n",
       "  'Tin_Label': 86.0,\n",
       "  'Location': 'NEE25',\n",
       "  'Depth_cm': '0.5-5.5 cm',\n",
       "  'Volumetric': '---',\n",
       "  'Wet_total_g': 38.82,\n",
       "  'Dry_total_g': 37.89,\n",
       "  'Tare_g': 29.72,\n",
       "  'Wet_soil_g': 9.1,\n",
       "  'Dry_soil_g': 8.17,\n",
       "  'Soil_water_w_%': 11.38,\n",
       "  'Bulk_density': None,\n",
       "  'Soil_water_v_%': 15.76},\n",
       " {'date': numpy.datetime64('2010-07-23'),\n",
       "  'label': 2,\n",
       "  'Tin_Label': 125.0,\n",
       "  'Location': 'NEE25',\n",
       "  'Depth_cm': '5-10 cm',\n",
       "  'Volumetric': '---',\n",
       "  'Wet_total_g': 56.31,\n",
       "  'Dry_total_g': 53.53,\n",
       "  'Tare_g': 29.39,\n",
       "  'Wet_soil_g': 26.92,\n",
       "  'Dry_soil_g': 24.14,\n",
       "  'Soil_water_w_%': 11.52,\n",
       "  'Bulk_density': None,\n",
       "  'Soil_water_v_%': 15.94}]"
      ]
     },
     "execution_count": 13,
     "metadata": {},
     "output_type": "execute_result"
    }
   ],
   "source": [
    "cal_data = cosmos.get_calibration_data('SMAP')\n",
    "cal_data[0]['items'][:2]"
   ]
  },
  {
   "cell_type": "markdown",
   "metadata": {},
   "source": [
    "# Examine overall network properties\n",
    "We can look at some summary data for the COSMOS network as well"
   ]
  },
  {
   "cell_type": "code",
   "execution_count": 14,
   "metadata": {},
   "outputs": [
    {
     "data": {
      "text/plain": [
       "['label',\n",
       " 'type',\n",
       " 'sitenumber',\n",
       " 'location',\n",
       " 'elevation',\n",
       " 'pressure',\n",
       " 'rigidity',\n",
       " 'N0cal',\n",
       " 'network',\n",
       " 'lastdat',\n",
       " 'lastsm',\n",
       " 'yestdat',\n",
       " 'yestfla',\n",
       " 'weekdat',\n",
       " 'weekfla',\n",
       " 'smreg',\n",
       " 'iridium',\n",
       " 'hydroinnova',\n",
       " 'atag',\n",
       " 'caltype',\n",
       " 'year']"
      ]
     },
     "execution_count": 14,
     "metadata": {},
     "output_type": "execute_result"
    }
   ],
   "source": [
    "cosmos.available_data_keys"
   ]
  },
  {
   "cell_type": "code",
   "execution_count": 15,
   "metadata": {},
   "outputs": [
    {
     "data": {
      "application/vnd.jupyter.widget-view+json": {
       "model_id": "4fac5ede129b4063aacaff6e5a516956",
       "version_major": 2,
       "version_minor": 0
      },
      "text/plain": [
       "Canvas(toolbar=Toolbar(toolitems=[('Home', 'Reset original view', 'home', 'home'), ('Back', 'Back to previous …"
      ]
     },
     "metadata": {},
     "output_type": "display_data"
    },
    {
     "data": {
      "text/plain": [
       "Text(0, 0.5, 'Pressure')"
      ]
     },
     "execution_count": 15,
     "metadata": {},
     "output_type": "execute_result"
    }
   ],
   "source": [
    "elevation = cosmos.stations_value('elevation')\n",
    "pressure = cosmos.stations_value('pressure')\n",
    "close(3); figure(3)\n",
    "plot(elevation, pressure, 'o')\n",
    "xlabel(\"Elevation\")\n",
    "ylabel(\"Pressure\")"
   ]
  },
  {
   "cell_type": "markdown",
   "metadata": {},
   "source": [
    "# Computing mean quantities\n",
    "The hourly soil moisture seems the vary significantly. Let's find daily averages for COSMOS data intead."
   ]
  },
  {
   "cell_type": "code",
   "execution_count": 16,
   "metadata": {},
   "outputs": [
    {
     "data": {
      "application/vnd.jupyter.widget-view+json": {
       "model_id": "a0779962a1c3423680325c76f75b7877",
       "version_major": 2,
       "version_minor": 0
      },
      "text/plain": [
       "Canvas(toolbar=Toolbar(toolitems=[('Home', 'Reset original view', 'home', 'home'), ('Back', 'Back to previous …"
      ]
     },
     "metadata": {},
     "output_type": "display_data"
    },
    {
     "data": {
      "text/plain": [
       "<matplotlib.legend.Legend at 0x24fef4b8408>"
      ]
     },
     "execution_count": 16,
     "metadata": {},
     "output_type": "execute_result"
    }
   ],
   "source": [
    "daily_cosmos = podpac.algorithm.ResampleReduce(\n",
    "    source=cosmos,\n",
    "    resample='1D',\n",
    "    reduce_fn='mean')\n",
    "out = daily_cosmos.eval(coords)\n",
    "close(4);figure(4)\n",
    "plot(out.time, out.data, 'o-')\n",
    "legend(cosmos.label_from_latlon(coords))"
   ]
  }
 ],
 "metadata": {
  "kernelspec": {
   "display_name": "Python 3",
   "language": "python",
   "name": "python3"
  },
  "language_info": {
   "codemirror_mode": {
    "name": "ipython",
    "version": 3
   },
   "file_extension": ".py",
   "mimetype": "text/x-python",
   "name": "python",
   "nbconvert_exporter": "python",
   "pygments_lexer": "ipython3",
   "version": "3.7.6"
  }
 },
 "nbformat": 4,
 "nbformat_minor": 4
}
