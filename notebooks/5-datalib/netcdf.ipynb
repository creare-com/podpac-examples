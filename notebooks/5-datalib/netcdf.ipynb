{
 "cells": [
  {
   "cell_type": "markdown",
   "metadata": {},
   "source": [
    "# Evaluate a netCDF file in PODPAC"
   ]
  },
  {
   "cell_type": "markdown",
   "metadata": {},
   "source": [
    "## Overview\n",
    "\n",
    "This tutorial demonstrates how to open and explore the netCDF file, visualize the data, and export to a comma-separated file (CSV). This tutorial is intended for the users with novice-level programming skills. However, it is expected that the users familiarize themselves with key aspects of [netCDF climate and forecast (CF) metadata convention](http://cfconventions.org/cf-conventions/v1.6.0/cf-conventions.html) before starting the tutorials.\n",
    "\n",
    "## Source Data\n",
    "\n",
    "The source data is a netCDF file ([soil_moist_20min_Kendall_AZ_n1400.nc](https://daac.ornl.gov/daacdata/eos_land_val/SoilSCAPE/data//soil_moist_20min_Kendall_AZ_n1400.nc)) consisting of  volumetric root zone soil moisture data from a location in Kendall, Arizona, USA. This data was collected as a part of SoilSCAPE (Soil moisture Sensing Controller and oPtimal Estimator) project (https://daac.ornl.gov/cgi-bin/dsviewer.pl?ds_id=1339)\n",
    "\n",
    "## Prerequisites\n",
    "\n",
    "Python 3.x or later. Python modules: netCDF4, numpy, pandas, matplotlib\n",
    "\n",
    "## Tutorial\n",
    "\n",
    "In this tutorial, we will open and explore the netCDF file, visualize the data, and export to a comma-separated file (CSV). "
   ]
  },
  {
   "cell_type": "markdown",
   "metadata": {},
   "source": [
    "### 1. Import python modules\n",
    "\n",
    "First import the required modules:"
   ]
  },
  {
   "cell_type": "code",
   "execution_count": 1,
   "metadata": {
    "collapsed": true,
    "jupyter": {
     "outputs_hidden": true
    }
   },
   "outputs": [],
   "source": [
    "%matplotlib inline\n",
    "# above generates plots in line within this page\n",
    "\n",
    "import pandas as pd # pandas module\n",
    "import numpy as np # numpy module\n",
    "import netCDF4 as nc # netcdf module\n",
    "import matplotlib.pyplot as plt # plot from matplotlib module"
   ]
  },
  {
   "cell_type": "markdown",
   "metadata": {},
   "source": [
    "### 2. Read and explore the netCDF file\n",
    "Read in the netCDF file at folder /data/indata/ into 'in_nc'. Printing 'in_nc' displays important information about the data sets, such as *global attributes*, *data dimensions*, and *variable names*. Global attributes in a netCDF file contains information about the data such as data authors, publisher, data contacts, etc."
   ]
  },
  {
   "cell_type": "code",
   "execution_count": 2,
   "metadata": {},
   "outputs": [
    {
     "name": "stdout",
     "output_type": "stream",
     "text": [
      "<class 'netCDF4._netCDF4.Dataset'>\n",
      "root group (NETCDF4 data model, file format HDF5):\n",
      "    title: Volumetric soil moisture data at 20 minute intervals from in-situ probes for Node ID 1400 from 20150816 to 20170803 at Kendall, AZ\n",
      "    institution: Oak Ridge National Laboratory (ORNL) Distributed Active Archive Center (DAAC)\n",
      "    contact: support-ornl@earthdata.nasa.gov\n",
      "    project: SoilSCAPE\n",
      "    site: Kendall, AZ\n",
      "    source: Soil moisture observation for Node ID 1400\n",
      "    comment: Soil moisture values are expressed as percentage volumetric water content, converted to m^2/m^2 divided by 100. The measurements are provided from three or more Decagon EC - 5 sensors placed at different depths below the surface, recording measurements at 20 minute intervals. Soil moisture values less than 0.1 percent are fixed at 0.1 percent and flagged (5), negative values sometimes occur due to the current calibration. Values over 60 percent are flagged (5) and set to -9999.0f. Spikes are detected if |sm[i] - med(sm[i-1:i+1])| > 10 percent. Spikes are set to -9999.0f and flagged using flag 1. More details about the calibration is available in the accompanying documents about the data.Other information about data collection and the SoilSCAPE (Soil moisture Sensing Controller and oPtimal Estimator) project can be found at: http://soilscape.usc.edu\n",
      "    references: Moghaddam, M., A.R. Silva, D. Clewley, R. Akbar, S.A. Hussaini, J. Whitcomb, R. Devarakonda, R. Shrestha, R.B. Cook, G. Prakash, S.K. Santhana Vannan, and A.G. Boyer. 2016. Soil Moisture Profiles and Temperature Data from SoilSCAPE Sites, USA. ORNL DAAC, Oak Ridge, Tennessee, USA. http://dx.doi.org/10.3334/ORNLDAAC/1339\n",
      "    history: Fri Aug  4 06:16:49 2017: created soil_moist_20min_Kendall_AZ_n1400.nc\n",
      "    featureType: timeSeries\n",
      "    version: 1.4\n",
      "    Conventions: CF-1.6\n",
      "    dimensions(sizes): time(33025), depth(3), sensor_strlen(4)\n",
      "    variables(dimensions): float64 \u001b[4mtime\u001b[0m(time), float32 \u001b[4mlat\u001b[0m(), float32 \u001b[4mlon\u001b[0m(), int32 \u001b[4mphysicalid\u001b[0m(), int32 \u001b[4mdepth\u001b[0m(depth), |S1 \u001b[4msensor\u001b[0m(depth,sensor_strlen), float32 \u001b[4msoil_moisture\u001b[0m(time,depth), int32 \u001b[4mmoisture_flag\u001b[0m(time,depth)\n",
      "    groups: \n",
      "\n"
     ]
    }
   ],
   "source": [
    "in_nc = nc.Dataset(\"../data/indata/soil_moist_20min_Kendall_AZ_n1400.nc\") # read file\n",
    "print(in_nc) # print file information"
   ]
  },
  {
   "cell_type": "markdown",
   "metadata": {},
   "source": [
    "In the above print output, we can get the variables names and dimension names/sizes. For example, \"lat\", \"lon\" variables with geographic coordinates, and \"soil moisture\" variable with the volumetric soil moisture data. Let us print the location:"
   ]
  },
  {
   "cell_type": "code",
   "execution_count": 3,
   "metadata": {},
   "outputs": [
    {
     "name": "stdout",
     "output_type": "stream",
     "text": [
      "Latitude: 31.73648, Longitude: -109.94183\n"
     ]
    }
   ],
   "source": [
    "y = in_nc.variables['lat'][:] # read latitutde variable\n",
    "x = in_nc.variables['lon'][:] # read longitude variable\n",
    "print(\"Latitude: %.5f, Longitude: %.5f\" % (y,x)) # print latitutde, longitude"
   ]
  },
  {
   "cell_type": "markdown",
   "metadata": {},
   "source": [
    "### 3. Read in variables and check attributes\n",
    "In this step we will read in variables we are interested in and print their attributes (e.g. units of measurements, detailed names etc)."
   ]
  },
  {
   "cell_type": "code",
   "execution_count": 4,
   "metadata": {},
   "outputs": [
    {
     "name": "stdout",
     "output_type": "stream",
     "text": [
      "<class 'netCDF4._netCDF4.Variable'>\n",
      "float32 soil_moisture(time, depth)\n",
      "    _FillValue: -9999.0\n",
      "    units: percent\n",
      "    long_name: volumetric soil moisture\n",
      "    ancillary_variables: moisture_flag\n",
      "    coordinates: lat lon\n",
      "unlimited dimensions: time\n",
      "current shape = (33025, 3)\n",
      "filling on\n"
     ]
    }
   ],
   "source": [
    "soil_moisture = in_nc.variables['soil_moisture'][:] # read soil moisture variable\n",
    "print(in_nc.variables['soil_moisture']) # print the variable attributes"
   ]
  },
  {
   "cell_type": "code",
   "execution_count": 5,
   "metadata": {},
   "outputs": [
    {
     "name": "stdout",
     "output_type": "stream",
     "text": [
      "<class 'netCDF4._netCDF4.Variable'>\n",
      "int32 depth(depth)\n",
      "    units: cm\n",
      "    positive: down\n",
      "    long_name: soil depth\n",
      "    standard_name: depth\n",
      "    valid_range: [  0 200]\n",
      "unlimited dimensions: \n",
      "current shape = (3,)\n",
      "filling on, default _FillValue of -2147483647 used\n",
      "\n"
     ]
    }
   ],
   "source": [
    "depth = in_nc.variables['depth'][:] # read depth variable\n",
    "print(in_nc.variables['depth']) # print the variable attributes"
   ]
  },
  {
   "cell_type": "code",
   "execution_count": 6,
   "metadata": {},
   "outputs": [
    {
     "name": "stdout",
     "output_type": "stream",
     "text": [
      "<class 'netCDF4._netCDF4.Variable'>\n",
      "float64 time(time)\n",
      "    units: minutes since 2011-01-01 00:00:00.0 UTC\n",
      "    calendar: standard\n",
      "    long_name: Time in minutes since 2011/01/01\n",
      "    standard_name: time\n",
      "unlimited dimensions: time\n",
      "current shape = (33025,)\n",
      "filling on, default _FillValue of 9.969209968386869e+36 used\n",
      "\n"
     ]
    }
   ],
   "source": [
    "time = in_nc.variables['time'][:] # read time variable\n",
    "print(in_nc.variables['time']) # print the variable attributes"
   ]
  },
  {
   "cell_type": "markdown",
   "metadata": {},
   "source": [
    "### 4. Convert time values\n",
    "As you may have noticed, the time units in most netCDFs are relative to a fixed date (e.g. minutes since 2011-01-01 in this case). To convert it to corresponding meaningful date/time values, we will use 'num2date' command:"
   ]
  },
  {
   "cell_type": "code",
   "execution_count": 7,
   "metadata": {},
   "outputs": [
    {
     "name": "stdout",
     "output_type": "stream",
     "text": [
      "Original time 2431984.38333 is now converted as 2015-08-16 21:04:23\n"
     ]
    }
   ],
   "source": [
    "time_unit = in_nc.variables[\"time\"].getncattr('units') # first read the 'units' attributes from the variable time\n",
    "time_cal = in_nc.variables[\"time\"].getncattr('calendar') # read calendar type\n",
    "local_time = nc.num2date(time, units=time_unit, calendar=time_cal) # convert time\n",
    "print(\"Original time %s is now converted as %s\" % (time[0], local_time[0])) # check conversion"
   ]
  },
  {
   "cell_type": "markdown",
   "metadata": {},
   "source": [
    "### 5. Create daily average soil moisture plot\n",
    "To create soil moisture plots aggregated by day, we will first put the data into a *pandas dataframe*, which let you organize data in a meaningful tabular data structure and does time aggregation easily."
   ]
  },
  {
   "cell_type": "code",
   "execution_count": 8,
   "metadata": {},
   "outputs": [
    {
     "name": "stdout",
     "output_type": "stream",
     "text": [
      "                        5          15     30\n",
      "2015-08-16 21:04:23    NaN        NaN    NaN\n",
      "2015-08-16 22:59:23  19.66  18.500000  13.51\n",
      "2015-08-16 23:29:23  19.02  18.120001  13.26\n",
      "2015-08-16 23:59:22  19.02  18.120001  12.87\n",
      "2015-08-17 00:29:22  18.76  17.990000  12.87\n"
     ]
    }
   ],
   "source": [
    "sm_df = pd.DataFrame(soil_moisture, columns=depth, index=local_time.tolist()) # read into pandas dataframe\n",
    "print(sm_df[:5]) # print the first 5 rows of dataframe"
   ]
  },
  {
   "cell_type": "markdown",
   "metadata": {},
   "source": [
    "Now we will convert the original (~ half-hourly) data to daily using *Pandas's TimeGrouper\"*. '1D' means daily, '6M' means six-monthly etc. More aliases are listed [here](http://pandas.pydata.org/pandas-docs/stable/timeseries.html#offset-aliases). Notice that we are using \"numpy's nanmean\" instead of \"mean\" to exclude all NaN values. Ignore any run time warning messages. "
   ]
  },
  {
   "cell_type": "code",
   "execution_count": 9,
   "metadata": {},
   "outputs": [
    {
     "name": "stdout",
     "output_type": "stream",
     "text": [
      "                   5          15         30\n",
      "2015-08-16  19.233334  18.246668  13.213333\n",
      "2015-08-17  18.263159  18.389475  13.372106\n",
      "2015-08-18  16.290640  18.332766  13.770000\n",
      "2015-08-19  15.172341  17.824465  13.445956\n",
      "2015-08-20  14.108541  17.430000  13.167916\n"
     ]
    },
    {
     "name": "stderr",
     "output_type": "stream",
     "text": [
      "/Users/rvs/.pyenv/versions/3.6.1/lib/python3.6/site-packages/pandas/core/groupby.py:842: RuntimeWarning: Mean of empty slice\n",
      "  f = lambda x: func(x, *args, **kwargs)\n"
     ]
    }
   ],
   "source": [
    "sm_df_daily = sm_df.groupby(pd.TimeGrouper('1D')).aggregate(np.nanmean) # convert to daily.\n",
    "print(sm_df_daily[:5]) # print the first 5 rows"
   ]
  },
  {
   "cell_type": "markdown",
   "metadata": {},
   "source": [
    "We will now create plot of daily time series of soil moisture measured at soil depths (5, 15 and 30cm) using python's matplotlib module:"
   ]
  },
  {
   "cell_type": "code",
   "execution_count": 10,
   "metadata": {},
   "outputs": [
    {
     "data": {
      "text/plain": [
       "<matplotlib.text.Text at 0x1196ce0b8>"
      ]
     },
     "execution_count": 10,
     "metadata": {},
     "output_type": "execute_result"
    },
    {
     "data": {
      "text/plain": [
       "<matplotlib.figure.Figure at 0x119645ba8>"
      ]
     },
     "metadata": {},
     "output_type": "display_data"
    },
    {
     "data": {
      "image/png": "[encoded data removed]",
      "text/plain": [
       "<matplotlib.figure.Figure at 0x1196a0390>"
      ]
     },
     "metadata": {},
     "output_type": "display_data"
    }
   ],
   "source": [
    "ylabel_name = in_nc.variables[\"soil_moisture\"].getncattr('long_name') + ' (' + \\\n",
    "              in_nc.variables[\"soil_moisture\"].getncattr('units') + ')' # Label for y-axis\n",
    "series_name = in_nc.variables[\"depth\"].getncattr('long_name') + ' (' + \\\n",
    "              in_nc.variables[\"depth\"].getncattr('units') + ')' # Legend title\n",
    "# plot\n",
    "plt.figure()\n",
    "sm_df_daily.plot()\n",
    "plt.legend(title=series_name)\n",
    "plt.ylabel(ylabel_name)"
   ]
  },
  {
   "cell_type": "markdown",
   "metadata": {},
   "source": [
    "### 6. Output to CSV\n",
    "We can also convert pandas dataframes (both daily and original) to separate comma-separated-values(CSV) files, to be used for further analysis, etc.\n"
   ]
  },
  {
   "cell_type": "code",
   "execution_count": 11,
   "metadata": {
    "collapsed": true,
    "jupyter": {
     "outputs_hidden": true
    }
   },
   "outputs": [],
   "source": [
    "sm_df_daily.to_csv(\"../data/outdata/daily_soilscape.csv\", index_label=\"DateTime\") # Daily\n",
    "sm_df.to_csv(\"../data/outdata/original_soilscape.csv\", index_label=\"DateTime\") # Original"
   ]
  },
  {
   "cell_type": "markdown",
   "metadata": {},
   "source": [
    "Now that we are done with the tutorial, the netCDF dataset needs to be closed:"
   ]
  },
  {
   "cell_type": "code",
   "execution_count": 12,
   "metadata": {
    "collapsed": true,
    "jupyter": {
     "outputs_hidden": true
    }
   },
   "outputs": [],
   "source": [
    "in_nc.close()"
   ]
  }
 ],
 "metadata": {
  "kernelspec": {
   "display_name": "Python 3",
   "language": "python",
   "name": "python3"
  },
  "language_info": {
   "codemirror_mode": {
    "name": "ipython",
    "version": 3
   },
   "file_extension": ".py",
   "mimetype": "text/x-python",
   "name": "python",
   "nbconvert_exporter": "python",
   "pygments_lexer": "ipython3",
   "version": "3.7.0"
  }
 },
 "nbformat": 4,
 "nbformat_minor": 4
}
