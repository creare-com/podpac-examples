{
 "cells": [
  {
   "cell_type": "markdown",
   "metadata": {},
   "source": [
    "# PODPAC Introduction\n",
    "\n",
    "*Author: Creare* <br>\n",
    "*Date: April 01 2020* <br>\n",
    "\n",
    "**Keywords**: podpac"
   ]
  },
  {
   "cell_type": "markdown",
   "metadata": {},
   "source": [
    "## Overview\n",
    "\n",
    "This notebook provides a high level overview of the PODPAC library."
   ]
  },
  {
   "cell_type": "markdown",
   "metadata": {},
   "source": [
    "### Prerequisites\n",
    "\n",
    "- Python 2.7 or above\n",
    "- [`podpac`](https://podpac.org/install.html#install)\n",
    "- *Review the [README.md](../README.md) and [jupyter-tutorial.ipynb](jupyter-tutorial.ipynb) for additional info on using jupyter notebooks*"
   ]
  },
  {
   "cell_type": "markdown",
   "metadata": {},
   "source": [
    "### See Also\n",
    "\n",
    "- [python/basic-python.ipynb](../python/basic-python.ipynb): Basic introduction to Python language features\n",
    "- [python/matlab.ipynb](../python/matlab.ipynb): Introduction to Python for MATLAB users\n",
    "- [xarray](xarray.ipynb): Short reference for the core [`xarray`](https://xarray.pydata.org/en/stable/) module."
   ]
  },
  {
   "cell_type": "markdown",
   "metadata": {
    "slideshow": {
     "slide_type": "slide"
    }
   },
   "source": [
    "# Importing modules\n",
    "\n",
    "PODPAC has multiple modules, which can be imported all at once, or individually:"
   ]
  },
  {
   "cell_type": "code",
   "execution_count": 1,
   "metadata": {},
   "outputs": [],
   "source": [
    "import podpac                     # Import PODPAC with the namespace 'podpac'\n",
    "import podpac as pc               # Import PODPAC with the namespace 'pc'\n",
    "from podpac import Coordinates    # Import Coordinates from PODPAC into the main namespace"
   ]
  },
  {
   "cell_type": "markdown",
   "metadata": {
    "slideshow": {
     "slide_type": "slide"
    }
   },
   "source": [
    "# PODPAC library structure\n",
    "PODPAC is composed out of multiple sub-modules/sub-libraries. The major ones, from a user's perspective are shown below. \n",
    "<img src='../../images/podpac-user-api.png' style='width:80%; margin-left:auto;margin-right:auto;' />\n",
    "\n",
    "\n",
    "We can examine what's in the PODPAC library by using the `dir` function"
   ]
  },
  {
   "cell_type": "code",
   "execution_count": 2,
   "metadata": {
    "slideshow": {
     "slide_type": "subslide"
    }
   },
   "outputs": [
    {
     "data": {
      "text/plain": [
       "['Coordinates',\n",
       " 'Node',\n",
       " 'NodeException',\n",
       " 'UnitsDataArray',\n",
       " '__builtins__',\n",
       " '__cached__',\n",
       " '__doc__',\n",
       " '__file__',\n",
       " '__loader__',\n",
       " '__name__',\n",
       " '__package__',\n",
       " '__path__',\n",
       " '__spec__',\n",
       " '__version__',\n",
       " 'algorithm',\n",
       " 'authentication',\n",
       " 'cached_property',\n",
       " 'clinspace',\n",
       " 'compositor',\n",
       " 'coordinates',\n",
       " 'core',\n",
       " 'crange',\n",
       " 'data',\n",
       " 'interpolators',\n",
       " 'managers',\n",
       " 'settings',\n",
       " 'style',\n",
       " 'units',\n",
       " 'utils',\n",
       " 'version',\n",
       " 'version_info']"
      ]
     },
     "execution_count": 2,
     "metadata": {},
     "output_type": "execute_result"
    }
   ],
   "source": [
    "dir(podpac)"
   ]
  },
  {
   "cell_type": "markdown",
   "metadata": {
    "slideshow": {
     "slide_type": "subslide"
    }
   },
   "source": [
    "In PODPAC, the top-level classes and functions are frequently used and include:\n",
    "\n",
    "* `Coordinates`: class for defining coordinates\n",
    "* `Node`: Base class for defining PODPAC compute Pipeline\n",
    "* `NodeException`: The error type thrown by Nodes\n",
    "* `clinspace`: A helper function used to create uniformly spaced coordinates based on the number of points\n",
    "* `crange`: Another helper function used to create uniformly spaced coordinates based on step size\n",
    "* `settings`: A module with various settings that define caching behavior, login credentials, etc.\n",
    "* `version_info`: Python dictionary giving the version of the PODPAC library"
   ]
  },
  {
   "cell_type": "markdown",
   "metadata": {
    "slideshow": {
     "slide_type": "subslide"
    }
   },
   "source": [
    "The top-level modules or sub-packages (or sub libraries) include: \n",
    "* `algorithm`: here you can find generic `Algorithm` nodes to do different types of computations\n",
    "* `authentication`: this contains utilities to help authenticate users to download data\n",
    "* `compositor`: here you can find nodes that help to combine multiple data sources into a single node\n",
    "* `coordinates`: this module contains additional utilities related to creating coordinates\n",
    "* `core`: this is where the core library is implemented, and follows the directory structure of the code\n",
    "* `data`: here you can find generic `DataSource` nodes for reading and interpreting  data sources\n",
    "* `datalib`: here you can find domain-specific `DataSource` nodes for reading data from specific instruments, studies, and programs\n",
    "* `interpolators`: this contains classes for dealing with automatic interpolation\n",
    "* `pipeline`: this contains generic `Pipeline` nodes which can be used to share and re-create PODPAC processing routines\n",
    "\n",
    "Diving into specifically what's available in some of these submodules"
   ]
  },
  {
   "cell_type": "code",
   "execution_count": 3,
   "metadata": {
    "slideshow": {
     "slide_type": "subslide"
    }
   },
   "outputs": [
    {
     "data": {
      "text/plain": [
       "['Algorithm',\n",
       " 'Arange',\n",
       " 'Arithmetic',\n",
       " 'Convolution',\n",
       " 'CoordData',\n",
       " 'Count',\n",
       " 'DayOfYear',\n",
       " 'ExpandCoordinates',\n",
       " 'Generic',\n",
       " 'GroupReduce',\n",
       " 'Kurtosis',\n",
       " 'Mask',\n",
       " 'Max',\n",
       " 'Mean',\n",
       " 'Median',\n",
       " 'Min',\n",
       " 'SelectCoordinates',\n",
       " 'SinCoords',\n",
       " 'Skew',\n",
       " 'SpatialConvolution',\n",
       " 'StandardDeviation',\n",
       " 'Sum',\n",
       " 'TimeConvolution',\n",
       " 'UnaryAlgorithm',\n",
       " 'Variance',\n",
       " 'YearSubstituteCoordinates',\n",
       " '__builtins__',\n",
       " '__cached__',\n",
       " '__doc__',\n",
       " '__file__',\n",
       " '__loader__',\n",
       " '__name__',\n",
       " '__package__',\n",
       " '__spec__']"
      ]
     },
     "execution_count": 3,
     "metadata": {},
     "output_type": "execute_result"
    }
   ],
   "source": [
    "# Generic Algorithm nodes\n",
    "dir(podpac.algorithm)"
   ]
  },
  {
   "cell_type": "code",
   "execution_count": 4,
   "metadata": {
    "slideshow": {
     "slide_type": "subslide"
    }
   },
   "outputs": [
    {
     "data": {
      "text/plain": [
       "['Array',\n",
       " 'CSV',\n",
       " 'DataSource',\n",
       " 'Dataset',\n",
       " 'H5PY',\n",
       " 'INTERPOLATION_DEFAULT',\n",
       " 'INTERPOLATION_METHODS',\n",
       " 'INTERPOLATION_METHODS_DICT',\n",
       " 'INTERPOLATORS',\n",
       " 'INTERPOLATORS_DICT',\n",
       " 'Interpolation',\n",
       " 'InterpolationException',\n",
       " 'InterpolationTrait',\n",
       " 'PyDAP',\n",
       " 'Rasterio',\n",
       " 'ReprojectedSource',\n",
       " 'WCS',\n",
       " 'Zarr',\n",
       " '__builtins__',\n",
       " '__cached__',\n",
       " '__doc__',\n",
       " '__file__',\n",
       " '__loader__',\n",
       " '__name__',\n",
       " '__package__',\n",
       " '__spec__']"
      ]
     },
     "execution_count": 4,
     "metadata": {},
     "output_type": "execute_result"
    }
   ],
   "source": [
    "# Generic DataSource nodes\n",
    "dir(podpac.data)"
   ]
  },
  {
   "cell_type": "code",
   "execution_count": 5,
   "metadata": {
    "slideshow": {
     "slide_type": "subslide"
    }
   },
   "outputs": [
    {
     "data": {
      "text/plain": [
       "['EGI',\n",
       " 'GFS',\n",
       " 'GFSLatest',\n",
       " 'IntakeCatalog',\n",
       " 'SMAP',\n",
       " 'SMAPBestAvailable',\n",
       " 'SMAPPorosity',\n",
       " 'SMAPProperties',\n",
       " 'SMAPSource',\n",
       " 'SMAPWilt',\n",
       " 'SMAP_PRODUCT_MAP',\n",
       " 'TerrainTiles',\n",
       " '__builtins__',\n",
       " '__cached__',\n",
       " '__doc__',\n",
       " '__file__',\n",
       " '__loader__',\n",
       " '__name__',\n",
       " '__package__',\n",
       " '__path__',\n",
       " '__spec__',\n",
       " 'drought_monitor',\n",
       " 'egi',\n",
       " 'gfs',\n",
       " 'intake_catalog',\n",
       " 'nasaCMR',\n",
       " 'smap',\n",
       " 'smap_egi',\n",
       " 'sys',\n",
       " 'terraintiles']"
      ]
     },
     "execution_count": 5,
     "metadata": {},
     "output_type": "execute_result"
    }
   ],
   "source": [
    "# Specific data libraries built into podpac\n",
    "import podpac.datalib   # not loaded by default\n",
    "dir(podpac.datalib)"
   ]
  },
  {
   "cell_type": "code",
   "execution_count": 6,
   "metadata": {
    "slideshow": {
     "slide_type": "skip"
    }
   },
   "outputs": [],
   "source": [
    "# Nothing here yet\n",
    "# dir(podpac.alglib)"
   ]
  }
 ],
 "metadata": {
  "celltoolbar": "Slideshow",
  "kernelspec": {
   "display_name": "Python 3",
   "language": "python",
   "name": "python3"
  },
  "language_info": {
   "codemirror_mode": {
    "name": "ipython",
    "version": 3
   },
   "file_extension": ".py",
   "mimetype": "text/x-python",
   "name": "python",
   "nbconvert_exporter": "python",
   "pygments_lexer": "ipython3",
   "version": "3.7.0"
  }
 },
 "nbformat": 4,
 "nbformat_minor": 4
}
