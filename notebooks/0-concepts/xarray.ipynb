{
 "cells": [
  {
   "cell_type": "markdown",
   "metadata": {},
   "source": [
    "# xarray Tutorial\n",
    "\n",
    "*Author: Creare* <br>\n",
    "*Date: April 01 2020* <br>\n",
    "\n",
    "**Keywords**: xarray"
   ]
  },
  {
   "cell_type": "markdown",
   "metadata": {},
   "source": [
    "## Overview\n",
    "\n",
    "Short tutorial on using [`xarray`](http://xarray.pydata.org/en/stable/), which is used as the core underlying data structure of PODPAC."
   ]
  },
  {
   "cell_type": "markdown",
   "metadata": {},
   "source": [
    "### Prerequisites\n",
    "\n",
    "- Python 3.6 or above\n",
    "- [`xarray`](http://xarray.pydata.org/en/stable/)\n",
    "- *Review the [README.md](../README.md) and [jupyter-tutorial.ipynb](jupyter-tutorial.ipynb) for additional info on using jupyter notebooks*\n"
   ]
  },
  {
   "cell_type": "markdown",
   "metadata": {},
   "source": [
    "### See Also\n",
    "\n",
    "- [xarray quick overview](http://xarray.pydata.org/en/stable/quick-overview.html)"
   ]
  },
  {
   "cell_type": "markdown",
   "metadata": {},
   "source": [
    "## Labeled arrays using [xarray](http://xarray.pydata.org/en/stable/)\n",
    "\n",
    "PODPAC uses the Python library `xarray` as the output from PODPAC Nodes. `xarray` uses \"labeled\" arrays, which can be confusing to new users. Labeled arrays give a dimension name, and coordinates for the different dimensions of an array. \n",
    "\n",
    "For example, data in a 2-D array might have different rows related to latitudes, and different columns related to longitudes. `xarray` explicitly adds this information to the array. This has a number of advantages:\n",
    "\n",
    "* Arrays are automatically aligned. If I store my data as latitude=rows and longitude=columns, but someone else stores it as latitude=columns and longitude=rows, then `xarray` will automatically transpose one of these arrays when doing math with them\n",
    "* Arrays are automatically broadcast. If I wanted to add a 2-D array with latitude and longitude coordinates to a 3-D array with latitude, longitude, time coordinates, `xarray` will automatically broadcast the 2-D array, creating copies for each time point. \n",
    "* Operations can be done by dimension name instead of axis. To take the mean over the 'time' dimension, `xarray` allows you to specify 'time' as the axis. You no longer have to remember if it was the first, last, or a different axis in your array. \n",
    "* Data can be accessed via dimension name. Again, instead of remembering the axis, the data can be subsetted or sliced by the name. \n",
    "\n",
    "While `xarray` offers many advantages over raw `Numpy` arrays, there are a few caveats and drawbacks. For example, since `xarray` automatically aligns coordinates, it's difficult to take the difference between two arrays with different times. For example:"
   ]
  },
  {
   "cell_type": "code",
   "execution_count": 15,
   "metadata": {},
   "outputs": [
    {
     "name": "stdout",
     "output_type": "stream",
     "text": [
      "a:  <xarray.DataArray (time: 2)>\n",
      "array([2018.1, 2018.2])\n",
      "Coordinates:\n",
      "  * time     (time) <U10 '2018-01-01' '2018-01-02'\n",
      "b:  <xarray.DataArray (time: 2)>\n",
      "array([2018.3, 2018.4])\n",
      "Coordinates:\n",
      "  * time     (time) <U10 '2018-01-03' '2018-01-04'\n",
      "a-b:  <xarray.DataArray (time: 0)>\n",
      "array([], dtype=float64)\n",
      "Coordinates:\n",
      "  * time     (time) object \n",
      "b[0]:  <xarray.DataArray ()>\n",
      "array(2018.3)\n",
      "Coordinates:\n",
      "    time     <U10 '2018-01-03'\n",
      "a-b[0] <xarray.DataArray (time: 2)>\n",
      "array([-0.2, -0.1])\n",
      "Coordinates:\n",
      "  * time     (time) <U10 '2018-01-01' '2018-01-02'\n",
      "a-b[0] <xarray.DataArray (time: 2)>\n",
      "array([-0.2, -0.1])\n",
      "Coordinates:\n",
      "  * time     (time) <U10 '2018-01-01' '2018-01-02'\n"
     ]
    }
   ],
   "source": [
    "import xarray as xr\n",
    "# create a labeled array\n",
    "a = xr.DataArray([2018.1, 2018.2], dims=['time'], coords=[['2018-01-01', '2018-01-02']])\n",
    "print ('a: ', a)\n",
    "\n",
    "# create another labeled array with different time coordinate\n",
    "b = xr.DataArray([2018.3, 2018.4], dims=['time'], coords=[['2018-01-03', '2018-01-04']])\n",
    "print ('b: ', b)\n",
    "\n",
    "# take the difference between the two arrays\n",
    "# The result is an empty array, because none of the coordinates align\n",
    "print('a-b: ', a - b)\n",
    "\n",
    "# The proper way to do this with xarray is indexing the time to remove the dimension\n",
    "print ('b[0]: ', b[0])  # b[0] is now a scalar\n",
    "\n",
    "# Now we can take the difference\n",
    "print('a-b[0]', a - b[0])\n",
    "\n",
    "# or alternatively selecting the dimension by time\n",
    "print('a-b[0]', a - b.sel(time='2018-01-03'))"
   ]
  },
  {
   "cell_type": "markdown",
   "metadata": {},
   "source": [
    "Fortunately, if you prefer raw arrays, the raw `Numpy` array can always be accessed."
   ]
  },
  {
   "cell_type": "code",
   "execution_count": 16,
   "metadata": {},
   "outputs": [
    {
     "name": "stdout",
     "output_type": "stream",
     "text": [
      "[2018.1 2018.2] <class 'numpy.ndarray'>\n"
     ]
    }
   ],
   "source": [
    "print(a.data, type(a.data))"
   ]
  }
 ],
 "metadata": {
  "kernelspec": {
   "display_name": "Python 3",
   "language": "python",
   "name": "python3"
  },
  "language_info": {
   "codemirror_mode": {
    "name": "ipython",
    "version": 3
   },
   "file_extension": ".py",
   "mimetype": "text/x-python",
   "name": "python",
   "nbconvert_exporter": "python",
   "pygments_lexer": "ipython3",
   "version": "3.7.0"
  }
 },
 "nbformat": 4,
 "nbformat_minor": 4
}
