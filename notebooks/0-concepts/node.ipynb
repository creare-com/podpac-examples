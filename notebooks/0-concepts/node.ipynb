{
 "cells": [
  {
   "cell_type": "markdown",
   "metadata": {},
   "source": [
    "# Node\n",
    "\n",
    "*Author: Creare* <br>\n",
    "*Date: April 01 2020* <br>\n",
    "\n",
    "**Keywords**: podpac, Node, DataSource, Compositor, Algorithm"
   ]
  },
  {
   "cell_type": "markdown",
   "metadata": {},
   "source": [
    "## Overview\n",
    "\n",
    "Reference tutorial for the `podpac.Node` class, the core building block of PODPAC data processing pipelines."
   ]
  },
  {
   "cell_type": "markdown",
   "metadata": {},
   "source": [
    "### Prerequisites\n",
    "\n",
    "- Python 2.7 or above\n",
    "- [`podpac`](https://podpac.org/install.html#install)\n",
    "- *Review the [README.md](../README.md) and [jupyter-tutorial.ipynb](jupyter-tutorial.ipynb) for additional info on using jupyter notebooks*"
   ]
  },
  {
   "cell_type": "markdown",
   "metadata": {},
   "source": [
    "### See Also\n",
    "\n",
    "- [introduction.ipynb](introduction.ipynb): PODPAC introduction\n",
    "- [`podpac.Node` API Reference](https://podpac.org/api/podpac.Node.html#podpac.Node)\n",
    "- [Advanced DataSource notebook](../04-advanced/data-source.ipynb): More information of `DataSource` nodes"
   ]
  },
  {
   "cell_type": "markdown",
   "metadata": {},
   "source": [
    "## Terminology\n",
    "\n",
    "PODPAC nodes are the building blocks of PODPAC data processing pipelines.\n",
    "\n",
    "Nodes are made up of [**Data Sources**](#data-sources), [**Compositors**](#compositors), or [**Algorithms**](#algorithms)."
   ]
  },
  {
   "cell_type": "markdown",
   "metadata": {},
   "source": [
    "<img src=\"../../images/node.png\">"
   ]
  },
  {
   "cell_type": "markdown",
   "metadata": {},
   "source": [
    "## Data Sources"
   ]
  },
  {
   "cell_type": "markdown",
   "metadata": {},
   "source": [
    "> In development\n",
    "\n",
    "See the [advanced DataSource notebook](../04-advanced/data-source.ipynb) for more information."
   ]
  },
  {
   "cell_type": "markdown",
   "metadata": {},
   "source": [
    "## Compositors"
   ]
  },
  {
   "cell_type": "markdown",
   "metadata": {},
   "source": [
    "> In development"
   ]
  },
  {
   "cell_type": "markdown",
   "metadata": {},
   "source": [
    "## Algorithms"
   ]
  },
  {
   "cell_type": "markdown",
   "metadata": {},
   "source": [
    "> In development"
   ]
  },
  {
   "cell_type": "code",
   "execution_count": null,
   "metadata": {},
   "outputs": [],
   "source": []
  }
 ],
 "metadata": {
  "kernelspec": {
   "display_name": "Python 3",
   "language": "python",
   "name": "python3"
  },
  "language_info": {
   "codemirror_mode": {
    "name": "ipython",
    "version": 3
   },
   "file_extension": ".py",
   "mimetype": "text/x-python",
   "name": "python",
   "nbconvert_exporter": "python",
   "pygments_lexer": "ipython3",
   "version": "3.7.0"
  }
 },
 "nbformat": 4,
 "nbformat_minor": 4
}
