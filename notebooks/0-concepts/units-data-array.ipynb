{
 "cells": [
  {
   "cell_type": "markdown",
   "metadata": {},
   "source": [
    "# UnitsDataArray\n",
    "\n",
    "*Author: Creare* <br>\n",
    "*Date: April 01 2020* <br>\n",
    "\n",
    "**Keywords**: podpac, UnitsDataArray"
   ]
  },
  {
   "cell_type": "markdown",
   "metadata": {},
   "source": [
    "## Overview\n",
    "\n",
    "Reference tutorial for the `podpac.UnitsDataArray` class."
   ]
  },
  {
   "cell_type": "markdown",
   "metadata": {},
   "source": [
    "### Prerequisites\n",
    "\n",
    "- Python 2.7 or above\n",
    "- [`podpac`](https://podpac.org/install.html#install)\n",
    "- *Review the [README.md](../../README.md) and [jupyter-tutorial.ipynb](../jupyter-tutorial.ipynb) for additional info on using jupyter notebooks*"
   ]
  },
  {
   "cell_type": "markdown",
   "metadata": {},
   "source": [
    "### See Also\n",
    "\n",
    "- [introduction.ipynb](introduction.ipynb): PODPAC introduction\n",
    "- `podpac.UnitsDataArray` API Reference - In Development\n",
    "- [xarray](xarray.ipynb): Short reference for the core [`xarray`](https://xarray.pydata.org/en/stable/) module."
   ]
  },
  {
   "cell_type": "markdown",
   "metadata": {},
   "source": [
    "## Background"
   ]
  },
  {
   "cell_type": "markdown",
   "metadata": {},
   "source": [
    "This example shows how to use the UnitsDataArray object:\n",
    "\n",
    "* `UnitsDataArray` is the main ouput container for evaluated nodes in PODPAC.\n",
    "* UnitsDataArray is a thin wrapper around [xarray DataArray](http://xarray.pydata.org/en/stable/generated/xarray.DataArray.html)\n",
    "\n",
    "\n",
    "1. The first section shows the basic usage, which is similar to `xarray.DataArray`\n",
    "2. The second section shows the added functionality which includes units"
   ]
  },
  {
   "cell_type": "markdown",
   "metadata": {},
   "source": [
    "## Basic Functionality"
   ]
  },
  {
   "cell_type": "code",
   "execution_count": 1,
   "metadata": {},
   "outputs": [
    {
     "data": {
      "text/html": [
       "<pre>&lt;xarray.UnitsDataArray (lat: 5, lon: 5)&gt;\n",
       "array([[0.92466862, 0.28937884, 0.81976486, 0.71795326, 0.15350278],\n",
       "       [0.49273151, 0.24311875, 0.81166137, 0.56151217, 0.89432217],\n",
       "       [0.48146456, 0.92558492, 0.39118822, 0.18045244, 0.20342711],\n",
       "       [0.76612908, 0.49903255, 0.72999719, 0.44740433, 0.89242644],\n",
       "       [0.87362728, 0.93816733, 0.75359599, 0.10584292, 0.90983854]])\n",
       "Coordinates:\n",
       "  * lat      (lat) float64 -10.0 -5.0 0.0 5.0 10.0\n",
       "  * lon      (lon) float64 -10.0 -5.0 0.0 5.0 10.0\n",
       "Attributes:\n",
       "    layer_style:   &lt;podpac.core.style.Style object at 0x000001ECD1D63CC8&gt;\n",
       "    crs:           EPSG:4326\n",
       "    geotransform:  (-12.5, 5.0, 0.0, -12.5, 0.0, 5.0)</pre>"
      ],
      "text/plain": [
       "<xarray.UnitsDataArray (lat: 5, lon: 5)>\n",
       "array([[0.92466862, 0.28937884, 0.81976486, 0.71795326, 0.15350278],\n",
       "       [0.49273151, 0.24311875, 0.81166137, 0.56151217, 0.89432217],\n",
       "       [0.48146456, 0.92558492, 0.39118822, 0.18045244, 0.20342711],\n",
       "       [0.76612908, 0.49903255, 0.72999719, 0.44740433, 0.89242644],\n",
       "       [0.87362728, 0.93816733, 0.75359599, 0.10584292, 0.90983854]])\n",
       "Coordinates:\n",
       "  * lat      (lat) float64 -10.0 -5.0 0.0 5.0 10.0\n",
       "  * lon      (lon) float64 -10.0 -5.0 0.0 5.0 10.0\n",
       "Attributes:\n",
       "    layer_style:   <podpac.core.style.Style object at 0x000001ECD1D63CC8>\n",
       "    crs:           EPSG:4326\n",
       "    geotransform:  (-12.5, 5.0, 0.0, -12.5, 0.0, 5.0)"
      ]
     },
     "execution_count": 1,
     "metadata": {},
     "output_type": "execute_result"
    }
   ],
   "source": [
    "import podpac\n",
    "import numpy as np\n",
    "\n",
    "# create an empty node\n",
    "node = podpac.Node()\n",
    "\n",
    "# create randome 5 x 5 matrix of data\n",
    "data = np.random.rand(5, 5)\n",
    "\n",
    "# create mock Coordinates describing the location of each data point\n",
    "coords = podpac.Coordinates([np.linspace(-10, 10, 5), np.linspace(-10, 10, 5)], ['lat', 'lon'])\n",
    "\n",
    "# Use the convience method `Node.create_output_array` to create a `UnitsDataArray`\n",
    "units_data_array = node.create_output_array(coords, data=data)\n",
    "\n",
    "units_data_array"
   ]
  },
  {
   "cell_type": "code",
   "execution_count": 2,
   "metadata": {},
   "outputs": [
    {
     "data": {
      "text/plain": [
       "array([[0.92466862, 0.28937884, 0.81976486, 0.71795326, 0.15350278],\n",
       "       [0.49273151, 0.24311875, 0.81166137, 0.56151217, 0.89432217],\n",
       "       [0.48146456, 0.92558492, 0.39118822, 0.18045244, 0.20342711],\n",
       "       [0.76612908, 0.49903255, 0.72999719, 0.44740433, 0.89242644],\n",
       "       [0.87362728, 0.93816733, 0.75359599, 0.10584292, 0.90983854]])"
      ]
     },
     "execution_count": 2,
     "metadata": {},
     "output_type": "execute_result"
    }
   ],
   "source": [
    "# get data values\n",
    "units_data_array.values\n",
    "\n",
    "# or equivalently\n",
    "units_data_array.data"
   ]
  },
  {
   "cell_type": "code",
   "execution_count": 3,
   "metadata": {},
   "outputs": [
    {
     "data": {
      "text/html": [
       "<pre>&lt;xarray.UnitsDataArray (lon: 5)&gt;\n",
       "array([0.92466862, 0.28937884, 0.81976486, 0.71795326, 0.15350278])\n",
       "Coordinates:\n",
       "    lat      float64 -10.0\n",
       "  * lon      (lon) float64 -10.0 -5.0 0.0 5.0 10.0\n",
       "Attributes:\n",
       "    layer_style:   &lt;podpac.core.style.Style object at 0x000001ECD1D63CC8&gt;\n",
       "    crs:           EPSG:4326\n",
       "    geotransform:  (-12.5, 5.0, 0.0, -12.5, 0.0, 5.0)</pre>"
      ],
      "text/plain": [
       "<xarray.UnitsDataArray (lon: 5)>\n",
       "array([0.92466862, 0.28937884, 0.81976486, 0.71795326, 0.15350278])\n",
       "Coordinates:\n",
       "    lat      float64 -10.0\n",
       "  * lon      (lon) float64 -10.0 -5.0 0.0 5.0 10.0\n",
       "Attributes:\n",
       "    layer_style:   <podpac.core.style.Style object at 0x000001ECD1D63CC8>\n",
       "    crs:           EPSG:4326\n",
       "    geotransform:  (-12.5, 5.0, 0.0, -12.5, 0.0, 5.0)"
      ]
     },
     "execution_count": 3,
     "metadata": {},
     "output_type": "execute_result"
    }
   ],
   "source": [
    "# get data values by coordinate value\n",
    "units_data_array.loc[-10]"
   ]
  },
  {
   "cell_type": "code",
   "execution_count": 4,
   "metadata": {},
   "outputs": [
    {
     "name": "stdout",
     "output_type": "stream",
     "text": [
      "<class 'xarray.core.coordinates.DataArrayCoordinates'>\n"
     ]
    },
    {
     "data": {
      "text/plain": [
       "Coordinates:\n",
       "  * lat      (lat) float64 -10.0 -5.0 0.0 5.0 10.0\n",
       "  * lon      (lon) float64 -10.0 -5.0 0.0 5.0 10.0"
      ]
     },
     "execution_count": 4,
     "metadata": {},
     "output_type": "execute_result"
    }
   ],
   "source": [
    "# get xarray coordinates\n",
    "print(type(units_data_array.coords))\n",
    "units_data_array.coords"
   ]
  },
  {
   "cell_type": "code",
   "execution_count": 5,
   "metadata": {},
   "outputs": [
    {
     "data": {
      "text/html": [
       "<pre>&lt;xarray.UnitsDataArray &#x27;lat&#x27; (lat: 5)&gt;\n",
       "array([-10.,  -5.,   0.,   5.,  10.])\n",
       "Coordinates:\n",
       "  * lat      (lat) float64 -10.0 -5.0 0.0 5.0 10.0</pre>"
      ],
      "text/plain": [
       "<xarray.UnitsDataArray 'lat' (lat: 5)>\n",
       "array([-10.,  -5.,   0.,   5.,  10.])\n",
       "Coordinates:\n",
       "  * lat      (lat) float64 -10.0 -5.0 0.0 5.0 10.0"
      ]
     },
     "execution_count": 5,
     "metadata": {},
     "output_type": "execute_result"
    }
   ],
   "source": [
    "# get individual xarray coordinates\n",
    "units_data_array.coords['lat']\n",
    "\n",
    "# or equivalently:\n",
    "# units_data_array['lat']"
   ]
  },
  {
   "cell_type": "code",
   "execution_count": 6,
   "metadata": {},
   "outputs": [
    {
     "data": {
      "text/plain": [
       "array([-10.,  -5.,   0.,   5.,  10.])"
      ]
     },
     "execution_count": 6,
     "metadata": {},
     "output_type": "execute_result"
    }
   ],
   "source": [
    "# get individual xarray coordinate values\n",
    "units_data_array.coords['lat'].values\n",
    "\n",
    "# or equivalently:\n",
    "# units_data_array.coords['lat'].data\n",
    "# units_data_array['lat'].values\n",
    "# units_data_array['lat'].data"
   ]
  },
  {
   "cell_type": "code",
   "execution_count": 7,
   "metadata": {},
   "outputs": [
    {
     "data": {
      "text/plain": [
       "('lat', 'lon')"
      ]
     },
     "execution_count": 7,
     "metadata": {},
     "output_type": "execute_result"
    }
   ],
   "source": [
    "# get the dimensions of the DataArray\n",
    "units_data_array.dims"
   ]
  },
  {
   "cell_type": "markdown",
   "metadata": {},
   "source": [
    "### Stacked Coordinates"
   ]
  },
  {
   "cell_type": "code",
   "execution_count": 8,
   "metadata": {},
   "outputs": [
    {
     "data": {
      "text/html": [
       "<pre>&lt;xarray.UnitsDataArray (lat_lon: 5)&gt;\n",
       "array([0.66969928, 0.60743733, 0.39520408, 0.70621454, 0.75792513])\n",
       "Coordinates:\n",
       "  * lat_lon  (lat_lon) MultiIndex\n",
       "  - lat      (lat_lon) float64 -10.0 -5.0 0.0 5.0 10.0\n",
       "  - lon      (lat_lon) float64 -10.0 -5.0 0.0 5.0 10.0\n",
       "Attributes:\n",
       "    layer_style:  &lt;podpac.core.style.Style object at 0x000001ECD1D63A88&gt;\n",
       "    crs:          EPSG:4326</pre>"
      ],
      "text/plain": [
       "<xarray.UnitsDataArray (lat_lon: 5)>\n",
       "array([0.66969928, 0.60743733, 0.39520408, 0.70621454, 0.75792513])\n",
       "Coordinates:\n",
       "  * lat_lon  (lat_lon) MultiIndex\n",
       "  - lat      (lat_lon) float64 -10.0 -5.0 0.0 5.0 10.0\n",
       "  - lon      (lat_lon) float64 -10.0 -5.0 0.0 5.0 10.0\n",
       "Attributes:\n",
       "    layer_style:  <podpac.core.style.Style object at 0x000001ECD1D63A88>\n",
       "    crs:          EPSG:4326"
      ]
     },
     "execution_count": 8,
     "metadata": {},
     "output_type": "execute_result"
    }
   ],
   "source": [
    "# create an empty note, then use the convience method `create_output_array` to create\n",
    "# an output array with data at specific Coordinates\n",
    "node = podpac.Node()\n",
    "data = np.random.rand(5)\n",
    "coords = podpac.Coordinates([(np.linspace(-10, 10, 5), np.linspace(-10, 10, 5))], ['lat_lon'])\n",
    "\n",
    "units_data_array = node.create_output_array(coords, data=data)\n",
    "\n",
    "units_data_array"
   ]
  },
  {
   "cell_type": "code",
   "execution_count": 9,
   "metadata": {},
   "outputs": [
    {
     "name": "stdout",
     "output_type": "stream",
     "text": [
      "<class 'xarray.core.coordinates.DataArrayCoordinates'>\n"
     ]
    },
    {
     "data": {
      "text/plain": [
       "Coordinates:\n",
       "  * lat_lon  (lat_lon) MultiIndex\n",
       "  - lat      (lat_lon) float64 -10.0 -5.0 0.0 5.0 10.0\n",
       "  - lon      (lat_lon) float64 -10.0 -5.0 0.0 5.0 10.0"
      ]
     },
     "execution_count": 9,
     "metadata": {},
     "output_type": "execute_result"
    }
   ],
   "source": [
    "# get xarray coordinates\n",
    "print(type(units_data_array.coords))\n",
    "units_data_array.coords"
   ]
  },
  {
   "cell_type": "code",
   "execution_count": 10,
   "metadata": {},
   "outputs": [
    {
     "data": {
      "text/plain": [
       "('lat_lon',)"
      ]
     },
     "execution_count": 10,
     "metadata": {},
     "output_type": "execute_result"
    }
   ],
   "source": [
    "# get the dimensions of the DataArray\n",
    "units_data_array.dims"
   ]
  },
  {
   "cell_type": "markdown",
   "metadata": {},
   "source": [
    "## Added Functionality (Units)"
   ]
  },
  {
   "cell_type": "code",
   "execution_count": 11,
   "metadata": {},
   "outputs": [],
   "source": [
    "# Create Nodes to use the convience methods for making units data arrays\n",
    "kgs_node = podpac.Node(units='kg')\n",
    "lbs_node = podpac.Node(units='lbs')\n",
    "data = np.ones(1)\n",
    "coords = podpac.Coordinates([0], ['lat'])"
   ]
  },
  {
   "cell_type": "code",
   "execution_count": 12,
   "metadata": {},
   "outputs": [
    {
     "data": {
      "text/html": [
       "<pre>&lt;xarray.UnitsDataArray (lat: 1)&gt;\n",
       "array([1.])\n",
       "Coordinates:\n",
       "  * lat      (lat) float64 0.0\n",
       "Attributes:\n",
       "    layer_style:  &lt;podpac.core.style.Style object at 0x000001ECD1E0B5C8&gt;\n",
       "    crs:          EPSG:4326\n",
       "    units:        kilogram</pre>"
      ],
      "text/plain": [
       "<xarray.UnitsDataArray (lat: 1)>\n",
       "array([1.])\n",
       "Coordinates:\n",
       "  * lat      (lat) float64 0.0\n",
       "Attributes:\n",
       "    layer_style:  <podpac.core.style.Style object at 0x000001ECD1E0B5C8>\n",
       "    crs:          EPSG:4326\n",
       "    units:        kilogram"
      ]
     },
     "execution_count": 12,
     "metadata": {},
     "output_type": "execute_result"
    }
   ],
   "source": [
    "# create UnitsDataArray for kg\n",
    "kgs = kgs_node.create_output_array(coords, data=data)\n",
    "kgs"
   ]
  },
  {
   "cell_type": "code",
   "execution_count": 13,
   "metadata": {},
   "outputs": [
    {
     "data": {
      "text/html": [
       "<pre>&lt;xarray.UnitsDataArray (lat: 1)&gt;\n",
       "array([1.])\n",
       "Coordinates:\n",
       "  * lat      (lat) float64 0.0\n",
       "Attributes:\n",
       "    layer_style:  &lt;podpac.core.style.Style object at 0x000001ECD1E0E448&gt;\n",
       "    crs:          EPSG:4326\n",
       "    units:        pound</pre>"
      ],
      "text/plain": [
       "<xarray.UnitsDataArray (lat: 1)>\n",
       "array([1.])\n",
       "Coordinates:\n",
       "  * lat      (lat) float64 0.0\n",
       "Attributes:\n",
       "    layer_style:  <podpac.core.style.Style object at 0x000001ECD1E0E448>\n",
       "    crs:          EPSG:4326\n",
       "    units:        pound"
      ]
     },
     "execution_count": 13,
     "metadata": {},
     "output_type": "execute_result"
    }
   ],
   "source": [
    "# create UnitsDataArray for lbs\n",
    "lbs = lbs_node.create_output_array(coords, data=data)\n",
    "lbs"
   ]
  },
  {
   "cell_type": "code",
   "execution_count": 14,
   "metadata": {},
   "outputs": [
    {
     "data": {
      "text/html": [
       "<pre>&lt;xarray.UnitsDataArray (lat: 1)&gt;\n",
       "array([1.45359237])\n",
       "Coordinates:\n",
       "  * lat      (lat) float64 0.0\n",
       "Attributes:\n",
       "    units:    kilogram</pre>"
      ],
      "text/plain": [
       "<xarray.UnitsDataArray (lat: 1)>\n",
       "array([1.45359237])\n",
       "Coordinates:\n",
       "  * lat      (lat) float64 0.0\n",
       "Attributes:\n",
       "    units:    kilogram"
      ]
     },
     "execution_count": 14,
     "metadata": {},
     "output_type": "execute_result"
    }
   ],
   "source": [
    "kgs + lbs"
   ]
  },
  {
   "cell_type": "code",
   "execution_count": 15,
   "metadata": {},
   "outputs": [
    {
     "data": {
      "text/html": [
       "<pre>&lt;xarray.UnitsDataArray (lat: 1)&gt;\n",
       "array([3.20462262])\n",
       "Coordinates:\n",
       "  * lat      (lat) float64 0.0\n",
       "Attributes:\n",
       "    units:    pound</pre>"
      ],
      "text/plain": [
       "<xarray.UnitsDataArray (lat: 1)>\n",
       "array([3.20462262])\n",
       "Coordinates:\n",
       "  * lat      (lat) float64 0.0\n",
       "Attributes:\n",
       "    units:    pound"
      ]
     },
     "execution_count": 15,
     "metadata": {},
     "output_type": "execute_result"
    }
   ],
   "source": [
    "# Note, order is important: the result here is in pounds instead of kilograms as above\n",
    "lbs + kgs"
   ]
  },
  {
   "cell_type": "code",
   "execution_count": 16,
   "metadata": {},
   "outputs": [
    {
     "data": {
      "text/html": [
       "<pre>&lt;xarray.UnitsDataArray (lat: 1)&gt;\n",
       "array([0.45359237])\n",
       "Coordinates:\n",
       "  * lat      (lat) float64 0.0\n",
       "Attributes:\n",
       "    units:    kg</pre>"
      ],
      "text/plain": [
       "<xarray.UnitsDataArray (lat: 1)>\n",
       "array([0.45359237])\n",
       "Coordinates:\n",
       "  * lat      (lat) float64 0.0\n",
       "Attributes:\n",
       "    units:    kg"
      ]
     },
     "execution_count": 16,
     "metadata": {},
     "output_type": "execute_result"
    }
   ],
   "source": [
    "# We can convert between the units\n",
    "lbs.to('kg')"
   ]
  },
  {
   "cell_type": "code",
   "execution_count": 17,
   "metadata": {},
   "outputs": [
    {
     "name": "stdout",
     "output_type": "stream",
     "text": [
      "Cannot convert from 'kilogram' ([mass]) to 'pound ** 2' ([mass] ** 2)\n"
     ]
    }
   ],
   "source": [
    "# Incorrect units results in an error\n",
    "try: \n",
    "    lbs ** 2 + kgs\n",
    "except Exception as e: \n",
    "    print(e)"
   ]
  },
  {
   "cell_type": "code",
   "execution_count": 18,
   "metadata": {},
   "outputs": [
    {
     "name": "stdout",
     "output_type": "stream",
     "text": [
      "<xarray.UnitsDataArray (lat: 1)>\n",
      "array([2.])\n",
      "Coordinates:\n",
      "  * lat      (lat) float64 0.0\n"
     ]
    }
   ],
   "source": [
    "# Unless your settings are such that unit checking is not enabled\n",
    "from podpac import settings\n",
    "with settings:\n",
    "    settings[\"ENABLE_UNITS\"] = False\n",
    "    print (lbs **2 + kgs)"
   ]
  },
  {
   "cell_type": "code",
   "execution_count": 19,
   "metadata": {},
   "outputs": [
    {
     "data": {
      "text/html": [
       "<pre>&lt;xarray.UnitsDataArray ()&gt;\n",
       "array(1.)\n",
       "Attributes:\n",
       "    units:    kilogram</pre>"
      ],
      "text/plain": [
       "<xarray.UnitsDataArray ()>\n",
       "array(1.)\n",
       "Attributes:\n",
       "    units:    kilogram"
      ]
     },
     "execution_count": 19,
     "metadata": {},
     "output_type": "execute_result"
    }
   ],
   "source": [
    "# Units are also preserved over statistical operations\n",
    "kgs.min()"
   ]
  }
 ],
 "metadata": {
  "kernelspec": {
   "display_name": "Python 3",
   "language": "python",
   "name": "python3"
  },
  "language_info": {
   "codemirror_mode": {
    "name": "ipython",
    "version": 3
   },
   "file_extension": ".py",
   "mimetype": "text/x-python",
   "name": "python",
   "nbconvert_exporter": "python",
   "pygments_lexer": "ipython3",
   "version": "3.7.6"
  }
 },
 "nbformat": 4,
 "nbformat_minor": 4
}
