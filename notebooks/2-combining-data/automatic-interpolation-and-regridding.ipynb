{
 "cells": [
  {
   "cell_type": "markdown",
   "metadata": {},
   "source": [
    "# Automatic Interpolation and Regridding\n",
    "\n",
    "*Author: Creare* <br>\n",
    "*Date: April 01 2020* <br>\n",
    "\n",
    "**Keywords**: podpac, DataSource, interpolation, regridding"
   ]
  },
  {
   "cell_type": "markdown",
   "metadata": {},
   "source": [
    "## Overview\n",
    "\n",
    "Reference tutorial for evaluating a Node at arbitrary PODPAC coordinates."
   ]
  },
  {
   "cell_type": "markdown",
   "metadata": {},
   "source": [
    "### Prerequisites\n",
    "\n",
    "- Python 2.7 or above\n",
    "- [`podpac[datatype]`](https://podpac.org/install.html#install)\n",
    "- *Review the [README.md](../../README.md) and [jupyter-tutorial.ipynb](../jupyter-tutorial.ipynb) for additional info on using jupyter notebooks*"
   ]
  },
  {
   "cell_type": "markdown",
   "metadata": {},
   "source": [
    "### See Also\n",
    "\n",
    "- [0-concepts/node.ipynb](../0-concepts/node.ipynb): PODPAC Node reference\n",
    "- [0-concepts/coordinates.ipynb](../0-concepts/coordinates.ipynb): PODPAC Coordinates reference\n",
    "- [1-reading-data/hdf5-file.ipynb](../1-reading-data/hdf5-file.ipynb): PODPAC HDF5 DataSource reference\n",
    "- [1-reading-data/raster-file.ipynb](../1-reading-data/raster-file.ipynb): PODPAC Raster DataSource reference"
   ]
  },
  {
   "cell_type": "markdown",
   "metadata": {
    "slideshow": {
     "slide_type": "slide"
    }
   },
   "source": [
    "##  Example of automatic interpolation\n",
    "\n",
    "Once the dataset is read through PODPAC, it can be re-interpolated automatically to a different coordinate system.\n",
    "\n",
    "The default interpolation scheme is nearest-neighbor (`nearest`). \n",
    "\n",
    "Let's read **a subset of the SMAP data**, using nearest-neighbor interpolation **at the resolution of the SRTM file**. \n",
    "See [1-reading-data/hdf5-file.ipynb](../1-reading-data/hdf5-file.ipynb) and [1-reading-data/raster-file.ipynb](../1-reading-data/raster-file.ipynb) for examples on how to read these data sources."
   ]
  },
  {
   "cell_type": "code",
   "execution_count": 1,
   "metadata": {},
   "outputs": [],
   "source": [
    "# plot inline\n",
    "%matplotlib inline"
   ]
  },
  {
   "cell_type": "code",
   "execution_count": 2,
   "metadata": {},
   "outputs": [
    {
     "data": {
      "text/plain": [
       "<H5PY(source='../../data/raster/Smerge_Noah_CCI_L4_RZSM0_40cm_V2.0_20190510.nc4', interpolation='nearest', data_key='/RZSM')>"
      ]
     },
     "execution_count": 2,
     "metadata": {},
     "output_type": "execute_result"
    }
   ],
   "source": [
    "import podpac\n",
    "\n",
    "# Read the NetCDF file\n",
    "# Root Zone Soil Moisture Data: https://disc.gsfc.nasa.gov/datasets/SMERGE_RZSM0_40CM_2.0/summary\n",
    "filename = '../../data/raster/Smerge_Noah_CCI_L4_RZSM0_40cm_V2.0_20190510.nc4'\n",
    "\n",
    "# Set up the PODPAC node to read this file.\n",
    "node = podpac.data.H5PY(source=filename, data_key=\"/RZSM\", time_key=\"/time\", lat_key=\"/lat\", lon_key=\"/lon\", array_dims=[\"time\", \"lat\", \"lon\"])\n",
    "node"
   ]
  },
  {
   "cell_type": "code",
   "execution_count": 3,
   "metadata": {},
   "outputs": [
    {
     "data": {
      "text/plain": [
       "Coordinates (EPSG:4326)\n",
       "\ttime: ArrayCoordinates1d(time): Bounds[14739.0, 14739.0], N[1]\n",
       "\tlat: ArrayCoordinates1d(lat): Bounds[25.0625, 52.9375], N[224]\n",
       "\tlon: ArrayCoordinates1d(lon): Bounds[-124.9375, -67.0625], N[464]"
      ]
     },
     "execution_count": 3,
     "metadata": {},
     "output_type": "execute_result"
    }
   ],
   "source": [
    "node.coordinates"
   ]
  },
  {
   "cell_type": "code",
   "execution_count": 4,
   "metadata": {},
   "outputs": [],
   "source": [
    "# SRTM Elevation File\n",
    "srtm_filename = '../../data/raster/n39_w107_1arc_v2.tif'\n",
    "srtm = podpac.data.Rasterio(source=srtm_filename)"
   ]
  },
  {
   "cell_type": "code",
   "execution_count": 5,
   "metadata": {},
   "outputs": [
    {
     "data": {
      "text/plain": [
       "Coordinates (EPSG:4326)\n",
       "\tlat: UniformCoordinates1d(lat): Bounds[38.99999999999999, 39.99999999999999], N[3601]\n",
       "\tlon: UniformCoordinates1d(lon): Bounds[-107.0, -106.0], N[3601]"
      ]
     },
     "execution_count": 5,
     "metadata": {},
     "output_type": "execute_result"
    }
   ],
   "source": [
    "srtm.coordinates"
   ]
  },
  {
   "cell_type": "code",
   "execution_count": 6,
   "metadata": {},
   "outputs": [
    {
     "data": {
      "text/plain": [
       "Coordinates (EPSG:4326)\n",
       "\tlat: UniformCoordinates1d(lat): Bounds[38.99999999999999, 39.99999999999999], N[3601]\n",
       "\tlon: UniformCoordinates1d(lon): Bounds[-107.0, -106.0], N[3601]\n",
       "\ttime: ArrayCoordinates1d(time): Bounds[14739.0, 14739.0], N[1]"
      ]
     },
     "execution_count": 6,
     "metadata": {},
     "output_type": "execute_result"
    }
   ],
   "source": [
    "# We have to provide a time coordinate, so let's combine the SRTM coordinates with the SMAP coordinates\n",
    "coordinates = podpac.coordinates.merge_dims([srtm.coordinates, node.coordinates.drop(['lat', 'lon'])])\n",
    "coordinates"
   ]
  },
  {
   "cell_type": "code",
   "execution_count": 7,
   "metadata": {
    "slideshow": {
     "slide_type": "subslide"
    }
   },
   "outputs": [
    {
     "name": "stderr",
     "output_type": "stream",
     "text": [
      "INFO:numexpr.utils:NumExpr defaulting to 8 threads.\n"
     ]
    },
    {
     "data": {
      "image/png": "[encoded data removed]",
      "text/plain": [
       "<Figure size 432x288 with 2 Axes>"
      ]
     },
     "metadata": {
      "needs_background": "light"
     },
     "output_type": "display_data"
    }
   ],
   "source": [
    "# evaluate the Root Zone Soil Moisture (node) at the coordinates of the elevation measurements\n",
    "output = node.eval(coordinates)\n",
    "output.plot()\n",
    "pass"
   ]
  }
 ],
 "metadata": {
  "kernelspec": {
   "display_name": "Python 3",
   "language": "python",
   "name": "python3"
  },
  "language_info": {
   "codemirror_mode": {
    "name": "ipython",
    "version": 3
   },
   "file_extension": ".py",
   "mimetype": "text/x-python",
   "name": "python",
   "nbconvert_exporter": "python",
   "pygments_lexer": "ipython3",
   "version": "3.7.6"
  }
 },
 "nbformat": 4,
 "nbformat_minor": 4
}
