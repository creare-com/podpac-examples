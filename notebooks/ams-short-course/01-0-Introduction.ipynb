{
 "cells": [
  {
   "cell_type": "markdown",
   "metadata": {},
   "source": [
    "# Installation / Setup\n",
    "\n",
    "* Installation instructions: [podpac.org/install.html](https://podpac.org/install.html)\n",
    "* Windows/MAC/Linux\n",
    "\n",
    "```python\n",
    "pip install podpac[all]\n",
    "```\n",
    "\n",
    "* Standalone (Windows only)\n",
    "    * [Download standalone distribution](https://podpac.org/install#standalone-distibutions), unzip, and run: \n",
    "    \n",
    "```cmd\n",
    "% run_podpac_jupyterlab.bat\n",
    "```"
   ]
  },
  {
   "cell_type": "markdown",
   "metadata": {
    "slideshow": {
     "slide_type": "slide"
    }
   },
   "source": [
    "<center>\n",
    "    \n",
    "# AMS 2020 Short Course\n",
    "    \n",
    "##  Introducing PODPAC, the Easy Way to Analyze NASA and Non-NASA Earth Science Data Via the AWS Cloud\n",
    "\n",
    "<a href=\"https://podpac.org\"><img src='../Images/podpac-logo.png' style='margin-bottom:-60px;margin-top:0px;margin-left:auto;margin-right:auto'/></a>\n",
    "\n",
    "#### Boston, MA <br><br> Jerry Bieszczed, Matt Ueckermann, Marc Shapiro (Creare LLC) and Dara Entekhabi (MIT)<br><br> <small>January 12, 2020</small>\n",
    "</center>"
   ]
  },
  {
   "cell_type": "markdown",
   "metadata": {
    "slideshow": {
     "slide_type": "slide"
    }
   },
   "source": [
    "# What is PODPAC and why do you care?\n",
    "\n",
    "As a geospatial scientist **I want to**: \n",
    "\n",
    "<p class='fragment' style='margin-bottom:-20px;'>1. <b>Find</b>: <i>Identify and obtain geospatial data relevant to a scientific problem</i></p>\n",
    "<p class='fragment' style='margin-bottom:-20px;'>2. <b>Explore</b>: <i>Discover new characteristics or features in a geospatial dataset</i></p>\n",
    "<p class='fragment' style='margin-bottom:-20px;'>3. <b>Produce</b>: <i>Derive new datasets by processing and integrating geospatial data</i></p>\n",
    "<p class='fragment' style='margin-bottom:-20px;'>4. <b>Validate</b>: <i>Assess the goodness of a simulation dataset</i></p>"
   ]
  },
  {
   "cell_type": "markdown",
   "metadata": {
    "slideshow": {
     "slide_type": "subslide"
    }
   },
   "source": [
    "<p class='fragment' style='margin-bottom:-20px;'>5. <b>Answer</b>: <i>Perform analysis/analytics on geospatial data to answer scientific questions</i></p>\n",
    "<p class='fragment' style='margin-bottom:-20px;'>6. <b>Deploy</b>: <i>Build real-time production applications from analysis for end users </i></p>\n",
    "<br>\n",
    "<p class='fragment'>...but <b>I have to</b> deal with large scale data challenges.\n",
    "</p>\n",
    "<p></p>\n",
    "<p class='fragment' style='font-size:12pt;'>Mehrotra, Piyush, et al. \"Supporting 'Big Data' Analysis and Analytics at the NASA advanced Supercomputing (NAS) Facility.\" NASA Ames Research Center, NASA Advanced Supercomputing TR-NAS-2014-02, Moffett Field, CA (2014).</p>"
   ]
  },
  {
   "cell_type": "markdown",
   "metadata": {
    "slideshow": {
     "slide_type": "subslide"
    }
   },
   "source": [
    "<div><div style='float:left; width:50%;'><img src='../Images/DataVariety.png' style='width:95%;'/></div>\n",
    "    <div class='fragment' style='float:right; width:50%;'><img src='../Images/DataVolume.png' style='width:95%;'/></div></div>\n",
    "<div style='clear:both'></div>"
   ]
  },
  {
   "cell_type": "markdown",
   "metadata": {
    "slideshow": {
     "slide_type": "subslide"
    }
   },
   "source": [
    "# What is PODPAC and why do you care? \n",
    "\n",
    "<img src='../Images/PODPAC.png' style='width:85%;margin-left:auto;margin-right:auto' />"
   ]
  },
  {
   "cell_type": "markdown",
   "metadata": {
    "slideshow": {
     "slide_type": "subslide"
    }
   },
   "source": [
    "## Philosophy and Goals\n",
    "\n",
    "- Leverage open-source tools with momentum by the geospatial community ([NumFocus](https://numfocus.org/sponsored-projects), [Pangeo](https://pangeo.io/), <a class=\"reference external\" href=\"http://xarray.pydata.org/en/stable/index.html\">xarray</a>, <a class=\"reference external\" href=\"http://geopandas.org/\">Geopandas</a>, <a class=\"reference external\" href=\"https://dask.pydata.org/en/latest/\">Dask</a>, <a class=\"reference external\" href=\"https://unidata.github.io/MetPy/latest/index.html\">metpy</a>, <a class=\"reference external\" href=\"https://rasterio.readthedocs.io/en/latest/\">rasterio</a>)\n",
    "- Wrap datasets **ONCE**\n",
    "- Make analysis repeatable and transparent\n",
    "- Access to cloud computing resources\n",
    "- Bring the analysis to the data (less downloading)\n",
    "- Provide a bridge from analysis (Python) to application (web)"
   ]
  },
  {
   "cell_type": "markdown",
   "metadata": {
    "slideshow": {
     "slide_type": "slide"
    }
   },
   "source": [
    "# AMS 2020 PODPAC Short Course\n",
    "\n",
    "We assume you have a working knowledge of Python and Jupyterlab / Jupyter Notebooks. Knowledge of numpy and xarray would be beneficial. \n",
    "\n",
    "* Introduction\n",
    "    * [PODPAC Overview](01-1-PODPAC-Overview.ipynb)\n",
    "* [PODPAC Basics](02-0-Basics.ipynb)\n",
    "* [Data Access, Harmonization, and Processing](03-data-access-harmonization-processing.ipynb)\n",
    "* [Science of SMAP Drought Monitor](04-SMAP-drought-monitor-science.ipynb)\n",
    "* [Drought Monitor Application](05-drought-monitor-application.ipynb)\n",
    "* [Drought Monitor Cloud Processing](06-drought-monitor-cloud-processing.ipynb)"
   ]
  }
 ],
 "metadata": {
  "celltoolbar": "Slideshow",
  "kernelspec": {
   "display_name": "Python 3",
   "language": "python",
   "name": "python3"
  },
  "language_info": {
   "codemirror_mode": {
    "name": "ipython",
    "version": 3
   },
   "file_extension": ".py",
   "mimetype": "text/x-python",
   "name": "python",
   "nbconvert_exporter": "python",
   "pygments_lexer": "ipython3",
   "version": "3.7.3"
  }
 },
 "nbformat": 4,
 "nbformat_minor": 4
}
