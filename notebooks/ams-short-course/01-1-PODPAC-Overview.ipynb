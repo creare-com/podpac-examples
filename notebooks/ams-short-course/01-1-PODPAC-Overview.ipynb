{
 "cells": [
  {
   "cell_type": "code",
   "execution_count": 1,
   "metadata": {
    "slideshow": {
     "slide_type": "skip"
    }
   },
   "outputs": [
    {
     "name": "stdout",
     "output_type": "stream",
     "text": [
      "Populating the interactive namespace from numpy and matplotlib\n"
     ]
    }
   ],
   "source": [
    "# For interactive plots, comment the next line\n",
    "%pylab inline\n",
    "# For interactive plots, uncomment the next line\n",
    "# %pylab ipympl\n",
    "# We filter warnings just for a cleaner presentation in these notebooks\n",
    "import warnings\n",
    "warnings.filterwarnings('ignore')"
   ]
  },
  {
   "cell_type": "markdown",
   "metadata": {
    "slideshow": {
     "slide_type": "slide"
    }
   },
   "source": [
    "# PODPAC Overview\n",
    "\n",
    "> For instructions on using Jupyter notebooks, see the [README.md](../../README.md) file. \n",
    "\n",
    "This notebook provides resources and also describes the structure of PODPAC library. We will go over:\n",
    "\n",
    "* Documentation\n",
    "* Installation\n",
    "* Importing PODPAC\n",
    "* PODPAC library structure\n"
   ]
  },
  {
   "cell_type": "markdown",
   "metadata": {
    "slideshow": {
     "slide_type": "slide"
    }
   },
   "source": [
    "# Documentation \n",
    "* Documentation: [podpac.org](https://podpac.org)\n",
    "    * Installation instructions: [podpac.org/install.html](https://podpac.org/install.html)\n",
    "\n",
    "* Source code: [PODPAC GitHub](https://github.com/creare-com/podpac)\n",
    "    * Problems? Bugs? [Issue tracker](https://github.com/creare-com/podpac/issues).\n",
    "    * Progress of development: [Projects](https://github.com/creare-com/podpac/projects)\n",
    "    * Releases: [Releases](https://github.com/creare-com/podpac/releases)\n",
    "* Examples: [Examples on GitHub](https://github.com/creare-com/podpac-examples)\n",
    "* Drought-Monitor application: [Drought-Monitor GitHub](https://github.com/creare-com/podpac-drought-monitor)    "
   ]
  },
  {
   "cell_type": "markdown",
   "metadata": {
    "slideshow": {
     "slide_type": "slide"
    }
   },
   "source": [
    "# Installation / Setup\n",
    "\n",
    "* Installation instructions: [podpac.org/install.html](https://podpac.org/install.html)\n",
    "\n",
    "* Windows: \n",
    "    * Download standalone distribution, unzip, and run: `run_podpac_jupyterlab.bat`\n",
    "        * Windows **may** give you a malaware notice. You can safely ignore this. \n",
    "* Windows/MAC/Linux\n",
    "\n",
    "```python\n",
    "pip install podpac[all]\n",
    "```\n",
    "\n",
    "* Standalone (Windows only)\n",
    "    * [Download standalone distribution](https://podpac.org/install#standalone-distibutions), unzip, and run: \n",
    "    \n",
    "```cmd\n",
    "% run_podpac_jupyterlab.bat\n",
    "```"
   ]
  },
  {
   "cell_type": "markdown",
   "metadata": {
    "slideshow": {
     "slide_type": "slide"
    }
   },
   "source": [
    "# Importing PODPAC\n",
    "\n",
    "* Unlike MATLAB, Python libraries need to be `imported` before they can be used\n",
    "* Imported libraries usually have a namespace\n",
    "* Portions of libraries, can be imported\n",
    "\n",
    "## Examples\n"
   ]
  },
  {
   "cell_type": "code",
   "execution_count": 2,
   "metadata": {},
   "outputs": [],
   "source": [
    "import podpac                     # Import PODPAC with the namespace 'podpac'\n",
    "import podpac as pc               # Import PODPAC with the namespace 'pc'\n",
    "from podpac import Coordinates    # Import Coordinates from PODPAC into the main namespace"
   ]
  },
  {
   "cell_type": "markdown",
   "metadata": {
    "slideshow": {
     "slide_type": "slide"
    }
   },
   "source": [
    "# PODPAC library structure\n",
    "PODPAC is composed out of multiple sub-modules/sub-libraries. The major ones, from a user's perspective are shown below. \n",
    "<img src='../Images/podpac-user-api.png' style='width:80%; margin-left:auto;margin-right:auto;' />\n",
    "\n",
    "\n",
    "We can examine what's in the PODPAC library by using the `dir` function"
   ]
  },
  {
   "cell_type": "code",
   "execution_count": 3,
   "metadata": {
    "slideshow": {
     "slide_type": "subslide"
    }
   },
   "outputs": [
    {
     "data": {
      "text/plain": [
       "['Coordinates',\n",
       " 'Node',\n",
       " 'NodeException',\n",
       " 'NodeTrait',\n",
       " '__builtins__',\n",
       " '__cached__',\n",
       " '__doc__',\n",
       " '__file__',\n",
       " '__loader__',\n",
       " '__name__',\n",
       " '__package__',\n",
       " '__path__',\n",
       " '__spec__',\n",
       " '__version__',\n",
       " 'algorithm',\n",
       " 'authentication',\n",
       " 'clinspace',\n",
       " 'compositor',\n",
       " 'coordinates',\n",
       " 'core',\n",
       " 'crange',\n",
       " 'data',\n",
       " 'interpolators',\n",
       " 'managers',\n",
       " 'pipeline',\n",
       " 'settings',\n",
       " 'units',\n",
       " 'utils',\n",
       " 'version',\n",
       " 'version_info']"
      ]
     },
     "execution_count": 3,
     "metadata": {},
     "output_type": "execute_result"
    }
   ],
   "source": [
    "dir(podpac)"
   ]
  },
  {
   "cell_type": "markdown",
   "metadata": {
    "slideshow": {
     "slide_type": "subslide"
    }
   },
   "source": [
    "In PODPAC, the top-level classes and functions are frequently used and include:\n",
    "* `Coordinates`: class for defining coordinates\n",
    "* `coordinates`: this module contains additional utilities related to creating coordinates\n",
    "* `clinspace`: A helper function used to create uniformly spaced coordinates based on the number of points\n",
    "* `crange`: Another helper function used to create uniformly spaced coordinates based on step size\n",
    "* `Node`: Base class for defining PODPAC compute Pipeline\n",
    "* `NodeException`: The error type thrown by Nodes\n",
    "* `settings`: A module with various settings that define caching behavior, login credentials, etc."
   ]
  },
  {
   "cell_type": "markdown",
   "metadata": {
    "slideshow": {
     "slide_type": "subslide"
    }
   },
   "source": [
    "The top-level modules or sub-packages (or sub libraries) include: \n",
    "* `algorithm`: here you can find generic `Algorithm` nodes to do different types of computations\n",
    "* `authentication`: this contains utilities to help authenticate users to download data\n",
    "* `compositor`: here you can find nodes that help to combine multiple data sources into a single node\n",
    "* `version_info`: Python dictionary giving the version of the PODPAC library"
   ]
  },
  {
   "cell_type": "markdown",
   "metadata": {
    "slideshow": {
     "slide_type": "subslide"
    }
   },
   "source": [
    "* `core`: this is where the core library is implemented, and follows the directory structure of the code\n",
    "* `data`: here you can find generic `DataSource` nodes for reading and interpreting  data sources\n",
    "* `datalib`: here you can find domain-specific `DataSource` nodes for reading data from specific instruments, studies, and programs\n",
    "* `interpolators`: this contains classes for dealing with automatic interpolation\n",
    "* `managers`: contains classes and Nodes related to managing how and where code is run. This is where the AWS functionality lives"
   ]
  },
  {
   "cell_type": "code",
   "execution_count": 5,
   "metadata": {
    "slideshow": {
     "slide_type": "subslide"
    }
   },
   "outputs": [],
   "source": [
    "# In any Python interpreter use:\n",
    "podpac.algorithm.Arithmetic?"
   ]
  },
  {
   "cell_type": "markdown",
   "metadata": {
    "slideshow": {
     "slide_type": "slide"
    }
   },
   "source": [
    "# Excercises\n",
    "* import podpac\n",
    "* type: **podpac.clinspace?** in JupyterLab\n",
    "* Use **podpac.clinspace** to create coordinates\n",
    "* In JupyterLab type **podpac.data.** then hit **Tab** \n",
    "* Find a **data** Node that can open CSV files and look at the help documentation\n",
    "* Find an **algorithm** Node that does convolutions and look at the help documentation\n"
   ]
  },
  {
   "cell_type": "code",
   "execution_count": 19,
   "metadata": {
    "slideshow": {
     "slide_type": "slide"
    }
   },
   "outputs": [],
   "source": [
    "podpac.clinspace?"
   ]
  },
  {
   "cell_type": "code",
   "execution_count": 20,
   "metadata": {},
   "outputs": [
    {
     "data": {
      "text/plain": [
       "UniformCoordinates1d(?): Bounds[0.0, 1.0], N[11], ctype['midpoint']"
      ]
     },
     "execution_count": 20,
     "metadata": {},
     "output_type": "execute_result"
    }
   ],
   "source": [
    "podpac.clinspace(0, 1, 11)"
   ]
  },
  {
   "cell_type": "code",
   "execution_count": 22,
   "metadata": {},
   "outputs": [],
   "source": [
    "podpac.data.CSV?"
   ]
  },
  {
   "cell_type": "code",
   "execution_count": 23,
   "metadata": {},
   "outputs": [],
   "source": [
    "podpac.algorithm.Convolution?"
   ]
  }
 ],
 "metadata": {
  "celltoolbar": "Slideshow",
  "kernelspec": {
   "display_name": "Python 3",
   "language": "python",
   "name": "python3"
  },
  "language_info": {
   "codemirror_mode": {
    "name": "ipython",
    "version": 3
   },
   "file_extension": ".py",
   "mimetype": "text/x-python",
   "name": "python",
   "nbconvert_exporter": "python",
   "pygments_lexer": "ipython3",
   "version": "3.7.3"
  }
 },
 "nbformat": 4,
 "nbformat_minor": 4
}
