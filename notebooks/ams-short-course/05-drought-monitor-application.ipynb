{
 "cells": [
  {
   "cell_type": "code",
   "execution_count": 1,
   "metadata": {},
   "outputs": [
    {
     "name": "stdout",
     "output_type": "stream",
     "text": [
      "Populating the interactive namespace from numpy and matplotlib\n"
     ]
    }
   ],
   "source": [
    "%pylab inline"
   ]
  },
  {
   "cell_type": "markdown",
   "metadata": {},
   "source": [
    "# Import Python Modules"
   ]
  },
  {
   "cell_type": "code",
   "execution_count": 2,
   "metadata": {},
   "outputs": [],
   "source": [
    "# Main PODPAC library\n",
    "import podpac\n",
    "\n",
    "# Data source nodes\n",
    "from podpac.datalib.smap_egi import SMAP\n",
    "from podpac.datalib.drought_monitor import DroughtMonitorCategory\n",
    "\n",
    "# Algorithm nodes\n",
    "from podpac.algorithm import YearSubstituteCoordinates, Arithmetic"
   ]
  },
  {
   "cell_type": "markdown",
   "metadata": {},
   "source": [
    "# Retrieve Data \n",
    "## Computed Drought Categories\n",
    "* We computed these categories from historical SMAP data and staged the results on AWS S3. \n",
    "* To access these datasets, our specific AWS credentials are required."
   ]
  },
  {
   "cell_type": "code",
   "execution_count": 3,
   "metadata": {},
   "outputs": [],
   "source": [
    "# AWS bucket where data lives\n",
    "bucket = \"podpac-internal-test\"\n",
    "# Name of the file, in 'zarr' format\n",
    "store = \"drought_parameters.zarr\"\n",
    "# Path used by PODPAC to retrieve the data\n",
    "source = 's3://%s/%s' % (bucket, store)\n",
    "\n",
    "# Create the node that points to the .zarr file on S3\n",
    "d0_source = DroughtMonitorCategory(datakey='d0', source=source)\n",
    "\n",
    "# All of our data uses the year '2018', but really describe a climatology. \n",
    "# Hence, any incoming requests should have the year replaced by '2018'\n",
    "year = '2018'\n",
    "\n",
    "# This algorithm node take the incoming request, replaces the year by 2018, evaluates the d0_source node, \n",
    "# then substitutes the original date in the result\n",
    "d0 = YearSubstituteCoordinates(year=year, source=d0_source, substitute_eval_coords=True)\n",
    "\n",
    "# Repeat for the other categories\n",
    "d1 = YearSubstituteCoordinates(source=DroughtMonitorCategory(datakey='d1', source=source), year=year, substitute_eval_coords=True)\n",
    "d2 = YearSubstituteCoordinates(source=DroughtMonitorCategory(datakey='d2', source=source), year=year, substitute_eval_coords=True)\n",
    "d3 = YearSubstituteCoordinates(source=DroughtMonitorCategory(datakey='d3', source=source), year=year, substitute_eval_coords=True)\n",
    "d4 = YearSubstituteCoordinates(source=DroughtMonitorCategory(datakey='d4', source=source), year=year, substitute_eval_coords=True)"
   ]
  },
  {
   "cell_type": "markdown",
   "metadata": {},
   "source": [
    "## Raw SMAP Soil Moisture Data\n",
    "* We retrieve this data from NSIDC through the EGI (Earthdata Gateway Interface). \n",
    "* We retrieve level 3 data that have AM and PM returns, and we composite them together."
   ]
  },
  {
   "cell_type": "code",
   "execution_count": 4,
   "metadata": {},
   "outputs": [],
   "source": [
    "source = 's3://%s/%s' % (bucket, 'SPL3SMP_E.002_9km_aid0001.zarr')\n",
    "source2 = 's3://%s/%s' % (bucket, 'SPL4SMGP.004_9km_aid0001.zarr')\n",
    "\n",
    "kwargs = {'dims': ['time', 'lat', 'lon'], 'latkey': 'fakedim0', 'lonkey': 'fakedim1',\n",
    "          'cf_time': True, 'cf_calendar': 'proleptic_gregorian', 'cf_units': 'days since 2000-01-01',\n",
    "         'crs': 'epsg:6933', 'nan_vals': [-9999]}\n",
    "smap_e_am_raw = podpac.data.Zarr(source=source, datakey='Soil_Moisture_Retrieval_Data_AM_soil_moisture', **kwargs)\n",
    "smap_e_pm_raw = podpac.data.Zarr(source=source, datakey='Soil_Moisture_Retrieval_Data_PM_soil_moisture_pm', **kwargs)\n",
    "smap_e_am_qf = podpac.data.Zarr(source=source, datakey='Soil_Moisture_Retrieval_Data_AM_retrieval_qual_flag', **kwargs)\n",
    "smap_e_pm_qf = podpac.data.Zarr(source=source, datakey='Soil_Moisture_Retrieval_Data_PM_retrieval_qual_flag_pm', **kwargs)\n",
    "\n",
    "smap_e_am = podpac.algorithm.Arithmetic(A=smap_e_am_raw, B=smap_e_am_qf,\n",
    "                                       eqn='((B <= 1) / (B <= 1)) * A ')\n",
    "smap_e_pm = podpac.algorithm.Arithmetic(A=smap_e_pm_raw, B=smap_e_pm_qf,\n",
    "                                       eqn='((B <= 1) / (B <= 1)) * A ')\n",
    "\n",
    "\n",
    "smap_L4 = podpac.data.Zarr(source=source2, datakey='Geophysical_Data_sm_surface', **kwargs)\n",
    "\n",
    "smap = podpac.compositor.OrderedCompositor(sources=[smap_e_am,\n",
    "                                                    smap_e_pm,\n",
    "                                                    smap_L4\n",
    "                                                   ], source='SMAP L3 AM/PM Combined')"
   ]
  },
  {
   "cell_type": "code",
   "execution_count": 5,
   "metadata": {},
   "outputs": [],
   "source": [
    "# Check The Coordinates\n",
    "# coords2 = podpac.Coordinates([podpac.clinspace(50, 23, 256), podpac.clinspace(-126, -66, 256), '2019-05-19'],\n",
    "#                             ['lat', 'lon', 'time'])\n",
    "# o = smap.eval(coords2)\n",
    "# o.plot(vmin=0, vmax=1)"
   ]
  },
  {
   "cell_type": "code",
   "execution_count": 6,
   "metadata": {},
   "outputs": [],
   "source": [
    "# Get combined smap data\n",
    "# smap_e_am = SMAP(product='SPL3SMP_E_AM', page_size=40)\n",
    "# smap_e_pm = SMAP(product='SPL3SMP_E_PM', page_size=40)\n",
    "# smap = podpac.compositor.OrderedCompositor(sources=[smap_e_am,\n",
    "#                                                     smap_e_pm,\n",
    "#                                                    ], source='SMAP L3 AM/PM Combined')"
   ]
  },
  {
   "cell_type": "markdown",
   "metadata": {},
   "source": [
    "# Create algorithm to convert raw SMAP data to drought categories\n",
    "* We use an Arithmetic node computes pixel-wise results using an arbitrary equation\n",
    "* The inputs come from the previously-created nodes, with an A, B, C,... naming convention"
   ]
  },
  {
   "cell_type": "code",
   "execution_count": 7,
   "metadata": {},
   "outputs": [],
   "source": [
    "# Create the drought Categorization algorithm\n",
    "alg = Arithmetic(A=d0, B=d1, C=d2, D=d3, E=d4, F=smap, params={'dn': 0.5, 'd5': 0},\n",
    "                eqn=('(F > {d5}) * (F < E) * ((F - {d5}) / (E - {d5}) + 0) + '\n",
    "                     '(F > E) * (F < D) * ((F - E) / (D - E) + 1) + '\n",
    "                     '(F > D) * (F < C) * ((F - D) / (C - D) + 2) + '\n",
    "                     '(F > C) * (F < B) * ((F - C) / (B - C) + 3) + '\n",
    "                     '(F > B) * (F < A) * ((F - B) / (A - B) + 4) + '\n",
    "                     '(F > A) * (F < {dn}) * ((F - A) / ({dn} - A) + 5) + '\n",
    "                     '(F > {dn}) * 5.5'\n",
    "                    )\n",
    "                )"
   ]
  },
  {
   "cell_type": "markdown",
   "metadata": {},
   "source": [
    "# Test the PODPAC Algorithm Locally\n",
    "## Create Coordinates\n",
    "* The nodes will be evaluated at these coordinates. \n",
    "* **Note**: the time series of the categories and the SMAP data do not line up, but PODPAC deals with the automatically using nearest-neighbor interpolation (by default). "
   ]
  },
  {
   "cell_type": "code",
   "execution_count": 8,
   "metadata": {},
   "outputs": [],
   "source": [
    "coords = podpac.Coordinates([43, -72,\n",
    "                             podpac.crange('2019-04-12', '2019-07-10', '3,D')],\n",
    "                            ['lat', 'lon', 'time'])"
   ]
  },
  {
   "cell_type": "markdown",
   "metadata": {},
   "source": [
    "## Evaluate the Node Locally"
   ]
  },
  {
   "cell_type": "code",
   "execution_count": 9,
   "metadata": {},
   "outputs": [],
   "source": [
    "# Most of the execution time comes from retrieving SMAP data via EGI\n",
    "# The results of this request is cached, so subsequent eval's are fast\n",
    "o = alg.eval(coords)"
   ]
  },
  {
   "cell_type": "markdown",
   "metadata": {},
   "source": [
    "## Examine the results"
   ]
  },
  {
   "cell_type": "code",
   "execution_count": 10,
   "metadata": {},
   "outputs": [
    {
     "name": "stderr",
     "output_type": "stream",
     "text": [
      "C:\\Creare_Data\\podpac-1.0.0\\miniconda\\envs\\podpac\\lib\\site-packages\\pandas\\plotting\\_converter.py:129: FutureWarning: Using an implicitly registered datetime converter for a matplotlib plotting method. The converter was registered by pandas on import. Future versions of pandas will require you to explicitly register matplotlib converters.\n",
      "\n",
      "To register the converters:\n",
      "\t>>> from pandas.plotting import register_matplotlib_converters\n",
      "\t>>> register_matplotlib_converters()\n",
      "  warnings.warn(msg, FutureWarning)\n"
     ]
    },
    {
     "data": {
      "text/plain": [
       "[<matplotlib.lines.Line2D at 0x119849f4cc0>]"
      ]
     },
     "execution_count": 10,
     "metadata": {},
     "output_type": "execute_result"
    },
    {
     "data": {
      "image/png": "[encoded data removed]",
      "text/plain": [
       "<Figure size 432x288 with 1 Axes>"
      ]
     },
     "metadata": {
      "needs_background": "light"
     },
     "output_type": "display_data"
    }
   ],
   "source": [
    "o.plot()"
   ]
  },
  {
   "cell_type": "code",
   "execution_count": 11,
   "metadata": {},
   "outputs": [
    {
     "data": {
      "text/plain": [
       "<xarray.UnitsDataArray (lat: 1, lon: 1, time: 30)>\n",
       "array([[[5.02486 , 2.019793, 1.395267, 2.064239, 2.174787, 0.444648,\n",
       "         5.016789, 5.037468, 4.971055, 1.227006, 1.252866, 1.534072,\n",
       "         0.945038, 5.5     , 5.181407, 0.749056, 4.306948, 0.896968,\n",
       "         0.875396, 0.853686, 0.98122 , 3.882697, 5.190973, 0.917755,\n",
       "         0.822232, 0.935155, 0.80801 , 0.807645, 0.741836, 0.726696]]])\n",
       "Coordinates:\n",
       "  * lat      (lat) float64 43.0\n",
       "  * lon      (lon) float64 -72.0\n",
       "  * time     (time) datetime64[ns] 2019-04-12 2019-04-15 ... 2019-07-08\n",
       "Attributes:\n",
       "    layer_style:  <podpac.core.style.Style object at 0x0000011984E92128>\n",
       "    crs:          EPSG:4326"
      ]
     },
     "execution_count": 11,
     "metadata": {},
     "output_type": "execute_result"
    }
   ],
   "source": [
    "o"
   ]
  },
  {
   "cell_type": "markdown",
   "metadata": {},
   "source": [
    "## Evaluate the Node on the Cloud"
   ]
  },
  {
   "cell_type": "code",
   "execution_count": 12,
   "metadata": {},
   "outputs": [],
   "source": [
    "podpac.settings['S3_JSON_FOLDER'] = 'esip_input2/'\n",
    "podpac.settings['S3_OUTPUT_FOLDER'] = 'esip_output2/'\n",
    "podpac.settings['S3_BUCKET_NAME'] = 'podpac-s3'"
   ]
  },
  {
   "cell_type": "code",
   "execution_count": 13,
   "metadata": {},
   "outputs": [],
   "source": [
    "aws_node = podpac.managers.Lambda(source=alg)\n",
    "o2 = aws_node.eval(coords)"
   ]
  },
  {
   "cell_type": "code",
   "execution_count": 14,
   "metadata": {},
   "outputs": [
    {
     "data": {
      "text/plain": [
       "[<matplotlib.lines.Line2D at 0x11985eedcc0>]"
      ]
     },
     "execution_count": 14,
     "metadata": {},
     "output_type": "execute_result"
    },
    {
     "data": {
      "image/png": "[encoded data removed]",
      "text/plain": [
       "<Figure size 432x288 with 1 Axes>"
      ]
     },
     "metadata": {
      "needs_background": "light"
     },
     "output_type": "display_data"
    }
   ],
   "source": [
    "o2.plot()"
   ]
  },
  {
   "cell_type": "markdown",
   "metadata": {},
   "source": [
    "# Export PODPAC Pipelines for development of website\n",
    "* **Note**, PODPAC kept track of all the nodes used to create the analysis, and recorded this in a light-weight JSON format"
   ]
  },
  {
   "cell_type": "code",
   "execution_count": 16,
   "metadata": {},
   "outputs": [
    {
     "name": "stdout",
     "output_type": "stream",
     "text": [
      "{\n",
      "    \"nodes\": {\n",
      "        \"DroughtMonitorCategory\": {\n",
      "            \"node\": \"datalib.drought_monitor.DroughtMonitorCategory\",\n",
      "            \"attrs\": {\n",
      "                \"altkey\": \"alt\",\n",
      "                \"crs\": null,\n",
      "                \"datakey\": \"d0\",\n",
      "                \"latkey\": \"lat\",\n",
      "                \"lonkey\": \"lon\",\n",
      "                \"timekey\": \"time\"\n",
      "            },\n",
      "            \"source\": \"s3://podpac-internal-test/drought_parameters.zarr\",\n",
      "            \"interpolation\": \"nearest\"\n",
      "        },\n",
      "        \"YearSubstituteCoordinates\": {\n",
      "            \"node\": \"core.algorithm.coord_select.YearSubstituteCoordinates\",\n",
      "            \"attrs\": {\n",
      "                \"substitute_eval_coords\": true,\n",
      "                \"year\": \"2018\"\n",
      "            },\n",
      "            \"inputs\": {\n",
      "                \"source\": \"DroughtMonitorCategory\"\n",
      "            }\n",
      "        },\n",
      "        \"DroughtMonitorCategory_1\": {\n",
      "            \"node\": \"datalib.drought_monitor.DroughtMonitorCategory\",\n",
      "            \"attrs\": {\n",
      "                \"altkey\": \"alt\",\n",
      "                \"crs\": null,\n",
      "                \"datakey\": \"d1\",\n",
      "                \"latkey\": \"lat\",\n",
      "                \"lonkey\": \"lon\",\n",
      "                \"timekey\": \"time\"\n",
      "            },\n",
      "            \"source\": \"s3://podpac-internal-test/drought_parameters.zarr\",\n",
      "            \"interpolation\": \"nearest\"\n",
      "        },\n",
      "        \"YearSubstituteCoordinates_1\": {\n",
      "            \"node\": \"core.algorithm.coord_select.YearSubstituteCoordinates\",\n",
      "            \"attrs\": {\n",
      "                \"substitute_eval_coords\": true,\n",
      "                \"year\": \"2018\"\n",
      "            },\n",
      "            \"inputs\": {\n",
      "                \"source\": \"DroughtMonitorCategory_1\"\n",
      "            }\n",
      "        },\n",
      "        \"DroughtMonitorCategory_2\": {\n",
      "            \"node\": \"datalib.drought_monitor.DroughtMonitorCategory\",\n",
      "            \"attrs\": {\n",
      "                \"altkey\": \"alt\",\n",
      "                \"crs\": null,\n",
      "                \"datakey\": \"d2\",\n",
      "                \"latkey\": \"lat\",\n",
      "                \"lonkey\": \"lon\",\n",
      "                \"timekey\": \"time\"\n",
      "            },\n",
      "            \"source\": \"s3://podpac-internal-test/drought_parameters.zarr\",\n",
      "            \"interpolation\": \"nearest\"\n",
      "        },\n",
      "        \"YearSubstituteCoordinates_2\": {\n",
      "            \"node\": \"core.algorithm.coord_select.YearSubstituteCoordinates\",\n",
      "            \"attrs\": {\n",
      "                \"substitute_eval_coords\": true,\n",
      "                \"year\": \"2018\"\n",
      "            },\n",
      "            \"inputs\": {\n",
      "                \"source\": \"DroughtMonitorCategory_2\"\n",
      "            }\n",
      "        },\n",
      "        \"DroughtMonitorCategory_3\": {\n",
      "            \"node\": \"datalib.drought_monitor.DroughtMonitorCategory\",\n",
      "            \"attrs\": {\n",
      "                \"altkey\": \"alt\",\n",
      "                \"crs\": null,\n",
      "                \"datakey\": \"d3\",\n",
      "                \"latkey\": \"lat\",\n",
      "                \"lonkey\": \"lon\",\n",
      "                \"timekey\": \"time\"\n",
      "            },\n",
      "            \"source\": \"s3://podpac-internal-test/drought_parameters.zarr\",\n",
      "            \"interpolation\": \"nearest\"\n",
      "        },\n",
      "        \"YearSubstituteCoordinates_3\": {\n",
      "            \"node\": \"core.algorithm.coord_select.YearSubstituteCoordinates\",\n",
      "            \"attrs\": {\n",
      "                \"substitute_eval_coords\": true,\n",
      "                \"year\": \"2018\"\n",
      "            },\n",
      "            \"inputs\": {\n",
      "                \"source\": \"DroughtMonitorCategory_3\"\n",
      "            }\n",
      "        },\n",
      "        \"DroughtMonitorCategory_4\": {\n",
      "            \"node\": \"datalib.drought_monitor.DroughtMonitorCategory\",\n",
      "            \"attrs\": {\n",
      "                \"altkey\": \"alt\",\n",
      "                \"crs\": null,\n",
      "                \"datakey\": \"d4\",\n",
      "                \"latkey\": \"lat\",\n",
      "                \"lonkey\": \"lon\",\n",
      "                \"timekey\": \"time\"\n",
      "            },\n",
      "            \"source\": \"s3://podpac-internal-test/drought_parameters.zarr\",\n",
      "            \"interpolation\": \"nearest\"\n",
      "        },\n",
      "        \"YearSubstituteCoordinates_4\": {\n",
      "            \"node\": \"core.algorithm.coord_select.YearSubstituteCoordinates\",\n",
      "            \"attrs\": {\n",
      "                \"substitute_eval_coords\": true,\n",
      "                \"year\": \"2018\"\n",
      "            },\n",
      "            \"inputs\": {\n",
      "                \"source\": \"DroughtMonitorCategory_4\"\n",
      "            }\n",
      "        },\n",
      "        \"Zarr\": {\n",
      "            \"node\": \"core.data.types.Zarr\",\n",
      "            \"attrs\": {\n",
      "                \"altkey\": \"alt\",\n",
      "                \"cf_calendar\": \"proleptic_gregorian\",\n",
      "                \"cf_time\": true,\n",
      "                \"cf_units\": \"days since 2000-01-01\",\n",
      "                \"crs\": \"epsg:6933\",\n",
      "                \"datakey\": \"Soil_Moisture_Retrieval_Data_AM_soil_moisture\",\n",
      "                \"dims\": [\n",
      "                    \"time\",\n",
      "                    \"lat\",\n",
      "                    \"lon\"\n",
      "                ],\n",
      "                \"latkey\": \"fakedim0\",\n",
      "                \"lonkey\": \"fakedim1\",\n",
      "                \"timekey\": \"time\"\n",
      "            },\n",
      "            \"source\": \"s3://podpac-internal-test/SPL3SMP_E.002_9km_aid0001.zarr\",\n",
      "            \"interpolation\": \"nearest\"\n",
      "        },\n",
      "        \"Zarr_1\": {\n",
      "            \"node\": \"core.data.types.Zarr\",\n",
      "            \"attrs\": {\n",
      "                \"altkey\": \"alt\",\n",
      "                \"cf_calendar\": \"proleptic_gregorian\",\n",
      "                \"cf_time\": true,\n",
      "                \"cf_units\": \"days since 2000-01-01\",\n",
      "                \"crs\": \"epsg:6933\",\n",
      "                \"datakey\": \"Soil_Moisture_Retrieval_Data_AM_retrieval_qual_flag\",\n",
      "                \"dims\": [\n",
      "                    \"time\",\n",
      "                    \"lat\",\n",
      "                    \"lon\"\n",
      "                ],\n",
      "                \"latkey\": \"fakedim0\",\n",
      "                \"lonkey\": \"fakedim1\",\n",
      "                \"timekey\": \"time\"\n",
      "            },\n",
      "            \"source\": \"s3://podpac-internal-test/SPL3SMP_E.002_9km_aid0001.zarr\",\n",
      "            \"interpolation\": \"nearest\"\n",
      "        },\n",
      "        \"Arithmetic\": {\n",
      "            \"node\": \"core.algorithm.algorithm.Arithmetic\",\n",
      "            \"attrs\": {\n",
      "                \"eqn\": \"((B <= 1) / (B <= 1)) * A \",\n",
      "                \"params\": {}\n",
      "            },\n",
      "            \"inputs\": {\n",
      "                \"A\": \"Zarr\",\n",
      "                \"B\": \"Zarr_1\"\n",
      "            }\n",
      "        },\n",
      "        \"Zarr_2\": {\n",
      "            \"node\": \"core.data.types.Zarr\",\n",
      "            \"attrs\": {\n",
      "                \"altkey\": \"alt\",\n",
      "                \"cf_calendar\": \"proleptic_gregorian\",\n",
      "                \"cf_time\": true,\n",
      "                \"cf_units\": \"days since 2000-01-01\",\n",
      "                \"crs\": \"epsg:6933\",\n",
      "                \"datakey\": \"Soil_Moisture_Retrieval_Data_PM_soil_moisture_pm\",\n",
      "                \"dims\": [\n",
      "                    \"time\",\n",
      "                    \"lat\",\n",
      "                    \"lon\"\n",
      "                ],\n",
      "                \"latkey\": \"fakedim0\",\n",
      "                \"lonkey\": \"fakedim1\",\n",
      "                \"timekey\": \"time\"\n",
      "            },\n",
      "            \"source\": \"s3://podpac-internal-test/SPL3SMP_E.002_9km_aid0001.zarr\",\n",
      "            \"interpolation\": \"nearest\"\n",
      "        },\n",
      "        \"Zarr_3\": {\n",
      "            \"node\": \"core.data.types.Zarr\",\n",
      "            \"attrs\": {\n",
      "                \"altkey\": \"alt\",\n",
      "                \"cf_calendar\": \"proleptic_gregorian\",\n",
      "                \"cf_time\": true,\n",
      "                \"cf_units\": \"days since 2000-01-01\",\n",
      "                \"crs\": \"epsg:6933\",\n",
      "                \"datakey\": \"Soil_Moisture_Retrieval_Data_PM_retrieval_qual_flag_pm\",\n",
      "                \"dims\": [\n",
      "                    \"time\",\n",
      "                    \"lat\",\n",
      "                    \"lon\"\n",
      "                ],\n",
      "                \"latkey\": \"fakedim0\",\n",
      "                \"lonkey\": \"fakedim1\",\n",
      "                \"timekey\": \"time\"\n",
      "            },\n",
      "            \"source\": \"s3://podpac-internal-test/SPL3SMP_E.002_9km_aid0001.zarr\",\n",
      "            \"interpolation\": \"nearest\"\n",
      "        },\n",
      "        \"Arithmetic_1\": {\n",
      "            \"node\": \"core.algorithm.algorithm.Arithmetic\",\n",
      "            \"attrs\": {\n",
      "                \"eqn\": \"((B <= 1) / (B <= 1)) * A \",\n",
      "                \"params\": {}\n",
      "            },\n",
      "            \"inputs\": {\n",
      "                \"A\": \"Zarr_2\",\n",
      "                \"B\": \"Zarr_3\"\n",
      "            }\n",
      "        },\n",
      "        \"Zarr_4\": {\n",
      "            \"node\": \"core.data.types.Zarr\",\n",
      "            \"attrs\": {\n",
      "                \"altkey\": \"alt\",\n",
      "                \"cf_calendar\": \"proleptic_gregorian\",\n",
      "                \"cf_time\": true,\n",
      "                \"cf_units\": \"days since 2000-01-01\",\n",
      "                \"crs\": \"epsg:6933\",\n",
      "                \"datakey\": \"Geophysical_Data_sm_surface\",\n",
      "                \"dims\": [\n",
      "                    \"time\",\n",
      "                    \"lat\",\n",
      "                    \"lon\"\n",
      "                ],\n",
      "                \"latkey\": \"fakedim0\",\n",
      "                \"lonkey\": \"fakedim1\",\n",
      "                \"timekey\": \"time\"\n",
      "            },\n",
      "            \"source\": \"s3://podpac-internal-test/SPL4SMGP.004_9km_aid0001.zarr\",\n",
      "            \"interpolation\": \"nearest\"\n",
      "        },\n",
      "        \"OrderedCompositor\": {\n",
      "            \"node\": \"core.compositor.OrderedCompositor\",\n",
      "            \"attrs\": {\n",
      "                \"source\": \"SMAP L3 AM/PM Combined\"\n",
      "            },\n",
      "            \"sources\": [\n",
      "                \"Arithmetic\",\n",
      "                \"Arithmetic_1\",\n",
      "                \"Zarr_4\"\n",
      "            ],\n",
      "            \"interpolation\": null\n",
      "        },\n",
      "        \"Arithmetic_2\": {\n",
      "            \"node\": \"core.algorithm.algorithm.Arithmetic\",\n",
      "            \"attrs\": {\n",
      "                \"eqn\": \"(F > {d5}) * (F < E) * ((F - {d5}) / (E - {d5}) + 0) + (F > E) * (F < D) * ((F - E) / (D - E) + 1) + (F > D) * (F < C) * ((F - D) / (C - D) + 2) + (F > C) * (F < B) * ((F - C) / (B - C) + 3) + (F > B) * (F < A) * ((F - B) / (A - B) + 4) + (F > A) * (F < {dn}) * ((F - A) / ({dn} - A) + 5) + (F > {dn}) * 5.5\",\n",
      "                \"params\": {\n",
      "                    \"dn\": 0.5,\n",
      "                    \"d5\": 0\n",
      "                }\n",
      "            },\n",
      "            \"inputs\": {\n",
      "                \"A\": \"YearSubstituteCoordinates\",\n",
      "                \"B\": \"YearSubstituteCoordinates_1\",\n",
      "                \"C\": \"YearSubstituteCoordinates_2\",\n",
      "                \"D\": \"YearSubstituteCoordinates_3\",\n",
      "                \"E\": \"YearSubstituteCoordinates_4\",\n",
      "                \"F\": \"OrderedCompositor\"\n",
      "            }\n",
      "        }\n",
      "    }\n",
      "}\n"
     ]
    }
   ],
   "source": [
    "def save_json(node, filename):\n",
    "    with open(filename, 'w') as fid:\n",
    "        fid.write(node.json_pretty)\n",
    "        \n",
    "save_json(d0, 'pipeline_d0.json')\n",
    "save_json(d1, 'pipeline_d1.json')\n",
    "save_json(d2, 'pipeline_d2.json')\n",
    "save_json(d3, 'pipeline_d3.json')\n",
    "save_json(d4, 'pipeline_d4.json')\n",
    "save_json(alg, 'pipeline_category.json')\n",
    "save_json(smap, 'pipeline_moisture.json')\n",
    "\n",
    "print (alg.json_pretty)"
   ]
  }
 ],
 "metadata": {
  "kernelspec": {
   "display_name": "Python 3",
   "language": "python",
   "name": "python3"
  },
  "language_info": {
   "codemirror_mode": {
    "name": "ipython",
    "version": 3
   },
   "file_extension": ".py",
   "mimetype": "text/x-python",
   "name": "python",
   "nbconvert_exporter": "python",
   "pygments_lexer": "ipython3",
   "version": "3.6.6"
  }
 },
 "nbformat": 4,
 "nbformat_minor": 2
}
