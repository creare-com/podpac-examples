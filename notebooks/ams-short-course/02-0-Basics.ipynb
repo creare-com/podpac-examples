{
 "cells": [
  {
   "cell_type": "markdown",
   "metadata": {
    "slideshow": {
     "slide_type": "subslide"
    }
   },
   "source": [
    "# PODPAC Basics\n",
    "\n",
    "* [Reading a raster file](02-1-open-raster-file.ipynb)\n",
    "* [Reading a .csv file](02-2-open-point-file.ipynb)\n",
    "* [Creating coordinates](02-3-using-coordinates.ipynb)\n"
   ]
  },
  {
   "cell_type": "markdown",
   "metadata": {
    "slideshow": {
     "slide_type": "subslide"
    }
   },
   "source": [
    "# Acknowledgments\n",
    "This material is based upon work supported by NASA under Contract No 80NSSC18C0061."
   ]
  }
 ],
 "metadata": {
  "celltoolbar": "Slideshow",
  "kernelspec": {
   "display_name": "Python 3",
   "language": "python",
   "name": "python3"
  },
  "language_info": {
   "codemirror_mode": {
    "name": "ipython",
    "version": 3
   },
   "file_extension": ".py",
   "mimetype": "text/x-python",
   "name": "python",
   "nbconvert_exporter": "python",
   "pygments_lexer": "ipython3",
   "version": "3.7.6"
  }
 },
 "nbformat": 4,
 "nbformat_minor": 4
}
