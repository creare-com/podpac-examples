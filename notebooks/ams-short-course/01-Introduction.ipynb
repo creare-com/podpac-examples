{
 "cells": [
  {
   "cell_type": "markdown",
   "metadata": {
    "slideshow": {
     "slide_type": "slide"
    }
   },
   "source": [
    "<center>\n",
    "\n",
    "## PODPAC: Pipeline for Observational Data Processing, Analysis and Collaboration\n",
    "\n",
    "<a href=\"https://podpac.org\"><img src='../Images/podpac-logo.png' style='margin-bottom:-60px;margin-top:0px;margin-left:auto;margin-right:auto'/></a>\n",
    "\n",
    "#### NASA / USFS (Salt Lake City, UT) <br><br> Marc Shapiro (Creare LLC) <br><br> <small>April 30, 2018</small>\n",
    "</center>"
   ]
  },
  {
   "cell_type": "markdown",
   "metadata": {
    "slideshow": {
     "slide_type": "slide"
    }
   },
   "source": [
    "# What is PODPAC and why do you care?\n",
    "\n",
    "As a geospatial scientist **I want to**: \n",
    "\n",
    "<p class='fragment' style='margin-bottom:-20px;'>1. <b>Find</b>: <i>Identify and obtain geospatial data relevant to a scientific problem</i></p>\n",
    "<p class='fragment' style='margin-bottom:-20px;'>2. <b>Explore</b>: <i>Discover new characteristics or features in a geospatial dataset</i></p>\n",
    "<p class='fragment' style='margin-bottom:-20px;'>3. <b>Produce</b>: <i>Derive new datasets by processing and integrating geospatial data</i></p>\n",
    "<p class='fragment' style='margin-bottom:-20px;'>4. <b>Validate</b>: <i>Assess the goodness of a simulation dataset</i></p>"
   ]
  },
  {
   "cell_type": "markdown",
   "metadata": {
    "slideshow": {
     "slide_type": "subslide"
    }
   },
   "source": [
    "<p class='fragment' style='margin-bottom:-20px;'>5. <b>Answer</b>: <i>Perform analysis/analytics on geospatial data to answer scientific questions</i></p>\n",
    "<p class='fragment' style='margin-bottom:-20px;'>6. <b>Deploy</b>: <i>Build real-time production applications from analysis for end users </i></p>\n",
    "<br>\n",
    "<p class='fragment'>...but <b>I have to</b> deal with large scale data challenges.\n",
    "</p>\n",
    "<p></p>\n",
    "<p class='fragment' style='font-size:12pt;'>Mehrotra, Piyush, et al. \"Supporting 'Big Data' Analysis and Analytics at the NASA advanced Supercomputing (NAS) Facility.\" NASA Ames Research Center, NASA Advanced Supercomputing TR-NAS-2014-02, Moffett Field, CA (2014).</p>"
   ]
  },
  {
   "cell_type": "markdown",
   "metadata": {
    "slideshow": {
     "slide_type": "subslide"
    }
   },
   "source": [
    "<div><div style='float:left; width:50%;'><img src='../Images/DataVariety.png' style='width:95%;'/></div>\n",
    "    <div class='fragment' style='float:right; width:50%;'><img src='../Images/DataVolume.png' style='width:95%;'/></div></div>\n",
    "<div style='clear:both'></div>"
   ]
  },
  {
   "cell_type": "markdown",
   "metadata": {
    "slideshow": {
     "slide_type": "subslide"
    }
   },
   "source": [
    "# What is PODPAC and why do you care? \n",
    "\n",
    "<img src='../Images/PODPAC.png' style='width:85%;margin-left:auto;margin-right:auto' />"
   ]
  },
  {
   "cell_type": "markdown",
   "metadata": {
    "slideshow": {
     "slide_type": "subslide"
    }
   },
   "source": [
    "## Philosophy\n",
    "\n",
    "- Leverage open-source tools with momentum by the geospatial community ([NumFocus](https://numfocus.org/sponsored-projects), [Pangeo](https://pangeo.io/))\n",
    "- Wrap datasets **once**\n",
    "- Make analysis repeatable and transparent\n",
    "- Bring the analysis to the data (less downloading)\n",
    "- Provide a bridge from analysis (python) to application (web)"
   ]
  },
  {
   "cell_type": "markdown",
   "metadata": {
    "slideshow": {
     "slide_type": "slide"
    }
   },
   "source": [
    "## Try it Out\n",
    "\n",
    "- Visit: https://github.com/creare-com/podpac-examples\n",
    "    - Click \"Launch Binder\"\n",
    "    - Navigate to: *notebooks* -> *basic_examples*\n",
    "- Earth Data Login:\n",
    "    - username:`podpac_demo`\n",
    "    - password: `PODPAC-demo-2019`"
   ]
  },
  {
   "cell_type": "markdown",
   "metadata": {},
   "source": [
    "# AMS 2020 PODPAC Short Course\n",
    "\n",
    "Welcome to the PODPAC AMS 2020 short course. During this course you will learn \n",
    "...\n",
    "Index\n",
    "\n",
    "# PODPAC Basics\n",
    "\n",
    "1. Working with coordinates\n",
    "2. Working with Nodes\n",
    "    a. Algorithm\n",
    "    b. Datasource\n",
    "    c. Compositor\n",
    "    d. Working with Xarray objects\n",
    "3. Caching\n",
    "4. Interpolation\n"
   ]
  },
  {
   "cell_type": "code",
   "execution_count": 1,
   "metadata": {
    "slideshow": {
     "slide_type": "skip"
    }
   },
   "outputs": [
    {
     "name": "stdout",
     "output_type": "stream",
     "text": [
      "Populating the interactive namespace from numpy and matplotlib\n"
     ]
    }
   ],
   "source": [
    "# For interactive plots, comment the next line\n",
    "%pylab inline\n",
    "# For interactive plots, uncomment the next line\n",
    "# %pylab ipympl\n",
    "# We filter warnings just for a cleaner presentation in these notebooks\n",
    "import warnings\n",
    "warnings.filterwarnings('ignore')"
   ]
  },
  {
   "cell_type": "markdown",
   "metadata": {
    "slideshow": {
     "slide_type": "slide"
    }
   },
   "source": [
    "# Introduction\n",
    "\n",
    "> For instructions on using Jupyter notebooks, see the [README.md](../../README.md) file. "
   ]
  },
  {
   "cell_type": "markdown",
   "metadata": {
    "slideshow": {
     "slide_type": "slide"
    }
   },
   "source": [
    "This notebook provides resources and also describes the structure of PODPAC library. Specifically we will go over:\n",
    "\n",
    "* Where to find documentation\n",
    "* How to install and import PODPAC\n",
    "* How to import PODPAC\n",
    "* The structure of the PODPAC library\n",
    "* Getting help about a function\n",
    "* Labeled arrays using [xarray](http://xarray.pydata.org/en/stable/)"
   ]
  },
  {
   "cell_type": "markdown",
   "metadata": {},
   "source": [
    "# Finding Documentation \n",
    "* Documentation for the current version of PODPAC can be found [podpac.org](https://podpac.org)\n",
    "* To track the development of PODPAC, see the source code site [PODPAC GitHub](https://github.com/creare-com/podpac)\n",
    "    * If you run into a problem or find a bug, please go to [PODPAC Issues](https://github.com/creare-com/podpac/issues)\n",
    "    * To peek at what's planned for the next release, have a look at [PODPAC Projects](https://github.com/creare-com/podpac/projects)\n",
    "    * To download a specific release or see what changed between releases look at [PODPAC Releases](https://github.com/creare-com/podpac/releases)\n",
    "* For examples see [PODPAC-Examples on GitHub](https://github.com/creare-com/podpac-examples)\n",
    "* The source for the example application that we will be building can be found at [PODPAC Drought-Monitor GitHub](https://github.com/creare-com/podpac-drought-monitor)    "
   ]
  },
  {
   "cell_type": "markdown",
   "metadata": {
    "slideshow": {
     "slide_type": "slide"
    }
   },
   "source": [
    "\n",
    "# How to get started with PODPAC\n",
    "\n",
    "* Git repository: [https://github.com/creare-com/podpac](https://github.com/creare-com/podpac)\n",
    "* Documentation: [https://podpac.org](https://podpac.org)\n",
    "* Installation instructions: [https://podpac.org/install.html](https://podpac.org/install.html)\n",
    "* Examples Git repository: [https://github.com/creare-com/podpac_examples](https://github.com/creare-com/podpac_examples)\n",
    "* Problems? Create an issue: [https://github.com/creare-com/podpac/issues](https://github.com/creare-com/podpac/issues)"
   ]
  },
  {
   "cell_type": "markdown",
   "metadata": {
    "slideshow": {
     "slide_type": "slide"
    }
   },
   "source": [
    "# Installing PODPAC\n",
    "* Detailed instructions can be found on the [Main Documentation](https://podpac.org/install.html)\n",
    "* PODPAC can be installed using: \n",
    "    * The standalone Windows zip file\n",
    "        * Just download the file, unzip, and run the `run_podpac_jupyterlab.bat` file\n",
    "        * This contains a full standalone Python installation and may not be desirable for seasoned Python users\n",
    "    * `pip install podpac`\n",
    "        * The base PODPAC installation has a minimal number of dependencies, so all functionality won't be available\n",
    "        * To install all of the remaining dependencies use: `pip install podpac[all]`\n",
    "    * From source by\n",
    "        * Downloading a [release](https://github.com/creare-com/podpac/releases)\n",
    "        * Cloning the PODPAC repository `git clone https://github.com/creare-com/podpac-drought-monitor.git`\n",
    "        * Running `pip install -e .` from the directory with the PODPAC `setup.py` file\n",
    "* Setting up a Python environment can be complex. Fortunately, PODPAC has no compiled components, but its dependencies do. \n",
    "\n",
    "# Importing PODPAC\n",
    "\n",
    "* Unlike MATLAB, Python libraries need to be `imported` before they can be used\n",
    "* Imported libraries usually have a namespace\n",
    "* Portions of libraries, can be imported\n",
    "\n",
    "## Examples"
   ]
  },
  {
   "cell_type": "code",
   "execution_count": 3,
   "metadata": {},
   "outputs": [],
   "source": [
    "import podpac                     # Import PODPAC with the namespace 'podpac'\n",
    "import podpac as pc               # Import PODPAC with the namespace 'pc'\n",
    "from podpac import Coordinates    # Import Coordinates from PODPAC into the main namespace"
   ]
  },
  {
   "cell_type": "markdown",
   "metadata": {
    "slideshow": {
     "slide_type": "slide"
    }
   },
   "source": [
    "# PODPAC library structure\n",
    "PODPAC is composed out of multiple sub-modules/sub-libraries. The major ones, from a user's perspective are shown below. \n",
    "<img src='../Images/podpac-user-api.png' style='width:80%; margin-left:auto;margin-right:auto;' />\n",
    "\n",
    "\n",
    "We can examine what's in the PODPAC library by using the `dir` function"
   ]
  },
  {
   "cell_type": "code",
   "execution_count": 5,
   "metadata": {
    "slideshow": {
     "slide_type": "subslide"
    }
   },
   "outputs": [
    {
     "data": {
      "text/plain": [
       "['Coordinates',\n",
       " 'Node',\n",
       " 'NodeException',\n",
       " 'NodeTrait',\n",
       " '__builtins__',\n",
       " '__cached__',\n",
       " '__doc__',\n",
       " '__file__',\n",
       " '__loader__',\n",
       " '__name__',\n",
       " '__package__',\n",
       " '__path__',\n",
       " '__spec__',\n",
       " '__version__',\n",
       " 'algorithm',\n",
       " 'authentication',\n",
       " 'clinspace',\n",
       " 'compositor',\n",
       " 'coordinates',\n",
       " 'core',\n",
       " 'crange',\n",
       " 'data',\n",
       " 'interpolators',\n",
       " 'managers',\n",
       " 'pipeline',\n",
       " 'settings',\n",
       " 'units',\n",
       " 'utils',\n",
       " 'version',\n",
       " 'version_info']"
      ]
     },
     "execution_count": 5,
     "metadata": {},
     "output_type": "execute_result"
    }
   ],
   "source": [
    "dir(podpac)"
   ]
  },
  {
   "cell_type": "markdown",
   "metadata": {
    "slideshow": {
     "slide_type": "subslide"
    }
   },
   "source": [
    "Anything that starts with the \"dunderscore\" `__<attr>__` is an internal Python method and can be ignored. \n",
    "\n",
    "In PODPAC, the top-level classes and functions are frequently used and include:\n",
    "* `Coordinates`: class for defining coordinates\n",
    "* `clinspace`: A helper function used to create uniformly spaced coordinates based on the number of points\n",
    "* `crange`: Another helper function used to create uniformly spaced coordinates based on step size\n",
    "* `Node`: Base class for defining PODPAC compute Pipeline\n",
    "* `NodeException`: The error type thrown by Nodes\n",
    "* `settings`: A module with various settings that define caching behavior, login credentials, etc.\n",
    "* `version_info`: Python dictionary giving the version of the PODPAC library"
   ]
  },
  {
   "cell_type": "markdown",
   "metadata": {
    "slideshow": {
     "slide_type": "subslide"
    }
   },
   "source": [
    "The top-level modules or sub-packages (or sub libraries) include: \n",
    "* `algorithm`: here you can find generic `Algorithm` nodes to do different types of computations\n",
    "* `authentication`: this contains utilities to help authenticate users to download data\n",
    "* `compositor`: here you can find nodes that help to combine multiple data sources into a single node\n",
    "* `coordinates`: this module contains additional utilities related to creating coordinates\n",
    "* `core`: this is where the core library is implemented, and follows the directory structure of the code\n",
    "* `data`: here you can find generic `DataSource` nodes for reading and interpreting  data sources\n",
    "* `datalib`: here you can find domain-specific `DataSource` nodes for reading data from specific instruments, studies, and programs\n",
    "* `interpolators`: this contains classes for dealing with automatic interpolation\n",
    "* `managers`: contains classes and Nodes related to managing how and where code is run. This is where the AWS functionalit lives\n",
    "\n",
    "Diving into specifically what's available in some of these submodules"
   ]
  },
  {
   "cell_type": "code",
   "execution_count": 11,
   "metadata": {
    "slideshow": {
     "slide_type": "subslide"
    }
   },
   "outputs": [
    {
     "data": {
      "text/plain": [
       "['Algorithm',\n",
       " 'Arange',\n",
       " 'Arithmetic',\n",
       " 'Convolution',\n",
       " 'CoordData',\n",
       " 'Count',\n",
       " 'DayOfYear',\n",
       " 'ExpandCoordinates',\n",
       " 'GroupReduce',\n",
       " 'Kurtosis',\n",
       " 'Max',\n",
       " 'Mean',\n",
       " 'Median',\n",
       " 'Min',\n",
       " 'SelectCoordinates',\n",
       " 'SinCoords',\n",
       " 'Skew',\n",
       " 'SpatialConvolution',\n",
       " 'StandardDeviation',\n",
       " 'Sum',\n",
       " 'TimeConvolution',\n",
       " 'Variance',\n",
       " 'YearSubstituteCoordinates',\n",
       " '__builtins__',\n",
       " '__cached__',\n",
       " '__doc__',\n",
       " '__file__',\n",
       " '__loader__',\n",
       " '__name__',\n",
       " '__package__',\n",
       " '__spec__']"
      ]
     },
     "execution_count": 11,
     "metadata": {},
     "output_type": "execute_result"
    }
   ],
   "source": [
    "# Generic Algorithm nodes\n",
    "dir(podpac.algorithm)"
   ]
  },
  {
   "cell_type": "code",
   "execution_count": 12,
   "metadata": {
    "slideshow": {
     "slide_type": "subslide"
    }
   },
   "outputs": [
    {
     "data": {
      "text/plain": [
       "['Array',\n",
       " 'CSV',\n",
       " 'DataSource',\n",
       " 'Dataset',\n",
       " 'H5PY',\n",
       " 'INTERPOLATION_DEFAULT',\n",
       " 'INTERPOLATION_METHODS',\n",
       " 'INTERPOLATION_METHODS_DICT',\n",
       " 'INTERPOLATORS',\n",
       " 'INTERPOLATORS_DICT',\n",
       " 'Interpolation',\n",
       " 'InterpolationException',\n",
       " 'PyDAP',\n",
       " 'Rasterio',\n",
       " 'ReprojectedSource',\n",
       " 'WCS',\n",
       " 'Zarr',\n",
       " '__builtins__',\n",
       " '__cached__',\n",
       " '__doc__',\n",
       " '__file__',\n",
       " '__loader__',\n",
       " '__name__',\n",
       " '__package__',\n",
       " '__spec__',\n",
       " 'interpolation_trait']"
      ]
     },
     "execution_count": 12,
     "metadata": {},
     "output_type": "execute_result"
    }
   ],
   "source": [
    "# Generic DataSource nodes\n",
    "dir(podpac.data)"
   ]
  },
  {
   "cell_type": "code",
   "execution_count": 13,
   "metadata": {
    "slideshow": {
     "slide_type": "subslide"
    }
   },
   "outputs": [
    {
     "data": {
      "text/plain": [
       "['EGI',\n",
       " 'GFS',\n",
       " 'GFSLatest',\n",
       " 'IntakeCatalog',\n",
       " 'SMAP',\n",
       " 'SMAPBestAvailable',\n",
       " 'SMAPPorosity',\n",
       " 'SMAPProperties',\n",
       " 'SMAPSource',\n",
       " 'SMAPWilt',\n",
       " 'SMAP_PRODUCT_MAP',\n",
       " 'TerrainTiles',\n",
       " '__builtins__',\n",
       " '__cached__',\n",
       " '__doc__',\n",
       " '__file__',\n",
       " '__loader__',\n",
       " '__name__',\n",
       " '__package__',\n",
       " '__path__',\n",
       " '__spec__',\n",
       " 'drought_monitor',\n",
       " 'egi',\n",
       " 'gfs',\n",
       " 'intake',\n",
       " 'nasaCMR',\n",
       " 'smap',\n",
       " 'smap_egi',\n",
       " 'sys',\n",
       " 'terraintiles']"
      ]
     },
     "execution_count": 13,
     "metadata": {},
     "output_type": "execute_result"
    }
   ],
   "source": [
    "# Specific data libraries built into podpac\n",
    "import podpac.datalib   # not loaded by default\n",
    "dir(podpac.datalib)"
   ]
  },
  {
   "cell_type": "code",
   "execution_count": null,
   "metadata": {
    "slideshow": {
     "slide_type": "skip"
    }
   },
   "outputs": [],
   "source": [
    "# Nothing here yet\n",
    "# dir(podpac.alglib)"
   ]
  },
  {
   "cell_type": "markdown",
   "metadata": {},
   "source": [
    "# Getting help on specific PODPAC components\n",
    "* Each Object/Function/Module has a documentation string\n",
    "    * If you find documentation that is incomplete or confusion, please let us know by creating and [Issue](https://github.com/creare-com/podpac/issues).\n",
    "    * Or better yet, fixing it, and submitting a pull request!\n",
    "* The [API documentation](https://podpac.org/user/api.html) also contains this information."
   ]
  },
  {
   "cell_type": "code",
   "execution_count": 16,
   "metadata": {},
   "outputs": [
    {
     "data": {
      "text/plain": [
       "\u001b[1;31mInit signature:\u001b[0m \u001b[0mpodpac\u001b[0m\u001b[1;33m.\u001b[0m\u001b[0malgorithm\u001b[0m\u001b[1;33m.\u001b[0m\u001b[0mArithmetic\u001b[0m\u001b[1;33m(\u001b[0m\u001b[1;33m*\u001b[0m\u001b[0margs\u001b[0m\u001b[1;33m,\u001b[0m \u001b[1;33m**\u001b[0m\u001b[0mkwargs\u001b[0m\u001b[1;33m)\u001b[0m\u001b[1;33m\u001b[0m\u001b[1;33m\u001b[0m\u001b[0m\n",
       "\u001b[1;31mDocstring:\u001b[0m     \n",
       "Create a simple point-by-point computation of up to 7 different input nodes.\n",
       "\n",
       "Attributes\n",
       "----------\n",
       "A : podpac.Node\n",
       "    An input node that can be used in a computation. \n",
       "B : podpac.Node\n",
       "    An input node that can be used in a computation. \n",
       "C : podpac.Node\n",
       "    An input node that can be used in a computation. \n",
       "D : podpac.Node\n",
       "    An input node that can be used in a computation. \n",
       "E : podpac.Node\n",
       "    An input node that can be used in a computation. \n",
       "F : podpac.Node\n",
       "    An input node that can be used in a computation. \n",
       "G : podpac.Node\n",
       "    An input node that can be used in a computation. \n",
       "eqn : str\n",
       "    An equation stating how the datasources can be combined. \n",
       "    Parameters may be specified in {}'s\n",
       "    \n",
       "Examples\n",
       "----------\n",
       "a = SinCoords()\n",
       "b = Arange()\n",
       "arith = Arithmetic(A=a, B=b, eqn = 'A * B + {offset}', params={'offset': 1})\n",
       "\u001b[1;31mInit docstring:\u001b[0m Do not overwrite me \n",
       "\u001b[1;31mFile:\u001b[0m           d:\\podpac-1.1.0\\podpac\\podpac\\core\\algorithm\\algorithm.py\n",
       "\u001b[1;31mType:\u001b[0m           MetaHasTraits\n",
       "\u001b[1;31mSubclasses:\u001b[0m     \n"
      ]
     },
     "metadata": {},
     "output_type": "display_data"
    }
   ],
   "source": [
    "# Inside Jypyter Notebooks use:\n",
    "podpac.algorithm.Arithmetic?"
   ]
  },
  {
   "cell_type": "code",
   "execution_count": 17,
   "metadata": {
    "collapsed": true,
    "jupyter": {
     "outputs_hidden": true
    }
   },
   "outputs": [
    {
     "name": "stdout",
     "output_type": "stream",
     "text": [
      "Help on class Arithmetic in module podpac.core.algorithm.algorithm:\n",
      "\n",
      "class Arithmetic(Algorithm)\n",
      " |  Arithmetic(*args, **kwargs)\n",
      " |  \n",
      " |  Create a simple point-by-point computation of up to 7 different input nodes.\n",
      " |  \n",
      " |  Attributes\n",
      " |  ----------\n",
      " |  A : podpac.Node\n",
      " |      An input node that can be used in a computation. \n",
      " |  B : podpac.Node\n",
      " |      An input node that can be used in a computation. \n",
      " |  C : podpac.Node\n",
      " |      An input node that can be used in a computation. \n",
      " |  D : podpac.Node\n",
      " |      An input node that can be used in a computation. \n",
      " |  E : podpac.Node\n",
      " |      An input node that can be used in a computation. \n",
      " |  F : podpac.Node\n",
      " |      An input node that can be used in a computation. \n",
      " |  G : podpac.Node\n",
      " |      An input node that can be used in a computation. \n",
      " |  eqn : str\n",
      " |      An equation stating how the datasources can be combined. \n",
      " |      Parameters may be specified in {}'s\n",
      " |      \n",
      " |  Examples\n",
      " |  ----------\n",
      " |  a = SinCoords()\n",
      " |  b = Arange()\n",
      " |  arith = Arithmetic(A=a, B=b, eqn = 'A * B + {offset}', params={'offset': 1})\n",
      " |  \n",
      " |  Method resolution order:\n",
      " |      Arithmetic\n",
      " |      Algorithm\n",
      " |      podpac.core.node.Node\n",
      " |      traitlets.traitlets.HasTraits\n",
      " |      traitlets.traitlets.HasDescriptors\n",
      " |      builtins.object\n",
      " |  \n",
      " |  Methods defined here:\n",
      " |  \n",
      " |  algorithm(self, inputs)\n",
      " |      Compute the algorithms equation\n",
      " |      \n",
      " |      Attributes\n",
      " |      ----------\n",
      " |      inputs : dict\n",
      " |          Evaluated outputs of the input nodes. The keys are the attribute names.\n",
      " |      \n",
      " |      Returns\n",
      " |      -------\n",
      " |      UnitsDataArray\n",
      " |          Description\n",
      " |  \n",
      " |  init(self)\n",
      " |      Overwrite this method if a node needs to do any additional initialization after the standard initialization.\n",
      " |  \n",
      " |  ----------------------------------------------------------------------\n",
      " |  Data descriptors defined here:\n",
      " |  \n",
      " |  A\n",
      " |  \n",
      " |  B\n",
      " |  \n",
      " |  C\n",
      " |  \n",
      " |  D\n",
      " |  \n",
      " |  E\n",
      " |  \n",
      " |  F\n",
      " |  \n",
      " |  G\n",
      " |  \n",
      " |  eqn\n",
      " |      A trait for unicode strings.\n",
      " |  \n",
      " |  params\n",
      " |      An instance of a Python dict.\n",
      " |  \n",
      " |  ----------------------------------------------------------------------\n",
      " |  Methods inherited from Algorithm:\n",
      " |  \n",
      " |  eval(self, coordinates, output=None)\n",
      " |      Evalutes this nodes using the supplied coordinates. \n",
      " |      \n",
      " |      Parameters\n",
      " |      ----------\n",
      " |      coordinates : podpac.Coordinates\n",
      " |          The set of coordinates requested by a user. The Node will be evaluated using these coordinates.\n",
      " |      output : podpac.UnitsDataArray, optional\n",
      " |          Default is None. Optional input array used to store the output data. When supplied, the node will not\n",
      " |          allocate its own memory for the output array. This array needs to have the correct dimensions,\n",
      " |          coordinates, and coordinate reference system.\n",
      " |      \n",
      " |      Returns\n",
      " |      -------\n",
      " |      \n",
      " |      :class:`podpac.UnitsDataArray`\n",
      " |          Unit-aware xarray DataArray containing the results of the node evaluation.\n",
      " |  \n",
      " |  find_coordinates(self)\n",
      " |      Get the available native coordinates for the inputs to the Node.\n",
      " |      \n",
      " |      Returns\n",
      " |      -------\n",
      " |      coords_list : list\n",
      " |          list of available coordinates (Coordinate objects)\n",
      " |  \n",
      " |  ----------------------------------------------------------------------\n",
      " |  Data descriptors inherited from Algorithm:\n",
      " |  \n",
      " |  base_definition\n",
      " |      Base node definition. \n",
      " |      \n",
      " |      Returns\n",
      " |      -------\n",
      " |      OrderedDict\n",
      " |          Extends base description by adding 'inputs'\n",
      " |  \n",
      " |  ----------------------------------------------------------------------\n",
      " |  Methods inherited from podpac.core.node.Node:\n",
      " |  \n",
      " |  __init__(self, **kwargs)\n",
      " |      Do not overwrite me\n",
      " |  \n",
      " |  create_output_array(self, coords, data=nan, **kwargs)\n",
      " |      Initialize an output data array\n",
      " |      \n",
      " |      Parameters\n",
      " |      ----------\n",
      " |      coords : podpac.Coordinates\n",
      " |          Input to UnitsDataArray (i.e. an xarray coords dictionary/list)\n",
      " |      data : None, number, or array-like (optional)\n",
      " |          How to initialize the array. Options are:\n",
      " |              nan: uses np.full(..., np.nan) (Default option)\n",
      " |              empty: uses np.empty\n",
      " |              zeros: uses np.zeros()\n",
      " |              ones: uses np.ones\n",
      " |              full: uses np.full(..., fillval)\n",
      " |              data: uses the fillval as the input array\n",
      " |      \n",
      " |      **kwargs\n",
      " |          Dictioary of any additional keyword arguments that will be passed to UnitsDataArray.\n",
      " |      \n",
      " |      Returns\n",
      " |      -------\n",
      " |      \n",
      " |      :class:`podpac.UnitsDataArray`\n",
      " |          Unit-aware xarray DataArray of the desired size initialized using the method specified.\n",
      " |  \n",
      " |  eval_group(self, group)\n",
      " |      Evaluate the node for each of the coordinates in the group.\n",
      " |      \n",
      " |      Parameters\n",
      " |      ----------\n",
      " |      group : podpac.CoordinatesGroup\n",
      " |          Group of coordinates to evaluate.\n",
      " |      \n",
      " |      Returns\n",
      " |      -------\n",
      " |      outputs : list\n",
      " |          evaluation output, list of UnitsDataArray objects\n",
      " |  \n",
      " |  get_cache(self, key, coordinates=None)\n",
      " |      Get cached data for this node.\n",
      " |      \n",
      " |      Parameters\n",
      " |      ----------\n",
      " |      key : str\n",
      " |          Key for the cached data, e.g. 'output'\n",
      " |      coordinates : podpac.Coordinates, optional\n",
      " |          Coordinates for which the cached data should be retrieved. Omit for coordinate-independent data.\n",
      " |      \n",
      " |      Returns\n",
      " |      -------\n",
      " |      data : any\n",
      " |          The cached data.\n",
      " |      \n",
      " |      Raises\n",
      " |      ------\n",
      " |      NodeException\n",
      " |          Cached data not found.\n",
      " |  \n",
      " |  has_cache(self, key, coordinates=None)\n",
      " |      Check for cached data for this node.\n",
      " |      \n",
      " |      Parameters\n",
      " |      ----------\n",
      " |      key : str\n",
      " |          Key for the cached data, e.g. 'output'\n",
      " |      coordinates : podpac.Coordinates, optional\n",
      " |          Coordinates for which the cached data should be retrieved. Omit for coordinate-independent data.\n",
      " |      \n",
      " |      Returns\n",
      " |      -------\n",
      " |      bool\n",
      " |          True if there is cached data for this node, key, and coordinates.\n",
      " |  \n",
      " |  put_cache(self, data, key, coordinates=None, overwrite=False)\n",
      " |      Cache data for this node.\n",
      " |      \n",
      " |      Parameters\n",
      " |      ----------\n",
      " |      data : any\n",
      " |          The data to cache.\n",
      " |      key : str\n",
      " |          Unique key for the data, e.g. 'output'\n",
      " |      coordinates : podpac.Coordinates, optional\n",
      " |          Coordinates that the cached data depends on. Omit for coordinate-independent data.\n",
      " |      overwrite : bool, optional\n",
      " |          Overwrite existing data, default False\n",
      " |      \n",
      " |      Raises\n",
      " |      ------\n",
      " |      NodeException\n",
      " |          Cached data already exists (and overwrite is False)\n",
      " |  \n",
      " |  rem_cache(self, key, coordinates=None, mode=None)\n",
      " |      Clear cached data for this node.\n",
      " |      \n",
      " |      Parameters\n",
      " |      ----------\n",
      " |      key : str\n",
      " |          Delete cached objects with this key. If `'*'`, cached data is deleted for all keys.\n",
      " |      coordinates : podpac.Coordinates, str, optional\n",
      " |          Default is None. Delete cached objects for these coordinates. If `'*'`, cached data is deleted for all\n",
      " |          coordinates, including coordinate-independent data. If None, will only affect coordinate-independent data.\n",
      " |      mode: str, optional\n",
      " |          Specify which cache stores are affected.\n",
      " |      \n",
      " |      \n",
      " |      See Also\n",
      " |      ---------\n",
      " |      `podpac.core.cache.cache.CacheCtrl.clear` to remove ALL cache for ALL nodes.\n",
      " |  \n",
      " |  ----------------------------------------------------------------------\n",
      " |  Class methods inherited from podpac.core.node.Node:\n",
      " |  \n",
      " |  from_url(url) from traitlets.traitlets.MetaHasTraits\n",
      " |      Create podpac Node from a WMS/WCS request.\n",
      " |      \n",
      " |      Arguments\n",
      " |      ---------\n",
      " |      url : str, dict\n",
      " |          The raw WMS/WCS request url, or a dictionary of query parameters\n",
      " |      \n",
      " |      Returns\n",
      " |      -------\n",
      " |      :class:`Node`\n",
      " |          A full Node with sub-nodes based on the definition of the node from the URL\n",
      " |      \n",
      " |      Notes\n",
      " |      -------\n",
      " |      The request can specify the PODPAC node by four different mechanism:\n",
      " |      * Direct node name: PODPAC will look for an appropriate node in podpac.datalib\n",
      " |      * JSON definition passed using the 'PARAMS' query string: Need to specify the special LAYER/COVERAGE value of\n",
      " |        \"%PARAMS%\"\n",
      " |      * By pointing at the JSON definition retrievable with a http GET request:\n",
      " |        e.g. by setting LAYER/COVERAGE value to https://my-site.org/pipeline_definition.json\n",
      " |      * By pointing at the JSON definition retrievable from an S3 bucket that the user has access to:\n",
      " |        e.g by setting LAYER/COVERAGE value to s3://my-bucket-name/pipeline_definition.json\n",
      " |  \n",
      " |  ----------------------------------------------------------------------\n",
      " |  Data descriptors inherited from podpac.core.node.Node:\n",
      " |  \n",
      " |  base_ref\n",
      " |      Default pipeline node reference/name in pipeline node definitions\n",
      " |      \n",
      " |      Returns\n",
      " |      -------\n",
      " |      str\n",
      " |          Name of the node in pipeline definitions\n",
      " |  \n",
      " |  cache_ctrl\n",
      " |      A trait whose value must be an instance of a specified class.\n",
      " |      \n",
      " |      The value can also be an instance of a subclass of the specified class.\n",
      " |      \n",
      " |      Subclasses can declare default classes by overriding the klass attribute\n",
      " |  \n",
      " |  cache_output\n",
      " |      A boolean (True, False) trait.\n",
      " |  \n",
      " |  cache_update\n",
      " |      A boolean (True, False) trait.\n",
      " |  \n",
      " |  definition\n",
      " |      Full pipeline definition for this node.\n",
      " |      \n",
      " |      Returns\n",
      " |      -------\n",
      " |      OrderedDict\n",
      " |          Dictionary-formatted definition of a PODPAC pipeline.\n",
      " |  \n",
      " |  dtype\n",
      " |      A trait which allows any value.\n",
      " |  \n",
      " |  hash\n",
      " |  \n",
      " |  json\n",
      " |      definition for this node in json format\n",
      " |      \n",
      " |      Returns\n",
      " |      -------\n",
      " |      str\n",
      " |          JSON-formatted definition of a PODPAC pipeline.\n",
      " |      \n",
      " |      Notes\n",
      " |      ------\n",
      " |      This definition can be used to create Pipeline Nodes. It also serves as a light-weight transport mechanism to\n",
      " |      share algorithms and pipelines, or run code on cloud services.\n",
      " |  \n",
      " |  json_pretty\n",
      " |  \n",
      " |  pipeline\n",
      " |      Create a pipeline node from this node\n",
      " |      \n",
      " |      Returns\n",
      " |      -------\n",
      " |      podpac.Pipeline\n",
      " |          A pipeline node that wraps this node\n",
      " |  \n",
      " |  style\n",
      " |      A trait whose value must be an instance of a specified class.\n",
      " |      \n",
      " |      The value can also be an instance of a subclass of the specified class.\n",
      " |      \n",
      " |      Subclasses can declare default classes by overriding the klass attribute\n",
      " |  \n",
      " |  units\n",
      " |      A trait for unicode strings.\n",
      " |  \n",
      " |  ----------------------------------------------------------------------\n",
      " |  Methods inherited from traitlets.traitlets.HasTraits:\n",
      " |  \n",
      " |  __getstate__(self)\n",
      " |  \n",
      " |  __setstate__(self, state)\n",
      " |  \n",
      " |  add_traits(self, **traits)\n",
      " |      Dynamically add trait attributes to the HasTraits instance.\n",
      " |  \n",
      " |  has_trait(self, name)\n",
      " |      Returns True if the object has a trait with the specified name.\n",
      " |  \n",
      " |  hold_trait_notifications(self)\n",
      " |      Context manager for bundling trait change notifications and cross\n",
      " |      validation.\n",
      " |      \n",
      " |      Use this when doing multiple trait assignments (init, config), to avoid\n",
      " |      race conditions in trait notifiers requesting other trait values.\n",
      " |      All trait notifications will fire after all values have been assigned.\n",
      " |  \n",
      " |  notify_change(self, change)\n",
      " |  \n",
      " |  observe(self, handler, names=traitlets.All, type='change')\n",
      " |      Setup a handler to be called when a trait changes.\n",
      " |      \n",
      " |      This is used to setup dynamic notifications of trait changes.\n",
      " |      \n",
      " |      Parameters\n",
      " |      ----------\n",
      " |      handler : callable\n",
      " |          A callable that is called when a trait changes. Its\n",
      " |          signature should be ``handler(change)``, where ``change`` is a\n",
      " |          dictionary. The change dictionary at least holds a 'type' key.\n",
      " |          * ``type``: the type of notification.\n",
      " |          Other keys may be passed depending on the value of 'type'. In the\n",
      " |          case where type is 'change', we also have the following keys:\n",
      " |          * ``owner`` : the HasTraits instance\n",
      " |          * ``old`` : the old value of the modified trait attribute\n",
      " |          * ``new`` : the new value of the modified trait attribute\n",
      " |          * ``name`` : the name of the modified trait attribute.\n",
      " |      names : list, str, All\n",
      " |          If names is All, the handler will apply to all traits.  If a list\n",
      " |          of str, handler will apply to all names in the list.  If a\n",
      " |          str, the handler will apply just to that name.\n",
      " |      type : str, All (default: 'change')\n",
      " |          The type of notification to filter by. If equal to All, then all\n",
      " |          notifications are passed to the observe handler.\n",
      " |  \n",
      " |  on_trait_change(self, handler=None, name=None, remove=False)\n",
      " |      DEPRECATED: Setup a handler to be called when a trait changes.\n",
      " |      \n",
      " |      This is used to setup dynamic notifications of trait changes.\n",
      " |      \n",
      " |      Static handlers can be created by creating methods on a HasTraits\n",
      " |      subclass with the naming convention '_[traitname]_changed'.  Thus,\n",
      " |      to create static handler for the trait 'a', create the method\n",
      " |      _a_changed(self, name, old, new) (fewer arguments can be used, see\n",
      " |      below).\n",
      " |      \n",
      " |      If `remove` is True and `handler` is not specified, all change\n",
      " |      handlers for the specified name are uninstalled.\n",
      " |      \n",
      " |      Parameters\n",
      " |      ----------\n",
      " |      handler : callable, None\n",
      " |          A callable that is called when a trait changes.  Its\n",
      " |          signature can be handler(), handler(name), handler(name, new),\n",
      " |          handler(name, old, new), or handler(name, old, new, self).\n",
      " |      name : list, str, None\n",
      " |          If None, the handler will apply to all traits.  If a list\n",
      " |          of str, handler will apply to all names in the list.  If a\n",
      " |          str, the handler will apply just to that name.\n",
      " |      remove : bool\n",
      " |          If False (the default), then install the handler.  If True\n",
      " |          then unintall it.\n",
      " |  \n",
      " |  set_trait(self, name, value)\n",
      " |      Forcibly sets trait attribute, including read-only attributes.\n",
      " |  \n",
      " |  setup_instance(self, *args, **kwargs)\n",
      " |      This is called **before** self.__init__ is called.\n",
      " |  \n",
      " |  trait_metadata(self, traitname, key, default=None)\n",
      " |      Get metadata values for trait by key.\n",
      " |  \n",
      " |  trait_names(self, **metadata)\n",
      " |      Get a list of all the names of this class' traits.\n",
      " |  \n",
      " |  traits(self, **metadata)\n",
      " |      Get a ``dict`` of all the traits of this class.  The dictionary\n",
      " |      is keyed on the name and the values are the TraitType objects.\n",
      " |      \n",
      " |      The TraitTypes returned don't know anything about the values\n",
      " |      that the various HasTrait's instances are holding.\n",
      " |      \n",
      " |      The metadata kwargs allow functions to be passed in which\n",
      " |      filter traits based on metadata values.  The functions should\n",
      " |      take a single value as an argument and return a boolean.  If\n",
      " |      any function returns False, then the trait is not included in\n",
      " |      the output.  If a metadata key doesn't exist, None will be passed\n",
      " |      to the function.\n",
      " |  \n",
      " |  unobserve(self, handler, names=traitlets.All, type='change')\n",
      " |      Remove a trait change handler.\n",
      " |      \n",
      " |      This is used to unregister handlers to trait change notifications.\n",
      " |      \n",
      " |      Parameters\n",
      " |      ----------\n",
      " |      handler : callable\n",
      " |          The callable called when a trait attribute changes.\n",
      " |      names : list, str, All (default: All)\n",
      " |          The names of the traits for which the specified handler should be\n",
      " |          uninstalled. If names is All, the specified handler is uninstalled\n",
      " |          from the list of notifiers corresponding to all changes.\n",
      " |      type : str or All (default: 'change')\n",
      " |          The type of notification to filter by. If All, the specified handler\n",
      " |          is uninstalled from the list of notifiers corresponding to all types.\n",
      " |  \n",
      " |  unobserve_all(self, name=traitlets.All)\n",
      " |      Remove trait change handlers of any type for the specified name.\n",
      " |      If name is not specified, removes all trait notifiers.\n",
      " |  \n",
      " |  ----------------------------------------------------------------------\n",
      " |  Class methods inherited from traitlets.traitlets.HasTraits:\n",
      " |  \n",
      " |  class_own_trait_events(name) from traitlets.traitlets.MetaHasTraits\n",
      " |      Get a dict of all event handlers defined on this class, not a parent.\n",
      " |      \n",
      " |      Works like ``event_handlers``, except for excluding traits from parents.\n",
      " |  \n",
      " |  class_own_traits(**metadata) from traitlets.traitlets.MetaHasTraits\n",
      " |      Get a dict of all the traitlets defined on this class, not a parent.\n",
      " |      \n",
      " |      Works like `class_traits`, except for excluding traits from parents.\n",
      " |  \n",
      " |  class_trait_names(**metadata) from traitlets.traitlets.MetaHasTraits\n",
      " |      Get a list of all the names of this class' traits.\n",
      " |      \n",
      " |      This method is just like the :meth:`trait_names` method,\n",
      " |      but is unbound.\n",
      " |  \n",
      " |  class_traits(**metadata) from traitlets.traitlets.MetaHasTraits\n",
      " |      Get a ``dict`` of all the traits of this class.  The dictionary\n",
      " |      is keyed on the name and the values are the TraitType objects.\n",
      " |      \n",
      " |      This method is just like the :meth:`traits` method, but is unbound.\n",
      " |      \n",
      " |      The TraitTypes returned don't know anything about the values\n",
      " |      that the various HasTrait's instances are holding.\n",
      " |      \n",
      " |      The metadata kwargs allow functions to be passed in which\n",
      " |      filter traits based on metadata values.  The functions should\n",
      " |      take a single value as an argument and return a boolean.  If\n",
      " |      any function returns False, then the trait is not included in\n",
      " |      the output.  If a metadata key doesn't exist, None will be passed\n",
      " |      to the function.\n",
      " |  \n",
      " |  trait_events(name=None) from traitlets.traitlets.MetaHasTraits\n",
      " |      Get a ``dict`` of all the event handlers of this class.\n",
      " |      \n",
      " |      Parameters\n",
      " |      ----------\n",
      " |      name: str (default: None)\n",
      " |          The name of a trait of this class. If name is ``None`` then all\n",
      " |          the event handlers of this class will be returned instead.\n",
      " |      \n",
      " |      Returns\n",
      " |      -------\n",
      " |      The event handlers associated with a trait name, or all event handlers.\n",
      " |  \n",
      " |  ----------------------------------------------------------------------\n",
      " |  Data descriptors inherited from traitlets.traitlets.HasTraits:\n",
      " |  \n",
      " |  cross_validation_lock\n",
      " |      A contextmanager for running a block with our cross validation lock set\n",
      " |      to True.\n",
      " |      \n",
      " |      At the end of the block, the lock's value is restored to its value\n",
      " |      prior to entering the block.\n",
      " |  \n",
      " |  ----------------------------------------------------------------------\n",
      " |  Static methods inherited from traitlets.traitlets.HasDescriptors:\n",
      " |  \n",
      " |  __new__(cls, *args, **kwargs)\n",
      " |      Create and return a new object.  See help(type) for accurate signature.\n",
      " |  \n",
      " |  ----------------------------------------------------------------------\n",
      " |  Data descriptors inherited from traitlets.traitlets.HasDescriptors:\n",
      " |  \n",
      " |  __dict__\n",
      " |      dictionary for instance variables (if defined)\n",
      " |  \n",
      " |  __weakref__\n",
      " |      list of weak references to the object (if defined)\n",
      "\n"
     ]
    }
   ],
   "source": [
    "# In any Python interpreter use:\n",
    "help(podpac.algorithm.Arithmetic)"
   ]
  }
 ],
 "metadata": {
  "celltoolbar": "Slideshow",
  "kernelspec": {
   "display_name": "Python 3",
   "language": "python",
   "name": "python3"
  },
  "language_info": {
   "codemirror_mode": {
    "name": "ipython",
    "version": 3
   },
   "file_extension": ".py",
   "mimetype": "text/x-python",
   "name": "python",
   "nbconvert_exporter": "python",
   "pygments_lexer": "ipython3",
   "version": "3.7.3"
  }
 },
 "nbformat": 4,
 "nbformat_minor": 4
}
