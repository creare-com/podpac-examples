{
 "cells": [
  {
   "cell_type": "markdown",
   "metadata": {},
   "source": [
    "# AWS Budgeting"
   ]
  },
  {
   "cell_type": "markdown",
   "metadata": {},
   "source": [
    "## Configuring Settings for AWS Budgeting\n",
    "\n",
    "To set up an AWS budget for PODPAC resources, set the `AWS_BUDGET_AMOUNT` and `AWS_BUDGET_EMAIL` settings:"
   ]
  },
  {
   "cell_type": "code",
   "execution_count": null,
   "metadata": {},
   "outputs": [],
   "source": [
    "import podpac\n",
    "from podpac import settings\n",
    "\n",
    "# configure budget settings\n",
    "settings[\"AWS_BUDGET_AMOUNT\"] = 10.0             # budget for all podpac AWS resources, in USD\n",
    "settings[\"AWS_BUDGET_EMAIL\"] = \"test@podpac.org\" # notification e-mail for budget alarm at 80% of Budget amount"
   ]
  },
  {
   "cell_type": "markdown",
   "metadata": {},
   "source": [
    "## Build AWS Node with budget\n",
    "\n",
    "PODPAC AWS manager will use `settings` as defaults when building/updating AWS resources."
   ]
  },
  {
   "cell_type": "code",
   "execution_count": null,
   "metadata": {},
   "outputs": [],
   "source": [
    "from podpac.managers import aws\n",
    "\n",
    "# create a Lambda Node (uses `settings` as defaults)\n",
    "node = aws.Lambda()\n",
    "\n",
    "# build function and all resources\n",
    "# This can take up to 15-20 seconds if all resources need to be created.\n",
    "# Note: if AWS resources already exist, POPDAC use these resources as is and will skip the generation of these resources.\n",
    "node.build()\n",
    "\n",
    "# view details of built resources\n",
    "node.describe()"
   ]
  },
  {
   "cell_type": "markdown",
   "metadata": {},
   "source": [
    "## Budget Tracking\n",
    "\n",
    "- Resource tracking is performed using the special tag `_podpac_resource_hash`, which needs to be added manually\n",
    "- You can use PODPAC to manage your budgets through Python, but you will need to manually add the cost allocation tags: https://console.aws.amazon.com/billing/home#/preferences/tags. This allows PODPAC to apply budgets specific Nodes independently.\n",
    "- See budget console: https://console.aws.amazon.com/billing/home?#/budgets\n",
    "- Budgets are updated **every 24 hours**, so it is still possible to over-spend in a single 24 hour period.\n",
    "- Budgets are **NOT** limits. You can happily exceed your budget with no throttling of resources.\n"
   ]
  },
  {
   "cell_type": "code",
   "execution_count": null,
   "metadata": {},
   "outputs": [],
   "source": [
    "aws.create_budget()"
   ]
  },
  {
   "cell_type": "markdown",
   "metadata": {},
   "source": [
    "## Run PODPAC Lambda Node"
   ]
  },
  {
   "cell_type": "markdown",
   "metadata": {},
   "source": [
    "### SinCoords Example\n",
    "\n",
    "This example wraps a `SinCoords` node, executes it on our Lambda function, and returns the output `UnitsDataArray`."
   ]
  },
  {
   "cell_type": "code",
   "execution_count": null,
   "metadata": {},
   "outputs": [],
   "source": [
    "import podpac\n",
    "from podpac import clinspace\n",
    "from podpac.managers import aws"
   ]
  },
  {
   "cell_type": "code",
   "execution_count": null,
   "metadata": {},
   "outputs": [],
   "source": [
    "sin_coords_node = podpac.algorithm.SinCoords()\n",
    "coordinates = podpac.Coordinates([clinspace(-90, 90, 180), clinspace(90,-90, 180), '2018-01-01'], ['lat', 'lon', 'time'])"
   ]
  },
  {
   "cell_type": "code",
   "execution_count": null,
   "metadata": {},
   "outputs": [],
   "source": [
    "node =  podpac.managers.aws.Lambda(source=sin_coords_node)\n",
    "output = node.eval(coordinates)\n",
    "output"
   ]
  },
  {
   "cell_type": "code",
   "execution_count": null,
   "metadata": {},
   "outputs": [],
   "source": [
    "output.plot()"
   ]
  }
 ],
 "metadata": {
  "kernelspec": {
   "display_name": "Python 3",
   "language": "python",
   "name": "python3"
  },
  "language_info": {
   "codemirror_mode": {
    "name": "ipython",
    "version": 3
   },
   "file_extension": ".py",
   "mimetype": "text/x-python",
   "name": "python",
   "nbconvert_exporter": "python",
   "pygments_lexer": "ipython3",
   "version": "3.7.6"
  }
 },
 "nbformat": 4,
 "nbformat_minor": 4
}
