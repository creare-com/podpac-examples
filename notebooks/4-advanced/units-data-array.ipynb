{
 "cells": [
  {
   "cell_type": "markdown",
   "metadata": {},
   "source": [
    "# UnitsDataArray"
   ]
  },
  {
   "cell_type": "markdown",
   "metadata": {},
   "source": [
    "This example shows how to use the UnitsDataArray object:\n",
    "\n",
    "* UnitsDataArray is the main ouput container for evaluated nodes in PODPAC.\n",
    "* UnitsDataArray is a wrapper around [xarray DataArray](http://xarray.pydata.org/en/stable/generated/xarray.DataArray.html)\n",
    "\n",
    "\n",
    "1. The first section shows the basic usage, which is similar to xarray.DataArray\n",
    "2. The second section shows the added functionality which includes units"
   ]
  },
  {
   "cell_type": "code",
   "execution_count": 1,
   "metadata": {},
   "outputs": [],
   "source": [
    "import numpy as np\n",
    "from podpac import Node, Coordinates"
   ]
  },
  {
   "cell_type": "markdown",
   "metadata": {},
   "source": [
    "## Basic Functionality"
   ]
  },
  {
   "cell_type": "code",
   "execution_count": 2,
   "metadata": {},
   "outputs": [
    {
     "data": {
      "text/html": [
       "<pre>&lt;xarray.UnitsDataArray (lat: 5, lon: 5)&gt;\n",
       "array([[0.89218815, 0.71263837, 0.54655294, 0.5175978 , 0.9255926 ],\n",
       "       [0.39639792, 0.85062516, 0.07064713, 0.4736673 , 0.37809422],\n",
       "       [0.44195749, 0.38167671, 0.31963097, 0.308999  , 0.08264872],\n",
       "       [0.28194459, 0.60218453, 0.39919466, 0.91418408, 0.35921793],\n",
       "       [0.42151865, 0.85371342, 0.75552109, 0.4697859 , 0.5852592 ]])\n",
       "Coordinates:\n",
       "  * lat      (lat) float64 -10.0 -5.0 0.0 5.0 10.0\n",
       "  * lon      (lon) float64 -10.0 -5.0 0.0 5.0 10.0\n",
       "Attributes:\n",
       "    layer_style:  &lt;podpac.core.style.Style object at 0x000002552D39B388&gt;\n",
       "    crs:          EPSG:4326</pre>"
      ],
      "text/plain": [
       "<xarray.UnitsDataArray (lat: 5, lon: 5)>\n",
       "array([[0.89218815, 0.71263837, 0.54655294, 0.5175978 , 0.9255926 ],\n",
       "       [0.39639792, 0.85062516, 0.07064713, 0.4736673 , 0.37809422],\n",
       "       [0.44195749, 0.38167671, 0.31963097, 0.308999  , 0.08264872],\n",
       "       [0.28194459, 0.60218453, 0.39919466, 0.91418408, 0.35921793],\n",
       "       [0.42151865, 0.85371342, 0.75552109, 0.4697859 , 0.5852592 ]])\n",
       "Coordinates:\n",
       "  * lat      (lat) float64 -10.0 -5.0 0.0 5.0 10.0\n",
       "  * lon      (lon) float64 -10.0 -5.0 0.0 5.0 10.0\n",
       "Attributes:\n",
       "    layer_style:  <podpac.core.style.Style object at 0x000002552D39B388>\n",
       "    crs:          EPSG:4326"
      ]
     },
     "execution_count": 2,
     "metadata": {},
     "output_type": "execute_result"
    }
   ],
   "source": [
    "# create an empty node, then use the convience method `create_output_array` to create\n",
    "# an output array with data at specific Coordinates\n",
    "node = Node()\n",
    "data = np.random.rand(5, 5)\n",
    "coords = Coordinates([np.linspace(-10, 10, 5), np.linspace(-10, 10, 5)], ['lat', 'lon'])\n",
    "units_data_array = node.create_output_array(coords, data=data)\n",
    "\n",
    "units_data_array"
   ]
  },
  {
   "cell_type": "code",
   "execution_count": 3,
   "metadata": {},
   "outputs": [
    {
     "data": {
      "text/plain": [
       "array([[0.89218815, 0.71263837, 0.54655294, 0.5175978 , 0.9255926 ],\n",
       "       [0.39639792, 0.85062516, 0.07064713, 0.4736673 , 0.37809422],\n",
       "       [0.44195749, 0.38167671, 0.31963097, 0.308999  , 0.08264872],\n",
       "       [0.28194459, 0.60218453, 0.39919466, 0.91418408, 0.35921793],\n",
       "       [0.42151865, 0.85371342, 0.75552109, 0.4697859 , 0.5852592 ]])"
      ]
     },
     "execution_count": 3,
     "metadata": {},
     "output_type": "execute_result"
    }
   ],
   "source": [
    "# get data values\n",
    "units_data_array.values\n",
    "\n",
    "# or equivalently\n",
    "# units_data_array.data"
   ]
  },
  {
   "cell_type": "code",
   "execution_count": 4,
   "metadata": {},
   "outputs": [
    {
     "data": {
      "text/html": [
       "<pre>&lt;xarray.UnitsDataArray (lon: 5)&gt;\n",
       "array([0.89218815, 0.71263837, 0.54655294, 0.5175978 , 0.9255926 ])\n",
       "Coordinates:\n",
       "    lat      float64 -10.0\n",
       "  * lon      (lon) float64 -10.0 -5.0 0.0 5.0 10.0\n",
       "Attributes:\n",
       "    layer_style:  &lt;podpac.core.style.Style object at 0x000002552D39B388&gt;\n",
       "    crs:          EPSG:4326</pre>"
      ],
      "text/plain": [
       "<xarray.UnitsDataArray (lon: 5)>\n",
       "array([0.89218815, 0.71263837, 0.54655294, 0.5175978 , 0.9255926 ])\n",
       "Coordinates:\n",
       "    lat      float64 -10.0\n",
       "  * lon      (lon) float64 -10.0 -5.0 0.0 5.0 10.0\n",
       "Attributes:\n",
       "    layer_style:  <podpac.core.style.Style object at 0x000002552D39B388>\n",
       "    crs:          EPSG:4326"
      ]
     },
     "execution_count": 4,
     "metadata": {},
     "output_type": "execute_result"
    }
   ],
   "source": [
    "# get data values by coordinate value\n",
    "units_data_array.loc[-10]"
   ]
  },
  {
   "cell_type": "code",
   "execution_count": 5,
   "metadata": {},
   "outputs": [
    {
     "name": "stdout",
     "output_type": "stream",
     "text": [
      "<class 'xarray.core.coordinates.DataArrayCoordinates'>\n"
     ]
    },
    {
     "data": {
      "text/plain": [
       "Coordinates:\n",
       "  * lat      (lat) float64 -10.0 -5.0 0.0 5.0 10.0\n",
       "  * lon      (lon) float64 -10.0 -5.0 0.0 5.0 10.0"
      ]
     },
     "execution_count": 5,
     "metadata": {},
     "output_type": "execute_result"
    }
   ],
   "source": [
    "# get xarray coordinates\n",
    "print(type(units_data_array.coords))\n",
    "units_data_array.coords"
   ]
  },
  {
   "cell_type": "code",
   "execution_count": 6,
   "metadata": {},
   "outputs": [
    {
     "data": {
      "text/html": [
       "<pre>&lt;xarray.UnitsDataArray &#x27;lat&#x27; (lat: 5)&gt;\n",
       "array([-10.,  -5.,   0.,   5.,  10.])\n",
       "Coordinates:\n",
       "  * lat      (lat) float64 -10.0 -5.0 0.0 5.0 10.0</pre>"
      ],
      "text/plain": [
       "<xarray.UnitsDataArray 'lat' (lat: 5)>\n",
       "array([-10.,  -5.,   0.,   5.,  10.])\n",
       "Coordinates:\n",
       "  * lat      (lat) float64 -10.0 -5.0 0.0 5.0 10.0"
      ]
     },
     "execution_count": 6,
     "metadata": {},
     "output_type": "execute_result"
    }
   ],
   "source": [
    "# get individual xarray coordinates\n",
    "units_data_array.coords['lat']\n",
    "\n",
    "# or equivalently:\n",
    "# units_data_array['lat']"
   ]
  },
  {
   "cell_type": "code",
   "execution_count": 7,
   "metadata": {},
   "outputs": [
    {
     "data": {
      "text/plain": [
       "array([-10.,  -5.,   0.,   5.,  10.])"
      ]
     },
     "execution_count": 7,
     "metadata": {},
     "output_type": "execute_result"
    }
   ],
   "source": [
    "# get individual xarray coordinate values\n",
    "units_data_array.coords['lat'].values\n",
    "\n",
    "# or equivalently:\n",
    "# units_data_array.coords['lat'].data\n",
    "# units_data_array['lat'].values\n",
    "# units_data_array['lat'].data"
   ]
  },
  {
   "cell_type": "code",
   "execution_count": 8,
   "metadata": {},
   "outputs": [
    {
     "data": {
      "text/plain": [
       "('lat', 'lon')"
      ]
     },
     "execution_count": 8,
     "metadata": {},
     "output_type": "execute_result"
    }
   ],
   "source": [
    "# get the dimensions of the DataArray\n",
    "units_data_array.dims"
   ]
  },
  {
   "cell_type": "markdown",
   "metadata": {},
   "source": [
    "### Stacked Coordinates"
   ]
  },
  {
   "cell_type": "code",
   "execution_count": 9,
   "metadata": {},
   "outputs": [
    {
     "data": {
      "text/html": [
       "<pre>&lt;xarray.UnitsDataArray (lat_lon: 5)&gt;\n",
       "array([0.05186409, 0.46529885, 0.61387435, 0.55846114, 0.29083946])\n",
       "Coordinates:\n",
       "  * lat_lon  (lat_lon) MultiIndex\n",
       "  - lat      (lat_lon) float64 -10.0 -5.0 0.0 5.0 10.0\n",
       "  - lon      (lat_lon) float64 -10.0 -5.0 0.0 5.0 10.0\n",
       "Attributes:\n",
       "    layer_style:  &lt;podpac.core.style.Style object at 0x000002552D3D9588&gt;\n",
       "    crs:          EPSG:4326</pre>"
      ],
      "text/plain": [
       "<xarray.UnitsDataArray (lat_lon: 5)>\n",
       "array([0.05186409, 0.46529885, 0.61387435, 0.55846114, 0.29083946])\n",
       "Coordinates:\n",
       "  * lat_lon  (lat_lon) MultiIndex\n",
       "  - lat      (lat_lon) float64 -10.0 -5.0 0.0 5.0 10.0\n",
       "  - lon      (lat_lon) float64 -10.0 -5.0 0.0 5.0 10.0\n",
       "Attributes:\n",
       "    layer_style:  <podpac.core.style.Style object at 0x000002552D3D9588>\n",
       "    crs:          EPSG:4326"
      ]
     },
     "execution_count": 9,
     "metadata": {},
     "output_type": "execute_result"
    }
   ],
   "source": [
    "# create an empty note, then use the convience method `create_output_array` to create\n",
    "# an output array with data at specific Coordinates\n",
    "node = Node()\n",
    "data = np.random.rand(5)\n",
    "coords = Coordinates([(np.linspace(-10, 10, 5), np.linspace(-10, 10, 5))], ['lat_lon'])\n",
    "\n",
    "units_data_array = node.create_output_array(coords, data=data)\n",
    "\n",
    "units_data_array"
   ]
  },
  {
   "cell_type": "code",
   "execution_count": 10,
   "metadata": {},
   "outputs": [
    {
     "name": "stdout",
     "output_type": "stream",
     "text": [
      "<class 'xarray.core.coordinates.DataArrayCoordinates'>\n"
     ]
    },
    {
     "data": {
      "text/plain": [
       "Coordinates:\n",
       "  * lat_lon  (lat_lon) MultiIndex\n",
       "  - lat      (lat_lon) float64 -10.0 -5.0 0.0 5.0 10.0\n",
       "  - lon      (lat_lon) float64 -10.0 -5.0 0.0 5.0 10.0"
      ]
     },
     "execution_count": 10,
     "metadata": {},
     "output_type": "execute_result"
    }
   ],
   "source": [
    "# get xarray coordinates\n",
    "print(type(units_data_array.coords))\n",
    "units_data_array.coords"
   ]
  },
  {
   "cell_type": "code",
   "execution_count": 11,
   "metadata": {},
   "outputs": [
    {
     "data": {
      "text/plain": [
       "('lat_lon',)"
      ]
     },
     "execution_count": 11,
     "metadata": {},
     "output_type": "execute_result"
    }
   ],
   "source": [
    "# get the dimensions of the DataArray\n",
    "units_data_array.dims"
   ]
  },
  {
   "cell_type": "markdown",
   "metadata": {},
   "source": [
    "## Added Functionality (Units)"
   ]
  },
  {
   "cell_type": "code",
   "execution_count": 13,
   "metadata": {},
   "outputs": [
    {
     "name": "stdout",
     "output_type": "stream",
     "text": [
      "<xarray.UnitsDataArray (lat: 1)>\n",
      "array([1.])\n",
      "Coordinates:\n",
      "  * lat      (lat) float64 0.0\n",
      "Attributes:\n",
      "    layer_style:  <podpac.core.style.Style object at 0x000002552D39B108>\n",
      "    crs:          EPSG:4326\n",
      "    units:        kilogram \n",
      "------------\n",
      " <xarray.UnitsDataArray (lat: 1)>\n",
      "array([1.])\n",
      "Coordinates:\n",
      "  * lat      (lat) float64 0.0\n",
      "Attributes:\n",
      "    layer_style:  <podpac.core.style.Style object at 0x000002552D39B1C8>\n",
      "    crs:          EPSG:4326\n",
      "    units:        pound\n"
     ]
    }
   ],
   "source": [
    "# Create Nodes to use the convience methods for making units data arrays\n",
    "kgs_node = Node(units='kg')\n",
    "lbs_node = Node(units='lbs')\n",
    "data = np.ones(1)\n",
    "coords = Coordinates([0], ['lat'])\n",
    "\n",
    "# Create units data arrays, each for meters and feet\n",
    "kgs = kgs_node.create_output_array(coords, data=data)\n",
    "lbs = lbs_node.create_output_array(coords, data=data)\n",
    "print (kgs, '\\n------------\\n', lbs)"
   ]
  },
  {
   "cell_type": "code",
   "execution_count": 14,
   "metadata": {},
   "outputs": [
    {
     "data": {
      "text/html": [
       "<pre>&lt;xarray.UnitsDataArray (lat: 1)&gt;\n",
       "array([1.45359237])\n",
       "Coordinates:\n",
       "  * lat      (lat) float64 0.0\n",
       "Attributes:\n",
       "    units:    kilogram</pre>"
      ],
      "text/plain": [
       "<xarray.UnitsDataArray (lat: 1)>\n",
       "array([1.45359237])\n",
       "Coordinates:\n",
       "  * lat      (lat) float64 0.0\n",
       "Attributes:\n",
       "    units:    kilogram"
      ]
     },
     "execution_count": 14,
     "metadata": {},
     "output_type": "execute_result"
    }
   ],
   "source": [
    "kgs + lbs"
   ]
  },
  {
   "cell_type": "code",
   "execution_count": 15,
   "metadata": {},
   "outputs": [
    {
     "data": {
      "text/html": [
       "<pre>&lt;xarray.UnitsDataArray (lat: 1)&gt;\n",
       "array([3.20462262])\n",
       "Coordinates:\n",
       "  * lat      (lat) float64 0.0\n",
       "Attributes:\n",
       "    units:    pound</pre>"
      ],
      "text/plain": [
       "<xarray.UnitsDataArray (lat: 1)>\n",
       "array([3.20462262])\n",
       "Coordinates:\n",
       "  * lat      (lat) float64 0.0\n",
       "Attributes:\n",
       "    units:    pound"
      ]
     },
     "execution_count": 15,
     "metadata": {},
     "output_type": "execute_result"
    }
   ],
   "source": [
    "# Note, order is important: the result here is in pounds instead of kilograms as above\n",
    "lbs + kgs"
   ]
  },
  {
   "cell_type": "code",
   "execution_count": 16,
   "metadata": {},
   "outputs": [
    {
     "data": {
      "text/html": [
       "<pre>&lt;xarray.UnitsDataArray (lat: 1)&gt;\n",
       "array([0.45359237])\n",
       "Coordinates:\n",
       "  * lat      (lat) float64 0.0\n",
       "Attributes:\n",
       "    units:    kg</pre>"
      ],
      "text/plain": [
       "<xarray.UnitsDataArray (lat: 1)>\n",
       "array([0.45359237])\n",
       "Coordinates:\n",
       "  * lat      (lat) float64 0.0\n",
       "Attributes:\n",
       "    units:    kg"
      ]
     },
     "execution_count": 16,
     "metadata": {},
     "output_type": "execute_result"
    }
   ],
   "source": [
    "# We can convert between the units\n",
    "lbs.to('kg')"
   ]
  },
  {
   "cell_type": "code",
   "execution_count": 17,
   "metadata": {},
   "outputs": [
    {
     "name": "stdout",
     "output_type": "stream",
     "text": [
      "Cannot convert from 'kilogram' ([mass]) to 'pound ** 2' ([mass] ** 2)\n"
     ]
    }
   ],
   "source": [
    "# Incorrect units results in an error\n",
    "try: \n",
    "    lbs ** 2 + kgs\n",
    "except Exception as e: \n",
    "    print(e)"
   ]
  },
  {
   "cell_type": "code",
   "execution_count": 18,
   "metadata": {},
   "outputs": [
    {
     "name": "stdout",
     "output_type": "stream",
     "text": [
      "<xarray.UnitsDataArray (lat: 1)>\n",
      "array([2.])\n",
      "Coordinates:\n",
      "  * lat      (lat) float64 0.0\n"
     ]
    }
   ],
   "source": [
    "# Unless your settings are such that unit checking is not enabled\n",
    "import podpac\n",
    "podpac.settings[\"ENABLE_UNITS\"] = False\n",
    "print (lbs **2 + kgs)\n",
    "podpac.settings[\"ENABLE_UNITS\"] = True"
   ]
  },
  {
   "cell_type": "code",
   "execution_count": 19,
   "metadata": {},
   "outputs": [
    {
     "data": {
      "text/html": [
       "<pre>&lt;xarray.UnitsDataArray ()&gt;\n",
       "array(1.)\n",
       "Attributes:\n",
       "    units:    kilogram</pre>"
      ],
      "text/plain": [
       "<xarray.UnitsDataArray ()>\n",
       "array(1.)\n",
       "Attributes:\n",
       "    units:    kilogram"
      ]
     },
     "execution_count": 19,
     "metadata": {},
     "output_type": "execute_result"
    }
   ],
   "source": [
    "# Units are also preserved over statistical operations\n",
    "kgs.min()"
   ]
  }
 ],
 "metadata": {
  "kernelspec": {
   "display_name": "Python 3",
   "language": "python",
   "name": "python3"
  },
  "language_info": {
   "codemirror_mode": {
    "name": "ipython",
    "version": 3
   },
   "file_extension": ".py",
   "mimetype": "text/x-python",
   "name": "python",
   "nbconvert_exporter": "python",
   "pygments_lexer": "ipython3",
   "version": "3.7.6"
  }
 },
 "nbformat": 4,
 "nbformat_minor": 4
}
