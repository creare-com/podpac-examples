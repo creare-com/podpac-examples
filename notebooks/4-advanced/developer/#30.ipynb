{
 "cells": [
  {
   "cell_type": "code",
   "execution_count": 2,
   "metadata": {},
   "outputs": [],
   "source": [
    "from podpac import Coordinates, clinspace\n",
    "from podpac.data import Array\n",
    "import numpy as np\n",
    "\n",
    "class A(Array):\n",
    "    source = np.arange(10000).reshape(100, 100)\n",
    "\n",
    "    def get_native_coordinates(self):\n",
    "        return Coordinates([clinspace(-25, 25, 100), clinspace(-25, 25, 100)], ['lat', 'lon'])\n",
    "\n",
    "a = A()\n",
    "coords = Coordinates([clinspace(0, 10, 80), clinspace(0, 10, 80)], ['lat', 'lon'])\n",
    "out = a.eval(coords)"
   ]
  },
  {
   "cell_type": "code",
   "execution_count": 3,
   "metadata": {},
   "outputs": [
    {
     "data": {
      "text/plain": [
       "<xarray.UnitsDataArray (lat: 80, lon: 80)>\n",
       "array([[  nan,   nan,   nan, ...,   nan,   nan,   nan],\n",
       "       [  nan, 5050., 5050., ..., 5069., 5069.,   nan],\n",
       "       [  nan, 5050., 5050., ..., 5069., 5069.,   nan],\n",
       "       ...,\n",
       "       [  nan, 6950., 6950., ..., 6969., 6969.,   nan],\n",
       "       [  nan, 6950., 6950., ..., 6969., 6969.,   nan],\n",
       "       [  nan,   nan,   nan, ...,   nan,   nan,   nan]])\n",
       "Coordinates:\n",
       "  * lat      (lat) float64 0.0 0.1266 0.2532 0.3797 0.5063 0.6329 0.7595 ...\n",
       "  * lon      (lon) float64 0.0 0.1266 0.2532 0.3797 0.5063 0.6329 0.7595 ...\n",
       "Attributes:\n",
       "    layer_style:  <podpac.core.style.Style object at 0x000000000D154F28>\n",
       "    units:        None"
      ]
     },
     "execution_count": 3,
     "metadata": {},
     "output_type": "execute_result"
    }
   ],
   "source": [
    "out"
   ]
  }
 ],
 "metadata": {
  "kernelspec": {
   "display_name": "Python 3",
   "language": "python",
   "name": "python3"
  },
  "language_info": {
   "codemirror_mode": {
    "name": "ipython",
    "version": 3
   },
   "file_extension": ".py",
   "mimetype": "text/x-python",
   "name": "python",
   "nbconvert_exporter": "python",
   "pygments_lexer": "ipython3",
   "version": "3.6.4"
  }
 },
 "nbformat": 4,
 "nbformat_minor": 2
}
