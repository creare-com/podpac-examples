{
 "cells": [
  {
   "cell_type": "markdown",
   "metadata": {},
   "source": [
    "## Interpolation Examples"
   ]
  },
  {
   "cell_type": "code",
   "execution_count": 1,
   "metadata": {},
   "outputs": [],
   "source": [
    "import numpy as np\n",
    "from traitlets import TraitError\n",
    "\n",
    "import podpac.settings\n",
    "from podpac.core import data\n",
    "from podpac.core.units import UnitsDataArray\n",
    "from podpac.core.data.interpolate import Interpolation\n",
    "from podpac.core.data.datasource import COMMON_DATA_DOC, DataSource\n",
    "from podpac.core.node import COMMON_NODE_DOC, Node\n",
    "from podpac.core.data.types import Array, PyDAP, Rasterio, WCS, ReprojectedSource, S3\n",
    "from podpac.core.coordinates import Coordinates, clinspace\n",
    "\n",
    "from collections import OrderedDict"
   ]
  },
  {
   "cell_type": "code",
   "execution_count": 26,
   "metadata": {},
   "outputs": [],
   "source": [
    "a = OrderedDict({\n",
    "    'lat': 'tes',\n",
    "    'lon': 'tesgd'\n",
    "})"
   ]
  },
  {
   "cell_type": "code",
   "execution_count": 27,
   "metadata": {},
   "outputs": [
    {
     "data": {
      "text/plain": [
       "odict_keys(['lat', 'lon'])"
      ]
     },
     "execution_count": 27,
     "metadata": {},
     "output_type": "execute_result"
    }
   ],
   "source": [
    "a.k"
   ]
  },
  {
   "cell_type": "code",
   "execution_count": 30,
   "metadata": {},
   "outputs": [
    {
     "data": {
      "text/plain": [
       "()"
      ]
     },
     "execution_count": 30,
     "metadata": {},
     "output_type": "execute_result"
    }
   ],
   "source": [
    "   \n",
    "a = set((1,2,3)) - set((1,2,3,4))\n",
    "tuple(a)"
   ]
  },
  {
   "cell_type": "code",
   "execution_count": 2,
   "metadata": {},
   "outputs": [],
   "source": [
    "source = np.random.rand(11, 11, 4)   # mocked from pydap endpoint\n",
    "coordinates = Coordinates([clinspace(-25, 25, 11), clinspace(-25, 25, 11), [0,1,2,3]], ['lat', 'lon', 'time'])\n",
    "\n",
    "node = Array(source=source, native_coordinates=coordinates, interpolation={\n",
    "    'alt':'nearest'\n",
    "    ('lat', 'lon', 'alt'): 'nearest'\n",
    "    'time': 'nearest'\n",
    "})\n",
    "\n",
    "Interpolation('nearest')\n",
    "             \n",
    "    ('lat', 'lon', 'time', 'alt'): Nearest\n",
    "   \n",
    "             \n",
    "int = Interpliation(...)\n",
    "node = Array(source=source, native_coordinates=coordinates, interpolation=int)\n",
    "\n",
    "Interpolation(definition).interpolate()\n",
    "             \n",
    "\n",
    "node = Array(source=source, native_coordinates=coordinates, interpolation={\n",
    "    ('lat', 'lon'): 'nearest',\n",
    "    'lat': Nearest,\n",
    "    'lon': Nearest,\n",
    "    \n",
    "    'time': 'nearest'\n",
    "})\n",
    "\n",
    "node = Array(source=source, native_coordinates=coordinates, interpolation=([],[]))"
   ]
  },
  {
   "cell_type": "code",
   "execution_count": 3,
   "metadata": {},
   "outputs": [],
   "source": [
    "source = np.random.rand(6, 4)   # mocked from pydap endpoint\n",
    "coordinates = Coordinates([([-10,-8,-6,-4,-2,0], [-10,-8,-6,-4,-2,0]), [0,1,2,3]], ['lat_lon', 'time'])\n",
    "\n",
    "stacked = Array(source=source, native_coordinates=coordinates)"
   ]
  },
  {
   "cell_type": "code",
   "execution_count": 5,
   "metadata": {},
   "outputs": [
    {
     "data": {
      "text/plain": [
       "{('lat', 'lon'): 'bilinear', 'time': 'nearest'}"
      ]
     },
     "execution_count": 5,
     "metadata": {},
     "output_type": "execute_result"
    }
   ],
   "source": [
    "node.interpolation"
   ]
  },
  {
   "cell_type": "code",
   "execution_count": 6,
   "metadata": {},
   "outputs": [
    {
     "ename": "NotImplementedError",
     "evalue": "",
     "output_type": "error",
     "traceback": [
      "\u001b[0;31m---------------------------------------------------------------------------\u001b[0m",
      "\u001b[0;31mNotImplementedError\u001b[0m                       Traceback (most recent call last)",
      "\u001b[0;32m<ipython-input-6-761149cc2727>\u001b[0m in \u001b[0;36m<module>\u001b[0;34m()\u001b[0m\n\u001b[0;32m----> 1\u001b[0;31m \u001b[0mnode\u001b[0m\u001b[0;34m.\u001b[0m\u001b[0mexecute\u001b[0m\u001b[0;34m(\u001b[0m\u001b[0mnode\u001b[0m\u001b[0;34m.\u001b[0m\u001b[0mnative_coordinates\u001b[0m\u001b[0;34m)\u001b[0m\u001b[0;34m\u001b[0m\u001b[0m\n\u001b[0m",
      "\u001b[0;32m~/computing/repositories/geospatial/podpac/podpac/core/data/datasource.py\u001b[0m in \u001b[0;36mexecute\u001b[0;34m(self, coordinates, output, method)\u001b[0m\n\u001b[1;32m    279\u001b[0m             self._interpolation.select_coordinates(self.requested_coordinates,\n\u001b[1;32m    280\u001b[0m                                                    \u001b[0mself\u001b[0m\u001b[0;34m.\u001b[0m\u001b[0mrequested_source_coordinates\u001b[0m\u001b[0;34m,\u001b[0m\u001b[0;34m\u001b[0m\u001b[0m\n\u001b[0;32m--> 281\u001b[0;31m                                                    self.requested_source_coordinates_index)\n\u001b[0m\u001b[1;32m    282\u001b[0m \u001b[0;34m\u001b[0m\u001b[0m\n\u001b[1;32m    283\u001b[0m         \u001b[0;31m# get data from data source\u001b[0m\u001b[0;34m\u001b[0m\u001b[0;34m\u001b[0m\u001b[0m\n",
      "\u001b[0;32m~/computing/repositories/geospatial/podpac/podpac/core/data/interpolate.py\u001b[0m in \u001b[0;36mselect_coordinates\u001b[0;34m(self, requested_coordinates, source_coordinates, source_coordinates_index)\u001b[0m\n\u001b[1;32m    619\u001b[0m                                                                                        \u001b[0mrequested_coordinates\u001b[0m\u001b[0;34m,\u001b[0m\u001b[0;34m\u001b[0m\u001b[0m\n\u001b[1;32m    620\u001b[0m                                                                                        \u001b[0mselected_coords\u001b[0m\u001b[0;34m,\u001b[0m\u001b[0;34m\u001b[0m\u001b[0m\n\u001b[0;32m--> 621\u001b[0;31m                                                                                        selected_coords_idx)\n\u001b[0m\u001b[1;32m    622\u001b[0m \u001b[0;34m\u001b[0m\u001b[0m\n\u001b[1;32m    623\u001b[0m         \u001b[0;32mreturn\u001b[0m \u001b[0mselected_coords\u001b[0m\u001b[0;34m,\u001b[0m \u001b[0mselected_coords_idx\u001b[0m\u001b[0;34m\u001b[0m\u001b[0m\n",
      "\u001b[0;32m~/computing/repositories/geospatial/podpac/podpac/core/data/interpolate.py\u001b[0m in \u001b[0;36mselect_coordinates\u001b[0;34m(self, udims, requested_coordinates, source_coordinates, source_coordinates_index)\u001b[0m\n\u001b[1;32m    157\u001b[0m         \u001b[0mNotImplementedError\u001b[0m\u001b[0;34m\u001b[0m\u001b[0m\n\u001b[1;32m    158\u001b[0m         \"\"\"\n\u001b[0;32m--> 159\u001b[0;31m         \u001b[0;32mraise\u001b[0m \u001b[0mNotImplementedError\u001b[0m\u001b[0;34m\u001b[0m\u001b[0m\n\u001b[0m\u001b[1;32m    160\u001b[0m \u001b[0;34m\u001b[0m\u001b[0m\n\u001b[1;32m    161\u001b[0m     \u001b[0;32mdef\u001b[0m \u001b[0mcan_interpolate\u001b[0m\u001b[0;34m(\u001b[0m\u001b[0mself\u001b[0m\u001b[0;34m,\u001b[0m \u001b[0mudims\u001b[0m\u001b[0;34m,\u001b[0m \u001b[0mrequested_coordinates\u001b[0m\u001b[0;34m,\u001b[0m \u001b[0msource_coordinates\u001b[0m\u001b[0;34m)\u001b[0m\u001b[0;34m:\u001b[0m\u001b[0;34m\u001b[0m\u001b[0m\n",
      "\u001b[0;31mNotImplementedError\u001b[0m: "
     ]
    }
   ],
   "source": [
    "node.execute(node.native_coordinates)"
   ]
  },
  {
   "cell_type": "code",
   "execution_count": 5,
   "metadata": {},
   "outputs": [
    {
     "data": {
      "text/plain": [
       "<xarray.UnitsDataArray (lat_lon: 6, time: 4)>\n",
       "array([[0.687249, 0.19673 , 0.460342, 0.930369],\n",
       "       [0.977578, 0.905544, 0.098004, 0.592449],\n",
       "       [0.98476 , 0.753916, 0.815648, 0.038473],\n",
       "       [0.832735, 0.925921, 0.154858, 0.684974],\n",
       "       [0.513063, 0.732512, 0.198674, 0.309628],\n",
       "       [0.939659, 0.371265, 0.271543, 0.782941]])\n",
       "Coordinates:\n",
       "  * lat_lon  (lat_lon) MultiIndex\n",
       "  - lat      (lat_lon) float64 -10.0 -8.0 -6.0 -4.0 -2.0 0.0\n",
       "  - lon      (lat_lon) float64 -10.0 -8.0 -6.0 -4.0 -2.0 0.0\n",
       "  * time     (time) float64 0.0 1.0 2.0 3.0\n",
       "Attributes:\n",
       "    layer_style:  <podpac.core.node.Style object at 0x1c22a644a8>"
      ]
     },
     "execution_count": 5,
     "metadata": {},
     "output_type": "execute_result"
    }
   ],
   "source": [
    "stacked.execute(stacked.native_coordinates)"
   ]
  },
  {
   "cell_type": "code",
   "execution_count": 6,
   "metadata": {},
   "outputs": [
    {
     "data": {
      "text/plain": [
       "<xarray.UnitsDataArray (lat_lon: 6, time: 4)>\n",
       "array([[0.88738 , 0.766287, 0.067674, 0.18009 ],\n",
       "       [0.88738 , 0.766287, 0.067674, 0.18009 ],\n",
       "       [0.771815, 0.449952, 0.300654, 0.28424 ],\n",
       "       [0.771815, 0.449952, 0.300654, 0.28424 ],\n",
       "       [0.610133, 0.674765, 0.097887, 0.278762],\n",
       "       [0.610133, 0.674765, 0.097887, 0.278762]])\n",
       "Coordinates:\n",
       "  * lat_lon  (lat_lon) MultiIndex\n",
       "  - lat      (lat_lon) float64 -10.0 -8.0 -6.0 -4.0 -2.0 0.0\n",
       "  - lon      (lat_lon) float64 -10.0 -8.0 -6.0 -4.0 -2.0 0.0\n",
       "  * time     (time) float64 0.0 1.0 2.0 3.0\n",
       "Attributes:\n",
       "    layer_style:  <podpac.core.node.Style object at 0x112e60fd0>"
      ]
     },
     "execution_count": 6,
     "metadata": {},
     "output_type": "execute_result"
    }
   ],
   "source": [
    "node.execute(stacked.native_coordinates)"
   ]
  },
  {
   "cell_type": "code",
   "execution_count": 7,
   "metadata": {},
   "outputs": [
    {
     "data": {
      "text/plain": [
       "'nearest'"
      ]
     },
     "execution_count": 7,
     "metadata": {},
     "output_type": "execute_result"
    }
   ],
   "source": [
    "node.interpolation"
   ]
  },
  {
   "cell_type": "code",
   "execution_count": 8,
   "metadata": {},
   "outputs": [
    {
     "data": {
      "text/plain": [
       "Interpolation\n",
       "\t('lat', 'lon', 'time'): (nearest, ['NearestNeighbor'])"
      ]
     },
     "execution_count": 8,
     "metadata": {},
     "output_type": "execute_result"
    }
   ],
   "source": [
    "node._interpolation"
   ]
  },
  {
   "cell_type": "code",
   "execution_count": null,
   "metadata": {},
   "outputs": [],
   "source": [
    "node.execute(stacked.native_coordinates)\n",
    "\n",
    "# if time is anywhere in the udim tuple keys, run that method first\n",
    "# enter the first \"Interpolator\" for a given set of udims"
   ]
  },
  {
   "cell_type": "code",
   "execution_count": 7,
   "metadata": {},
   "outputs": [
    {
     "name": "stdout",
     "output_type": "stream",
     "text": [
      "('lat', 'lon')\n",
      "time\n"
     ]
    }
   ],
   "source": [
    "a = {\n",
    "    ('lat', 'lon'): 'bilinear',\n",
    "    'time': 'nearest'\n",
    "}\n",
    "for udims in iter(a):\n",
    "    print(udims)"
   ]
  },
  {
   "cell_type": "code",
   "execution_count": 2,
   "metadata": {},
   "outputs": [
    {
     "ename": "SyntaxError",
     "evalue": "invalid syntax (<ipython-input-2-f4f4c8203def>, line 8)",
     "output_type": "error",
     "traceback": [
      "\u001b[0;36m  File \u001b[0;32m\"<ipython-input-2-f4f4c8203def>\"\u001b[0;36m, line \u001b[0;32m8\u001b[0m\n\u001b[0;31m    }, params = {olerance=5)\u001b[0m\n\u001b[0m                         ^\u001b[0m\n\u001b[0;31mSyntaxError\u001b[0m\u001b[0;31m:\u001b[0m invalid syntax\n"
     ]
    }
   ],
   "source": [
    "stacked.interpolation = {\n",
    "    ('lat', 'lon'): 'nearest',\n",
    "    'time': 'bilinear'\n",
    "}\n",
    "\n",
    "stacked_interpolation = Interpolation({\n",
    "    ('lat', 'lon'): 'nearest',\n",
    "    'time': 'bilinear'\n",
    "}, params = {\n",
    "    'nearest': {\n",
    "        'tolerance': 5\n",
    "    })\n",
    "\n",
    "stacked.interpolation = stacked_interpolation\n",
    "\n",
    "\n",
    "stacked.interpolation = {\n",
    "    ('lat', 'lon'): {\n",
    "        'method': 'nearest',\n",
    "        'interpolators': [],\n",
    "        'params': {\n",
    "            'tolerance': 5\n",
    "        }\n",
    "    },\n",
    "    'time': 'bilinear'\n",
    "}\n",
    "\n",
    "stacked.interpolation = {\n",
    "    ('lat', 'lon'): \n",
    "    'time': 'bilinear'\n",
    "}"
   ]
  },
  {
   "cell_type": "code",
   "execution_count": 3,
   "metadata": {},
   "outputs": [],
   "source": [
    "from collections import OrderedDict"
   ]
  },
  {
   "cell_type": "code",
   "execution_count": 5,
   "metadata": {},
   "outputs": [
    {
     "data": {
      "text/plain": [
       "OrderedDict([('a', 1)])"
      ]
     },
     "execution_count": 5,
     "metadata": {},
     "output_type": "execute_result"
    }
   ],
   "source": [
    "OrderedDict({'a':1})"
   ]
  },
  {
   "cell_type": "code",
   "execution_count": 6,
   "metadata": {},
   "outputs": [
    {
     "data": {
      "text/plain": [
       "{'a'}"
      ]
     },
     "execution_count": 6,
     "metadata": {},
     "output_type": "execute_result"
    }
   ],
   "source": [
    "set('a')"
   ]
  },
  {
   "cell_type": "code",
   "execution_count": 12,
   "metadata": {},
   "outputs": [
    {
     "data": {
      "text/plain": [
       "True"
      ]
     },
     "execution_count": 12,
     "metadata": {},
     "output_type": "execute_result"
    }
   ],
   "source": [
    "('default',) == tuple(['default'])"
   ]
  },
  {
   "cell_type": "code",
   "execution_count": 10,
   "metadata": {},
   "outputs": [
    {
     "data": {
      "text/plain": [
       "('d', 'e', 'f', 'a', 'u', 'l', 't')"
      ]
     },
     "execution_count": 10,
     "metadata": {},
     "output_type": "execute_result"
    }
   ],
   "source": [
    "tuple('default')"
   ]
  },
  {
   "cell_type": "code",
   "execution_count": 17,
   "metadata": {},
   "outputs": [],
   "source": [
    "a = {\n",
    "    ('a', 'b'):5,\n",
    "    ('c',):3\n",
    "}\n",
    "\n",
    "i = ('e','d')\n",
    "for d in iter(a):\n",
    "    if set(d) & set(i):\n",
    "        print('hello')"
   ]
  },
  {
   "cell_type": "code",
   "execution_count": 1,
   "metadata": {},
   "outputs": [],
   "source": [
    "from podpac.core.data.interpolate import Interpolation"
   ]
  },
  {
   "cell_type": "code",
   "execution_count": 2,
   "metadata": {},
   "outputs": [
    {
     "name": "stdout",
     "output_type": "stream",
     "text": [
      "{'method': 'nearest', 'interpolators': [<podpac.core.data.interpolate.NearestNeighbor object at 0x1c1c13c748>], 'params': {'tolerance': 1}}\n"
     ]
    }
   ],
   "source": [
    "interp = Interpolation({\n",
    "    'default': {\n",
    "        'method': 'nearest',\n",
    "        'params': {\n",
    "            'tolerance':1\n",
    "        }\n",
    "    }\n",
    "})"
   ]
  },
  {
   "cell_type": "code",
   "execution_count": 11,
   "metadata": {},
   "outputs": [
    {
     "data": {
      "text/plain": [
       "1"
      ]
     },
     "execution_count": 11,
     "metadata": {},
     "output_type": "execute_result"
    }
   ],
   "source": [
    "interp._config[('default',)]['interpolators'][0].tolerance"
   ]
  },
  {
   "cell_type": "code",
   "execution_count": 4,
   "metadata": {},
   "outputs": [
    {
     "data": {
      "text/plain": [
       "Interpolation\n",
       "\t('default',): nearest, ['NearestNeighbor'], {'tolerance': 1}"
      ]
     },
     "execution_count": 4,
     "metadata": {},
     "output_type": "execute_result"
    }
   ],
   "source": [
    "interp"
   ]
  },
  {
   "cell_type": "code",
   "execution_count": null,
   "metadata": {},
   "outputs": [],
   "source": []
  }
 ],
 "metadata": {
  "kernelspec": {
   "display_name": "Python 3",
   "language": "python",
   "name": "python3"
  },
  "language_info": {
   "codemirror_mode": {
    "name": "ipython",
    "version": 3
   },
   "file_extension": ".py",
   "mimetype": "text/x-python",
   "name": "python",
   "nbconvert_exporter": "python",
   "pygments_lexer": "ipython3",
   "version": "3.6.5"
  }
 },
 "nbformat": 4,
 "nbformat_minor": 2
}
