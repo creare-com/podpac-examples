{
 "cells": [
  {
   "cell_type": "markdown",
   "metadata": {},
   "source": [
    "# Basic Python Introduction\n",
    "\n",
    "*Author: Creare* <br>\n",
    "*Date: April 01 2020* <br>\n",
    "\n",
    "**Keywords**: Python"
   ]
  },
  {
   "cell_type": "markdown",
   "metadata": {},
   "source": [
    "## Overview\n",
    "\n",
    "Basic Python languages features for new Python users."
   ]
  },
  {
   "cell_type": "markdown",
   "metadata": {},
   "source": [
    "### Prerequisites\n",
    "\n",
    "- Python 2.7 or above\n",
    "- *Review the [README.md](../../README.md) and [jupyter-tutorial.ipynb](../jupyter-tutorial.ipynb) for additional info on using jupyter notebooks*\n"
   ]
  },
  {
   "cell_type": "markdown",
   "metadata": {},
   "source": [
    "### See Also\n",
    "\n",
    "- [pass-by-reference-note.ipynb](pass-by-reference-note.ipynb): Notebook to describe Python's pass-by-reference behavior\n",
    "- [matlab.ipynb](matlab.ipynb): Introduction to Python for MATLAB users"
   ]
  },
  {
   "cell_type": "markdown",
   "metadata": {
    "slideshow": {
     "slide_type": "slide"
    }
   },
   "source": [
    "##  Languages features"
   ]
  },
  {
   "cell_type": "markdown",
   "metadata": {},
   "source": [
    "Python uses zero indexing"
   ]
  },
  {
   "cell_type": "code",
   "execution_count": 1,
   "metadata": {},
   "outputs": [
    {
     "data": {
      "text/plain": [
       "1"
      ]
     },
     "execution_count": 1,
     "metadata": {},
     "output_type": "execute_result"
    }
   ],
   "source": [
    "alist = [1, 2, 3, 4]\n",
    "alist[0] "
   ]
  },
  {
   "cell_type": "markdown",
   "metadata": {
    "slideshow": {
     "slide_type": "slide"
    }
   },
   "source": [
    "Python is typeless"
   ]
  },
  {
   "cell_type": "code",
   "execution_count": 2,
   "metadata": {},
   "outputs": [],
   "source": [
    "mytype = 'is now a string'  # variable mytype is a string\n",
    "mytype = 154147             # variable mytype is now an integer"
   ]
  },
  {
   "cell_type": "markdown",
   "metadata": {},
   "source": [
    "## Python Classes\n",
    "\n",
    "Python is object oriented, supporting class inheritance"
   ]
  },
  {
   "cell_type": "code",
   "execution_count": 3,
   "metadata": {},
   "outputs": [
    {
     "name": "stdout",
     "output_type": "stream",
     "text": [
      "The child has the parent's attributes (and methods):\n",
      "\t my_child_class.my_class_integer= 1\n",
      "\t my_child_class.my_class_list= [1]\n",
      "\t my_child_class.my_class_instance_list= None\n",
      "\t my_child_class.my_child_class_str= A string\n"
     ]
    }
   ],
   "source": [
    "# define a class\n",
    "class MyClass(object):  # Inherits from standard Python object (new-style classes)\n",
    "    my_class_integer = 0  # This is a class attributes, it will be copied for new instances\n",
    "    my_class_list = [1]   # This is a class attributes, it will be shared amongst instances\n",
    "    \n",
    "    # This is the class constructor\n",
    "    def __init__(self, my_class_instance_list=None):\n",
    "        self.my_class_instance_list = my_class_instance_list # This is an instance variable\n",
    "\n",
    "# Define a child class that inherits from MyClass\n",
    "class MyChildClass(MyClass): \n",
    "    my_child_class_str = 'A string'  # Add a new attribute\n",
    "    my_class_integer = 1  # Overwrite the value from the base class\n",
    "    \n",
    "# Create an instance of each class\n",
    "my_class = MyClass()\n",
    "my_child_class = MyChildClass()\n",
    "\n",
    "# Demonstrate the inheritence\n",
    "print(\"The child has the parent's attributes (and methods):\")\n",
    "print(\"\\t my_child_class.my_class_integer=\", my_child_class.my_class_integer)\n",
    "print(\"\\t my_child_class.my_class_list=\", my_child_class.my_class_list)\n",
    "print(\"\\t my_child_class.my_class_instance_list=\", my_child_class.my_class_instance_list)\n",
    "print(\"\\t my_child_class.my_child_class_str=\", my_child_class.my_child_class_str)"
   ]
  },
  {
   "cell_type": "markdown",
   "metadata": {
    "slideshow": {
     "slide_type": "slide"
    }
   },
   "source": [
    "Python passes by reference, sometimes...\n",
    "\n",
    "* Basic types are copied (int, float, str)\n",
    "* Container types are passed my reference (list, tuple, dict, object)\n",
    "    \n",
    "See the [pass-by-reference-note.ipynb](pass-by-reference-note.ipynb) for more details."
   ]
  }
 ],
 "metadata": {
  "kernelspec": {
   "display_name": "Python 3",
   "language": "python",
   "name": "python3"
  },
  "language_info": {
   "codemirror_mode": {
    "name": "ipython",
    "version": 3
   },
   "file_extension": ".py",
   "mimetype": "text/x-python",
   "name": "python",
   "nbconvert_exporter": "python",
   "pygments_lexer": "ipython3",
   "version": "3.7.7"
  },
  "widgets": {
   "application/vnd.jupyter.widget-state+json": {
    "state": {},
    "version_major": 2,
    "version_minor": 0
   }
  }
 },
 "nbformat": 4,
 "nbformat_minor": 4
}
