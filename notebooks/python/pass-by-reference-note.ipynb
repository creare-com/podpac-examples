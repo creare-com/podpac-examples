{
 "cells": [
  {
   "cell_type": "markdown",
   "metadata": {},
   "source": [
    "# Python Pass-by-reference Behavior\n",
    "\n",
    "*Author: Creare* <br>\n",
    "*Date: April 01 2020* <br>\n",
    "\n",
    "**Keywords**: Python"
   ]
  },
  {
   "cell_type": "markdown",
   "metadata": {},
   "source": [
    "## Overview\n",
    "\n",
    "This notebook describes Python's pass-by-reference behavior, which can be notably different from MATLAB, and can cause headaches for new users."
   ]
  },
  {
   "cell_type": "markdown",
   "metadata": {},
   "source": [
    "### Prerequisites\n",
    "\n",
    "- Python 2.7 or above\n",
    "- *Review the [README.md](../../README.md) and [jupyter-tutorial.ipynb](../jupyter-tutorial.ipynb) for additional info on using jupyter notebooks*\n"
   ]
  },
  {
   "cell_type": "markdown",
   "metadata": {},
   "source": [
    "### See Also\n",
    "\n",
    "- [basic-reference.ipynb](basic-reference.ipynb): Basic introduction to Python language features\n",
    "- [matlab.ipynb](matlab.ipynb): Introduction to Python for MATLAB users"
   ]
  },
  {
   "cell_type": "markdown",
   "metadata": {
    "slideshow": {
     "slide_type": "slide"
    }
   },
   "source": [
    "## Define Clases"
   ]
  },
  {
   "cell_type": "markdown",
   "metadata": {
    "slideshow": {
     "slide_type": "slide"
    }
   },
   "source": [
    "Let's define some example classes:"
   ]
  },
  {
   "cell_type": "code",
   "execution_count": 1,
   "metadata": {},
   "outputs": [],
   "source": [
    "# define a class\n",
    "class MyClass(object):  # Inherits from standard Python object (new-style classes)\n",
    "    my_integer = 0  # This is a class attributes, it will be copied for new instances\n",
    "    my_list = [1]   # This is a class attributes, it will be shared amongst instances\n",
    "    \n",
    "    # This is the class constructor\n",
    "    def __init__(self, my_instance_list=None):\n",
    "        self.my_instance_list = my_instance_list # This is an instance variable\n",
    "\n",
    "# Define a child class that inherits from MyClass\n",
    "class MyChildClass(MyClass): \n",
    "    my_child_str = 'A string'  # Add a new attribute\n",
    "    my_integer = 1  # Overwrite the value from the base class\n",
    "    \n",
    "# Create an instance of each class\n",
    "my_class = MyClass()\n",
    "my_child_class = MyChildClass()"
   ]
  },
  {
   "cell_type": "markdown",
   "metadata": {
    "slideshow": {
     "slide_type": "slide"
    }
   },
   "source": [
    "and lets define a helper function to print class attributes:"
   ]
  },
  {
   "cell_type": "code",
   "execution_count": 2,
   "metadata": {
    "slideshow": {
     "slide_type": "skip"
    }
   },
   "outputs": [],
   "source": [
    "# Define a helper-function to print all the attributes\n",
    "def print_attrs(MyClass, MyChildClass, my_class1, my_class2):\n",
    "    print('\\tMyClass.my_list: \\t\\t ', MyClass.my_list)\n",
    "    print('\\tMyChildClass.mys_list: \\t\\t ', MyChildClass.my_list)\n",
    "    print('\\tmy_class1.my_list: \\t\\t ', my_class1.my_list)\n",
    "    print('\\tmy_class2.my_list: \\t\\t ', my_class2.my_list)\n",
    "    print('\\tMyChildClass.my_integer:\\t  ', MyChildClass.my_integer)\n",
    "    print('\\tmy_class1.my_integer:\\t\\t  ', my_class1.my_integer)\n",
    "    print('\\tmy_class2.my_integer:\\t\\t  ', my_class2.my_integer)\n",
    "    print('\\tMyChildClass.my_child_str:\\t', MyChildClass.my_child_str)\n",
    "    print('\\tmy_class1.my_child_str:\\t\\t', my_class1.my_child_str)\n",
    "    print('\\tmy_class2.my_child_str:\\t\\t', my_class2.my_child_str)\n",
    "    print('\\tmy_class1.my_instance_list:\\t', my_class1.my_instance_list)\n",
    "    print('\\tmy_class2.my_instance_list:\\t', my_class2.my_instance_list)"
   ]
  },
  {
   "cell_type": "markdown",
   "metadata": {},
   "source": [
    "Python passes by reference, sometimes...\n",
    "\n",
    "* Basic types are copied (int, float, str)\n",
    "* Container types are passed my reference (list, tuple, dict, object)\n",
    "\n",
    "To demonstrate this, we create two instances of our class defined above and only change values in one instances. The **same** behavior can be observed for **functions**."
   ]
  },
  {
   "cell_type": "code",
   "execution_count": 3,
   "metadata": {
    "slideshow": {
     "slide_type": "slide"
    }
   },
   "outputs": [
    {
     "name": "stdout",
     "output_type": "stream",
     "text": [
      "Before modifying values in my_class1\n",
      "\tMyClass.my_list: \t\t  [1]\n",
      "\tMyChildClass.mys_list: \t\t  [1]\n",
      "\tmy_class1.my_list: \t\t  [1]\n",
      "\tmy_class2.my_list: \t\t  [1]\n",
      "\tMyChildClass.my_integer:\t   1\n",
      "\tmy_class1.my_integer:\t\t   1\n",
      "\tmy_class2.my_integer:\t\t   1\n",
      "\tMyChildClass.my_child_str:\t A string\n",
      "\tmy_class1.my_child_str:\t\t A string\n",
      "\tmy_class2.my_child_str:\t\t A string\n",
      "\tmy_class1.my_instance_list:\t [4444]\n",
      "\tmy_class2.my_instance_list:\t [4444]\n",
      "After modifying values in my_class1\n",
      "\tMyClass.my_list: \t\t  [1001]\n",
      "\tMyChildClass.mys_list: \t\t  [1001]\n",
      "\tmy_class1.my_list: \t\t  [1001]\n",
      "\tmy_class2.my_list: \t\t  [1001]\n",
      "\tMyChildClass.my_integer:\t   1\n",
      "\tmy_class1.my_integer:\t\t   1001\n",
      "\tmy_class2.my_integer:\t\t   1\n",
      "\tMyChildClass.my_child_str:\t A string\n",
      "\tmy_class1.my_child_str:\t\t A stringmodified \n",
      "\tmy_class2.my_child_str:\t\t A string\n",
      "\tmy_class1.my_instance_list:\t [5444]\n",
      "\tmy_class2.my_instance_list:\t [4444]\n"
     ]
    }
   ],
   "source": [
    "# Create two instances of the same class. Class attributes should be shared. Instance variables are copied. \n",
    "my_class1 = MyChildClass(my_instance_list=[4444])\n",
    "my_class2 = MyChildClass(my_instance_list=[4444])\n",
    "print('Before modifying values in my_class1')\n",
    "print_attrs(MyClass, MyChildClass, my_class1, my_class2)\n",
    "\n",
    "my_class1.my_list[0] += 1000; my_class1.my_instance_list[0] += 1000\n",
    "my_class1.my_integer += 1000; my_class1.my_child_str += \"modified \"\n",
    "\n",
    "print('After modifying values in my_class1')\n",
    "print_attrs(MyClass, MyChildClass, my_class1, my_class2)"
   ]
  },
  {
   "cell_type": "markdown",
   "metadata": {},
   "source": [
    "### Things to observe\n",
    "\n",
    "* We **ONLY** changed values in `my_class1`\n",
    "* Changing `my_list` **NOT ONLY** changed the value in `my_class2` (the other class instance), but **ALSO** in `MyClass` and `MyChildClass` (the class definitions)\n",
    "* Changing `my_integer` **ONLY** changed in `my_class1`\n",
    "* Changing `my_child_string` **ONLY** changed in `my_class`\n",
    "* changing `my_instance_list` **ONLY** changed in `my_class`"
   ]
  },
  {
   "cell_type": "markdown",
   "metadata": {},
   "source": [
    "## Another Gotcha for Functions\n",
    "\n",
    "When defining a default list for a function, that list is passed by reference!"
   ]
  },
  {
   "cell_type": "code",
   "execution_count": 4,
   "metadata": {},
   "outputs": [
    {
     "name": "stdout",
     "output_type": "stream",
     "text": [
      "We would expect l2=[], but it's actually: [1]\n"
     ]
    }
   ],
   "source": [
    "def f(l=[]):\n",
    "    return l\n",
    "l1 = f()\n",
    "l1.append(1)\n",
    "l2 = f()\n",
    "print (\"We would expect l2=[], but it's actually:\", l2)"
   ]
  }
 ],
 "metadata": {
  "kernelspec": {
   "display_name": "Python 3",
   "language": "python",
   "name": "python3"
  },
  "language_info": {
   "codemirror_mode": {
    "name": "ipython",
    "version": 3
   },
   "file_extension": ".py",
   "mimetype": "text/x-python",
   "name": "python",
   "nbconvert_exporter": "python",
   "pygments_lexer": "ipython3",
   "version": "3.7.7"
  },
  "widgets": {
   "application/vnd.jupyter.widget-state+json": {
    "state": {},
    "version_major": 2,
    "version_minor": 0
   }
  }
 },
 "nbformat": 4,
 "nbformat_minor": 4
}
